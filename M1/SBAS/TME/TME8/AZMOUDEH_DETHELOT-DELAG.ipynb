{
 "cells": [
  {
   "cell_type": "markdown",
   "metadata": {
    "id": "ZdkvgILA4JHh"
   },
   "source": [
    "<h1><b>Statistique en Bioinformatique : </b> TME8 </h1><br>\n",
    "\n",
    "L’objectif de ce TME est: \n",
    "<br>\n",
    "<ul>\n",
    "<li> Evaluer la performance des HMMs sur les homologues lointains </li> \n",
    "</ul>\n",
    "<br>\n",
    "<div class=\"alert alert-warning\" role=\"alert\" style=\"margin: 10px\">\n",
    "<p><b>Soumission</b></p>\n",
    "<ul>\n",
    "<li>Renomer le fichier TME8.ipynb pour NomEtudiant1_NomEtudiant2.ipynb </li>\n",
    "<li>Soumettre via moodle </li>\n",
    "</div>\n",
    "</div>\n"
   ]
  },
  {
   "cell_type": "markdown",
   "metadata": {},
   "source": [
    "Nom etudiant 1 : Anastasia AZMOUDEH\n",
    "<br> \n",
    "Nom etudiant 2 : Késia DETHELOT-DELAG \n",
    "<br> "
   ]
  },
  {
   "cell_type": "markdown",
   "metadata": {
    "id": "UmRBFyGR4JHm"
   },
   "source": [
    "<h2> Datasets </h2><br>\n",
    "To evaluate the performance of HMMer over remote homologous proteins, we will work with datasets scop-95 and scop-30 having at most 95 and 30% of sequence identity, respectivelly.  We will use a leave-one-out strategy as follows. Given a scop family $F$ in one of the scop datasets, we consider the set of $n$ sequences associated to $F$, to create $n$ test-sets for $F$. Each test-set takes $n−1$ sequences for training and leaves one sequence out for the test. Then, we test whether the sequence that was left out could be annotated by a HMMer profile constructed without using it, and count the correct identification of the domain as a true positive (TP), the identification of an erroneous domain as a false positive (FP) and the identification of no domain as a false negative (FN). For each scop dataset you can find the directory `aln` that contains the alignment for each testsets in STOCKHOLM format, extension .sto"
   ]
  },
  {
   "cell_type": "markdown",
   "metadata": {
    "id": "mlYqLoTH4JHn"
   },
   "source": [
    "For scop-95 dataset do:"
   ]
  },
  {
   "cell_type": "markdown",
   "metadata": {
    "id": "TcUwryMI4JHo"
   },
   "source": [
    "1\\. Create pHMMs from the alignments in `aln/*.sto`. Use the program `hmmbuild` from the HMMer-3 package. Save models  in a directory named models. You have two options (1) do your script in python or (2) in bash script and run it in the terminal.\n",
    "To  built models with python you can use `os.system` to execute hmmbuild program.\n",
    "Anyway, put your code bellow."
   ]
  },
  {
   "cell_type": "code",
   "execution_count": 1,
   "metadata": {
    "id": "eMfsKe2M4JHo"
   },
   "outputs": [],
   "source": [
    "import numpy as np\n",
    "import os\n",
    "from os import listdir,system,makedirs\n",
    "from os.path import isfile,join,exists\n",
    "from shutil import rmtree\n",
    "import matplotlib.pyplot as plt"
   ]
  },
  {
   "cell_type": "code",
   "execution_count": 2,
   "metadata": {
    "id": "f0Hs8ilp4JHq"
   },
   "outputs": [],
   "source": [
    "# # see run.sh\n",
    "# import subprocess\n",
    "# subprocess.call('run.sh',)\n",
    "\n",
    "\n",
    "# exécuté dans le terminal \n",
    "#bash run.sh\n",
    "\n",
    "# number of aln 789\n",
    "# number of models 789"
   ]
  },
  {
   "cell_type": "markdown",
   "metadata": {
    "id": "CsmzFMty4JHr"
   },
   "source": [
    "2\\. Search all sequences in the file `scopTestSeq.fasta` against all models created previously. Use `hmmsearch` and the option `--domtblout` to save parseable table of per-domain hits to file, use option `-E 1`. Save the outputs in a directory named `searchResults/`. You have two options (1) do your script in python or (2) in bash script and run it in the terminal.\n",
    "To  built models with python you can use `os.system` to execute hmmsearch program.\n",
    "Anyway, put your code bellow."
   ]
  },
  {
   "cell_type": "code",
   "execution_count": 3,
   "metadata": {
    "id": "oHulHb154JHs"
   },
   "outputs": [],
   "source": [
    "#see search.sh\n",
    "\n",
    "# exécuté dans le terminal \n",
    "# bash search.sh\n",
    "\n",
    "# number of aln 789\n",
    "# number of models 789\n",
    "\n",
    "#hmmsearch --domtblout result.domtb -E 1 hmmModels95 scop/scopTestSeq.fasta > /dev/null"
   ]
  },
  {
   "cell_type": "markdown",
   "metadata": {
    "id": "8mtG84Mw4JHu"
   },
   "source": [
    "3\\. Concat all search results, rank the sequences and remove all hits having same family and different proteinID. Consider just the best hit per sequence."
   ]
  },
  {
   "cell_type": "markdown",
   "metadata": {
    "id": "0FT9iFun4JHv"
   },
   "source": [
    "```bash\n",
    "# the following bash commands illustrate a way to concatenate and format the output of hmmsearch\n",
    "# hmmsearch results are assumed to be in the current directory and in files with extension .out\n",
    "cat *.out > allRes.txt\n",
    "sed '/^#/d' allRes.txt > allRes.txt.ftt\n",
    "cat allRes.txt.ftt | awk '{print $1\" \"$4\" \"$12}' > allRes.txt.ftt.2\n",
    "sed -i -e 's/\\.aln//g' allRes.txt.ftt.2\n",
    "mv allRes.txt.ftt.2 allRes.txt.ftt\n",
    "```"
   ]
  },
  {
   "cell_type": "code",
   "execution_count": 4,
   "metadata": {
    "id": "0PI0-whR4JHv"
   },
   "outputs": [
    {
     "name": "stdout",
     "output_type": "stream",
     "text": [
      "None\n"
     ]
    }
   ],
   "source": [
    "#Filter the best hit four each test sequence, you can produce a table with\n",
    "#sequenceID, correct family, predicted family\n",
    "\n",
    "def removeWrongLines(nom):\n",
    "    infile=open(nom, 'r')\n",
    "    outfile=open(nom + \".tmp\", 'w')\n",
    "    A=infile.readlines()\n",
    "    rep = \"\"\n",
    "    cpt=0\n",
    "    for ligne in A :\n",
    "        if ligne[0] != \"#\": \n",
    "            tab=ligne.split()\n",
    "            prot = tab[0]; protqid = prot[0:7]; protqfa = prot[7:]\n",
    "            prot = tab[1]; protmid = prot[0:7]; protmfa = prot[7:]\n",
    "            if (protqfa != protmfa) :\n",
    "                rep= rep + ligne\n",
    "            elif (protqid == protmid):\n",
    "                rep= rep + ligne\n",
    "    outfile.write(rep)\n",
    "    outfile.close()\n",
    "    infile.close()\n",
    " \n",
    "################################################\n",
    "def removeDupLines(nom):\n",
    "    infile=open(nom, 'r')\n",
    "    A=infile.readlines()\n",
    "    rep = {}\n",
    "    lrep = []\n",
    "    cpt=0\n",
    "    for ligne in A :\n",
    "        tab=ligne.split()\n",
    "        prot = tab[0]; protqid = prot[0:7]; protqfa = prot[7:]\n",
    "        prot = tab[1]; protmid = prot[0:7]; protmfa = prot[7:]\n",
    "        evalue = float(tab[2])\n",
    "        l=[]\n",
    "        if protqid not in rep.keys():\n",
    "            l.append(protqid); l.append(protqfa); l.append(protmid); l.append(protmfa); l.append(evalue);\n",
    "        else:\n",
    "            c = rep[protqid]\n",
    "            #print c\n",
    "            if (evalue < c[4]):\n",
    "                l.append(protqid);l.append(protqfa); l.append(protmid); l.append(protmfa); l.append(evalue);\n",
    "            else:\n",
    "                l = c\n",
    "        rep[protqid] = l\n",
    "    \n",
    "    for key in rep:\n",
    "        lrep.append(rep[key])\n",
    "    return lrep\n",
    "\n",
    "file = \"searchResults95/allRes.txt.ftt\"\n",
    "removeWrongLines(file)\n",
    "print(removeWrongLines(file))\n",
    "rep = removeDupLines(file + \".tmp\")\n",
    "# print(rep)\n"
   ]
  },
  {
   "cell_type": "markdown",
   "metadata": {
    "id": "yjkfA1di4JHw"
   },
   "source": [
    "4\\. Compute the performance. If a test sequence is better scored by the model associated to its family it is a true positive (TP). If it is scored by a different model it is a false positive (FP). If it is not scored by any model it is a false negative (FN). With this values compute $\\text{Precision}=\\frac{TP}{TP+FP}$, $\\text{Recall} = \\frac{TP}{TP+FN}$, and $\\text{F-score} = \\frac{ 2 \\cdot \\text{Precision} \\cdot \\text{Recall} }{ \\text{Precision} + \\text{Recall} }$."
   ]
  },
  {
   "cell_type": "code",
   "execution_count": 5,
   "metadata": {
    "id": "7TIB6Mps4JHw"
   },
   "outputs": [
    {
     "name": "stdout",
     "output_type": "stream",
     "text": [
      "TP =  447\n",
      "FP = 68\n",
      "FN = 0\n",
      "precision =  86.79611650485437 %\n",
      "447 68 0 0.8679611650485437 1.0 0.9293139293139293\n"
     ]
    }
   ],
   "source": [
    "def ComputePerformance(resultsTable):\n",
    "    \"\"\"\n",
    "    compute performance measures\n",
    "\n",
    "    \"\"\"\n",
    "    TP,FP,FN = 0,0,0\n",
    "       \n",
    "    for e in resultsTable:\n",
    "        if e[0]==e[2] and e[1]==e[3]:\n",
    "            TP =TP+1\n",
    "\n",
    "        else:\n",
    "            FP =FP+1\n",
    "        \n",
    "            \n",
    "    print(\"TP = \",TP)\n",
    "    print(\"FP =\",FP)\n",
    "    print(\"FN =\",FN)\n",
    "    \n",
    "    precision = TP / (TP+FP)\n",
    "    print(\"precision = \",precision*100,\"%\")\n",
    "    \n",
    "    recall = TP / (TP+FN)\n",
    "    f_score = (2*precision*recall) / (precision+recall)\n",
    "    \n",
    "    return TP,FP,FN,precision,recall,f_score\n",
    "\n",
    "\n",
    "TP,FP,FN,precision,recall,f_score = ComputePerformance(rep) \n",
    "print(TP,FP,FN,precision,recall,f_score)"
   ]
  },
  {
   "cell_type": "markdown",
   "metadata": {
    "id": "HJNKTq-04JHx"
   },
   "source": [
    "5\\. Roc curve https://en.wikipedia.org/wiki/Receiver_operating_characteristic. We can plot curves to observe the performance of a tool under different conditions. For that, we range the score (E-value) and we compute true positive rate (Y axis) and false positive rate (X-axis) measures for each value. Write a python script to construct the Roc curve based on the results obtained before.<br><br>\n",
    "\n",
    "<font color=\"blue\">\n",
    "Sensitivity = true positive rate, recall, or probability of detection = the proportion of positives that are correctly classified\n",
    "Specificity = true negative rate = the proportion of negatives that are correctly classified\n",
    "<br>\n",
    "<br>\n",
    "$\\text{True Positive Rate} = \\frac{TP}{TP+FN}$\n",
    "<br>\n",
    "<br>\n",
    "$\\text{False Positive Rate} = \\frac{FP}{FP+TN}$\n",
    "<font>"
   ]
  },
  {
   "cell_type": "code",
   "execution_count": 6,
   "metadata": {
    "id": "gQC4b1h-4JHx",
    "scrolled": true
   },
   "outputs": [
    {
     "name": "stdout",
     "output_type": "stream",
     "text": [
      "TP =  447\n",
      "FP = 68\n",
      "FN = 0\n",
      "precision =  86.79611650485437 %\n"
     ]
    },
    {
     "data": {
      "image/png": "[encoded data removed]",
      "text/plain": [
       "<Figure size 432x288 with 1 Axes>"
      ]
     },
     "metadata": {
      "needs_background": "light"
     },
     "output_type": "display_data"
    }
   ],
   "source": [
    "def plorROC(rep, nom, total):\n",
    "    \n",
    "    seq = []\n",
    "    for e in rep:\n",
    "        if e[0]==e[2] and e[1]==e[3]:\n",
    "            seq.append('TP')\n",
    "        else:\n",
    "            seq.append('FP')\n",
    "            \n",
    "\n",
    "    TPR = np.zeros(len(rep))\n",
    "    FPR = np.zeros(len(rep))\n",
    "    \n",
    "   \n",
    "    TN=0\n",
    "    TP,FP,FN,precision,recall,f_score = ComputePerformance(rep) \n",
    "    \n",
    "    P = TP + FN\n",
    "    N = FP + TN\n",
    "\n",
    "    \n",
    "    for i in range (len(rep)): \n",
    "        if seq[i]==\"TP\":\n",
    "            TP-=1\n",
    "            FN+=1\n",
    "            TPR[i]= TP/ (TP+FN)\n",
    "            FPR[i]=FP/ (FP+TN)\n",
    "        else: \n",
    "            FP-=1\n",
    "            TN+=1\n",
    "            TPR[i]= TP/ (TP+FN)\n",
    "            FPR[i]= FP/ (FP+TN)\n",
    "            \n",
    "    P = TP + FN\n",
    "    N = FP + TN\n",
    "\n",
    "            \n",
    "    plt.plot(FPR, TPR)\n",
    "    plt.xlabel(\"FPR\")\n",
    "    plt.ylabel(\"TPR\")\n",
    "    plt.title(\"Courbe ROC pour \"+nom)\n",
    "    plt.show()\n",
    "    \n",
    "    \n",
    "plorROC(rep, \"Scop-95\", 789)"
   ]
  },
  {
   "cell_type": "markdown",
   "metadata": {
    "id": "Jl5S7f5o4JHy"
   },
   "source": [
    "6\\. Write a python script to plot the Precision/recall curve. We can use the same strategy of Roc curve to compute the precision  (Y axis)  and recall  (X axis)  curves."
   ]
  },
  {
   "cell_type": "code",
   "execution_count": 7,
   "metadata": {
    "id": "9WdrokDt4JHy"
   },
   "outputs": [
    {
     "name": "stdout",
     "output_type": "stream",
     "text": [
      "515\n"
     ]
    },
    {
     "data": {
      "image/png": "[encoded data removed]",
      "text/plain": [
       "<Figure size 432x288 with 1 Axes>"
      ]
     },
     "metadata": {
      "needs_background": "light"
     },
     "output_type": "display_data"
    }
   ],
   "source": [
    "def plotPR(reps, nom, total):\n",
    "    \n",
    "    seq = []\n",
    "    for e in reps:\n",
    "        if e[0]==e[2] and e[1]==e[3]:\n",
    "            seq.append('TP')\n",
    "        else:\n",
    "            seq.append('FP')\n",
    "            \n",
    "\n",
    "    print(len(reps))\n",
    "    \n",
    "    Recall = np.zeros(len(reps))\n",
    "    Precision = np.zeros(len(reps))\n",
    "    \n",
    "\n",
    "    TN,FN,TP,FP = 1,1,448,69 # ajout d'un pseudo count pour ne pas diviser par 0\n",
    "    \n",
    "    P = TP + FN\n",
    "    N = FP + TN\n",
    "\n",
    "    \n",
    "    for i in range (len(reps)): \n",
    "        if seq[i]==\"TP\":\n",
    "            TP-=1\n",
    "            FN+=1\n",
    "            Recall[i]= TP/(TP+FN)\n",
    "            Precision[i]=TP/(TP+FP)\n",
    "        else: \n",
    "            FP-=1\n",
    "            TN+=1\n",
    "            Recall[i]= TP/(TP+FN)\n",
    "            Precision[i]=TP/(TP+FP)\n",
    "            \n",
    "      \n",
    "    P = TP + FN\n",
    "    N = FP + TN\n",
    "\n",
    "            \n",
    "    plt.plot(Recall,Precision)\n",
    "    plt.xlabel(\"Recall\")\n",
    "    plt.ylabel(\"Precision\")\n",
    "    plt.title(\"Courbe Precision/Recall pour \"+nom)\n",
    "    plt.show()\n",
    "    \n",
    "    \n",
    "        \n",
    "plotPR(rep, \"Scop-95\", 789)"
   ]
  },
  {
   "cell_type": "markdown",
   "metadata": {
    "id": "RkanuAua4JHy"
   },
   "source": [
    "7\\. Repeat steps 1 to 6 also for the scop-30 dataset and compare the curves obtained for the two SCOP datasets, what is your conclusion? Include the curves in your answer.\n",
    "\n"
   ]
  },
  {
   "cell_type": "code",
   "execution_count": 8,
   "metadata": {},
   "outputs": [
    {
     "name": "stdout",
     "output_type": "stream",
     "text": [
      "None\n"
     ]
    }
   ],
   "source": [
    "file30 = \"searchResults30/allRes.txt.ftt\"\n",
    "removeWrongLines(file30)\n",
    "print(removeWrongLines(file30))\n",
    "rep30 = removeDupLines(file30 + \".tmp\")\n",
    "# print(rep30)"
   ]
  },
  {
   "cell_type": "code",
   "execution_count": 9,
   "metadata": {},
   "outputs": [
    {
     "name": "stdout",
     "output_type": "stream",
     "text": [
      "TP =  447\n",
      "FP = 68\n",
      "FN = 0\n",
      "precision =  86.79611650485437 %\n"
     ]
    },
    {
     "data": {
      "image/png": "[encoded data removed]",
      "text/plain": [
       "<Figure size 432x288 with 1 Axes>"
      ]
     },
     "metadata": {
      "needs_background": "light"
     },
     "output_type": "display_data"
    },
    {
     "name": "stdout",
     "output_type": "stream",
     "text": [
      "TP =  369\n",
      "FP = 65\n",
      "FN = 0\n",
      "precision =  85.02304147465438 %\n"
     ]
    },
    {
     "data": {
      "image/png": "[encoded data removed]",
      "text/plain": [
       "<Figure size 432x288 with 1 Axes>"
      ]
     },
     "metadata": {
      "needs_background": "light"
     },
     "output_type": "display_data"
    }
   ],
   "source": [
    "plorROC(rep, \"Scop-95\", 789)\n",
    "plorROC(rep30, \"Scop-30\", 789)"
   ]
  },
  {
   "cell_type": "code",
   "execution_count": 10,
   "metadata": {},
   "outputs": [
    {
     "name": "stdout",
     "output_type": "stream",
     "text": [
      "515\n"
     ]
    },
    {
     "data": {
      "image/png": "[encoded data removed]",
      "text/plain": [
       "<Figure size 432x288 with 1 Axes>"
      ]
     },
     "metadata": {
      "needs_background": "light"
     },
     "output_type": "display_data"
    },
    {
     "name": "stdout",
     "output_type": "stream",
     "text": [
      "434\n"
     ]
    },
    {
     "data": {
      "image/png": "[encoded data removed]",
      "text/plain": [
       "<Figure size 432x288 with 1 Axes>"
      ]
     },
     "metadata": {
      "needs_background": "light"
     },
     "output_type": "display_data"
    }
   ],
   "source": [
    "plotPR(rep, \"Scop-95\", 789)\n",
    "plotPR(rep30, \"Scop-30\", 789)"
   ]
  },
  {
   "cell_type": "markdown",
   "metadata": {
    "id": "qbMNNVGM4JH0",
    "outputId": "1c88341d-da08-4060-d610-20c1ab59b883"
   },
   "source": [
    "<font color=\"blue\">\n",
    "Conclusion \n",
    "<font>"
   ]
  },
  {
   "cell_type": "markdown",
   "metadata": {
    "id": "Eevn4BVZZS_1"
   },
   "source": [
    "Pour chacune des deux approches (ROC ou Precision/Recall) on doit calculer l'aire sous la courbe pour déterminer la meilleure des courbes. La meilleure méthode est celle laquelle l'aire sous la courbe est plus grande. <br><br> **Courbe ROC**\n",
    "<br> A l'oeil nu, on remarque que l'aire sous la courbe est plus importante pour Scop-30 que pour Scop-95. On obtient de meilleurs résultats pour HMMer avec des séquences avec 30% d'homologie.\n",
    "<br> <br>**Courbe Precision/Recall**\n",
    "<br> A l'oeil nu, on remarque que l'aire sous la courbe est plus importante pour Scop-95 que pour Scop-30. On obtient de meilleurs résultats pour HMMer avec des séquences avec 95% d'homologie.\n",
    "<br><br> Pour conclure, pour des séquences avec un faible pourcentage d'homologie (30%), on obtient de meilleurs résultats avec la méthode ROC. Au contraire,  pour des séquences avec un fofrt pourcentage d'homologie (95%), on obtient de meilleurs résultats avec la méthode Precision/Recall."
   ]
  },
  {
   "cell_type": "code",
   "execution_count": null,
   "metadata": {},
   "outputs": [],
   "source": []
  }
 ],
 "metadata": {
  "colab": {
   "provenance": []
  },
  "kernelspec": {
   "display_name": "Python 3 (ipykernel)",
   "language": "python",
   "name": "python3"
  },
  "language_info": {
   "codemirror_mode": {
    "name": "ipython",
    "version": 3
   },
   "file_extension": ".py",
   "mimetype": "text/x-python",
   "name": "python",
   "nbconvert_exporter": "python",
   "pygments_lexer": "ipython3",
   "version": "3.9.12"
  }
 },
 "nbformat": 4,
 "nbformat_minor": 1
}
