{
 "cells": [
  {
   "cell_type": "markdown",
   "metadata": {
    "id": "ZdkvgILA4JHh"
   },
   "source": [
    "<h1><b>Statistique en Bioinformatique : </b> TME8 </h1><br>\n",
    "\n",
    "L’objectif de ce TME est: \n",
    "<br>\n",
    "<ul>\n",
    "<li> Evaluer la performance des HMMs sur les homologues lointains </li> \n",
    "</ul>\n",
    "<br>\n",
    "<div class=\"alert alert-warning\" role=\"alert\" style=\"margin: 10px\">\n",
    "<p><b>Soumission</b></p>\n",
    "<ul>\n",
    "<li>Renomer le fichier TME8.ipynb pour NomEtudiant1_NomEtudiant2.ipynb </li>\n",
    "<li>Soumettre via moodle </li>\n",
    "</div>\n",
    "</div>\n"
   ]
  },
  {
   "cell_type": "markdown",
   "metadata": {
    "id": "UmRBFyGR4JHm"
   },
   "source": [
    "<h2> Datasets </h2><br>\n",
    "To evaluate the performance of HMMer over remote homologous proteins, we will work with datasets scop-95 and scop-30 having at most 95 and 30% of sequence identity, respectivelly.  We will use a leave-one-out strategy as follows. Given a scop family $F$ in one of the scop datasets, we consider the set of $n$ sequences associated to $F$, to create $n$ test-sets for $F$. Each test-set takes $n−1$ sequences for training and leaves one sequence out for the test. Then, we test whether the sequence that was left out could be annotated by a HMMer profile constructed without using it, and count the correct identification of the domain as a true positive (TP), the identification of an erroneous domain as a false positive (FP) and the identification of no domain as a false negative (FN). For each scop dataset you can find the directory `aln` that contains the alignment for each testsets in STOCKHOLM format, extension .sto"
   ]
  },
  {
   "cell_type": "markdown",
   "metadata": {
    "id": "mlYqLoTH4JHn"
   },
   "source": [
    "For scop-95 dataset do:"
   ]
  },
  {
   "cell_type": "markdown",
   "metadata": {
    "id": "TcUwryMI4JHo"
   },
   "source": [
    "1\\. Create pHMMs from the alignments in `aln/*.sto`. Use the program `hmmbuild` from the HMMer-3 package. Save models  in a directory named models. You have two options (1) do your script in python or (2) in bash script and run it in the terminal.\n",
    "To  built models with python you can use `os.system` to execute hmmbuild program.\n",
    "Anyway, put your code bellow."
   ]
  },
  {
   "cell_type": "code",
   "execution_count": 1,
   "metadata": {
    "id": "eMfsKe2M4JHo"
   },
   "outputs": [],
   "source": [
    "import numpy as np\n",
    "import os\n",
    "from os import listdir,system,makedirs\n",
    "from os.path import isfile,join,exists\n",
    "from shutil import rmtree\n",
    "import matplotlib.pyplot as plt"
   ]
  },
  {
   "cell_type": "code",
   "execution_count": 2,
   "metadata": {
    "id": "f0Hs8ilp4JHq"
   },
   "outputs": [],
   "source": [
    "# # see run.sh\n",
    "# import subprocess\n",
    "# subprocess.call('run.sh',)\n",
    "\n",
    "\n",
    "# exécuté dans le terminal \n",
    "#bash run.sh\n",
    "\n",
    "# number of aln 789\n",
    "# number of models 789"
   ]
  },
  {
   "cell_type": "markdown",
   "metadata": {
    "id": "CsmzFMty4JHr"
   },
   "source": [
    "2\\. Search all sequences in the file `scopTestSeq.fasta` against all models created previously. Use `hmmsearch` and the option `--domtblout` to save parseable table of per-domain hits to file, use option `-E 1`. Save the outputs in a directory named `searchResults/`. You have two options (1) do your script in python or (2) in bash script and run it in the terminal.\n",
    "To  built models with python you can use `os.system` to execute hmmsearch program.\n",
    "Anyway, put your code bellow."
   ]
  },
  {
   "cell_type": "code",
   "execution_count": 4,
   "metadata": {
    "id": "oHulHb154JHs"
   },
   "outputs": [],
   "source": [
    "#see search.sh\n",
    "\n",
    "# exécuté dans le terminal \n",
    "# bash search.sh\n",
    "\n",
    "# number of aln 789\n",
    "# number of models 789\n",
    "\n",
    "#hmmsearch --domtblout result.domtb -E 1 hmmModels95 scop/scopTestSeq.fasta > /dev/null"
   ]
  },
  {
   "cell_type": "markdown",
   "metadata": {
    "id": "8mtG84Mw4JHu"
   },
   "source": [
    "3\\. Concat all search results, rank the sequences and remove all hits having same family and different proteinID. Consider just the best hit per sequence."
   ]
  },
  {
   "cell_type": "markdown",
   "metadata": {
    "id": "0FT9iFun4JHv"
   },
   "source": [
    "```bash\n",
    "# the following bash commands illustrate a way to concatenate and format the output of hmmsearch\n",
    "# hmmsearch results are assumed to be in the current directory and in files with extension .out\n",
    "cat *.out > allRes.txt\n",
    "sed '/^#/d' allRes.txt > allRes.txt.ftt\n",
    "cat allRes.txt.ftt | awk '{print $1\" \"$4\" \"$12}' > allRes.txt.ftt.2\n",
    "sed -i -e 's/\\.aln//g' allRes.txt.ftt.2\n",
    "mv allRes.txt.ftt.2 allRes.txt.ftt\n",
    "```"
   ]
  },
  {
   "cell_type": "code",
   "execution_count": 20,
   "metadata": {
    "id": "0PI0-whR4JHv"
   },
   "outputs": [
    {
     "name": "stdout",
     "output_type": "stream",
     "text": [
      "None\n",
      "[['d1a3ca_', 'c.61.1.1', 'd1a3ca_', 'c.61.1.1', 3.6e-17], ['d1y63a_', 'c.37.1.1', 'd1d2na_', 'c.37.1.20', 6.4e-10], ['d1ly1a_', 'c.37.1.1', 'd1h3ga3', 'c.1.8.1', 4e-05], ['d3gnja_', 'c.47.1.0', 'd1iloa_', 'c.47.1.1', 5.6e-17], ['d3qmxa_', 'c.47.1.0', 'd1wjka_', 'c.47.1.1', 5.4e-14], ['d2hzfa_', 'c.47.1.0', 'd2fwha_', 'c.47.1.1', 2.8e-13], ['d3feua_', 'c.47.1.0', 'd1abaa_', 'c.47.1.1', 5.1e-05], ['d2wcia_', 'c.47.1.0', 'd1wjka_', 'c.47.1.1', 3.4e-10], ['d3h93a_', 'c.47.1.0', 'd3h93a_', 'c.47.1.0', 2.8e-05], ['d1alqa_', 'e.3.1.1', 'd1alqa_', 'e.3.1.1', 7.6e-44], ['d2gf3a1', 'c.3.1.2', 'd2gv8a1', 'c.3.1.5', 8.8e-09], ['d1kdga1', 'c.3.1.2', 'd1kdga1', 'c.3.1.2', 2.6e-09], ['d2gmha1', 'c.3.1.2', 'd1h6va2', 'c.3.1.5', 1.2e-06], ['d1ryia1', 'c.3.1.2', 'd1v59a1', 'c.3.1.5', 6e-07], ['d1kola2', 'c.2.1.1', 'd1kola2', 'c.2.1.1', 9.6e-18], ['d1pl8a2', 'c.2.1.1', 'd1pl8a2', 'c.2.1.1', 1.1e-26], ['d1seza1', 'c.3.1.2', 'd1seza1', 'c.3.1.2', 3.4e-09], ['d1b5qa1', 'c.3.1.2', 'd1b5qa1', 'c.3.1.2', 2.2e-10], ['d2dw4a2', 'c.3.1.2', 'd2dw4a2', 'c.3.1.2', 1.5e-16], ['d2iida1', 'c.3.1.2', 'd2iida1', 'c.3.1.2', 7.8e-62], ['d3c96a1', 'c.3.1.2', 'd3c96a1', 'c.3.1.2', 3.4e-06], ['d1atia2', 'd.104.1.1', 'd1atia2', 'd.104.1.1', 5.6e-32], ['d1v59a2', 'c.3.1.5', 'd2dw4a2', 'c.3.1.2', 2.3e-07], ['d1v59a1', 'c.3.1.5', 'd1v59a1', 'c.3.1.5', 3.8e-40], ['d1w4xa1', 'c.3.1.5', 'd1n4wa1', 'c.3.1.2', 1e-07], ['d1nhpa2', 'c.3.1.5', 'd3c96a1', 'c.3.1.2', 7.5e-08], ['d2gv8a1', 'c.3.1.5', 'd2dw4a2', 'c.3.1.2', 9.1e-08], ['d1fl2a1', 'c.3.1.5', 'd1fl2a1', 'c.3.1.5', 8.4e-25], ['d1xhca2', 'c.3.1.5', 'd1n4wa1', 'c.3.1.2', 1.8e-06], ['d1b8aa2', 'd.104.1.1', 'd1b8aa2', 'd.104.1.1', 4.3e-40], ['d1bf2a3', 'c.1.8.1', 'd1bf2a3', 'c.1.8.1', 1.1e-29], ['d1bg6a2', 'c.2.1.6', 'd1bg6a2', 'c.2.1.6', 1.6e-08], ['d1gpja2', 'c.2.1.7', 'd1txga2', 'c.2.1.6', 4.9e-10], ['d1onfa2', 'c.3.1.5', 'd2pv7a2', 'c.2.1.6', 1.7e-05], ['d2ivda1', 'c.3.1.2', 'd2ivda1', 'c.3.1.2', 1.6e-08], ['d1bgva1', 'c.2.1.7', 'd1bgva1', 'c.2.1.7', 8.4e-17], ['d1bo4a_', 'd.108.1.1', 'd1bo4a_', 'd.108.1.1', 1.8e-09], ['d2epja_', 'c.67.1.0', 'd2fnua_', 'c.67.1.4', 6.3e-61], ['d2c81a_', 'c.67.1.0', 'd2bwna1', 'c.67.1.4', 5.3e-19], ['d1m6sa_', 'c.67.1.1', 'd1m6sa_', 'c.67.1.1', 8.4e-14], ['d1bs0a_', 'c.67.1.4', 'd1gdea_', 'c.67.1.1', 1.1e-06], ['d1bw0a_', 'c.67.1.1', 'd2c81a_', 'c.67.1.0', 5.5e-42], ['d3piua_', 'c.67.1.4', 'd1v72a1', 'c.67.1.1', 1.2e-37], ['d3ftba_', 'c.67.1.0', 'd1gdea_', 'c.67.1.1', 3.4e-39], ['d2bhua3', 'c.1.8.1', 'd2bhua3', 'c.1.8.1', 4.2e-19], ['d1byfa_', 'd.169.1.1', 'd1byfa_', 'd.169.1.1', 4.1e-13], ['d1c1da1', 'c.2.1.7', 'd1c1da1', 'c.2.1.7', 2.5e-09], ['d1c52a_', 'a.3.1.1', 'd1c52a_', 'a.3.1.1', 9.7e-08], ['d1c75a_', 'a.3.1.1', 'd1c75a_', 'a.3.1.1', 2.7e-09], ['d1c9oa_', 'b.40.4.5', 'd1c9oa_', 'b.40.4.5', 7.2e-09], ['d1cf2o1', 'c.2.1.3', 'd1cf2o1', 'c.2.1.3', 2.3e-10], ['d1ci9a_', 'e.3.1.1', 'd1ci9a_', 'e.3.1.1', 2e-05], ['d1ctaa_', 'a.39.1.5', 'd1ctaa_', 'a.39.1.5', 1.3e-15], ['d1cx4a1', 'b.82.3.2', 'd1cx4a1', 'b.82.3.2', 4.8e-24], ['d1cx4a2', 'b.82.3.2', 'd1cx4a2', 'b.82.3.2', 2.3e-25], ['d1d2na_', 'c.37.1.20', 'd1d2na_', 'c.37.1.20', 1.8e-06], ['d1s6ja_', 'a.39.1.5', 'd1s6ja_', 'a.39.1.5', 2.5e-17], ['d1dbwa_', 'c.23.1.1', 'd1dbwa_', 'c.23.1.1', 6.4e-28], ['d3cfya_', 'c.23.1.0', 'd1k66a_', 'c.23.1.1', 6.7e-30], ['d3heba_', 'c.23.1.0', 'd1s8na_', 'c.23.1.1', 9.3e-30], ['d3khta_', 'c.23.1.0', 'd1s8na_', 'c.23.1.1', 1.2e-26], ['d3eqza_', 'c.23.1.0', 'd3eqza_', 'c.23.1.0', 2.1e-18], ['d2plna_', 'c.23.1.0', 'd1k66a_', 'c.23.1.1', 9.2e-16], ['d3ktoa_', 'c.23.1.0', 'd2r25b_', 'c.23.1.1', 2.2e-15], ['d1q0qa2', 'c.2.1.3', 'd1k66a_', 'c.23.1.1', 5.1e-06], ['d2qora_', 'c.37.1.0', 'd1y63a_', 'c.37.1.1', 5.5e-13], ['d3akea_', 'c.37.1.0', 'd1kgda_', 'c.37.1.1', 8.2e-09], ['d1in4a2', 'c.37.1.20', 'd1in4a2', 'c.37.1.20', 6.2e-08], ['d1um8a_', 'c.37.1.20', 'd1um8a_', 'c.37.1.20', 7.6e-19], ['d1djqa1', 'c.1.4.1', 'd1djqa1', 'c.1.4.1', 5.4e-08], ['d1dqna_', 'c.61.1.1', 'd1dqna_', 'c.61.1.1', 1.6e-05], ['d1dz3a_', 'c.23.1.1', 'd1dz3a_', 'c.23.1.1', 3.6e-28], ['d1dzka_', 'b.60.1.1', 'd1dzka_', 'b.60.1.1', 2.8e-28], ['d1e25a_', 'e.3.1.1', 'd1e25a_', 'e.3.1.1', 1.1e-14], ['d1e29a_', 'a.3.1.1', 'd1e29a_', 'a.3.1.1', 2.2e-10], ['d1e2ka_', 'c.37.1.1', 'd1e2ka_', 'c.37.1.1', 1.3e-29], ['d2jaqa_', 'c.37.1.0', 'd1t0hb_', 'c.37.1.1', 5.7e-06], ['d1sxja2', 'c.37.1.20', 'd1sxja2', 'c.37.1.20', 1.7e-08], ['d1g41a_', 'c.37.1.20', 'd1g41a_', 'c.37.1.20', 2.4e-118], ['d1e43a1', 'b.71.1.1', 'd1e43a1', 'b.71.1.1', 1.4e-15], ['d1e43a2', 'c.1.8.1', 'd1e43a2', 'c.1.8.1', 1e-80], ['d1ecfa1', 'c.61.1.1', 'd1ecfa1', 'c.61.1.1', 1.5e-07], ['d1vj0a2', 'c.2.1.1', 'd1vj0a2', 'c.2.1.1', 1e-32], ['d1jaya_', 'c.2.1.6', 'd3ehea_', 'c.2.1.0', 5.1e-07], ['d1f0ya2', 'c.2.1.6', 'd1f0ya2', 'c.2.1.6', 5e-07], ['d1eema1', 'a.45.1.1', 'd1eema1', 'a.45.1.1', 6.2e-11], ['d3fvsa_', 'c.67.1.1', 'd2c81a_', 'c.67.1.0', 2.1e-83], ['d1ep3a_', 'c.1.4.1', 'd1ep3a_', 'c.1.4.1', 2.6e-13], ['d1epba_', 'b.60.1.1', 'd1epba_', 'b.60.1.1', 2.2e-17], ['d1euza1', 'c.2.1.7', 'd1euza1', 'c.2.1.7', 2.7e-72], ['d2jhfa2', 'c.2.1.1', 'd2jhfa2', 'c.2.1.1', 4.3e-56], ['d2r6ja_', 'c.2.1.0', 'd1f0ya2', 'c.2.1.6', 2.7e-06], ['d1exra_', 'a.39.1.5', 'd1exra_', 'a.39.1.5', 2.2e-57], ['d1f06a1', 'c.2.1.3', 'd1f06a1', 'c.2.1.3', 0.00032], ['d1f8fa1', 'b.35.1.2', 'd1f8fa1', 'b.35.1.2', 5.4e-34], ['d1fg7a_', 'c.67.1.1', 'd1fg7a_', 'c.67.1.1', 6.8e-30], ['d2bwna1', 'c.67.1.4', 'd1gdea_', 'c.67.1.1', 2.4e-05], ['d1vl6a1', 'c.2.1.7', 'd1m6ia2', 'c.3.1.5', 7.3e-05], ['d1pj5a2', 'c.3.1.2', 'd1fl2a2', 'c.3.1.5', 0.00051], ['d1vcha1', 'c.61.1.1', 'd1vcha1', 'c.61.1.1', 3.2e-08], ['d1fnoa4', 'c.56.5.4', 'd1fnoa4', 'c.56.5.4', 6.2e-64], ['d1fsga_', 'c.61.1.1', 'd1fsga_', 'c.61.1.1', 2.8e-33], ['d1g0sa_', 'd.113.1.1', 'd1g0sa_', 'd.113.1.1', 8.3e-12], ['d1g1ta1', 'd.169.1.1', 'd1g1ta1', 'd.169.1.1', 1.5e-21], ['d1g5aa2', 'c.1.8.1', 'd1g5aa2', 'c.1.8.1', 1.5e-20], ['d1g5ha2', 'd.104.1.1', 'd1g5ha2', 'd.104.1.1', 9.9e-34], ['d1gdea_', 'c.67.1.1', 'd1gdea_', 'c.67.1.1', 2.5e-98], ['d1ghea_', 'd.108.1.1', 'd1ghea_', 'd.108.1.1', 2.9e-09], ['d1gjwa2', 'c.1.8.1', 'd1gjwa2', 'c.1.8.1', 8.7e-07], ['d1gnwa1', 'a.45.1.1', 'd1gnwa1', 'a.45.1.1', 8.1e-12], ['d1gtea2', 'c.1.4.1', 'd1gtea2', 'c.1.4.1', 0.00023], ['d1jbea_', 'c.23.1.1', 'd1jbea_', 'c.23.1.1', 4.3e-40], ['d1gu2a_', 'a.3.1.1', 'd1gu2a_', 'a.3.1.1', 2.8e-06], ['d1gu7a1', 'b.35.1.2', 'd1gu7a1', 'b.35.1.2', 1.4e-08], ['d1gu7a2', 'c.2.1.1', 'd1gu7a2', 'c.2.1.1', 2.7e-08], ['d1luaa1', 'c.2.1.7', 'd2r6ja_', 'c.2.1.0', 3.3e-08], ['d1gz2a_', 'd.169.1.1', 'd1gz2a_', 'd.169.1.1', 1.1e-22], ['d1h2ba1', 'b.35.1.2', 'd1h2ba1', 'b.35.1.2', 1.2e-39], ['d1h2ba2', 'c.2.1.1', 'd1h2ba2', 'c.2.1.1', 2.1e-25], ['d1h32b_', 'a.3.1.1', 'd1h32b_', 'a.3.1.1', 2.1e-08], ['d1h3ga3', 'c.1.8.1', 'd1h3ga3', 'c.1.8.1', 1.2e-35], ['d1h4vb2', 'd.104.1.1', 'd1h4vb2', 'd.104.1.1', 1.3e-24], ['d1h6da1', 'c.2.1.3', 'd1h6da1', 'c.2.1.3', 1.3e-14], ['d1o89a2', 'c.2.1.1', 'd1o89a2', 'c.2.1.1', 2.4e-33], ['d1h6va2', 'c.3.1.5', 'd1h6va2', 'c.3.1.5', 3e-05], ['d1h8ua_', 'd.169.1.1', 'd1h8ua_', 'd.169.1.1', 1.2e-15], ['d2pv7a2', 'c.2.1.6', 'd1h9aa1', 'c.2.1.3', 7.3e-05], ['d1hjua_', 'c.1.8.3', 'd1hjua_', 'c.1.8.3', 2.1e-24], ['d3jw4a_', 'a.4.5.0', 'd2fxaa1', 'a.4.5.28', 1.2e-27], ['d3bjaa_', 'a.4.5.0', 'd2fbka1', 'a.4.5.28', 4.2e-26], ['d1hsja1', 'a.4.5.28', 'd1hsja1', 'a.4.5.28', 1.4e-20], ['d3df8a_', 'a.4.5.0', 'd1p4xa2', 'a.4.5.28', 5.6e-06], ['d1ht6a2', 'c.1.8.1', 'd1ht6a2', 'c.1.8.1', 1.7e-37], ['d1i12a_', 'd.108.1.1', 'd1i12a_', 'd.108.1.1', 3.8e-08], ['d1i1wa_', 'c.1.8.3', 'd1i1wa_', 'c.1.8.3', 8.6e-84], ['d1i4ua_', 'b.60.1.1', 'd1i4ua_', 'b.60.1.1', 6.9e-18], ['d1i8oa_', 'a.3.1.1', 'd1i8oa_', 'a.3.1.1', 2.1e-21], ['d1iloa_', 'c.47.1.1', 'd1iloa_', 'c.47.1.1', 0.0001], ['d1iqpa2', 'c.37.1.20', 'd1iqpa2', 'c.37.1.20', 1.6e-22], ['d1ixha_', 'c.94.1.1', 'd1ixha_', 'c.94.1.1', 6.1e-10], ['d1ixla_', 'd.38.1.5', 'd1ixla_', 'd.38.1.5', 2.2e-12], ['d2gvha1', 'd.38.1.1', 'd2gvha1', 'd.38.1.1', 3.1e-14], ['d1s5ua_', 'd.38.1.1', 'd1s5ua_', 'd.38.1.1', 1.2e-22], ['d1njka_', 'd.38.1.1', 'd1njka_', 'd.38.1.1', 1.2e-15], ['d2hlja1', 'd.38.1.1', 'd1ixla_', 'd.38.1.5', 1.5e-05], ['d2gf6a1', 'd.38.1.1', 'd2gf6a1', 'd.38.1.1', 7.7e-16], ['d2nuja1', 'd.38.1.1', 'd2nuja1', 'd.38.1.1', 6.2e-21], ['d1j0ha1', 'b.1.18.2', 'd1j0ha1', 'b.1.18.2', 1e-20], ['d1j7qa_', 'a.39.1.5', 'd1j7qa_', 'a.39.1.5', 6.1e-17], ['d1jbaa_', 'a.39.1.5', 'd1jbaa_', 'a.39.1.5', 2.4e-22], ['d1jeta_', 'c.94.1.1', 'd1jeta_', 'c.94.1.1', 1.5e-87], ['d1jfka_', 'a.39.1.5', 'd1jfka_', 'a.39.1.5', 5.5e-20], ['d1jgsa_', 'a.4.5.28', 'd1jgsa_', 'a.4.5.28', 4.9e-21], ['d1ji1a3', 'c.1.8.1', 'd1ji1a3', 'c.1.8.1', 9.5e-38], ['d1jkna_', 'd.113.1.1', 'd1jkna_', 'd.113.1.1', 4.7e-12], ['d1jpdx2', 'd.54.1.1', 'd1jpdx2', 'd.54.1.1', 1e-11], ['d1jqba1', 'b.35.1.2', 'd1jqba1', 'b.35.1.2', 3.6e-36], ['d1jqba2', 'c.2.1.1', 'd1jqba2', 'c.2.1.1', 6.7e-36], ['d1ju2a1', 'c.3.1.2', 'd1ju2a1', 'c.3.1.2', 2.4e-06], ['d1k0ia1', 'c.3.1.2', 'd1k0ia1', 'c.3.1.2', 5e-10], ['d1k2ea_', 'd.113.1.1', 'd1k2ea_', 'd.113.1.1', 4.5e-13], ['d1k3ya1', 'a.45.1.1', 'd1k3ya1', 'a.45.1.1', 3.2e-31], ['d1k66a_', 'c.23.1.1', 'd2plna_', 'c.23.1.0', 4.7e-28], ['d1kg0c_', 'd.169.1.1', 'd1kg0c_', 'd.169.1.1', 2.4e-07], ['d1kgda_', 'c.37.1.1', 'd3akea_', 'c.37.1.0', 4.7e-06], ['d1kgsa2', 'c.23.1.1', 'd1kgsa2', 'c.23.1.1', 2e-34], ['d1khta_', 'c.37.1.1', 'd1khta_', 'c.37.1.1', 1.4e-12], ['d1kjwa2', 'c.37.1.1', 'd1kjwa2', 'c.37.1.1', 1e-05], ['d1kkoa2', 'd.54.1.1', 'd1kkoa2', 'd.54.1.1', 9.7e-30], ['d1kola1', 'b.35.1.2', 'd1kola1', 'b.35.1.2', 2.6e-25], ['d1kt7a_', 'b.60.1.1', 'd1kt7a_', 'b.60.1.1', 7e-43], ['d1ktga_', 'd.113.1.1', 'd1ktga_', 'd.113.1.1', 2.1e-16], ['d1kxoa_', 'b.60.1.1', 'd1kxoa_', 'b.60.1.1', 1.6e-42], ['d1lb3a_', 'a.25.1.1', 'd1lb3a_', 'a.25.1.1', 1.6e-46], ['d1lc5a_', 'c.67.1.1', 'd1lc5a_', 'c.67.1.1', 2.8e-22], ['d1lf7a_', 'b.60.1.1', 'd1lf7a_', 'b.60.1.1', 6.3e-14], ['d1lfwa1', 'c.56.5.4', 'd1lfwa1', 'c.56.5.4', 1.2e-08], ['d1e5qa1', 'c.2.1.3', 'd1lj8a4', 'c.2.1.6', 8.3e-05], ['d3ehea_', 'c.2.1.0', 'd3ehea_', 'c.2.1.0', 2e-16], ['d1lj9a_', 'a.4.5.28', 'd1lj9a_', 'a.4.5.28', 1e-17], ['d1lo7a_', 'd.38.1.1', 'd1lo7a_', 'd.38.1.1', 8e-14], ['d1wlua_', 'd.38.1.5', 'd1wlua_', 'd.38.1.5', 2.4e-22], ['d3f5oa_', 'd.38.1.5', 'd3f5oa_', 'd.38.1.5', 9.4e-38], ['d2hboa1', 'd.38.1.5', 'd2hboa1', 'd.38.1.5', 2.6e-14], ['d1lv7a_', 'c.37.1.20', 'd1lv7a_', 'c.37.1.20', 1.6e-29], ['d1m4ia_', 'd.108.1.1', 'd1m4ia_', 'd.108.1.1', 1.9e-07], ['d1m6ia1', 'c.3.1.5', 'd1m6ia1', 'c.3.1.5', 2.2e-19], ['d1m7xa3', 'c.1.8.1', 'd1m7xa3', 'c.1.8.1', 1.8e-14], ['d1mb3a_', 'c.23.1.1', 'd1mb3a_', 'c.23.1.1', 4.5e-32], ['d1mk4a_', 'd.108.1.1', 'd1mk4a_', 'd.108.1.1', 7.5e-05], ['d1mo9a1', 'c.3.1.5', 'd1mo9a1', 'c.3.1.5', 3.2e-14], ['d1mo9a2', 'c.3.1.5', 'd1mo9a2', 'c.3.1.5', 7.5e-06], ['d2f5va1', 'c.3.1.2', 'd2f5va1', 'c.3.1.2', 2.1e-05], ['d1pn0a1', 'c.3.1.2', 'd1pn0a1', 'c.3.1.2', 3e-06], ['d1mv8a2', 'c.2.1.6', 'd1mv8a2', 'c.2.1.6', 1.2e-06], ['d1n4wa1', 'c.3.1.2', 'd1n4wa1', 'c.3.1.2', 7e-32], ['d1fl2a2', 'c.3.1.5', 'd1n4wa1', 'c.3.1.2', 2.2e-05], ['d1nf4a_', 'a.25.1.1', 'd1nf4a_', 'a.25.1.1', 1.4e-11], ['d1nhpa1', 'c.3.1.5', 'd1nhpa1', 'c.3.1.5', 1.9e-09], ['d1nhya1', 'a.45.1.1', 'd1nhya1', 'a.45.1.1', 5.5e-09], ['d1njfa_', 'c.37.1.20', 'd1njfa_', 'c.37.1.20', 2.7e-17], ['d1nnfa_', 'c.94.1.1', 'd1nnfa_', 'c.94.1.1', 1.2e-07], ['d1nnha_', 'd.104.1.1', 'd1nnha_', 'd.104.1.1', 1.9e-05], ['d1nqza_', 'd.113.1.1', 'd1nqza_', 'd.113.1.1', 1.1e-12], ['d1nula_', 'c.61.1.1', 'd1nula_', 'c.61.1.1', 3.7e-08], ['d1nyaa_', 'a.39.1.5', 'd1nyaa_', 'a.39.1.5', 7.9e-12], ['d1nyta1', 'c.2.1.7', 'd1nyta1', 'c.2.1.7', 0.00017], ['d1o0sa1', 'c.2.1.7', 'd1o0sa1', 'c.2.1.7', 1.4e-42], ['d1o50a3', 'd.37.1.1', 'd1o50a3', 'd.37.1.1', 1.8e-08], ['d1o5la1', 'b.82.3.2', 'd1o5la1', 'b.82.3.2', 8.2e-07], ['d1o7fa2', 'b.82.3.2', 'd1o7fa2', 'b.82.3.2', 1.1e-19], ['d1o7fa3', 'b.82.3.2', 'd1o7fa3', 'b.82.3.2', 6e-20], ['d1o89a1', 'b.35.1.2', 'd1o89a1', 'b.35.1.2', 8.1e-12], ['d1ofda2', 'c.1.4.1', 'd1ofda2', 'c.1.4.1', 7.2e-65], ['d1ohwa_', 'c.67.1.4', 'd1ohwa_', 'c.67.1.4', 2.2e-10], ['d1okta1', 'a.45.1.1', 'd1okta1', 'a.45.1.1', 7.3e-20], ['d1omra_', 'a.39.1.5', 'd1omra_', 'a.39.1.5', 4.8e-41], ['d1p0ha_', 'd.108.1.1', 'd1p0ha_', 'd.108.1.1', 0.015], ['d1p0ka_', 'c.1.4.1', 'd1p0ka_', 'c.1.4.1', 1.3e-10], ['d1p1ja1', 'c.2.1.3', 'd1p1ja1', 'c.2.1.3', 8e-30], ['d1p4aa2', 'c.61.1.1', 'd1p4aa2', 'c.61.1.1', 3.4e-08], ['d1p4ca_', 'c.1.4.1', 'd1p4ca_', 'c.1.4.1', 4.6e-10], ['d2fnoa1', 'a.45.1.1', 'd1p4ca_', 'c.1.4.1', 5.4e-05], ['d1p4xa1', 'a.4.5.28', 'd1p4xa1', 'a.4.5.28', 5.7e-19], ['d1p4xa2', 'a.4.5.28', 'd1p4xa2', 'a.4.5.28', 3.2e-18], ['d1p5zb_', 'c.37.1.1', 'd1p5zb_', 'c.37.1.1', 1e-08], ['d1pbja3', 'd.37.1.1', 'd1pbja3', 'd.37.1.1', 6.5e-08], ['d1piwa1', 'b.35.1.2', 'd1piwa1', 'b.35.1.2', 4.1e-29], ['d1piwa2', 'c.2.1.1', 'd1piwa2', 'c.2.1.1', 4.8e-22], ['d1pl8a1', 'b.35.1.2', 'd1pl8a1', 'b.35.1.2', 3e-40], ['d1pqwa_', 'c.2.1.1', 'd1pqwa_', 'c.2.1.1', 5.1e-22], ['d1pvma4', 'd.37.1.1', 'd1pvma4', 'd.37.1.1', 2.5e-17], ['d1pwba1', 'd.169.1.1', 'd1pwba1', 'd.169.1.1', 5.3e-20], ['d1q33a_', 'd.113.1.1', 'd1q33a_', 'd.113.1.1', 2e-09], ['d1q4ta_', 'd.38.1.5', 'd1q4ta_', 'd.38.1.5', 2.3e-22], ['d3bjka_', 'd.38.1.1', 'd3bjka_', 'd.38.1.1', 9.2e-19], ['d1q8ia1', 'c.55.3.5', 'd1q8ia1', 'c.55.3.5', 1.6e-05], ['d1qb7a_', 'c.61.1.1', 'd1qb7a_', 'c.61.1.1', 3.5e-26], ['d1qdda_', 'd.169.1.1', 'd1qdda_', 'd.169.1.1', 3.1e-38], ['d1qf9a_', 'c.37.1.1', 'd1qf9a_', 'c.37.1.1', 1e-15], ['d1qmea4', 'e.3.1.1', 'd1qmea4', 'e.3.1.1', 8.1e-87], ['d1qo3c_', 'd.169.1.1', 'd1qo3c_', 'd.169.1.1', 5.8e-27], ['d1qora2', 'c.2.1.1', 'd1qora2', 'c.2.1.1', 3.3e-23], ['d1qsma_', 'd.108.1.1', 'd1qsma_', 'd.108.1.1', 1.2e-10], ['d1qv0a_', 'a.39.1.5', 'd1qv0a_', 'a.39.1.5', 4.8e-43], ['d1qw9a2', 'c.1.8.3', 'd1qw9a2', 'c.1.8.3', 2.5e-16], ['d1qwda_', 'b.60.1.1', 'd1qwda_', 'b.60.1.1', 7.6e-10], ['d1r0ma2', 'd.54.1.1', 'd1r0ma2', 'd.54.1.1', 2.4e-15], ['d1r26a_', 'c.47.1.1', 'd2v1ma_', 'c.47.1.0', 3.7e-17], ['d1r3na1', 'c.56.5.4', 'd1r3na1', 'c.56.5.4', 2.1e-09], ['d1r57a_', 'd.108.1.1', 'd1r57a_', 'd.108.1.1', 1e-07], ['d1r6bx3', 'c.37.1.20', 'd1r6bx3', 'c.37.1.20', 8.4e-08], ['d1r7aa2', 'c.1.8.1', 'd1r7aa2', 'c.1.8.1', 5.4e-06], ['d1rfea_', 'b.45.1.1', 'd1rfea_', 'b.45.1.1', 1.6e-08], ['d1rkta1', 'a.4.1.9', 'd1rkta1', 'a.4.1.9', 6.8e-17], ['d1rl2a2', 'b.40.4.5', 'd1rl2a2', 'b.40.4.5', 1.6e-13], ['d1s3ja_', 'a.4.5.28', 'd1s3ja_', 'a.4.5.28', 5.5e-21], ['d1s8na_', 'c.23.1.1', 'd1s8na_', 'c.23.1.1', 7.1e-32], ['d1sena_', 'c.47.1.1', 'd3h93a_', 'c.47.1.0', 1.1e-06], ['d1sgma1', 'a.4.1.9', 'd1sgma1', 'a.4.1.9', 9.5e-14], ['d1sh8a_', 'd.38.1.5', 'd1sh8a_', 'd.38.1.5', 3.2e-07], ['d1vpma_', 'd.38.1.1', 'd1vpma_', 'd.38.1.1', 1e-21], ['d1sjda2', 'd.54.1.1', 'd1sjda2', 'd.54.1.1', 2e-15], ['d1sjya_', 'd.113.1.1', 'd1sjya_', 'd.113.1.1', 2.9e-16], ['d1svva_', 'c.67.1.1', 'd1svva_', 'c.67.1.1', 6.3e-13], ['d3tqla_', 'c.94.1.0', 'd3tqla_', 'c.94.1.0', 4.9e-20], ['d1t0hb_', 'c.37.1.1', 'd1t0hb_', 'c.37.1.1', 2.2e-27], ['d1t33a1', 'a.4.1.9', 'd1t33a1', 'a.4.1.9', 4.6e-15], ['d1t4ba1', 'c.2.1.3', 'd1t4ba1', 'c.2.1.3', 4.5e-05], ['d1t56a1', 'a.4.1.9', 'd1t56a1', 'a.4.1.9', 2.3e-17], ['d1t82a_', 'd.38.1.5', 'd1t82a_', 'd.38.1.5', 3.7e-06], ['d1tc1a_', 'c.61.1.1', 'd1tc1a_', 'c.61.1.1', 1.4e-53], ['d1tiqa_', 'd.108.1.1', 'd1tiqa_', 'd.108.1.1', 1.4e-12], ['d1tjoa_', 'a.25.1.1', 'd1tjoa_', 'a.25.1.1', 8.3e-19], ['d1tkja_', 'c.56.5.4', 'd1tkja_', 'c.56.5.4', 4.2e-05], ['d1tu7a1', 'a.45.1.1', 'd1tu7a1', 'a.45.1.1', 3.1e-25], ['d1tw9a1', 'a.45.1.1', 'd1tw9a1', 'a.45.1.1', 2e-13], ['d1txga2', 'c.2.1.6', 'd1txga2', 'c.2.1.6', 0.00017], ['d3hl8a_', 'c.55.3.5', 'd1txka1', 'b.1.18.2', 0.011], ['d1u6ma_', 'd.108.1.1', 'd1u6ma_', 'd.108.1.1', 1e-11], ['d1ua7a2', 'c.1.8.1', 'd1ua7a2', 'c.1.8.1', 8.5e-22], ['d1ub9a_', 'a.4.5.28', 'd1ub9a_', 'a.4.5.28', 7.5e-06], ['d1ufha_', 'd.108.1.1', 'd1ufha_', 'd.108.1.1', 3.1e-12], ['d1ui5a1', 'a.4.1.9', 'd1ui5a1', 'a.4.1.9', 5.1e-22], ['d1uoka2', 'c.1.8.1', 'd1uoka2', 'c.1.8.1', 1.1e-52], ['d1v72a1', 'c.67.1.1', 'd1v72a1', 'c.67.1.1', 0.00016], ['d1vefa1', 'c.67.1.4', 'd1vefa1', 'c.67.1.4', 5.6e-50], ['d1v8ya_', 'd.113.1.1', 'd1v8ya_', 'd.113.1.1', 5.7e-16], ['d1vdma1', 'c.61.1.1', 'd1vdma1', 'c.61.1.1', 1.1e-10], ['d1vh5a_', 'd.38.1.5', 'd1vh5a_', 'd.38.1.5', 2.2e-29], ['d1vhta_', 'c.37.1.1', 'd1vhta_', 'c.37.1.1', 6.7e-05], ['d1vhza_', 'd.113.1.1', 'd1vhza_', 'd.113.1.1', 4.5e-12], ['d1vi0a1', 'a.4.1.9', 'd1vi0a1', 'a.4.1.9', 4.5e-22], ['d1vkca_', 'd.108.1.1', 'd1vkca_', 'd.108.1.1', 1.6e-08], ['d1vp6a_', 'b.82.3.2', 'd1vp6a_', 'b.82.3.2', 4.5e-38], ['d1vpda2', 'c.2.1.6', 'd1vpda2', 'c.2.1.6', 2.9e-18], ['d1vr9a3', 'd.37.1.1', 'd1vr9a3', 'd.37.1.1', 2.9e-06], ['d1vyra_', 'c.1.4.1', 'd1vyra_', 'c.1.4.1', 3.2e-30], ['d1w23a_', 'c.67.1.4', 'd1w23a_', 'c.67.1.4', 2.4e-18], ['d1w91a2', 'c.1.8.3', 'd1w91a2', 'c.1.8.3', 5.4e-08], ['d1wd5a_', 'c.61.1.1', 'd1wd5a_', 'c.61.1.1', 1.6e-08], ['d1wdpa_', 'c.1.8.1', 'd1wdpa_', 'c.1.8.1', 3.4e-57], ['d1wgpa_', 'b.82.3.2', 'd1wgpa_', 'b.82.3.2', 1.9e-12], ['d1wjka_', 'c.47.1.1', 'd1wjka_', 'c.47.1.1', 0.00013], ['d1wk1a_', 'd.169.1.1', 'd1wk1a_', 'd.169.1.1', 1.6e-13], ['d1wmza_', 'd.169.1.1', 'd1wmza_', 'd.169.1.1', 3.4e-23], ['d1wu7a2', 'd.104.1.1', 'd1wu7a2', 'd.104.1.1', 0.00013], ['d1wuea2', 'd.54.1.1', 'd1wuea2', 'd.54.1.1', 1.1e-22], ['d1wvec_', 'a.3.1.1', 'd1wvec_', 'a.3.1.1', 7.3e-05], ['d1wwza1', 'd.108.1.1', 'd1wwza1', 'd.108.1.1', 8.3e-10], ['d1wzaa2', 'c.1.8.1', 'd1wzaa2', 'c.1.8.1', 4.1e-57], ['d1x1na1', 'c.1.8.1', 'd1x1na1', 'c.1.8.1', 2.6e-11], ['d1x53a1', 'd.129.3.5', 'd1x53a1', 'd.129.3.5', 0.00086], ['d1x8qa_', 'b.60.1.1', 'd1x8qa_', 'b.60.1.1', 8.9e-28], ['d1xdia1', 'c.3.1.5', 'd1xdia1', 'c.3.1.5', 1.3e-19], ['d1xfsa_', 'd.129.3.5', 'd1xfsa_', 'd.129.3.5', 3.9e-08], ['d1xkia_', 'b.60.1.1', 'd1xkia_', 'b.60.1.1', 1.1e-12], ['d1xn5a_', 'd.129.3.5', 'd1xn5a_', 'd.129.3.5', 1.2e-22], ['d1xo5a_', 'a.39.1.5', 'd1xo5a_', 'a.39.1.5', 4.1e-06], ['d1xtta1', 'c.61.1.1', 'd1xtta1', 'c.61.1.1', 1.1e-10], ['d1xuva_', 'd.129.3.5', 'd1xuva_', 'd.129.3.5', 1.1e-15], ['d1y0ba1', 'c.61.1.1', 'd1y0ba1', 'c.61.1.1', 7.8e-06], ['d1y0ya3', 'c.56.5.4', 'd1y0ya3', 'c.56.5.4', 1.4e-31], ['d1y5ha3', 'd.37.1.1', 'd1y5ha3', 'd.37.1.1', 2.8e-12], ['d1y7ra1', 'd.108.1.1', 'd1y7ra1', 'd.108.1.1', 9.8e-06], ['d1y9ka1', 'd.108.1.1', 'd1y9ka1', 'd.108.1.1', 4.4e-09], ['d1y9wa1', 'd.108.1.1', 'd1y9wa1', 'd.108.1.1', 7.7e-13], ['d1yb5a1', 'b.35.1.2', 'd1yb5a1', 'b.35.1.2', 2.3e-23], ['d1yb5a2', 'c.2.1.1', 'd1yb5a2', 'c.2.1.1', 1e-21], ['d1yeya2', 'd.54.1.1', 'd1yeya2', 'd.54.1.1', 1.2e-10], ['d2cf7a_', 'a.25.1.1', 'd2cf7a_', 'a.25.1.1', 3.8e-26], ['d1yoca1', 'd.38.1.5', 'd1yoca1', 'd.38.1.5', 4.5e-08], ['d1yqga2', 'c.2.1.6', 'd1yqga2', 'c.2.1.6', 5.2e-05], ['d1yqsa_', 'e.3.1.1', 'd1yqsa_', 'e.3.1.1', 2.3e-07], ['d1yuza1', 'a.25.1.1', 'd1yuza1', 'a.25.1.1', 1.3e-26], ['d1yx0a1', 'd.108.1.1', 'd1yx0a1', 'd.108.1.1', 4.1e-07], ['d1z2la1', 'c.56.5.4', 'd1z2la1', 'c.56.5.4', 6.7e-12], ['d1z4ea1', 'd.108.1.1', 'd1z4ea1', 'd.108.1.1', 6.7e-10], ['d1z4ra1', 'd.108.1.1', 'd1z4ra1', 'd.108.1.1', 5.2e-17], ['d1z6na1', 'c.47.1.1', 'd1z6na1', 'c.47.1.1', 7.1e-37], ['d1z6om1', 'a.25.1.1', 'd1z6om1', 'a.25.1.1', 2.8e-23], ['d1z94a1', 'd.129.3.5', 'd1z94a1', 'd.129.3.5', 4.1e-12], ['d1z9ha1', 'a.45.1.1', 'd1z9ha1', 'a.45.1.1', 5.9e-07], ['d1zfja4', 'd.37.1.1', 'd1zfja4', 'd.37.1.1', 4e-10], ['d1zina1', 'c.37.1.1', 'd1zina1', 'c.37.1.1', 3.6e-36], ['d1zk8a1', 'a.4.1.9', 'd1zk8a1', 'a.4.1.9', 2.9e-11], ['d1zoda_', 'c.67.1.4', 'd1zoda_', 'c.67.1.4', 1.3e-28], ['d1zs3a1', 'a.25.1.1', 'd1zs3a1', 'a.25.1.1', 8.1e-10], ['d1zyba2', 'b.82.3.2', 'd1zyba2', 'b.82.3.2', 4e-12], ['d2a61a1', 'a.4.5.28', 'd2a61a1', 'a.4.5.28', 8.5e-25], ['d2ae6a1', 'd.108.1.1', 'd2ae6a1', 'd.108.1.1', 1.6e-12], ['d2ahra2', 'c.2.1.6', 'd2ahra2', 'c.2.1.6', 1.3e-05], ['d2yzqa2', 'd.37.1.1', 'd2yzqa2', 'd.37.1.1', 1.1e-15], ['d2aj6a1', 'd.108.1.1', 'd2aj6a1', 'd.108.1.1', 9.6e-05], ['d2akza2', 'd.54.1.1', 'd2akza2', 'd.54.1.1', 3.2e-33], ['d2atra1', 'd.108.1.1', 'd2atra1', 'd.108.1.1', 7.1e-05], ['d2azwa1', 'd.113.1.1', 'd2azwa1', 'd.113.1.1', 1.2e-10], ['d2b06a1', 'd.113.1.1', 'd2b06a1', 'd.113.1.1', 5.7e-11], ['d2b0va1', 'd.113.1.1', 'd2b0va1', 'd.113.1.1', 1.6e-10], ['d2b4aa1', 'c.23.1.1', 'd3heba_', 'c.23.1.0', 4.1e-11], ['d2b5ga_', 'd.108.1.1', 'd2b5ga_', 'd.108.1.1', 9e-08], ['d2c4ja1', 'a.45.1.1', 'd2c4ja1', 'a.45.1.1', 7.6e-43], ['d2gb3a1', 'c.67.1.1', 'd2gb3a1', 'c.67.1.1', 1.3e-60], ['d2dkja_', 'c.67.1.4', 'd2dkja_', 'c.67.1.4', 2.5e-97], ['d1o69a_', 'c.67.1.4', 'd2c81a_', 'c.67.1.0', 7.3e-06], ['d2cvda1', 'a.45.1.1', 'd2cvda1', 'a.45.1.1', 2.2e-15], ['d2d4za3', 'd.37.1.1', 'd2d4za3', 'd.37.1.1', 0.002], ['d2dm6a1', 'b.35.1.2', 'd2dm6a1', 'b.35.1.2', 1.9e-10], ['d2dm6a2', 'c.2.1.1', 'd2dm6a2', 'c.2.1.1', 4.5e-29], ['d2e6fa_', 'c.1.4.1', 'd2e6fa_', 'c.1.4.1', 2.3e-50], ['d2efja_', 'c.66.1.0', 'd2efja_', 'c.66.1.0', 1.4e-93], ['d2etha1', 'a.4.5.28', 'd2etha1', 'a.4.5.28', 9.1e-25], ['d2euia1', 'd.108.1.1', 'd2euia1', 'd.108.1.1', 2.5e-10], ['d2f1ka2', 'c.2.1.6', 'd2f1ka2', 'c.2.1.6', 1.2e-11], ['d2f41a1', 'd.38.1.5', 'd2f41a1', 'd.38.1.5', 5.2e-08], ['d2fbha1', 'a.4.5.28', 'd2fbha1', 'a.4.5.28', 2.2e-22], ['d2fbia1', 'a.4.5.28', 'd2fbia1', 'a.4.5.28', 9.9e-24], ['d2fbka1', 'a.4.5.28', 'd2fbka1', 'a.4.5.28', 1.1e-16], ['d2fd5a1', 'a.4.1.9', 'd2fd5a1', 'a.4.1.9', 2.2e-17], ['d2fhfa5', 'c.1.8.1', 'd2fhfa5', 'c.1.8.1', 2.8e-08], ['d2fhqa1', 'b.45.1.1', 'd2fhqa1', 'b.45.1.1', 5.3e-06], ['d2fiaa1', 'd.108.1.1', 'd2fiaa1', 'd.108.1.1', 2.6e-06], ['d2fiwa1', 'd.108.1.1', 'd2fiwa1', 'd.108.1.1', 0.00044], ['d2fl4a1', 'd.108.1.1', 'd2fl4a1', 'd.108.1.1', 5.3e-12], ['d2fnaa2', 'c.37.1.20', 'd2fnaa2', 'c.37.1.20', 6.2e-08], ['d2fnua_', 'c.67.1.4', 'd2fnua_', 'c.67.1.4', 0.00024], ['d2fvva1', 'd.113.1.1', 'd2fvva1', 'd.113.1.1', 1.3e-24], ['d2fwha_', 'c.47.1.1', 'd2fwha_', 'c.47.1.1', 1.3e-07], ['d2fxaa1', 'a.4.5.28', 'd2fxaa1', 'a.4.5.28', 3.1e-13], ['d2g3aa1', 'd.108.1.1', 'd2g3aa1', 'd.108.1.1', 2.4e-08], ['d2g7ga1', 'a.4.1.9', 'd2g7ga1', 'a.4.1.9', 1.8e-08], ['d1xeaa1', 'c.2.1.3', 'd2g7ga2', 'a.121.1.1', 0.0016], ['d2g7la2', 'a.121.1.1', 'd2g7la2', 'a.121.1.1', 8.9e-06], ['d2g7sa1', 'a.4.1.9', 'd2g7sa1', 'a.4.1.9', 5.4e-12], ['d2g82a1', 'c.2.1.3', 'd2g82a1', 'c.2.1.3', 3.1e-28], ['d2gana1', 'd.108.1.1', 'd2gana1', 'd.108.1.1', 9.1e-08], ['d2gaua2', 'b.82.3.2', 'd2gaua2', 'b.82.3.2', 6.7e-14], ['d2gdqa2', 'd.54.1.1', 'd2gdqa2', 'd.54.1.1', 3.9e-10], ['d2gena1', 'a.4.1.9', 'd2gena1', 'a.4.1.9', 8e-19], ['d2gfna1', 'a.4.1.9', 'd2gfna1', 'a.4.1.9', 3e-18], ['d2gl5a2', 'd.54.1.1', 'd2gl5a2', 'd.54.1.1', 8.5e-10], ['d2grea2', 'c.56.5.4', 'd2grea2', 'c.56.5.4', 4e-05], ['d2grja_', 'c.37.1.1', 'd2grja_', 'c.37.1.1', 1.1e-05], ['d2guya1', 'b.71.1.1', 'd2guya1', 'b.71.1.1', 1.7e-17], ['d2guya2', 'c.1.8.1', 'd2guya2', 'c.1.8.1', 5.2e-69], ['d2hdsa_', 'e.3.1.1', 'd2hdsa_', 'e.3.1.1', 2.3e-60], ['d2hi0a_', 'c.108.1.0', 'd2hi0a_', 'c.108.1.0', 2.8e-09], ['d2hoqa_', 'c.108.1.0', 'd2hoqa_', 'c.108.1.0', 2.4e-18], ['d2hq7a1', 'b.45.1.1', 'd2hq7a1', 'b.45.1.1', 1.3e-05], ['d2hq9a1', 'b.45.1.1', 'd2hq9a1', 'b.45.1.1', 6.5e-08], ['d2hr3a1', 'a.4.5.28', 'd2hr3a1', 'a.4.5.28', 7.7e-14], ['d2htia1', 'b.45.1.1', 'd2htia1', 'b.45.1.1', 1.4e-05], ['d2hx1a_', 'c.108.1.0', 'd2hx1a_', 'c.108.1.0', 1.4e-17], ['d2hx5a1', 'd.38.1.1', 'd2hx5a1', 'd.38.1.1', 5.7e-18], ['d2hyja1', 'a.4.1.9', 'd2hyja1', 'a.4.1.9', 5e-15], ['d2i4aa_', 'c.47.1.1', 'd2i4aa_', 'c.47.1.1', 4.4e-32], ['d2i10a1', 'a.4.1.9', 'd2i10a1', 'a.4.1.9', 1e-16], ['d2id3a1', 'a.4.1.9', 'd2id3a1', 'a.4.1.9', 1e-09], ['d2id6a1', 'a.4.1.9', 'd2id6a1', 'a.4.1.9', 3.1e-23], ['d2nxoa1', 'c.94.1.1', 'd2id6a2', 'a.121.1.1', 0.00036], ['d2igia_', 'c.55.3.5', 'd2igia_', 'c.55.3.5', 0.00023], ['d2il5a1', 'd.129.3.5', 'd2il5a1', 'd.129.3.5', 4.2e-12], ['d2iu5a1', 'a.4.1.9', 'd2iu5a1', 'a.4.1.9', 3.6e-12], ['d3doua_', 'c.66.1.0', 'd2ix0a3', 'b.40.4.5', 0.00019], ['d2j9la1', 'd.37.1.1', 'd2j9la1', 'd.37.1.1', 2.9e-07], ['d2jdca1', 'd.108.1.1', 'd2jdca1', 'd.108.1.1', 8.8e-08], ['d2je6i1', 'b.40.4.5', 'd2je6i1', 'b.40.4.5', 7.5e-06], ['d2jhfa1', 'b.35.1.2', 'd2jhfa1', 'b.35.1.2', 8.8e-74], ['d2k5ga1', 'd.129.3.5', 'd2k5ga1', 'd.129.3.5', 3e-05], ['d2l65a1', 'd.129.3.5', 'd2l65a1', 'd.129.3.5', 3.6e-07], ['d2mnra2', 'd.54.1.1', 'd2mnra2', 'd.54.1.1', 6e-14], ['d2nn5a1', 'd.129.3.5', 'd2nn5a1', 'd.129.3.5', 4e-10], ['d2np3a1', 'a.4.1.9', 'd2np3a1', 'a.4.1.9', 8.2e-18], ['d2np5a1', 'a.4.1.9', 'd2np5a1', 'a.4.1.9', 8.1e-18], ['d2nyca1', 'd.37.1.1', 'd2nyca1', 'd.37.1.1', 1.1e-28], ['d2o7ta1', 'a.4.1.9', 'd2o7ta1', 'a.4.1.9', 1.4e-09], ['d2oafa1', 'd.38.1.1', 'd2oafa1', 'd.38.1.1', 1.2e-13], ['d2oi8a1', 'a.4.1.9', 'd2oi8a1', 'a.4.1.9', 1.3e-12], ['d2oiwa1', 'd.38.1.1', 'd2oiwa1', 'd.38.1.1', 5.9e-21], ['d2ouxa2', 'd.37.1.1', 'd2ouxa2', 'd.37.1.1', 2.6e-15], ['d2ov9a1', 'd.38.1.5', 'd2ov9a1', 'd.38.1.5', 3.1e-07], ['d2p0wa_', 'd.108.1.1', 'd2p0wa_', 'd.108.1.1', 2.2e-10], ['d2p65a_', 'c.37.1.20', 'd2p65a_', 'c.37.1.20', 5.9e-49], ['d2p74a_', 'e.3.1.1', 'd2p74a_', 'e.3.1.1', 1.2e-70], ['d2r25b_', 'c.23.1.1', 'd2r25b_', 'c.23.1.1', 6.5e-29], ['d2v0na2', 'c.23.1.1', 'd3heba_', 'c.23.1.0', 3.7e-17], ['d2pq8a_', 'd.108.1.1', 'd2pq8a_', 'd.108.1.1', 3.9e-41], ['d1q35a_', 'c.94.1.1', 'd2q88a_', 'c.94.1.0', 4.1e-10], ['d2q88a_', 'c.94.1.0', 'd2q88a_', 'c.94.1.0', 4.5e-06], ['d1pb7a_', 'c.94.1.1', 'd2q88a_', 'c.94.1.0', 1.4e-08], ['d1ii5a_', 'c.94.1.1', 'd3r6ua_', 'c.94.1.0', 3.7e-13], ['d2nooa_', 'c.94.1.1', 'd3r6ua_', 'c.94.1.0', 5e-05], ['d2rc3a1', 'd.37.1.1', 'd2rc3a1', 'd.37.1.1', 3.4e-09], ['d2riha_', 'd.37.1.1', 'd2riha_', 'd.37.1.1', 6.2e-09], ['d2scpa_', 'a.39.1.5', 'd2scpa_', 'a.39.1.5', 4.3e-06], ['d2uubl1', 'b.40.4.5', 'd2uubl1', 'b.40.4.5', 6.9e-18], ['d2uubq1', 'b.40.4.5', 'd2uubq1', 'b.40.4.5', 8e-14], ['d2v1ma_', 'c.47.1.0', 'd2v1ma_', 'c.47.1.0', 4.8e-22], ['d2v2ff_', 'e.3.1.1', 'd2v2ff_', 'e.3.1.1', 3.5e-44], ['d2v8qe2', 'd.37.1.1', 'd2v8qe2', 'd.37.1.1', 4.1e-19], ['d2voua1', 'c.3.1.2', 'd2voua1', 'c.3.1.2', 8.6e-07], ['d2vpaa_', 'b.45.1.1', 'd2vpaa_', 'b.45.1.1', 5.2e-35], ['d2w43a_', 'c.108.1.0', 'd2w43a_', 'c.108.1.0', 1.4e-10], ['d2x4da_', 'c.108.1.0', 'd2x4da_', 'c.108.1.0', 1.3e-20], ['d3broa1', 'a.4.5.28', 'd3broa1', 'a.4.5.28', 3.7e-21], ['d3echa_', 'a.4.5.28', 'd3echa_', 'a.4.5.28', 1.6e-17], ['d2y3qa_', 'a.25.1.1', 'd2y3qa_', 'a.25.1.1', 1.2e-30], ['d2yzia1', 'd.37.1.1', 'd2yzia1', 'd.37.1.1', 9.5e-17], ['d2yzqa1', 'd.37.1.1', 'd2yzqa1', 'd.37.1.1', 1.3e-16], ['d2zcwa2', 'b.82.3.2', 'd2zcwa2', 'b.82.3.2', 2.2e-11], ['d2zfda1', 'a.39.1.5', 'd2zfda1', 'a.39.1.5', 4.8e-13], ['d2ziba_', 'd.169.1.1', 'd2ziba_', 'd.169.1.1', 1.8e-29], ['d3a6sa_', 'd.113.1.1', 'd3a6sa_', 'd.113.1.1', 1.4e-17], ['d3bdia_', 'c.69.1.0', 'd3bdia_', 'c.69.1.0', 1e-06], ['d3bmva1', 'b.1.18.2', 'd3bmva1', 'b.1.18.2', 1.1e-07], ['d1ursa_', 'c.94.1.1', 'd3r6ua_', 'c.94.1.0', 3.5e-09], ['d3bmva3', 'b.71.1.1', 'd3bmva3', 'b.71.1.1', 5.7e-17], ['d3bmva4', 'c.1.8.1', 'd3bmva4', 'c.1.8.1', 1.6e-81], ['d3bpza_', 'b.82.3.2', 'd3bpza_', 'b.82.3.2', 1.9e-65], ['d3bvfa_', 'a.25.1.1', 'd3bvfa_', 'a.25.1.1', 5e-29], ['d3bzka4', 'b.40.4.5', 'd3bzka4', 'b.40.4.5', 1.7e-05], ['d3c7ma_', 'c.47.1.0', 'd3c7ma_', 'c.47.1.0', 5.9e-31], ['d3ctaa1', 'a.4.5.28', 'd3ctaa1', 'a.4.5.28', 1.4e-08], ['d3ddja1', 'd.37.1.1', 'd3ddja1', 'd.37.1.1', 7.9e-10], ['d3ddja2', 'd.37.1.1', 'd3ddja2', 'd.37.1.1', 3.3e-16], ['d3delb_', 'c.94.1.0', 'd3delb_', 'c.94.1.0', 1.2e-26], ['d1xt8a1', 'c.94.1.1', 'd3r6ua_', 'c.94.1.0', 3.4e-15], ['d3dnpa_', 'c.108.1.0', 'd3dnpa_', 'c.108.1.0', 4.7e-12], ['d3e5ua2', 'b.82.3.2', 'd3e5ua2', 'b.82.3.2', 1.7e-21], ['d3d2la_', 'c.66.1.0', 'd3ehea_', 'c.2.1.0', 8.6e-05], ['d3elia1', 'd.129.3.5', 'd3elia1', 'd.129.3.5', 5.8e-11], ['d3evfa_', 'c.66.1.0', 'd3evfa_', 'c.66.1.0', 5.6e-18], ['d3f1la_', 'c.2.1.0', 'd3f1la_', 'c.2.1.0', 2.8e-58], ['d3fzqa_', 'c.108.1.0', 'd3fzqa_', 'c.108.1.0', 1.2e-11], ['d3h7ma_', 'c.94.1.0', 'd3h7ma_', 'c.94.1.0', 5.9e-13], ['d3hupa_', 'd.169.1.1', 'd3hupa_', 'd.169.1.1', 6.4e-26], ['d3i4fa_', 'c.2.1.0', 'd3i4fa_', 'c.2.1.0', 1.3e-46], ['d3i6va_', 'c.94.1.0', 'd3i6va_', 'c.94.1.0', 7.8e-19], ['d3kffa_', 'b.60.1.1', 'd3kffa_', 'b.60.1.1', 6.9e-46], ['d3kzga_', 'c.94.1.0', 'd3kzga_', 'c.94.1.0', 2.5e-20], ['d1uqwa_', 'c.94.1.1', 'd3tqla_', 'c.94.1.0', 4.7e-06], ['d3l77a_', 'c.2.1.0', 'd3l77a_', 'c.2.1.0', 1.9e-40], ['d1h9aa1', 'c.2.1.3', 'd3l77a_', 'c.2.1.0', 9e-05], ['d3l9jc_', 'd.169.1.1', 'd3l9jc_', 'd.169.1.1', 9.2e-26], ['d3mu7a_', 'c.1.8.0', 'd3mu7a_', 'c.1.8.0', 1e-45], ['d3mw9a1', 'c.2.1.7', 'd3mw9a1', 'c.2.1.7', 1e-25], ['d3n9ka_', 'c.1.8.3', 'd3n9ka_', 'c.1.8.3', 2.3e-12], ['d3qnma_', 'c.108.1.0', 'd3qnma_', 'c.108.1.0', 4.7e-17], ['d3qy3a1', 'd.38.1.1', 'd3qy3a1', 'd.38.1.1', 4.3e-24], ['d3r6ua_', 'c.94.1.0', 'd3r6ua_', 'c.94.1.0', 9.5e-10], ['d3s26a_', 'b.60.1.1', 'd3s26a_', 'b.60.1.1', 1.3e-31], ['d3saoa_', 'b.60.1.1', 'd3saoa_', 'b.60.1.1', 9.4e-37], ['d1xoca1', 'c.94.1.1', 'd3tqla_', 'c.94.1.0', 6.8e-08], ['d3vlva_', 'c.94.1.1', 'd3vlva_', 'c.94.1.1', 4.4e-33], ['d3zr0a_', 'd.113.1.1', 'd3zr0a_', 'd.113.1.1', 3.4e-12]]\n"
     ]
    }
   ],
   "source": [
    "#Filter the best hit four each test sequence, you can produce a table with\n",
    "#sequenceID, correct family, predicted family\n",
    "\n",
    "def removeWrongLines(nom):\n",
    "    infile=open(nom, 'r')\n",
    "    outfile=open(nom + \".tmp\", 'w')\n",
    "    A=infile.readlines()\n",
    "    rep = \"\"\n",
    "    cpt=0\n",
    "    for ligne in A :\n",
    "        if ligne[0] != \"#\": \n",
    "            tab=ligne.split()\n",
    "            prot = tab[0]; protqid = prot[0:7]; protqfa = prot[7:]\n",
    "            prot = tab[1]; protmid = prot[0:7]; protmfa = prot[7:]\n",
    "            if (protqfa != protmfa) :\n",
    "                rep= rep + ligne\n",
    "            elif (protqid == protmid):\n",
    "                rep= rep + ligne\n",
    "    outfile.write(rep)\n",
    "    outfile.close()\n",
    "    infile.close()\n",
    " \n",
    "################################################\n",
    "def removeDupLines(nom):\n",
    "    infile=open(nom, 'r')\n",
    "    A=infile.readlines()\n",
    "    rep = {}\n",
    "    lrep = []\n",
    "    cpt=0\n",
    "    for ligne in A :\n",
    "        tab=ligne.split()\n",
    "        prot = tab[0]; protqid = prot[0:7]; protqfa = prot[7:]\n",
    "        prot = tab[1]; protmid = prot[0:7]; protmfa = prot[7:]\n",
    "        evalue = float(tab[2])\n",
    "        l=[]\n",
    "        if protqid not in rep.keys():\n",
    "            l.append(protqid); l.append(protqfa); l.append(protmid); l.append(protmfa); l.append(evalue);\n",
    "        else:\n",
    "            c = rep[protqid]\n",
    "            #print c\n",
    "            if (evalue < c[4]):\n",
    "                l.append(protqid);l.append(protqfa); l.append(protmid); l.append(protmfa); l.append(evalue);\n",
    "            else:\n",
    "                l = c\n",
    "        rep[protqid] = l\n",
    "    \n",
    "    for key in rep:\n",
    "        lrep.append(rep[key])\n",
    "    return lrep\t\n",
    "\n",
    "file = \"searchResults95/allRes.txt.ftt\"\n",
    "removeWrongLines(file)\n",
    "print(removeWrongLines(file))\n",
    "rep = removeDupLines(file + \".tmp\")\n",
    "print(rep)\n"
   ]
  },
  {
   "cell_type": "markdown",
   "metadata": {
    "id": "yjkfA1di4JHw"
   },
   "source": [
    "4\\. Compute the performance. If a test sequence is better scored by the model associated to its family it is a true positive (TP). If it is scored by a different model it is a false positive (FP). If it is not scored by any model it is a false negative (FN). With this values compute $\\text{Precision}=\\frac{TP}{TP+FP}$, $\\text{Recall} = \\frac{TP}{TP+FN}$, and $\\text{F-score} = \\frac{ 2 \\cdot \\text{Precision} \\cdot \\text{Recall} }{ \\text{Precision} + \\text{Recall} }$."
   ]
  },
  {
   "cell_type": "code",
   "execution_count": 26,
   "metadata": {
    "id": "7TIB6Mps4JHw"
   },
   "outputs": [
    {
     "name": "stdout",
     "output_type": "stream",
     "text": [
      "TP =  447\n",
      "FP = 68\n",
      "TP+FP =  515\n",
      "FN ????? = 789 (total) - TP+FP =  274\n",
      "precision =  86.79611650485437  %\n",
      "Recall ???? = ????  61.99722607489597  % ??????\n"
     ]
    }
   ],
   "source": [
    "def ComputePerformance(resultsTable):\n",
    "    \"\"\"\n",
    "    compute performance measures\n",
    "\n",
    "    \"\"\"\n",
    "    TP,FP,FN = 0,0,0\n",
    "    for e in resultsTable:\n",
    "        if e[0]==e[2] and e[1]==e[3]:\n",
    "            TP =TP+1\n",
    "        else:\n",
    "            FP =FP+1\n",
    "    print(\"TP = \",TP)\n",
    "    print(\"FP =\",FP)\n",
    "    print(\"TP+FP = \",TP+FP)\n",
    "    print(\"FN ????? = 789 (total) - TP+FP = \",789-(TP+FP))\n",
    "    FN=789-(TP+FP)\n",
    "    precision = TP / (TP+FP)\n",
    "    print(\"precision = \",precision*100,\" %\")\n",
    "    recall = TP / (TP+FN)\n",
    "    print(\"Recall ???? = ???? \",recall*100, \" % ??????\")\n",
    "    f_score = 2*precision*recall / (precision+recall)\n",
    "    \n",
    "    \n",
    "    return TP,FP,FN,precision,recall,f_score\n",
    "\n",
    "\n",
    "TP,FP,FN,precision,recall,f_score = ComputePerformance(rep) \n"
   ]
  },
  {
   "cell_type": "markdown",
   "metadata": {
    "id": "HJNKTq-04JHx"
   },
   "source": [
    "5\\. Roc curve https://en.wikipedia.org/wiki/Receiver_operating_characteristic. We can plot curves to observe the performance of a tool under different conditions. For that, we range the score (E-value) and we compute true positive rate (Y axis) and false positive rate (X-axis) measures for each value. Write a python script to construct the Roc curve based on the results obtained before.<br><br>\n",
    "\n",
    "<font color=\"blue\">\n",
    "Sensitivity = true positive rate, recall, or probability of detection = the proportion of positives that are correctly classified\n",
    "Specificity = true negative rate = the proportion of negatives that are correctly classified\n",
    "<br>\n",
    "<br>\n",
    "$\\text{True Positive Rate} = \\frac{TP}{TP+FN}$\n",
    "<br>\n",
    "<br>\n",
    "$\\text{False Positive Rate} = \\frac{FP}{FP+TN}$\n",
    "<font>"
   ]
  },
  {
   "cell_type": "code",
   "execution_count": null,
   "metadata": {
    "id": "gQC4b1h-4JHx"
   },
   "outputs": [],
   "source": [
    "def plorROC(rep, nom, total):\n",
    "    pass\n",
    "    TP,FP,FN,precision,recall,f_score = ComputePerformance(rep) \n",
    "    \n",
    "    plt.plot(recall,FPR)\n",
    "\n",
    "plorROC(rep, \"Scop-95\", 789)"
   ]
  },
  {
   "cell_type": "markdown",
   "metadata": {
    "id": "Jl5S7f5o4JHy"
   },
   "source": [
    "6\\. Write a python script to plot the Precision/recall curve. We can use the same strategy of Roc curve to compute the precision  (Y axis)  and recall  (X axis)  curves."
   ]
  },
  {
   "cell_type": "code",
   "execution_count": null,
   "metadata": {
    "id": "9WdrokDt4JHy"
   },
   "outputs": [],
   "source": [
    "def plotPR(reps, nom, total):\n",
    "  pass\n",
    "    \n",
    "        \n",
    "plotPR(rep, \"Scop-95\", 789)"
   ]
  },
  {
   "cell_type": "markdown",
   "metadata": {
    "id": "RkanuAua4JHy"
   },
   "source": [
    "7\\. Repeat steps 1 to 6 also for the scop-30 dataset and compare the curves obtained for the two SCOP datasets, what is your conclusion? Include the curves in your answer.\n",
    "\n"
   ]
  },
  {
   "cell_type": "code",
   "execution_count": 27,
   "metadata": {
    "id": "L_NP2nkk4JHz"
   },
   "outputs": [
    {
     "name": "stdout",
     "output_type": "stream",
     "text": [
      "None\n",
      "[['d1a3ca_', 'c.61.1.1', 'd1a3ca_', 'c.61.1.1', 3.1e-10], ['d2qora_', 'c.37.1.0', 'd1a5ta2', 'c.37.1.20', 5.8e-07], ['d1y63a_', 'c.37.1.1', 'd1sxja2', 'c.37.1.20', 4.5e-06], ['d3gnja_', 'c.47.1.0', 'd2fwha_', 'c.47.1.1', 8.9e-11], ['d3qmxa_', 'c.47.1.0', 'd1r26a_', 'c.47.1.1', 1.8e-06], ['d3h93a_', 'c.47.1.0', 'd3h93a_', 'c.47.1.0', 0.00015], ['d1b5qa1', 'c.3.1.2', 'd1b5qa1', 'c.3.1.2', 1.7e-08], ['d1nhpa2', 'c.3.1.5', 'd1pj5a2', 'c.3.1.2', 5e-11], ['d1v59a1', 'c.3.1.5', 'd1pj5a2', 'c.3.1.2', 1e-09], ['d1xhca2', 'c.3.1.5', 'd1pj5a2', 'c.3.1.2', 7.6e-08], ['d2gv8a1', 'c.3.1.5', 'd1pj5a2', 'c.3.1.2', 1.2e-09], ['d1w4xa1', 'c.3.1.5', 'd2ivda1', 'c.3.1.2', 4.6e-08], ['d1v59a2', 'c.3.1.5', 'd1n4wa1', 'c.3.1.2', 1.2e-06], ['d1gpja2', 'c.2.1.7', 'd2pv7a2', 'c.2.1.6', 3.5e-09], ['d1fl2a2', 'c.3.1.5', 'd1n4wa1', 'c.3.1.2', 8.2e-07], ['d1fl2a1', 'c.3.1.5', 'd2voua1', 'c.3.1.2', 4.7e-05], ['d1b8aa2', 'd.104.1.1', 'd1b8aa2', 'd.104.1.1', 0.00017], ['d1bf2a2', 'b.71.1.1', 'd1bf2a2', 'b.71.1.1', 6e-05], ['d1bf2a3', 'c.1.8.1', 'd1bf2a3', 'c.1.8.1', 6.2e-23], ['d1bg6a2', 'c.2.1.6', 'd1bg6a2', 'c.2.1.6', 1.3e-05], ['d1bo4a_', 'd.108.1.1', 'd1bo4a_', 'd.108.1.1', 7.2e-10], ['d1boba_', 'd.108.1.1', 'd1boba_', 'd.108.1.1', 6.2e-06], ['d2epja_', 'c.67.1.0', 'd3piua_', 'c.67.1.4', 1.6e-20], ['d2c81a_', 'c.67.1.0', 'd1vefa1', 'c.67.1.4', 2.3e-13], ['d3ftba_', 'c.67.1.0', 'd1v72a1', 'c.67.1.1', 1.3e-35], ['d1bw0a_', 'c.67.1.1', 'd1bw0a_', 'c.67.1.1', 8.8e-23], ['d3piua_', 'c.67.1.4', 'd1m6sa_', 'c.67.1.1', 3e-32], ['d1byfa_', 'd.169.1.1', 'd1byfa_', 'd.169.1.1', 6.7e-13], ['d1c1da1', 'c.2.1.7', 'd1c1da1', 'c.2.1.7', 8.7e-09], ['d1piwa2', 'c.2.1.1', 'd1piwa2', 'c.2.1.1', 2.5e-13], ['d1cg2a1', 'c.56.5.4', 'd1cg2a1', 'c.56.5.4', 9.2e-07], ['d1ci9a_', 'e.3.1.1', 'd1ci9a_', 'e.3.1.1', 2.8e-10], ['d1ctaa_', 'a.39.1.5', 'd1ctaa_', 'a.39.1.5', 3.6e-06], ['d1cx4a1', 'b.82.3.2', 'd1cx4a1', 'b.82.3.2', 5e-17], ['d1cx4a2', 'b.82.3.2', 'd1cx4a2', 'b.82.3.2', 3.6e-11], ['d1d2na_', 'c.37.1.20', 'd1d2na_', 'c.37.1.20', 5.5e-05], ['d1ly1a_', 'c.37.1.1', 'd1d2na_', 'c.37.1.20', 0.00021], ['d3cfya_', 'c.23.1.0', 'd2v0na2', 'c.23.1.1', 3.6e-29], ['d3heba_', 'c.23.1.0', 'd1kgsa2', 'c.23.1.1', 9e-27], ['d3khta_', 'c.23.1.0', 'd2r25b_', 'c.23.1.1', 1.7e-23], ['d1dbwa_', 'c.23.1.1', 'd3khta_', 'c.23.1.0', 3.2e-22], ['d3eqza_', 'c.23.1.0', 'd1mb3a_', 'c.23.1.1', 1e-14], ['d2plna_', 'c.23.1.0', 'd1jbea_', 'c.23.1.1', 3.6e-11], ['d3ktoa_', 'c.23.1.0', 'd1s8na_', 'c.23.1.1', 3.1e-13], ['d1q0qa2', 'c.2.1.3', 'd1dbwa_', 'c.23.1.1', 2.2e-05], ['d1in4a2', 'c.37.1.20', 'd1kgda_', 'c.37.1.1', 1.1e-06], ['d2jaqa_', 'c.37.1.0', 'd1e2ka_', 'c.37.1.1', 8.3e-06], ['d1g41a_', 'c.37.1.20', 'd1g41a_', 'c.37.1.20', 1.5e-07], ['d3akea_', 'c.37.1.0', 'd1khta_', 'c.37.1.1', 0.00023], ['d1dlja2', 'c.2.1.6', 'd1dlja2', 'c.2.1.6', 8.4e-05], ['d1dw0a_', 'a.3.1.1', 'd1dw0a_', 'a.3.1.1', 0.00044], ['d1dz3a_', 'c.23.1.1', 'd1dz3a_', 'c.23.1.1', 1.2e-27], ['d1dzka_', 'b.60.1.1', 'd1dzka_', 'b.60.1.1', 0.00017], ['d1e43a2', 'c.1.8.1', 'd1e43a2', 'c.1.8.1', 3.5e-12], ['d1ecfa1', 'c.61.1.1', 'd1ecfa1', 'c.61.1.1', 2.5e-10], ['d1edga_', 'c.1.8.3', 'd1edga_', 'c.1.8.3', 3.2e-11], ['d1cf2o1', 'c.2.1.3', 'd3mw9a1', 'c.2.1.7', 3.5e-07], ['d1kola2', 'c.2.1.1', 'd1kola2', 'c.2.1.1', 1.7e-17], ['d1vj0a2', 'c.2.1.1', 'd1vj0a2', 'c.2.1.1', 3.9e-28], ['d1o89a2', 'c.2.1.1', 'd1o89a2', 'c.2.1.1', 3.8e-12], ['d1eema1', 'a.45.1.1', 'd1eema1', 'a.45.1.1', 2.4e-08], ['d1ei5a3', 'e.3.1.1', 'd1ei5a3', 'e.3.1.1', 1.6e-06], ['d1epba_', 'b.60.1.1', 'd1epba_', 'b.60.1.1', 1.7e-17], ['d1euza1', 'c.2.1.7', 'd1euza1', 'c.2.1.7', 2.5e-29], ['d1pj5a2', 'c.3.1.2', 'd1pj5a2', 'c.3.1.2', 1.1e-06], ['d2iida1', 'c.3.1.2', 'd2iida1', 'c.3.1.2', 2.6e-13], ['d3l77a_', 'c.2.1.0', 'd3l77a_', 'c.2.1.0', 1.3e-13], ['d1vm6a3', 'c.2.1.3', 'd1lj8a4', 'c.2.1.6', 9.2e-06], ['d1exra_', 'a.39.1.5', 'd1exra_', 'a.39.1.5', 1.3e-18], ['d1f0ya2', 'c.2.1.6', 'd3mw9a1', 'c.2.1.7', 2.2e-05], ['d1f8fa1', 'b.35.1.2', 'd1f8fa1', 'b.35.1.2', 6.1e-27], ['d1fg7a_', 'c.67.1.1', 'd1fg7a_', 'c.67.1.1', 2e-16], ['d1o69a_', 'c.67.1.4', 'd2epja_', 'c.67.1.0', 3.6e-25], ['d1fnoa4', 'c.56.5.4', 'd1fnoa4', 'c.56.5.4', 5.1e-05], ['d1fsga_', 'c.61.1.1', 'd1fsga_', 'c.61.1.1', 4.8e-09], ['d1g0sa_', 'd.113.1.1', 'd1g0sa_', 'd.113.1.1', 6.8e-12], ['d1g1ta1', 'd.169.1.1', 'd1g1ta1', 'd.169.1.1', 4.1e-22], ['d1g5aa2', 'c.1.8.1', 'd1g5aa2', 'c.1.8.1', 6.2e-26], ['d1gdea_', 'c.67.1.1', 'd1gdea_', 'c.67.1.1', 3.9e-48], ['d1gjwa2', 'c.1.8.1', 'd1gjwa2', 'c.1.8.1', 2.8e-11], ['d1gsia_', 'c.37.1.1', 'd1gsia_', 'c.37.1.1', 0.00014], ['d1gu2a_', 'a.3.1.1', 'd1gu2a_', 'a.3.1.1', 4.3e-05], ['d1gu7a1', 'b.35.1.2', 'd1gu7a1', 'b.35.1.2', 1.2e-09], ['d1gu7a2', 'c.2.1.1', 'd1gu7a2', 'c.2.1.1', 3.6e-11], ['d1mv8a2', 'c.2.1.6', 'd1mv8a2', 'c.2.1.6', 6.5e-06], ['d1luaa1', 'c.2.1.7', 'd1ks9a2', 'c.2.1.6', 1.2e-05], ['d1gz2a_', 'd.169.1.1', 'd1gz2a_', 'd.169.1.1', 6.4e-20], ['d1h2ba1', 'b.35.1.2', 'd1h2ba1', 'b.35.1.2', 1.5e-29], ['d1h2ba2', 'c.2.1.1', 'd1h2ba2', 'c.2.1.1', 1.7e-21], ['d2r6ja_', 'c.2.1.0', 'd1h2ba2', 'c.2.1.1', 9.7e-05], ['d3mw9a1', 'c.2.1.7', 'd3mw9a1', 'c.2.1.7', 4.5e-21], ['d1h32b_', 'a.3.1.1', 'd1h32b_', 'a.3.1.1', 1.3e-05], ['d1h3ga3', 'c.1.8.1', 'd1h3ga3', 'c.1.8.1', 5.7e-27], ['d1h6da1', 'c.2.1.3', 'd1h6da1', 'c.2.1.3', 0.00022], ['d3bjaa_', 'a.4.5.0', 'd1hsja1', 'a.4.5.28', 5e-24], ['d3jw4a_', 'a.4.5.0', 'd2fxaa1', 'a.4.5.28', 1.3e-26], ['d1hsja1', 'a.4.5.28', 'd1hsja1', 'a.4.5.28', 2.4e-16], ['d3df8a_', 'a.4.5.0', 'd1s3ja_', 'a.4.5.28', 4.5e-05], ['d1ht6a2', 'c.1.8.1', 'd1ht6a2', 'c.1.8.1', 1.2e-19], ['d1i12a_', 'd.108.1.1', 'd1i12a_', 'd.108.1.1', 3.3e-11], ['d1i36a2', 'c.2.1.6', 'd1i36a2', 'c.2.1.6', 0.00013], ['d1i4ua_', 'b.60.1.1', 'd1i4ua_', 'b.60.1.1', 1.4e-08], ['d1i8oa_', 'a.3.1.1', 'd1i8oa_', 'a.3.1.1', 7.7e-06], ['d2hzfa_', 'c.47.1.0', 'd2i4aa_', 'c.47.1.1', 1.8e-06], ['d1iqpa2', 'c.37.1.20', 'd1iqpa2', 'c.37.1.20', 2.7e-08], ['d1ixla_', 'd.38.1.5', 'd1ixla_', 'd.38.1.5', 4.9e-09], ['d1s5ua_', 'd.38.1.1', 'd1s5ua_', 'd.38.1.1', 2.4e-16], ['d1j7qa_', 'a.39.1.5', 'd1j7qa_', 'a.39.1.5', 3.8e-06], ['d1jaya_', 'c.2.1.6', 'd3ehea_', 'c.2.1.0', 1.1e-05], ['d1edza1', 'c.2.1.7', 'd1lj8a4', 'c.2.1.6', 8.4e-05], ['d1jbaa_', 'a.39.1.5', 'd1jbaa_', 'a.39.1.5', 3.1e-28], ['d1jbea_', 'c.23.1.1', 'd1jbea_', 'c.23.1.1', 2.7e-27], ['d1jeta_', 'c.94.1.1', 'd1jeta_', 'c.94.1.1', 6e-05], ['d1jfka_', 'a.39.1.5', 'd1jfka_', 'a.39.1.5', 1.6e-12], ['d2gf6a1', 'd.38.1.1', 'd2gf6a1', 'd.38.1.1', 2.2e-08], ['d1jgsa_', 'a.4.5.28', 'd1jgsa_', 'a.4.5.28', 1.3e-17], ['d2g7ga2', 'a.121.1.1', 'd1ji1a1', 'b.1.18.2', 7.6e-05], ['d1ji1a3', 'c.1.8.1', 'd1ji1a3', 'c.1.8.1', 9.9e-22], ['d1jkna_', 'd.113.1.1', 'd1jkna_', 'd.113.1.1', 1.3e-12], ['d1jpdx2', 'd.54.1.1', 'd1jpdx2', 'd.54.1.1', 2.1e-12], ['d1jqba1', 'b.35.1.2', 'd1jqba1', 'b.35.1.2', 3.7e-19], ['d1jqba2', 'c.2.1.1', 'd1jqba2', 'c.2.1.1', 3e-23], ['d1ju2a1', 'c.3.1.2', 'd1ju2a1', 'c.3.1.2', 1.1e-05], ['d1k0ia1', 'c.3.1.2', 'd1k0ia1', 'c.3.1.2', 8.1e-07], ['d1h6va2', 'c.3.1.5', 'd1k0ia1', 'c.3.1.2', 0.00022], ['d1k2ea_', 'd.113.1.1', 'd1k2ea_', 'd.113.1.1', 3.3e-14], ['d1k3ya1', 'a.45.1.1', 'd1k3ya1', 'a.45.1.1', 2.4e-14], ['d1k66a_', 'c.23.1.1', 'd1k66a_', 'c.23.1.1', 1.7e-19], ['d1kdga1', 'c.3.1.2', 'd1kdga1', 'c.3.1.2', 6.9e-13], ['d1kg0c_', 'd.169.1.1', 'd1kg0c_', 'd.169.1.1', 5.6e-07], ['d1kgsa2', 'c.23.1.1', 'd1kgsa2', 'c.23.1.1', 3.6e-28], ['d1um8a_', 'c.37.1.20', 'd1khta_', 'c.37.1.1', 7.5e-05], ['d1sxja2', 'c.37.1.20', 'd3do6a_', 'c.37.1.0', 9.1e-06], ['d1kola1', 'b.35.1.2', 'd1kola1', 'b.35.1.2', 5.9e-23], ['d1ks9a2', 'c.2.1.6', 'd1ks9a2', 'c.2.1.6', 3.3e-06], ['d1kt7a_', 'b.60.1.1', 'd1kt7a_', 'b.60.1.1', 7.3e-09], ['d1ktga_', 'd.113.1.1', 'd1ktga_', 'd.113.1.1', 6.9e-11], ['d1kxoa_', 'b.60.1.1', 'd1kxoa_', 'b.60.1.1', 7.4e-12], ['d1lb3a_', 'a.25.1.1', 'd1lb3a_', 'a.25.1.1', 2.1e-07], ['d1lc5a_', 'c.67.1.1', 'd1lc5a_', 'c.67.1.1', 4.5e-19], ['d1lf7a_', 'b.60.1.1', 'd1lf7a_', 'b.60.1.1', 9.8e-18], ['d1lfwa1', 'c.56.5.4', 'd1lfwa1', 'c.56.5.4', 4.8e-07], ['d1lj9a_', 'a.4.5.28', 'd1lj9a_', 'a.4.5.28', 3.1e-15], ['d1lo7a_', 'd.38.1.1', 'd1lo7a_', 'd.38.1.1', 9.7e-06], ['d2hboa1', 'd.38.1.5', 'd2hboa1', 'd.38.1.5', 2.2e-08], ['d3f5oa_', 'd.38.1.5', 'd3f5oa_', 'd.38.1.5', 6.3e-11], ['d1wlua_', 'd.38.1.5', 'd1wlua_', 'd.38.1.5', 5.7e-12], ['d1luza_', 'b.40.4.5', 'd1luza_', 'b.40.4.5', 0.00061], ['d1lv7a_', 'c.37.1.20', 'd1lv7a_', 'c.37.1.20', 6.5e-10], ['d1m6sa_', 'c.67.1.1', 'd1m6sa_', 'c.67.1.1', 6.3e-08], ['d2fnua_', 'c.67.1.4', 'd2epja_', 'c.67.1.0', 3e-14], ['d1m7xa3', 'c.1.8.1', 'd1m7xa3', 'c.1.8.1', 1.5e-17], ['d1mb3a_', 'c.23.1.1', 'd1mb3a_', 'c.23.1.1', 1.3e-30], ['d1mk4a_', 'd.108.1.1', 'd1mk4a_', 'd.108.1.1', 5.5e-10], ['d1seza1', 'c.3.1.2', 'd1seza1', 'c.3.1.2', 6.7e-10], ['d2dw4a2', 'c.3.1.2', 'd2dw4a2', 'c.3.1.2', 9e-07], ['d2gmha1', 'c.3.1.2', 'd2gmha1', 'c.3.1.2', 3.9e-07], ['d1ryia1', 'c.3.1.2', 'd1mv8a2', 'c.2.1.6', 0.00013], ['d1nhya1', 'a.45.1.1', 'd1nhya1', 'a.45.1.1', 1.1e-05], ['d1njfa_', 'c.37.1.20', 'd1njfa_', 'c.37.1.20', 0.00031], ['d1njka_', 'd.38.1.1', 'd1q4ta_', 'd.38.1.5', 6.5e-05], ['d1pl8a2', 'c.2.1.1', 'd1pl8a2', 'c.2.1.1', 1.6e-21], ['d1nqza_', 'd.113.1.1', 'd1nqza_', 'd.113.1.1', 8.6e-13], ['d1nula_', 'c.61.1.1', 'd1nula_', 'c.61.1.1', 9.1e-08], ['d1nyaa_', 'a.39.1.5', 'd1nyaa_', 'a.39.1.5', 1.8e-16], ['d2g82a1', 'c.2.1.3', 'd1o0sa1', 'c.2.1.7', 1.8e-05], ['d2gf3a1', 'c.3.1.2', 'd2gf3a1', 'c.3.1.2', 1.6e-06], ['d1o50a3', 'd.37.1.1', 'd1o50a3', 'd.37.1.1', 1.8e-15], ['d1o5la1', 'b.82.3.2', 'd1o5la1', 'b.82.3.2', 2.5e-08], ['d1o7fa2', 'b.82.3.2', 'd1o7fa2', 'b.82.3.2', 3.1e-19], ['d1o7fa3', 'b.82.3.2', 'd1o7fa3', 'b.82.3.2', 9.5e-22], ['d1o89a1', 'b.35.1.2', 'd1o89a1', 'b.35.1.2', 3.8e-05], ['d1ohwa_', 'c.67.1.4', 'd2c81a_', 'c.67.1.0', 7e-07], ['d1okta1', 'a.45.1.1', 'd1okta1', 'a.45.1.1', 9.3e-17], ['d1omra_', 'a.39.1.5', 'd1omra_', 'a.39.1.5', 2.1e-21], ['d1p0ha_', 'd.108.1.1', 'd1p0ha_', 'd.108.1.1', 0.029], ['d1p0ka_', 'c.1.4.1', 'd1p0ka_', 'c.1.4.1', 7.4e-09], ['d1p4aa2', 'c.61.1.1', 'd1p4aa2', 'c.61.1.1', 1.4e-07], ['d1p4xa1', 'a.4.5.28', 'd1p4xa1', 'a.4.5.28', 2.4e-13], ['d1p4xa2', 'a.4.5.28', 'd1p4xa2', 'a.4.5.28', 7e-17], ['d1pbja3', 'd.37.1.1', 'd1pbja3', 'd.37.1.1', 5.5e-19], ['d1piwa1', 'b.35.1.2', 'd1piwa1', 'b.35.1.2', 8e-21], ['d1pl8a1', 'b.35.1.2', 'd1pl8a1', 'b.35.1.2', 4.2e-26], ['d1pn0a1', 'c.3.1.2', 'd1pn0a1', 'c.3.1.2', 3.1e-05], ['d1pqwa_', 'c.2.1.1', 'd1pqwa_', 'c.2.1.1', 7.4e-24], ['d1pvma4', 'd.37.1.1', 'd1pvma4', 'd.37.1.1', 1.8e-23], ['d1pwba1', 'd.169.1.1', 'd1pwba1', 'd.169.1.1', 1.3e-20], ['d2ahra2', 'c.2.1.6', 'd2ahra2', 'c.2.1.6', 2.8e-06], ['d1q2ya_', 'd.108.1.1', 'd1q2ya_', 'd.108.1.1', 0.00025], ['d1q33a_', 'd.113.1.1', 'd1q33a_', 'd.113.1.1', 8.1e-09], ['d1q4ta_', 'd.38.1.5', 'd1q4ta_', 'd.38.1.5', 1.2e-17], ['d2gvha1', 'd.38.1.1', 'd2ov9a1', 'd.38.1.5', 5.3e-10], ['d1vpma_', 'd.38.1.1', 'd1vpma_', 'd.38.1.1', 2.7e-13], ['d3bjka_', 'd.38.1.1', 'd3bjka_', 'd.38.1.1', 9.6e-10], ['d1qb7a_', 'c.61.1.1', 'd1qb7a_', 'c.61.1.1', 1e-11], ['d1qdda_', 'd.169.1.1', 'd1qdda_', 'd.169.1.1', 2.6e-30], ['d1vpda2', 'c.2.1.6', 'd1vpda2', 'c.2.1.6', 1.6e-05], ['d1qo3c_', 'd.169.1.1', 'd1qo3c_', 'd.169.1.1', 1.1e-19], ['d1qora2', 'c.2.1.1', 'd1qora2', 'c.2.1.1', 3.5e-29], ['d1qsma_', 'd.108.1.1', 'd1qsma_', 'd.108.1.1', 2.8e-06], ['d1gnwa1', 'a.45.1.1', 'd1qsma_', 'd.108.1.1', 0.00027], ['d1qv0a_', 'a.39.1.5', 'd1qv0a_', 'a.39.1.5', 9e-10], ['d1qwda_', 'b.60.1.1', 'd1qwda_', 'b.60.1.1', 5.7e-06], ['d3kb2a_', 'c.37.1.1', 'd1svma_', 'c.37.1.20', 1.1e-05], ['d1r0ma2', 'd.54.1.1', 'd1r0ma2', 'd.54.1.1', 5.5e-13], ['d1r26a_', 'c.47.1.1', 'd1r26a_', 'c.47.1.1', 4.5e-06], ['d1r3na1', 'c.56.5.4', 'd1r3na1', 'c.56.5.4', 0.00029], ['d1r57a_', 'd.108.1.1', 'd1r57a_', 'd.108.1.1', 2.8e-05], ['d1r6bx3', 'c.37.1.20', 'd1r6bx3', 'c.37.1.20', 2.6e-05], ['d1r7aa2', 'c.1.8.1', 'd1r7aa2', 'c.1.8.1', 4.9e-07], ['d1rfea_', 'b.45.1.1', 'd1rfea_', 'b.45.1.1', 2.1e-12], ['d1rkta1', 'a.4.1.9', 'd1rkta1', 'a.4.1.9', 3.5e-17], ['d1rtqa_', 'c.56.5.4', 'd1rtqa_', 'c.56.5.4', 7.3e-05], ['d1s3ja_', 'a.4.5.28', 'd1s3ja_', 'a.4.5.28', 1.6e-20], ['d3k69a_', 'a.4.5.0', 'd2a61a1', 'a.4.5.28', 0.00013], ['d1s6ja_', 'a.39.1.5', 'd1s6ja_', 'a.39.1.5', 1.4e-17], ['d1s8na_', 'c.23.1.1', 'd1s8na_', 'c.23.1.1', 5e-29], ['d1sena_', 'c.47.1.1', 'd1sena_', 'c.47.1.1', 2.1e-05], ['d1sgma1', 'a.4.1.9', 'd1sgma1', 'a.4.1.9', 1.7e-15], ['d1sh8a_', 'd.38.1.5', 'd1sh8a_', 'd.38.1.5', 2.3e-05], ['d2hlja1', 'd.38.1.1', 'd2hlja1', 'd.38.1.1', 9.3e-07], ['d1sjda2', 'd.54.1.1', 'd1sjda2', 'd.54.1.1', 1.3e-18], ['d1sjya_', 'd.113.1.1', 'd1sjya_', 'd.113.1.1', 1.2e-18], ['d1svva_', 'c.67.1.1', 'd1svva_', 'c.67.1.1', 1.3e-09], ['d1bs0a_', 'c.67.1.4', 'd1svva_', 'c.67.1.1', 0.0003], ['d1t33a1', 'a.4.1.9', 'd1t33a1', 'a.4.1.9', 1.3e-11], ['d1t56a1', 'a.4.1.9', 'd1t56a1', 'a.4.1.9', 1.5e-15], ['d1tc1a_', 'c.61.1.1', 'd1tc1a_', 'c.61.1.1', 1.3e-06], ['d1tiqa_', 'd.108.1.1', 'd1tiqa_', 'd.108.1.1', 2.4e-11], ['d1tjoa_', 'a.25.1.1', 'd1tjoa_', 'a.25.1.1', 7.8e-06], ['d1tkja_', 'c.56.5.4', 'd1tkja_', 'c.56.5.4', 4.8e-07], ['d1tu7a1', 'a.45.1.1', 'd1tu7a1', 'a.45.1.1', 3.9e-16], ['d1tw9a1', 'a.45.1.1', 'd1tw9a1', 'a.45.1.1', 1.4e-15], ['d1u6ma_', 'd.108.1.1', 'd1u6ma_', 'd.108.1.1', 1.8e-13], ['d1ua7a2', 'c.1.8.1', 'd1ua7a2', 'c.1.8.1', 1.2e-14], ['d1ub9a_', 'a.4.5.28', 'd1ub9a_', 'a.4.5.28', 1.7e-06], ['d1ufha_', 'd.108.1.1', 'd1ufha_', 'd.108.1.1', 3.7e-11], ['d1ui5a1', 'a.4.1.9', 'd1ui5a1', 'a.4.1.9', 1.7e-21], ['d1uoka2', 'c.1.8.1', 'd1uoka2', 'c.1.8.1', 1.5e-17], ['d1uqwa_', 'c.94.1.1', 'd1uqwa_', 'c.94.1.1', 2.3e-11], ['d1ur4a_', 'c.1.8.3', 'd1ur4a_', 'c.1.8.3', 2.8e-06], ['d1v72a1', 'c.67.1.1', 'd1v72a1', 'c.67.1.1', 2.6e-09], ['d2bwna1', 'c.67.1.4', 'd1v72a1', 'c.67.1.1', 7.5e-05], ['d2bhua3', 'c.1.8.1', 'd2bhua3', 'c.1.8.1', 9.4e-20], ['d1v8ya_', 'd.113.1.1', 'd1v8ya_', 'd.113.1.1', 4.1e-13], ['d1vcha1', 'c.61.1.1', 'd1vcha1', 'c.61.1.1', 9e-06], ['d1vdma1', 'c.61.1.1', 'd1vdma1', 'c.61.1.1', 4.1e-11], ['d1vefa1', 'c.67.1.4', 'd2c81a_', 'c.67.1.0', 5.4e-23], ['d1vhta_', 'c.37.1.1', 'd1vhta_', 'c.37.1.1', 0.00035], ['d1vhza_', 'd.113.1.1', 'd1vhza_', 'd.113.1.1', 2.2e-13], ['d1vi0a1', 'a.4.1.9', 'd1vi0a1', 'a.4.1.9', 4.2e-21], ['d1vkca_', 'd.108.1.1', 'd1vkca_', 'd.108.1.1', 1.9e-10], ['d1vl6a1', 'c.2.1.7', 'd1vl6a1', 'c.2.1.7', 4.2e-08], ['d1vp6a_', 'b.82.3.2', 'd1vp6a_', 'b.82.3.2', 2e-21], ['d1vr9a3', 'd.37.1.1', 'd1vr9a3', 'd.37.1.1', 4.3e-15], ['d1w9aa_', 'b.45.1.1', 'd1w9aa_', 'b.45.1.1', 1.7e-13], ['d1p5zb_', 'c.37.1.1', 'd1wcv1_', 'c.37.1.0', 4.1e-05], ['d1wd5a_', 'c.61.1.1', 'd1wd5a_', 'c.61.1.1', 3.2e-11], ['d1wgpa_', 'b.82.3.2', 'd1wgpa_', 'b.82.3.2', 2.4e-07], ['d1wi5a_', 'b.40.4.5', 'd1wi5a_', 'b.40.4.5', 6.2e-05], ['d1wjka_', 'c.47.1.1', 'd1wjka_', 'c.47.1.1', 0.0001], ['d1wk1a_', 'd.169.1.1', 'd1wk1a_', 'd.169.1.1', 2.3e-13], ['d1wmza_', 'd.169.1.1', 'd1wmza_', 'd.169.1.1', 6.9e-19], ['d1wu7a2', 'd.104.1.1', 'd1wu7a2', 'd.104.1.1', 3e-05], ['d1wuea2', 'd.54.1.1', 'd1wuea2', 'd.54.1.1', 3.3e-20], ['d1wwza1', 'd.108.1.1', 'd1wwza1', 'd.108.1.1', 2.8e-07], ['d1wzaa2', 'c.1.8.1', 'd1wzaa2', 'c.1.8.1', 9.5e-25], ['d1x53a1', 'd.129.3.5', 'd1x53a1', 'd.129.3.5', 3.5e-05], ['d1xeba_', 'd.108.1.1', 'd1xeba_', 'd.108.1.1', 1.5e-05], ['d1xfsa_', 'd.129.3.5', 'd1xfsa_', 'd.129.3.5', 1.7e-12], ['d1xkia_', 'b.60.1.1', 'd1xkia_', 'b.60.1.1', 2.3e-08], ['d1xn5a_', 'd.129.3.5', 'd1xn5a_', 'd.129.3.5', 7.9e-10], ['d1xo5a_', 'a.39.1.5', 'd1xo5a_', 'a.39.1.5', 5.3e-13], ['d1xp4a2', 'e.3.1.1', 'd1xp4a2', 'e.3.1.1', 1.3e-05], ['d1xtta1', 'c.61.1.1', 'd1xtta1', 'c.61.1.1', 1.8e-06], ['d1xuva_', 'd.129.3.5', 'd1xuva_', 'd.129.3.5', 4.7e-10], ['d1y0ba1', 'c.61.1.1', 'd1y0ba1', 'c.61.1.1', 2.5e-07], ['d1y5ha3', 'd.37.1.1', 'd1y5ha3', 'd.37.1.1', 8.7e-13], ['d1y7ra1', 'd.108.1.1', 'd1y7ra1', 'd.108.1.1', 1.5e-05], ['d1y9ka1', 'd.108.1.1', 'd1y9ka1', 'd.108.1.1', 6.8e-12], ['d1y9wa1', 'd.108.1.1', 'd1y9wa1', 'd.108.1.1', 1.2e-10], ['d1yb5a1', 'b.35.1.2', 'd1yb5a1', 'b.35.1.2', 5.7e-16], ['d1yb5a2', 'c.2.1.1', 'd1yb5a2', 'c.2.1.1', 1.3e-29], ['d1ydwa1', 'c.2.1.3', 'd1ydwa1', 'c.2.1.3', 0.00011], ['d1yeya2', 'd.54.1.1', 'd1yeya2', 'd.54.1.1', 3e-07], ['d1yoca1', 'd.38.1.5', 'd1yoca1', 'd.38.1.5', 1e-05], ['d1yqga2', 'c.2.1.6', 'd1yqga2', 'c.2.1.6', 0.00011], ['d1yqsa_', 'e.3.1.1', 'd1yqsa_', 'e.3.1.1', 2.6e-13], ['d1yx0a1', 'd.108.1.1', 'd1yx0a1', 'd.108.1.1', 2.3e-06], ['d1z2la1', 'c.56.5.4', 'd1z2la1', 'c.56.5.4', 2.4e-05], ['d1z4ea1', 'd.108.1.1', 'd1z4ea1', 'd.108.1.1', 8.5e-10], ['d1z6om1', 'a.25.1.1', 'd1z6om1', 'a.25.1.1', 1.8e-14], ['d1z94a1', 'd.129.3.5', 'd1z94a1', 'd.129.3.5', 7.8e-10], ['d1z9ha1', 'a.45.1.1', 'd1z9ha1', 'a.45.1.1', 1.4e-05], ['d1zfja4', 'd.37.1.1', 'd1zfja4', 'd.37.1.1', 4.4e-11], ['d1khta_', 'c.37.1.1', 'd1zfja4', 'd.37.1.1', 0.00011], ['d1zk8a1', 'a.4.1.9', 'd1zk8a1', 'a.4.1.9', 6.3e-10], ['d1zoda_', 'c.67.1.4', 'd2c81a_', 'c.67.1.0', 3.5e-13], ['d1zyba2', 'b.82.3.2', 'd1zyba2', 'b.82.3.2', 7.5e-12], ['d2a61a1', 'a.4.5.28', 'd2a61a1', 'a.4.5.28', 2.9e-22], ['d2ae6a1', 'd.108.1.1', 'd2ae6a1', 'd.108.1.1', 5.3e-09], ['d2asfa1', 'b.45.1.1', 'd2asfa1', 'b.45.1.1', 1.9e-05], ['d2atra1', 'd.108.1.1', 'd2atra1', 'd.108.1.1', 4.4e-09], ['d2azwa1', 'd.113.1.1', 'd2azwa1', 'd.113.1.1', 3.5e-08], ['d2b06a1', 'd.113.1.1', 'd2b06a1', 'd.113.1.1', 4.6e-09], ['d2b0va1', 'd.113.1.1', 'd2b0va1', 'd.113.1.1', 1e-10], ['d2b4aa1', 'c.23.1.1', 'd2b4aa1', 'c.23.1.1', 3.1e-11], ['d2b5ga_', 'd.108.1.1', 'd2b5ga_', 'd.108.1.1', 9.3e-07], ['d2c4ja1', 'a.45.1.1', 'd2c4ja1', 'a.45.1.1', 2.6e-10], ['d2cvda1', 'a.45.1.1', 'd2cvda1', 'a.45.1.1', 1.3e-09], ['d2cy2a1', 'd.108.1.1', 'd2cy2a1', 'd.108.1.1', 0.00021], ['d2d4za3', 'd.37.1.1', 'd2d4za3', 'd.37.1.1', 0.00031], ['d2dm6a2', 'c.2.1.1', 'd2dm6a2', 'c.2.1.1', 1.3e-28], ['d2drwa1', 'e.3.1.1', 'd2drwa1', 'e.3.1.1', 2.8e-05], ['d2gb3a1', 'c.67.1.1', 'd2gb3a1', 'c.67.1.1', 4.8e-39], ['d2etha1', 'a.4.5.28', 'd2etha1', 'a.4.5.28', 2.7e-25], ['d2euia1', 'd.108.1.1', 'd2euia1', 'd.108.1.1', 1.4e-09], ['d2f1ka2', 'c.2.1.6', 'd2f1ka2', 'c.2.1.6', 5.3e-10], ['d2f41a1', 'd.38.1.5', 'd2f41a1', 'd.38.1.5', 4.8e-07], ['d2f5va1', 'c.3.1.2', 'd2f5va1', 'c.3.1.2', 2.8e-07], ['d2fbha1', 'a.4.5.28', 'd2fbha1', 'a.4.5.28', 2.6e-23], ['d2fbia1', 'a.4.5.28', 'd2fbia1', 'a.4.5.28', 1.6e-18], ['d2fbka1', 'a.4.5.28', 'd2fbka1', 'a.4.5.28', 2.2e-15], ['d2fd5a1', 'a.4.1.9', 'd2fd5a1', 'a.4.1.9', 6.6e-16], ['d2fg9a1', 'b.45.1.1', 'd2fg9a1', 'b.45.1.1', 2.4e-06], ['d2fhfa5', 'c.1.8.1', 'd2fhfa5', 'c.1.8.1', 1.2e-08], ['d2fhqa1', 'b.45.1.1', 'd2fhqa1', 'b.45.1.1', 6e-06], ['d2fiwa1', 'd.108.1.1', 'd2fiwa1', 'd.108.1.1', 0.00015], ['d2fl4a1', 'd.108.1.1', 'd2fl4a1', 'd.108.1.1', 1.3e-07], ['d2fvva1', 'd.113.1.1', 'd2fvva1', 'd.113.1.1', 2.7e-13], ['d2fwha_', 'c.47.1.1', 'd2fwha_', 'c.47.1.1', 3.6e-06], ['d2fxaa1', 'a.4.5.28', 'd2fxaa1', 'a.4.5.28', 8.8e-14], ['d2g3aa1', 'd.108.1.1', 'd2g3aa1', 'd.108.1.1', 1.1e-07], ['d2g7ga1', 'a.4.1.9', 'd2g7ga1', 'a.4.1.9', 5.8e-08], ['d2g7sa1', 'a.4.1.9', 'd2g7sa1', 'a.4.1.9', 8.4e-12], ['d2gana1', 'd.108.1.1', 'd2gana1', 'd.108.1.1', 1.8e-06], ['d2gaua2', 'b.82.3.2', 'd2gaua2', 'b.82.3.2', 6.3e-08], ['d2gdqa2', 'd.54.1.1', 'd2gdqa2', 'd.54.1.1', 1.7e-07], ['d2gena1', 'a.4.1.9', 'd2gena1', 'a.4.1.9', 5.2e-19], ['d2gfna1', 'a.4.1.9', 'd2gfna1', 'a.4.1.9', 3.3e-16], ['d2gl5a2', 'd.54.1.1', 'd2gl5a2', 'd.54.1.1', 4.9e-08], ['d2grja_', 'c.37.1.1', 'd2grja_', 'c.37.1.1', 4.9e-05], ['d2guya2', 'c.1.8.1', 'd2guya2', 'c.1.8.1', 2.5e-35], ['d2hi0a_', 'c.108.1.0', 'd2hi0a_', 'c.108.1.0', 9.4e-06], ['d2hoqa_', 'c.108.1.0', 'd2hoqa_', 'c.108.1.0', 4.1e-16], ['d2hq7a1', 'b.45.1.1', 'd2hq7a1', 'b.45.1.1', 8.9e-05], ['d2hq9a1', 'b.45.1.1', 'd2hq9a1', 'b.45.1.1', 1.6e-07], ['d2hr3a1', 'a.4.5.28', 'd2hr3a1', 'a.4.5.28', 6.4e-12], ['d2htia1', 'b.45.1.1', 'd2htia1', 'b.45.1.1', 2.3e-14], ['d2hx1a_', 'c.108.1.0', 'd2hx1a_', 'c.108.1.0', 1.9e-08], ['d2hx5a1', 'd.38.1.1', 'd2hx5a1', 'd.38.1.1', 5.2e-06], ['d2hyja1', 'a.4.1.9', 'd2hyja1', 'a.4.1.9', 2.9e-13], ['d2i10a1', 'a.4.1.9', 'd2i10a1', 'a.4.1.9', 2e-15], ['d2i4aa_', 'c.47.1.1', 'd2i4aa_', 'c.47.1.1', 8.7e-09], ['d2id3a1', 'a.4.1.9', 'd2id3a1', 'a.4.1.9', 2.8e-08], ['d2id6a1', 'a.4.1.9', 'd2id6a1', 'a.4.1.9', 1.9e-20], ['d2il5a1', 'd.129.3.5', 'd2il5a1', 'd.129.3.5', 5.9e-11], ['d2iu5a1', 'a.4.1.9', 'd2iu5a1', 'a.4.1.9', 7.9e-11], ['d2ivda1', 'c.3.1.2', 'd2ivda1', 'c.3.1.2', 3.8e-10], ['d2j9la1', 'd.37.1.1', 'd2j9la1', 'd.37.1.1', 4.1e-17], ['d2jdca1', 'd.108.1.1', 'd2jdca1', 'd.108.1.1', 5e-09], ['d2jhfa1', 'b.35.1.2', 'd2jhfa1', 'b.35.1.2', 6.4e-27], ['d2jhfa2', 'c.2.1.1', 'd2jhfa2', 'c.2.1.1', 5.6e-17], ['d2k5ga1', 'd.129.3.5', 'd2k5ga1', 'd.129.3.5', 4e-05], ['d2l65a1', 'd.129.3.5', 'd2l65a1', 'd.129.3.5', 3.2e-07], ['d2mnra2', 'd.54.1.1', 'd2mnra2', 'd.54.1.1', 4.2e-10], ['d2nn5a1', 'd.129.3.5', 'd2nn5a1', 'd.129.3.5', 5.2e-08], ['d2np3a1', 'a.4.1.9', 'd2np3a1', 'a.4.1.9', 2.1e-17], ['d2np5a1', 'a.4.1.9', 'd2np5a1', 'a.4.1.9', 2.2e-17], ['d2nuja1', 'd.38.1.1', 'd2nuja1', 'd.38.1.1', 1.2e-10], ['d2nyca1', 'd.37.1.1', 'd2nyca1', 'd.37.1.1', 5.4e-14], ['d2o7ta1', 'a.4.1.9', 'd2o7ta1', 'a.4.1.9', 9.2e-09], ['d2oafa1', 'd.38.1.1', 'd2oafa1', 'd.38.1.1', 7.4e-05], ['d2oi8a1', 'a.4.1.9', 'd2oi8a1', 'a.4.1.9', 1.2e-12], ['d2oiwa1', 'd.38.1.1', 'd2oiwa1', 'd.38.1.1', 2.2e-09], ['d2ouxa2', 'd.37.1.1', 'd2ouxa2', 'd.37.1.1', 7.5e-15], ['d2p0wa_', 'd.108.1.1', 'd2p0wa_', 'd.108.1.1', 2.1e-10], ['d2r25b_', 'c.23.1.1', 'd2r25b_', 'c.23.1.1', 5.8e-27], ['d2v0na2', 'c.23.1.1', 'd2v0na2', 'c.23.1.1', 1.4e-12], ['d1xt8a1', 'c.94.1.1', 'd3r6ua_', 'c.94.1.0', 2.6e-28], ['d2q88a_', 'c.94.1.0', 'd2q88a_', 'c.94.1.0', 4.5e-16], ['d1ii5a_', 'c.94.1.1', 'd3r6ua_', 'c.94.1.0', 4.9e-21], ['d1pb7a_', 'c.94.1.1', 'd3r6ua_', 'c.94.1.0', 5.8e-11], ['d2rc3a1', 'd.37.1.1', 'd2rc3a1', 'd.37.1.1', 3.4e-20], ['d2riha_', 'd.37.1.1', 'd2riha_', 'd.37.1.1', 6.5e-14], ['d2sasa_', 'a.39.1.5', 'd2sasa_', 'a.39.1.5', 9.9e-07], ['d2scpa_', 'a.39.1.5', 'd2scpa_', 'a.39.1.5', 2.9e-09], ['d2v8qe2', 'd.37.1.1', 'd2v8qe2', 'd.37.1.1', 1.7e-08], ['d2voua1', 'c.3.1.2', 'd2voua1', 'c.3.1.2', 2.1e-05], ['d2w43a_', 'c.108.1.0', 'd2w43a_', 'c.108.1.0', 2.3e-07], ['d2waga_', 'c.1.8.0', 'd2waga_', 'c.1.8.0', 1.8e-05], ['d2x4da_', 'c.108.1.0', 'd2x4da_', 'c.108.1.0', 4.8e-13], ['d3broa1', 'a.4.5.28', 'd3broa1', 'a.4.5.28', 9.4e-16], ['d3ctaa1', 'a.4.5.28', 'd3ctaa1', 'a.4.5.28', 3.8e-08], ['d2y3qa_', 'a.25.1.1', 'd2y3qa_', 'a.25.1.1', 7e-06], ['d2yzia1', 'd.37.1.1', 'd2yzia1', 'd.37.1.1', 8.2e-25], ['d2yzqa1', 'd.37.1.1', 'd2yzqa1', 'd.37.1.1', 2.3e-11], ['d2yzqa2', 'd.37.1.1', 'd2yzqa2', 'd.37.1.1', 1.7e-15], ['d2zcwa2', 'b.82.3.2', 'd2zcwa2', 'b.82.3.2', 0.0001], ['d2zfda1', 'a.39.1.5', 'd2zfda1', 'a.39.1.5', 1.3e-10], ['d2ziba_', 'd.169.1.1', 'd2ziba_', 'd.169.1.1', 9.8e-25], ['d3a6sa_', 'd.113.1.1', 'd3a6sa_', 'd.113.1.1', 5e-17], ['d3bmva4', 'c.1.8.1', 'd3bmva4', 'c.1.8.1', 3e-30], ['d3bpza_', 'b.82.3.2', 'd3bpza_', 'b.82.3.2', 1.9e-16], ['d3c96a1', 'c.3.1.2', 'd3c96a1', 'c.3.1.2', 1.3e-07], ['d3d2la_', 'c.66.1.0', 'd3d2la_', 'c.66.1.0', 4.8e-05], ['d3ddja1', 'd.37.1.1', 'd3ddja1', 'd.37.1.1', 7.5e-11], ['d3ddja2', 'd.37.1.1', 'd3ddja2', 'd.37.1.1', 3.7e-12], ['d3delb_', 'c.94.1.0', 'd3delb_', 'c.94.1.0', 1.9e-32], ['d3echa_', 'a.4.5.28', 'd3echa_', 'a.4.5.28', 8.6e-15], ['d3dnpa_', 'c.108.1.0', 'd3dnpa_', 'c.108.1.0', 1.8e-05], ['d3e5ua2', 'b.82.3.2', 'd3e5ua2', 'b.82.3.2', 4.4e-06], ['d3ehea_', 'c.2.1.0', 'd3ehea_', 'c.2.1.0', 0.002], ['d3elia1', 'd.129.3.5', 'd3elia1', 'd.129.3.5', 5.9e-17], ['d3evfa_', 'c.66.1.0', 'd3evfa_', 'c.66.1.0', 1.9e-05], ['d3f1la_', 'c.2.1.0', 'd3f1la_', 'c.2.1.0', 5.5e-08], ['d3fvsa_', 'c.67.1.1', 'd3fvsa_', 'c.67.1.1', 2.9e-32], ['d3fzqa_', 'c.108.1.0', 'd3fzqa_', 'c.108.1.0', 1e-05], ['d3h7ma_', 'c.94.1.0', 'd3h7ma_', 'c.94.1.0', 3.9e-22], ['d3hupa_', 'd.169.1.1', 'd3hupa_', 'd.169.1.1', 9.2e-15], ['d3i4fa_', 'c.2.1.0', 'd3i4fa_', 'c.2.1.0', 7.7e-08], ['d3i6va_', 'c.94.1.0', 'd3i6va_', 'c.94.1.0', 8.6e-34], ['d3kffa_', 'b.60.1.1', 'd3kffa_', 'b.60.1.1', 4.5e-21], ['d3kzga_', 'c.94.1.0', 'd3kzga_', 'c.94.1.0', 1.6e-31], ['d3l9jc_', 'd.169.1.1', 'd3l9jc_', 'd.169.1.1', 2.6e-21], ['d3o69a_', 'd.113.1.1', 'd3o69a_', 'd.113.1.1', 2.5e-05], ['d1zmaa1', 'c.47.1.1', 'd3qmxa_', 'c.47.1.0', 0.0015], ['d3qnma_', 'c.108.1.0', 'd3qnma_', 'c.108.1.0', 2.1e-12], ['d3qy3a1', 'd.38.1.1', 'd3qy3a1', 'd.38.1.1', 4.3e-10], ['d3s26a_', 'b.60.1.1', 'd3s26a_', 'b.60.1.1', 6.6e-14], ['d3saoa_', 'b.60.1.1', 'd3saoa_', 'b.60.1.1', 4.7e-21], ['d3tqla_', 'c.94.1.0', 'd3tqla_', 'c.94.1.0', 6.8e-38], ['d1sw5a_', 'c.94.1.1', 'd3tqla_', 'c.94.1.0', 2.3e-06], ['d3zr0a_', 'd.113.1.1', 'd3zr0a_', 'd.113.1.1', 5.4e-11]]\n"
     ]
    }
   ],
   "source": [
    "#Filter the best hit four each test sequence, you can produce a table with\n",
    "#sequenceID, correct family, predicted family\n",
    "\n",
    "def removeWrongLines(nom):\n",
    "    infile=open(nom, 'r')\n",
    "    outfile=open(nom + \".tmp\", 'w')\n",
    "    A=infile.readlines()\n",
    "    rep = \"\"\n",
    "    cpt=0\n",
    "    for ligne in A :\n",
    "        if ligne[0] != \"#\": \n",
    "            tab=ligne.split()\n",
    "            prot = tab[0]; protqid = prot[0:7]; protqfa = prot[7:]\n",
    "            prot = tab[1]; protmid = prot[0:7]; protmfa = prot[7:]\n",
    "            if (protqfa != protmfa) :\n",
    "                rep= rep + ligne\n",
    "            elif (protqid == protmid):\n",
    "                rep= rep + ligne\n",
    "    outfile.write(rep)\n",
    "    outfile.close()\n",
    "    infile.close()\n",
    " \n",
    "################################################\n",
    "def removeDupLines(nom):\n",
    "    infile=open(nom, 'r')\n",
    "    A=infile.readlines()\n",
    "    rep = {}\n",
    "    lrep = []\n",
    "    cpt=0\n",
    "    for ligne in A :\n",
    "        tab=ligne.split()\n",
    "        prot = tab[0]; protqid = prot[0:7]; protqfa = prot[7:]\n",
    "        prot = tab[1]; protmid = prot[0:7]; protmfa = prot[7:]\n",
    "        evalue = float(tab[2])\n",
    "        l=[]\n",
    "        if protqid not in rep.keys():\n",
    "            l.append(protqid); l.append(protqfa); l.append(protmid); l.append(protmfa); l.append(evalue);\n",
    "        else:\n",
    "            c = rep[protqid]\n",
    "            #print c\n",
    "            if (evalue < c[4]):\n",
    "                l.append(protqid);l.append(protqfa); l.append(protmid); l.append(protmfa); l.append(evalue);\n",
    "            else:\n",
    "                l = c\n",
    "        rep[protqid] = l\n",
    "    \n",
    "    for key in rep:\n",
    "        lrep.append(rep[key])\n",
    "    return lrep\t\n",
    "\n",
    "file = \"searchResults30/allRes.txt.ftt\"\n",
    "removeWrongLines(file)\n",
    "print(removeWrongLines(file))\n",
    "rep = removeDupLines(file + \".tmp\")\n",
    "print(rep)\n"
   ]
  },
  {
   "cell_type": "code",
   "execution_count": 28,
   "metadata": {
    "id": "texvNBz14JHz"
   },
   "outputs": [
    {
     "name": "stdout",
     "output_type": "stream",
     "text": [
      "TP =  369\n",
      "FP = 65\n",
      "TP+FP =  434\n",
      "FN ????? = 789 (total) - TP+FP =  355\n",
      "precision =  85.02304147465438  %\n",
      "Recall ???? = ????  50.966850828729285  % ??????\n"
     ]
    }
   ],
   "source": [
    "def ComputePerformance(resultsTable):\n",
    "    \"\"\"\n",
    "    compute performance measures\n",
    "\n",
    "    \"\"\"\n",
    "    TP,FP,FN = 0,0,0\n",
    "    for e in resultsTable:\n",
    "        if e[0]==e[2] and e[1]==e[3]:\n",
    "            TP =TP+1\n",
    "        else:\n",
    "            FP =FP+1\n",
    "    print(\"TP = \",TP)\n",
    "    print(\"FP =\",FP)\n",
    "    print(\"TP+FP = \",TP+FP)\n",
    "    print(\"FN ????? = 789 (total) - TP+FP = \",789-(TP+FP))\n",
    "    FN=789-(TP+FP)\n",
    "    precision = TP / (TP+FP)\n",
    "    print(\"precision = \",precision*100,\" %\")\n",
    "    recall = TP / (TP+FN)\n",
    "    print(\"Recall ???? = ???? \",recall*100, \" % ??????\")\n",
    "    f_score = 2*precision*recall / (precision+recall)\n",
    "    \n",
    "    \n",
    "    return TP,FP,FN,precision,recall,f_score\n",
    "\n",
    "\n",
    "TP,FP,FN,precision,recall,f_score = ComputePerformance(rep) \n"
   ]
  },
  {
   "cell_type": "markdown",
   "metadata": {
    "id": "qbMNNVGM4JH0",
    "outputId": "1c88341d-da08-4060-d610-20c1ab59b883"
   },
   "source": [
    "<font color=\"blue\">\n",
    "Conclusion \n",
    "<font>"
   ]
  },
  {
   "cell_type": "code",
   "execution_count": null,
   "metadata": {
    "id": "Eevn4BVZZS_1"
   },
   "outputs": [],
   "source": []
  }
 ],
 "metadata": {
  "colab": {
   "provenance": []
  },
  "kernelspec": {
   "display_name": "Python 3 (ipykernel)",
   "language": "python",
   "name": "python3"
  },
  "language_info": {
   "codemirror_mode": {
    "name": "ipython",
    "version": 3
   },
   "file_extension": ".py",
   "mimetype": "text/x-python",
   "name": "python",
   "nbconvert_exporter": "python",
   "pygments_lexer": "ipython3",
   "version": "3.9.12"
  }
 },
 "nbformat": 4,
 "nbformat_minor": 1
}
