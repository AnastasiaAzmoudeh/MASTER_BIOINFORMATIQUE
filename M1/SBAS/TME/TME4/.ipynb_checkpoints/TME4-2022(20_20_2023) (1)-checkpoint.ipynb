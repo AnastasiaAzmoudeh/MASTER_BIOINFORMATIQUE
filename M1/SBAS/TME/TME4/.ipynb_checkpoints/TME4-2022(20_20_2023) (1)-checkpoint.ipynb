{
 "cells": [
  {
   "cell_type": "markdown",
   "metadata": {
    "id": "iH_7RQMQz1I_"
   },
   "source": [
    "<h1><b>Statistique en Bioinformatique : </b> TME4 </h1>\n",
    "<br>\n",
    "L’objectif de ce TME sont: \n",
    "<br>\n",
    "<ul>\n",
    "<li> objectif 1 : Utiliser les chaines de Markov pour comprendre les états phénotypiques de cellules cancéreuses.   </li> \n",
    "<li> objectif 2 : étudier la dynamique des proportions phénotypiques dans les lignées cellulaires du cancer du sein humain: SUM159 et SUM149</li>\n",
    "</ul>\n",
    "<br>\n",
    "<div class=\"alert alert-warning\" role=\"alert\" style=\"margin: 10px\">\n",
    "<p><b>Soumission</b></p>\n",
    "<ul>\n",
    "<li>Renomer le fichier TME3.ipynb pour NomEtudiant1_NomEtudiant2.ipynb </li>\n",
    "<li>Soumettre sur moodle </li>\n",
    "</div>\n"
   ]
  },
  {
   "cell_type": "markdown",
   "metadata": {
    "id": "RL6noRwnz1JF"
   },
   "source": [
    "Nom etudiant 1 :\n",
    "<br>\n",
    "Nom etudiant 2 :\n",
    "<br>"
   ]
  },
  {
   "cell_type": "markdown",
   "metadata": {
    "id": "JjI415A7z1JG"
   },
   "source": [
    "<h3>Introduction</h3>\n",
    "<ul>\n",
    "<li> Les cellules cancéreuses au sein des tumeurs existent souvent dans des états phénotypiques distincts.</li>\n",
    "<li> Les sous-populations de cellules purifiées pour un état phénotypique reviennent vers des proportions d'équilibre dans le temps.</li>\n",
    "<li> Cet équilibre peut s'expliquer par un modèle de Markov dans lequel les cellules passent de manière stochastique entre les états.  </li>\n",
    "</ul>\n",
    "\n",
    "<img src=\"img/CellStateTransition.png\" />"
   ]
  },
  {
   "cell_type": "markdown",
   "metadata": {
    "id": "klmlzMfxz1JG"
   },
   "source": [
    "<b>Exercice 1</b>:\n",
    "Traduire les graphes de transition de la figure D en matrices de transition, \n",
    "$P_{149}$ et $P_{159}$. Verifier bien que les matrices et les vecteur  $\\pi_{0}$ soitent normalisés.\n"
   ]
  },
  {
   "cell_type": "code",
   "execution_count": 1,
   "metadata": {
    "colab": {
     "base_uri": "https://localhost:8080/"
    },
    "executionInfo": {
     "elapsed": 215,
     "status": "ok",
     "timestamp": 1644853786575,
     "user": {
      "displayName": "Juliana Bernardes",
      "photoUrl": "https://lh3.googleusercontent.com/a-/AOh14GjmXQB4bG0DHp8uDHafZCQn94Atlo0kH-t-DxF8-w=s64",
      "userId": "00263393379349185862"
     },
     "user_tz": -60
    },
    "id": "y62Dy1Szz1JH",
    "outputId": "ca6703cf-3466-4c51-c9d9-c7dea1562f4a"
   },
   "outputs": [
    {
     "name": "stdout",
     "output_type": "stream",
     "text": [
      "[[0.61       0.3        0.09      ]\n",
      " [0.01       0.99       0.        ]\n",
      " [0.01010101 0.08080808 0.90909091]]\n",
      "[[0.58 0.07 0.35]\n",
      " [0.04 0.47 0.49]\n",
      " [0.01 0.   0.99]]\n"
     ]
    }
   ],
   "source": [
    "import matplotlib.pyplot as plt\n",
    "import numpy as np\n",
    "import scipy as sp\n",
    "from matplotlib.legend_handler import HandlerLine2D\n",
    "import random\n",
    "import math as mt\n",
    "\n",
    "#distribuition inicialle vecteur pi_0 S, L, B\n",
    "pi0_149 = np.array([0.039, 0.033, 0.9280])\n",
    "pi0_159 = np.array([0.019, 0.973, 0.0062])\n",
    "\n",
    "\n",
    "\n",
    "#matrices \n",
    "p_149 = np.array([[0.61, 0.30, 0.09], [0.01, 0.99, 0.00], [0.01, 0.08, 0.90]])\n",
    "\n",
    "\n",
    "p_159 = np.array([[0.58, 0.07, 0.35], [0.04, 0.47, 0.49], [0.01, 0.00, 0.99]])\n",
    "\n",
    "#Normaliser les vecteurs π0.\n",
    "\n",
    "def normalise(m):\n",
    "    \"\"\"\n",
    "    Normalise a matrix\n",
    "    input1 m: matrix\n",
    "    output1 mN: normalised matrix\n",
    "    \"\"\"\n",
    "\n",
    "    mN = m \n",
    "    \n",
    "    for i in range (int(len(m))): \n",
    "        Somme = np.sum(m[i])\n",
    "        for j in range (int(len (m[i]))):\n",
    "            mN[i][j]= (m[i][j])/Somme    \n",
    "\n",
    "    return mN\n",
    "\n",
    "Np_149 = normalise(p_149)\n",
    "print (normalise(p_149))\n",
    "#[[0.61       0.3        0.09      ]\n",
    "# [0.01       0.99       0.        ]\n",
    "# [0.01010101 0.08080808 0.90909091]]\n",
    "\n",
    "Np_159 = normalise(p_159)\n",
    "print (normalise(p_159))\n",
    "#[[0.58 0.07 0.35]\n",
    "# [0.04 0.47 0.49]\n",
    "# [0.01 0.00 0.99]]"
   ]
  },
  {
   "cell_type": "markdown",
   "metadata": {
    "id": "BJqHvDoIz1JL"
   },
   "source": [
    "<b>Exercice 2</b>: Déterminer les états stationnaires \n",
    "$\\pi^\\star_{149}$ et $\\pi^\\star_{159}$. \n",
    "Est-ce que les valeurs que vous trouvez sont consistentes avec les \n",
    "valeurs experimentales en Fig. 1?"
   ]
  },
  {
   "cell_type": "code",
   "execution_count": 2,
   "metadata": {
    "colab": {
     "base_uri": "https://localhost:8080/"
    },
    "executionInfo": {
     "elapsed": 225,
     "status": "ok",
     "timestamp": 1644854983898,
     "user": {
      "displayName": "Juliana Bernardes",
      "photoUrl": "https://lh3.googleusercontent.com/a-/AOh14GjmXQB4bG0DHp8uDHafZCQn94Atlo0kH-t-DxF8-w=s64",
      "userId": "00263393379349185862"
     },
     "user_tz": -60
    },
    "id": "KaDmd5Pwz1JM",
    "outputId": "d1031a9e-3dfb-4f28-d8c2-b2eba41d015e"
   },
   "outputs": [
    {
     "name": "stdout",
     "output_type": "stream",
     "text": [
      "[ 0.32965032 60.67034968] \n",
      "\n",
      " [[-0.94815818 -0.03349867]\n",
      " [ 0.31779877 -0.99943876]]\n",
      "\n",
      "\n",
      "\n",
      " =======================149==========================\n",
      "eigenvalues_149 = \n",
      " [0.59997059 1.         0.90912032]\n",
      "\n",
      "eigenvectors_149 = \n",
      " [[-7.93741374e-01  2.62977651e-02  2.31020909e-04]\n",
      " [ 5.62644550e-01  9.99315074e-01 -7.07222263e-01]\n",
      " [ 2.31096824e-01  2.60347875e-02  7.06991242e-01]]\n",
      "indice ---->  [-7.93741374e-01  2.62977651e-02  2.31020909e-04]\n",
      "indice ---->  [ 0.56264455  0.99931507 -0.70722226]\n",
      "indice ---->  [0.23109682 0.02603479 0.70699124]\n",
      "indice ---->  0\n",
      "pi_stat_149 =  [0.026297765108801593, 0.9993150741344364, 0.02603478745771334]\n",
      "pi_stat_149 AVANT ===>  [0.026297765108801593, 0.9993150741344364, 0.02603478745771334]\n",
      "apres !!! ===>  [0.025006251562891303, 0.9502375593898466, 0.024756189047262164]\n",
      "\n",
      "\n",
      "\n",
      " ================159========================\n",
      "eigenvalues_159 = \n",
      " [1.        0.5878233 0.4521767]\n",
      "\n",
      "eigenvectors_159 = \n",
      " [[-0.0241057  -0.50674967  0.20002106]\n",
      " [-0.00318377 -0.30106504 -0.78557138]\n",
      " [-0.99970435  0.80781471  0.58555032]]\n",
      "pi_stat_159 =  [-0.024105700783188213, -0.0031837718015534796, -0.9997043456876973]\n",
      "pi_stat_159 AVANT ===>  [-0.024105700783188213, -0.0031837718015534796, -0.9997043456876973]\n",
      "apres !!! ===>  [0.023472099202834246, 0.003100088573959551, 0.9734278122232062]\n",
      "====================\n",
      "Pi star 149 \n",
      " [0.025006251562891303, 0.9502375593898466, 0.024756189047262164]\n",
      "\n",
      "Pi star 159 \n",
      " [0.023472099202834246, 0.003100088573959551, 0.9734278122232062]\n"
     ]
    }
   ],
   "source": [
    "#You can use the function numpy.linalg.eig\n",
    "#https://numpy.org/doc/stable/reference/generated/numpy.linalg.eig.html\n",
    "\n",
    "mat = np.array([[1, 2], [20, 60]])\n",
    "eigenvalues, eigenvectors = np.linalg.eig(mat)\n",
    "print (eigenvalues,\"\\n\\n\" ,eigenvectors)\n",
    "\n",
    "\n",
    "print(\"\\n\\n\\n =======================149==========================\")\n",
    "eigenvalues_149, eigenvectors_149 = np.linalg.eig(Np_149.T)\n",
    "print(\"eigenvalues_149 = \\n\", eigenvalues_149)\n",
    "print(\"\\neigenvectors_149 = \\n\", eigenvectors_149)\n",
    "\n",
    "\n",
    "# je dois remplacer le 1 par qqch qui trouve tt seul 1 l'indice de la vp = 1\n",
    "\n",
    "indice = 0\n",
    "for i in range(len(eigenvectors_149)):\n",
    "    print(\"indice ----> \", eigenvectors_149[i])\n",
    "print(\"indice ----> \", indice)\n",
    "    \n",
    "pi_stat_149 = []\n",
    "for i in range (len(eigenvectors_149)):\n",
    "    pi_stat_149.append(eigenvectors_149[i][1])\n",
    "    \n",
    "print(\"pi_stat_149 = \",pi_stat_149)\n",
    "\n",
    "\n",
    "print(\"pi_stat_149 AVANT ===> \", pi_stat_149)\n",
    "somme = np.sum(pi_stat_149)\n",
    "for i in range (len(pi_stat_149)): \n",
    "    pi_stat_149[i]= pi_stat_149[i]/somme\n",
    "\n",
    "print(\"apres !!! ===> \", pi_stat_149)\n",
    "    \n",
    "# Np_eigenvectors_149_1 = normalise(a)\n",
    "# print(\"\\n Np_eigenvectors_149_1 = \\n\", Np_eigenvectors_149_1)\n",
    "\n",
    "# pi_stat_149 = Np_149.T @ eigenvectors_149[1]\n",
    "# print (\"\\n Pi star 149 \\n\" , pi_stat_149)\n",
    "\n",
    "print(\"\\n\\n\\n ================159========================\")\n",
    "eigenvalues_159, eigenvectors_159 = np.linalg.eig(Np_159.T)\n",
    "print(\"eigenvalues_159 = \\n\", eigenvalues_159)\n",
    "print(\"\\neigenvectors_159 = \\n\", eigenvectors_159)\n",
    "\n",
    "\n",
    "# je dois remplacer le 1 par qqch qui trouve tt seul 1 l'indice de la vp = 1\n",
    "pi_stat_159 = []\n",
    "for i in range (len(eigenvectors_159)):\n",
    "    pi_stat_159.append(eigenvectors_159[i][0])\n",
    "    \n",
    "print(\"pi_stat_159 = \",pi_stat_159)\n",
    "\n",
    "\n",
    "print(\"pi_stat_159 AVANT ===> \", pi_stat_159)\n",
    "somme = np.sum(pi_stat_159)\n",
    "for i in range (len(pi_stat_159)): \n",
    "    pi_stat_159[i]= pi_stat_159[i]/somme\n",
    "\n",
    "print(\"apres !!! ===> \", pi_stat_159)\n",
    "\n",
    "\n",
    "print(\"====================\")\n",
    "print (\"Pi star 149 \\n\" , pi_stat_149)\n",
    "print (\"\\nPi star 159 \\n\" , pi_stat_159)\n",
    "\n",
    "#Pi star 149  [0.02500625 0.95023756 0.02475619]\n",
    "#Pi star 159  [0.0234721  0.00310009 0.97342781]\n"
   ]
  },
  {
   "cell_type": "markdown",
   "metadata": {
    "id": "dahLt4Ruz1JN"
   },
   "source": [
    "<b>Exercice 3</b>: Déterminer les matrices de transition $P_{149}^n$ et $P_{159}^n$ pour $n$ \n",
    "iterations avec $n=2,4,8,16,32,64$, imprimer toutes les matrices. Computer les vectors $\\pi^{(n)}$ et les comparer avec\n",
    "$\\pi^\\star_{149,159}$. Utilisez le $\\pi^0$ du papier de Gupta, page 2, ci-dessous."
   ]
  },
  {
   "cell_type": "code",
   "execution_count": 3,
   "metadata": {
    "colab": {
     "base_uri": "https://localhost:8080/"
    },
    "executionInfo": {
     "elapsed": 239,
     "status": "ok",
     "timestamp": 1644855027342,
     "user": {
      "displayName": "Juliana Bernardes",
      "photoUrl": "https://lh3.googleusercontent.com/a-/AOh14GjmXQB4bG0DHp8uDHafZCQn94Atlo0kH-t-DxF8-w=s64",
      "userId": "00263393379349185862"
     },
     "user_tz": -60
    },
    "id": "Et5sT7SEz1JN",
    "outputId": "6b941682-595d-47dd-f1d7-6b3727295762"
   },
   "outputs": [
    {
     "name": "stdout",
     "output_type": "stream",
     "text": [
      "mattransN\n",
      "[[3.76009091e-01 4.87272727e-01 1.36718182e-01]\n",
      " [1.60000000e-02 9.83100000e-01 9.00000000e-04]\n",
      " [1.61524334e-02 1.56492195e-01 8.27355372e-01]]\n",
      "-----------------149--------------------------\n",
      "[2, 4, 8, 16, 32, 64]\n",
      "[[3.76009091e-01 4.87272727e-01 1.36718182e-01]\n",
      " [1.60000000e-02 9.83100000e-01 9.00000000e-04]\n",
      " [1.61524334e-02 1.56492195e-01 8.27355372e-01]]\n",
      "[[0.15138753 0.68365212 0.16496035]\n",
      " [0.02176028 0.97442282 0.0038169 ]\n",
      " [0.02194114 0.29119277 0.68686609]]\n",
      "[[0.04141407 0.81769789 0.14088804]\n",
      " [0.0245817  0.96548774 0.00993056]\n",
      " [0.02472868 0.49875543 0.47651589]]\n",
      "[[0.0252995  0.89361016 0.08109033]\n",
      " [0.02499693 0.9572199  0.01778317]\n",
      " [0.02506798 0.73942773 0.23550429]]\n",
      "[[0.02501034 0.93794977 0.03703989]\n",
      " [0.02500575 0.95175682 0.02323742]\n",
      " [0.02502124 0.90433435 0.07064441]]\n",
      "[[0.02500644 0.94965498 0.02533858]\n",
      " [0.02500623 0.95030959 0.02468418]\n",
      " [0.02500696 0.94806122 0.02693182]]\n",
      "None\n",
      "-----------------159--------------------------\n",
      "[2, 4, 8, 16, 32, 64]\n",
      "[[3.427e-01 7.350e-02 5.838e-01]\n",
      " [4.690e-02 2.237e-01 7.294e-01]\n",
      " [1.570e-02 7.000e-04 9.836e-01]]\n",
      "[[0.1300561  0.04203906 0.82790484]\n",
      " [0.03801574 0.05399942 0.90798484]\n",
      " [0.02085574 0.00199906 0.9771452 ]]\n",
      "[[0.0357793  0.00939255 0.95482814]\n",
      " [0.0259337  0.0063292  0.9677371 ]\n",
      " [0.0231675  0.00293808 0.97389443]]\n",
      "[[0.02364472 0.00320086 0.97315441]\n",
      " [0.02351208 0.00312693 0.973361  ]\n",
      " [0.02346781 0.00309757 0.97343462]]\n",
      "[[0.02347213 0.00310011 0.97342776]\n",
      " [0.02347211 0.00310009 0.9734278 ]\n",
      " [0.0234721  0.00310009 0.97342781]]\n",
      "[[0.0234721  0.00310009 0.97342781]\n",
      " [0.0234721  0.00310009 0.97342781]\n",
      " [0.0234721  0.00310009 0.97342781]]\n",
      "None\n"
     ]
    }
   ],
   "source": [
    "pi_zero_149 = np.array([[0.039, 0.928, 0.033]])\n",
    "pi_zero_159 = np.array([[0.019, 0.0062, 0.973]])\n",
    "\n",
    "\n",
    "#matrice P**n\n",
    "def matTransN(P, n):\n",
    "    \"\"\"\n",
    "    Compute the transition matrix after N iterations\n",
    "    input1 P: matrix\n",
    "    input2 n: number of iterations\n",
    "    output Pn: transition matrix after N iterations\n",
    "    \"\"\"\n",
    "    Pn=np.eye(P.shape[0])\n",
    "\n",
    "    for i in range(n):\n",
    "        Pn=Pn.dot(P)\n",
    "    return Pn\n",
    "print(\"mattransN\")\n",
    "print(matTransN(p_149,2))\n",
    "#matrice P**n where n = 2,4,8,16,32,64\n",
    "def printMat(P, n, pi_0, M_name):\n",
    "    \"\"\"\n",
    "    Print all P**n matrices, where n in  {2,4,8,16,32,64, ...}  \n",
    "    input1 P: matrix\n",
    "    input2 n: number of iterations\n",
    "    input3 pi_0: initial condition\n",
    "    input4 M_name: matrix identifier\n",
    "    output: None\n",
    "    \"\"\"\n",
    "    n_list=[]\n",
    "    for i in range(1,7):\n",
    "        n_list.append(n**i)\n",
    "    print(n_list)\n",
    "    for en in n_list:\n",
    "        print(matTransN(P,en))\n",
    "print(\"-----------------149--------------------------\")\n",
    "print (printMat(p_149, 2, pi_zero_149, '149'))\n",
    "print(\"-----------------159--------------------------\")\n",
    "print (printMat(p_159, 2, pi_zero_159, '159'))"
   ]
  },
  {
   "cell_type": "markdown",
   "metadata": {
    "id": "Ez5E-p_kz1JP"
   },
   "source": [
    "<b> Exercice 4 </b>:\n",
    " Ecrire une fonction pour déterminer les\n",
    "$(\\pi^{(t)})_{t=1:n}$ d'une chaine de Markov à trois états. Appliquer\n",
    "pour $P_{149}$ et $P_{159}$, pour les conditions initiales \n",
    "$\\pi^{(0)}\\in\\{ (0.998,0.001,0.001), (0.001,0.998,0.001), \n",
    "(0.001,0.001,0.998) \\}$ et pour $n=20$ itérations de la chaine \n",
    "de Markov. Visualiser graphiquement les résultats.\n"
   ]
  },
  {
   "cell_type": "code",
   "execution_count": null,
   "metadata": {
    "executionInfo": {
     "elapsed": 223,
     "status": "ok",
     "timestamp": 1644856534370,
     "user": {
      "displayName": "Juliana Bernardes",
      "photoUrl": "https://lh3.googleusercontent.com/a-/AOh14GjmXQB4bG0DHp8uDHafZCQn94Atlo0kH-t-DxF8-w=s64",
      "userId": "00263393379349185862"
     },
     "user_tz": -60
    },
    "id": "KsLDPxwyz1JQ"
   },
   "outputs": [],
   "source": [
    "\n",
    "def Pi_n(pi_0, P, n):\n",
    "    \"\"\"\n",
    "    Compute Pi_n = Pi_0*P^n\n",
    "    input1 pi_0: intial condition\n",
    "    input2 P: transition matrix\n",
    "    input3 n: number of iterations\n",
    "    output Pi_n\n",
    "    \"\"\"\n",
    "\n",
    "    return Pi_n \n"
   ]
  },
  {
   "cell_type": "code",
   "execution_count": null,
   "metadata": {
    "executionInfo": {
     "elapsed": 190,
     "status": "ok",
     "timestamp": 1644856586760,
     "user": {
      "displayName": "Juliana Bernardes",
      "photoUrl": "https://lh3.googleusercontent.com/a-/AOh14GjmXQB4bG0DHp8uDHafZCQn94Atlo0kH-t-DxF8-w=s64",
      "userId": "00263393379349185862"
     },
     "user_tz": -60
    },
    "id": "-GUCujCkz1JQ"
   },
   "outputs": [],
   "source": [
    "def List_Pi_n(pi0, P, n):\n",
    "    \"\"\"\n",
    "    Compute a list of  Pi_n\n",
    "    input1 pi_0: intial condition\n",
    "    input2 P: transition matrix\n",
    "    input3 n: number of iterations\n",
    "    output liste_M_trans: list\n",
    "    \"\"\"\n",
    "    liste_Pi_n=[]\n",
    "\n",
    "    return np.array(liste_Pi_n)\n"
   ]
  },
  {
   "cell_type": "code",
   "execution_count": null,
   "metadata": {
    "executionInfo": {
     "elapsed": 198,
     "status": "ok",
     "timestamp": 1644856724472,
     "user": {
      "displayName": "Juliana Bernardes",
      "photoUrl": "https://lh3.googleusercontent.com/a-/AOh14GjmXQB4bG0DHp8uDHafZCQn94Atlo0kH-t-DxF8-w=s64",
      "userId": "00263393379349185862"
     },
     "user_tz": -60
    },
    "id": "0Ffnrnmiz1JQ"
   },
   "outputs": [],
   "source": [
    "def plot(liste_Pi_n):\n",
    "    \"\"\"\n",
    "    Plot liste_Pi_n\n",
    "    \"\"\"\n",
    "\n"
   ]
  },
  {
   "cell_type": "code",
   "execution_count": null,
   "metadata": {
    "colab": {
     "base_uri": "https://localhost:8080/",
     "height": 265
    },
    "executionInfo": {
     "elapsed": 525,
     "status": "ok",
     "timestamp": 1644856753199,
     "user": {
      "displayName": "Juliana Bernardes",
      "photoUrl": "https://lh3.googleusercontent.com/a-/AOh14GjmXQB4bG0DHp8uDHafZCQn94Atlo0kH-t-DxF8-w=s64",
      "userId": "00263393379349185862"
     },
     "user_tz": -60
    },
    "id": "wVIEcMhBz1JS",
    "outputId": "15fad204-c266-4985-9120-8e7d3f3fa605"
   },
   "outputs": [],
   "source": [
    "pi1 = np.array([0.998,0.001,0.001])\n",
    "plot(List_Pi_n(pi1, p_149, 20))"
   ]
  },
  {
   "cell_type": "markdown",
   "metadata": {
    "id": "0UoEleO_z1JS"
   },
   "source": [
    "<b> Exercice 5 </b>:\n",
    "Ecrire une fonction pour simuler la trajectoire stochastique\n",
    "$(x_t)_{t=0:n}$ d'une seule réalisation de la chaiine de Markov. \n",
    "Créer des population de $N=10,100,1000,10000$ trajectoires. Estimer \n",
    "la trajectoire moyenne de chaque population.\n"
   ]
  },
  {
   "cell_type": "code",
   "execution_count": null,
   "metadata": {
    "id": "xLSto-G0z1JT"
   },
   "outputs": [],
   "source": [
    "def Trajectoire (n, Pi_0, P):\n",
    "    \"\"\"\n",
    "    simulate the stochastic trajectory\n",
    "    input1 n: number of iterations\n",
    "    input2 Pi_0: initial condition\n",
    "    input3 P: transtion matrix\n",
    "    output Traj: list of states that simulates the stochastic trajectory ['S', 'B', 'L']\n",
    "    \"\"\"\n",
    "    Traj = []    \n",
    "\n",
    "    return Traj\n",
    "\n",
    "#Déterminer une trajectoire pour N population.\n",
    "def Trajectoire_P(n, Pi_0, P, N):\n",
    "    \"\"\"\n",
    "    Simulate a trajectory for N population.\n",
    "    input1 n: number of iterations\n",
    "    input2 Pi_0: initial condition\n",
    "    input3 P: transtion matrix\n",
    "    input3 N: population size\n",
    "    output TrajP: trajectory\n",
    "    \"\"\"\n",
    "    TrajP=[]\n",
    "\n",
    "    return TrajP\n",
    "    \n",
    "\n",
    "#Estimer la trajectoire moyenne d'une chaine de markov pou N\n",
    "\n",
    "def Trajectoire_moy(n, Pi_0, P, N):\n",
    "    \"\"\"\n",
    "    Find the mean tragetoire\n",
    "    input1 n: number of iterations\n",
    "    input2 Pi_0: initial condition\n",
    "    input3 P: transtion matrix\n",
    "    input3 N: population size\n",
    "    output TrajMoy: mean trajectory\n",
    "    \"\"\"\n",
    "    \n",
    "    TrajMoy = np.zeros((3,n))\n",
    "    \n",
    "    \n",
    "    return TrajMoy\n",
    "\n",
    "#Visualiser graphique des trajectoires.\n",
    "def plotTrajectory(t):\n",
    "    \"\"\"\n",
    "    Plot Trajectory\n",
    "    input1 t: trajectory\n",
    "    \"\"\"\n"
   ]
  },
  {
   "cell_type": "code",
   "execution_count": null,
   "metadata": {
    "id": "ywau1ttsz1JT",
    "outputId": "788ac3db-5d96-4fab-f4f4-5f90986eeabb"
   },
   "outputs": [],
   "source": [
    "plotTrajectory(Trajectoire_moy(20, pi1, p_149, 10))"
   ]
  },
  {
   "cell_type": "markdown",
   "metadata": {
    "id": "v6J7JbvWz1JT"
   },
   "source": [
    "<b> Exercice 6 </b>: \n",
    "Ecrire une fonction pour calculer la probabilité d'une trajectoire\n",
    "$(x_t)_{t=0:n}$. Pour y facilite vous devez applique le log et utlise la some au\n",
    "lieu du product.  Ensuite vouz devez comparer les probabilités de \n",
    "deux chaiines de Markov $P_{149}$ et $P_{159}$. Visualiser les histogrammes pour les deux populations de taille $N=10000$ (géenérées avec $P_{149}$ et $P_{159}$). Est-ce que vous observez des différences entre les deux modèles? Comment est-ce que vous expliquer cettes différences?"
   ]
  },
  {
   "cell_type": "code",
   "execution_count": null,
   "metadata": {
    "id": "tYRRFv2cz1JT",
    "outputId": "d5393941-1aad-4fca-c0b1-ed17bf1da50a"
   },
   "outputs": [],
   "source": [
    "#Calculer la probabilité d’une trajectoire (xt)t=0:n\n",
    "def Pb_Trajectoire(Traj, Pi_0, P): \n",
    "    \"\"\"\n",
    "    Compute the probability of a trajectory\n",
    "    input1 Traj: a trajectory\n",
    "    input2 Pi_0: initial condition\n",
    "    input3 P: transtion matrix\n",
    "    output Proba: ptobability\n",
    "    \"\"\"\n",
    "\n",
    "    return Proba\n",
    "\n",
    "\n",
    "def Histo (Trajs, Pi_0, P):\n",
    "    \"\"\"\n",
    "    compute a histogramm of Trajectory probabilities\n",
    "    input1 Trajs: a trajectory population\n",
    "    input2 Pi_0: initial condition\n",
    "    input3 P: transtion matrix  \n",
    "    output pop: a list of probabilities\n",
    "    \"\"\"\n",
    "\n",
    "    pop = []\n",
    "\n",
    "    return pop\n",
    "\n",
    "def plotHist(Histo149, Histo159):\n",
    "    \"\"\"\n",
    "    Plot two probabilities histogram\n",
    "    input1 Histo149: a list of probabilities for P149\n",
    "    input1 Histo159: a list of probabilities for P159\n",
    "    \"\"\"\n",
    "\n",
    "\n",
    "#-------------------------------------------------------------\n",
    "plotHist(Histo(Trajectoire_P(20, pi0_149, p_149, 10000),pi0_149, p_149), Histo(Trajectoire_P(20, pi0_159, p_159, 10000),pi0_159, p_159))\n"
   ]
  },
  {
   "cell_type": "code",
   "execution_count": null,
   "metadata": {},
   "outputs": [],
   "source": [
    "from PIL import ImageTk,Image\n",
    "print(\"ok\")"
   ]
  },
  {
   "cell_type": "markdown",
   "metadata": {
    "id": "ZsmgfCRPz1JU"
   },
   "source": []
  }
 ],
 "metadata": {
  "colab": {
   "collapsed_sections": [],
   "name": "TME4_corrige.ipynb",
   "provenance": []
  },
  "kernelspec": {
   "display_name": "Python 3 (ipykernel)",
   "language": "python",
   "name": "python3"
  },
  "language_info": {
   "codemirror_mode": {
    "name": "ipython",
    "version": 3
   },
   "file_extension": ".py",
   "mimetype": "text/x-python",
   "name": "python",
   "nbconvert_exporter": "python",
   "pygments_lexer": "ipython3",
   "version": "3.10.6"
  }
 },
 "nbformat": 4,
 "nbformat_minor": 1
}
