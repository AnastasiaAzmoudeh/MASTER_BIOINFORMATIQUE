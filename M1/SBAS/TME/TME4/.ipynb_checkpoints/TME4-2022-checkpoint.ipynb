{
 "cells": [
  {
   "cell_type": "markdown",
   "metadata": {
    "id": "iH_7RQMQz1I_"
   },
   "source": [
    "<h1><b>Statistique en Bioinformatique : </b> TME4 </h1>\n",
    "<br>\n",
    "L’objectif de ce TME sont: \n",
    "<br>\n",
    "<ul>\n",
    "<li> objectif 1 : Utiliser les chaines de Markov pour comprendre les états phénotypiques de cellules cancéreuses.   </li> \n",
    "<li> objectif 2 : étudier la dynamique des proportions phénotypiques dans les lignées cellulaires du cancer du sein humain: SUM159 et SUM149</li>\n",
    "</ul>\n",
    "<br>\n",
    "<div class=\"alert alert-warning\" role=\"alert\" style=\"margin: 10px\">\n",
    "<p><b>Soumission</b></p>\n",
    "<ul>\n",
    "<li>Renomer le fichier TME3.ipynb pour NomEtudiant1_NomEtudiant2.ipynb </li>\n",
    "<li>Soumettre sur moodle </li>\n",
    "</div>\n"
   ]
  },
  {
   "cell_type": "markdown",
   "metadata": {
    "id": "RL6noRwnz1JF"
   },
   "source": [
    "Nom etudiant 1 :\n",
    "<br>\n",
    "Nom etudiant 2 :\n",
    "<br>"
   ]
  },
  {
   "cell_type": "markdown",
   "metadata": {
    "id": "JjI415A7z1JG"
   },
   "source": [
    "<h3>Introduction</h3>\n",
    "<ul>\n",
    "<li> Les cellules cancéreuses au sein des tumeurs existent souvent dans des états phénotypiques distincts.</li>\n",
    "<li> Les sous-populations de cellules purifiées pour un état phénotypique reviennent vers des proportions d'équilibre dans le temps.</li>\n",
    "<li> Cet équilibre peut s'expliquer par un modèle de Markov dans lequel les cellules passent de manière stochastique entre les états.  </li>\n",
    "</ul>\n",
    "\n",
    "<img src=\"img/CellStateTransition.png\" />"
   ]
  },
  {
   "cell_type": "markdown",
   "metadata": {
    "id": "klmlzMfxz1JG"
   },
   "source": [
    "<b>Exercice 1</b>:\n",
    "Traduire les graphes de transition de la figure D en matrices de transition, \n",
    "$P_{149}$ et $P_{159}$. Verifier bien que les matrices et les vecteur  $\\pi_{0}$ soitent normalisés.\n"
   ]
  },
  {
   "cell_type": "code",
   "execution_count": 1,
   "metadata": {
    "colab": {
     "base_uri": "https://localhost:8080/"
    },
    "executionInfo": {
     "elapsed": 215,
     "status": "ok",
     "timestamp": 1644853786575,
     "user": {
      "displayName": "Juliana Bernardes",
      "photoUrl": "https://lh3.googleusercontent.com/a-/AOh14GjmXQB4bG0DHp8uDHafZCQn94Atlo0kH-t-DxF8-w=s64",
      "userId": "00263393379349185862"
     },
     "user_tz": -60
    },
    "id": "y62Dy1Szz1JH",
    "outputId": "ca6703cf-3466-4c51-c9d9-c7dea1562f4a"
   },
   "outputs": [
    {
     "name": "stdout",
     "output_type": "stream",
     "text": [
      "[[0.61       0.3        0.09      ]\n",
      " [0.01       0.99       0.        ]\n",
      " [0.01010101 0.08080808 0.90909091]]\n",
      "3\n",
      "(3, 3)\n",
      "t1 = 3\n",
      "t2 = 3\n"
     ]
    }
   ],
   "source": [
    "import matplotlib.pyplot as plt\n",
    "import numpy as np\n",
    "import scipy as sp\n",
    "from matplotlib.legend_handler import HandlerLine2D\n",
    "import random\n",
    "import math as mt\n",
    "\n",
    "#distribuition inicialle vecteur pi_0 S, L, B\n",
    "pi0_149 = np.array([0.039, 0.033, 0.9280])\n",
    "pi0_159 = np.array([0.019, 0.973, 0.0062])\n",
    "\n",
    "\n",
    "\n",
    "#matrices \n",
    "p_149 = np.array([[0.61, 0.30, 0.09], [0.01, 0.99, 0.00], [0.01, 0.08, 0.90]])\n",
    "\n",
    "\n",
    "p_159 = np.array([[0.58, 0.07, 0.35], [0.04, 0.47, 0.49], [0.01, 0.00, 0.99]])\n",
    "\n",
    "#Normaliser les vecteurs π0.\n",
    "\n",
    "\n",
    "\n",
    "\n",
    "def normalise(m):\n",
    "    \"\"\"\n",
    "    Normalise a matrix\n",
    "    input1 m: matrix\n",
    "    output1 mN: normalised matrix\n",
    "    \"\"\"\n",
    "    som=[]\n",
    "    \n",
    "    t1,t2=m.shape\n",
    "    mN=np.zeros((t1,t2))\n",
    "    for i in range(t1):\n",
    "        summ= np.sum(m[i])\n",
    "        \n",
    "        for j in range(t2):\n",
    "            mN[i][j]=m[i][j]/summ\n",
    "            \n",
    "        \n",
    "    \n",
    "    return mN\n",
    "\n",
    "print (normalise(p_149))\n",
    "#[[0.61       0.3        0.09      ]\n",
    "# [0.01       0.99       0.        ]\n",
    "# [0.01010101 0.08080808 0.90909091]]\n",
    "\n",
    "\n",
    "#print (normalise(p_159))\n",
    "#[[0.58 0.07 0.35]\n",
    "# [0.04 0.47 0.49]\n",
    "# [0.01 0.00 0.99]]\n",
    "print(len(p_149))\n",
    "print(p_149.shape)\n",
    "t1,t2=p_149.shape\n",
    "print(\"t1 =\",t1)\n",
    "print(\"t2 =\", t2)\n",
    "Np_149=normalise(p_149)\n",
    "Np_159=normalise(p_159)"
   ]
  },
  {
   "cell_type": "markdown",
   "metadata": {
    "id": "BJqHvDoIz1JL"
   },
   "source": [
    "<b>Exercice 2</b>: Déterminer les états stationnaires \n",
    "$\\pi^\\star_{149}$ et $\\pi^\\star_{159}$. \n",
    "Est-ce que les valeurs que vous trouvez sont consistentes avec les \n",
    "valeurs experimentales en Fig. 1?"
   ]
  },
  {
   "cell_type": "code",
   "execution_count": 2,
   "metadata": {
    "colab": {
     "base_uri": "https://localhost:8080/"
    },
    "executionInfo": {
     "elapsed": 225,
     "status": "ok",
     "timestamp": 1644854983898,
     "user": {
      "displayName": "Juliana Bernardes",
      "photoUrl": "https://lh3.googleusercontent.com/a-/AOh14GjmXQB4bG0DHp8uDHafZCQn94Atlo0kH-t-DxF8-w=s64",
      "userId": "00263393379349185862"
     },
     "user_tz": -60
    },
    "id": "KaDmd5Pwz1JM",
    "outputId": "d1031a9e-3dfb-4f28-d8c2-b2eba41d015e"
   },
   "outputs": [
    {
     "name": "stdout",
     "output_type": "stream",
     "text": [
      "eigenvalues : [ 0.32965032 60.67034968] \n",
      "\n",
      "\n",
      " eigenvectors : [[-0.94815818 -0.03349867]\n",
      " [ 0.31779877 -0.99943876]]\n",
      "\n",
      "\n",
      "\n",
      "\n",
      "\n",
      "Transposé 149  [[0.61       0.01       0.01010101]\n",
      " [0.3        0.99       0.08080808]\n",
      " [0.09       0.         0.90909091]]\n",
      "\n",
      "\n",
      "\n",
      "\n",
      "Transposé 159 [[0.58 0.04 0.01]\n",
      " [0.07 0.47 0.  ]\n",
      " [0.35 0.49 0.99]]\n",
      "\n",
      "\n",
      "\n",
      "\n",
      "Normalise transposé de 149 [[0.96809875 0.01587047 0.01603078]\n",
      " [0.21884902 0.72220175 0.05894923]\n",
      " [0.09008189 0.         0.90991811]]\n",
      "\n",
      "\n",
      "\n",
      "\n",
      "Normalise transposé de 159 [[0.92063492 0.06349206 0.01587302]\n",
      " [0.12962963 0.87037037 0.        ]\n",
      " [0.19125683 0.26775956 0.54098361]]\n",
      "\n",
      "\n",
      "\n",
      "\n",
      "eigenval 149 T = [0.7100361  1.         0.89018251]\n",
      "\n",
      "\n",
      "eigenvec 149 T = [[ 0.063118   -0.57735027 -0.21357256]\n",
      " [-0.9976006  -0.57735027  0.06385151]\n",
      " [-0.02844573 -0.57735027  0.97483832]]\n",
      "\n",
      "\n",
      "\n",
      "\n",
      "\n",
      "\n",
      "eigenval 159 T = [1.         0.79485841 0.53713049]\n",
      "\n",
      "\n",
      "eigenvec 159 T = [[-0.57735027 -0.44434883 -0.04418866]\n",
      " [-0.57735027  0.76280332  0.0171893 ]\n",
      " [-0.57735027  0.46977145  0.99887531]]\n",
      "\n",
      "\n",
      "\n",
      "\n",
      "159\n",
      "\n",
      "[[ 0.54166141  0.41688145  0.04145714]\n",
      " [-2.84910966  3.76428386  0.0848258 ]\n",
      " [-0.64776455  0.52706529  1.12069925]]\n",
      "149\n",
      "\n",
      "[[-0.0867238   0.79327623  0.29344757]\n",
      " [ 0.660182    0.382073   -0.042255  ]\n",
      " [-0.07707985 -1.56445545  2.6415353 ]]\n",
      "---------------------------------------------------\n",
      "Teigenval 149 T = [0.59997059 1.         0.90912032]\n",
      "\n",
      "\n",
      "Teigenvec 149 T = [[-7.93741374e-01  2.62977651e-02  2.31020909e-04]\n",
      " [ 5.62644550e-01  9.99315074e-01 -7.07222263e-01]\n",
      " [ 2.31096824e-01  2.60347875e-02  7.06991242e-01]]\n",
      "\n",
      "\n",
      "\n",
      "\n",
      "\n",
      "\n",
      "Teigenval 159 T = [1.        0.5878233 0.4521767]\n",
      "\n",
      "\n",
      "Teigenvec 159 T = [[-0.0241057  -0.50674967  0.20002106]\n",
      " [-0.00318377 -0.30106504 -0.78557138]\n",
      " [-0.99970435  0.80781471  0.58555032]]\n",
      "\n",
      "\n",
      "\n",
      "\n",
      "\n",
      "\n",
      "0.9999999999999999\n"
     ]
    },
    {
     "ename": "ValueError",
     "evalue": "not enough values to unpack (expected 2, got 0)",
     "output_type": "error",
     "traceback": [
      "\u001b[1;31m---------------------------------------------------------------------------\u001b[0m",
      "\u001b[1;31mValueError\u001b[0m                                Traceback (most recent call last)",
      "Input \u001b[1;32mIn [2]\u001b[0m, in \u001b[0;36m<cell line: 68>\u001b[1;34m()\u001b[0m\n\u001b[0;32m     65\u001b[0m \u001b[38;5;28mprint\u001b[39m(\u001b[38;5;124m\"\u001b[39m\u001b[38;5;130;01m\\n\u001b[39;00m\u001b[38;5;124m\"\u001b[39m)\n\u001b[0;32m     67\u001b[0m \u001b[38;5;28mprint\u001b[39m(Teigenval_159T[\u001b[38;5;241m0\u001b[39m])\n\u001b[1;32m---> 68\u001b[0m \u001b[38;5;28mprint\u001b[39m(\u001b[38;5;124m\"\u001b[39m\u001b[38;5;124mnormalisé\u001b[39m\u001b[38;5;124m\"\u001b[39m, \u001b[43mnormalise\u001b[49m\u001b[43m(\u001b[49m\u001b[43mTeigenval_159T\u001b[49m\u001b[43m[\u001b[49m\u001b[38;5;241;43m0\u001b[39;49m\u001b[43m]\u001b[49m\u001b[43m)\u001b[49m)\n\u001b[0;32m     69\u001b[0m \u001b[38;5;28mprint\u001b[39m(\u001b[38;5;124m\"\u001b[39m\u001b[38;5;124m---------------------------------------------------------\u001b[39m\u001b[38;5;124m\"\u001b[39m)\n\u001b[0;32m     70\u001b[0m NTeigenvec_159T\u001b[38;5;241m=\u001b[39mnormalise(Teigenvec_159T)\n",
      "Input \u001b[1;32mIn [1]\u001b[0m, in \u001b[0;36mnormalise\u001b[1;34m(m)\u001b[0m\n\u001b[0;32m     26\u001b[0m \u001b[38;5;124;03m\"\"\"\u001b[39;00m\n\u001b[0;32m     27\u001b[0m \u001b[38;5;124;03mNormalise a matrix\u001b[39;00m\n\u001b[0;32m     28\u001b[0m \u001b[38;5;124;03minput1 m: matrix\u001b[39;00m\n\u001b[0;32m     29\u001b[0m \u001b[38;5;124;03moutput1 mN: normalised matrix\u001b[39;00m\n\u001b[0;32m     30\u001b[0m \u001b[38;5;124;03m\"\"\"\u001b[39;00m\n\u001b[0;32m     31\u001b[0m som\u001b[38;5;241m=\u001b[39m[]\n\u001b[1;32m---> 33\u001b[0m t1,t2\u001b[38;5;241m=\u001b[39mm\u001b[38;5;241m.\u001b[39mshape\n\u001b[0;32m     34\u001b[0m mN\u001b[38;5;241m=\u001b[39mnp\u001b[38;5;241m.\u001b[39mzeros((t1,t2))\n\u001b[0;32m     35\u001b[0m \u001b[38;5;28;01mfor\u001b[39;00m i \u001b[38;5;129;01min\u001b[39;00m \u001b[38;5;28mrange\u001b[39m(t1):\n",
      "\u001b[1;31mValueError\u001b[0m: not enough values to unpack (expected 2, got 0)"
     ]
    }
   ],
   "source": [
    "#You can use the function numpy.linalg.eig\n",
    "#https://numpy.org/doc/stable/reference/generated/numpy.linalg.eig.html\n",
    "\n",
    "mat = np.array([[1, 2], [20, 60]])\n",
    "eigenvalues, eigenvectors = np.linalg.eig(mat)\n",
    "\n",
    "print (\"eigenvalues :\", eigenvalues,\"\\n\\n\\n\" ,\"eigenvectors :\",eigenvectors)\n",
    "print(\"\\n\\n\\n\\n\")\n",
    "eigenval_149, eigenvec_149=np.linalg.eig(Np_149)\n",
    "#pi_stat_149=eigenval_149*eigenvec_149\n",
    "#pi_stat_149=eigenvec_149\n",
    "eigenval_159, eigenvec_159=np.linalg.eig(Np_159)\n",
    "TNp_149=Np_149.T\n",
    "print(\"Transposé 149 \",TNp_149)\n",
    "print(\"\\n\")\n",
    "print(\"\\n\")\n",
    "TNp_159=Np_159.T\n",
    "print(\"Transposé 159\",TNp_159)\n",
    "print(\"\\n\")\n",
    "print(\"\\n\")\n",
    "NTNp_149=normalise(TNp_149)\n",
    "print(\"Normalise transposé de 149\",NTNp_149)\n",
    "print(\"\\n\")\n",
    "print(\"\\n\")\n",
    "NTNp_159=normalise(TNp_159)\n",
    "print(\"Normalise transposé de 159\",NTNp_159)\n",
    "print(\"\\n\")\n",
    "print(\"\\n\")\n",
    "\n",
    "eigenval_149T,eigenvec_149T=np.linalg.eig(NTNp_149)\n",
    "print(\"eigenval 149 T =\",eigenval_149T)\n",
    "print(\"\\n\")\n",
    "print(\"eigenvec 149 T =\",eigenvec_149T)\n",
    "print(\"\\n\")\n",
    "print(\"\\n\")\n",
    "print(\"\\n\")\n",
    "eigenval_159T,eigenvec_159T=np.linalg.eig(NTNp_159)\n",
    "print(\"eigenval 159 T =\",eigenval_159T)\n",
    "print(\"\\n\")\n",
    "print(\"eigenvec 159 T =\",eigenvec_159T)\n",
    "print(\"\\n\")\n",
    "print(\"\\n\")\n",
    "\n",
    "Neigenvec_159T=normalise(eigenvec_159T)\n",
    "print(\"159\\n\")\n",
    "print(Neigenvec_159T)\n",
    "Neigenvec_149T=normalise(eigenvec_149T)\n",
    "print(\"149\\n\")\n",
    "print(Neigenvec_149T)\n",
    "\n",
    "print(\"---------------------------------------------------\")\n",
    "Teigenval_149T,Teigenvec_149T=np.linalg.eig(TNp_149)\n",
    "print(\"Teigenval 149 T =\",Teigenval_149T)\n",
    "print(\"\\n\")\n",
    "print(\"Teigenvec 149 T =\",Teigenvec_149T)\n",
    "print(\"\\n\")\n",
    "print(\"\\n\")\n",
    "print(\"\\n\")\n",
    "Teigenval_159T,Teigenvec_159T=np.linalg.eig(TNp_159)\n",
    "print(\"Teigenval 159 T =\",Teigenval_159T)\n",
    "print(\"\\n\")\n",
    "print(\"Teigenvec 159 T =\",Teigenvec_159T)\n",
    "print(\"\\n\")\n",
    "print(\"\\n\")\n",
    "print(\"\\n\")\n",
    "\n",
    "print(Teigenval_159T[0])\n",
    "print(\"normalisé\", normalise(Teigenval_159T[0]))\n",
    "print(\"---------------------------------------------------------\")\n",
    "NTeigenvec_159T=normalise(Teigenvec_159T)\n",
    "print(\"159\\n\")\n",
    "print(NTeigenvec_159T)\n",
    "NTeigenvec_149T=normalise(Teigenvec_149T)\n",
    "print(\"149\\n\")\n",
    "print(NTeigenvec_149T)\n",
    "print(\"\\n\")\n",
    "print(\"\\n\")\n",
    "print(\"\\n\")\n",
    "\n",
    "print(\"---------------------------------------------------\")\n",
    "\n",
    "print (\"Pi star 149 \" , pi_stat_149)\n",
    "print (\"Pi star 159 \" , pi_stat_159)\n",
    "\n",
    "#Pi star 149  [0.02500625 0.95023756 0.02475619]\n",
    "#Pi star 159  [0.0234721  0.00310009 0.97342781]\n"
   ]
  },
  {
   "cell_type": "markdown",
   "metadata": {
    "id": "dahLt4Ruz1JN"
   },
   "source": [
    "<b>Exercice 3</b>: Déterminer les matrices de transition $P_{149}^n$ et $P_{159}^n$ pour $n$ \n",
    "iterations avec $n=2,4,8,16,32,64$, imprimer toutes les matrices. Computer les vectors $\\pi^{(n)}$ et les comparer avec\n",
    "$\\pi^\\star_{149,159}$. Utilisez le $\\pi^0$ du papier de Gupta, page 2, ci-dessous."
   ]
  },
  {
   "cell_type": "code",
   "execution_count": null,
   "metadata": {
    "colab": {
     "base_uri": "https://localhost:8080/"
    },
    "executionInfo": {
     "elapsed": 239,
     "status": "ok",
     "timestamp": 1644855027342,
     "user": {
      "displayName": "Juliana Bernardes",
      "photoUrl": "https://lh3.googleusercontent.com/a-/AOh14GjmXQB4bG0DHp8uDHafZCQn94Atlo0kH-t-DxF8-w=s64",
      "userId": "00263393379349185862"
     },
     "user_tz": -60
    },
    "id": "Et5sT7SEz1JN",
    "outputId": "6b941682-595d-47dd-f1d7-6b3727295762"
   },
   "outputs": [],
   "source": [
    "pi_zero_149 = np.array([[0.039, 0.928, 0.033]])\n",
    "pi_zero_159 = np.array([[0.019, 0.0062, 0.973]])\n",
    "\n",
    "\n",
    "#matrice P**n\n",
    "def matTransN(P, n):\n",
    "    \"\"\"\n",
    "    Compute the transition matrix after N iterations\n",
    "    input1 P: matrix\n",
    "    input2 n: number of iterations\n",
    "    output Pn: transition matrix after N iterations\n",
    "    \"\"\"\n",
    "\n",
    "    return Pn\n",
    "\n",
    "#matrice P**n where n = 2,4,8,16,32,64\n",
    "def printMat(P, n, pi_0, M_name):\n",
    "    \"\"\"\n",
    "    Print all P**n matrices, where n in  {2,4,8,16,32,64, ...}  \n",
    "    input1 P: matrix\n",
    "    input2 n: number of iterations\n",
    "    input3 pi_0: initial condition\n",
    "    input4 M_name: matrix identifier\n",
    "    output: None\n",
    "    \"\"\"\n",
    "    \n",
    "\n",
    "print (printMat(p_149, 2, pi_zero_149, '149'))\n",
    "print (printMat(p_159, 2, pi_zero_159, '159'))"
   ]
  },
  {
   "cell_type": "markdown",
   "metadata": {
    "id": "Ez5E-p_kz1JP"
   },
   "source": [
    "<b> Exercice 4 </b>:\n",
    " Ecrire une fonction pour déterminer les\n",
    "$(\\pi^{(t)})_{t=1:n}$ d'une chaine de Markov à trois états. Appliquer\n",
    "pour $P_{149}$ et $P_{159}$, pour les conditions initiales \n",
    "$\\pi^{(0)}\\in\\{ (0.998,0.001,0.001), (0.001,0.998,0.001), \n",
    "(0.001,0.001,0.998) \\}$ et pour $n=20$ itérations de la chaine \n",
    "de Markov. Visualiser graphiquement les résultats.\n"
   ]
  },
  {
   "cell_type": "code",
   "execution_count": null,
   "metadata": {
    "executionInfo": {
     "elapsed": 223,
     "status": "ok",
     "timestamp": 1644856534370,
     "user": {
      "displayName": "Juliana Bernardes",
      "photoUrl": "https://lh3.googleusercontent.com/a-/AOh14GjmXQB4bG0DHp8uDHafZCQn94Atlo0kH-t-DxF8-w=s64",
      "userId": "00263393379349185862"
     },
     "user_tz": -60
    },
    "id": "KsLDPxwyz1JQ"
   },
   "outputs": [],
   "source": [
    "\n",
    "def Pi_n(pi_0, P, n):\n",
    "    \"\"\"\n",
    "    Compute Pi_n = Pi_0*P^n\n",
    "    input1 pi_0: intial condition\n",
    "    input2 P: transition matrix\n",
    "    input3 n: number of iterations\n",
    "    output Pi_n\n",
    "    \"\"\"\n",
    "\n",
    "    return Pi_n \n"
   ]
  },
  {
   "cell_type": "code",
   "execution_count": null,
   "metadata": {
    "executionInfo": {
     "elapsed": 190,
     "status": "ok",
     "timestamp": 1644856586760,
     "user": {
      "displayName": "Juliana Bernardes",
      "photoUrl": "https://lh3.googleusercontent.com/a-/AOh14GjmXQB4bG0DHp8uDHafZCQn94Atlo0kH-t-DxF8-w=s64",
      "userId": "00263393379349185862"
     },
     "user_tz": -60
    },
    "id": "-GUCujCkz1JQ"
   },
   "outputs": [],
   "source": [
    "def List_Pi_n(pi0, P, n):\n",
    "    \"\"\"\n",
    "    Compute a list of  Pi_n\n",
    "    input1 pi_0: intial condition\n",
    "    input2 P: transition matrix\n",
    "    input3 n: number of iterations\n",
    "    output liste_M_trans: list\n",
    "    \"\"\"\n",
    "    liste_Pi_n=[]\n",
    "\n",
    "    return np.array(liste_Pi_n)\n"
   ]
  },
  {
   "cell_type": "code",
   "execution_count": null,
   "metadata": {
    "executionInfo": {
     "elapsed": 198,
     "status": "ok",
     "timestamp": 1644856724472,
     "user": {
      "displayName": "Juliana Bernardes",
      "photoUrl": "https://lh3.googleusercontent.com/a-/AOh14GjmXQB4bG0DHp8uDHafZCQn94Atlo0kH-t-DxF8-w=s64",
      "userId": "00263393379349185862"
     },
     "user_tz": -60
    },
    "id": "0Ffnrnmiz1JQ"
   },
   "outputs": [],
   "source": [
    "def plot(liste_Pi_n):\n",
    "    \"\"\"\n",
    "    Plot liste_Pi_n\n",
    "    \"\"\"\n",
    "\n"
   ]
  },
  {
   "cell_type": "code",
   "execution_count": null,
   "metadata": {
    "colab": {
     "base_uri": "https://localhost:8080/",
     "height": 265
    },
    "executionInfo": {
     "elapsed": 525,
     "status": "ok",
     "timestamp": 1644856753199,
     "user": {
      "displayName": "Juliana Bernardes",
      "photoUrl": "https://lh3.googleusercontent.com/a-/AOh14GjmXQB4bG0DHp8uDHafZCQn94Atlo0kH-t-DxF8-w=s64",
      "userId": "00263393379349185862"
     },
     "user_tz": -60
    },
    "id": "wVIEcMhBz1JS",
    "outputId": "15fad204-c266-4985-9120-8e7d3f3fa605"
   },
   "outputs": [],
   "source": [
    "pi1 = np.array([0.998,0.001,0.001])\n",
    "plot(List_Pi_n(pi1, p_149, 20))"
   ]
  },
  {
   "cell_type": "markdown",
   "metadata": {
    "id": "0UoEleO_z1JS"
   },
   "source": [
    "<b> Exercice 5 </b>:\n",
    "Ecrire une fonction pour simuler la trajectoire stochastique\n",
    "$(x_t)_{t=0:n}$ d'une seule réalisation de la chaiine de Markov. \n",
    "Créer des population de $N=10,100,1000,10000$ trajectoires. Estimer \n",
    "la trajectoire moyenne de chaque population.\n"
   ]
  },
  {
   "cell_type": "code",
   "execution_count": null,
   "metadata": {
    "id": "xLSto-G0z1JT"
   },
   "outputs": [],
   "source": [
    "def Trajectoire (n, Pi_0, P):\n",
    "    \"\"\"\n",
    "    simulate the stochastic trajectory\n",
    "    input1 n: number of iterations\n",
    "    input2 Pi_0: initial condition\n",
    "    input3 P: transtion matrix\n",
    "    output Traj: list of states that simulates the stochastic trajectory ['S', 'B', 'L']\n",
    "    \"\"\"\n",
    "    Traj = []    \n",
    "\n",
    "    return Traj\n",
    "\n",
    "#Déterminer une trajectoire pour N population.\n",
    "def Trajectoire_P(n, Pi_0, P, N):\n",
    "    \"\"\"\n",
    "    Simulate a trajectory for N population.\n",
    "    input1 n: number of iterations\n",
    "    input2 Pi_0: initial condition\n",
    "    input3 P: transtion matrix\n",
    "    input3 N: population size\n",
    "    output TrajP: trajectory\n",
    "    \"\"\"\n",
    "    TrajP=[]\n",
    "\n",
    "    return TrajP\n",
    "    \n",
    "\n",
    "#Estimer la trajectoire moyenne d'une chaine de markov pou N\n",
    "\n",
    "def Trajectoire_moy(n, Pi_0, P, N):\n",
    "    \"\"\"\n",
    "    Find the mean tragetoire\n",
    "    input1 n: number of iterations\n",
    "    input2 Pi_0: initial condition\n",
    "    input3 P: transtion matrix\n",
    "    input3 N: population size\n",
    "    output TrajMoy: mean trajectory\n",
    "    \"\"\"\n",
    "    \n",
    "    TrajMoy = np.zeros((3,n))\n",
    "    \n",
    "    \n",
    "    return TrajMoy\n",
    "\n",
    "#Visualiser graphique des trajectoires.\n",
    "def plotTrajectory(t):\n",
    "    \"\"\"\n",
    "    Plot Trajectory\n",
    "    input1 t: trajectory\n",
    "    \"\"\"\n"
   ]
  },
  {
   "cell_type": "code",
   "execution_count": null,
   "metadata": {
    "id": "ywau1ttsz1JT",
    "outputId": "788ac3db-5d96-4fab-f4f4-5f90986eeabb"
   },
   "outputs": [],
   "source": [
    "plotTrajectory(Trajectoire_moy(20, pi1, p_149, 10))"
   ]
  },
  {
   "cell_type": "markdown",
   "metadata": {
    "id": "v6J7JbvWz1JT"
   },
   "source": [
    "<b> Exercice 6 </b>: \n",
    "Ecrire une fonction pour calculer la probabilité d'une trajectoire\n",
    "$(x_t)_{t=0:n}$. Pour y facilite vous devez applique le log et utlise la some au\n",
    "lieu du product.  Ensuite vouz devez comparer les probabilités de \n",
    "deux chaiines de Markov $P_{149}$ et $P_{159}$. Visualiser les histogrammes pour les deux populations de taille $N=10000$ (géenérées avec $P_{149}$ et $P_{159}$). Est-ce que vous observez des différences entre les deux modèles? Comment est-ce que vous expliquer cettes différences?"
   ]
  },
  {
   "cell_type": "code",
   "execution_count": null,
   "metadata": {
    "id": "tYRRFv2cz1JT",
    "outputId": "d5393941-1aad-4fca-c0b1-ed17bf1da50a"
   },
   "outputs": [],
   "source": [
    "#Calculer la probabilité d’une trajectoire (xt)t=0:n\n",
    "def Pb_Trajectoire(Traj, Pi_0, P): \n",
    "    \"\"\"\n",
    "    Compute the probability of a trajectory\n",
    "    input1 Traj: a trajectory\n",
    "    input2 Pi_0: initial condition\n",
    "    input3 P: transtion matrix\n",
    "    output Proba: ptobability\n",
    "    \"\"\"\n",
    "\n",
    "    return Proba\n",
    "\n",
    "\n",
    "def Histo (Trajs, Pi_0, P):\n",
    "    \"\"\"\n",
    "    compute a histogramm of Trajectory probabilities\n",
    "    input1 Trajs: a trajectory population\n",
    "    input2 Pi_0: initial condition\n",
    "    input3 P: transtion matrix  \n",
    "    output pop: a list of probabilities\n",
    "    \"\"\"\n",
    "\n",
    "    pop = []\n",
    "\n",
    "    return pop\n",
    "\n",
    "def plotHist(Histo149, Histo159):\n",
    "    \"\"\"\n",
    "    Plot two probabilities histogram\n",
    "    input1 Histo149: a list of probabilities for P149\n",
    "    input1 Histo159: a list of probabilities for P159\n",
    "    \"\"\"\n",
    "\n",
    "\n",
    "#-------------------------------------------------------------\n",
    "plotHist(Histo(Trajectoire_P(20, pi0_149, p_149, 10000),pi0_149, p_149), Histo(Trajectoire_P(20, pi0_159, p_159, 10000),pi0_159, p_159))\n"
   ]
  },
  {
   "cell_type": "markdown",
   "metadata": {
    "id": "ZsmgfCRPz1JU"
   },
   "source": []
  }
 ],
 "metadata": {
  "colab": {
   "collapsed_sections": [],
   "name": "TME4_corrige.ipynb",
   "provenance": []
  },
  "kernelspec": {
   "display_name": "Python 3 (ipykernel)",
   "language": "python",
   "name": "python3"
  },
  "language_info": {
   "codemirror_mode": {
    "name": "ipython",
    "version": 3
   },
   "file_extension": ".py",
   "mimetype": "text/x-python",
   "name": "python",
   "nbconvert_exporter": "python",
   "pygments_lexer": "ipython3",
   "version": "3.10.6"
  }
 },
 "nbformat": 4,
 "nbformat_minor": 1
}
