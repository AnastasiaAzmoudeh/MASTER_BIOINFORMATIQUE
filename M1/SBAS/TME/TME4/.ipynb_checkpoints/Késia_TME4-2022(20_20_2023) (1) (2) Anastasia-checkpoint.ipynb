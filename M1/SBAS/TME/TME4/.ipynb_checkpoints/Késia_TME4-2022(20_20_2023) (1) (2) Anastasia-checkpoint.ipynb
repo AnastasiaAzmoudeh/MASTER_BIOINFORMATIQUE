{
 "cells": [
  {
   "cell_type": "markdown",
   "metadata": {
    "id": "iH_7RQMQz1I_"
   },
   "source": [
    "<h1><b>Statistique en Bioinformatique : </b> TME4 </h1>\n",
    "<br>\n",
    "L’objectif de ce TME sont: \n",
    "<br>\n",
    "<ul>\n",
    "<li> objectif 1 : Utiliser les chaines de Markov pour comprendre les états phénotypiques de cellules cancéreuses.   </li> \n",
    "<li> objectif 2 : étudier la dynamique des proportions phénotypiques dans les lignées cellulaires du cancer du sein humain: SUM159 et SUM149</li>\n",
    "</ul>\n",
    "<br>\n",
    "<div class=\"alert alert-warning\" role=\"alert\" style=\"margin: 10px\">\n",
    "<p><b>Soumission</b></p>\n",
    "<ul>\n",
    "<li>Renomer le fichier TME3.ipynb pour NomEtudiant1_NomEtudiant2.ipynb </li>\n",
    "<li>Soumettre sur moodle </li>\n",
    "</div>\n"
   ]
  },
  {
   "cell_type": "markdown",
   "metadata": {
    "id": "RL6noRwnz1JF"
   },
   "source": [
    "Nom etudiant 1 :\n",
    "<br>\n",
    "Nom etudiant 2 :\n",
    "<br>"
   ]
  },
  {
   "cell_type": "markdown",
   "metadata": {
    "id": "JjI415A7z1JG"
   },
   "source": [
    "<h3>Introduction</h3>\n",
    "<ul>\n",
    "<li> Les cellules cancéreuses au sein des tumeurs existent souvent dans des états phénotypiques distincts.</li>\n",
    "<li> Les sous-populations de cellules purifiées pour un état phénotypique reviennent vers des proportions d'équilibre dans le temps.</li>\n",
    "<li> Cet équilibre peut s'expliquer par un modèle de Markov dans lequel les cellules passent de manière stochastique entre les états.  </li>\n",
    "</ul>\n",
    "\n",
    "<img src=\"img/CellStateTransition.png\" />"
   ]
  },
  {
   "cell_type": "markdown",
   "metadata": {
    "id": "klmlzMfxz1JG"
   },
   "source": [
    "<b>Exercice 1</b>:\n",
    "Traduire les graphes de transition de la figure D en matrices de transition, \n",
    "$P_{149}$ et $P_{159}$. Verifier bien que les matrices et les vecteur  $\\pi_{0}$ soitent normalisés.\n"
   ]
  },
  {
   "cell_type": "code",
   "execution_count": 1,
   "metadata": {
    "colab": {
     "base_uri": "https://localhost:8080/"
    },
    "executionInfo": {
     "elapsed": 215,
     "status": "ok",
     "timestamp": 1644853786575,
     "user": {
      "displayName": "Juliana Bernardes",
      "photoUrl": "https://lh3.googleusercontent.com/a-/AOh14GjmXQB4bG0DHp8uDHafZCQn94Atlo0kH-t-DxF8-w=s64",
      "userId": "00263393379349185862"
     },
     "user_tz": -60
    },
    "id": "y62Dy1Szz1JH",
    "outputId": "ca6703cf-3466-4c51-c9d9-c7dea1562f4a"
   },
   "outputs": [
    {
     "name": "stdout",
     "output_type": "stream",
     "text": [
      "[[0.61       0.3        0.09      ]\n",
      " [0.01       0.99       0.        ]\n",
      " [0.01010101 0.08080808 0.90909091]]\n",
      "[[0.58 0.07 0.35]\n",
      " [0.04 0.47 0.49]\n",
      " [0.01 0.   0.99]]\n"
     ]
    }
   ],
   "source": [
    "import matplotlib.pyplot as plt\n",
    "import numpy as np\n",
    "import scipy as sp\n",
    "from matplotlib.legend_handler import HandlerLine2D\n",
    "import random\n",
    "import math as mt\n",
    "import pandas as pd\n",
    "#distribuition inicialle vecteur pi_0 S, L, B\n",
    "pi0_149 = np.array([0.039, 0.033, 0.9280])\n",
    "pi0_159 = np.array([0.019, 0.973, 0.0062])\n",
    "\n",
    "\n",
    "\n",
    "#matrices \n",
    "p_149 = np.array([[0.61, 0.30, 0.09], [0.01, 0.99, 0.00], [0.01, 0.08, 0.90]])\n",
    "\n",
    "\n",
    "p_159 = np.array([[0.58, 0.07, 0.35], [0.04, 0.47, 0.49], [0.01, 0.00, 0.99]])\n",
    "\n",
    "#Normaliser les vecteurs π0.\n",
    "\n",
    "def normalise(m):\n",
    "    \"\"\"\n",
    "    Normalise a matrix\n",
    "    input1 m: matrix\n",
    "    output1 mN: normalised matrix\n",
    "    \"\"\"\n",
    "\n",
    "    mN = m \n",
    "    \n",
    "    for i in range (int(len(m))): \n",
    "        Somme = np.sum(m[i])\n",
    "        for j in range (int(len (m[i]))):\n",
    "            mN[i][j]= (m[i][j])/Somme    \n",
    "\n",
    "    return mN\n",
    "\n",
    "Np_149 = normalise(p_149)\n",
    "print (normalise(p_149))\n",
    "#[[0.61       0.3        0.09      ]\n",
    "# [0.01       0.99       0.        ]\n",
    "# [0.01010101 0.08080808 0.90909091]]\n",
    "\n",
    "Np_159 = normalise(p_159)\n",
    "print (normalise(p_159))\n",
    "#[[0.58 0.07 0.35]\n",
    "# [0.04 0.47 0.49]\n",
    "# [0.01 0.00 0.99]]"
   ]
  },
  {
   "cell_type": "markdown",
   "metadata": {
    "id": "BJqHvDoIz1JL"
   },
   "source": [
    "<b>Exercice 2</b>: Déterminer les états stationnaires \n",
    "$\\pi^\\star_{149}$ et $\\pi^\\star_{159}$. \n",
    "Est-ce que les valeurs que vous trouvez sont consistentes avec les \n",
    "valeurs experimentales en Fig. 1?"
   ]
  },
  {
   "cell_type": "code",
   "execution_count": 2,
   "metadata": {
    "colab": {
     "base_uri": "https://localhost:8080/"
    },
    "executionInfo": {
     "elapsed": 225,
     "status": "ok",
     "timestamp": 1644854983898,
     "user": {
      "displayName": "Juliana Bernardes",
      "photoUrl": "https://lh3.googleusercontent.com/a-/AOh14GjmXQB4bG0DHp8uDHafZCQn94Atlo0kH-t-DxF8-w=s64",
      "userId": "00263393379349185862"
     },
     "user_tz": -60
    },
    "id": "KaDmd5Pwz1JM",
    "outputId": "d1031a9e-3dfb-4f28-d8c2-b2eba41d015e"
   },
   "outputs": [],
   "source": [
    "# #You can use the function numpy.linalg.eig\n",
    "# #https://numpy.org/doc/stable/reference/generated/numpy.linalg.eig.html\n",
    "\n",
    "# mat = np.array([[1, 2], [20, 60]])\n",
    "# eigenvalues, eigenvectors = np.linalg.eig(mat)\n",
    "# print (eigenvalues,\"\\n\\n\" ,eigenvectors)\n",
    "\n",
    "\n",
    "# print(\"\\n\\n\\n =======================149==========================\")\n",
    "# eigenvalues_149, eigenvectors_149 = np.linalg.eig(Np_149.T)\n",
    "# print(\"eigenvalues_149 = \\n\", eigenvalues_149)\n",
    "# print(\"\\neigenvectors_149 = \\n\", eigenvectors_149)\n",
    "\n",
    "\n",
    "# # je dois remplacer le 1 par qqch qui trouve tt seul 1 l'indice de la vp = 1\n",
    "\n",
    "# indice = 0\n",
    "# for i in range(len(eigenvectors_149)):\n",
    "#     print(\"indice ----> \", eigenvectors_149[i])\n",
    "# print(\"indice ----> \", indice)\n",
    "    \n",
    "# pi_stat_149 = []\n",
    "# for i in range (len(eigenvectors_149)):\n",
    "#     pi_stat_149.append(eigenvectors_149[i][1])\n",
    "    \n",
    "# print(\"pi_stat_149 = \",pi_stat_149)\n",
    "\n",
    "\n",
    "# print(\"pi_stat_149 AVANT ===> \", pi_stat_149)\n",
    "# somme = np.sum(pi_stat_149)\n",
    "# for i in range (len(pi_stat_149)): \n",
    "#     pi_stat_149[i]= pi_stat_149[i]/somme\n",
    "\n",
    "# print(\"apres !!! ===> \", pi_stat_149)\n",
    "    \n",
    "# # Np_eigenvectors_149_1 = normalise(a)\n",
    "# # print(\"\\n Np_eigenvectors_149_1 = \\n\", Np_eigenvectors_149_1)\n",
    "\n",
    "# # pi_stat_149 = Np_149.T @ eigenvectors_149[1]\n",
    "# # print (\"\\n Pi star 149 \\n\" , pi_stat_149)\n",
    "\n",
    "# print(\"\\n\\n\\n ================159========================\")\n",
    "# eigenvalues_159, eigenvectors_159 = np.linalg.eig(Np_159.T)\n",
    "# print(\"eigenvalues_159 = \\n\", eigenvalues_159)\n",
    "# print(\"\\neigenvectors_159 = \\n\", eigenvectors_159)\n",
    "\n",
    "\n",
    "# # je dois remplacer le 1 par qqch qui trouve tt seul 1 l'indice de la vp = 1\n",
    "# pi_stat_159 = []\n",
    "# for i in range (len(eigenvectors_159)):\n",
    "#     pi_stat_159.append(eigenvectors_159[i][0])\n",
    "    \n",
    "# print(\"pi_stat_159 = \",pi_stat_159)\n",
    "\n",
    "\n",
    "# print(\"pi_stat_159 AVANT ===> \", pi_stat_159)\n",
    "# somme = np.sum(pi_stat_159)\n",
    "# for i in range (len(pi_stat_159)): \n",
    "#     pi_stat_159[i]= pi_stat_159[i]/somme\n",
    "\n",
    "# print(\"apres !!! ===> \", pi_stat_159)\n",
    "\n",
    "\n",
    "# print(\"====================\")\n",
    "# print (\"Pi star 149 \\n\" , pi_stat_149)\n",
    "# print (\"\\nPi star 159 \\n\" , pi_stat_159)\n",
    "\n",
    "# #Pi star 149  [0.02500625 0.95023756 0.02475619]\n",
    "# #Pi star 159  [0.0234721  0.00310009 0.97342781]\n"
   ]
  },
  {
   "cell_type": "code",
   "execution_count": 3,
   "metadata": {},
   "outputs": [
    {
     "name": "stdout",
     "output_type": "stream",
     "text": [
      "Pi star 149 \n",
      " [0.025006251562891303, 0.9502375593898466, 0.024756189047262164]\n",
      "\n",
      "Pi star 159 \n",
      " [0.023472099202834246, 0.003100088573959551, 0.9734278122232062]\n"
     ]
    }
   ],
   "source": [
    "#You can use the function numpy.linalg.eig\n",
    "#https://numpy.org/doc/stable/reference/generated/numpy.linalg.eig.html\n",
    "\n",
    "mat = np.array([[1, 2], [20, 60]])\n",
    "eigenvalues, eigenvectors = np.linalg.eig(mat)\n",
    "# print (eigenvalues,\"\\n\\n\" ,eigenvectors)\n",
    "\n",
    "# print(\"\\n\\n\\n ================149========================\")\n",
    "eigenvalues_149, eigenvectors_149 = np.linalg.eig(Np_149.T)\n",
    "pi_stat_149 = []\n",
    "for i in range (len(eigenvectors_149)):\n",
    "    pi_stat_149.append(eigenvectors_149[i][1])\n",
    "somme = np.sum(pi_stat_149)\n",
    "for i in range (len(pi_stat_149)): \n",
    "    pi_stat_149[i]= pi_stat_149[i]/somme\n",
    "\n",
    "\n",
    "# print(\"\\n\\n\\n ================159========================\")\n",
    "eigenvalues_159, eigenvectors_159 = np.linalg.eig(Np_159.T)\n",
    "\n",
    "pi_stat_159 = []\n",
    "for i in range (len(eigenvectors_159)):\n",
    "    pi_stat_159.append(eigenvectors_159[i][0])\n",
    "\n",
    "somme = np.sum(pi_stat_159)\n",
    "for i in range (len(pi_stat_159)): \n",
    "    pi_stat_159[i]= pi_stat_159[i]/somme\n",
    "\n",
    "print (\"Pi star 149 \\n\" , pi_stat_149)\n",
    "print (\"\\nPi star 159 \\n\" , pi_stat_159)\n",
    "\n",
    "#Pi star 149  [0.02500625 0.95023756 0.02475619]\n",
    "#Pi star 159  [0.0234721  0.00310009 0.97342781]\n"
   ]
  },
  {
   "cell_type": "markdown",
   "metadata": {
    "id": "dahLt4Ruz1JN"
   },
   "source": [
    "<b>Exercice 3</b>: Déterminer les matrices de transition $P_{149}^n$ et $P_{159}^n$ pour $n$ \n",
    "iterations avec $n=2,4,8,16,32,64$, imprimer toutes les matrices. Computer les vectors $\\pi^{(n)}$ et les comparer avec\n",
    "$\\pi^\\star_{149,159}$. Utilisez le $\\pi^0$ du papier de Gupta, page 2, ci-dessous."
   ]
  },
  {
   "cell_type": "code",
   "execution_count": 4,
   "metadata": {},
   "outputs": [
    {
     "name": "stdout",
     "output_type": "stream",
     "text": [
      "POUR 149\n",
      "p1\n",
      " [[0.61       0.3        0.09      ]\n",
      " [0.01       0.99       0.        ]\n",
      " [0.01010101 0.08080808 0.90909091]] \n",
      "p2\n",
      " [[3.76009091e-01 4.87272727e-01 1.36718182e-01]\n",
      " [1.60000000e-02 9.83100000e-01 9.00000000e-04]\n",
      " [1.61524334e-02 1.56492195e-01 8.27355372e-01]] \n",
      "p4\n",
      " [[0.15138753 0.68365212 0.16496035]\n",
      " [0.02176028 0.97442282 0.0038169 ]\n",
      " [0.02194114 0.29119277 0.68686609]]\n",
      "\n",
      "p8\n",
      " [[0.04141407 0.81769789 0.14088804]\n",
      " [0.0245817  0.96548774 0.00993056]\n",
      " [0.02472868 0.49875543 0.47651589]] \n",
      "p16\n",
      " [[0.0252995  0.89361016 0.08109033]\n",
      " [0.02499693 0.9572199  0.01778317]\n",
      " [0.02506798 0.73942773 0.23550429]] \n",
      "p32\n",
      " [[0.02501034 0.93794977 0.03703989]\n",
      " [0.02500575 0.95175682 0.02323742]\n",
      " [0.02502124 0.90433435 0.07064441]] \n",
      "p64\n",
      " [[0.02500644 0.94965498 0.02533858]\n",
      " [0.02500623 0.95030959 0.02468418]\n",
      " [0.02500696 0.94806122 0.02693182]]\n"
     ]
    }
   ],
   "source": [
    "print(\"POUR 149\")\n",
    "p1= p_149\n",
    "p2= p_149@p_149\n",
    "p3= p_149@p_149@p_149\n",
    "p4= p_149@p_149@p_149@p_149\n",
    "p5= p_149@p_149@p_149@p_149@p_149\n",
    "p8 = p4@p4\n",
    "p16 = p8@p8\n",
    "p32 = p16@ p16\n",
    "p64 = p32 @ p32\n",
    "\n",
    "# print(\"p1\\n\", p1,\"\\np2\\n\", p2,\"\\np3\\n\", p3,\"\\np4\\n\", p4,\"\\np5\\n\", p5)\n",
    "print(\"p1\\n\", p1,\"\\np2\\n\", p2,\"\\np4\\n\", p4)\n",
    "print(\"\\np8\\n\", p8,\"\\np16\\n\", p16,\"\\np32\\n\", p32,\"\\np64\\n\", p64)"
   ]
  },
  {
   "cell_type": "code",
   "execution_count": 5,
   "metadata": {},
   "outputs": [
    {
     "name": "stdout",
     "output_type": "stream",
     "text": [
      "POUR 159\n",
      "p1\n",
      " [[0.58 0.07 0.35]\n",
      " [0.04 0.47 0.49]\n",
      " [0.01 0.   0.99]] \n",
      "p2\n",
      " [[3.427e-01 7.350e-02 5.838e-01]\n",
      " [4.690e-02 2.237e-01 7.294e-01]\n",
      " [1.570e-02 7.000e-04 9.836e-01]] \n",
      "p4\n",
      " [[0.1300561  0.04203906 0.82790484]\n",
      " [0.03801574 0.05399942 0.90798484]\n",
      " [0.02085574 0.00199906 0.9771452 ]]\n",
      "\n",
      "p8\n",
      " [[0.0357793  0.00939255 0.95482814]\n",
      " [0.0259337  0.0063292  0.9677371 ]\n",
      " [0.0231675  0.00293808 0.97389443]] \n",
      "p16\n",
      " [[0.02364472 0.00320086 0.97315441]\n",
      " [0.02351208 0.00312693 0.973361  ]\n",
      " [0.02346781 0.00309757 0.97343462]] \n",
      "p32\n",
      " [[0.02347213 0.00310011 0.97342776]\n",
      " [0.02347211 0.00310009 0.9734278 ]\n",
      " [0.0234721  0.00310009 0.97342781]] \n",
      "p64\n",
      " [[0.0234721  0.00310009 0.97342781]\n",
      " [0.0234721  0.00310009 0.97342781]\n",
      " [0.0234721  0.00310009 0.97342781]]\n"
     ]
    }
   ],
   "source": [
    "print(\"POUR 159\")\n",
    "p1= p_159\n",
    "p2= p_159@p_159\n",
    "p3= p_159@p_159@p_159\n",
    "p4= p_159@p_159@p_159@p_159\n",
    "p5= p_159@p_159@p_159@p_159@p_159\n",
    "p8 = p4@p4\n",
    "p16 = p8@p8\n",
    "p32 = p16@ p16\n",
    "p64 = p32 @ p32\n",
    "\n",
    "# print(\"p1\\n\", p1,\"\\np2\\n\", p2,\"\\np3\\n\", p3,\"\\np4\\n\", p4,\"\\np5\\n\", p5)\n",
    "print(\"p1\\n\", p1,\"\\np2\\n\", p2,\"\\np4\\n\", p4)\n",
    "print(\"\\np8\\n\", p8,\"\\np16\\n\", p16,\"\\np32\\n\", p32,\"\\np64\\n\", p64)"
   ]
  },
  {
   "cell_type": "code",
   "execution_count": 6,
   "metadata": {
    "colab": {
     "base_uri": "https://localhost:8080/"
    },
    "executionInfo": {
     "elapsed": 239,
     "status": "ok",
     "timestamp": 1644855027342,
     "user": {
      "displayName": "Juliana Bernardes",
      "photoUrl": "https://lh3.googleusercontent.com/a-/AOh14GjmXQB4bG0DHp8uDHafZCQn94Atlo0kH-t-DxF8-w=s64",
      "userId": "00263393379349185862"
     },
     "user_tz": -60
    },
    "id": "Et5sT7SEz1JN",
    "outputId": "6b941682-595d-47dd-f1d7-6b3727295762"
   },
   "outputs": [
    {
     "name": "stdout",
     "output_type": "stream",
     "text": [
      "TEST\n",
      " [[0.02500644 0.94965498 0.02533858]\n",
      " [0.02500623 0.95030959 0.02468418]\n",
      " [0.02500696 0.94806122 0.02693182]] \n",
      "\n",
      "\n",
      "liste_n [2, 4, 8, 16, 32, 64]\n",
      "P 149 ** 2 =\n",
      " [[3.76009091e-01 4.87272727e-01 1.36718182e-01]\n",
      " [1.60000000e-02 9.83100000e-01 9.00000000e-04]\n",
      " [1.61524334e-02 1.56492195e-01 8.27355372e-01]]\n",
      "P 149 ** 4 =\n",
      " [[0.15138753 0.68365212 0.16496035]\n",
      " [0.02176028 0.97442282 0.0038169 ]\n",
      " [0.02194114 0.29119277 0.68686609]]\n",
      "P 149 ** 8 =\n",
      " [[0.04141407 0.81769789 0.14088804]\n",
      " [0.0245817  0.96548774 0.00993056]\n",
      " [0.02472868 0.49875543 0.47651589]]\n",
      "P 149 ** 16 =\n",
      " [[0.0252995  0.89361016 0.08109033]\n",
      " [0.02499693 0.9572199  0.01778317]\n",
      " [0.02506798 0.73942773 0.23550429]]\n",
      "P 149 ** 32 =\n",
      " [[0.02501034 0.93794977 0.03703989]\n",
      " [0.02500575 0.95175682 0.02323742]\n",
      " [0.02502124 0.90433435 0.07064441]]\n",
      "P 149 ** 64 =\n",
      " [[0.02500644 0.94965498 0.02533858]\n",
      " [0.02500623 0.95030959 0.02468418]\n",
      " [0.02500696 0.94806122 0.02693182]]\n",
      "None\n",
      "=========================================================\n",
      "liste_n [2, 4, 8, 16, 32, 64]\n",
      "P 159 ** 2 =\n",
      " [[3.427e-01 7.350e-02 5.838e-01]\n",
      " [4.690e-02 2.237e-01 7.294e-01]\n",
      " [1.570e-02 7.000e-04 9.836e-01]]\n",
      "P 159 ** 4 =\n",
      " [[0.1300561  0.04203906 0.82790484]\n",
      " [0.03801574 0.05399942 0.90798484]\n",
      " [0.02085574 0.00199906 0.9771452 ]]\n",
      "P 159 ** 8 =\n",
      " [[0.0357793  0.00939255 0.95482814]\n",
      " [0.0259337  0.0063292  0.9677371 ]\n",
      " [0.0231675  0.00293808 0.97389443]]\n",
      "P 159 ** 16 =\n",
      " [[0.02364472 0.00320086 0.97315441]\n",
      " [0.02351208 0.00312693 0.973361  ]\n",
      " [0.02346781 0.00309757 0.97343462]]\n",
      "P 159 ** 32 =\n",
      " [[0.02347213 0.00310011 0.97342776]\n",
      " [0.02347211 0.00310009 0.9734278 ]\n",
      " [0.0234721  0.00310009 0.97342781]]\n",
      "P 159 ** 64 =\n",
      " [[0.0234721  0.00310009 0.97342781]\n",
      " [0.0234721  0.00310009 0.97342781]\n",
      " [0.0234721  0.00310009 0.97342781]]\n",
      "None\n"
     ]
    }
   ],
   "source": [
    "pi_zero_149 = np.array([[0.039, 0.928, 0.033]])\n",
    "pi_zero_159 = np.array([[0.019, 0.0062, 0.973]])\n",
    "\n",
    "\n",
    "#matrice P**n\n",
    "def matTransN(P, n):\n",
    "    \"\"\"\n",
    "    Compute the transition matrix after N iterations\n",
    "    input1 P: matrix\n",
    "    input2 n: number of iterations\n",
    "    output Pn: transition matrix after N iterations\n",
    "    \"\"\"\n",
    "    Pn = P\n",
    "    for i in range(0,n-1): \n",
    "        Pn = Pn @ P\n",
    "    return Pn\n",
    "print(\"TEST\\n\",matTransN(p_149, 64), \"\\n\\n\")\n",
    "\n",
    "#matrice P**n where n = 2,4,8,16,32,64\n",
    "def printMat(P, n, pi_0, M_name):\n",
    "    \"\"\"\n",
    "    Print all P**n matrices, where n in  {2,4,8,16,32,64, ...}  \n",
    "    input1 P: matrix\n",
    "    input2 n: number of iterations\n",
    "    input3 pi_0: initial condition\n",
    "    input4 M_name: matrix identifier\n",
    "    output: None\n",
    "    \"\"\"\n",
    "    liste_n = []\n",
    "    ajout = 1 \n",
    "    for i in range(n):\n",
    "        ajout = ajout *2\n",
    "        liste_n.append(ajout)\n",
    "    print(\"liste_n\",liste_n)\n",
    "        \n",
    "    for n_val in liste_n:  \n",
    "        print(\"P\",M_name,\"**\",n_val,\"=\\n\",matTransN(P,n_val))\n",
    "    \n",
    "\n",
    "# print (printMat(p_149, 2, pi_zero_149, '149'))\n",
    "# print(\"=========================================================\")\n",
    "# print (printMat(p_159, 2, pi_zero_159, '159'))\n",
    "\n",
    "# on prend n = 6\n",
    "print (printMat(p_149, 6, pi_zero_149, '149'))\n",
    "print(\"=========================================================\")\n",
    "print (printMat(p_159, 6, pi_zero_159, '159'))"
   ]
  },
  {
   "cell_type": "markdown",
   "metadata": {
    "id": "Ez5E-p_kz1JP"
   },
   "source": [
    "<b> Exercice 4 </b>:\n",
    " Ecrire une fonction pour déterminer les\n",
    "$(\\pi^{(t)})_{t=1:n}$ d'une chaine de Markov à trois états. Appliquer\n",
    "pour $P_{149}$ et $P_{159}$, pour les conditions initiales \n",
    "$\\pi^{(0)}\\in\\{ (0.998,0.001,0.001), (0.001,0.998,0.001), \n",
    "(0.001,0.001,0.998) \\}$ et pour $n=20$ itérations de la chaine \n",
    "de Markov. Visualiser graphiquement les résultats.\n"
   ]
  },
  {
   "cell_type": "code",
   "execution_count": 7,
   "metadata": {
    "executionInfo": {
     "elapsed": 223,
     "status": "ok",
     "timestamp": 1644856534370,
     "user": {
      "displayName": "Juliana Bernardes",
      "photoUrl": "https://lh3.googleusercontent.com/a-/AOh14GjmXQB4bG0DHp8uDHafZCQn94Atlo0kH-t-DxF8-w=s64",
      "userId": "00263393379349185862"
     },
     "user_tz": -60
    },
    "id": "KsLDPxwyz1JQ"
   },
   "outputs": [
    {
     "name": "stdout",
     "output_type": "stream",
     "text": [
      "[[0.039 0.928 0.033]]\n",
      "[[0.019  0.0062 0.973 ]]\n",
      "(Pi_149)**20 =  [[0.02500736 0.94840458 0.02658805]]\n",
      "(Pi_159)**20 =  [[0.02342977 0.00309446 0.97167576]]\n"
     ]
    }
   ],
   "source": [
    "\n",
    "def Pi_n(pi_0, P, n):\n",
    "    \"\"\"\n",
    "    Compute Pi_n = Pi_0*P^n\n",
    "    input1 pi_0: intial condition\n",
    "    input2 P: transition matrix\n",
    "    input3 n: number of iterations\n",
    "    output Pi_n\n",
    "    \"\"\"\n",
    "    \n",
    "    Pi_n = pi_0 @ matTransN(P, n)\n",
    "\n",
    "    return Pi_n \n",
    "\n",
    "print(pi_zero_149)\n",
    "print(pi_zero_159)\n",
    "\n",
    "Pi_149_20 = Pi_n(pi_zero_149, p_149, 20)\n",
    "print(\"(Pi_149)**20 = \",Pi_149_20)\n",
    "\n",
    "Pi_159_20 = Pi_n(pi_zero_159, p_159, 20)\n",
    "print(\"(Pi_159)**20 = \",Pi_159_20)"
   ]
  },
  {
   "cell_type": "code",
   "execution_count": 87,
   "metadata": {
    "executionInfo": {
     "elapsed": 190,
     "status": "ok",
     "timestamp": 1644856586760,
     "user": {
      "displayName": "Juliana Bernardes",
      "photoUrl": "https://lh3.googleusercontent.com/a-/AOh14GjmXQB4bG0DHp8uDHafZCQn94Atlo0kH-t-DxF8-w=s64",
      "userId": "00263393379349185862"
     },
     "user_tz": -60
    },
    "id": "-GUCujCkz1JQ"
   },
   "outputs": [
    {
     "name": "stdout",
     "output_type": "stream",
     "text": [
      "[1, 2, 3, 4, 5]\n",
      "[[[0.03340333 0.93308667 0.03351   ]]\n",
      "\n",
      " [[0.03004538 0.93648468 0.03346994]]\n",
      "\n",
      " [[0.02803061 0.93883809 0.0331313 ]]\n",
      "\n",
      " [[0.02682171 0.94053617 0.03264212]]\n",
      "\n",
      " [[0.02609633 0.94181507 0.03208861]]]\n",
      "[0.03340333 0.93308667 0.03351   ]\n",
      "[0.03004538 0.93648468 0.03346994]\n",
      "[0.02803061 0.93883809 0.0331313 ]\n",
      "[0.02682171 0.94053617 0.03264212]\n",
      "[0.02609633 0.94181507 0.03208861]\n"
     ]
    }
   ],
   "source": [
    "# est-ce que n = {2,4,8,16,32,64, ...}  ou n = {1,2,3,4,5,...} ??? \n",
    "\n",
    "def List_Pi_n(pi0, P, n):\n",
    "    \"\"\"\n",
    "    Compute a list of  Pi_n\n",
    "    input1 pi_0: intial condition\n",
    "    input2 P: transition matrix\n",
    "    input3 n: number of iterations\n",
    "    output liste_M_trans: list\n",
    "    \"\"\"\n",
    "    liste_Pi_n=[]\n",
    "    \n",
    "#     liste_n = [] # n = {2,4,8,16,32,64, ...} \n",
    "#     ajout = 1 \n",
    "#     for i in range(n):\n",
    "#         ajout = ajout *2\n",
    "#         liste_n.append(ajout)\n",
    "#     print(\"liste_n\",liste_n)\n",
    "    \n",
    "    liste_n = [] # n = {1,2,3,4,5,...}\n",
    "    for i in range(n): \n",
    "        liste_n.append(i+1)\n",
    "    print(liste_n)\n",
    "\n",
    "    for n_val in liste_n: \n",
    "        liste_Pi_n.append(Pi_n(pi0, P, n_val))\n",
    "    \n",
    "\n",
    "    return np.array(liste_Pi_n)\n",
    "\n",
    "List_Pi_10_149 = List_Pi_n(pi_zero_149, p_149,5)\n",
    "print(List_Pi_10_149) "
   ]
  },
  {
   "cell_type": "code",
   "execution_count": 9,
   "metadata": {
    "executionInfo": {
     "elapsed": 198,
     "status": "ok",
     "timestamp": 1644856724472,
     "user": {
      "displayName": "Juliana Bernardes",
      "photoUrl": "https://lh3.googleusercontent.com/a-/AOh14GjmXQB4bG0DHp8uDHafZCQn94Atlo0kH-t-DxF8-w=s64",
      "userId": "00263393379349185862"
     },
     "user_tz": -60
    },
    "id": "0Ffnrnmiz1JQ"
   },
   "outputs": [],
   "source": [
    "def plot(liste_Pi_n):\n",
    "    \"\"\"\n",
    "    Plot liste_Pi_n\n",
    "    \"\"\"\n",
    "    axe_des_x = []\n",
    "    print(\"len(liste_Pi_n) = \", len(liste_Pi_n))\n",
    "    print(\"(liste_Pi_n) = \", (liste_Pi_n))\n",
    "    for i in range(len(liste_Pi_n)): \n",
    "        axe_des_x.append(i+1)\n",
    "    print(axe_des_x)\n",
    "    \n",
    "    graph = plt.plot(axe_des_x,  liste_Pi_n,  label = \" Dotplot\", linestyle = 'dotted')\n",
    "    \n",
    "\n"
   ]
  },
  {
   "cell_type": "code",
   "execution_count": 10,
   "metadata": {
    "colab": {
     "base_uri": "https://localhost:8080/",
     "height": 265
    },
    "executionInfo": {
     "elapsed": 525,
     "status": "ok",
     "timestamp": 1644856753199,
     "user": {
      "displayName": "Juliana Bernardes",
      "photoUrl": "https://lh3.googleusercontent.com/a-/AOh14GjmXQB4bG0DHp8uDHafZCQn94Atlo0kH-t-DxF8-w=s64",
      "userId": "00263393379349185862"
     },
     "user_tz": -60
    },
    "id": "wVIEcMhBz1JS",
    "outputId": "15fad204-c266-4985-9120-8e7d3f3fa605"
   },
   "outputs": [
    {
     "name": "stdout",
     "output_type": "stream",
     "text": [
      "[1, 2, 3, 4, 5, 6, 7, 8, 9, 10, 11, 12, 13, 14, 15, 16, 17, 18, 19, 20]\n",
      "len(liste_Pi_n) =  20\n",
      "(liste_Pi_n) =  [[0.6088001  0.30047081 0.09072909]\n",
      " [0.37528923 0.48743777 0.137273  ]\n",
      " [0.2351874  0.60624293 0.15856967]\n",
      " [0.15112846 0.68355043 0.16532111]\n",
      " [0.10069377 0.73541275 0.16389348]\n",
      " [0.07043282 0.77151067 0.15805651]\n",
      " [0.05227566 0.79769765 0.15002669]\n",
      " [0.04138055 0.81752674 0.14109271]\n",
      " [0.03484258 0.83316707 0.13199035]\n",
      " [0.03091888 0.84595406 0.12312706]\n",
      " [0.02856377 0.85671985 0.11471639]\n",
      " [0.02714985 0.86599179 0.10685837]\n",
      " [0.0263007  0.87411184 0.09958745]\n",
      " [0.02579048 0.88130841 0.09290111]\n",
      " [0.02548367 0.88773963 0.0867767 ]\n",
      " [0.02529897 0.89351959 0.08118144]\n",
      " [0.02518758 0.8987342  0.07607822]\n",
      " [0.02512023 0.90345087 0.0714289 ]\n",
      " [0.02507936 0.90772446 0.06719618]\n",
      " [0.0250544  0.91160102 0.06334458]]\n",
      "[1, 2, 3, 4, 5, 6, 7, 8, 9, 10, 11, 12, 13, 14, 15, 16, 17, 18, 19, 20]\n"
     ]
    },
    {
     "data": {
      "image/png": "[encoded data removed]",
      "text/plain": [
       "<Figure size 640x480 with 1 Axes>"
      ]
     },
     "metadata": {},
     "output_type": "display_data"
    }
   ],
   "source": [
    "pi1 = np.array([0.998,0.001,0.001])\n",
    "plot(List_Pi_n(pi1, p_149, 20))\n"
   ]
  },
  {
   "cell_type": "markdown",
   "metadata": {
    "id": "0UoEleO_z1JS"
   },
   "source": [
    "<b> Exercice 5 </b>:\n",
    "Ecrire une fonction pour simuler la trajectoire stochastique\n",
    "$(x_t)_{t=0:n}$ d'une seule réalisation de la chaiine de Markov. \n",
    "Créer des population de $N=10,100,1000,10000$ trajectoires. Estimer \n",
    "la trajectoire moyenne de chaque population.\n"
   ]
  },
  {
   "cell_type": "code",
   "execution_count": 11,
   "metadata": {
    "scrolled": true
   },
   "outputs": [
    {
     "name": "stdout",
     "output_type": "stream",
     "text": [
      "0.033\n",
      "a avant la boucle =   1\n",
      "['L']\n",
      "[0.01 0.99 0.  ]\n",
      "r = 0.01\n",
      "at = (array([0], dtype=int64),)\n",
      "b=  0\n",
      "a avant 1\n",
      "a==b 0\n",
      "r = 0.09\n",
      "at = (array([2], dtype=int64),)\n",
      "b=  2\n",
      "a avant 0\n",
      "a==b 2\n",
      "r = 0.010101010101010102\n",
      "at = (array([0], dtype=int64),)\n",
      "b=  0\n",
      "a avant 2\n",
      "a==b 0\n",
      "r = 0.61\n",
      "at = (array([0], dtype=int64),)\n",
      "b=  0\n",
      "a avant 0\n",
      "a==b 0\n",
      "['L', 'S', 'B', 'S', 'S']\n"
     ]
    }
   ],
   "source": [
    "tt=[]\n",
    "rng = np.random.default_rng()\n",
    "\n",
    "rng.choice(5, 3)\n",
    "# np.array([0, 3, 4]) # random\n",
    "\n",
    "#This is equivalent to rng.integers(0,5,3)\n",
    "\n",
    "rng.choice(5, 3, replace=False)\n",
    "# np.array([3,1,0]) # random\n",
    "\n",
    "#This is equivalent to rng.permutation(np.arange(5))[:3]\n",
    "\n",
    "res=float(rng.choice(pi0_149,1))\n",
    "print(res)\n",
    "t=np.where(pi0_149 == res)\n",
    "a=int(t[0])\n",
    "print(\"a avant la boucle =  \",a)\n",
    "\n",
    "if a==0:\n",
    "    tt.append('S')\n",
    "if a==1:\n",
    "    tt.append('L')\n",
    "if a==2:\n",
    "    tt.append('B')\n",
    "\n",
    "print(tt)\n",
    "print(p_149[a])\n",
    "for i in range(1,5):\n",
    "    r=float(rng.choice(p_149[a],1))\n",
    "    print(\"r =\",r)\n",
    "    at=np.where(p_149[a]==r)\n",
    "    print(\"at =\",at)\n",
    "    b=int(at[0])\n",
    "    print(\"b= \",b)\n",
    "    if b==0:\n",
    "        tt.append('S')\n",
    "    if b==1:\n",
    "        tt.append('L')\n",
    "    if b==2:\n",
    "        tt.append('B')\n",
    "    print(\"a avant\",a)\n",
    "    a=b\n",
    "    print(\"a==b\",a)\n",
    "print(tt)\n",
    "    \n",
    "#                     S      L       B\n",
    "# pi0_149 = np.array([0.039, 0.033, 0.9280])\n",
    "                        \n",
    "# pi0_159 = np.array([0.019, 0.973, 0.0062])\n",
    "#                     S                   l                  B\n",
    "# p_149 = np.array([[0.61, 0.30, 0.09], [0.01, 0.99, 0.00], [0.01, 0.08, 0.90]])\n",
    "#p_159 = np.array([[0.58, 0.07, 0.35], [0.04, 0.47, 0.49], [0.01, 0.00, 0.99]])"
   ]
  },
  {
   "cell_type": "code",
   "execution_count": 78,
   "metadata": {
    "id": "xLSto-G0z1JT"
   },
   "outputs": [
    {
     "name": "stdout",
     "output_type": "stream",
     "text": [
      "[[1.  1.  0.4 1.  0.6]\n",
      " [0.  0.4 0.4 0.  0.6]\n",
      " [0.4 0.  0.6 0.4 0.2]]\n"
     ]
    }
   ],
   "source": [
    "def Trajectoire (n, Pi_0, P):\n",
    "    \"\"\"\n",
    "    simulate the stochastic trajectory\n",
    "    input1 n: number of iterations\n",
    "    input2 Pi_0: initial condition\n",
    "    input3 P: transtion matrix\n",
    "    output Traj: list of states that simulates the stochastic trajectory ['S', 'B', 'L']\n",
    "    \"\"\"\n",
    "    Traj = []\n",
    "    res=float(rng.choice(Pi_0,1))\n",
    "    #print(res)\n",
    "    t=np.where(Pi_0 == res)\n",
    "    a=int(t[0])\n",
    "    #print(\"a avant la boucle =  \",a)\n",
    "\n",
    "    if a==0:\n",
    "        Traj.append('S')\n",
    "    if a==1:\n",
    "        Traj.append('L')\n",
    "    if a==2:\n",
    "        Traj.append('B')\n",
    "\n",
    "   \n",
    "    for i in range(1,n):\n",
    "        r=float(rng.choice(P[a],1))\n",
    "        #print(\"r =\",r)\n",
    "        at=np.where(P[a]==r)\n",
    "        #print(\"at =\",at)\n",
    "        b=int(at[0])\n",
    "        #print(\"b= \",b)\n",
    "        if b==0:\n",
    "            Traj.append('S')\n",
    "        if b==1:\n",
    "            Traj.append('L')\n",
    "        if b==2:\n",
    "            Traj.append('B')\n",
    "        #print(\"a avant\",a)\n",
    "        a=b\n",
    "        #print(\"a==b\",a)\n",
    "    #print(tt)\n",
    "\n",
    "\n",
    "    return Traj\n",
    "\n",
    "#Déterminer une trajectoire pour N population.\n",
    "def Trajectoire_P(n, Pi_0, P, N):\n",
    "    \"\"\"\n",
    "    Simulate a trajectory for N population.\n",
    "    input1 n: number of iterations\n",
    "    input2 Pi_0: initial condition\n",
    "    input3 P: transtion matrix\n",
    "    input3 N: population size\n",
    "    output TrajP: trajectory\n",
    "    \"\"\"\n",
    "    TrajP=[]\n",
    "    \n",
    "    for j in range(N):\n",
    "        T=[]\n",
    "        res=float(rng.choice(Pi_0,1))\n",
    "        #print(res)\n",
    "        t=np.where(Pi_0 == res)\n",
    "        a=int(t[0])\n",
    "        #print(\"a avant la boucle =  \",a)\n",
    "\n",
    "        if a==0:\n",
    "            T.append('S')\n",
    "        if a==1:\n",
    "            T.append('L')\n",
    "        if a==2:\n",
    "            T.append('B')\n",
    "\n",
    "        #print(tt)\n",
    "        #print(p_149[a])\n",
    "        for i in range(1,n):\n",
    "            r=float(rng.choice(P[a],1))\n",
    "            #print(\"r =\",r)\n",
    "            at=np.where(P[a]==r)\n",
    "            #print(\"at =\",at)\n",
    "            b=int(at[0])\n",
    "            #print(\"b= \",b)\n",
    "            if b==0:\n",
    "                T.append('S')\n",
    "            if b==1:\n",
    "                T.append('L')\n",
    "            if b==2:\n",
    "                T.append('B')\n",
    "            #print(\"a avant\",a)\n",
    "            a=b\n",
    "            #print(\"a==b\",a)\n",
    "        TrajP.append(T)\n",
    "    return TrajP\n",
    "\n",
    "#Estimer la trajectoire moyenne d'une chaine de markov pou N\n",
    "\n",
    "def Trajectoire_moy(n, Pi_0, P, N):\n",
    "    \"\"\"\n",
    "    Find the mean tragetoire\n",
    "    input1 n: number of iterations\n",
    "    input2 Pi_0: initial condition\n",
    "    input3 P: transtion matrix\n",
    "    input3 N: population size\n",
    "    output TrajMoy: mean trajectory\n",
    "    \"\"\"\n",
    "    \n",
    "    TrajMoy = np.zeros((3,n))\n",
    "    TrajP=Trajectoire_P(n, Pi_0, P, N)\n",
    "    #print(\"TRAJ P\",TrajP)\n",
    "    l_index=[]\n",
    "    l_columns=[]\n",
    "    for i in range(N):\n",
    "        l_index.append(str(i))\n",
    "    for j in range(n):\n",
    "        l_columns.append(str(j))\n",
    "    ddf=pd.DataFrame(TrajP,index=l_index,columns=l_columns)\n",
    "#             if b==0:\n",
    "#                 T.append('S')\n",
    "#             if b==1:\n",
    "#                 T.append('L')\n",
    "#             if b==2:\n",
    "#                 T.append('B')\n",
    "    s_list=[]\n",
    "    b_list=[]\n",
    "    l_list=[]\n",
    "    \n",
    "    for i in range(n):\n",
    "        s_cmp=0\n",
    "        b_cmp=0\n",
    "        l_cmp=0\n",
    "        for j in range(N):\n",
    "            \n",
    "            if ddf[(str(i))][(str(j))]=='S':\n",
    "                s_cmp+=1\n",
    "            if ddf[(str(i))][(str(j))]=='B':\n",
    "                b_cmp+=1\n",
    "            if ddf[(str(i))][(str(j))]=='L':\n",
    "                l_cmp+=1\n",
    "        s_list.append(s_cmp)\n",
    "        b_list.append(b_cmp)\n",
    "        l_list.append(l_cmp)\n",
    "    #print(\"s: \",s_list)\n",
    "    #print(\"b :\",b_list)\n",
    "    #print(\"l :\",l_list)\n",
    "    \n",
    "    for i in range(n):\n",
    "        TrajMoy[0][i]=s_list[i]/n\n",
    "        \n",
    "    for i in range(n):\n",
    "        TrajMoy[2][i]=b_list[i]/n\n",
    "        \n",
    "    for i in range(n):\n",
    "        TrajMoy[1][i]=l_list[i]/n\n",
    "        \n",
    "#     print(s_list)\n",
    "#     print(b_list)\n",
    "#     print(s_list)\n",
    "    \n",
    "    return TrajMoy\n",
    "TrajMoy=Trajectoire_moy(5, pi0_149, p_149, 7)\n",
    "print(TrajMoy)\n",
    "#Visualiser graphique des trajectoires.\n",
    "def plotTrajectory(t):\n",
    "    \"\"\"\n",
    "    Plot Trajectory\n",
    "    input1 t: trajectory\n",
    "    \"\"\"\n",
    "#     x=[]\n",
    "#     for i in range(len(t)):\n",
    "#         x.append(i)\n",
    "#     graph = plt.plot(x,  t,  label = \" Dotplot\", linestyle = 'dotted')\n",
    "    long, larg = t.shape\n",
    "    axe_des_x = list(np.arange(1,larg+1))\n",
    "    print(\"axe_des_x\", axe_des_x)\n",
    "    \n",
    "    graph = plt.plot(axe_des_x,  np.transpose(t),  label = \" Dotplot\", linestyle = 'dotted')\n",
    "    "
   ]
  },
  {
   "cell_type": "code",
   "execution_count": 79,
   "metadata": {},
   "outputs": [
    {
     "name": "stdout",
     "output_type": "stream",
     "text": [
      "[['S', 'B', 'L', 'S', 'B'], ['B', 'B', 'B', 'L', 'S'], ['B', 'B', 'B', 'B', 'L'], ['S', 'B', 'S', 'L', 'B'], ['B', 'L', 'B', 'L', 'S'], ['B', 'S', 'L', 'L', 'B'], ['L', 'L', 'S', 'L', 'B']]\n"
     ]
    },
    {
     "data": {
      "text/html": [
       "<div>\n",
       "<style scoped>\n",
       "    .dataframe tbody tr th:only-of-type {\n",
       "        vertical-align: middle;\n",
       "    }\n",
       "\n",
       "    .dataframe tbody tr th {\n",
       "        vertical-align: top;\n",
       "    }\n",
       "\n",
       "    .dataframe thead th {\n",
       "        text-align: right;\n",
       "    }\n",
       "</style>\n",
       "<table border=\"1\" class=\"dataframe\">\n",
       "  <thead>\n",
       "    <tr style=\"text-align: right;\">\n",
       "      <th></th>\n",
       "      <th>1</th>\n",
       "      <th>2</th>\n",
       "      <th>3</th>\n",
       "      <th>4</th>\n",
       "      <th>5</th>\n",
       "    </tr>\n",
       "  </thead>\n",
       "  <tbody>\n",
       "    <tr>\n",
       "      <th>1</th>\n",
       "      <td>S</td>\n",
       "      <td>B</td>\n",
       "      <td>L</td>\n",
       "      <td>S</td>\n",
       "      <td>B</td>\n",
       "    </tr>\n",
       "    <tr>\n",
       "      <th>2</th>\n",
       "      <td>B</td>\n",
       "      <td>B</td>\n",
       "      <td>B</td>\n",
       "      <td>L</td>\n",
       "      <td>S</td>\n",
       "    </tr>\n",
       "    <tr>\n",
       "      <th>3</th>\n",
       "      <td>B</td>\n",
       "      <td>B</td>\n",
       "      <td>B</td>\n",
       "      <td>B</td>\n",
       "      <td>L</td>\n",
       "    </tr>\n",
       "    <tr>\n",
       "      <th>4</th>\n",
       "      <td>S</td>\n",
       "      <td>B</td>\n",
       "      <td>S</td>\n",
       "      <td>L</td>\n",
       "      <td>B</td>\n",
       "    </tr>\n",
       "    <tr>\n",
       "      <th>5</th>\n",
       "      <td>B</td>\n",
       "      <td>L</td>\n",
       "      <td>B</td>\n",
       "      <td>L</td>\n",
       "      <td>S</td>\n",
       "    </tr>\n",
       "    <tr>\n",
       "      <th>6</th>\n",
       "      <td>B</td>\n",
       "      <td>S</td>\n",
       "      <td>L</td>\n",
       "      <td>L</td>\n",
       "      <td>B</td>\n",
       "    </tr>\n",
       "    <tr>\n",
       "      <th>7</th>\n",
       "      <td>L</td>\n",
       "      <td>L</td>\n",
       "      <td>S</td>\n",
       "      <td>L</td>\n",
       "      <td>B</td>\n",
       "    </tr>\n",
       "  </tbody>\n",
       "</table>\n",
       "</div>"
      ],
      "text/plain": [
       "   1  2  3  4  5\n",
       "1  S  B  L  S  B\n",
       "2  B  B  B  L  S\n",
       "3  B  B  B  B  L\n",
       "4  S  B  S  L  B\n",
       "5  B  L  B  L  S\n",
       "6  B  S  L  L  B\n",
       "7  L  L  S  L  B"
      ]
     },
     "execution_count": 79,
     "metadata": {},
     "output_type": "execute_result"
    }
   ],
   "source": [
    "TrajP=Trajectoire_P(5,pi0_149, p_149, 7)  \n",
    "print(TrajP)\n",
    "l_index=[]\n",
    "l_columns=[]\n",
    "for i in range(7):\n",
    "    l_index.append(str(i+1))\n",
    "for j in range(5):\n",
    "    l_columns.append(str(j+1))\n",
    "pd.DataFrame(TrajP,index=l_index,columns=l_columns)\n",
    "\n"
   ]
  },
  {
   "cell_type": "code",
   "execution_count": 80,
   "metadata": {
    "scrolled": true
   },
   "outputs": [
    {
     "name": "stdout",
     "output_type": "stream",
     "text": [
      "[[0. 0. 0. 0. 0.]\n",
      " [0. 0. 0. 0. 0.]\n",
      " [0. 0. 0. 0. 0.]]\n",
      "1    B\n",
      "2    B\n",
      "3    B\n",
      "4    B\n",
      "5    L\n",
      "6    S\n",
      "7    L\n",
      "Name: 2, dtype: object\n"
     ]
    }
   ],
   "source": [
    "TrajMoy = np.zeros((3,5))\n",
    "print(TrajMoy)\n",
    "ddf=pd.DataFrame(TrajP,index=l_index,columns=l_columns)\n",
    "print(ddf['2'])"
   ]
  },
  {
   "cell_type": "code",
   "execution_count": 81,
   "metadata": {
    "id": "ywau1ttsz1JT",
    "outputId": "788ac3db-5d96-4fab-f4f4-5f90986eeabb",
    "scrolled": true
   },
   "outputs": [
    {
     "name": "stdout",
     "output_type": "stream",
     "text": [
      "axe_des_x [1, 2, 3, 4, 5, 6, 7, 8, 9, 10, 11, 12, 13, 14, 15, 16, 17, 18, 19, 20]\n"
     ]
    },
    {
     "data": {
      "image/png": "[encoded data removed]",
      "text/plain": [
       "<Figure size 640x480 with 1 Axes>"
      ]
     },
     "metadata": {},
     "output_type": "display_data"
    }
   ],
   "source": [
    "plotTrajectory(Trajectoire_moy(20, pi0_149, p_149, 10))\n",
    "#plotTrajectory(Trajectoire_moy(5, pi0_149, p_149, 7))"
   ]
  },
  {
   "cell_type": "code",
   "execution_count": 82,
   "metadata": {},
   "outputs": [
    {
     "name": "stdout",
     "output_type": "stream",
     "text": [
      "0.039\n",
      "(array([0], dtype=int64),)\n",
      "a avant la boucle =   0\n",
      "0.039\n",
      "(array([0], dtype=int64),)\n",
      "a avant la boucle =   0\n",
      "0.928\n",
      "(array([2], dtype=int64),)\n",
      "a avant la boucle =   2\n",
      "0.033\n",
      "(array([1], dtype=int64),)\n",
      "a avant la boucle =   1\n",
      "0.039\n",
      "(array([0], dtype=int64),)\n",
      "a avant la boucle =   0\n",
      "0.039\n",
      "(array([0], dtype=int64),)\n",
      "a avant la boucle =   0\n",
      "0.033\n",
      "(array([1], dtype=int64),)\n",
      "a avant la boucle =   1\n",
      "0.033\n",
      "(array([1], dtype=int64),)\n",
      "a avant la boucle =   1\n",
      "0.928\n",
      "(array([2], dtype=int64),)\n",
      "a avant la boucle =   2\n",
      "0.928\n",
      "(array([2], dtype=int64),)\n",
      "a avant la boucle =   2\n",
      "0.039\n",
      "(array([0], dtype=int64),)\n",
      "a avant la boucle =   0\n",
      "0.039\n",
      "(array([0], dtype=int64),)\n",
      "a avant la boucle =   0\n",
      "0.928\n",
      "(array([2], dtype=int64),)\n",
      "a avant la boucle =   2\n",
      "0.928\n",
      "(array([2], dtype=int64),)\n",
      "a avant la boucle =   2\n",
      "0.928\n",
      "(array([2], dtype=int64),)\n",
      "a avant la boucle =   2\n",
      "0.033\n",
      "(array([1], dtype=int64),)\n",
      "a avant la boucle =   1\n",
      "0.033\n",
      "(array([1], dtype=int64),)\n",
      "a avant la boucle =   1\n",
      "0.033\n",
      "(array([1], dtype=int64),)\n",
      "a avant la boucle =   1\n",
      "0.033\n",
      "(array([1], dtype=int64),)\n",
      "a avant la boucle =   1\n",
      "0.039\n",
      "(array([0], dtype=int64),)\n",
      "a avant la boucle =   0\n"
     ]
    }
   ],
   "source": [
    "for j in range(20):\n",
    "        T=[]\n",
    "        res=float(rng.choice(pi0_149,1))\n",
    "        print(res)\n",
    "        t=np.where(pi0_149 == res)\n",
    "        print(t)\n",
    "        a=int(t[0])\n",
    "        print(\"a avant la boucle =  \",a)"
   ]
  },
  {
   "cell_type": "markdown",
   "metadata": {
    "id": "v6J7JbvWz1JT"
   },
   "source": [
    "<b> Exercice 6 </b>: \n",
    "Ecrire une fonction pour calculer la probabilité d'une trajectoire\n",
    "$(x_t)_{t=0:n}$. Pour y facilite vous devez applique le log et utlise la some au\n",
    "lieu du product.  Ensuite vouz devez comparer les probabilités de \n",
    "deux chaiines de Markov $P_{149}$ et $P_{159}$. Visualiser les histogrammes pour les deux populations de taille $N=10000$ (géenérées avec $P_{149}$ et $P_{159}$). Est-ce que vous observez des différences entre les deux modèles? Comment est-ce que vous expliquer cettes différences?"
   ]
  },
  {
   "cell_type": "code",
   "execution_count": 83,
   "metadata": {},
   "outputs": [
    {
     "name": "stdout",
     "output_type": "stream",
     "text": [
      "[[0.61       0.3        0.09      ]\n",
      " [0.01       0.99       0.        ]\n",
      " [0.01010101 0.08080808 0.90909091]]\n"
     ]
    },
    {
     "data": {
      "text/html": [
       "<div>\n",
       "<style scoped>\n",
       "    .dataframe tbody tr th:only-of-type {\n",
       "        vertical-align: middle;\n",
       "    }\n",
       "\n",
       "    .dataframe tbody tr th {\n",
       "        vertical-align: top;\n",
       "    }\n",
       "\n",
       "    .dataframe thead th {\n",
       "        text-align: right;\n",
       "    }\n",
       "</style>\n",
       "<table border=\"1\" class=\"dataframe\">\n",
       "  <thead>\n",
       "    <tr style=\"text-align: right;\">\n",
       "      <th></th>\n",
       "      <th>S</th>\n",
       "      <th>L</th>\n",
       "      <th>B</th>\n",
       "    </tr>\n",
       "  </thead>\n",
       "  <tbody>\n",
       "    <tr>\n",
       "      <th>S</th>\n",
       "      <td>0.610000</td>\n",
       "      <td>0.300000</td>\n",
       "      <td>0.090000</td>\n",
       "    </tr>\n",
       "    <tr>\n",
       "      <th>L</th>\n",
       "      <td>0.010000</td>\n",
       "      <td>0.990000</td>\n",
       "      <td>0.000000</td>\n",
       "    </tr>\n",
       "    <tr>\n",
       "      <th>B</th>\n",
       "      <td>0.010101</td>\n",
       "      <td>0.080808</td>\n",
       "      <td>0.909091</td>\n",
       "    </tr>\n",
       "  </tbody>\n",
       "</table>\n",
       "</div>"
      ],
      "text/plain": [
       "          S         L         B\n",
       "S  0.610000  0.300000  0.090000\n",
       "L  0.010000  0.990000  0.000000\n",
       "B  0.010101  0.080808  0.909091"
      ]
     },
     "execution_count": 83,
     "metadata": {},
     "output_type": "execute_result"
    }
   ],
   "source": [
    "print(p_149)\n",
    "li=[\"S\",\"L\",\"B\"]\n",
    "lc=[\"S\",\"L\",\"B\"]\n",
    "pd.DataFrame(p_149,index=li,columns=lc)"
   ]
  },
  {
   "cell_type": "code",
   "execution_count": 84,
   "metadata": {
    "scrolled": true
   },
   "outputs": [
    {
     "name": "stdout",
     "output_type": "stream",
     "text": [
      "['B', 'S', 'L', 'S', 'S']\n",
      "0.007967033100000001\n",
      "ll -4.832443113954658\n"
     ]
    }
   ],
   "source": [
    "Traj=Trajectoire (5, pi0_149, p_149)\n",
    "print(Traj)\n",
    "#             if b==0:\n",
    "#                 T.append('S')\n",
    "#             if b==1:\n",
    "#                 T.append('L')\n",
    "#             if b==2:\n",
    "#                 T.append('B')\n",
    "for t in Traj:\n",
    "    if t=='S':\n",
    "        ind=0\n",
    "    if t=='L':\n",
    "        ind=1\n",
    "    if t=='B':\n",
    "        ind=2\n",
    "        \n",
    "res=pi0_149[ind]\n",
    "ll=np.log(res)\n",
    "li=[\"S\",\"L\",\"B\"]\n",
    "lc=[\"S\",\"L\",\"B\"]\n",
    "ddf=pd.DataFrame(p_149,index=li,columns=lc)\n",
    "\n",
    "\n",
    "for i in range(len(Traj)):\n",
    "    res=res*ddf[(Traj[i])][(Traj[i])]\n",
    "    ll+=np.log(ddf[(Traj[i])][(Traj[i])])\n",
    "print(res)\n",
    "print(\"ll\",ll)"
   ]
  },
  {
   "cell_type": "code",
   "execution_count": 85,
   "metadata": {
    "id": "tYRRFv2cz1JT",
    "outputId": "d5393941-1aad-4fca-c0b1-ed17bf1da50a"
   },
   "outputs": [
    {
     "data": {
      "image/png": "[encoded data removed]",
      "text/plain": [
       "<Figure size 640x480 with 1 Axes>"
      ]
     },
     "metadata": {},
     "output_type": "display_data"
    }
   ],
   "source": [
    "#Calculer la probabilité d’une trajectoire (xt)t=0:n\n",
    "def Pb_Trajectoire(Traj, Pi_0, P): \n",
    "    \"\"\"\n",
    "    Compute the probability of a trajectory\n",
    "    input1 Traj: a trajectory\n",
    "    input2 Pi_0: initial condition\n",
    "    input3 P: transtion matrix\n",
    "    output Proba: ptobability\n",
    "    \"\"\"\n",
    "    for t in Traj:\n",
    "        if t=='S':\n",
    "            ind=0\n",
    "        if t=='L':\n",
    "            ind=1\n",
    "        if t=='B':\n",
    "            ind=2\n",
    "        \n",
    "    res=Pi_0[ind]\n",
    "    Proba=np.log(res)\n",
    "    li=[\"S\",\"L\",\"B\"]\n",
    "    lc=[\"S\",\"L\",\"B\"]\n",
    "    ddf=pd.DataFrame(P,index=li,columns=lc)\n",
    "\n",
    "\n",
    "    for i in range(len(Traj)):\n",
    "        res=res*ddf[(Traj[i])][(Traj[i])]\n",
    "        Proba+=np.log(ddf[(Traj[i])][(Traj[i])])\n",
    "    #print(res)\n",
    "    \n",
    "\n",
    "    return Proba\n",
    "\n",
    "\n",
    "def Histo (Trajs, Pi_0, P):\n",
    "    \"\"\"\n",
    "    compute a histogramm of Trajectory probabilities\n",
    "    input1 Trajs: a trajectory population\n",
    "    input2 Pi_0: initial condition\n",
    "    input3 P: transtion matrix  \n",
    "    output pop: a list of probabilities\n",
    "    \"\"\"\n",
    "\n",
    "    pop = []\n",
    "    \n",
    "    for Traj in Trajs:\n",
    "        for t in Traj:\n",
    "            if t=='S':\n",
    "                ind=0\n",
    "            if t=='L':\n",
    "                ind=1\n",
    "            if t=='B':\n",
    "                ind=2\n",
    "\n",
    "    \n",
    "        res=Pi_0[ind]\n",
    "        Proba=np.log(res)\n",
    "        li=[\"S\",\"L\",\"B\"]\n",
    "        lc=[\"S\",\"L\",\"B\"]\n",
    "        ddf=pd.DataFrame(P,index=li,columns=lc)\n",
    "\n",
    "\n",
    "        for i in range(len(Traj)):\n",
    "            res=res*ddf[(Traj[i])][(Traj[i])]\n",
    "            Proba+=np.log(ddf[(Traj[i])][(Traj[i])])\n",
    "        #print(res)\n",
    "        pop.append(Proba)\n",
    "    \n",
    "    return pop\n",
    "\n",
    "def plotHist(Histo149, Histo159):\n",
    "    \"\"\"\n",
    "    Plot two probabilities histogram\n",
    "    input1 Histo149: a list of probabilities for P149\n",
    "    input1 Histo159: a list of probabilities for P159\n",
    "    \"\"\"\n",
    "    n_149=len(Histo149)\n",
    "    n_159=len(Histo159)\n",
    "    plt.hist(Histo149,n_149, color = 'green')\n",
    "    plt.hist(Histo159,n_159, color = 'blue')\n",
    "    plt.show()\n",
    "   \n",
    "#-------------------------------------------------------------\n",
    "plotHist(Histo(Trajectoire_P(20, pi0_149, p_149, 10000),pi0_149, p_149), Histo(Trajectoire_P(20, pi0_159, p_159, 10000),pi0_159, p_159))\n"
   ]
  },
  {
   "cell_type": "markdown",
   "metadata": {
    "id": "ZsmgfCRPz1JU"
   },
   "source": []
  }
 ],
 "metadata": {
  "colab": {
   "collapsed_sections": [],
   "name": "TME4_corrige.ipynb",
   "provenance": []
  },
  "kernelspec": {
   "display_name": "Python 3 (ipykernel)",
   "language": "python",
   "name": "python3"
  },
  "language_info": {
   "codemirror_mode": {
    "name": "ipython",
    "version": 3
   },
   "file_extension": ".py",
   "mimetype": "text/x-python",
   "name": "python",
   "nbconvert_exporter": "python",
   "pygments_lexer": "ipython3",
   "version": "3.10.6"
  }
 },
 "nbformat": 4,
 "nbformat_minor": 1
}
