{
 "cells": [
  {
   "cell_type": "markdown",
   "metadata": {
    "id": "7Z01TTBN8dMn"
   },
   "source": [
    "<h1><b>Statistique en Bioinformatique : </b> TME3 </h1>\n",
    "<br>\n",
    "L’objectif de ce TME est: \n",
    "<br>\n",
    "<ul>\n",
    "<li> objectif 1: comprendre les principaux etaphes de BLAST et PSIBLAST, </li>\n",
    "<li> objectif 2: comprendre et comparer les algoritime de l'alignement progressive </li>\n",
    "</ul>\n",
    "<br>\n",
    "<div class=\"alert alert-warning\" role=\"alert\" style=\"margin: 10px\">\n",
    "<p><b>Soumission</b></p>\n",
    "<ul>\n",
    "<li>Renomer le fichier TME3.ipynb pour NomEtudiant1_NomEtudiant2.ipynb </li>\n",
    "<li>Soumettre sur moodle </li>\n",
    "</ul>\n",
    "</div>\n"
   ]
  },
  {
   "cell_type": "markdown",
   "metadata": {
    "id": "Ex2vcDtH8dMs"
   },
   "source": [
    "Nom etudiant 1 : Anastasia AZMOUDEH\n",
    "<br>\n",
    "Nom etudiant 2 : Késia DETHELOT-DELAG\n",
    "<br>"
   ]
  },
  {
   "cell_type": "markdown",
   "metadata": {
    "id": "tG0LfDfK8dMt"
   },
   "source": [
    "<h3>Section 1: BLAST</h3>\n",
    "\n",
    "<b> Exercice 1 </b>: À partir de l'application BLAST, disponible via le site de <a href=\"http://blast.ncbi.nlm.nih.gov/\">NCBI</a>, cliquez sur protein Blast. Faites un BLAST de la séquence fasta/seq1.fasta. Expliquez le résultat graphique, la couleur de chaque hit et expliquez le tableau de résultat qu'est-ce que c'est chaque colonne?\n",
    "<br>\n"
   ]
  },
  {
   "cell_type": "markdown",
   "metadata": {
    "id": "1BEcym0S8dMu"
   },
   "source": [
    "<font color=\"red\"> Réponse : </font>\n",
    "<font color=\"blue\"> <br>\n",
    "Le site BLAST compare notre séquence d'interêt avec la base de données du site. Le résultats montrent les homologies entre notre séquence \"query\" et 100 autres séquences. <br>\n",
    "Graphiquement, nous observons environ 50 reads rouges synonymes d'une forte homologie avec un score d'alignement supérieur à de 200. Puis nous notons des reads roses qui indiquent un score d'alignement compris en 80 et 100. Enfin, les reads verts témoignent d'un score de 50 à 80. Le tableau résume les résultats graphiques. <br><br>\n",
    "La colonne \"Description\" donne la liste des séquences conteant la séquence \"query\".<br><br>\n",
    "La colonne \"Scienfique Name\" est le nom sceintifique de l'espèce dont provient  la séquence homologue à la séquence \"query\". <br><br>\n",
    "La colonne \"Max score\" est la score maximal obtenue avec cette séquence. <br><br>\n",
    "La colonne \"Total score\" indique le score d'alignement. Il est calculé à partir de la matrice de similarité BLOSUM62. <br><br>\n",
    "La colone \"Query cover\"  est le porucentage de la séquence homologue qui d'alignent avec al séquence \"query\". <br><br>\n",
    "La colonne \"E-value\"représnete le nombre de résulatts qu'on aurait pu obtenir au hasard. Plus la e-value est fiable plus le résulatat du BLAST est fiable. <br><br>\n",
    "La colonne \"Per Ident\" est le pourcenatge d'identité avec la séquence \"query\".<br><br>\n",
    "La colonne \"Acc. Len\" est la longueur du hit.  <br><br> \n",
    "La colonne \"Accession\" est un lien vers la fiche d'information de la séquence homologue. \n",
    "</font>"
   ]
  },
  {
   "cell_type": "markdown",
   "metadata": {
    "id": "gVzhpUTg8dMv"
   },
   "source": [
    "<b>Exercice 2</b>: On s'intéresse à présent au gène FHIT chez l'homme (fragile histidine triad protein, identifiant P49789, télécharger du site  <a href=\"http://www.uniprot.org/\"> Uniprot </a>). La protéine de ce gène est structurellement proche des galactose-1-phosphate uridylyltransferases. Faites un BLAST de ce gène contre la base SWISSPROT. Que constatez-vous?"
   ]
  },
  {
   "cell_type": "markdown",
   "metadata": {
    "id": "YKNazevu8dMw"
   },
   "source": [
    "<font color=\"red\"> Réponse : </font>\n",
    "<font color=\"blue\">\n",
    "On constate que la protéine gène FHIT humain a une forte homologie avec la protéine Bis(5'-adénosyl)triphosphate de l'Homme, la souris, le rat et le boeuf. <br>\n",
    "De plus, dans ce BLAST, graphiquement, en plus des hits rouges, roses et verts, on relève des hits bleus ( avec un score d'alignement entre 40 et 50) et des hits noirs (scores d'alignement inférieur à 40). Aussi, nous n'avons que très peu de résultats, 24, contre 100 pour la séquence de la question précédente. <br>\n",
    "\n",
    "</font>"
   ]
  },
  {
   "cell_type": "markdown",
   "metadata": {
    "id": "ifCzIqX48dMw"
   },
   "source": [
    "<b>Exercice 3</b>: Implémenter l'étape 0 du algorithme BLAST (indexer la base de données), utilise w=5 et les séquences du fichier database.fasta."
   ]
  },
  {
   "cell_type": "code",
   "execution_count": 1,
   "metadata": {
    "executionInfo": {
     "elapsed": 11,
     "status": "ok",
     "timestamp": 1644503390444,
     "user": {
      "displayName": "Juliana Bernardes",
      "photoUrl": "https://lh3.googleusercontent.com/a-/AOh14GjmXQB4bG0DHp8uDHafZCQn94Atlo0kH-t-DxF8-w=s64",
      "userId": "00263393379349185862"
     },
     "user_tz": -60
    },
    "id": "-Xi2cRky8dMy"
   },
   "outputs": [],
   "source": [
    "import numpy as np\n",
    "from itertools import combinations, combinations_with_replacement\n",
    "from collections import Counter\n",
    "from io import StringIO \n",
    "import sys\n",
    "import pandas as pd\n",
    "    \n",
    "    \n",
    "#variable initiation\n",
    "database = 'fasta/database.fasta'\n",
    "seqTestBlast = 'fasta/test.fasta'\n",
    "input_blosum_f = 'BLOSUM62.txt'\n",
    "#aa = ['A', 'R', 'N', 'D', 'C', 'Q', 'E', 'G', 'H', 'I', 'L', 'K', 'M', 'F', 'P', 'S', 'T', 'W', 'Y', 'V', 'X']\n",
    "aa2 = ['A', 'R', 'N', 'D', 'C', 'Q', 'E', 'G', 'H', 'I', 'L', 'K', 'M', 'F', 'P', 'S', 'T', 'W', 'Y', 'V']\n",
    "#parameters\n",
    "q = 21\n",
    "q2=20\n",
    "gap = -5\n",
    "w = 5\n",
    "\n",
    "\n",
    "#For a simple test use:\n",
    "databaseToy = 'fastaToy/databaseToy.fasta'\n",
    "seqTestBlastToy = 'fastaToy/testToy.fasta'\n",
    "wToy=3\n",
    "\n",
    "\n"
   ]
  },
  {
   "cell_type": "code",
   "execution_count": 2,
   "metadata": {
    "scrolled": false
   },
   "outputs": [
    {
     "name": "stdout",
     "output_type": "stream",
     "text": [
      "indexToy \n",
      " {'agh': [('s1', 0)], 'ghr': [('s2', 2), ('s1', 1)], 'cgg': [('s3', 0), ('s2', 0)], 'ggh': [('s3', 1), ('s2', 1)], 'gha': [('s3', 2)]}\n",
      "\n",
      "dicoSeqToy\n",
      " {'s1': 'aghr', 's2': 'cgghr', 's3': 'cggha'}\n"
     ]
    }
   ],
   "source": [
    "\n",
    "def etape0(fileName, w):\n",
    "    \"\"\"\n",
    "    Database indexation\n",
    "    Input1 fileName: fasta file name\n",
    "    Input2 w:  word size\n",
    "    Output1 index: dictionary containing indexed words\n",
    "    Output2 dicoSeq: dictionary containing database entire sequences\n",
    "    \"\"\"\n",
    "    liste_index = []  # liste de tous les mots de longueurs w pour toutes les sequences\n",
    "    unique_liste_index = [] # liste de tous les UNIQUES mots de longueurs w pour toutes les sequences\n",
    "    index = {} \n",
    "    liste_dicoSeq_tag = [] # liste du nom des séquences\n",
    "    liste_dicoSeq_seq = [] # liste des sequences\n",
    "    dicoSeq={}\n",
    "    \n",
    "    \n",
    "    f = open(fileName, \"r\")\n",
    "    lines = f.readlines()\n",
    "    \n",
    "    \n",
    "    for line in lines: \n",
    "        if line[0]== \">\":\n",
    "            if line[-1] == '\\n':\n",
    "                liste_dicoSeq_tag.append(line[1:-1]) # nous permet de retenir toutes les seq, -1 pour ne pas compter le retour à la ligne\n",
    "            else: \n",
    "                liste_dicoSeq_tag.append(line[1:])\n",
    "            \n",
    "            \n",
    "        else :\n",
    "            if line[-1] == '\\n':\n",
    "                liste_dicoSeq_seq.append(line[:-1]) # nous permet de retenir toutes les seq, -1 pour ne pas compter le retour à la ligne\n",
    "            else: \n",
    "                liste_dicoSeq_seq.append(line)\n",
    "                \n",
    "#     print(\"liste_dicoSeq_tag = \",liste_dicoSeq_tag)\n",
    "#     print(\"liste_dicoSeq_seq = \",liste_dicoSeq_seq)\n",
    "    \n",
    "    for i in range(len(liste_dicoSeq_tag)):\n",
    "        dicoSeq[liste_dicoSeq_tag[i]] = liste_dicoSeq_seq[i]\n",
    "#     print ('dicoSeq =', dicoSeq)\n",
    "    \n",
    "    \n",
    "    for seq in liste_dicoSeq_seq: \n",
    "        for i in range(len(seq)-(w-1)): \n",
    "            liste_index.append(seq[i:(i+w)])\n",
    "#     print(\"liste_index ===>\", liste_index)\n",
    "    \n",
    "    \n",
    "    for w in liste_index: \n",
    "            if w not in unique_liste_index: \n",
    "                unique_liste_index.append(w)\n",
    "#     print(\"unique_liste_index = \",unique_liste_index)\n",
    "    \n",
    "\n",
    "\n",
    "    for seq_w in unique_liste_index:\n",
    "        indice = len(liste_dicoSeq_seq) -1\n",
    "        \n",
    "        \n",
    "        while indice >= 0:\n",
    "            if seq_w in liste_dicoSeq_seq[indice]: \n",
    "                tag = liste_dicoSeq_seq.index(liste_dicoSeq_seq[indice])\n",
    "                etiquette = liste_dicoSeq_tag[tag]\n",
    "                rang = (liste_dicoSeq_seq[indice]).find(seq_w)\n",
    "                \n",
    "                if seq_w not in index: \n",
    "                    index[seq_w] = [(etiquette, rang)] \n",
    "                else:                \n",
    "                    index[seq_w].append((etiquette, rang)) \n",
    "                    \n",
    "            indice -= 1\n",
    "#         print(index)\n",
    "            \n",
    "    \n",
    "    return index,dicoSeq\n",
    "\n",
    "indexToy,dicoSeqToy = etape0(databaseToy, wToy)\n",
    "print (\"indexToy \\n\",indexToy)\n",
    "print (\"\\ndicoSeqToy\\n\",dicoSeqToy)\n",
    "#{'AGH': [('s1', 0)], 'CGG': [('s3', 0)], 'GGH': [('s2', 1)]} \n",
    "#{'s1': 'AGHR', 's2': 'CGGHR', 's3': 'CGGH'}"
   ]
  },
  {
   "cell_type": "markdown",
   "metadata": {
    "id": "SQu6QVwU8dM3"
   },
   "source": [
    "<b>Exercice 4</b>: Chercher la séquence query test.fasta dans la base indexé construite précédemment, entendez l'alignement pour avoir un alignement sans gap et de score > 12. Retournez les quatre meilleurs alignements.\n"
   ]
  },
  {
   "cell_type": "code",
   "execution_count": 3,
   "metadata": {
    "id": "rr51wl3B8dM3",
    "outputId": "4268e82d-7152-4b5f-cfb1-fed90a5a9912",
    "scrolled": false
   },
   "outputs": [
    {
     "name": "stdout",
     "output_type": "stream",
     "text": [
      "{'AA': 4.0, 'AR': -1.0, 'AN': -2.0, 'AD': -2.0, 'AC': 0.0, 'AQ': -1.0, 'AE': -1.0, 'AG': 0.0, 'AH': -2.0, 'AI': -1.0, 'AL': -1.0, 'AK': -1.0, 'AM': -1.0, 'AF': -2.0, 'AP': -1.0, 'AS': 1.0, 'AT': 0.0, 'AW': -3.0, 'AY': -2.0, 'AV': 0.0, 'RR': 5.0, 'RN': 0.0, 'RD': -2.0, 'RC': -3.0, 'RQ': 1.0, 'RE': 0.0, 'RG': -2.0, 'RH': 0.0, 'RI': -3.0, 'RL': -2.0, 'RK': 2.0, 'RM': -1.0, 'RF': -3.0, 'RP': -2.0, 'RS': -1.0, 'RT': -1.0, 'RW': -3.0, 'RY': -2.0, 'RV': -3.0, 'NN': 6.0, 'ND': 1.0, 'NC': -3.0, 'NQ': 0.0, 'NE': 0.0, 'NG': 0.0, 'NH': 1.0, 'NI': -3.0, 'NL': -3.0, 'NK': 0.0, 'NM': -2.0, 'NF': -3.0, 'NP': -2.0, 'NS': 1.0, 'NT': 0.0, 'NW': -4.0, 'NY': -2.0, 'NV': -3.0, 'DD': 6.0, 'DC': -3.0, 'DQ': 0.0, 'DE': 2.0, 'DG': -1.0, 'DH': -1.0, 'DI': -3.0, 'DL': -4.0, 'DK': -1.0, 'DM': -3.0, 'DF': -3.0, 'DP': -1.0, 'DS': 0.0, 'DT': -1.0, 'DW': -4.0, 'DY': -3.0, 'DV': -3.0, 'CC': 9.0, 'CQ': -3.0, 'CE': -4.0, 'CG': -3.0, 'CH': -3.0, 'CI': -1.0, 'CL': -1.0, 'CK': -3.0, 'CM': -1.0, 'CF': -2.0, 'CP': -3.0, 'CS': -1.0, 'CT': -1.0, 'CW': -2.0, 'CY': -2.0, 'CV': -1.0, 'QQ': 5.0, 'QE': 2.0, 'QG': -2.0, 'QH': 0.0, 'QI': -3.0, 'QL': -2.0, 'QK': 1.0, 'QM': 0.0, 'QF': -3.0, 'QP': -1.0, 'QS': 0.0, 'QT': -1.0, 'QW': -2.0, 'QY': -1.0, 'QV': -2.0, 'EE': 5.0, 'EG': -2.0, 'EH': 0.0, 'EI': -3.0, 'EL': -3.0, 'EK': 1.0, 'EM': -2.0, 'EF': -3.0, 'EP': -1.0, 'ES': 0.0, 'ET': -1.0, 'EW': -3.0, 'EY': -2.0, 'EV': -2.0, 'GG': 6.0, 'GH': -2.0, 'GI': -4.0, 'GL': -4.0, 'GK': -2.0, 'GM': -3.0, 'GF': -3.0, 'GP': -2.0, 'GS': 0.0, 'GT': -2.0, 'GW': -2.0, 'GY': -3.0, 'GV': -3.0, 'HH': 8.0, 'HI': -3.0, 'HL': -3.0, 'HK': -1.0, 'HM': -2.0, 'HF': -1.0, 'HP': -2.0, 'HS': -1.0, 'HT': -2.0, 'HW': -2.0, 'HY': 2.0, 'HV': -3.0, 'II': 4.0, 'IL': 2.0, 'IK': -3.0, 'IM': 1.0, 'IF': 0.0, 'IP': -3.0, 'IS': -2.0, 'IT': -1.0, 'IW': -3.0, 'IY': -1.0, 'IV': 3.0, 'LL': 4.0, 'LK': -2.0, 'LM': 2.0, 'LF': 0.0, 'LP': -3.0, 'LS': -2.0, 'LT': -1.0, 'LW': -2.0, 'LY': -1.0, 'LV': 1.0, 'KK': 5.0, 'KM': -1.0, 'KF': -3.0, 'KP': -1.0, 'KS': 0.0, 'KT': -1.0, 'KW': -3.0, 'KY': -2.0, 'KV': -2.0, 'MM': 5.0, 'MF': 0.0, 'MP': -2.0, 'MS': -1.0, 'MT': -1.0, 'MW': -1.0, 'MY': -1.0, 'MV': 1.0, 'FF': 6.0, 'FP': -4.0, 'FS': -2.0, 'FT': -2.0, 'FW': 1.0, 'FY': 3.0, 'FV': -1.0, 'PP': 7.0, 'PS': -1.0, 'PT': -1.0, 'PW': -4.0, 'PY': -3.0, 'PV': -2.0, 'SS': 4.0, 'ST': 1.0, 'SW': -3.0, 'SY': -2.0, 'SV': -2.0, 'TT': 5.0, 'TW': -2.0, 'TY': -2.0, 'TV': 0.0, 'WW': 11.0, 'WY': 2.0, 'WV': -3.0, 'YY': 7.0, 'YV': -1.0, 'VV': 0.0}\n",
      "4.0\n"
     ]
    }
   ],
   "source": [
    "#read Blosum\n",
    "\n",
    "def readBlosum(nameFile):\n",
    "    \"\"\"\n",
    "    Read substitution matrix file  \n",
    "    Input1 fileName : blosum file name\n",
    "    Output1 Blosum: a dictionary containing BLOSUM matrix, key is a pair of amino acids (alphabetic order) and value is the substitution value. \n",
    "    REMARK : You could eliminate the last four columns and last four rows of Blosum file\n",
    "    \"\"\"\n",
    "    Blosum={}\n",
    "    # print(aa2) # alphabet aa mais sans le 'X' --> longueur = q2\n",
    "    \n",
    "    # liste regroupant toutes les paires possibles avec l'alphabet \n",
    "    list_blosum=[x for x in combinations_with_replacement(aa2,2)]\n",
    "    llaa=[]\n",
    "    #print(list_blosum)\n",
    "    \n",
    "    # Création d'une matrice équivalente au fichier BLOSUM62.txt \n",
    "    # q2 la longueur aa2 soit de l'alphabet aa mais sans le 'X' \n",
    "    temp = np.zeros((q2,q2))\n",
    "    \n",
    "    # Initialisation d'un dictionnaire nommé blosum pour toutes les paires de l'alphabet \n",
    "    for paire in list_blosum:\n",
    "        AA1,AA2=paire\n",
    "        seq=AA1+AA2\n",
    "        llaa.append(seq)\n",
    "        Blosum[seq]=0\n",
    "    #print(Blosum)\n",
    "    #print(llaa)\n",
    "    \n",
    "    \n",
    "    i=0\n",
    "    l=[] # liste de listes. Chaque liste correspond à une ligne du fichier BLOSUM62.txt \n",
    "    with open(nameFile, 'r') as in_f:\n",
    "\n",
    "        lines=in_f.readlines()\n",
    "        for line in lines:\n",
    "            if line[0]==\"#\" or line[0]==\" \":\n",
    "            \n",
    "                continue\n",
    "            else:\n",
    "\n",
    "                if i<=q2:\n",
    "                    linesansespace=line.split()\n",
    "                    l.append(linesansespace)\n",
    "\n",
    "\n",
    "                    i+=1   \n",
    "    \n",
    "    #print(\"LISTE l \\n \", l)\n",
    "    \n",
    "    \n",
    "    # pour chaque lignes du fichier BLOSUM62.txt on supprime les lettres dans la liste l \n",
    "    for e in l:\n",
    "        for i in range(len(e)-1):\n",
    "            if e[i].isalpha():\n",
    "                del e[i]\n",
    "   \n",
    "    # on remplit la matrice de blosum temporaire \n",
    "    for i in range(0,q2):\n",
    "        for j in range(0,q2-1):\n",
    "            temp[i][j]=l[i][j]\n",
    "    #print(temp)\n",
    "    \n",
    "    \n",
    "    ddf=pd.DataFrame(temp,index=aa2,columns=aa2)\n",
    "    \n",
    "    # on remplit le dictionnaire Blosum\n",
    "    for paire in llaa:\n",
    "        Blosum[paire]=ddf[(paire[0])][(paire[1])]\n",
    "    \n",
    "    return Blosum\n",
    "\n",
    "blosum = readBlosum(input_blosum_f)\n",
    "\n",
    "print(blosum)\n",
    "print (blosum[\"AA\"])\n",
    "#4"
   ]
  },
  {
   "cell_type": "code",
   "execution_count": 4,
   "metadata": {
    "id": "m_0g7IwC8dM5",
    "outputId": "841de803-0930-4a35-f7de-8e2edd94c33c"
   },
   "outputs": [
    {
     "name": "stdout",
     "output_type": "stream",
     "text": [
      "dicoSeqToy['s2']= cgghr\n",
      "[17.0, 5, ('CGGHR', 'AGGHV')]\n"
     ]
    }
   ],
   "source": [
    "def extendAln(pos1, pos2, sequence1, sequence2, matriceBlosum, scoremotif, w, ThrScore):\n",
    "    \"\"\"\n",
    "    extend alignment left/right by keeping score above a threshold\n",
    "    Input1 pos1 : position in the first sequence (Subject)\n",
    "    Input2 pos2 : position in the second sequence (query)\n",
    "    Input3 sequence1 : first sequence (Subject)\n",
    "    Input4 sequence1 : second sequence (query)\n",
    "    Input5 matriceBlosum: a dictionary containing BLOSUM matrix\n",
    "    Input6 scoremotif: initial score \n",
    "    Input7 w: word size\n",
    "    Input8 ThrScore: threshold\n",
    "    Output 1 finalScore: final score\n",
    "    Output 2 algLength: alignment length\n",
    "    Output 3 alnSeqs: Tuple containing aligned sequences\n",
    "    \"\"\"\n",
    "    \n",
    "    finalScore= 0\n",
    "    algLength = 0\n",
    "    \n",
    "    alnSeqs = ()\n",
    "    \n",
    "    seqal1=\"\"\n",
    "    seqal2=\"\"\n",
    "    \n",
    "    p1=pos1-1\n",
    "    p2=pos2-1\n",
    "    \n",
    "    scoretmp=0\n",
    "    scoredr=0\n",
    "    scoreg=0\n",
    "    \n",
    "    sequence1=sequence1.upper()\n",
    "    sequence2=sequence2.upper()\n",
    "    \n",
    "    for i in range(p1,p1+w):\n",
    "        cle=sequence1[i]+sequence2[i]\n",
    "        if sequence1[i]==\"\" or sequence2[i]==\"\":\n",
    "            scoretmp+=0\n",
    "        if cle not in matriceBlosum:\n",
    "            cle=sequence2[i]+sequence1[i]\n",
    "        scoretmp+=matriceBlosum[cle]\n",
    "        seqal1+=sequence1[i]\n",
    "        seqal2+=sequence2[i]\n",
    "#     print(scoretmp)\n",
    "    \n",
    "    if(scoretmp < ThrScore):\n",
    "        print(\"\", end ='')\n",
    "    else:\n",
    "        for i in range(0,p1):\n",
    "            \n",
    "            cle=sequence1[i]+sequence2[i]\n",
    "            if cle not in matriceBlosum:\n",
    "                cle=sequence2[i]+sequence1[i]\n",
    "            if sequence1[i]==\"\" or sequence2[i]==\"\":\n",
    "                scoredr+=0   \n",
    "            \n",
    "            scoredr+=matriceBlosum[cle]\n",
    "            seqal1=sequence1[i]+seqal1\n",
    "            seqal2=sequence2[i]+seqal2\n",
    "            \n",
    "        \n",
    "        if len(sequence1)<len(sequence2):\n",
    "            lgmin=len(sequence1)\n",
    "        else:\n",
    "            lgmin=len(sequence2)\n",
    "        for i in range(p1+w,lgmin):\n",
    "            \n",
    "            cle=sequence1[i]+sequence2[i]\n",
    "\n",
    "            if cle not in matriceBlosum:\n",
    "                cle=sequence2[i]+sequence1[i]\n",
    "            \n",
    "            if sequence1[i]==\"\" or sequence2[i]==\"\":\n",
    "                scoreg+=0\n",
    "                \n",
    "                \n",
    "            scoreg+=matriceBlosum[cle]\n",
    "\n",
    "            seqal1+=sequence1[i]\n",
    "            seqal2+=sequence2[i]\n",
    "\n",
    "    finalScore=scoretmp+scoredr+scoreg\n",
    "    #if finalScore > ThrScore:\n",
    "        \n",
    "    algLength = len(seqal1)\n",
    "    \n",
    "    alnSeqs=(seqal1,seqal2)\n",
    "    return [finalScore, algLength, alnSeqs]\n",
    "    \n",
    "print(\"dicoSeqToy['s2']=\", dicoSeqToy['s2'])\n",
    "res=extendAln(2, 2, dicoSeqToy['s2'], 'AGGHV', blosum, 6, 1, 5)\n",
    "print (res)\n",
    "#[20, 4, ('CGGH', 'AGGH')]"
   ]
  },
  {
   "cell_type": "code",
   "execution_count": 5,
   "metadata": {
    "colab": {
     "base_uri": "https://localhost:8080/",
     "height": 220
    },
    "executionInfo": {
     "elapsed": 339,
     "status": "error",
     "timestamp": 1644503387931,
     "user": {
      "displayName": "Juliana Bernardes",
      "photoUrl": "https://lh3.googleusercontent.com/a-/AOh14GjmXQB4bG0DHp8uDHafZCQn94Atlo0kH-t-DxF8-w=s64",
      "userId": "00263393379349185862"
     },
     "user_tz": -60
    },
    "id": "ZMHK8wOQ8dM6",
    "outputId": "627d4556-625f-4730-d600-1caf58316468"
   },
   "outputs": [
    {
     "name": "stdout",
     "output_type": "stream",
     "text": [
      "[('GGH', 1, [('s3', 1), ('s2', 1)])]\n"
     ]
    }
   ],
   "source": [
    "\n",
    "def getWordsQuery(w, query, indexB):\n",
    "    \"\"\"\n",
    "    Loking for indexed words in the query \n",
    "    Input1 w: word size\n",
    "    Input2 query: sequence\n",
    "    Input3 indexB: indexed database\n",
    "    Output1 foundWords: Tuple containg found words, position in query, list of pairs (Subject id, Subject position)  \n",
    "    \"\"\"\n",
    "    foundWords=[]\n",
    "    \n",
    "    tmp_list=[]\n",
    "    for i in range(0,w):\n",
    "        #liste = ma_seq[i:]\n",
    "        liste = query[i:]\n",
    "        aa = liste[:w]\n",
    "        #print(\"aa = \",aa)\n",
    "        if(len(aa)!=w):\n",
    "            continue\n",
    "        else:\n",
    "                    \n",
    "            tmp_list.append(aa)\n",
    "#     print(tmp_list)\n",
    "    \n",
    "    for e in tmp_list:\n",
    "        \n",
    "        if(e.lower()) in indexB:\n",
    "            foundWords.append((e,query.find(e),indexB[e.lower()]))\n",
    "                \n",
    "        \n",
    "    return foundWords\n",
    "\n",
    "foundWords = getWordsQuery(wToy,  'AGGHV', indexToy)\n",
    "print (foundWords)\n",
    "#[('GGH', 1, [('s2', 1)])]\n"
   ]
  },
  {
   "cell_type": "code",
   "execution_count": 6,
   "metadata": {
    "id": "lHLmm7dT8dM6"
   },
   "outputs": [
    {
     "name": "stdout",
     "output_type": "stream",
     "text": [
      "('AGGHV', 'CGGHR', 'AGGHV', 'CGGHA')\n"
     ]
    }
   ],
   "source": [
    "#Implement BLAST algorithm\n",
    "\n",
    "def Blast(foundWords, indexedDB, Query, dicoSeq, T, w, matriceBlosum):\n",
    "    \"\"\"\n",
    "    input1 foundWords: Tuple containg found words, position in query, list of pairs (Subject id, Subject position\n",
    "    input2 indexedDB: indexed database\n",
    "    input3 query: query sequence\n",
    "    input4 dicoSeq: dictionary containing database sequences\n",
    "    input5 T: Threahold score\n",
    "    input6 w: word size\n",
    "    Input7 matriceBlosum: a dictionary containing BLOSUM matrix\n",
    "    output1 alignedSeq: Tuple of aligned sequences\n",
    "    \"\"\"\n",
    "    alignedSeq=()\n",
    "    alignedSeq_list=[]\n",
    "    res_list=[]\n",
    "    tmp_list=[]\n",
    "    \n",
    "    for i in range(0,w):\n",
    "        liste = Query[i:]\n",
    "        aa = liste[:w]\n",
    "        if(len(aa)!=w):\n",
    "            continue\n",
    "        else:\n",
    "                    \n",
    "            tmp_list.append(aa)\n",
    "    #print(tmp_list)\n",
    "    for e in foundWords:\n",
    "        mot,posmos,tupl_list=e\n",
    "        for a in tupl_list:\n",
    "            seq,posseq=a\n",
    "            for k in dicoSeq.keys():\n",
    "                for a in tmp_list:\n",
    "                    res=extendAln(posmos+1,int(posseq)+1 , Query, dicoSeq[k], matriceBlosum, 0, w, T)\n",
    "                    if res in res_list or res[0] < T:\n",
    "                        continue\n",
    "                    else:\n",
    "                        res_list.append(res)\n",
    "\n",
    "#     print(\"res_list = \",res_list)\n",
    "    for i in range(len(res_list)):\n",
    "        alignedSeq+=((res_list[i][2]))\n",
    "        alignedSeq_list.append(res_list[i][2])\n",
    "    return alignedSeq\n",
    "\n",
    "\n",
    "\n",
    "ThrScore=5\n",
    "alignedSeq = Blast(foundWords, indexToy, \"AGGHV\",dicoSeqToy, ThrScore, wToy, blosum)\n",
    "print(alignedSeq)\n"
   ]
  },
  {
   "cell_type": "markdown",
   "metadata": {
    "id": "3OMCr9hF8dM7"
   },
   "source": [
    "<h3>Section 2: PSI-BLAST</h3>\n",
    "On considère à nouveau le gène FHIT chez l'homme. \n",
    "<BR>\n",
    "<b> Exercice 1 </b>:\n",
    "Faites un PSI-BLAST de ce gène contre la base SWISS-PROT. Utilisez un seuil pour l’évalue de 1e-6.\n",
    "Que constatez-vous lors de la 1ère itération concernant les protéines de la famille des galactose-1-phosphate uridylyltransferases?\n"
   ]
  },
  {
   "cell_type": "markdown",
   "metadata": {
    "id": "UUQh0pFq8dM7"
   },
   "source": [
    "<font color=\"red\"> Réponse : </font>\n",
    "<font color=\"blue\"> <br>\n",
    "On remarque qu'on obtient les mêmes résultats qu'avec la méthode de BLAST. Cependant, on note une diminution de la longueur des séquences homologues et des scores max. Par ailleurs, le \"query cover\" et le pourcentage d'identité sont plus élévés avec la méthode de PSI-BLAST. Les résultats présentent 15 séquences, donc moins de séquneces d'homologie que la méthode de BLAST. \n",
    "</font>"
   ]
  },
  {
   "cell_type": "markdown",
   "metadata": {
    "id": "PsDnKVfO8dM8"
   },
   "source": [
    "<b> Exercice 2 </b>:\n",
    "Que constatez-vous lors de la 2eme itération? Lors de la 5eme itération?\n"
   ]
  },
  {
   "cell_type": "markdown",
   "metadata": {
    "id": "ZdBBLXJS8dM8"
   },
   "source": [
    "<font color=\"red\"> Réponse : </font>\n",
    "<font color=\"blue\"> <br>\n",
    "Pour la 2e iteration, on constate que 40 séquences ont été ajoutées. Les 15 séquences obtenues lors de la première itération ont servi à la construction de la matrice PSSM. La e-value diminue donc la précision augmente. <br><br>\n",
    "Lors de la 5e iteration, on observe que 2 séquence ont été ajoutées. \n",
    "</font>"
   ]
  },
  {
   "cell_type": "markdown",
   "metadata": {
    "id": "SotrA6LN8dM9"
   },
   "source": [
    "<b> Exercice 3 </b>:\n",
    "À partir de quelle itération peut-on considérer qu'il y a eu une convergence de l'algorithme PSI- BLAST? Pour quoi ?"
   ]
  },
  {
   "cell_type": "markdown",
   "metadata": {
    "id": "uZOYATPY8dM9"
   },
   "source": [
    "<font color=\"red\"> Réponse : </font>\n",
    "<font color=\"blue\"> <br>\n",
    "On peut considérer qu'il y une convergence de l'algorithme PSI-BLAST à la 5e itération car aucune nouvelle séquence ne peut être ajoutée à la 6e itération. \n",
    "</font>"
   ]
  },
  {
   "cell_type": "markdown",
   "metadata": {
    "id": "Vvb-m8I98dM9"
   },
   "source": [
    "<h3>Section 3: Alignement Multiple</h3>\n"
   ]
  },
  {
   "cell_type": "markdown",
   "metadata": {
    "id": "5AxT0eyh8dM9"
   },
   "source": [
    "<b> Exercice 1 </b>:\n",
    "Accédez à l'application <a href=\"http://www.ebi.ac.uk/Tools/msa/clustalo/\">Clustal omega</a> et copiez les 7 séquences du fichier 7sequences.fasta. Expliquez, dans quel ordre les séquences ont été alignées."
   ]
  },
  {
   "cell_type": "markdown",
   "metadata": {
    "id": "IzK6JV9C8dM-"
   },
   "source": [
    "<font color=\"red\"> Réponse : </font>\n",
    "<font color=\"blue\">\n",
    "Les séquences ont été alignées selon leur distance par rapport à un ancêtre commmun. \n",
    "</font>"
   ]
  },
  {
   "cell_type": "markdown",
   "metadata": {
    "id": "Ke1OysRg8dM-"
   },
   "source": [
    "<b> Exercice 2 </b>:\n",
    "Faite une fonction pour calculer le score d’un alignement multiple. Le score de chaque position est la somme des tous les scores obtenus par BLOSUM62, et le score final est la somme des scores de chaque position divisée par la taille du alignement."
   ]
  },
  {
   "cell_type": "code",
   "execution_count": 7,
   "metadata": {
    "id": "ES1Xz1IK8dM_"
   },
   "outputs": [],
   "source": [
    "# #Read multi fasta\n",
    "# def extraireAllFastaMulti(fileName):  \n",
    "#     \"\"\"\n",
    "#     Read a FASTA file with several sequences\n",
    "#     input1 fileName: file name\n",
    "#     output1 IdSeq: list of sequences IDs\n",
    "#     output2 Seqs: sequences    \n",
    "#     \"\"\" \n",
    "#     Seqs=[]\n",
    "#     IdSeq=[]\n",
    "#     dicoSeq={}\n",
    "#     seq=\"\"\n",
    "#     listeseq=[]\n",
    "#     lkey=[]\n",
    "#     with open(fileName, 'r') as f:\n",
    "#         lines=f.readlines()\n",
    "#         for line in lines:\n",
    "            \n",
    "#             if line[0]=='>':\n",
    "#                 lkey.append(line[1:-1])\n",
    "                \n",
    "#             else:\n",
    "#                 if line[-1] == '\\n':\n",
    "#                     listeseq.append(line[:-1])                 \n",
    "#                 else: \n",
    "#                     listeseq.append(line)\n",
    "\n",
    "#         for i in range(len(lkey)):\n",
    "#             dicoSeq[lkey[i]]=listeseq[i]\n",
    "\n",
    "    \n",
    "#     IdSeq = lkey\n",
    "#     Seqs = listeseq\n",
    "    \n",
    "#     return IdSeq, Seqs\n",
    "\n",
    "# IdSeq,Seqs=extraireAllFastaMulti(\"fasta/algnMult.fasta\")\n",
    "# print(\"IdSeq\\n\",IdSeq,\"\\n\\nSeqs\\n\", Seqs)"
   ]
  },
  {
   "cell_type": "code",
   "execution_count": 35,
   "metadata": {},
   "outputs": [
    {
     "name": "stdout",
     "output_type": "stream",
     "text": [
      "IdSeq\n",
      " [] \n",
      "\n",
      "Seqs\n",
      " ['GARFIELDTHELASTFATCAT', 'GARFIELDTHEFASTCAT', 'GARFIELDTHEVERYFASTCAT', 'THEFATCAT']\n"
     ]
    }
   ],
   "source": [
    "def extraireAllFastaMulti(fileName):  \n",
    "    \"\"\"\n",
    "    Read a FASTA file with several sequences\n",
    "    input1 fileName: file name\n",
    "    output1 IdSeq: list of sequences IDs\n",
    "    output2 Seqs: sequences    \n",
    "    \"\"\" \n",
    "    Seqs=[]\n",
    "    IdSeq=[]\n",
    "    chevron = []\n",
    "    liste_seq=[]\n",
    "    lkey=[]\n",
    "    tmp=[]\n",
    "\n",
    "    with open(fileName, 'r') as f:\n",
    "        lines = f.readlines()\n",
    "        \n",
    "        \n",
    "    for i in range (len(lines)):\n",
    "        if lines[i][0]=='>':\n",
    "            chevron.append(i)\n",
    "            if lines[i][-1] == '\\n': \n",
    "                lkey.append(lines[i][1:-1])\n",
    "            else: \n",
    "                lkey.append(lines[i][1:])\n",
    "                    \n",
    "      \n",
    "    for i in range(len(chevron)-1):\n",
    "        pre = chevron[i]\n",
    "\n",
    "        post = chevron[i+1]\n",
    "\n",
    "                \n",
    "        liste_seq.append(lines[(pre+1):post])\n",
    "\n",
    "    for l in liste_seq:\n",
    "        s=\"\"\n",
    "        for e in l:\n",
    "            if e==\"\\n\" or e==\"n\":\n",
    "                print(\"on saute\")\n",
    "                continue\n",
    "            else:\n",
    "                s+=e\n",
    "        tmp.append(s)\n",
    "\n",
    "    for a in tmp:\n",
    "        Seqs.append(a.replace(\"\\n\",\"\"))\n",
    "                \n",
    "            \n",
    "\n",
    "    return IdSeq, Seqs\n",
    "\n",
    "IdSeq,Seqs=extraireAllFastaMulti(\"fasta/algnMult.fasta\")\n",
    "#IdSeq2,Seqs2=extraireAllFastaMulti(\"fasta/algnMult2.fasta\")\n",
    "print(\"IdSeq\\n\",IdSeq,\"\\n\\nSeqs\\n\", Seqs)\n",
    "#print(\"IdSeq\\n\",IdSeq2,\"\\n\\nSeqs\\n\", Seqs2)\n",
    "\n",
    "\n",
    "\n",
    "\n",
    "# A = [1,2,3,4,5,6]\n",
    "\n",
    "# print(A[1])\n",
    "# print(A[(1+1):3])\n",
    "# print(A[3])\n"
   ]
  },
  {
   "cell_type": "code",
   "execution_count": 36,
   "metadata": {
    "id": "mg-eQQJo8dM_",
    "outputId": "c1e008f8-12d7-4279-eaf8-9567af1a2200"
   },
   "outputs": [
    {
     "name": "stdout",
     "output_type": "stream",
     "text": [
      "5.0\n"
     ]
    }
   ],
   "source": [
    "def SP_score(SeqsM, blosum, gap):\n",
    "    \"\"\"\n",
    "    Compute MSA score based on a substitution matrix and gap penality\n",
    "    input1 SeqsM: list of aligned sequences\n",
    "    input2 blosum: substitution matrix\n",
    "    input3 gap: gap penality\n",
    "    output1 score: MSA score\n",
    "    \"\"\"\n",
    "\n",
    "    Lseq = len(SeqsM[0]) # la longueur d'une sequence contenue dans la liste\n",
    "\n",
    "\n",
    "    # on crée un liste de listes pour chaque position\n",
    "    # pour chaque position, on a les différentes posibilités \n",
    "    Liste = []\n",
    "    for i in range(Lseq):\n",
    "        l = []\n",
    "        for j in range(len(SeqsM)):\n",
    "            l.append(SeqsM[j][i])\n",
    "        Liste.append(l)\n",
    "    \n",
    "    # Pour chaque position, on fait une liste des paires possibles,\n",
    "    LISTE_paire = []\n",
    "    for colonne in Liste: \n",
    "        liste_paire = []\n",
    "        Paire = combinations (colonne, 2)\n",
    "        liste_paire = [' '.join(i) for i in Paire]\n",
    "        LISTE_paire.append(liste_paire)\n",
    "   \n",
    "    # On relève le score de chaque paire dans le dictionnaire blosum\n",
    "    # pour faire une liste de listes pour du score des paires pour chaque positions\n",
    "    Score = []\n",
    "    for colonne in LISTE_paire: \n",
    "        score_colonne = []\n",
    "        for paire in colonne:\n",
    "            if '-' in paire: \n",
    "                score_colonne.append(gap)\n",
    "            else:\n",
    "                la_paire =str(paire[0]) + str(paire[2])\n",
    "                if la_paire in blosum.keys(): \n",
    "                    score_colonne.append(blosum[la_paire])\n",
    "                else: # dans le cas où la paire est écrite dans l'autre seul dans le dictionnaire\n",
    "                    la_paire2 = str(paire[2]) + str(paire[0]) \n",
    "                    score_colonne.append(blosum[la_paire2])\n",
    "        Score.append(score_colonne)\n",
    "    \n",
    "    # On calcule le score pour chaque position\n",
    "    Somme_score = []\n",
    "    for i in range(len(Score)): \n",
    "        Somme_score.append(np.sum(Score[i])) \n",
    "       \n",
    "\n",
    "    # On obtient le score final, en faisant la moyenne du score de chacune des positions\n",
    "    Score_final = np.mean(Somme_score)\n",
    "    \n",
    "    score = Score_final\n",
    "        \n",
    "        \n",
    "    return (score)\n",
    "\n",
    "SeqsM = ['ACG', 'A-G', 'ACD']\n",
    "score = SP_score(SeqsM, blosum, gap)\n",
    "print (score)\n",
    "#5.0"
   ]
  },
  {
   "cell_type": "markdown",
   "metadata": {
    "id": "ki4YjNGy8dM_"
   },
   "source": [
    "<b> Exercice 3 </b>: Aligner les séquences du fichiers algnMult2.fasta avec  <a href=\"http://www.ebi.ac.uk/Tools/msa/clustalo/\">Clustal omega</a>. Utiliser la fonction développé precedement  pour calculer le score du alignement. Quelle est la séquence la plus divergente? "
   ]
  },
  {
   "cell_type": "markdown",
   "metadata": {
    "id": "o2EpfQl88dNA"
   },
   "source": [
    "<font color=\"red\"> Réponse : </font>\n",
    "<font color=\"blue\"> <br>\n",
    "Put your answers here\n",
    "</font>"
   ]
  },
  {
   "cell_type": "code",
   "execution_count": 37,
   "metadata": {
    "scrolled": true
   },
   "outputs": [],
   "source": [
    "fichier = 'fasta/algnMult2.fasta'\n",
    "algnMult2 = extraireAllFastaMulti(fichier)\n",
    "\n",
    "\n",
    "# print(algnMult2[0])\n",
    "# print(\"____________________________________________________\")\n",
    "# print(len(algnMult2[0]), len(algnMult2[1]),len(algnMult2[0][0]))\n",
    "# print(\"____________________________________________________\")\n",
    "# print((algnMult2[0]), \"\\n\\n\\n\",(algnMult2[0][0]))\n",
    "# print(\"====================================================\")\n",
    "# print(algnMult2[1])\n",
    "# print(\"____________________________________________________\")\n",
    "# print(\"____________________________________________________\")\n",
    "# print((algnMult2[1]), \"---> \",len(algnMult2[1]),\"\\n\\n\\n\",(algnMult2[1][0]),\" --> \", len(algnMult2[1][0]))\n",
    "\n",
    "\n",
    "# score_Mult2 = score = SP_score(algnMult2[1], blosum, gap)\n",
    "# print(score_Mult2)"
   ]
  },
  {
   "cell_type": "markdown",
   "metadata": {
    "id": "le9ufHAU8dNA"
   },
   "source": [
    "<b> Exercice 4 </b>:\n",
    "Comparer les trois outils  <a href=\"http://www.ebi.ac.uk/Tools/msa/clustalo/\">Clustal omega</a>,  <a href=\"http://mafft.cbrc.jp/alignment/server/\">MAFT</a>  et <a href=\"http://www.ebi.ac.uk/Tools/msa/muscle/\">Muscle</a> en utilisant les séquences du fichiers algnMult.fasta. Utiliser la fonction développée précédemment pour calculer le score de chaque alignement. Puis répéter la comparaison avec les séquences du fichier algnMult2.fasta. Quel outil a eu la meilleure performance?"
   ]
  },
  {
   "cell_type": "code",
   "execution_count": 38,
   "metadata": {},
   "outputs": [
    {
     "name": "stdout",
     "output_type": "stream",
     "text": [
      "nan\n"
     ]
    },
    {
     "name": "stderr",
     "output_type": "stream",
     "text": [
      "C:\\Python\\Python310\\lib\\site-packages\\numpy\\core\\fromnumeric.py:3432: RuntimeWarning: Mean of empty slice.\n",
      "  return _methods._mean(a, axis=axis, dtype=dtype,\n",
      "C:\\Python\\Python310\\lib\\site-packages\\numpy\\core\\_methods.py:190: RuntimeWarning: invalid value encountered in double_scalars\n",
      "  ret = ret.dtype.type(ret / rcount)\n"
     ]
    }
   ],
   "source": [
    "fichier = 'fasta/algnMult.fasta'\n",
    "algnMult = extraireAllFastaMulti(fichier)\n",
    "# print(algnMult[1])\n",
    "\n",
    "score_Mult2 = score = SP_score(algnMult, blosum, gap)\n",
    "print(score_Mult2)"
   ]
  },
  {
   "cell_type": "markdown",
   "metadata": {
    "id": "j8V76SFH8dNA"
   },
   "source": [
    "<font color=\"red\"> Réponse : </font>\n",
    "<font color=\"blue\"> <br>\n",
    "Put your answers here\n",
    "</font>"
   ]
  },
  {
   "cell_type": "code",
   "execution_count": null,
   "metadata": {
    "id": "WDZUfdwG8dNA"
   },
   "outputs": [],
   "source": []
  }
 ],
 "metadata": {
  "colab": {
   "collapsed_sections": [],
   "name": "TME3_corrige.ipynb",
   "provenance": []
  },
  "kernelspec": {
   "display_name": "Python 3 (ipykernel)",
   "language": "python",
   "name": "python3"
  },
  "language_info": {
   "codemirror_mode": {
    "name": "ipython",
    "version": 3
   },
   "file_extension": ".py",
   "mimetype": "text/x-python",
   "name": "python",
   "nbconvert_exporter": "python",
   "pygments_lexer": "ipython3",
   "version": "3.10.6"
  }
 },
 "nbformat": 4,
 "nbformat_minor": 1
}
