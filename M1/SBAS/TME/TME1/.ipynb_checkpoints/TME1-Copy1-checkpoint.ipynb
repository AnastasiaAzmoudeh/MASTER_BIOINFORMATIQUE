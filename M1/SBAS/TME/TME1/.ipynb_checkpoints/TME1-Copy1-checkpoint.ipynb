{
 "cells": [
  {
   "cell_type": "markdown",
   "metadata": {},
   "source": [
    "\n",
    "<h1><b>Statistique en Bioinformatique : </b> TME1 </h1>\n",
    "<br>\n",
    "L’objectif de ce TME est l’analyse statistique d’une famille de protéines à travers son alignement de séquences:\n",
    "<br>\n",
    "<ul>\n",
    "<li> objectif 1: détection des positions conservées, </li>\n",
    "<li> objectif 2: détection de séquences qui appartiennent à la même famille, </li>\n",
    "</ul>\n",
    "<vr>\n",
    "<div class=\"alert alert-warning\" role=\"alert\" style=\"margin: 10px\">\n",
    "<p>**Soumission**</p>\n",
    "<ul>\n",
    "<li>Renommer le fichier TME1.ipynb pour NomEtudiant1_NomEtudiant2.ipynb </li>\n",
    "<li>Soumettre via Moodle avant le prochain TME - <b> Une soumission par binome </b>.\n",
    "</ul>\n",
    "<br>\n",
    "REMARQUE : Les fichiers seront aussi corrigés numériquement. Faites donc attention à <b> ne pas modifier la signature et le renvoi des fonctions! </b>\n",
    "<br>\n",
    "</div>"
   ]
  },
  {
   "cell_type": "markdown",
   "metadata": {},
   "source": [
    "Nom etudiant 1 :\n",
    "<br>\n",
    "Nom etudiant 2 :\n",
    "<br>"
   ]
  },
  {
   "cell_type": "markdown",
   "metadata": {},
   "source": [
    "<b>DONNÉES</b> <br>\n",
    "Il y a 2 fichiers avec les données telecharché à (<a href=\"http://www.lcqb.upmc.fr/julianab/teaching/SBAS/TME1.tar.gz\"> TME1 </a> ): <br>\n",
    "<ul>\n",
    "<li> Dtrain.txt: C’est un alignement de M = 5643 protéines d’une seule famille en format FASTA,\n",
    "<br>\n",
    "    Les lignes qui commencent avec “>” contiennent des commentaires (nom de la protéine etc.). Elles n’ont aucune importance pour notre projet. Les autres lignes contiennent les séquences, que l’on va utiliser dans le projet. Les séquences sont alignées, elles ont toutes la même longueur (L = 48 positions dans notre fichier). Chaque position i = 0, ..., L − 1 d'une séquence contient soit un acide aminé (A,C,...,Y, il y en a 20) ou un trou (–), que l'on considère comme 21ème lettre. Ensemble elles forment l'alphabet: \n",
    "    A =  {A, C, D, E, F, G, H, I, K, L, M, N, P, Q, R, S, T, V, W, Y, -}, avec q = 21 lettres différentes.\n",
    "</li>\n",
    "    <br>\n",
    "<li> testseq.txt:  testseq.txt: Même format de Dtrain.txt, mais avec une seule séquence b = (b0 , ..., bN −1 ) plus longue (longueur N = 114 > L). On va scanner cette séquence pour trouver une sous-séquence qui appartient à la famille definie par Dtrain.txt. </li>\n",
    "</ul>"
   ]
  },
  {
   "cell_type": "markdown",
   "metadata": {},
   "source": [
    "Exercice 1: Pour chaque position i = 0, ..., L − 1 de l' alignement et chaque acide aminé a ∈ A (trou compris), calculer le nombre d’occurences ni(a) et le poid ωi(a), où :\n",
    "\\begin{equation*}\n",
    "n_{i}(a) = \\textrm{nombre d'occurrences de l'acide aminé a dans la colonne i}\n",
    "\\end{equation*}\n",
    "\n",
    "\\begin{equation*}\n",
    "\\omega_i(a) = \\frac{n_i(a)+1}{M+q}\\ .\n",
    "\\end{equation*}"
   ]
  },
  {
   "cell_type": "code",
   "execution_count": 137,
   "metadata": {},
   "outputs": [],
   "source": [
    "import sys\n",
    "import numpy as np\n",
    "import pandas as pd\n",
    "#aa = ['A', 'C', 'D', 'E', 'F', 'G', 'H', 'I', 'K', 'L', 'M', 'N', 'P', 'Q', 'R', 'S', 'T', 'V', 'W', 'Y', '-']\n",
    "#q = 21\n",
    "aa = ['A', 'B', 'C', '-']\n",
    "q = 4\n",
    "#aa = ['A', 'G', 'C', 'T', '-']\n",
    "#q = 5"
   ]
  },
  {
   "cell_type": "code",
   "execution_count": 138,
   "metadata": {},
   "outputs": [],
   "source": [
    "#load path Files\n",
    "#input_dataset_f = 'Dtrain.txt'\n",
    "input_sequence_f = 'test_seq.txt'\n",
    "input_dataset_f = 'DtrainToy.txt'\n",
    "#input_sequence_f = 'test_seqToy.txt'\n",
    "#input_dataset_f = 'DtrainToyTD.txt'"
   ]
  },
  {
   "cell_type": "code",
   "execution_count": 139,
   "metadata": {},
   "outputs": [
    {
     "name": "stdout",
     "output_type": "stream",
     "text": [
      "Training data (watch out, this is long):\n",
      "['ABBCAC\\n', 'A-BBAC\\n', 'AB-BAC\\n', 'CBBCAC']\n",
      "MSA length [6, 6, 6, 5]\n",
      "MSA depth 4\n"
     ]
    }
   ],
   "source": [
    "#load DTrain File\n",
    "def load_train(input_f):\n",
    "    f=open(input_f,'r')\n",
    "    lines=f.readlines()\n",
    "    listeseq=[]\n",
    "    L=[]\n",
    "    \n",
    "    for line in lines:\n",
    "        if line[0]=='>':\n",
    "            continue\n",
    "        else:\n",
    "            listeseq.append(line)\n",
    "    \n",
    "    for i in range(len(listeseq)):\n",
    "        L.append(len(listeseq[i])-1)\n",
    "    \n",
    "    m = len(listeseq)\n",
    "    train_set=listeseq\n",
    "    \"\"\"Input 1 : a multiple sequence alignment (MSA) in FASTA format\n",
    "    Output 1 : the MSA (see REMARK)\n",
    "    Output 2 : the length of the aligned sequences (MSA length)\n",
    "    Output 3 : the number of sequences in the MSA (MSA depth)\n",
    "    \n",
    "    REMARK : The MSA should be represented as an ordered collection of sequences.\n",
    "    Meaning, the first sequence in the file must be the first sequence in the\n",
    "    data structure. You can represent it as a list of lists of char, a list of \n",
    "    str, a numpy matrix, etc. Just be consistent throughout the whole TME1\"\"\"\n",
    "    \n",
    "    # Your code...\n",
    "    \n",
    "    return train_set, L, m\n",
    "\n",
    "train_set, L, m = load_train(input_dataset_f)\n",
    "print(\"Training data (watch out, this is long):\")\n",
    "print(train_set)\n",
    "\n",
    "print(\"MSA length\", L)\n",
    "print(\"MSA depth\", m)"
   ]
  },
  {
   "cell_type": "code",
   "execution_count": 140,
   "metadata": {},
   "outputs": [
    {
     "name": "stdout",
     "output_type": "stream",
     "text": [
      "4\n",
      "       0      1      2      3      4      5\n",
      "A  0.500  0.125  0.125  0.125  0.625  0.125\n",
      "B  0.125  0.500  0.500  0.375  0.125  0.125\n",
      "C  0.250  0.125  0.125  0.375  0.125  0.625\n",
      "-  0.125  0.250  0.250  0.125  0.125  0.125\n"
     ]
    }
   ],
   "source": [
    "#Computing wi(a)\n",
    "def get_pwm(train_set, L, m, alphabet):\n",
    "    \"\"\"Input 1 : The MSA (see REMARK of the load_train function)\n",
    "    Input 2 : the MSA length\n",
    "    Input 3 : the MSA depth\n",
    "    Input 4 : the alphabet used (it must be an ordered collection of non-repeating characters)\n",
    "    Output 1 : position-weight matrix of shape (q, L) where q is len(alphabet)\"\"\"\n",
    "    # Your code...\n",
    "    train_set, L, m = load_train(input_dataset_f)\n",
    "    print(len(alphabet))\n",
    "    taille=L[0]\n",
    "    #print(taille)\n",
    "    mat=np.zeros((len(alphabet),taille))\n",
    "    li=[]\n",
    "    for i in range(0,taille):\n",
    "        li.append(str(i))\n",
    "    #print(li)\n",
    "    ddf=pd.DataFrame(mat,index=alphabet,columns=li)\n",
    "    for i in range(taille):\n",
    "        for j in range(m):\n",
    "            ddf[str(i)][(train_set[j][i])]+=1\n",
    "#print(ddf)\n",
    "    matpwm=np.zeros((len(alphabet),taille))\n",
    "    dtpwm=f=pd.DataFrame(mat,index=alphabet,columns=li)\n",
    "    for i in alphabet:\n",
    "        for j in range(taille):\n",
    "            dtpwm[str(j)][(i)]=(dtpwm[str(j)][(i)]+1)/(m+(len(aa)))\n",
    "#print(dtpwm)       \n",
    "    PWM=dtpwm\n",
    "    return PWM\n",
    "    \n",
    "PWM = get_pwm(train_set, L, m, aa)\n",
    "print(PWM)"
   ]
  },
  {
   "cell_type": "code",
   "execution_count": 141,
   "metadata": {},
   "outputs": [
    {
     "name": "stdout",
     "output_type": "stream",
     "text": [
      "4\n",
      "6\n",
      "['0', '1', '2', '3', '4', '5']\n",
      "B\n",
      "     0    1    2    3    4    5\n",
      "A  3.0  0.0  0.0  0.0  4.0  0.0\n",
      "B  0.0  3.0  3.0  2.0  0.0  0.0\n",
      "C  1.0  0.0  0.0  2.0  0.0  4.0\n",
      "-  0.0  1.0  1.0  0.0  0.0  0.0\n",
      "       0      1      2      3      4      5\n",
      "A  0.500  0.125  0.125  0.125  0.625  0.125\n",
      "B  0.125  0.500  0.500  0.375  0.125  0.125\n",
      "C  0.250  0.125  0.125  0.375  0.125  0.625\n",
      "-  0.125  0.250  0.250  0.125  0.125  0.125\n",
      "[6, 6, 6, 5]\n"
     ]
    }
   ],
   "source": [
    "train_set, L, m = load_train(input_dataset_f)\n",
    "print(len(aa))\n",
    "taille=L[0]\n",
    "print(taille)\n",
    "mat=np.zeros((len(aa),taille))\n",
    "li=[]\n",
    "for i in range(0,taille):\n",
    "    li.append(str(i))\n",
    "print(li)\n",
    "print(train_set[0][1])\n",
    "cptK=4\n",
    "ddf=pd.DataFrame(mat,index=aa,columns=li)\n",
    "for i in range(taille):\n",
    "    for j in range(m):\n",
    "        ddf[str(i)][(train_set[j][i])]+=1\n",
    "print(ddf)\n",
    "pwm=np.zeros((len(aa),taille))\n",
    "dtpwm=f=pd.DataFrame(mat,index=aa,columns=li)\n",
    "for i in aa:\n",
    "    for j in range(taille):\n",
    "        dtpwm[str(j)][(i)]=(dtpwm[str(j)][(i)]+1)/(m+(len(aa)))\n",
    "print(dtpwm)\n",
    "print(L)\n",
    "#diviser par nb de séquences (m)+ longueur de l'aphabet\n",
    "# i=0\n",
    "# print(\"train_set[1][0]\",train_set[1][0])\n",
    "# print('i= :', i)\n",
    "# lettre=train_set[1][0]\n",
    "# print(\"lettre\",lettre)\n",
    "# print(\"dataframe\",ddf[str(i)]['K'])"
   ]
  },
  {
   "cell_type": "code",
   "execution_count": 142,
   "metadata": {},
   "outputs": [
    {
     "name": "stdout",
     "output_type": "stream",
     "text": [
      "-----------------------------\n",
      "index\n",
      "Index(['A', 'B', 'C', '-'], dtype='object')\n",
      "['A', 'B', 'C', '-']\n"
     ]
    }
   ],
   "source": [
    "print(\"-----------------------------\")\n",
    "print(\"index\")\n",
    "print(dtpwm.index)\n",
    "type(dtpwm.index)\n",
    "LL=list(dtpwm.index)\n",
    "print(LL)"
   ]
  },
  {
   "cell_type": "code",
   "execution_count": 143,
   "metadata": {},
   "outputs": [],
   "source": [
    "#print('cptK : ',cptK)\n",
    "#pd.DataFrame(mat,index=aa,columns=li)\n"
   ]
  },
  {
   "cell_type": "markdown",
   "metadata": {},
   "source": [
    "Exercise 2: Trouvez les positions les plus conservées en utilisant l’entropie relative.\n",
    "<br>\n",
    "2.1) Pour chaque position i = 0, ..., L − 1, determiner l’entropie relative Si<br>\n",
    "\\begin{equation*}\n",
    "\\label{eq:entropie}\n",
    "S_i = \\log_2(q) + \\sum_{a\\in {\\cal A}} \\omega_i(a)\\cdot \\log_2\\left[\\omega_i(a) \\right]\\ .\n",
    "\\end{equation*}\n",
    "<br>\n"
   ]
  },
  {
   "cell_type": "code",
   "execution_count": 144,
   "metadata": {},
   "outputs": [
    {
     "name": "stdout",
     "output_type": "stream",
     "text": [
      "math.log(q,2) =  2.0\n",
      "len wi= 4   L = [6, 6, 6, 5]   q = 4\n",
      "\n",
      "\n",
      " Si =  [0.25       0.25       0.25       0.18872188 0.45120506 0.45120506]\n",
      "len(Si) =  6\n"
     ]
    }
   ],
   "source": [
    "import math \n",
    "print(\"math.log(q,2) = \", math.log(q,2))\n",
    "\n",
    "\n",
    "#Computing Si\n",
    "def si_calculate (wi):\n",
    "    \"\"\"Input 1 : Weight vector (of length q) representing column i of the MSA\n",
    "    Output 1 : Relative entropy of column i\"\"\"\n",
    "    \n",
    "    #Your code...\n",
    "    # à faire avec 2 boucles \n",
    "    taille=max(L)\n",
    "#     q = len(aa) # la longueur de l'alphabet\n",
    "    q = len(wi) # la longueur de l'alphabet\n",
    "    print (\"len wi=\",len(wi), \"  L =\", L, \"  q =\", q)\n",
    "    \n",
    "    si = np.zeros(taille)\n",
    "    \n",
    "    for i in range (taille): \n",
    "#         print(\"i = \", i)\n",
    "        si[i] = math.log(q,2)\n",
    "#         print(\"si[\",i,\"] = \", si[i])\n",
    "        for j in range (q):\n",
    "#             print(\"j = \", j)\n",
    "            lettre = aa[j] \n",
    "#             print(\"lettre --> \", lettre )\n",
    "            w = wi[str(i)][str(lettre)]\n",
    "            si[i] += w * math.log(w,2)             \n",
    "    return si\n",
    "\n",
    "#Make a vector Si of length L containing the relative entropy of each position (column) of the MSA\n",
    "Si = si_calculate(PWM)\n",
    "print(\"\\n\\n Si = \", Si)\n",
    "\n",
    "print( \"len(Si) = \",len(Si))"
   ]
  },
  {
   "cell_type": "markdown",
   "metadata": {},
   "source": [
    "2.2) Indiquez les acides aminees (ai*) des trois positions les plus conservées : \n",
    "\\begin{equation}\n",
    "\\label{eq:conserved}\n",
    "a_i^\\star = {\\rm argmax}_{a\\in {\\cal A}} \\omega_i(a)\\ .\n",
    "\\end{equation}"
   ]
  },
  {
   "cell_type": "code",
   "execution_count": 145,
   "metadata": {},
   "outputs": [
    {
     "name": "stdout",
     "output_type": "stream",
     "text": [
      "['A', 'B', 'C', '-']\n",
      "[4 5 0]\n",
      "idx [1 5 4]\n",
      "[1 5 4]\n",
      "indices [4 5 1]\n",
      "[4, 4, 0]\n",
      "[4, 5, 0]\n",
      "[0.45120505930460153, 0.4512050593046014, 0.25]\n",
      "['A', 'C', 'A']\n"
     ]
    }
   ],
   "source": [
    "#computing ai*\n",
    "def get_aiStart(Si, PWM, naa):\n",
    "    \"\"\"Input 1 : Relative entropy vector of length L\n",
    "    Input 2 : position-weight matrix of shape (q, L)\n",
    "    Input 3 : 0 < int < q+1, specifying the number of top-conserved residues\n",
    "    Output 1 : list of length naa containing the amino acid type (char) of the \n",
    "    top-naa conserved columns\"\"\"\n",
    "    \n",
    "    #Your code...\n",
    "    L=list(PWM.index)\n",
    "    print(L)\n",
    "    LSi=list(Si)\n",
    "    LLSi=list(Si)\n",
    "    top_aa=[]\n",
    "    listeind=[]\n",
    "    listesiaa=[]\n",
    "    listenpind=[] \n",
    "    print((-Si).argsort()[:3])\n",
    "    idx=np.argpartition(Si,-3)[-3:]\n",
    "    print(\"idx\",idx)\n",
    "    print(idx)\n",
    "    indices=idx[np.argsort((-Si)[idx])]\n",
    "    print(\"indices\",indices)\n",
    "    for i in range(naa):\n",
    "        #print(np.argmax(Si))\n",
    "        npind=np.argmax(Si)\n",
    "        listenpind.append(npind)\n",
    "        Si=np.delete(Si,npind)\n",
    "        e=max(LLSi)\n",
    "        listesiaa.append(e)\n",
    "        ind=LSi.index(e)\n",
    "        listeind.append(ind)\n",
    "        \n",
    "        LLSi.remove(e)\n",
    "    print(listenpind)\n",
    "    print(listeind)\n",
    "    print(listesiaa)\n",
    "    for e in listeind:\n",
    "#         print(max(PWM[str(e)]))\n",
    "#         print(PWM[PWM[str(e)]==max(PWM[str(e)])].index.item())\n",
    "        top_aa.append((PWM[PWM[str(e)]==max(PWM[str(e)])].index.item()))\n",
    "    \n",
    "    return top_aa\n",
    "\n",
    "print(get_aiStart(Si, PWM, 3))"
   ]
  },
  {
   "cell_type": "markdown",
   "metadata": {},
   "source": [
    "2.3) Tracer l’entropie rélative en fonction de chaque position i."
   ]
  },
  {
   "cell_type": "code",
   "execution_count": 146,
   "metadata": {},
   "outputs": [],
   "source": [
    "import matplotlib.pyplot as plt\n"
   ]
  },
  {
   "cell_type": "code",
   "execution_count": 147,
   "metadata": {},
   "outputs": [
    {
     "ename": "SyntaxError",
     "evalue": "'(' was never closed (926164771.py, line 2)",
     "output_type": "error",
     "traceback": [
      "\u001b[1;36m  Input \u001b[1;32mIn [147]\u001b[1;36m\u001b[0m\n\u001b[1;33m    def plot_entropy( #Complete here... )\u001b[0m\n\u001b[1;37m                    ^\u001b[0m\n\u001b[1;31mSyntaxError\u001b[0m\u001b[1;31m:\u001b[0m '(' was never closed\n"
     ]
    }
   ],
   "source": [
    "#plot entropy\n",
    "def plot_entropy( #Complete here... )\n",
    "    \"\"\"For each of the L positions of the MSA, plot its entropy.\n",
    "    \n",
    "    BONUS : highlight the top-naa conserved sites, and print the\n",
    "    most abundant amino acid type on top of the naa identified positions\"\"\"\n",
    "    \n",
    "    #Your code...\n",
    "    \n",
    "    plt.savefig('entropy.png', dpi=300)\n",
    "    return"
   ]
  },
  {
   "cell_type": "markdown",
   "metadata": {},
   "source": [
    "Exercise 3: Déterminer les paramètres f(0)(b) du modèle nul, où\n",
    "\\begin{equation}\n",
    "f^{(0)}(b) = \\frac 1L \\sum_{i=0}^{L-1} \\omega_i(b)\\ ,\n",
    "\\end{equation}"
   ]
  },
  {
   "cell_type": "code",
   "execution_count": 174,
   "metadata": {},
   "outputs": [
    {
     "name": "stdout",
     "output_type": "stream",
     "text": [
      "{'A': 0.2708333333333333, 'B': 0.2916666666666667, 'C': 0.2708333333333333, '-': 0.16666666666666666}\n"
     ]
    }
   ],
   "source": [
    "#computing f0\n",
    "def f0_calcule(PWM):\n",
    "    \"\"\"Input 1 : position-weight matrix of shape (q,L)\n",
    "    Output 1 : vector of size q containing the null model \"\"\"\n",
    "    taille=L[0]\n",
    "    f_0={}\n",
    "    alphabet=list(PWM.index)\n",
    "    for e in alphabet:\n",
    "        for i in range(taille):\n",
    "            if e not in f_0:\n",
    "                f_0[e]=PWM[str(i)][e]\n",
    "            else:\n",
    "                f_0[e]+=PWM[str(i)][e]\n",
    "    #Your code...\n",
    "    for e in f_0:\n",
    "        f_0[e]=f_0[e]/6\n",
    "    return f_0\n",
    "\n",
    "f_0 = f0_calcule(PWM)\n",
    "print (f_0)\n",
    "#ACABBACCAC\n"
   ]
  },
  {
   "cell_type": "markdown",
   "metadata": {},
   "source": [
    "Exercise 4: (à appliquer à testseq.txt): Déterminer l(bi,...,bi+L−1)  pour chaque sous-séquence de longueur L. \n",
    "Déterminer si il y a des sous-séquences de la famille definie par Dtrain. \n",
    "Tracer la log-vraisemblance en fonction de sa première position i = 0, ..., N − L.\n",
    "\\begin{equation}\n",
    "\\label{eq:ll}\n",
    "\\ell(b_0,...,b_{L-1}) = \\log_2 \\frac {P(b_0,...,b_{L-1} | \\omega )\n",
    "}{P^{(0)}(b_0,...,b_{L-1})}\n",
    "= \\sum_{i=0}^{L-1} \\log_2 \\frac {\\omega_i(b_i)}{f^{(0)}(b_i)}\\ .\n",
    "\\end{equation}"
   ]
  },
  {
   "cell_type": "markdown",
   "metadata": {},
   "source": [
    "4.1: Faites une fonction pour calculer la log-vraisemblance, d'une séquence de taille L."
   ]
  },
  {
   "cell_type": "code",
   "execution_count": 175,
   "metadata": {},
   "outputs": [
    {
     "name": "stdout",
     "output_type": "stream",
     "text": [
      "['0', '1', '2', '3', '4', '5']\n",
      "<class 'int'>\n",
      "seq[3]  B\n",
      "p 4.57763671875e-05\n",
      "pp 4.57763671875e-05\n",
      "p0 = 0.00045770120555317775\n",
      "-3.321731211631483\n"
     ]
    }
   ],
   "source": [
    "#computing log-likehood\n",
    "def loglikehood(seq, PWM, f_0, L):\n",
    "    \"\"\"Input 1 : sequence of which you want to calculate the log-likelihood\n",
    "    Input 2 : position-weight matrix of shape (q,L)\n",
    "    Input 3 : null model vector of length q\n",
    "    Input 4 : MSA length\n",
    "    Output 1 : log-likelihood of the sequence seq\"\"\"\n",
    "    LL=list(PWM.columns)\n",
    "    print(LL)\n",
    "    p=1\n",
    "    pp=1\n",
    "    #i=0\n",
    "    taille=6\n",
    "#     print(type(taille))\n",
    "#     print(\"seq[3] \",seq[3])\n",
    "#     while(i<taille):\n",
    "#         for e in seq:\n",
    "#             p=p*PWM[str(i)][e]\n",
    "#         i=i+1\n",
    "    for i,e in enumerate(seq):\n",
    "        p=p*PWM[str(i)][e]\n",
    "    #print(\"p\",p)\n",
    "    for j in range(taille):\n",
    "        pp=pp*PWM[str(j)][seq[j]]\n",
    "    #print(\"pp\",pp)\n",
    "    p_0=1        \n",
    "    for e in seq:\n",
    "        p_0=p_0*f_0[e]\n",
    "    print#(\"p0 =\",p_0)    \n",
    "    ll=math.log(p/p_0,2)\n",
    "    #Your code...\n",
    "    \n",
    "    return ll\n",
    "seq=\"ACABBA\"\n",
    "ll=loglikehood(seq,PWM,f_0,L)\n",
    "print(ll)\n",
    "# Test the log-likelihood on the sequences of the data set\n"
   ]
  },
  {
   "cell_type": "markdown",
   "metadata": {},
   "source": [
    "4.2: Faites une fonction qui etant donné une séquence de taille supérieur à k génère toutes les sous-séquences de taille k. Avec cette fonction, trouvez toutes les sous-séquences de taille L de la séquence en testseq.txt"
   ]
  },
  {
   "cell_type": "code",
   "execution_count": 176,
   "metadata": {},
   "outputs": [
    {
     "name": "stdout",
     "output_type": "stream",
     "text": [
      "[['A', 'C', 'A', 'B', 'B', 'A'], ['C', 'A', 'B', 'B', 'A', 'C'], ['A', 'B', 'B', 'A', 'C', 'C'], ['B', 'B', 'A', 'C', 'C', 'A'], ['B', 'A', 'C', 'C', 'A', 'C']]\n"
     ]
    }
   ],
   "source": [
    "#computing sliding_window \n",
    "def sliding_window (seq, k):\n",
    "    \"\"\"Input 1 : sequence of length > k\n",
    "    Input 2 : window length (int)\n",
    "    Output 1 : list of windows of length k generated from sequence seq\"\"\"\n",
    "    \n",
    "    #Your code...\n",
    "    lgseq=len(seq)\n",
    "    windows=[]\n",
    "    window=[]\n",
    "    cadres=[]\n",
    "#     a=0\n",
    "#     i=0\n",
    "#     while i<lgseq:\n",
    "#         #a=i   \n",
    "#         while a<k:\n",
    "#             window.append(seq[a])\n",
    "#             a+=1\n",
    "#         windows.append(window)\n",
    "#         i+=1\n",
    "#     for i in range(lgseq-k):\n",
    "#         cadres.append(seq[i:])\n",
    "#         #windows.append(window)\n",
    "#     j=0\n",
    "#     for s in cadres:\n",
    "#         while j<k:\n",
    "#             window.append(s[j])\n",
    "#             j+=1\n",
    "#         windows.append(window)\n",
    "    for i in range(lgseq-(k-1)):\n",
    "        cadre=seq[i:]\n",
    "        sousseq=list(cadre[:k])\n",
    "        windows.append(sousseq)\n",
    "    return windows\n",
    "seq=\"ACABBACCAC\"\n",
    "windows=sliding_window (seq, 6)\n",
    "print(windows)\n",
    "# Find all subsequences of length L from the sequence in testseq.txt\n"
   ]
  },
  {
   "cell_type": "markdown",
   "metadata": {},
   "source": [
    "4.3: Calculer la log-vraisemblance pour toutes les sous-sequences trouvées en 4.2 et tracer un graphique de log-vraisemblance, avec en abscisse la position initiale de la sous-sequence."
   ]
  },
  {
   "cell_type": "code",
   "execution_count": 177,
   "metadata": {},
   "outputs": [
    {
     "name": "stdout",
     "output_type": "stream",
     "text": [
      "[['A', 'C', 'A', 'B', 'B', 'A'], ['C', 'A', 'B', 'B', 'A', 'C'], ['A', 'B', 'B', 'A', 'C', 'C'], ['B', 'B', 'A', 'C', 'C', 'A'], ['B', 'A', 'C', 'C', 'A', 'C']]\n",
      "['0', '1', '2', '3', '4', '5']\n",
      "<class 'int'>\n",
      "seq[3]  B\n",
      "p 4.57763671875e-05\n",
      "pp 4.57763671875e-05\n",
      "p0 = 0.00045770120555317775\n",
      "['0', '1', '2', '3', '4', '5']\n",
      "<class 'int'>\n",
      "seq[3]  B\n",
      "p 0.002288818359375\n",
      "pp 0.002288818359375\n",
      "p0 = 0.0004577012055531777\n",
      "['0', '1', '2', '3', '4', '5']\n",
      "<class 'int'>\n",
      "seq[3]  A\n",
      "p 0.001220703125\n",
      "pp 0.001220703125\n",
      "p0 = 0.0004577012055531777\n",
      "['0', '1', '2', '3', '4', '5']\n",
      "<class 'int'>\n",
      "seq[3]  C\n",
      "p 4.57763671875e-05\n",
      "pp 4.57763671875e-05\n",
      "p0 = 0.00045770120555317775\n",
      "['0', '1', '2', '3', '4', '5']\n",
      "<class 'int'>\n",
      "seq[3]  C\n",
      "p 0.000286102294921875\n",
      "pp 0.000286102294921875\n",
      "p0 = 0.00042500826229937926\n"
     ]
    }
   ],
   "source": [
    "#computing log-likelihood\n",
    "def likelihoodAllSousSeq(subseqs, PWM, f_0, k):\n",
    "    \"\"\"Input 1 : list of all subsequences of length k\n",
    "    Input 2 : position-weight matrix of length shape (q,k)\n",
    "    Input 3 : null model vector of length k\n",
    "    Input 4 : length of each subsequence\n",
    "    Output 1 : log-likelihood vector of length len(subseqs) - k + 1\n",
    "    \n",
    "    REMARK : The length of the subsequences must match the\n",
    "    number of columns in the PWM and the length of the null model!\"\"\"\n",
    "    lhs=[]\n",
    "    for s in subseqs:\n",
    "        ll=loglikehood(s,PWM,f_0,k)\n",
    "        lhs.append(ll)\n",
    "    return lhs\n",
    "\n",
    "k=6\n",
    "seq=\"ACABBACCAC\"\n",
    "windows=sliding_window (seq, k)\n",
    "print(windows)\n",
    "lhs=likelihoodAllSousSeq(windows,PWM,f_0,k)\n",
    "\n",
    "def plot_likelihood(lhs):\n",
    "    \"\"\"Input 1 : log-likelihood vector\"\"\"\n",
    "    \n",
    "    plt.savefig('likelihood.png', dpi=300)\n",
    "    return\n"
   ]
  },
  {
   "cell_type": "code",
   "execution_count": 178,
   "metadata": {},
   "outputs": [],
   "source": [
    "#plotting log-likelihood for each initial position"
   ]
  },
  {
   "cell_type": "code",
   "execution_count": null,
   "metadata": {},
   "outputs": [],
   "source": []
  },
  {
   "cell_type": "code",
   "execution_count": null,
   "metadata": {},
   "outputs": [],
   "source": []
  }
 ],
 "metadata": {
  "celltoolbar": "Raw Cell Format",
  "kernelspec": {
   "display_name": "Python 3 (ipykernel)",
   "language": "python",
   "name": "python3"
  },
  "language_info": {
   "codemirror_mode": {
    "name": "ipython",
    "version": 3
   },
   "file_extension": ".py",
   "mimetype": "text/x-python",
   "name": "python",
   "nbconvert_exporter": "python",
   "pygments_lexer": "ipython3",
   "version": "3.10.6"
  }
 },
 "nbformat": 4,
 "nbformat_minor": 2
}
