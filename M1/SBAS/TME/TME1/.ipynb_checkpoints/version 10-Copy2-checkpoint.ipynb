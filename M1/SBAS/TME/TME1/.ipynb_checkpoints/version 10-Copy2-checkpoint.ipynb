{
 "cells": [
  {
   "cell_type": "markdown",
   "metadata": {},
   "source": [
    "\n",
    "<h1><b>Statistique en Bioinformatique : </b> TME1 </h1>\n",
    "<br>\n",
    "L’objectif de ce TME est l’analyse statistique d’une famille de protéines à travers son alignement de séquences:\n",
    "<br>\n",
    "<ul>\n",
    "<li> objectif 1: détection des positions conservées, </li>\n",
    "<li> objectif 2: détection de séquences qui appartiennent à la même famille, </li>\n",
    "</ul>\n",
    "<vr>\n",
    "<div class=\"alert alert-warning\" role=\"alert\" style=\"margin: 10px\">\n",
    "<p>**Soumission**</p>\n",
    "<ul>\n",
    "<li>Renommer le fichier TME1.ipynb pour NomEtudiant1_NomEtudiant2.ipynb </li>\n",
    "<li>Soumettre via Moodle avant le prochain TME - <b> Une soumission par binome </b>.\n",
    "</ul>\n",
    "<br>\n",
    "REMARQUE : Les fichiers seront aussi corrigés numériquement. Faites donc attention à <b> ne pas modifier la signature et le renvoi des fonctions! </b>\n",
    "<br>\n",
    "</div>"
   ]
  },
  {
   "cell_type": "markdown",
   "metadata": {},
   "source": [
    "Nom etudiant 1 : AZMOUDEH Anastasia\n",
    "<br>\n",
    "Nom etudiant 2 : DETHELOT-DELAG Késia\n",
    "<br>"
   ]
  },
  {
   "cell_type": "markdown",
   "metadata": {},
   "source": [
    "<b>DONNÉES</b> <br>\n",
    "Il y a 2 fichiers avec les données telecharché à (<a href=\"http://www.lcqb.upmc.fr/julianab/teaching/SBAS/TME1.tar.gz\"> TME1 </a> ): <br>\n",
    "<ul>\n",
    "<li> Dtrain.txt: C’est un alignement de M = 5643 protéines d’une seule famille en format FASTA,\n",
    "<br>\n",
    "    Les lignes qui commencent avec “>” contiennent des commentaires (nom de la protéine etc.). Elles n’ont aucune importance pour notre projet. Les autres lignes contiennent les séquences, que l’on va utiliser dans le projet. Les séquences sont alignées, elles ont toutes la même longueur (L = 48 positions dans notre fichier). Chaque position i = 0, ..., L − 1 d'une séquence contient soit un acide aminé (A,C,...,Y, il y en a 20) ou un trou (–), que l'on considère comme 21ème lettre. Ensemble elles forment l'alphabet: \n",
    "    A =  {A, C, D, E, F, G, H, I, K, L, M, N, P, Q, R, S, T, V, W, Y, -}, avec q = 21 lettres différentes.\n",
    "</li>\n",
    "    <br>\n",
    "<li> testseq.txt:  testseq.txt: Même format de Dtrain.txt, mais avec une seule séquence b = (b0 , ..., bN −1 ) plus longue (longueur N = 114 > L). On va scanner cette séquence pour trouver une sous-séquence qui appartient à la famille definie par Dtrain.txt. </li>\n",
    "</ul>"
   ]
  },
  {
   "cell_type": "markdown",
   "metadata": {},
   "source": [
    "Exercice 1: Pour chaque position i = 0, ..., L − 1 de l' alignement et chaque acide aminé a ∈ A (trou compris), calculer le nombre d’occurences ni(a) et le poid ωi(a), où :\n",
    "\\begin{equation*}\n",
    "n_{i}(a) = \\textrm{nombre d'occurrences de l'acide aminé a dans la colonne i}\n",
    "\\end{equation*}\n",
    "\n",
    "\\begin{equation*}\n",
    "\\omega_i(a) = \\frac{n_i(a)+1}{M+q}\\ .\n",
    "\\end{equation*}"
   ]
  },
  {
   "cell_type": "code",
   "execution_count": 47,
   "metadata": {},
   "outputs": [],
   "source": [
    "import sys\n",
    "import numpy as np\n",
    "# aa = ['A', 'C', 'D', 'E', 'F', 'G', 'H', 'I', 'K', 'L', 'M', 'N', 'P', 'Q', 'R', 'S', 'T', 'V', 'W', 'Y', '-']\n",
    "# q = 21\n",
    "aa = ['A', 'B', 'C', '-']\n",
    "q = 4\n",
    "#aa = ['A', 'G', 'C', 'T', '-']\n",
    "#q = 5"
   ]
  },
  {
   "cell_type": "code",
   "execution_count": 48,
   "metadata": {},
   "outputs": [],
   "source": [
    "#load path Files\n",
    "# input_dataset_f = 'Dtrain.txt'\n",
    "# input_sequence_f = 'test_seq.txt'\n",
    "input_dataset_f = 'DtrainToy.txt'\n",
    "input_sequence_f = 'test_seqToy.txt'\n",
    "#input_dataset_f = 'DtrainToyTD.txt'"
   ]
  },
  {
   "cell_type": "code",
   "execution_count": 49,
   "metadata": {},
   "outputs": [
    {
     "name": "stdout",
     "output_type": "stream",
     "text": [
      "Training data (watch out, this is long):\n",
      "['ABBCAC\\n', 'A-BBAC\\n', 'AB-BAC\\n', 'CBBCAC\\n']\n",
      "MSA length 6\n",
      "MSA depth 4\n"
     ]
    }
   ],
   "source": [
    "#load DTrain File\n",
    "def load_train(input_f):           \n",
    "    \"\"\"Input 1 : a multiple sequence alignment (MSA) in FASTA format\n",
    "    Output 1 : the MSA (see REMARK)\n",
    "    Output 2 : the length of the aligned sequences (MSA length)\n",
    "    Output 3 : the number of sequences in the MSA (MSA depth)\n",
    "    \n",
    "    REMARK : The MSA should be represented as an ordered collection of sequences.\n",
    "    Meaning, the first sequence in the file must be the first sequence in the\n",
    "    data structure. You can represent it as a list of lists of char, a list of \n",
    "    str, a numpy matrix, etc. Just be consistent throughout the whole TME1\"\"\"\n",
    "    \n",
    "    # Your code...\n",
    "    \n",
    "    f = open(input_f, \"r\")\n",
    "    lines = f.readlines()\n",
    "    \n",
    "    train_set= []\n",
    "    liste_length = []\n",
    "    \n",
    "       \n",
    "    \n",
    "    for line in lines: \n",
    "        if line[0]== \">\":\n",
    "#             print(\"chevron\",line)\n",
    "            continue\n",
    "            \n",
    "        else :\n",
    "#             print(line)\n",
    "            train_set.append(line) # nous permet de retenir toutes les seq\n",
    "#         print(liste_seq)\n",
    "\n",
    "    for i in train_set: \n",
    "        length = len(i)-1\n",
    "        liste_length.append(length)\n",
    "#     print(liste_length)\n",
    "    L = int((np.mean(liste_length)))#L\n",
    "#     print(\"moyenne_lenght = \", L)\n",
    "    \n",
    "    m = len(train_set) #m\n",
    "#     print(\"nb_seq = \", m)\n",
    "        \n",
    "    \n",
    "    return train_set, L, m\n",
    "\n",
    "train_set, L, m = load_train(input_dataset_f)\n",
    "print(\"Training data (watch out, this is long):\")\n",
    "print(train_set)\n",
    "\n",
    "print(\"MSA length\", L)\n",
    "print(\"MSA depth\", m)"
   ]
  },
  {
   "cell_type": "code",
   "execution_count": 50,
   "metadata": {},
   "outputs": [
    {
     "name": "stdout",
     "output_type": "stream",
     "text": [
      "       0      1      2      3      4      5\n",
      "A  0.500  0.125  0.125  0.125  0.625  0.125\n",
      "B  0.125  0.500  0.500  0.375  0.125  0.125\n",
      "C  0.250  0.125  0.125  0.375  0.125  0.625\n",
      "-  0.125  0.250  0.250  0.125  0.125  0.125\n",
      "0.375 3 C\n",
      "PWM\n",
      "        0      1      2      3      4      5\n",
      "A  0.500  0.125  0.125  0.125  0.625  0.125\n",
      "B  0.125  0.500  0.500  0.375  0.125  0.125\n",
      "C  0.250  0.125  0.125  0.375  0.125  0.625\n",
      "-  0.125  0.250  0.250  0.125  0.125  0.125\n",
      "\n",
      "\n",
      "PWM[str('2')][str('A')], po, AA -->  0.125 3 C\n",
      "len(PWM) = 4\n",
      "\n",
      "\n",
      " A    0.125\n",
      "B    0.500\n",
      "C    0.125\n",
      "-    0.250\n",
      "Name: 2, dtype: float64\n",
      "\n",
      "\n",
      " 0.125\n",
      "       3      4      5\n",
      "A  0.125  0.625  0.125\n",
      "B  0.375  0.125  0.125\n",
      "C  0.375  0.125  0.625\n",
      "-  0.125  0.125  0.125\n",
      "       5\n",
      "A  0.125\n",
      "B  0.125\n",
      "C  0.625\n",
      "-  0.125\n"
     ]
    }
   ],
   "source": [
    "#Computing wi(a)\n",
    "import pandas as pd\n",
    "\n",
    "def get_pwm(train_set, L, m, alphabet):\n",
    "    \"\"\"Input 1 : The MSA (see REMARK of the load_train function)\n",
    "    Input 2 : the MSA length\n",
    "    Input 3 : the MSA depth\n",
    "    Input 4 : the alphabet used (it must be an ordered collection of non-repeating characters)\n",
    "    Output 1 : position-weight matrix of shape (q, L) where q is len(alphabet)\"\"\"\n",
    "    # Your code...\n",
    "    \n",
    "    q = len(alphabet)\n",
    "    matrice = np.zeros((q,int(L)))\n",
    "#     print(matrice)\n",
    "# #     print(train_set)\n",
    "#     print(\"L\", L)\n",
    "#     print(\"m\", m)\n",
    "    \n",
    "    colonne = []\n",
    "    for i in range(int(L)):\n",
    "        colonne.append(str(i))\n",
    "#     print(\"colonne = \",colonne)\n",
    "    \n",
    "    PWM = pd.DataFrame(matrice, index = alphabet , columns = colonne)\n",
    "    \n",
    "    for seq in train_set: \n",
    "#         print(\"seq --> \", seq)\n",
    "        position = 0\n",
    "        for i in range(int(L)):\n",
    "            AA = seq[i]\n",
    "#             print(AA, \"str(seq.index(AA)\", str(seq.index(AA)), 'position = ', position)\n",
    "            PWM[str(position)][str(AA)]+=1\n",
    "            position += 1\n",
    "#         print(\"sortir\")\n",
    "    \n",
    "    PWM = (PWM+1)/(m+q)\n",
    "\n",
    "    return PWM\n",
    "    \n",
    "PWM = get_pwm(train_set, L, m, aa)\n",
    "print(PWM)\n",
    "\n",
    "\n",
    "\n",
    "# MANIPULER LES DATAFRAMES --> à enlever !!! \n",
    "po = 3\n",
    "AA = aa[2]\n",
    "print(PWM[str(po)][str(AA)], po, AA)\n",
    "# PWM[str('2')][str('A')] = 44\n",
    "print(\"PWM\\n\", PWM) # donc on met d'abord position puis la lettre de l'alphabet, ne pas oublier les ''\n",
    "print(\"\\n\\nPWM[str('2')][str('A')], po, AA --> \",PWM[str('2')][str('A')], po, AA)\n",
    "print(\"len(PWM) =\",len(PWM))\n",
    "print(\"\\n\\n\", PWM[str('2')])\n",
    "print(\"\\n\\n\", PWM[str('2')][str('A')])\n",
    "\n",
    "\n",
    "# poir sélectionner que CERTAINES  colonnes !!\n",
    "derived_df = PWM[['3', '4', '5']]\n",
    "print(derived_df)\n",
    "\n",
    "DErived_df = PWM[['5']]\n",
    "print(DErived_df)"
   ]
  },
  {
   "cell_type": "markdown",
   "metadata": {},
   "source": [
    "Exercise 2: Trouvez les positions les plus conservées en utilisant l’entropie relative.\n",
    "<br>\n",
    "2.1) Pour chaque position i = 0, ..., L − 1, determiner l’entropie relative Si<br>\n",
    "\\begin{equation*}\n",
    "\\label{eq:entropie}\n",
    "S_i = \\log_2(q) + \\sum_{a\\in {\\cal A}} \\omega_i(a)\\cdot \\log_2\\left[\\omega_i(a) \\right]\\ .\n",
    "\\end{equation*}\n",
    "<br>\n"
   ]
  },
  {
   "cell_type": "code",
   "execution_count": 51,
   "metadata": {},
   "outputs": [
    {
     "name": "stdout",
     "output_type": "stream",
     "text": [
      "q =  4\n",
      "math.log(q,2) =  2.0\n",
      "math.log(q, 10) =  0.6020599913279623\n",
      "len wi= 4   L = 6   q = 4\n",
      "\n",
      "\n",
      " Si =  [0.25       0.25       0.25       0.18872188 0.45120506 0.45120506]\n"
     ]
    }
   ],
   "source": [
    "import math \n",
    "print(\"q = \", q)\n",
    "print(\"math.log(q,2) = \", math.log(q,2))\n",
    "print(\"math.log(q, 10) = \", math.log(q,10))\n",
    "\n",
    "#Computing Si\n",
    "def si_calculate (wi):\n",
    "    \"\"\"Input 1 : Weight vector (of length q) representing column i of the MSA\n",
    "    Output 1 : Relative entropy of column i\"\"\"\n",
    "    \n",
    "    #Your code...\n",
    "    # à faire avec 2 boucles \n",
    "    \n",
    "    q = len(wi) # la longueur de l'alphabet\n",
    "    print (\"len wi=\",len(wi), \"  L =\", L, \"  q =\", q)\n",
    "    \n",
    "    si = np.zeros(int(L))\n",
    "    \n",
    "    for i in range (int(L)): \n",
    "#         print(\"i = \", i)\n",
    "        si[i] = math.log(q,2)\n",
    "#         print(\"si[\",i,\"] = \", si[i])\n",
    "        for j in range (q):\n",
    "#             print(\"j = \", j)\n",
    "            lettre = aa[j] \n",
    "#             print(\"lettre --> \", lettre )\n",
    "            w = wi[str(i)][str(lettre)]\n",
    "            si[i] += w * math.log(w,2)             \n",
    "    return si\n",
    "\n",
    "#Make a vector Si of length L containing the relative entropy of each position (column) of the MSA\n",
    "Si = si_calculate(PWM)\n",
    "print(\"\\n\\n Si = \", Si)"
   ]
  },
  {
   "cell_type": "markdown",
   "metadata": {},
   "source": [
    "2.2) Indiquez les acides aminees (ai*) des trois positions les plus conservées : \n",
    "\\begin{equation}\n",
    "\\label{eq:conserved}\n",
    "a_i^\\star = {\\rm argmax}_{a\\in {\\cal A}} \\omega_i(a)\\ .\n",
    "\\end{equation}"
   ]
  },
  {
   "cell_type": "code",
   "execution_count": 52,
   "metadata": {},
   "outputs": [
    {
     "name": "stdout",
     "output_type": "stream",
     "text": [
      "L = 6   q = 4\n",
      "all_aa initialisation = [0. 0. 0. 0. 0. 0.]\n",
      "all_aa = [0. 1. 1. 1. 0. 2.]\n",
      "aa = ['A', 'B', 'C', '-']\n",
      "lettre_aa =  ['A', 'B', 'B', 'B', 'A', 'C']\n",
      "les_max = [4, 5, 0, 1, 2, 3]\n",
      "indice =  3\n",
      "top_aa =  ['A', 'C', 'B']\n",
      "positions [4, 5, 1]\n",
      "positions_top_aa =  [4, 5, 1]\n",
      "\n",
      "\n",
      "top_aa ['A', 'C', 'B']\n",
      "['A', 'C', 'B']\n"
     ]
    }
   ],
   "source": [
    "#46 31 48 --> a w p Birsu         # j'ai mal noté, 48 n'existe pas !!! redemander aux filles\n",
    "# w g  p -->  isabelle --> plus vraissemblable selon les filles\n",
    "\n",
    "#computing ai*\n",
    "def get_aiStart(Si, PWM, naa):\n",
    "    \"\"\"Input 1 : Relative entropy vector of length L\n",
    "    Input 2 : position-weight matrix of shape (q, L)\n",
    "    Input 3 : 0 < int < q+1, specifying the number of top-conserved residues\n",
    "    Output 1 : list of length naa containing the amino acid type (char) of the \n",
    "    top-naa conserved columns\"\"\"\n",
    "    \n",
    "    #Your code...\n",
    "    L = len(Si)\n",
    "    q = len(aa)\n",
    "    print (\"L =\", L, \"  q =\", q)\n",
    "        \n",
    "    all_aa = np.zeros(L)\n",
    "    print(\"all_aa initialisation =\",all_aa)\n",
    "    \n",
    "    lettre_aa = [] # pour récupérer la valeur (lettre) avec la freq maximale à cette position\n",
    "    pourcent = [] # pour récupérer les valeurs qui sont dans PWM\n",
    "\n",
    "    \n",
    "    for i in range (L): \n",
    "        all_aa[i] = np.argmax(PWM[[str(i)]])\n",
    "    print(\"all_aa =\", all_aa) # pour chaque colonne, donne l'indice dans l'alphabet\n",
    "    print(\"aa =\", aa) # rappel de l'alphabet qu'on utilise\n",
    "    \n",
    "    \n",
    "    for i in all_aa:\n",
    "        lettre_aa.append(aa[int(i)]) \n",
    "#         print(\"lettre_aa = \", lettre_aa)\n",
    "    print(\"lettre_aa = \", lettre_aa)  \n",
    "   \n",
    "    \n",
    "#     tests manip DataFrame\n",
    "#     print(\"\\n\\nPWM\\n\",PWM)\n",
    "#     print(\"PWM[str('0')][str('A')] =  \", PWM[str('0')][str('A')])\n",
    "#     print(\"PWM[str('2')][str('A')] =  \", PWM[str('2')][str('A')])\n",
    "    \n",
    "    for k in range(L): \n",
    "        j = PWM[str(k)][str(lettre_aa[k])]\n",
    "#         print(\"j=\",j, \"  k = \", k, \" // lettre_aa[k] = \", lettre_aa[k] )\n",
    "        pourcent.append(j)\n",
    "#     print(\"pourcent = \",pourcent) \n",
    "    \n",
    "    \n",
    "    les_max = []\n",
    "    for i in range(L):\n",
    "        lm = np.argmax(pourcent)\n",
    "#         print(\"lm= \", lm)\n",
    "        les_max.append(lm)\n",
    "        pourcent[lm]=0\n",
    "#         print(\"pourcent new --> \", pourcent)\n",
    "    print(\"les_max =\", les_max) # donne les positions les plus conservées dans l'ordre croissant\n",
    "\n",
    "    \n",
    "#     les_max= np.argpartition(pourcent, naa)\n",
    "#     print(\"les_max avec argpartition\", les_max) # donne mauvais resultat !!!!! \n",
    "    \n",
    "    order_aa =[] # donne les AA aux positions les plus conservées dans l'ordre croissant\n",
    "    indice = 0\n",
    "    positions = []\n",
    "    if len(order_aa)<= naa: \n",
    "        for i in les_max:\n",
    "            aj = lettre_aa[i]\n",
    "            \n",
    "            if aj in order_aa: \n",
    "#                 print(\"dedans pour i\", i, \"soit aj\", aj)\n",
    "                continue\n",
    "            else:\n",
    "                order_aa.append(aj)\n",
    "                positions.append(i)\n",
    "            indice +=1\n",
    "        print(\"indice = \", indice)\n",
    "        print(\"top_aa = \", order_aa) \n",
    "    else: \n",
    "        print(\"else\", order_aa)\n",
    "    print(\"positions\", positions)\n",
    "    \n",
    "    top_aa = order_aa[:naa] # on ne conserve que les 3 premiers (dans le cas où naa = 3)\n",
    "    positions_top_aa = positions[:naa]\n",
    "    print(\"positions_top_aa = \",positions_top_aa)\n",
    "    print(\"\\n\\ntop_aa\", top_aa)\n",
    "    \n",
    "    \n",
    "    return top_aa\n",
    "\n",
    "print(get_aiStart(Si, PWM, 3))"
   ]
  },
  {
   "cell_type": "markdown",
   "metadata": {},
   "source": [
    "2.3) Tracer l’entropie rélative en fonction de chaque position i."
   ]
  },
  {
   "cell_type": "code",
   "execution_count": 53,
   "metadata": {},
   "outputs": [],
   "source": [
    "import matplotlib.pyplot as plt\n"
   ]
  },
  {
   "cell_type": "code",
   "execution_count": 54,
   "metadata": {},
   "outputs": [
    {
     "name": "stdout",
     "output_type": "stream",
     "text": [
      "positions =  [0, 1, 2, 3, 4, 5]\n",
      "Si =  [0.25       0.25       0.25       0.18872188 0.45120506 0.45120506]\n"
     ]
    },
    {
     "data": {
      "image/png": "[encoded data removed]",
      "text/plain": [
       "<Figure size 640x480 with 1 Axes>"
      ]
     },
     "metadata": {},
     "output_type": "display_data"
    }
   ],
   "source": [
    "#plot entropy\n",
    "def plot_entropy(Si):\n",
    "    \"\"\"For each of the L positions of the MSA, plot its entropy.\n",
    "    \n",
    "    BONUS : highlight the top-naa conserved sites, and print the\n",
    "    most abundant amino acid type on top of the naa identified positions\"\"\"\n",
    "    \n",
    "    #Your code...\n",
    "    l = len(Si)\n",
    "    \n",
    "    positions = []\n",
    "    for i in range (l): \n",
    "        positions.append(i)\n",
    "        \n",
    "    print(\"positions = \", positions)\n",
    "    print(\"Si = \", Si)\n",
    "    \n",
    "    plt.plot(positions,Si,color='green', marker='x',linewidth=2, markersize=12)\n",
    "    plt.xlabel(\"position\")\n",
    "    plt.ylabel(\"Entropie\")\n",
    "    plt.title(\"Entropie en fonction de la position\")\n",
    "    \n",
    "    \n",
    "    plt.savefig('entropy.png', dpi=300)\n",
    "    return\n",
    "\n",
    "test = plot_entropy(Si)"
   ]
  },
  {
   "cell_type": "markdown",
   "metadata": {},
   "source": [
    "Exercise 3: Déterminer les paramètres f(0)(b) du modèle nul, où\n",
    "\\begin{equation}\n",
    "f^{(0)}(b) = \\frac 1L \\sum_{i=0}^{L-1} \\omega_i(b)\\ ,\n",
    "\\end{equation}"
   ]
  },
  {
   "cell_type": "code",
   "execution_count": 55,
   "metadata": {},
   "outputs": [
    {
     "name": "stdout",
     "output_type": "stream",
     "text": [
      "6\n",
      "6\n",
      "{'A': 0.2708333333333333, 'B': 0.2916666666666667, 'C': 0.2708333333333333, '-': 0.16666666666666666}\n"
     ]
    }
   ],
   "source": [
    "#selon code d'Anastasia\n",
    "\n",
    "#computing f0\n",
    "def f0_calcule(PWM):\n",
    "    \"\"\"Input 1 : position-weight matrix of shape (q,L)\n",
    "    Output 1 : vector of size q containing the null model \"\"\"\n",
    "    print(L) # je trouve 6, pas une liste, donc je fais taille= L et pas taille = L[0]\n",
    "    taille = L\n",
    "    print(taille)\n",
    "    f_0={}\n",
    "    alphabet=list(PWM.index)\n",
    "    for e in alphabet:\n",
    "        for i in range(taille):\n",
    "            if e not in f_0:\n",
    "                f_0[e]=PWM[str(i)][e]\n",
    "            else:\n",
    "                f_0[e]+=PWM[str(i)][e]\n",
    "    #Your code...\n",
    "    for e in f_0:\n",
    "        f_0[e]=f_0[e]/6\n",
    "    return f_0\n",
    "\n",
    "f_0 = f0_calcule(PWM)\n",
    "print (f_0)\n",
    "#ACABBACCAC\n"
   ]
  },
  {
   "cell_type": "markdown",
   "metadata": {},
   "source": [
    "Exercise 4: (à appliquer à testseq.txt): Déterminer l(bi,...,bi+L−1)  pour chaque sous-séquence de longueur L. \n",
    "Déterminer si il y a des sous-séquences de la famille definie par Dtrain. \n",
    "Tracer la log-vraisemblance en fonction de sa première position i = 0, ..., N − L.\n",
    "\\begin{equation}\n",
    "\\label{eq:ll}\n",
    "\\ell(b_0,...,b_{L-1}) = \\log_2 \\frac {P(b_0,...,b_{L-1} | \\omega )\n",
    "}{P^{(0)}(b_0,...,b_{L-1})}\n",
    "= \\sum_{i=0}^{L-1} \\log_2 \\frac {\\omega_i(b_i)}{f^{(0)}(b_i)}\\ .\n",
    "\\end{equation}"
   ]
  },
  {
   "cell_type": "markdown",
   "metadata": {},
   "source": [
    "4.1: Faites une fonction pour calculer la log-vraisemblance, d'une séquence de taille L."
   ]
  },
  {
   "cell_type": "code",
   "execution_count": 56,
   "metadata": {},
   "outputs": [
    {
     "name": "stdout",
     "output_type": "stream",
     "text": [
      "L 6\n",
      "taille 6\n",
      "p 4.57763671875e-05\n",
      "p0 = 0.00045770120555317775\n",
      "-3.321731211631483\n"
     ]
    }
   ],
   "source": [
    "#computing log-likehood\n",
    "def loglikehood(seq, PWM, f_0, L):\n",
    "    \"\"\"Input 1 : sequence of which you want to calculate the log-likelihood\n",
    "    Input 2 : position-weight matrix of shape (q,L)\n",
    "    Input 3 : null model vector of length q\n",
    "    Input 4 : MSA length\n",
    "    Output 1 : log-likelihood of the sequence seq\"\"\"\n",
    "    p=1\n",
    "\n",
    "    print(\"L\", L)\n",
    "    taille=L\n",
    "    print(\"taille\", taille)\n",
    "\n",
    "    for i in range(0,taille):\n",
    "        p=p*PWM[str(i)][seq[i]]\n",
    "    print(\"p\",p)\n",
    "    p_0=1        \n",
    "    for e in seq:\n",
    "        p_0=p_0*f_0[e]\n",
    "    print(\"p0 =\",p_0)    \n",
    "    ll=math.log(p/p_0,2)\n",
    "    \n",
    "    return ll\n",
    "\n",
    "# Test the log-likelihood on the sequences of the data set\n",
    "# seq=\"ACABBA\"\n",
    "seq = ['A', 'C', 'A', 'B', 'B', 'A']\n",
    "ll=loglikehood(seq,PWM,f_0,L)\n",
    "print(ll)"
   ]
  },
  {
   "cell_type": "code",
   "execution_count": 57,
   "metadata": {},
   "outputs": [],
   "source": [
    "# #computing log-likehood\n",
    "# def loglikehood(seq, PWM, f_0, L):\n",
    "#     \"\"\"Input 1 : sequence of which you want to calculate the log-likelihood\n",
    "#     Input 2 : position-weight matrix of shape (q,L)\n",
    "#     Input 3 : null model vector of length q\n",
    "#     Input 4 : MSA length\n",
    "#     Output 1 : log-likelihood of the sequence seq\"\"\"\n",
    "    \n",
    "#     #Your code...\n",
    "    \n",
    "    \n",
    "#     return ll\n",
    "\n",
    "# # Test the log-likelihood on the sequences of the data set\n",
    "# fichier = \"test_seqToy.txt\" # pour le petit fichier\n",
    "# # fichier = \"testseq.txt\" # pour le grand fichier\n",
    "# seq = load_train(fichier)\n",
    "# print(seq)\n",
    "\n",
    "# LL_test = loglikehood (seq, PWM, f_0, L)"
   ]
  },
  {
   "cell_type": "markdown",
   "metadata": {},
   "source": [
    "4.2: Faites une fonction qui etant donné une séquence de taille supérieur à k génère toutes les sous-séquences de taille k. Avec cette fonction, trouvez toutes les sous-séquences de taille L de la séquence en testseq.txt"
   ]
  },
  {
   "cell_type": "code",
   "execution_count": 58,
   "metadata": {},
   "outputs": [
    {
     "name": "stdout",
     "output_type": "stream",
     "text": [
      "Liste_subseq =  [['A', 'C', 'A', 'B', 'B', 'A'], ['C', 'A', 'B', 'B', 'A', 'C'], ['A', 'B', 'B', 'A', 'C', 'C'], ['B', 'B', 'A', 'C', 'C', 'A'], ['B', 'A', 'C', 'C', 'A', 'C']]\n"
     ]
    }
   ],
   "source": [
    "#computing sliding_window \n",
    "def sliding_window (seq, k):\n",
    "    \"\"\"Input 1 : sequence of length > k\n",
    "    Input 2 : window length (int)\n",
    "    Output 1 : list of windows of length k generated from sequence seq\"\"\"\n",
    "    \n",
    "    #Your code...    \n",
    "    ma_seq = list(seq[0])\n",
    "    l = len(ma_seq)\n",
    "    \n",
    "    windows = []\n",
    "\n",
    "    for i in range(l-(L-1)):\n",
    "        liste = ma_seq[i:]\n",
    "        aa = liste[:L]\n",
    "        windows.append(aa) \n",
    "        \n",
    "    return windows\n",
    "\n",
    "# Find all subsequences of length L from the sequence in testseq.txt\n",
    "fichier = \"test_seqToy.txt\" # pour le petit fichier\n",
    "# fichier = \"testseq.txt\" # pour le grand fichier\n",
    "seq, L_seq, m_seq= load_train(fichier)\n",
    "\n",
    "Liste_subseq = sliding_window (seq, L)\n",
    "print(\"Liste_subseq = \",Liste_subseq)\n"
   ]
  },
  {
   "cell_type": "markdown",
   "metadata": {},
   "source": [
    "4.3: Calculer la log-vraisemblance pour toutes les sous-sequences trouvées en 4.2 et tracer un graphique de log-vraisemblance, avec en abscisse la position initiale de la sous-sequence."
   ]
  },
  {
   "cell_type": "code",
   "execution_count": 62,
   "metadata": {},
   "outputs": [
    {
     "name": "stdout",
     "output_type": "stream",
     "text": [
      "[]\n",
      "[]\n"
     ]
    }
   ],
   "source": [
    "#computing log-likelihood\n",
    "def likelihoodAllSousSeq(subseqs, PWM, f_0, k):\n",
    "    \"\"\"Input 1 : list of all subsequences of length k\n",
    "    Input 2 : position-weight matrix of length shape (q,k)\n",
    "    Input 3 : null model vector of length k\n",
    "    Input 4 : length of each subsequence\n",
    "    Output 1 : log-likelihood vector of length len(subseqs) - k + 1\n",
    "    \n",
    "    REMARK : The length of the subsequences must match the\n",
    "    number of columns in the PWM and the length of the null model!\"\"\"\n",
    "    \n",
    "    lhs=[]\n",
    "    for s in subseqs:\n",
    "        ll=loglikehood(s,PWM,f_0,k)\n",
    "        print(ll)\n",
    "        lhs.append(ll)\n",
    "    return lhs\n",
    "\n",
    "k=6\n",
    "seq=\"ACABBACCAC\"\n",
    "windows=sliding_window (seq, k)\n",
    "print(windows)\n",
    "lhs=likelihoodAllSousSeq(windows,PWM,f_0,k)\n",
    "print(lhs)\n",
    "#LL_all_sous_seq = likelihoodAllSousSeq (windows, PWM, f_0,k )\n",
    "\n",
    "def plot_likelihood(lhs):\n",
    "    \"\"\"Input 1 : log-likelihood vector\"\"\"\n",
    "    \n",
    "    plt.savefig('likelihood.png', dpi=300)\n",
    "    return\n"
   ]
  },
  {
   "cell_type": "code",
   "execution_count": 60,
   "metadata": {},
   "outputs": [],
   "source": [
    "#plotting log-likelihood for each initial position"
   ]
  },
  {
   "cell_type": "code",
   "execution_count": null,
   "metadata": {},
   "outputs": [],
   "source": []
  },
  {
   "cell_type": "code",
   "execution_count": null,
   "metadata": {},
   "outputs": [],
   "source": []
  },
  {
   "cell_type": "code",
   "execution_count": null,
   "metadata": {},
   "outputs": [],
   "source": []
  }
 ],
 "metadata": {
  "celltoolbar": "Raw Cell Format",
  "kernelspec": {
   "display_name": "Python 3 (ipykernel)",
   "language": "python",
   "name": "python3"
  },
  "language_info": {
   "codemirror_mode": {
    "name": "ipython",
    "version": 3
   },
   "file_extension": ".py",
   "mimetype": "text/x-python",
   "name": "python",
   "nbconvert_exporter": "python",
   "pygments_lexer": "ipython3",
   "version": "3.10.6"
  }
 },
 "nbformat": 4,
 "nbformat_minor": 2
}
