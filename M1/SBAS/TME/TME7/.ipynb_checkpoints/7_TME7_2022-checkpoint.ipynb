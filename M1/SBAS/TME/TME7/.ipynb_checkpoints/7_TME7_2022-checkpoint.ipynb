{
 "cells": [
  {
   "cell_type": "markdown",
   "metadata": {
    "id": "aLNONidXu4mV"
   },
   "source": [
    "<h1><b>Statistique en Bioinformatique : </b> TME7 </h1>\n",
    "<br>\n",
    "L’objectif de ce TME est: \n",
    "<br>\n",
    "<ul>\n",
    "<li> Construire un modèle d'une famille proteique avec HMM profil. Ce modèle facilite la reconnaissance des membres de la famille, en particulier les protéines les plus distantes (point de vue évolutif). </li> \n",
    "</ul>\n",
    "<br>\n",
    "<div class=\"alert alert-warning\" role=\"alert\" style=\"margin: 10px\">\n",
    "<p><b>Soumission</b></p>\n",
    "<ul>\n",
    "<li>Renomer le fichier TME7.ipynb pour NomEtudiant1_NomEtudiant2.ipynb </li>\n",
    "<li>Soumettre via moodle </li>\n",
    "</div>\n",
    "</div>\n"
   ]
  },
  {
   "cell_type": "markdown",
   "metadata": {
    "id": "l-l24NAzu4mY"
   },
   "source": [
    "Nom etudiant 1 :\n",
    "<br> Anastasia AZMOUDEH\n",
    "Nom etudiant 2 :\n",
    "<br> Késia DETHELOT-DELAG "
   ]
  },
  {
   "cell_type": "markdown",
   "metadata": {
    "id": "YM6uvdqFu4mY"
   },
   "source": [
    "---\n",
    "<h3> Preparation => Installer HMMer 2.3.2 </h3>\n",
    "\n",
    "---\n",
    "\n",
    "Nous allons travailler avec deux versions du logiciel HMMer: 2.3.2 et 3. Installez les deux versions dans deux répertoires différents. Tout d'abord, nous allons considérer la version 2.3.2<br><br>\n",
    "\n",
    "<h4>1- Installer la version 2.3.2</h4><br>\n",
    "Télécharger HMMer <a href=\"http://eddylab.org/software/hmmer/2.3/hmmer-2.3.tar.gz\">version 2.3.2</a> <br>\n",
    "Lisez les instructions et installez-le dans votre espace personnel. <br><br>\n",
    "\n",
    "<font face=\"monospace\">tar -xzf hmmer-2.3.tar.gz</font><br>\n",
    "<font face=\"monospace\">cd hmmer-2.3</font><br>\n",
    "<font face=\"monospace\">./configure --prefix=/home/yourUser/yourDirectory/hmmer-2.3</font><br>\n",
    "<font face=\"monospace\">make</font><br>\n",
    "\n",
    "<font color=\"red\"> Remplacez yourUser/yourDirectory par vos coordonnées personnels.</font>\n",
    "\n",
    "<h4>2 - Dans le terminal modifier le fichier .bashrc</h4> \n",
    "\n",
    "<font face=\"monospace\">cd \\$HOME </font><br>\n",
    "<font face=\"monospace\">gedit .bashrc </font><br>\n",
    "Ajouter la ligne suivante à votre fichier <font face=\"monospace\">.bashrc</font><br>\n",
    "<font face=\"monospace\">export PATH=/home/yourUser/yourDirectory/hmmer-2.3/src:${PATH}</font><br>\n",
    "\n",
    "<font color=\"red\"> Remplacez <font face=\"monospace\">yourUser/yourDirectory</font> par votre coordonnée personnelle.</font><br>\n",
    "Sauvergardez le fichier et taper dans le terminal <br>\n",
    "\n",
    "<font face=\"monospace\">cd $HOME</font><br>\n",
    "<font face=\"monospace\">source .bashrc </font><br>\n",
    "\n",
    "\n"
   ]
  },
  {
   "cell_type": "markdown",
   "metadata": {
    "id": "zK6Mo1Zvu4ma"
   },
   "source": [
    "<b>Exercice 1 </b>: <u>Zinc finger Pfam domain</u> <br>\n",
    "<b>1.1</b>: Construire le modèle HMMer pour le domaine Pfam Zinc finger, numéro d'accès PF00096. Pour cela, téléchargez l'alignement seed au format Stockholm depuis le site web de <a href=\"http://pfam.xfam.org/family/PF00096#tabview=tab3\">Pfam</a>. Construire le modèle HMMer avec les paramètres par défaut, enregistrer avec le nom PF00096.hmm"
   ]
  },
  {
   "cell_type": "markdown",
   "metadata": {
    "id": "-sl1IdsAu4mb"
   },
   "source": [
    "<b>1.2</b>: Utilisez le programme HMMeditor pour visualiser le modele PF00096.hmm et répondre aux questions.<br>\n",
    "<b>a)</b>: Combien d'états Match observez-vous?"
   ]
  },
  {
   "cell_type": "markdown",
   "metadata": {
    "id": "ZZFXpCDqu4mb"
   },
   "source": [
    "Reponse: \n",
    "<font color=\"blue\">\n",
    " On observe 26 états de Match.\n",
    "</font>"
   ]
  },
  {
   "cell_type": "markdown",
   "metadata": {
    "id": "yaw2lyjju4mb"
   },
   "source": [
    "<b>b)</b>: Pourquoi les états M3, M8, M12, M18, M21 et M26 ont une bordure en gras?"
   ]
  },
  {
   "cell_type": "markdown",
   "metadata": {
    "id": "j9uO9NlPu4mc"
   },
   "source": [
    "Reponse:\n",
    "<font color=\"blue\">\n",
    "A ces états, on observe une forte conservation pour un acide aminé donné.\n",
    "</font>\n",
    "\n",
    "\n"
   ]
  },
  {
   "cell_type": "markdown",
   "metadata": {
    "id": "r7zvcpICu4md"
   },
   "source": [
    "<b>c)</b>: Quelle est la probabilité de transition M5-> I5? "
   ]
  },
  {
   "cell_type": "markdown",
   "metadata": {
    "id": "yCIP2gsdu4me"
   },
   "source": [
    "Reponse:\n",
    "<font color=\"blue\">\n",
    "La probabilité est de 0.06.\n",
    "</font>"
   ]
  },
  {
   "cell_type": "markdown",
   "metadata": {
    "id": "tSQDkNTEu4me"
   },
   "source": [
    "<b>d)</b>: Quel est l'acide aminé le plus fréquent dans l'état I5?\n",
    "\n"
   ]
  },
  {
   "cell_type": "markdown",
   "metadata": {
    "id": "qpUrOJBPu4mf"
   },
   "source": [
    "Reponse: \n",
    "<font color=\"blue\">\n",
    "Les acides aminés les plus fréquents à I5 sont G (glycine) et S (sérine)  avec une probabilité de 0.09 chacun. \n",
    "</font>"
   ]
  },
  {
   "cell_type": "markdown",
   "metadata": {
    "id": "1ETNrrkLu4mf"
   },
   "source": [
    "<b>1.3</b>: Télécharger la séquence X6NX52 à <a href=\"http://www.uniprot.org/uniprot/X6NX52\">Uniprot</a>. Utilisez le programme <font face=\"monospace\">hmmsearch</font> pour localiser les domaines  Zinc finger dans la séquence X6NX52. Combien de domaines obtenez-vous? Comparez vos résultats avec les résultats de  <a href=\"http://pfam.xfam.org/protein/X6NX52_RETFI\">Pfam</a>. Avez-vous trouvé les mêmes domaines dans les mêmes positions? Expliquez votre réponse."
   ]
  },
  {
   "cell_type": "markdown",
   "metadata": {},
   "source": [
    "Reponse: \n",
    "<font color=\"blue\"><br>\n",
    "Avec le programme hmmsearch, on trouve 4 domaines aux positions 74-97, 101-125, 143-166 et 221-244. <br>\n",
    "Avec Pfam, on ne trouve que le domaine à la position 221-241, il est raccouci de 3 acides aminés par rapport aux résultats de hmmersearch. <br>\n",
    "Ces différences s'expliquent par le fait que la recherche avec hmmersearch est plus permissive, donc on détecte plus de domaines. \n",
    "    \n",
    "<font>"
   ]
  },
  {
   "cell_type": "markdown",
   "metadata": {
    "id": "ZkYeNgB_u4mg"
   },
   "source": [
    "<b>1.4</b>: Enregistrer la séquence du premier domaine, positions 74-97, dans un format fasta avec le nom de fichier dom1.fasta, supprimer les gaps de la séquence avant de l'enregistrer. Chargez le fichier dom1.fasta dans le programme HMMeditor et cliquez sur \"Align Path\". Qu'observez-vous? "
   ]
  },
  {
   "cell_type": "markdown",
   "metadata": {
    "id": "QeteLoAKu4mh"
   },
   "source": [
    "Reponse: \n",
    "<font color=\"blue\"> <br> On observe le chemin des états.\n",
    "    \n",
    "\n",
    "</font>\n",
    "\n",
    "\n"
   ]
  },
  {
   "cell_type": "markdown",
   "metadata": {
    "id": "I1KHtPi0u4mi"
   },
   "source": [
    "<b>1.5</b>: Modifiez le fichier dom1.fasta et ajouter le mot RWV après le mot TFR. Rechargez le fichier dans le programme HMMeditor et clique sur \"Align Path\". Qu'observez vous?"
   ]
  },
  {
   "cell_type": "markdown",
   "metadata": {
    "id": "V6VrEgKxu4mj"
   },
   "source": [
    "Reponse:<font color=\"blue\"><br>\n",
    "En ajoutant le mot RWW, on constate qu'on passe par état I (Insert) supplémentaire par rapport au HMM de la question 1.4\n",
    "Ce résultat est logique car on a ajouté un mot de 3 par rapport à la séquence question 1.4 .\n",
    "</font>\n"
   ]
  },
  {
   "cell_type": "markdown",
   "metadata": {
    "id": "5XTAXu6mu4mj"
   },
   "source": [
    "---\n",
    "<h3> Preparation => Installer HMMer 3 </h3>\n",
    "\n",
    "---\n",
    "\n",
    "Télécharger HMMer <a href=\"http://eddylab.org/software/hmmer3/3.1b2/hmmer-3.1b2.tar.gz\">version 3</a> <br>\n",
    "Lisez les instructions et installez-le dans votre espace personnel. <br>\n",
    "\n",
    "<font face=\"monospace\">tar -xzf hmmer-3.1b2.tar.gz</font><br>\n",
    "<font face=\"monospace\">cd hmmer-3.1b2</font><br>\n",
    "<font face=\"monospace\">./configure --prefix=/home/yourUser/yourDirectory/hmmer-3.1b2</font><br>\n",
    "<font face=\"monospace\">make</font><br>\n",
    "\n",
    "<font color=\"red\"> Remplacer yourUser/yourDirectory avec votre donnée personnelle.</font>\n",
    "\n",
    "<h4>-Dans le terminal modifier le fichier .bashrc</h4>\n",
    "\n",
    "<font face=\"monospace\">cd \\$HOME </font><br>\n",
    "<font face=\"monospace\">gedit .bashrc </font><br>\n",
    "Mettre en commentaire le export de hmmer-2.3 (utiliser # au début de la ligne) et ajouter la ligne suivante à votre fichier .bashrc<br>\n",
    "<font face=\"monospace\">export PATH=$PATH:/home/yourUser/yourDirectory/hmmer-3.1b2/src;</font>\n",
    "<font color=\"red\"> Remplacer yourUser/yourDirectory avec votre donnée personnelle.</font>\n",
    "Sauvegarder le fichier .bashrc et dans le terminal taper<br>\n",
    "<font face=\"monospace\">source .bashrc </font><br>"
   ]
  },
  {
   "cell_type": "markdown",
   "metadata": {
    "id": "gIm0giimu4mj"
   },
   "source": [
    "<b>Exercice 2 </b>: <u>Ubiquitin domain Pfam domain</u> <br>\n",
    "<b>2.1</b>: Construire le modèle HMMer pour le domaine Ubiquitin Pfam, accession number PF00240. Pour cela, téléchargez l'alignement seed au format Stockholm depuis le site web de  <a href=\"http://pfam.xfam.org/family/PF00240#tabview=tab3\">Pfam</a>. Construire le modèle hmmer avec les paramètres par défaut, enregistrer sous le nom PF00240.hmm. Combien d'états Match observez-vous?\n"
   ]
  },
  {
   "cell_type": "markdown",
   "metadata": {
    "id": "BTctd4qUu4mk"
   },
   "source": [
    "Reponse: \n",
    "<font color=\"blue\">\n",
    "<br> L'architecture comporte 72 élements. On sait que l'architecture définit le nombre de match, on observe donc 72 match.  \n",
    "\n",
    "</font>\n"
   ]
  },
  {
   "cell_type": "markdown",
   "metadata": {
    "id": "OFKOH34au4mk"
   },
   "source": [
    "<b>2.2</b>:\n",
    "Téléchargez toutes les séquences avec le domaine ubiquitin du site Pfam. Clique sur l'alignement, sur Format an alignment, sélectionnez Full, Format FASTA,  Gaps : No gaps unaligned. Enregistrez le fichier sous le nom PF00240_full.fasta. Combien de séquences observez-vous dans le fichier PF00240_full.fasta?"
   ]
  },
  {
   "cell_type": "code",
   "execution_count": 1,
   "metadata": {
    "id": "Pcdod2-wu4ml"
   },
   "outputs": [],
   "source": [
    "# #Read the fasta file\n",
    "# def read_fasta (input_f):\n",
    "#     \"\"\"\n",
    "#     Read a fasta file\n",
    "#     input1 input_f: fasta file name\n",
    "#     output1 arr_seqs: a two dimension array containing SeqID and amino acide sequence\n",
    "#     \"\"\"\n",
    "#     arr_seqs = []\n",
    "#     l=[]\n",
    "#     f=open(input_f)\n",
    "    \n",
    "#     for lines in f.readlines():\n",
    "        \n",
    "#         if lines[0]!=\">\":\n",
    "#             #print(lines)\n",
    "#             arr_seqs.append(lines)\n",
    "            \n",
    "#         else:\n",
    "#             continue  \n",
    "    \n",
    "#     return arr_seqs,l \n",
    "\n",
    "# input_PF00240_full = 'PF00240_full.fasta'\n",
    "# sequences_PF00240_full, names_PF00240_full = read_fasta (input_PF00240_full)\n",
    "\n",
    "# print(len(sequences_PF00240_full))"
   ]
  },
  {
   "cell_type": "code",
   "execution_count": 2,
   "metadata": {},
   "outputs": [
    {
     "name": "stdout",
     "output_type": "stream",
     "text": [
      "[['a', 'B', 'C'], ['z', 'zz', 'zzz']]\n",
      "2\n"
     ]
    }
   ],
   "source": [
    "a = [\"a\", \"B\", \"C\"]\n",
    "Z = [ \"z\",\"zz\", \"zzz\"]\n",
    "\n",
    "d = list ()\n",
    "d.append(a)\n",
    "d.append(Z)\n",
    "print(d)\n",
    "print(len(d))"
   ]
  },
  {
   "cell_type": "code",
   "execution_count": 3,
   "metadata": {
    "scrolled": true
   },
   "outputs": [
    {
     "name": "stdout",
     "output_type": "stream",
     "text": [
      "21402\n"
     ]
    }
   ],
   "source": [
    "#Read the fasta file\n",
    "def read_fasta (input_f):\n",
    "    \"\"\"\n",
    "    Read a fasta file\n",
    "    input1 input_f: fasta file name\n",
    "    output1 arr_seqs: a two dimension array containing SeqID and amino acide sequence\n",
    "    \"\"\"\n",
    "    arr_seqs = []\n",
    "    names = []\n",
    "    sequences = []\n",
    "    f = open(input_f)\n",
    "    une_seq = []\n",
    "    \n",
    "    for lines in f.readlines():\n",
    "        \n",
    "        if lines[0]== \">\":\n",
    "            sequences.append(une_seq) \n",
    "            une_seq = []\n",
    "            if lines[-1]==\"\\n\": \n",
    "                names.append(lines[1:-1])\n",
    "            else: \n",
    "                names.append(lines[1:])\n",
    "                \n",
    "        else:\n",
    "            if lines[-1]==\"\\n\": \n",
    "                une_seq.append(lines[:-1])\n",
    "            else: \n",
    "                une_seq.append(lines)\n",
    "            \n",
    "        \n",
    "        \n",
    "#     print(\"names\", names)\n",
    "\n",
    "    sequences.append(une_seq)\n",
    "    sequences = sequences[1:]\n",
    "    \n",
    "    nvlles_seq = []\n",
    "    for liste in sequences: \n",
    "        longueur = len(liste)\n",
    "#         test_list[5 : 8] = [''.join(test_list[5 : 8])]\n",
    "        liste = [''.join(liste[:longueur])]\n",
    "#         print(liste)\n",
    "        nvlles_seq.append(liste)\n",
    "    \n",
    "#     print(sequences[0]) \n",
    "#     print(nvlles_seq[0])\n",
    "#     print(len(nvlles_seq))\n",
    "    \n",
    "    \n",
    "    arr_seqs.append(nvlles_seq)\n",
    "    arr_seqs.append(names)\n",
    "    return arr_seqs \n",
    "\n",
    "\n",
    "\n",
    "input_PF00240_full = 'PF00240_full.fasta'\n",
    "sequences_PF00240_full, names_PF00240_full = read_fasta (input_PF00240_full)\n",
    "\n",
    "print(len(sequences_PF00240_full))\n",
    "\n",
    "\n",
    "# input_PF00240_full = 'PF00240_full.fasta'\n",
    "# PF00240_full = read_fasta (input_PF00240_full)\n",
    "\n",
    "# print(len(PF00240_full[0]))\n",
    "# print(len(PF00240_full[1]))\n",
    "# print(\"============================\")\n",
    "# print(PF00240_full[0][0],PF00240_full[1][0] )\n",
    "# print(PF00240_full[0][-1],PF00240_full[1][-1] )\n"
   ]
  },
  {
   "cell_type": "markdown",
   "metadata": {
    "id": "poZl4kXEu4mm"
   },
   "source": [
    "Reponse: <font color=\"blue\"> <br>\n",
    "Dans le fichier PF00240_full.fasta, on observe 21 402 séquences. \n",
    "</font>"
   ]
  },
  {
   "cell_type": "markdown",
   "metadata": {
    "id": "-IZk_GPeu4mm"
   },
   "source": [
    "<b>2.3</b>:\n",
    "Utilisez hmmsearch (default parameters) pour détecter les domaines ubiquitin dans le fichier PF00240_full.fasta. Utilisez l'option --domtblout pour enregistrer un fichier tabulaire, donnez le nom PF00240.domtb, répondre aux questions suivantes:"
   ]
  },
  {
   "cell_type": "code",
   "execution_count": 4,
   "metadata": {
    "id": "TRh42fFWu4mn"
   },
   "outputs": [
    {
     "name": "stdout",
     "output_type": "stream",
     "text": [
      "['R0KPY3_NOSB1/3-74', '-', '72', 'PF00240', '-', '72', '5.2e-36', '122.4', '0.5', '1', '1', '5.7e-36', '5.7e-36', '122.3', '0.5', '1', '72', '1', '72', '1', '72', '0.99', '-']\n"
     ]
    }
   ],
   "source": [
    "#Read the domtblout file\n",
    "def read_domtblout(input_f):\n",
    "    \"\"\"\n",
    "    load the results of domtblout file\n",
    "    input1 input_f: domtblout file name\n",
    "    output hits: a matrix containg hit information\n",
    "    \"\"\"\n",
    "   \n",
    "    hits = []\n",
    "    f=open(input_f)\n",
    "    for lines in f.readlines():\n",
    "        \n",
    "        if lines[0]=='#':\n",
    "            continue\n",
    "            \n",
    "        else:\n",
    "            hits.append(list(lines.split()))\n",
    "            \n",
    "    return hits \n",
    "\n",
    "input_domtblout = 'PF00240bis.domtb'\n",
    "hits_PF00240 = read_domtblout(input_domtblout)\n",
    "print (hits_PF00240[0])\n",
    "#['R0KPY3_NOSB1/3-74', '-', '72', 'PF00240', '-', '72', '5.2e-36', '122.4', '0.5', '1', '1', '5.7e-36', '5.7e-36', '122.3', '0.5', '1', '72', '1', '72', '1', '72', '0.99', '-\\n']"
   ]
  },
  {
   "cell_type": "markdown",
   "metadata": {
    "id": "qq4-WmIRu4mn"
   },
   "source": [
    "<b>a)</b>: Combien de domaines observez-vous dans le fichier PF00240.domtb? Comparez le nombre de domaines détectés avec le nombre attendu (question 2.2)"
   ]
  },
  {
   "cell_type": "code",
   "execution_count": 5,
   "metadata": {
    "id": "MOkYjsEou4mn"
   },
   "outputs": [
    {
     "data": {
      "text/plain": [
       "21435"
      ]
     },
     "execution_count": 5,
     "metadata": {},
     "output_type": "execute_result"
    }
   ],
   "source": [
    "#Some code if necessary\n",
    "len(hits_PF00240)"
   ]
  },
  {
   "cell_type": "markdown",
   "metadata": {
    "id": "coY9m7Y0u4mn"
   },
   "source": [
    "Reponse: \n",
    "<font color=\"blue\"> <br>\n",
    "Dans le fichier PF00240.domtb, on détecte 21 435 domaines. D'après la question 2.2, on s'attendait à 21 402 domaines. On a donc détecté 33 domaines en plus que les domaines attendus. On conjecture  que l'option domtblout permet de détecter plus précisément les doamines. \n",
    "</font>"
   ]
  },
  {
   "cell_type": "markdown",
   "metadata": {
    "id": "gMMWiN5ju4mo"
   },
   "source": [
    "<b>b)</b>: Quelle est le c-evaleus et les scores du meilleur et du pire hit?"
   ]
  },
  {
   "cell_type": "markdown",
   "metadata": {
    "id": "pAAWZzqOu4mo"
   },
   "source": [
    "Reponse:\n",
    "<font color=\"blue\"><br>\n",
    "La c-Evalue du pire hit est 5.2e-05.\n",
    "<br> La c-Evalue du pire meilleur est 5.7e-36.\n",
    "\n",
    "</font>"
   ]
  },
  {
   "cell_type": "code",
   "execution_count": 6,
   "metadata": {},
   "outputs": [
    {
     "name": "stdout",
     "output_type": "stream",
     "text": [
      "c-Evalue du pire hit est : 5.2e-05\n",
      "c-Evalue du pire meilleur est : 5.7e-36\n"
     ]
    }
   ],
   "source": [
    "import numpy as np\n",
    "Hits = np.asarray(hits_PF00240)\n",
    "\n",
    "Evalues = Hits[:,6]\n",
    "\n",
    "Evalues=Evalues.astype(float)\n",
    "# print(Evalues)\n",
    "\n",
    "mini=min(Evalues)\n",
    "maxi=max(Evalues)\n",
    "\n",
    "# print(\"MIN = \",min(Evalues))\n",
    "# print(\"MAX = \",max(Evalues))\n",
    "\n",
    "# print(\"Np.where\")\n",
    "# print(np.where(Evalues==maxi))\n",
    "# print(np.where(Evalues==mini))\n",
    "\n",
    "ind_maxi=np.where(Evalues==maxi)\n",
    "# print(ind_maxi[0][0])\n",
    "ind_worst = ind_maxi[0][0]\n",
    "print(\"c-Evalue du pire hit est :\",hits_PF00240[ind_worst][11])\n",
    "\n",
    "ind_mini=np.where(Evalues==mini)\n",
    "ind_best=ind_mini[0][0]\n",
    "print(\"c-Evalue du pire meilleur est :\",hits_PF00240[ind_best][11])"
   ]
  },
  {
   "cell_type": "markdown",
   "metadata": {
    "id": "iGu_Jub_u4mp"
   },
   "source": [
    "<b>c)</b>: Exécutez à nouveau hmmsearch et définissez le domain e-value à 1e-5. Combien de domaines observez-vous? Comparez le nombre de domaines détectés avec l'attendu (question 2.2) et obtenu dans la question a. Justifiez votre réponse."
   ]
  },
  {
   "cell_type": "code",
   "execution_count": 7,
   "metadata": {
    "id": "mo9j41fuu4mp"
   },
   "outputs": [
    {
     "data": {
      "text/plain": [
       "21340"
      ]
     },
     "execution_count": 7,
     "metadata": {},
     "output_type": "execute_result"
    }
   ],
   "source": [
    "#Some code if necessary\n",
    "input_domE = 'PF00240eval.domtb'\n",
    "hitsEval_PF00240 = read_domtblout(input_domE)\n",
    "len(hitsEval_PF00240)"
   ]
  },
  {
   "cell_type": "markdown",
   "metadata": {
    "id": "y0knOGJru4mp"
   },
   "source": [
    "Reponse:\n",
    "<font color=\"blue\"> <br>\n",
    "Cette fois-ci, on trouve 21 340 domaines avec un threshold e-value de 1e-5, c'est 95 domaines de moins que sans threshold (question a). En utilisant un threshold, on ne retient pas toutes les données. La quantité de domaines trouvés correspond toujours à un peu plus de la moitié des domaines attendus. \n",
    "\n",
    "<font>\n"
   ]
  },
  {
   "cell_type": "markdown",
   "metadata": {
    "id": "ZQ0XEFhfu4mq"
   },
   "source": [
    "<b>d)</b>:\n",
    "Téléchargez le modèle hmm pour le domaine ubiquitin depuis le site de Pfam. Clique sur \"Curation & model\" et sur \"download the raw HMM for this family\". Exécutez à nouveau hmmsearch avec l'option --cut_ga. Comparez le nombre de domaines détectés avec les questions précédentes. Qu'est-ce que cut_ga fait?"
   ]
  },
  {
   "cell_type": "code",
   "execution_count": 8,
   "metadata": {
    "id": "tJKkpKfXu4mq"
   },
   "outputs": [
    {
     "name": "stdout",
     "output_type": "stream",
     "text": [
      "21449\n"
     ]
    }
   ],
   "source": [
    "input_cutga = 'PF00240cutga.domtb'\n",
    "hitscutga_PF00240 = read_domtblout(input_cutga)\n",
    "print(len(hitscutga_PF00240)) # 21 449\n",
    "\n",
    "# input_cutgab = 'PF00240cutgabis.domtb' # document téléchargé en ligne  \n",
    "# hitscutgab_PF00240 = read_domtblout(input_cutgab)\n",
    "# print(len(hitscutgab_PF00240)) # 21 332\n",
    "\n",
    "#--cut_ga : use profile's GA gathering cutoffs to set all thresholding\n"
   ]
  },
  {
   "cell_type": "markdown",
   "metadata": {
    "id": "owZ8vyXAu4mq"
   },
   "source": [
    "Reponse: \n",
    "<font color=\"blue\">\n",
    "<br>\n",
    " On trouve, cette fois-ci, 21 449 domaines au lieu de 21435. L'option cut_ga permet de trouver des domaines que l'on n'avait pas détectés la première fois. En effet, cette option utilise le score de bits GA pour définir les seuils d'inclusion et de reporting par séquences et domaines. Or, les seuils GA sont plus fiables pour définir l'appartenance familiale. \n",
    "<font>"
   ]
  },
  {
   "cell_type": "markdown",
   "metadata": {
    "id": "2NuPAzasu4mr"
   },
   "source": [
    "<b>Exercice 3 </b>: <u>Cooccurrence de domaines</u> <br>\n",
    "Le domaine Ribosomal_S27 (PF01599) est très suivant trouvé avec le domaine de l'ubiquitine?  Allez sur le site Pfam, recherchez le domaine PF01599 et cliquez sur \"Domain Organisation\" recherchez le domaine ubiquitin dans la liste des architectures de domaine. Répondre aux question suivantes:<br>\n",
    "<b>3.1</b>:\n",
    "Si ces domaines coexistent, dans combien de séquences cette architecture de domaines est-elle observée? "
   ]
  },
  {
   "cell_type": "markdown",
   "metadata": {
    "id": "VrVyb9onu4mr"
   },
   "source": [
    "Reponse:\n",
    "<font color=\"blue\"><br>\n",
    "Les deux domaines Ribosomal_S27 (PF01599) et le domaine de l'ubiquitine coexistent dans 3 509 protéines. \n",
    "<font>"
   ]
  },
  {
   "cell_type": "markdown",
   "metadata": {
    "id": "GYsm0oYRu4ms"
   },
   "source": [
    "<b>3.2</b>: Vérifions si la séquence W4GKD7 décrite comme protéine ribosomale S27a de l'Ubiquitine-40S a l'architecture du domaine: ubiquitine, Ribosomal_S27. <br>\n",
    "- Téléchargez la séquence de W4GKD7 de <a href=\"http://www.uniprot.org/uniprot/W4GKD7\">Uniprot</a>  et téléchargez le modèle Ribosomal_S27 hmmer à partir du site Web Pfam.\n",
    "- Concattez les modèles ubiquitin.hmm et Ribosomal_S27.hmm, enregistrez le fichier sous Ribosomal_S27_ubiquitin.hmm.\n",
    "- Exécutez hmmsearch avec l'option --cut_ga pour rechercher des domaines dans W4GKD7, utilisez le modèle de fichier Ribosomal_S27_ubiquitin.hmm. Enregistrez la sortie au format tabulaire, utilisez l'option --domtblout pour enregistrer un fichier tabulaire, nommé W4GKD7.domtb\n",
    "- Analyser le fichier W4GKD7.domtb, avez-vous détecté les domaines Ribosomal_S27 et ubiquitin? Quels sont les scores et les e-values?"
   ]
  },
  {
   "cell_type": "markdown",
   "metadata": {
    "id": "iweuKqJlu4ms"
   },
   "source": [
    "Reponse:\n",
    "<font color=\"blue\"> <br> \n",
    "Les scores sont de:\n",
    "<br> -->  360.7 pour le domaine W4GKD7\n",
    "<br> -->  91.2 pour le domaine Ribosomal_S27 <br>\n",
    "<br> Les e-values sont de: \n",
    "<br> -->  3.8e-113  pour le domaine W4GKD7\n",
    "<br> -->  1.5e-30 pour le domaine Ribosomal_S27 <br>\n",
    "<font>\n"
   ]
  },
  {
   "cell_type": "markdown",
   "metadata": {
    "id": "M5bM2uq6u4ms"
   },
   "source": [
    "<b>3.3</b>: Visualisez l'architecture du domaine pour la protéine W4GKD7 en utilisant le programme  <a href=\"http://prosite.expasy.org/cgi-bin/prosite/mydomains/\">myDomains</a>; Remplissez la longueur de la protéine et les données de domaine. Vous pouvez trouver toutes les informations dans le fichier W4GKD7.domtb, choisir la forme et la couleur que vous préférez, inclure l'image dans votre reponse."
   ]
  },
  {
   "cell_type": "markdown",
   "metadata": {
    "id": "FLAeHDpCu4ms"
   },
   "source": [
    "Reponse: <font color=\"blue\"> \n",
    "<br> Le domaine PF00240 se situe à la position 3-74. <br> Le domaine Ribosomal_S27 se situe à la poisiton 102-147.\n",
    "<font>\n",
    "<img src=\"PSImage.png\" alt=\"Drawing\" style=\"width: 300px;\"/>"
   ]
  },
  {
   "cell_type": "markdown",
   "metadata": {
    "id": "2fF49WTMu4ms"
   },
   "source": [
    "<b>Exercice 4 </b>: <u>Domaines du même clan</u><br>\n",
    "Les familles de Pfam ayant des fonctions similaires sont suivant orgnisés dans un clan, c'est le cas des familles ubiquitin et ubiquitin_2 placé dans le clan CL0072.<br>\n",
    "<b>4.1</b>: Combien de membre exists dans le clans CL0072?"
   ]
  },
  {
   "cell_type": "markdown",
   "metadata": {
    "id": "r4aIFY9xu4ms"
   },
   "source": [
    "Reponse:<font color=\"blue\"> <br>\n",
    "Dans le clan CL0072, on compte 79 membres.\n",
    "<font>"
   ]
  },
  {
   "cell_type": "markdown",
   "metadata": {
    "id": "Skp5zOaUu4ms"
   },
   "source": [
    "<b>4.2</b>: Téléchargez le modèle hmm pour le domaine ubiquitin_2 depuis le site de Pfam. Clique sur \"Curation & model\" et sur \"download the raw HMM for this family\". Concatenez les modeles ubiquitin.hmm et ubiquitin_2.hmm and executez hmmsearch avec --cut_ga sur les sequences du fichier Uniprot_ubiquitin.fasta, utilizez l'option --domtblout pour enregistrer un fichier tabulaire. Repondrez aux questions:\n"
   ]
  },
  {
   "cell_type": "markdown",
   "metadata": {},
   "source": [
    "# <font color=\"red\"> questions 4.2 (a) et (b)!!!! "
   ]
  },
  {
   "cell_type": "markdown",
   "metadata": {
    "id": "5YGoZnPRu4ms"
   },
   "source": [
    "<b>a)</b>: Combien de sequences ont plus qu'un hit?"
   ]
  },
  {
   "cell_type": "code",
   "execution_count": 9,
   "metadata": {
    "scrolled": false
   },
   "outputs": [
    {
     "ename": "FileNotFoundError",
     "evalue": "[Errno 2] No such file or directory: 'Uniprot_ubiquitin.domtb'",
     "output_type": "error",
     "traceback": [
      "\u001b[1;31m---------------------------------------------------------------------------\u001b[0m",
      "\u001b[1;31mFileNotFoundError\u001b[0m                         Traceback (most recent call last)",
      "Input \u001b[1;32mIn [9]\u001b[0m, in \u001b[0;36m<cell line: 5>\u001b[1;34m()\u001b[0m\n\u001b[0;32m      1\u001b[0m \u001b[38;5;66;03m# une séquence a plusieurs hits si son nom apparait plusieurs fois dans la \u001b[39;00m\n\u001b[0;32m      2\u001b[0m \u001b[38;5;66;03m# colonne target name du fichier Uniprot_ubiquitin.domtb\u001b[39;00m\n\u001b[0;32m      4\u001b[0m fichier \u001b[38;5;241m=\u001b[39m \u001b[38;5;124m'\u001b[39m\u001b[38;5;124mUniprot_ubiquitin.domtb\u001b[39m\u001b[38;5;124m'\u001b[39m\n\u001b[1;32m----> 5\u001b[0m lecture \u001b[38;5;241m=\u001b[39m \u001b[43mread_domtblout\u001b[49m\u001b[43m(\u001b[49m\u001b[43mfichier\u001b[49m\u001b[43m)\u001b[49m\n\u001b[0;32m      6\u001b[0m \u001b[38;5;66;03m# print(lecture[0])\u001b[39;00m\n\u001b[0;32m      7\u001b[0m couple \u001b[38;5;241m=\u001b[39m (\u001b[38;5;28mint\u001b[39m(lecture[\u001b[38;5;241m0\u001b[39m][\u001b[38;5;241m19\u001b[39m]) , \u001b[38;5;28mint\u001b[39m(lecture[\u001b[38;5;241m0\u001b[39m][\u001b[38;5;241m20\u001b[39m]))\n",
      "Input \u001b[1;32mIn [4]\u001b[0m, in \u001b[0;36mread_domtblout\u001b[1;34m(input_f)\u001b[0m\n\u001b[0;32m      3\u001b[0m \u001b[38;5;124;03m\"\"\"\u001b[39;00m\n\u001b[0;32m      4\u001b[0m \u001b[38;5;124;03mload the results of domtblout file\u001b[39;00m\n\u001b[0;32m      5\u001b[0m \u001b[38;5;124;03minput1 input_f: domtblout file name\u001b[39;00m\n\u001b[0;32m      6\u001b[0m \u001b[38;5;124;03moutput hits: a matrix containg hit information\u001b[39;00m\n\u001b[0;32m      7\u001b[0m \u001b[38;5;124;03m\"\"\"\u001b[39;00m\n\u001b[0;32m      9\u001b[0m hits \u001b[38;5;241m=\u001b[39m []\n\u001b[1;32m---> 10\u001b[0m f\u001b[38;5;241m=\u001b[39m\u001b[38;5;28;43mopen\u001b[39;49m\u001b[43m(\u001b[49m\u001b[43minput_f\u001b[49m\u001b[43m)\u001b[49m\n\u001b[0;32m     11\u001b[0m \u001b[38;5;28;01mfor\u001b[39;00m lines \u001b[38;5;129;01min\u001b[39;00m f\u001b[38;5;241m.\u001b[39mreadlines():\n\u001b[0;32m     13\u001b[0m     \u001b[38;5;28;01mif\u001b[39;00m lines[\u001b[38;5;241m0\u001b[39m]\u001b[38;5;241m==\u001b[39m\u001b[38;5;124m'\u001b[39m\u001b[38;5;124m#\u001b[39m\u001b[38;5;124m'\u001b[39m:\n",
      "\u001b[1;31mFileNotFoundError\u001b[0m: [Errno 2] No such file or directory: 'Uniprot_ubiquitin.domtb'"
     ]
    }
   ],
   "source": [
    "# une séquence a plusieurs hits si son nom apparait plusieurs fois dans la \n",
    "# colonne target name du fichier Uniprot_ubiquitin.domtb\n",
    "\n",
    "fichier = 'Uniprot_ubiquitin.domtb'\n",
    "lecture = read_domtblout(fichier)\n",
    "# print(lecture[0])\n",
    "couple = (int(lecture[0][19]) , int(lecture[0][20]))\n",
    "print(couple)\n",
    "\n",
    "liste_noms = [] # colonne target name du fichier Uniprot_ubiquitin.domtb \n",
    "\n",
    "for i in range (len(lecture)): \n",
    "    liste_noms.append(lecture[i][0]) \n",
    "\n",
    "#print(noms)\n",
    "# print(len(noms))\n",
    "\n",
    "\n",
    "plusieurs = [] # liste contenant les séquences avec plusieurs hits\n",
    "for i in  (liste_noms): \n",
    "    nb = liste_noms.count(i)\n",
    "    \n",
    "    if nb > 1:\n",
    "        if i not in plusieurs: \n",
    "            plusieurs.append(i)\n",
    "        else: \n",
    "            continue\n",
    "\n",
    "        \n",
    "            \n",
    "print(\"Réponse :\",len(plusieurs), \"séquences contiennent plusieurs hits\")\n",
    "# print(plusieurs)\n"
   ]
  },
  {
   "cell_type": "code",
   "execution_count": 10,
   "metadata": {},
   "outputs": [
    {
     "name": "stdout",
     "output_type": "stream",
     "text": [
      "931\n",
      "152\n",
      "['tr|A0A182G3H1|A0A182G3H1_AEDAL', '-', '1369', 'W4GKD7', '-', '155', '0', '2601.4', '86.8', '1', '18', '5.5e-46', '5.5e-46', '147.6', '0.2', '1', '76', '1', '76', '1', '76', '0.99', 'Uncharacterized', 'protein', 'OS=Aedes', 'albopictus', 'OX=7160', 'PE=4', 'SV=1']\n",
      "{'tr|A0A182G3H1|A0A182G3H1_AEDAL': '18', 'tr|Q59EM9|Q59EM9_HUMAN': '17', 'tr|A0A0V0UP34|A0A0V0UP34_9BILA': '17', 'tr|F7IUE6|F7IUE6_ANOGA': '14', 'tr|Q8MSM5|Q8MSM5_DROME': '14', 'tr|B0W973|B0W973_CULQU': '14', 'tr|A4HFB9|A4HFB9_LEIBR': '14', 'tr|O35080|O35080_CRIGR': '14', 'tr|B4KXU3|B4KXU3_DROMO': '13', 'tr|A4HPM0|A4HPM0_LEIBR': '13', 'tr|A0A0Q9XB42|A0A0Q9XB42_DROMO': '12', 'tr|A0A161N0S0|A0A161N0S0_TRIIF': '12', 'tr|B4HTV7|B4HTV7_DROSE': '12', 'tr|F6H5Z7|F6H5Z7_VITVI': '12', 'tr|Q9XXZ6|Q9XXZ6_BOMMO': '12', 'tr|K7JAJ3|K7JAJ3_NASVI': '12', 'tr|H9IVY4|H9IVY4_BOMMO': '12', 'tr|G0MLK4|G0MLK4_CAEBE': '12', 'tr|E3LYQ5|E3LYQ5_CAERE': '12', 'tr|G0V1P8|G0V1P8_TRYCI': '13', 'tr|A0A0L7REF9|A0A0L7REF9_9HYME': '12', 'tr|O35079|O35079_CRIGR': '12', 'tr|T1FVF6|T1FVF6_HELRO': '11', 'tr|A0A0N5DTJ2|A0A0N5DTJ2_TRIMR': '11', 'tr|B3NFZ3|B3NFZ3_DROER': '11', 'tr|A0A069DWK5|A0A069DWK5_9HEMI': '11', 'tr|A0A0R1DX86|A0A0R1DX86_DROYA': '11', 'tr|B3M7Z7|B3M7Z7_DROAN': '11', 'tr|A0A0V0TBY2|A0A0V0TBY2_9BILA': '12', 'tr|A0A026WRG4|A0A026WRG4_OOCBI': '11', 'tr|E0VZ82|E0VZ82_PEDHC': '11', 'tr|Q4Q165|Q4Q165_LEIMA': '11', 'sp|P0CG71|UBIQ1_CAEEL': '11', 'tr|A0A072UMK2|A0A072UMK2_MEDTR': '11', 'tr|A0A0V0W2E7|A0A0V0W2E7_9BILA': '13', 'tr|A4HU11|A4HU11_LEIIN': '11', 'tr|U6KZM6|U6KZM6_EIMTE': '40'}\n",
      "\n",
      "\n",
      "séquences qui ont plus d'un hit 37\n"
     ]
    }
   ],
   "source": [
    "#input_exo4 = 'Uniprot_ubiquitin.domtb'\n",
    "input_exo4 = 'res.domtb'\n",
    "hits_exo4 = read_domtblout(input_exo4)\n",
    "print(len(hits_exo4)) # 931\n",
    "print(hits_exo4[1][20]) # 152\n",
    "\n",
    "print(hits_exo4[0])\n",
    "\n",
    "target_name=[]\n",
    "for line in hits_exo4:\n",
    "    target_name.append(line[0])\n",
    "    \n",
    "#print(target_name[0:5])\n",
    "\n",
    "Result ={}\n",
    "\n",
    "for i in range(len(target_name)):\n",
    "#     print(\"-------------\",len(target_name))\n",
    "    if target_name[i] in Result:\n",
    "        continue\n",
    "    else:\n",
    "        Result[target_name[i]]=hits_exo4[i][10]\n",
    "print(Result)\n",
    "print(\"\\n\")\n",
    "print(\"séquences qui ont plus d'un hit\",len(Result))"
   ]
  },
  {
   "cell_type": "markdown",
   "metadata": {
    "collapsed": true,
    "id": "5ssugoCFu4mt"
   },
   "source": [
    "Reponse: <font color=\"blue\"> \n",
    "37 séquences ont plusieurs hits.\n",
    "<font>"
   ]
  },
  {
   "cell_type": "markdown",
   "metadata": {
    "id": "IGx0cwmAu4mt"
   },
   "source": [
    "<b>b)</b>: Faite une fonction pour filtrer les meilleurs hits de protéines membre de ubiquitin à partir d'un fichier domtb. \n",
    "Si une séquence a plus qu'un hit dans de positions chevauchantes vous devez choisir le hit avec le meilleur c-evalue. \n",
    "Le début et fin de chaque hit se trouve dans les colonnes 20 et 21 du fichier de sortie de hmmsearch."
   ]
  },
  {
   "cell_type": "code",
   "execution_count": 11,
   "metadata": {},
   "outputs": [],
   "source": [
    "test = [(1, 76), (77, 152), (153, 228), (229, 304), (305, 380), (381, 456), (457, 532), (533, 608), (609, 684), (685, 760), (761, 836), (837, 912), (913, 988), (989, 1064), (1065, 1140), (1141, 1216), (1217, 1292), (1293, 1369), (2, 70), (77, 146), (153, 222), (229, 298), (305, 374), (381, 450), (457, 526), (533, 602), (609, 678), (685, 754), (761, 830), (837, 906), (913, 982), (989, 1058), (1065, 1134), (1141, 1210), (1217, 1286), (1293, 1362)]\n",
    "test2 = [(17, 92), (93, 168), (169, 244), (245, 320), (321, 396), (397, 472), (473, 548), (549, 624), (625, 700), (701, 776), (777, 852), (853, 928), (929, 1004), (1005, 1080), (1081, 1156), (1157, 1232), (1233, 1309), (15, 86), (93, 162), (169, 238), (245, 314), (321, 390), (397, 466), (473, 542), (549, 618), (625, 694), (701, 770), (777, 846), (853, 922), (929, 998), (1005, 1074), (1081, 1150), (1157, 1226), (1233, 1302)]\n",
    "\n",
    "# print(test[34][1])\n",
    "# print(test[35][0])\n",
    "\n",
    "# print(len(test))\n",
    "# print(len(test2))\n",
    "\n",
    "\n"
   ]
  },
  {
   "cell_type": "code",
   "execution_count": 13,
   "metadata": {},
   "outputs": [
    {
     "name": "stdout",
     "output_type": "stream",
     "text": [
      "3 [(2, 45), (17, 92), (93, 168), (169, 244), (245, 320)]\n",
      "T [(2, 45), (17, 92), (93, 168), (169, 244), (245, 320)]\n",
      "chevauchement\n",
      "45 17\n",
      "normal\n",
      "92 93\n",
      "normal\n",
      "168 169\n",
      "normal\n",
      "244 245\n"
     ]
    }
   ],
   "source": [
    "test3 = [(17, 92), (93, 168), (169, 244), (245, 320), (2,45)]\n",
    "test3.sort()\n",
    "T = test3\n",
    "print(\"3\",test3)\n",
    "#print(\"4\",test4)\n",
    "print('T', T)\n",
    "A = test3[2][1]\n",
    "B = test3[3][0]\n",
    "\n",
    "\n",
    "for i in range(1, len(test3)): \n",
    "    A = int(test3[i-1][1])\n",
    "    B = int(test3[i][0])\n",
    "    couple = (A , B)\n",
    "\n",
    "    if A < B: \n",
    "        print(\"normal\")\n",
    "    else: \n",
    "        print(\"chevauchement\")\n",
    "    print(A,B)"
   ]
  },
  {
   "cell_type": "code",
   "execution_count": 14,
   "metadata": {},
   "outputs": [
    {
     "name": "stdout",
     "output_type": "stream",
     "text": [
      "[(1, 76), (2, 70), (77, 152), (153, 228), (229, 304)]\n",
      "[(1, 76), (2, 70), (77, 152), (153, 228), (229, 304)]\n"
     ]
    }
   ],
   "source": [
    "r = [(1, 76), (77, 152), (153, 228), (229, 304),(2, 70)]\n",
    "r.sort()\n",
    "print(r)\n",
    "\n",
    "rr = [(1, 76), (77, 152), (153, 228), (229, 304),(2, 70)]\n",
    "rr.sort()\n",
    "b = rr\n",
    "print(b)"
   ]
  },
  {
   "cell_type": "code",
   "execution_count": 99,
   "metadata": {
    "id": "b2RdrPsOu4mu",
    "scrolled": true
   },
   "outputs": [
    {
     "name": "stdout",
     "output_type": "stream",
     "text": [
      "<class 'list'>\n",
      "=============================================================================\n",
      "------------------------------------------------------------------------------------------\n",
      "ordonnee\n",
      " [(1, 76), (2, 70), (77, 146), (77, 152), (153, 222), (153, 228), (229, 298), (229, 304), (305, 374), (305, 380), (381, 450), (381, 456), (457, 526), (457, 532), (533, 602), (533, 608), (609, 678), (609, 684), (685, 754), (685, 760), (761, 830), (761, 836), (837, 906), (837, 912), (913, 982), (913, 988), (989, 1058), (989, 1064), (1065, 1134), (1065, 1140), (1141, 1210), (1141, 1216), (1217, 1286), (1217, 1292), (1293, 1362), (1293, 1369)]\n",
      "LIEU [(1, 76, 2, 70), (77, 146, 77, 152), (153, 222, 153, 228), (229, 298, 229, 304), (305, 374, 305, 380), (381, 450, 381, 456), (457, 526, 457, 532), (533, 602, 533, 608), (609, 678, 609, 684), (685, 754, 685, 760), (761, 830, 761, 836), (837, 906, 837, 912), (913, 982, 913, 988), (989, 1058, 989, 1064), (1065, 1134, 1065, 1140), (1141, 1210, 1141, 1216), (1217, 1286, 1217, 1292), (1293, 1362, 1293, 1369)]\n",
      "nb de chevauchement(s) pour cette seq -->  18\n",
      "------------------------------------------------------------------------------------------\n",
      "ordonnee\n",
      " [(15, 86), (17, 92), (93, 162), (93, 168), (169, 238), (169, 244), (245, 314), (245, 320), (321, 390), (321, 396), (397, 466), (397, 472), (473, 542), (473, 548), (549, 618), (549, 624), (625, 694), (625, 700), (701, 770), (701, 776), (777, 846), (777, 852), (853, 922), (853, 928), (929, 998), (929, 1004), (1005, 1074), (1005, 1080), (1081, 1150), (1081, 1156), (1157, 1226), (1157, 1232), (1233, 1302), (1233, 1309)]\n",
      "LIEU [(15, 86, 17, 92), (93, 162, 93, 168), (169, 238, 169, 244), (245, 314, 245, 320), (321, 390, 321, 396), (397, 466, 397, 472), (473, 542, 473, 548), (549, 618, 549, 624), (625, 694, 625, 700), (701, 770, 701, 776), (777, 846, 777, 852), (853, 922, 853, 928), (929, 998, 929, 1004), (1005, 1074, 1005, 1080), (1081, 1150, 1081, 1156), (1157, 1226, 1157, 1232), (1233, 1302, 1233, 1309)]\n",
      "nb de chevauchement(s) pour cette seq -->  17\n",
      "------------------------------------------------------------------------------------------\n",
      "ordonnee\n",
      " [(1, 76), (2, 70), (77, 127), (77, 131), (128, 198), (129, 204), (205, 274), (205, 280), (281, 350), (281, 356), (357, 426), (357, 432), (433, 502), (433, 508), (509, 578), (509, 584), (585, 654), (585, 660), (661, 730), (661, 736), (737, 806), (737, 812), (813, 882), (813, 888), (889, 958), (889, 966), (965, 980), (975, 1022), (1023, 1092), (1023, 1098), (1099, 1168), (1099, 1177)]\n",
      "LIEU [(1, 76, 2, 70), (77, 127, 77, 131), (77, 131, 128, 198), (128, 198, 129, 204), (205, 274, 205, 280), (281, 350, 281, 356), (357, 426, 357, 432), (433, 502, 433, 508), (509, 578, 509, 584), (585, 654, 585, 660), (661, 730, 661, 736), (737, 806, 737, 812), (813, 882, 813, 888), (889, 958, 889, 966), (889, 966, 965, 980), (965, 980, 975, 1022), (1023, 1092, 1023, 1098), (1099, 1168, 1099, 1177)]\n",
      "nb de chevauchement(s) pour cette seq -->  18\n",
      "------------------------------------------------------------------------------------------\n",
      "ordonnee\n",
      " [(1, 76), (2, 70), (77, 146), (77, 152), (153, 222), (153, 228), (229, 298), (229, 304), (305, 374), (305, 380), (381, 450), (381, 456), (457, 526), (457, 532), (533, 602), (533, 608), (609, 678), (609, 684), (685, 754), (685, 760), (761, 830), (761, 836), (837, 906), (837, 912), (913, 982), (913, 988), (989, 1058), (989, 1065)]\n",
      "LIEU [(1, 76, 2, 70), (77, 146, 77, 152), (153, 222, 153, 228), (229, 298, 229, 304), (305, 374, 305, 380), (381, 450, 381, 456), (457, 526, 457, 532), (533, 602, 533, 608), (609, 678, 609, 684), (685, 754, 685, 760), (761, 830, 761, 836), (837, 906, 837, 912), (913, 982, 913, 988), (989, 1058, 989, 1065)]\n",
      "nb de chevauchement(s) pour cette seq -->  14\n",
      "------------------------------------------------------------------------------------------\n",
      "ordonnee\n",
      " [(1, 76), (2, 70), (77, 146), (77, 152), (153, 222), (153, 228), (229, 298), (229, 304), (305, 374), (305, 380), (381, 450), (381, 456), (457, 526), (457, 532), (533, 602), (533, 608), (609, 678), (609, 684), (685, 754), (685, 760), (761, 830), (761, 836), (837, 906), (837, 912), (913, 982), (913, 988), (989, 1058), (989, 1067)]\n",
      "LIEU [(1, 76, 2, 70), (77, 146, 77, 152), (153, 222, 153, 228), (229, 298, 229, 304), (305, 374, 305, 380), (381, 450, 381, 456), (457, 526, 457, 532), (533, 602, 533, 608), (609, 678, 609, 684), (685, 754, 685, 760), (761, 830, 761, 836), (837, 906, 837, 912), (913, 982, 913, 988), (989, 1058, 989, 1067)]\n",
      "nb de chevauchement(s) pour cette seq -->  14\n",
      "------------------------------------------------------------------------------------------\n",
      "ordonnee\n",
      " [(1, 76), (2, 70), (77, 146), (77, 152), (153, 222), (153, 228), (229, 298), (229, 304), (305, 374), (305, 380), (381, 450), (381, 456), (457, 526), (457, 532), (533, 602), (533, 608), (609, 678), (609, 684), (685, 754), (685, 760), (761, 830), (761, 836), (837, 906), (837, 912), (913, 982), (913, 988), (989, 1058), (989, 1065)]\n",
      "LIEU [(1, 76, 2, 70), (77, 146, 77, 152), (153, 222, 153, 228), (229, 298, 229, 304), (305, 374, 305, 380), (381, 450, 381, 456), (457, 526, 457, 532), (533, 602, 533, 608), (609, 678, 609, 684), (685, 754, 685, 760), (761, 830, 761, 836), (837, 906, 837, 912), (913, 982, 913, 988), (989, 1058, 989, 1065)]\n",
      "nb de chevauchement(s) pour cette seq -->  14\n",
      "------------------------------------------------------------------------------------------\n",
      "ordonnee\n",
      " [(1, 76), (2, 71), (77, 147), (77, 152), (153, 223), (153, 228), (229, 299), (229, 304), (305, 375), (305, 380), (381, 451), (381, 456), (457, 527), (457, 532), (533, 603), (533, 608), (609, 679), (609, 684), (685, 755), (685, 760), (761, 831), (761, 836), (837, 907), (837, 912), (913, 983), (913, 988), (989, 1058), (989, 1067)]\n",
      "LIEU [(1, 76, 2, 71), (77, 147, 77, 152), (153, 223, 153, 228), (229, 299, 229, 304), (305, 375, 305, 380), (381, 451, 381, 456), (457, 527, 457, 532), (533, 603, 533, 608), (609, 679, 609, 684), (685, 755, 685, 760), (761, 831, 761, 836), (837, 907, 837, 912), (913, 983, 913, 988), (989, 1058, 989, 1067)]\n",
      "nb de chevauchement(s) pour cette seq -->  14\n",
      "------------------------------------------------------------------------------------------\n",
      "ordonnee\n",
      " [(1, 76), (2, 70), (77, 146), (77, 152), (153, 222), (153, 228), (229, 298), (229, 304), (305, 374), (305, 380), (381, 450), (381, 456), (457, 526), (457, 532), (533, 602), (533, 608), (609, 678), (609, 684), (685, 754), (685, 760), (761, 830), (761, 836), (837, 906), (837, 912), (913, 982), (913, 988), (989, 1020)]\n",
      "LIEU [(1, 76, 2, 70), (77, 146, 77, 152), (153, 222, 153, 228), (229, 298, 229, 304), (305, 374, 305, 380), (381, 450, 381, 456), (457, 526, 457, 532), (533, 602, 533, 608), (609, 678, 609, 684), (685, 754, 685, 760), (761, 830, 761, 836), (837, 906, 837, 912), (913, 982, 913, 988)]\n",
      "nb de chevauchement(s) pour cette seq -->  13\n",
      "------------------------------------------------------------------------------------------\n",
      "ordonnee\n",
      " [(1, 76), (2, 70), (77, 146), (77, 152), (153, 222), (153, 228), (229, 298), (229, 304), (305, 374), (305, 380), (381, 450), (381, 456), (457, 526), (457, 532), (533, 602), (533, 608), (609, 678), (609, 684), (685, 754), (685, 760), (761, 830), (761, 836), (837, 906), (837, 912), (913, 982), (913, 991)]\n",
      "LIEU [(1, 76, 2, 70), (77, 146, 77, 152), (153, 222, 153, 228), (229, 298, 229, 304), (305, 374, 305, 380), (381, 450, 381, 456), (457, 526, 457, 532), (533, 602, 533, 608), (609, 678, 609, 684), (685, 754, 685, 760), (761, 830, 761, 836), (837, 906, 837, 912), (913, 982, 913, 991)]\n",
      "nb de chevauchement(s) pour cette seq -->  13\n",
      "------------------------------------------------------------------------------------------\n",
      "ordonnee\n",
      " [(1, 76), (2, 71), (77, 147), (77, 152), (153, 223), (153, 228), (229, 299), (229, 304), (305, 375), (305, 380), (381, 451), (381, 456), (457, 527), (457, 532), (533, 603), (533, 608), (609, 679), (609, 684), (685, 755), (685, 760), (761, 831), (761, 836), (837, 907), (837, 912), (913, 982), (913, 991)]\n",
      "LIEU [(1, 76, 2, 71), (77, 147, 77, 152), (153, 223, 153, 228), (229, 299, 229, 304), (305, 375, 305, 380), (381, 451, 381, 456), (457, 527, 457, 532), (533, 603, 533, 608), (609, 679, 609, 684), (685, 755, 685, 760), (761, 831, 761, 836), (837, 907, 837, 912), (913, 982, 913, 991)]\n",
      "nb de chevauchement(s) pour cette seq -->  13\n",
      "------------------------------------------------------------------------------------------\n",
      "ordonnee\n",
      " [(1, 76), (2, 70), (77, 146), (77, 152), (153, 222), (153, 228), (229, 298), (229, 304), (305, 374), (305, 380), (381, 450), (381, 456), (457, 526), (457, 532), (533, 602), (533, 608), (609, 678), (609, 684), (685, 754), (685, 760), (761, 830), (761, 836), (837, 906), (837, 915)]\n",
      "LIEU [(1, 76, 2, 70), (77, 146, 77, 152), (153, 222, 153, 228), (229, 298, 229, 304), (305, 374, 305, 380), (381, 450, 381, 456), (457, 526, 457, 532), (533, 602, 533, 608), (609, 678, 609, 684), (685, 754, 685, 760), (761, 830, 761, 836), (837, 906, 837, 915)]\n",
      "nb de chevauchement(s) pour cette seq -->  12\n",
      "------------------------------------------------------------------------------------------\n",
      "ordonnee\n",
      " [(1, 76), (2, 70), (77, 146), (77, 152), (153, 222), (153, 228), (229, 298), (229, 304), (305, 374), (305, 380), (381, 450), (381, 456), (457, 526), (457, 532), (533, 602), (533, 608), (609, 678), (609, 684), (685, 754), (685, 760), (761, 830), (761, 836), (837, 906), (837, 913)]\n",
      "LIEU [(1, 76, 2, 70), (77, 146, 77, 152), (153, 222, 153, 228), (229, 298, 229, 304), (305, 374, 305, 380), (381, 450, 381, 456), (457, 526, 457, 532), (533, 602, 533, 608), (609, 678, 609, 684), (685, 754, 685, 760), (761, 830, 761, 836), (837, 906, 837, 913)]\n",
      "nb de chevauchement(s) pour cette seq -->  12\n",
      "------------------------------------------------------------------------------------------\n",
      "ordonnee\n",
      " [(1, 76), (2, 70), (77, 146), (77, 152), (153, 222), (153, 228), (229, 298), (229, 304), (305, 374), (305, 380), (381, 450), (381, 456), (457, 526), (457, 532), (533, 602), (533, 608), (609, 678), (609, 684), (685, 754), (685, 760), (761, 830), (761, 836), (837, 906), (837, 915)]\n",
      "LIEU [(1, 76, 2, 70), (77, 146, 77, 152), (153, 222, 153, 228), (229, 298, 229, 304), (305, 374, 305, 380), (381, 450, 381, 456), (457, 526, 457, 532), (533, 602, 533, 608), (609, 678, 609, 684), (685, 754, 685, 760), (761, 830, 761, 836), (837, 906, 837, 915)]\n",
      "nb de chevauchement(s) pour cette seq -->  12\n",
      "------------------------------------------------------------------------------------------\n",
      "ordonnee\n",
      " [(13, 83), (14, 89), (90, 159), (90, 165), (166, 235), (166, 241), (242, 311), (242, 317), (318, 387), (318, 393), (394, 463), (394, 469), (470, 539), (470, 560), (609, 679), (610, 685), (686, 755), (686, 761), (762, 831), (762, 837), (838, 907), (838, 913), (914, 983), (914, 993)]\n",
      "LIEU [(13, 83, 14, 89), (90, 159, 90, 165), (166, 235, 166, 241), (242, 311, 242, 317), (318, 387, 318, 393), (394, 463, 394, 469), (470, 539, 470, 560), (609, 679, 610, 685), (686, 755, 686, 761), (762, 831, 762, 837), (838, 907, 838, 913), (914, 983, 914, 993)]\n",
      "nb de chevauchement(s) pour cette seq -->  12\n",
      "------------------------------------------------------------------------------------------\n",
      "ordonnee\n",
      " [(1, 76), (2, 70), (77, 146), (77, 152), (153, 222), (153, 228), (229, 298), (229, 304), (305, 374), (305, 380), (381, 450), (381, 456), (457, 526), (457, 532), (533, 602), (533, 608), (609, 678), (609, 684), (685, 754), (685, 760), (761, 830), (761, 836), (837, 906), (837, 913)]\n",
      "LIEU [(1, 76, 2, 70), (77, 146, 77, 152), (153, 222, 153, 228), (229, 298, 229, 304), (305, 374, 305, 380), (381, 450, 381, 456), (457, 526, 457, 532), (533, 602, 533, 608), (609, 678, 609, 684), (685, 754, 685, 760), (761, 830, 761, 836), (837, 906, 837, 913)]\n",
      "nb de chevauchement(s) pour cette seq -->  12\n",
      "------------------------------------------------------------------------------------------\n",
      "ordonnee\n",
      " [(1, 76), (2, 70), (77, 146), (77, 152), (153, 222), (153, 228), (229, 298), (229, 304), (305, 374), (305, 380), (381, 450), (381, 456), (457, 526), (457, 532), (533, 602), (533, 608), (609, 678), (609, 684), (685, 754), (685, 760), (761, 830), (761, 836), (837, 906), (837, 913)]\n",
      "LIEU [(1, 76, 2, 70), (77, 146, 77, 152), (153, 222, 153, 228), (229, 298, 229, 304), (305, 374, 305, 380), (381, 450, 381, 456), (457, 526, 457, 532), (533, 602, 533, 608), (609, 678, 609, 684), (685, 754, 685, 760), (761, 830, 761, 836), (837, 906, 837, 913)]\n",
      "nb de chevauchement(s) pour cette seq -->  12\n",
      "------------------------------------------------------------------------------------------\n",
      "ordonnee\n",
      " [(1, 76), (2, 70), (77, 146), (77, 152), (153, 222), (153, 228), (229, 298), (229, 304), (305, 374), (305, 380), (381, 450), (381, 456), (457, 526), (457, 532), (533, 602), (533, 608), (609, 678), (609, 684), (685, 754), (685, 760), (761, 830), (761, 836), (837, 906), (837, 913)]\n",
      "LIEU [(1, 76, 2, 70), (77, 146, 77, 152), (153, 222, 153, 228), (229, 298, 229, 304), (305, 374, 305, 380), (381, 450, 381, 456), (457, 526, 457, 532), (533, 602, 533, 608), (609, 678, 609, 684), (685, 754, 685, 760), (761, 830, 761, 836), (837, 906, 837, 913)]\n",
      "nb de chevauchement(s) pour cette seq -->  12\n",
      "------------------------------------------------------------------------------------------\n",
      "ordonnee\n",
      " [(57, 126), (57, 132), (133, 202), (133, 208), (209, 278), (209, 284), (285, 354), (285, 360), (361, 430), (361, 436), (437, 506), (437, 512), (513, 582), (513, 588), (589, 658), (589, 664), (665, 734), (665, 740), (741, 810), (741, 816), (817, 886), (817, 892), (893, 962), (893, 970)]\n",
      "LIEU [(57, 126, 57, 132), (133, 202, 133, 208), (209, 278, 209, 284), (285, 354, 285, 360), (361, 430, 361, 436), (437, 506, 437, 512), (513, 582, 513, 588), (589, 658, 589, 664), (665, 734, 665, 740), (741, 810, 741, 816), (817, 886, 817, 892), (893, 962, 893, 970)]\n",
      "nb de chevauchement(s) pour cette seq -->  12\n",
      "------------------------------------------------------------------------------------------\n",
      "ordonnee\n",
      " [(1, 76), (2, 70), (77, 146), (77, 152), (153, 222), (153, 228), (229, 298), (229, 304), (305, 374), (305, 380), (381, 450), (381, 456), (457, 526), (457, 532), (533, 608), (533, 614), (615, 684), (615, 690), (691, 760), (691, 766), (767, 836), (767, 842), (843, 912), (843, 920)]\n",
      "LIEU [(1, 76, 2, 70), (77, 146, 77, 152), (153, 222, 153, 228), (229, 298, 229, 304), (305, 374, 305, 380), (381, 450, 381, 456), (457, 526, 457, 532), (533, 608, 533, 614), (615, 684, 615, 690), (691, 760, 691, 766), (767, 836, 767, 842), (843, 912, 843, 920)]\n",
      "nb de chevauchement(s) pour cette seq -->  12\n",
      "------------------------------------------------------------------------------------------\n",
      "ordonnee\n",
      " [(1, 76), (2, 71), (77, 147), (77, 152), (153, 223), (153, 228), (229, 299), (229, 304), (305, 375), (305, 380), (381, 451), (381, 456), (457, 527), (457, 532), (533, 603), (533, 608), (609, 679), (609, 684), (685, 755), (685, 760), (761, 831), (761, 836), (837, 907), (837, 912), (913, 960)]\n",
      "LIEU [(1, 76, 2, 71), (77, 147, 77, 152), (153, 223, 153, 228), (229, 299, 229, 304), (305, 375, 305, 380), (381, 451, 381, 456), (457, 527, 457, 532), (533, 603, 533, 608), (609, 679, 609, 684), (685, 755, 685, 760), (761, 831, 761, 836), (837, 907, 837, 912)]\n",
      "nb de chevauchement(s) pour cette seq -->  12\n",
      "------------------------------------------------------------------------------------------\n",
      "ordonnee\n",
      " [(1, 76), (2, 70), (77, 146), (77, 152), (153, 222), (153, 228), (229, 298), (229, 304), (305, 374), (305, 380), (381, 450), (381, 456), (457, 526), (457, 532), (533, 602), (533, 608), (609, 678), (609, 684), (685, 754), (685, 760), (761, 830), (761, 836), (837, 906), (837, 938)]\n",
      "LIEU [(1, 76, 2, 70), (77, 146, 77, 152), (153, 222, 153, 228), (229, 298, 229, 304), (305, 374, 305, 380), (381, 450, 381, 456), (457, 526, 457, 532), (533, 602, 533, 608), (609, 678, 609, 684), (685, 754, 685, 760), (761, 830, 761, 836), (837, 906, 837, 938)]\n",
      "nb de chevauchement(s) pour cette seq -->  12\n",
      "------------------------------------------------------------------------------------------\n",
      "ordonnee\n",
      " [(1, 76), (2, 70), (77, 146), (77, 152), (153, 222), (153, 228), (229, 298), (229, 304), (305, 374), (305, 380), (381, 450), (381, 456), (457, 526), (457, 532), (533, 602), (533, 608), (609, 678), (609, 684), (685, 754), (685, 760), (761, 830), (761, 836), (837, 869)]\n",
      "LIEU [(1, 76, 2, 70), (77, 146, 77, 152), (153, 222, 153, 228), (229, 298, 229, 304), (305, 374, 305, 380), (381, 450, 381, 456), (457, 526, 457, 532), (533, 602, 533, 608), (609, 678, 609, 684), (685, 754, 685, 760), (761, 830, 761, 836)]\n",
      "nb de chevauchement(s) pour cette seq -->  11\n",
      "------------------------------------------------------------------------------------------\n",
      "ordonnee\n",
      " [(5, 74), (5, 80), (81, 150), (81, 156), (157, 226), (157, 232), (233, 302), (233, 308), (309, 378), (309, 384), (385, 454), (385, 460), (461, 530), (461, 536), (537, 606), (537, 612), (613, 682), (613, 688), (689, 758), (689, 764), (765, 834), (765, 841)]\n",
      "LIEU [(5, 74, 5, 80), (81, 150, 81, 156), (157, 226, 157, 232), (233, 302, 233, 308), (309, 378, 309, 384), (385, 454, 385, 460), (461, 530, 461, 536), (537, 606, 537, 612), (613, 682, 613, 688), (689, 758, 689, 764), (765, 834, 765, 841)]\n",
      "nb de chevauchement(s) pour cette seq -->  11\n",
      "------------------------------------------------------------------------------------------\n",
      "ordonnee\n",
      " [(1, 76), (2, 70), (77, 146), (77, 152), (153, 222), (153, 228), (229, 298), (229, 304), (305, 374), (305, 380), (381, 450), (381, 456), (457, 526), (457, 532), (533, 602), (533, 608), (609, 678), (609, 684), (685, 754), (685, 760), (761, 830), (761, 840)]\n",
      "LIEU [(1, 76, 2, 70), (77, 146, 77, 152), (153, 222, 153, 228), (229, 298, 229, 304), (305, 374, 305, 380), (381, 450, 381, 456), (457, 526, 457, 532), (533, 602, 533, 608), (609, 678, 609, 684), (685, 754, 685, 760), (761, 830, 761, 840)]\n",
      "nb de chevauchement(s) pour cette seq -->  11\n",
      "------------------------------------------------------------------------------------------\n",
      "ordonnee\n",
      " [(1, 76), (2, 70), (77, 146), (77, 152), (153, 222), (153, 228), (229, 298), (229, 304), (305, 374), (305, 380), (381, 450), (381, 456), (457, 526), (457, 532), (533, 602), (533, 608), (609, 678), (609, 684), (685, 754), (685, 760), (761, 830), (761, 839)]\n",
      "LIEU [(1, 76, 2, 70), (77, 146, 77, 152), (153, 222, 153, 228), (229, 298, 229, 304), (305, 374, 305, 380), (381, 450, 381, 456), (457, 526, 457, 532), (533, 602, 533, 608), (609, 678, 609, 684), (685, 754, 685, 760), (761, 830, 761, 839)]\n",
      "nb de chevauchement(s) pour cette seq -->  11\n",
      "------------------------------------------------------------------------------------------\n",
      "ordonnee\n",
      " [(1, 76), (2, 70), (77, 146), (77, 152), (153, 222), (153, 228), (229, 298), (229, 304), (305, 374), (305, 380), (381, 450), (381, 456), (457, 526), (457, 532), (533, 602), (533, 608), (609, 678), (609, 684), (685, 754), (685, 760), (761, 830), (761, 837)]\n",
      "LIEU [(1, 76, 2, 70), (77, 146, 77, 152), (153, 222, 153, 228), (229, 298, 229, 304), (305, 374, 305, 380), (381, 450, 381, 456), (457, 526, 457, 532), (533, 602, 533, 608), (609, 678, 609, 684), (685, 754, 685, 760), (761, 830, 761, 837)]\n",
      "nb de chevauchement(s) pour cette seq -->  11\n",
      "------------------------------------------------------------------------------------------\n",
      "ordonnee\n",
      " [(1, 76), (2, 70), (77, 146), (77, 152), (153, 222), (153, 228), (229, 298), (229, 304), (305, 374), (305, 380), (381, 450), (381, 456), (457, 526), (457, 532), (533, 602), (533, 608), (609, 678), (609, 684), (685, 754), (685, 760), (761, 830), (761, 839)]\n",
      "LIEU [(1, 76, 2, 70), (77, 146, 77, 152), (153, 222, 153, 228), (229, 298, 229, 304), (305, 374, 305, 380), (381, 450, 381, 456), (457, 526, 457, 532), (533, 602, 533, 608), (609, 678, 609, 684), (685, 754, 685, 760), (761, 830, 761, 839)]\n",
      "nb de chevauchement(s) pour cette seq -->  11\n",
      "------------------------------------------------------------------------------------------\n",
      "ordonnee\n",
      " [(1, 76), (2, 70), (77, 146), (77, 152), (153, 222), (153, 228), (229, 298), (229, 304), (305, 374), (305, 380), (381, 450), (381, 456), (457, 526), (457, 532), (533, 602), (533, 608), (609, 678), (609, 684), (685, 754), (685, 760), (761, 830), (761, 837)]\n",
      "LIEU [(1, 76, 2, 70), (77, 146, 77, 152), (153, 222, 153, 228), (229, 298, 229, 304), (305, 374, 305, 380), (381, 450, 381, 456), (457, 526, 457, 532), (533, 602, 533, 608), (609, 678, 609, 684), (685, 754, 685, 760), (761, 830, 761, 837)]\n",
      "nb de chevauchement(s) pour cette seq -->  11\n",
      "------------------------------------------------------------------------------------------\n",
      "ordonnee\n",
      " [(1, 76), (2, 70), (77, 146), (77, 152), (153, 222), (153, 228), (229, 298), (229, 304), (305, 374), (305, 380), (381, 450), (381, 456), (457, 526), (457, 564), (583, 656), (584, 650), (657, 704), (657, 749), (702, 755), (756, 825), (756, 831), (832, 901), (832, 913)]\n",
      "LIEU [(1, 76, 2, 70), (77, 146, 77, 152), (153, 222, 153, 228), (229, 298, 229, 304), (305, 374, 305, 380), (381, 450, 381, 456), (457, 526, 457, 564), (583, 656, 584, 650), (657, 704, 657, 749), (657, 749, 702, 755), (756, 825, 756, 831), (832, 901, 832, 913)]\n",
      "nb de chevauchement(s) pour cette seq -->  12\n",
      "------------------------------------------------------------------------------------------\n",
      "ordonnee\n",
      " [(1, 76), (2, 70), (77, 146), (77, 152), (153, 222), (153, 228), (229, 298), (229, 304), (305, 374), (305, 380), (381, 450), (381, 456), (457, 526), (457, 532), (533, 602), (533, 608), (609, 678), (609, 684), (685, 754), (685, 760), (761, 830), (761, 838)]\n",
      "LIEU [(1, 76, 2, 70), (77, 146, 77, 152), (153, 222, 153, 228), (229, 298, 229, 304), (305, 374, 305, 380), (381, 450, 381, 456), (457, 526, 457, 532), (533, 602, 533, 608), (609, 678, 609, 684), (685, 754, 685, 760), (761, 830, 761, 838)]\n",
      "nb de chevauchement(s) pour cette seq -->  11\n",
      "------------------------------------------------------------------------------------------\n",
      "ordonnee\n",
      " [(1, 76), (2, 70), (77, 146), (77, 152), (153, 222), (153, 228), (229, 298), (229, 304), (305, 374), (305, 380), (381, 450), (381, 457), (457, 527), (458, 533), (534, 603), (534, 609), (610, 679), (610, 685), (686, 755), (686, 761), (762, 831), (762, 841)]\n",
      "LIEU [(1, 76, 2, 70), (77, 146, 77, 152), (153, 222, 153, 228), (229, 298, 229, 304), (305, 374, 305, 380), (381, 450, 381, 457), (457, 527, 458, 533), (534, 603, 534, 609), (610, 679, 610, 685), (686, 755, 686, 761), (762, 831, 762, 841)]\n",
      "nb de chevauchement(s) pour cette seq -->  11\n",
      "------------------------------------------------------------------------------------------\n",
      "ordonnee\n",
      " [(1, 76), (2, 71), (77, 147), (77, 152), (153, 223), (153, 228), (229, 299), (229, 304), (305, 375), (305, 380), (381, 451), (381, 456), (457, 527), (457, 532), (533, 603), (533, 608), (609, 679), (609, 684), (685, 755), (685, 760), (761, 830), (761, 837)]\n",
      "LIEU [(1, 76, 2, 71), (77, 147, 77, 152), (153, 223, 153, 228), (229, 299, 229, 304), (305, 375, 305, 380), (381, 451, 381, 456), (457, 527, 457, 532), (533, 603, 533, 608), (609, 679, 609, 684), (685, 755, 685, 760), (761, 830, 761, 837)]\n",
      "nb de chevauchement(s) pour cette seq -->  11\n",
      "------------------------------------------------------------------------------------------\n",
      "ordonnee\n",
      " [(1, 76), (2, 70), (77, 146), (77, 152), (153, 222), (153, 228), (229, 298), (229, 304), (305, 374), (305, 380), (381, 456), (383, 450), (457, 526), (457, 532), (533, 602), (533, 608), (609, 678), (609, 684), (685, 754), (685, 760), (761, 830), (761, 838)]\n",
      "LIEU [(1, 76, 2, 70), (77, 146, 77, 152), (153, 222, 153, 228), (229, 298, 229, 304), (305, 374, 305, 380), (381, 456, 383, 450), (457, 526, 457, 532), (533, 602, 533, 608), (609, 678, 609, 684), (685, 754, 685, 760), (761, 830, 761, 838)]\n",
      "nb de chevauchement(s) pour cette seq -->  11\n",
      "------------------------------------------------------------------------------------------\n",
      "ordonnee\n",
      " [(1, 76), (2, 70), (77, 146), (77, 152), (153, 222), (153, 228), (229, 298), (229, 304), (305, 374), (305, 380), (381, 450), (381, 456), (457, 526), (457, 532), (533, 602), (533, 608), (609, 678), (609, 684), (685, 754), (685, 760), (761, 830), (761, 837)]\n",
      "LIEU [(1, 76, 2, 70), (77, 146, 77, 152), (153, 222, 153, 228), (229, 298, 229, 304), (305, 374, 305, 380), (381, 450, 381, 456), (457, 526, 457, 532), (533, 602, 533, 608), (609, 678, 609, 684), (685, 754, 685, 760), (761, 830, 761, 837)]\n",
      "nb de chevauchement(s) pour cette seq -->  11\n",
      "------------------------------------------------------------------------------------------\n",
      "ordonnee\n",
      " [(1, 27), (28, 97), (28, 103), (104, 173), (104, 179), (180, 249), (180, 255), (256, 325), (256, 331), (332, 401), (332, 407), (408, 477), (408, 500), (665, 721), (665, 724), (1058, 1128), (1059, 1134), (1135, 1204), (1135, 1210), (1211, 1280), (1211, 1286), (1287, 1356), (1287, 1362), (1363, 1379)]\n",
      "LIEU [(28, 97, 28, 103), (104, 173, 104, 179), (180, 249, 180, 255), (256, 325, 256, 331), (332, 401, 332, 407), (408, 477, 408, 500), (665, 721, 665, 724), (1058, 1128, 1059, 1134), (1135, 1204, 1135, 1210), (1211, 1280, 1211, 1286), (1287, 1356, 1287, 1362)]\n",
      "nb de chevauchement(s) pour cette seq -->  11\n",
      "------------------------------------------------------------------------------------------\n",
      "ordonnee\n",
      " [(4, 54), (55, 125), (55, 130), (131, 201), (131, 206), (207, 277), (207, 282), (283, 353), (283, 358), (359, 429), (359, 434), (435, 505), (435, 510), (511, 581), (511, 586), (587, 657), (587, 662), (663, 733), (663, 738), (739, 808), (739, 851)]\n",
      "LIEU [(55, 125, 55, 130), (131, 201, 131, 206), (207, 277, 207, 282), (283, 353, 283, 358), (359, 429, 359, 434), (435, 505, 435, 510), (511, 581, 511, 586), (587, 657, 587, 662), (663, 733, 663, 738), (739, 808, 739, 851)]\n",
      "nb de chevauchement(s) pour cette seq -->  10\n",
      "------------------------------------------------------------------------------------------\n",
      "ordonnee\n",
      " [(6, 52), (50, 81), (74, 110), (103, 139), (137, 168), (166, 197), (194, 226), (224, 255), (248, 284), (280, 314), (311, 342), (339, 371), (369, 400), (398, 429), (427, 458), (456, 486), (484, 516), (514, 545), (543, 574), (567, 603), (601, 632), (630, 661), (659, 690), (688, 719), (717, 749), (746, 777), (775, 806), (804, 835), (833, 864), (862, 894), (891, 922), (920, 951), (948, 980), (978, 1009), (1007, 1039), (1036, 1068), (1065, 1096), (1094, 1126), (1122, 1154), (1151, 1189)]\n",
      "LIEU [(6, 52, 50, 81), (50, 81, 74, 110), (74, 110, 103, 139), (103, 139, 137, 168), (137, 168, 166, 197), (166, 197, 194, 226), (194, 226, 224, 255), (224, 255, 248, 284), (248, 284, 280, 314), (280, 314, 311, 342), (311, 342, 339, 371), (339, 371, 369, 400), (369, 400, 398, 429), (398, 429, 427, 458), (427, 458, 456, 486), (456, 486, 484, 516), (484, 516, 514, 545), (514, 545, 543, 574), (543, 574, 567, 603), (567, 603, 601, 632), (601, 632, 630, 661), (630, 661, 659, 690), (659, 690, 688, 719), (688, 719, 717, 749), (717, 749, 746, 777), (746, 777, 775, 806), (775, 806, 804, 835), (804, 835, 833, 864), (833, 864, 862, 894), (862, 894, 891, 922), (891, 922, 920, 951), (920, 951, 948, 980), (948, 980, 978, 1009), (978, 1009, 1007, 1039), (1007, 1039, 1036, 1068), (1036, 1068, 1065, 1096), (1065, 1096, 1094, 1126), (1094, 1126, 1122, 1154), (1122, 1154, 1151, 1189)]\n",
      "nb de chevauchement(s) pour cette seq -->  39\n",
      "FIN ==> nb de chevauchement(s) pour cette seq 39\n",
      "\n",
      "\n",
      "Liste de liste avec tous les chevauchments !! \n",
      " dernier element de la seqeunce précédente + premier élement de la séquence suivant\n",
      " [[(76, 2), (146, 77), (222, 153), (298, 229), (374, 305), (450, 381), (526, 457), (602, 533), (678, 609), (754, 685), (830, 761), (906, 837), (982, 913), (1058, 989), (1134, 1065), (1210, 1141), (1286, 1217), (1362, 1293)], [(86, 17), (162, 93), (238, 169), (314, 245), (390, 321), (466, 397), (542, 473), (618, 549), (694, 625), (770, 701), (846, 777), (922, 853), (998, 929), (1074, 1005), (1150, 1081), (1226, 1157), (1302, 1233)], [(76, 2), (127, 77), (131, 128), (198, 129), (274, 205), (350, 281), (426, 357), (502, 433), (578, 509), (654, 585), (730, 661), (806, 737), (882, 813), (958, 889), (966, 965), (980, 975), (1092, 1023), (1168, 1099)], [(76, 2), (146, 77), (222, 153), (298, 229), (374, 305), (450, 381), (526, 457), (602, 533), (678, 609), (754, 685), (830, 761), (906, 837), (982, 913), (1058, 989)], [(76, 2), (146, 77), (222, 153), (298, 229), (374, 305), (450, 381), (526, 457), (602, 533), (678, 609), (754, 685), (830, 761), (906, 837), (982, 913), (1058, 989)], [(76, 2), (146, 77), (222, 153), (298, 229), (374, 305), (450, 381), (526, 457), (602, 533), (678, 609), (754, 685), (830, 761), (906, 837), (982, 913), (1058, 989)], [(76, 2), (147, 77), (223, 153), (299, 229), (375, 305), (451, 381), (527, 457), (603, 533), (679, 609), (755, 685), (831, 761), (907, 837), (983, 913), (1058, 989)], [(76, 2), (146, 77), (222, 153), (298, 229), (374, 305), (450, 381), (526, 457), (602, 533), (678, 609), (754, 685), (830, 761), (906, 837), (982, 913)], [(76, 2), (146, 77), (222, 153), (298, 229), (374, 305), (450, 381), (526, 457), (602, 533), (678, 609), (754, 685), (830, 761), (906, 837), (982, 913)], [(76, 2), (147, 77), (223, 153), (299, 229), (375, 305), (451, 381), (527, 457), (603, 533), (679, 609), (755, 685), (831, 761), (907, 837), (982, 913)], [(76, 2), (146, 77), (222, 153), (298, 229), (374, 305), (450, 381), (526, 457), (602, 533), (678, 609), (754, 685), (830, 761), (906, 837)], [(76, 2), (146, 77), (222, 153), (298, 229), (374, 305), (450, 381), (526, 457), (602, 533), (678, 609), (754, 685), (830, 761), (906, 837)], [(76, 2), (146, 77), (222, 153), (298, 229), (374, 305), (450, 381), (526, 457), (602, 533), (678, 609), (754, 685), (830, 761), (906, 837)], [(83, 14), (159, 90), (235, 166), (311, 242), (387, 318), (463, 394), (539, 470), (679, 610), (755, 686), (831, 762), (907, 838), (983, 914)], [(76, 2), (146, 77), (222, 153), (298, 229), (374, 305), (450, 381), (526, 457), (602, 533), (678, 609), (754, 685), (830, 761), (906, 837)], [(76, 2), (146, 77), (222, 153), (298, 229), (374, 305), (450, 381), (526, 457), (602, 533), (678, 609), (754, 685), (830, 761), (906, 837)], [(76, 2), (146, 77), (222, 153), (298, 229), (374, 305), (450, 381), (526, 457), (602, 533), (678, 609), (754, 685), (830, 761), (906, 837)], [(126, 57), (202, 133), (278, 209), (354, 285), (430, 361), (506, 437), (582, 513), (658, 589), (734, 665), (810, 741), (886, 817), (962, 893)], [(76, 2), (146, 77), (222, 153), (298, 229), (374, 305), (450, 381), (526, 457), (608, 533), (684, 615), (760, 691), (836, 767), (912, 843)], [(76, 2), (147, 77), (223, 153), (299, 229), (375, 305), (451, 381), (527, 457), (603, 533), (679, 609), (755, 685), (831, 761), (907, 837)], [(76, 2), (146, 77), (222, 153), (298, 229), (374, 305), (450, 381), (526, 457), (602, 533), (678, 609), (754, 685), (830, 761), (906, 837)], [(76, 2), (146, 77), (222, 153), (298, 229), (374, 305), (450, 381), (526, 457), (602, 533), (678, 609), (754, 685), (830, 761)], [(74, 5), (150, 81), (226, 157), (302, 233), (378, 309), (454, 385), (530, 461), (606, 537), (682, 613), (758, 689), (834, 765)], [(76, 2), (146, 77), (222, 153), (298, 229), (374, 305), (450, 381), (526, 457), (602, 533), (678, 609), (754, 685), (830, 761)], [(76, 2), (146, 77), (222, 153), (298, 229), (374, 305), (450, 381), (526, 457), (602, 533), (678, 609), (754, 685), (830, 761)], [(76, 2), (146, 77), (222, 153), (298, 229), (374, 305), (450, 381), (526, 457), (602, 533), (678, 609), (754, 685), (830, 761)], [(76, 2), (146, 77), (222, 153), (298, 229), (374, 305), (450, 381), (526, 457), (602, 533), (678, 609), (754, 685), (830, 761)], [(76, 2), (146, 77), (222, 153), (298, 229), (374, 305), (450, 381), (526, 457), (602, 533), (678, 609), (754, 685), (830, 761)], [(76, 2), (146, 77), (222, 153), (298, 229), (374, 305), (450, 381), (526, 457), (656, 584), (704, 657), (749, 702), (825, 756), (901, 832)], [(76, 2), (146, 77), (222, 153), (298, 229), (374, 305), (450, 381), (526, 457), (602, 533), (678, 609), (754, 685), (830, 761)], [(76, 2), (146, 77), (222, 153), (298, 229), (374, 305), (450, 381), (527, 458), (603, 534), (679, 610), (755, 686), (831, 762)], [(76, 2), (147, 77), (223, 153), (299, 229), (375, 305), (451, 381), (527, 457), (603, 533), (679, 609), (755, 685), (830, 761)], [(76, 2), (146, 77), (222, 153), (298, 229), (374, 305), (456, 383), (526, 457), (602, 533), (678, 609), (754, 685), (830, 761)], [(76, 2), (146, 77), (222, 153), (298, 229), (374, 305), (450, 381), (526, 457), (602, 533), (678, 609), (754, 685), (830, 761)], [(97, 28), (173, 104), (249, 180), (325, 256), (401, 332), (477, 408), (721, 665), (1128, 1059), (1204, 1135), (1280, 1211), (1356, 1287)], [(125, 55), (201, 131), (277, 207), (353, 283), (429, 359), (505, 435), (581, 511), (657, 587), (733, 663), (808, 739)], [(52, 50), (81, 74), (110, 103), (139, 137), (168, 166), (197, 194), (226, 224), (255, 248), (284, 280), (314, 311), (342, 339), (371, 369), (400, 398), (429, 427), (458, 456), (486, 484), (516, 514), (545, 543), (574, 567), (603, 601), (632, 630), (661, 659), (690, 688), (719, 717), (749, 746), (777, 775), (806, 804), (835, 833), (864, 862), (894, 891), (922, 920), (951, 948), (980, 978), (1009, 1007), (1039, 1036), (1068, 1065), (1096, 1094), (1126, 1122), (1154, 1151)]]\n"
     ]
    }
   ],
   "source": [
    "def best_hits(hits, eValue_thresh, overlap_thresh):\n",
    "    \"\"\"\n",
    "    Filtering the best hits\n",
    "    input1 hits: hit table (output of domtb file)\n",
    "    input2 eValue_thresh: E-value Threshold (default 1e-100)\n",
    "    input3 overlap_thresh: overlaping Threshold (default 10)\n",
    "    output1 meilleur_hits: filtered hit table \n",
    "    \"\"\"\n",
    "    meilleur_hits = []\n",
    "    \n",
    "    Dico = {}\n",
    "    for sequence in plusieurs:\n",
    "        liste = []\n",
    "        for i in range (len(hits)): \n",
    "            if hits[i][0] == sequence :\n",
    "                couple = (int(hits[i][19]) , int(hits[i][20]))\n",
    "                liste.append(couple)\n",
    "        Dico[sequence] = liste\n",
    "    \n",
    "#     print(Dico)\n",
    "    \n",
    "    \n",
    "    positions = list(Dico.values())\n",
    "    print(type(positions))\n",
    "#     print(positions)\n",
    "    \n",
    "    print(\"=============================================================================\")\n",
    "    chevauchement = 0 \n",
    "    C = []\n",
    "    \n",
    "    for pour_une_seq in positions: \n",
    "        chevauchement = 0 \n",
    "        print(\"------------------------------------------------------------------------------------------\")\n",
    "#         print(\"pour_une_seq\\n\",pour_une_seq)\n",
    "        \n",
    "        pour_une_seq.sort()\n",
    "        ordonnee = pour_une_seq\n",
    "#         print(\"pour_une_seq ORDONNEE \\n\",pour_une_seq)\n",
    "        print('ordonnee\\n', ordonnee)\n",
    "        C_seq = []\n",
    "        chevauchement_lieu = []\n",
    "        for i in range(1, len(ordonnee)): \n",
    "            avant = int(ordonnee[i-1][1])\n",
    "            apres = int(ordonnee[i][0])\n",
    "            couple = (avant , apres)\n",
    "            che = (ordonnee[i-1][0], ordonnee[i-1][1], ordonnee[i][0], ordonnee[i][1]) \n",
    "            if avant > apres:\n",
    "#                 print(\"ici\", i)\n",
    "#                 che = ([i-1][0], [i-1][1], [i][0], [i][1]) \n",
    "                C_seq.append(couple)\n",
    "                chevauchement_lieu.append(che)\n",
    "                chevauchement += 1\n",
    "            else: \n",
    "                continue\n",
    "                \n",
    "#         print(\"C_seq ==> \",C_seq)\n",
    "        print(\"LIEU\",chevauchement_lieu)\n",
    "        print(\"nb de chevauchement(s) pour cette seq --> \", chevauchement) \n",
    "            \n",
    "        C.append(C_seq) \n",
    "    print(\"FIN ==> nb de chevauchement(s) pour cette seq\", chevauchement) \n",
    "    print(\"\\n\\nListe de liste avec tous les chevauchments !! \\n dernier element de la seqeunce précédente + premier élement de la séquence suivant\\n\",C)\n",
    "    return meilleur_hits\n",
    "\n",
    "\n",
    "\n",
    "input_fasta = 'Uniprot_ubiquitin.fasta'\n",
    "sequences,seq_names = read_fasta (input_fasta)\n",
    "\n",
    "\n",
    "input_domtblout = 'Uniprot_ubiquitin.domtb'\n",
    "hits_ubiquitin = read_domtblout(input_domtblout)\n",
    "\n",
    "\n",
    "eValue_thresh = 8e-100\n",
    "overlap_thresh = 10\n",
    "\n",
    "meilleur_hits = best_hits(hits_ubiquitin, eValue_thresh, overlap_thresh)"
   ]
  },
  {
   "cell_type": "markdown",
   "metadata": {},
   "source": [
    "# <font color=\"orange\"> ANASTASIA"
   ]
  },
  {
   "cell_type": "code",
   "execution_count": null,
   "metadata": {},
   "outputs": [],
   "source": [
    "input_exo4 = 'res.domtb'\n",
    "hits_exo4 = read_domtblout(input_exo4)\n",
    "hits_dico={}\n",
    "\n",
    "for e in hits_exo4:\n",
    "    if e[0] not in hits_dico:\n",
    "        hits_dico[e[0]]=[(e[11],(e[19],e[20]))]\n",
    "    else:\n",
    "        hits_dico[e[0]].append((e[11],(e[19],e[20])))\n",
    "#print(hits_dico)\n",
    "\n",
    "dico_res={}\n",
    "res_l={}\n",
    "for key,val in hits_dico.items():\n",
    "    \n",
    "    for e in val:\n",
    "        \n",
    "        ev,pos=e\n",
    "        \n",
    "        if key not in res_l:\n",
    "            res_l[key]=[pos]\n",
    "        else:\n",
    "            res_l[key].append(pos)\n",
    "        \n",
    "        \n",
    "#print(res_l)\n",
    "for key,val in res_l.items():\n",
    "#     print(val[0])\n",
    "#     print(val[0][0])\n",
    "    for i in range(len(val)-1):\n",
    "        if int(val[i][1])> int(val[i+1][0]):\n",
    "            print(\"-------------------------------\")\n",
    "            print(\"key = \",key)\n",
    "            print(\"val =  \", val)\n",
    "            print(\"val[i] est = \",val[i])\n",
    "            print(\"val[i+1] est = \",val[i+1])\n",
    "            print(\"val[i][1] = \",val[i][1])\n",
    "            print(\"val[i+1][0] = \",val[i+1][0])\n",
    "            print(\"chevauchement\")\n",
    "            print(\"-------------------------------\")\n",
    "            print(\"\\n\")"
   ]
  },
  {
   "cell_type": "code",
   "execution_count": null,
   "metadata": {},
   "outputs": [],
   "source": []
  }
 ],
 "metadata": {
  "colab": {
   "collapsed_sections": [],
   "name": "TME8_corrige.ipynb",
   "provenance": []
  },
  "kernelspec": {
   "display_name": "Python 3 (ipykernel)",
   "language": "python",
   "name": "python3"
  },
  "language_info": {
   "codemirror_mode": {
    "name": "ipython",
    "version": 3
   },
   "file_extension": ".py",
   "mimetype": "text/x-python",
   "name": "python",
   "nbconvert_exporter": "python",
   "pygments_lexer": "ipython3",
   "version": "3.10.6"
  }
 },
 "nbformat": 4,
 "nbformat_minor": 1
}
