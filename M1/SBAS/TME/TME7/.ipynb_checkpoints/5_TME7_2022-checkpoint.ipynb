{
 "cells": [
  {
   "cell_type": "markdown",
   "metadata": {
    "id": "aLNONidXu4mV"
   },
   "source": [
    "<h1><b>Statistique en Bioinformatique : </b> TME7 </h1>\n",
    "<br>\n",
    "L’objectif de ce TME est: \n",
    "<br>\n",
    "<ul>\n",
    "<li> Construire un modèle d'une famille proteique avec HMM profil. Ce modèle facilite la reconnaissance des membres de la famille, en particulier les protéines les plus distantes (point de vue évolutif). </li> \n",
    "</ul>\n",
    "<br>\n",
    "<div class=\"alert alert-warning\" role=\"alert\" style=\"margin: 10px\">\n",
    "<p><b>Soumission</b></p>\n",
    "<ul>\n",
    "<li>Renomer le fichier TME7.ipynb pour NomEtudiant1_NomEtudiant2.ipynb </li>\n",
    "<li>Soumettre via moodle </li>\n",
    "</div>\n",
    "</div>\n"
   ]
  },
  {
   "cell_type": "markdown",
   "metadata": {
    "id": "l-l24NAzu4mY"
   },
   "source": [
    "Nom etudiant 1 :\n",
    "<br> Anastasia AZMOUDEH\n",
    "Nom etudiant 2 :\n",
    "<br> Késia DETHELOT-DELAG "
   ]
  },
  {
   "cell_type": "markdown",
   "metadata": {
    "id": "YM6uvdqFu4mY"
   },
   "source": [
    "---\n",
    "<h3> Preparation => Installer HMMer 2.3.2 </h3>\n",
    "\n",
    "---\n",
    "\n",
    "Nous allons travailler avec deux versions du logiciel HMMer: 2.3.2 et 3. Installez les deux versions dans deux répertoires différents. Tout d'abord, nous allons considérer la version 2.3.2<br><br>\n",
    "\n",
    "<h4>1- Installer la version 2.3.2</h4><br>\n",
    "Télécharger HMMer <a href=\"http://eddylab.org/software/hmmer/2.3/hmmer-2.3.tar.gz\">version 2.3.2</a> <br>\n",
    "Lisez les instructions et installez-le dans votre espace personnel. <br><br>\n",
    "\n",
    "<font face=\"monospace\">tar -xzf hmmer-2.3.tar.gz</font><br>\n",
    "<font face=\"monospace\">cd hmmer-2.3</font><br>\n",
    "<font face=\"monospace\">./configure --prefix=/home/yourUser/yourDirectory/hmmer-2.3</font><br>\n",
    "<font face=\"monospace\">make</font><br>\n",
    "\n",
    "<font color=\"red\"> Remplacez yourUser/yourDirectory par vos coordonnées personnels.</font>\n",
    "\n",
    "<h4>2 - Dans le terminal modifier le fichier .bashrc</h4> \n",
    "\n",
    "<font face=\"monospace\">cd \\$HOME </font><br>\n",
    "<font face=\"monospace\">gedit .bashrc </font><br>\n",
    "Ajouter la ligne suivante à votre fichier <font face=\"monospace\">.bashrc</font><br>\n",
    "<font face=\"monospace\">export PATH=/home/yourUser/yourDirectory/hmmer-2.3/src:${PATH}</font><br>\n",
    "\n",
    "<font color=\"red\"> Remplacez <font face=\"monospace\">yourUser/yourDirectory</font> par votre coordonnée personnelle.</font><br>\n",
    "Sauvergardez le fichier et taper dans le terminal <br>\n",
    "\n",
    "<font face=\"monospace\">cd $HOME</font><br>\n",
    "<font face=\"monospace\">source .bashrc </font><br>\n",
    "\n",
    "\n"
   ]
  },
  {
   "cell_type": "markdown",
   "metadata": {
    "id": "zK6Mo1Zvu4ma"
   },
   "source": [
    "<b>Exercice 1 </b>: <u>Zinc finger Pfam domain</u> <br>\n",
    "<b>1.1</b>: Construire le modèle HMMer pour le domaine Pfam Zinc finger, numéro d'accès PF00096. Pour cela, téléchargez l'alignement seed au format Stockholm depuis le site web de <a href=\"http://pfam.xfam.org/family/PF00096#tabview=tab3\">Pfam</a>. Construire le modèle HMMer avec les paramètres par défaut, enregistrer avec le nom PF00096.hmm"
   ]
  },
  {
   "cell_type": "markdown",
   "metadata": {
    "id": "-sl1IdsAu4mb"
   },
   "source": [
    "<b>1.2</b>: Utilisez le programme HMMeditor pour visualiser le modele PF00096.hmm et répondre aux questions.<br>\n",
    "<b>a)</b>: Combien d'états Match observez-vous?"
   ]
  },
  {
   "cell_type": "markdown",
   "metadata": {
    "id": "ZZFXpCDqu4mb"
   },
   "source": [
    "Reponse: \n",
    "<font color=\"blue\">\n",
    " On observe 26 états de Match.\n",
    "</font>"
   ]
  },
  {
   "cell_type": "markdown",
   "metadata": {
    "id": "yaw2lyjju4mb"
   },
   "source": [
    "<b>b)</b>: Pourquoi les états M3, M8, M12, M18, M21 et M26 ont une bordure en gras?"
   ]
  },
  {
   "cell_type": "markdown",
   "metadata": {
    "id": "j9uO9NlPu4mc"
   },
   "source": [
    "Reponse:\n",
    "<font color=\"blue\">\n",
    "A ces états, on observe une forte conservation pour un acide aminé donné.\n",
    "</font>\n",
    "\n",
    "\n"
   ]
  },
  {
   "cell_type": "markdown",
   "metadata": {
    "id": "r7zvcpICu4md"
   },
   "source": [
    "<b>c)</b>: Quelle est la probabilité de transition M5-> I5? "
   ]
  },
  {
   "cell_type": "markdown",
   "metadata": {
    "id": "yCIP2gsdu4me"
   },
   "source": [
    "Reponse:\n",
    "<font color=\"blue\">\n",
    "La probabilité est de 0.06.\n",
    "</font>"
   ]
  },
  {
   "cell_type": "markdown",
   "metadata": {
    "id": "tSQDkNTEu4me"
   },
   "source": [
    "<b>d)</b>: Quel est l'acide aminé le plus fréquent dans l'état I5?\n",
    "\n"
   ]
  },
  {
   "cell_type": "markdown",
   "metadata": {
    "id": "qpUrOJBPu4mf"
   },
   "source": [
    "Reponse: \n",
    "<font color=\"blue\">\n",
    "Les acides aminés les plus fréquents à I5 sont G (glycine) et S (sérine)  avec une probabilité de 0.09 chacun. \n",
    "</font>"
   ]
  },
  {
   "cell_type": "markdown",
   "metadata": {
    "id": "1ETNrrkLu4mf"
   },
   "source": [
    "<b>1.3</b>: Télécharger la séquence X6NX52 à <a href=\"http://www.uniprot.org/uniprot/X6NX52\">Uniprot</a>. Utilisez le programme <font face=\"monospace\">hmmsearch</font> pour localiser les domaines  Zinc finger dans la séquence X6NX52. Combien de domaines obtenez-vous? Comparez vos résultats avec les résultats de  <a href=\"http://pfam.xfam.org/protein/X6NX52_RETFI\">Pfam</a>. Avez-vous trouvé les mêmes domaines dans les mêmes positions? Expliquez votre réponse."
   ]
  },
  {
   "cell_type": "markdown",
   "metadata": {},
   "source": [
    "Reponse: \n",
    "<font color=\"blue\"><br>\n",
    "Avec le programme hmmsearch, on trouve 4 domaines aux positions 74-97, 101-125, 143-166 et 221-244. <br>\n",
    "Avec Pfam, on ne trouve que le domaine à la position 221-241, il est raccouci de 3 acides aminés par rapport aux résultats de hmmersearch. <br>\n",
    "Ces différences s'expliquent par le fait que la recherche avec hmmersearch est plus permissive, donc on détecte plus de domaines. \n",
    "    \n",
    "<font>"
   ]
  },
  {
   "cell_type": "markdown",
   "metadata": {
    "id": "ZkYeNgB_u4mg"
   },
   "source": [
    "<b>1.4</b>: Enregistrer la séquence du premier domaine, positions 74-97, dans un format fasta avec le nom de fichier dom1.fasta, supprimer les gaps de la séquence avant de l'enregistrer. Chargez le fichier dom1.fasta dans le programme HMMeditor et cliquez sur \"Align Path\". Qu'observez-vous? "
   ]
  },
  {
   "cell_type": "markdown",
   "metadata": {
    "id": "QeteLoAKu4mh"
   },
   "source": [
    "Reponse: \n",
    "<font color=\"blue\"> <br> On observe le chemin des états.\n",
    "    \n",
    "\n",
    "</font>\n",
    "\n",
    "\n"
   ]
  },
  {
   "cell_type": "markdown",
   "metadata": {
    "id": "I1KHtPi0u4mi"
   },
   "source": [
    "<b>1.5</b>: Modifiez le fichier dom1.fasta et ajouter le mot RWV après le mot TFR. Rechargez le fichier dans le programme HMMeditor et clique sur \"Align Path\". Qu'observez vous?"
   ]
  },
  {
   "cell_type": "markdown",
   "metadata": {
    "id": "V6VrEgKxu4mj"
   },
   "source": [
    "Reponse:<font color=\"blue\"><br>\n",
    "En ajoutant le mot RWW, on constate qu'on passe par état I (Insert) supplémentaire par rapport au HMM de la question 1.4\n",
    "Ce résultat est logique car on a ajouté un mot de 3 par rapport à la séquence question 1.4 .\n",
    "</font>\n"
   ]
  },
  {
   "cell_type": "markdown",
   "metadata": {
    "id": "5XTAXu6mu4mj"
   },
   "source": [
    "---\n",
    "<h3> Preparation => Installer HMMer 3 </h3>\n",
    "\n",
    "---\n",
    "\n",
    "Télécharger HMMer <a href=\"http://eddylab.org/software/hmmer3/3.1b2/hmmer-3.1b2.tar.gz\">version 3</a> <br>\n",
    "Lisez les instructions et installez-le dans votre espace personnel. <br>\n",
    "\n",
    "<font face=\"monospace\">tar -xzf hmmer-3.1b2.tar.gz</font><br>\n",
    "<font face=\"monospace\">cd hmmer-3.1b2</font><br>\n",
    "<font face=\"monospace\">./configure --prefix=/home/yourUser/yourDirectory/hmmer-3.1b2</font><br>\n",
    "<font face=\"monospace\">make</font><br>\n",
    "\n",
    "<font color=\"red\"> Remplacer yourUser/yourDirectory avec votre donnée personnelle.</font>\n",
    "\n",
    "<h4>-Dans le terminal modifier le fichier .bashrc</h4>\n",
    "\n",
    "<font face=\"monospace\">cd \\$HOME </font><br>\n",
    "<font face=\"monospace\">gedit .bashrc </font><br>\n",
    "Mettre en commentaire le export de hmmer-2.3 (utiliser # au début de la ligne) et ajouter la ligne suivante à votre fichier .bashrc<br>\n",
    "<font face=\"monospace\">export PATH=$PATH:/home/yourUser/yourDirectory/hmmer-3.1b2/src;</font>\n",
    "<font color=\"red\"> Remplacer yourUser/yourDirectory avec votre donnée personnelle.</font>\n",
    "Sauvegarder le fichier .bashrc et dans le terminal taper<br>\n",
    "<font face=\"monospace\">source .bashrc </font><br>"
   ]
  },
  {
   "cell_type": "markdown",
   "metadata": {
    "id": "gIm0giimu4mj"
   },
   "source": [
    "<b>Exercice 2 </b>: <u>Ubiquitin domain Pfam domain</u> <br>\n",
    "<b>2.1</b>: Construire le modèle HMMer pour le domaine Ubiquitin Pfam, accession number PF00240. Pour cela, téléchargez l'alignement seed au format Stockholm depuis le site web de  <a href=\"http://pfam.xfam.org/family/PF00240#tabview=tab3\">Pfam</a>. Construire le modèle hmmer avec les paramètres par défaut, enregistrer sous le nom PF00240.hmm. Combien d'états Match observez-vous?\n"
   ]
  },
  {
   "cell_type": "markdown",
   "metadata": {
    "id": "BTctd4qUu4mk"
   },
   "source": [
    "Reponse: \n",
    "<font color=\"blue\">\n",
    "<br> L'architecture comporte 72 élements. On sait que l'architecture définit le nombre de match, on observe donc 72 match.  \n",
    "\n",
    "</font>\n"
   ]
  },
  {
   "cell_type": "markdown",
   "metadata": {
    "id": "OFKOH34au4mk"
   },
   "source": [
    "<b>2.2</b>:\n",
    "Téléchargez toutes les séquences avec le domaine ubiquitin du site Pfam. Clique sur l'alignement, sur Format an alignment, sélectionnez Full, Format FASTA,  Gaps : No gaps unaligned. Enregistrez le fichier sous le nom PF00240_full.fasta. Combien de séquences observez-vous dans le fichier PF00240_full.fasta?"
   ]
  },
  {
   "cell_type": "code",
   "execution_count": 1,
   "metadata": {
    "id": "Pcdod2-wu4ml"
   },
   "outputs": [],
   "source": [
    "# #Read the fasta file\n",
    "# def read_fasta (input_f):\n",
    "#     \"\"\"\n",
    "#     Read a fasta file\n",
    "#     input1 input_f: fasta file name\n",
    "#     output1 arr_seqs: a two dimension array containing SeqID and amino acide sequence\n",
    "#     \"\"\"\n",
    "#     arr_seqs = []\n",
    "#     l=[]\n",
    "#     f=open(input_f)\n",
    "    \n",
    "#     for lines in f.readlines():\n",
    "        \n",
    "#         if lines[0]!=\">\":\n",
    "#             #print(lines)\n",
    "#             arr_seqs.append(lines)\n",
    "            \n",
    "#         else:\n",
    "#             continue  \n",
    "    \n",
    "#     return arr_seqs,l \n",
    "\n",
    "# input_PF00240_full = 'PF00240_full.fasta'\n",
    "# sequences_PF00240_full, names_PF00240_full = read_fasta (input_PF00240_full)\n",
    "\n",
    "# print(len(sequences_PF00240_full))"
   ]
  },
  {
   "cell_type": "code",
   "execution_count": 2,
   "metadata": {},
   "outputs": [
    {
     "name": "stdout",
     "output_type": "stream",
     "text": [
      "[['a', 'B', 'C'], ['z', 'zz', 'zzz']]\n",
      "2\n"
     ]
    }
   ],
   "source": [
    "a = [\"a\", \"B\", \"C\"]\n",
    "Z = [ \"z\",\"zz\", \"zzz\"]\n",
    "\n",
    "d = list ()\n",
    "d.append(a)\n",
    "d.append(Z)\n",
    "print(d)\n",
    "print(len(d))"
   ]
  },
  {
   "cell_type": "code",
   "execution_count": 3,
   "metadata": {
    "scrolled": true
   },
   "outputs": [
    {
     "name": "stdout",
     "output_type": "stream",
     "text": [
      "21402\n"
     ]
    }
   ],
   "source": [
    "#Read the fasta file\n",
    "def read_fasta (input_f):\n",
    "    \"\"\"\n",
    "    Read a fasta file\n",
    "    input1 input_f: fasta file name\n",
    "    output1 arr_seqs: a two dimension array containing SeqID and amino acide sequence\n",
    "    \"\"\"\n",
    "    arr_seqs = []\n",
    "    names = []\n",
    "    sequences = []\n",
    "    f = open(input_f)\n",
    "    une_seq = []\n",
    "    \n",
    "    for lines in f.readlines():\n",
    "        \n",
    "        if lines[0]== \">\":\n",
    "            sequences.append(une_seq) \n",
    "            une_seq = []\n",
    "            if lines[-1]==\"\\n\": \n",
    "                names.append(lines[1:-1])\n",
    "            else: \n",
    "                names.append(lines[1:])\n",
    "                \n",
    "        else:\n",
    "            if lines[-1]==\"\\n\": \n",
    "                une_seq.append(lines[:-1])\n",
    "            else: \n",
    "                une_seq.append(lines)\n",
    "            \n",
    "        \n",
    "        \n",
    "#     print(\"names\", names)\n",
    "\n",
    "    sequences.append(une_seq)\n",
    "    sequences = sequences[1:]\n",
    "    \n",
    "    nvlles_seq = []\n",
    "    for liste in sequences: \n",
    "        longueur = len(liste)\n",
    "#         test_list[5 : 8] = [''.join(test_list[5 : 8])]\n",
    "        liste = [''.join(liste[:longueur])]\n",
    "#         print(liste)\n",
    "        nvlles_seq.append(liste)\n",
    "    \n",
    "#     print(sequences[0]) \n",
    "#     print(nvlles_seq[0])\n",
    "#     print(len(nvlles_seq))\n",
    "    \n",
    "    \n",
    "    arr_seqs.append(nvlles_seq)\n",
    "    arr_seqs.append(names)\n",
    "    return arr_seqs \n",
    "\n",
    "\n",
    "\n",
    "input_PF00240_full = 'PF00240_full.fasta'\n",
    "sequences_PF00240_full, names_PF00240_full = read_fasta (input_PF00240_full)\n",
    "\n",
    "print(len(sequences_PF00240_full))\n",
    "\n",
    "\n",
    "# input_PF00240_full = 'PF00240_full.fasta'\n",
    "# PF00240_full = read_fasta (input_PF00240_full)\n",
    "\n",
    "# print(len(PF00240_full[0]))\n",
    "# print(len(PF00240_full[1]))\n",
    "# print(\"============================\")\n",
    "# print(PF00240_full[0][0],PF00240_full[1][0] )\n",
    "# print(PF00240_full[0][-1],PF00240_full[1][-1] )\n"
   ]
  },
  {
   "cell_type": "markdown",
   "metadata": {
    "id": "poZl4kXEu4mm"
   },
   "source": [
    "Reponse: <font color=\"blue\"> <br>\n",
    "Dans le fichier PF00240_full.fasta, on observe 21 402 séquences. \n",
    "</font>"
   ]
  },
  {
   "cell_type": "markdown",
   "metadata": {
    "id": "-IZk_GPeu4mm"
   },
   "source": [
    "<b>2.3</b>:\n",
    "Utilisez hmmsearch (default parameters) pour détecter les domaines ubiquitin dans le fichier PF00240_full.fasta. Utilisez l'option --domtblout pour enregistrer un fichier tabulaire, donnez le nom PF00240.domtb, répondre aux questions suivantes:"
   ]
  },
  {
   "cell_type": "code",
   "execution_count": 4,
   "metadata": {
    "id": "TRh42fFWu4mn"
   },
   "outputs": [
    {
     "name": "stdout",
     "output_type": "stream",
     "text": [
      "['R0KPY3_NOSB1/3-74', '-', '72', 'PF00240', '-', '72', '5.2e-36', '122.4', '0.5', '1', '1', '5.7e-36', '5.7e-36', '122.3', '0.5', '1', '72', '1', '72', '1', '72', '0.99', '-']\n"
     ]
    }
   ],
   "source": [
    "#Read the domtblout file\n",
    "def read_domtblout(input_f):\n",
    "    \"\"\"\n",
    "    load the results of domtblout file\n",
    "    input1 input_f: domtblout file name\n",
    "    output hits: a matrix containg hit information\n",
    "    \"\"\"\n",
    "   \n",
    "    hits = []\n",
    "    f=open(input_f)\n",
    "    for lines in f.readlines():\n",
    "        \n",
    "        if lines[0]=='#':\n",
    "            continue\n",
    "            \n",
    "        else:\n",
    "            hits.append(list(lines.split()))\n",
    "            \n",
    "    return hits \n",
    "\n",
    "input_domtblout = 'PF00240bis.domtb'\n",
    "hits_PF00240 = read_domtblout(input_domtblout)\n",
    "print (hits_PF00240[0])\n",
    "#['R0KPY3_NOSB1/3-74', '-', '72', 'PF00240', '-', '72', '5.2e-36', '122.4', '0.5', '1', '1', '5.7e-36', '5.7e-36', '122.3', '0.5', '1', '72', '1', '72', '1', '72', '0.99', '-\\n']"
   ]
  },
  {
   "cell_type": "markdown",
   "metadata": {
    "id": "qq4-WmIRu4mn"
   },
   "source": [
    "<b>a)</b>: Combien de domaines observez-vous dans le fichier PF00240.domtb? Comparez le nombre de domaines détectés avec le nombre attendu (question 2.2)"
   ]
  },
  {
   "cell_type": "code",
   "execution_count": 5,
   "metadata": {
    "id": "MOkYjsEou4mn"
   },
   "outputs": [
    {
     "data": {
      "text/plain": [
       "21435"
      ]
     },
     "execution_count": 5,
     "metadata": {},
     "output_type": "execute_result"
    }
   ],
   "source": [
    "#Some code if necessary\n",
    "len(hits_PF00240)"
   ]
  },
  {
   "cell_type": "markdown",
   "metadata": {
    "id": "coY9m7Y0u4mn"
   },
   "source": [
    "Reponse: \n",
    "<font color=\"blue\"> <br>\n",
    "Dans le fichier PF00240.domtb, on détecte 21 435 domaines. D'après la question 2.2, on s'attendait à 21 402 domaines. On a donc détecté 33 domaines en plus que les domaines attendus. On conjecture  que l'option domtblout permet de détecter plus précisément les doamines. \n",
    "</font>"
   ]
  },
  {
   "cell_type": "markdown",
   "metadata": {
    "id": "gMMWiN5ju4mo"
   },
   "source": [
    "<b>b)</b>: Quelle est le c-evaleus et les scores du meilleur et du pire hit?"
   ]
  },
  {
   "cell_type": "markdown",
   "metadata": {
    "id": "pAAWZzqOu4mo"
   },
   "source": [
    "Reponse:\n",
    "<font color=\"blue\"><br>\n",
    "La c-Evalue du pire hit est 5.2e-05.\n",
    "<br> La c-Evalue du pire meilleur est 5.7e-36.\n",
    "\n",
    "</font>"
   ]
  },
  {
   "cell_type": "code",
   "execution_count": 6,
   "metadata": {},
   "outputs": [
    {
     "name": "stdout",
     "output_type": "stream",
     "text": [
      "c-Evalue du pire hit est : 5.2e-05\n",
      "c-Evalue du pire meilleur est : 5.7e-36\n"
     ]
    }
   ],
   "source": [
    "import numpy as np\n",
    "Hits = np.asarray(hits_PF00240)\n",
    "\n",
    "Evalues = Hits[:,6]\n",
    "\n",
    "Evalues=Evalues.astype(float)\n",
    "# print(Evalues)\n",
    "\n",
    "mini=min(Evalues)\n",
    "maxi=max(Evalues)\n",
    "\n",
    "# print(\"MIN = \",min(Evalues))\n",
    "# print(\"MAX = \",max(Evalues))\n",
    "\n",
    "# print(\"Np.where\")\n",
    "# print(np.where(Evalues==maxi))\n",
    "# print(np.where(Evalues==mini))\n",
    "\n",
    "ind_maxi=np.where(Evalues==maxi)\n",
    "# print(ind_maxi[0][0])\n",
    "ind_worst = ind_maxi[0][0]\n",
    "print(\"c-Evalue du pire hit est :\",hits_PF00240[ind_worst][11])\n",
    "\n",
    "ind_mini=np.where(Evalues==mini)\n",
    "ind_best=ind_mini[0][0]\n",
    "print(\"c-Evalue du pire meilleur est :\",hits_PF00240[ind_best][11])"
   ]
  },
  {
   "cell_type": "markdown",
   "metadata": {
    "id": "iGu_Jub_u4mp"
   },
   "source": [
    "<b>c)</b>: Exécutez à nouveau hmmsearch et définissez le domain e-value à 1e-5. Combien de domaines observez-vous? Comparez le nombre de domaines détectés avec l'attendu (question 2.2) et obtenu dans la question a. Justifiez votre réponse."
   ]
  },
  {
   "cell_type": "code",
   "execution_count": 7,
   "metadata": {
    "id": "mo9j41fuu4mp"
   },
   "outputs": [
    {
     "data": {
      "text/plain": [
       "21340"
      ]
     },
     "execution_count": 7,
     "metadata": {},
     "output_type": "execute_result"
    }
   ],
   "source": [
    "#Some code if necessary\n",
    "input_domE = 'PF00240eval.domtb'\n",
    "hitsEval_PF00240 = read_domtblout(input_domE)\n",
    "len(hitsEval_PF00240)"
   ]
  },
  {
   "cell_type": "markdown",
   "metadata": {
    "id": "y0knOGJru4mp"
   },
   "source": [
    "Reponse:\n",
    "<font color=\"blue\"> <br>\n",
    "Cette fois-ci, on trouve 21 340 domaines avec un threshold e-value de 1e-5, c'est 95 domaines de moins que sans threshold (question a). En utilisant un threshold, on ne retient pas toutes les données. La quantité de domaines trouvés correspond toujours à un peu plus de la moitié des domaines attendus. \n",
    "\n",
    "<font>\n"
   ]
  },
  {
   "cell_type": "markdown",
   "metadata": {
    "id": "ZQ0XEFhfu4mq"
   },
   "source": [
    "<b>d)</b>:\n",
    "Téléchargez le modèle hmm pour le domaine ubiquitin depuis le site de Pfam. Clique sur \"Curation & model\" et sur \"download the raw HMM for this family\". Exécutez à nouveau hmmsearch avec l'option --cut_ga. Comparez le nombre de domaines détectés avec les questions précédentes. Qu'est-ce que cut_ga fait?"
   ]
  },
  {
   "cell_type": "code",
   "execution_count": 8,
   "metadata": {
    "id": "tJKkpKfXu4mq"
   },
   "outputs": [
    {
     "name": "stdout",
     "output_type": "stream",
     "text": [
      "21449\n"
     ]
    }
   ],
   "source": [
    "input_cutga = 'PF00240cutga.domtb'\n",
    "hitscutga_PF00240 = read_domtblout(input_cutga)\n",
    "print(len(hitscutga_PF00240)) # 21 449\n",
    "\n",
    "# input_cutgab = 'PF00240cutgabis.domtb' # document téléchargé en ligne  \n",
    "# hitscutgab_PF00240 = read_domtblout(input_cutgab)\n",
    "# print(len(hitscutgab_PF00240)) # 21 332\n",
    "\n",
    "#--cut_ga : use profile's GA gathering cutoffs to set all thresholding\n"
   ]
  },
  {
   "cell_type": "markdown",
   "metadata": {
    "id": "owZ8vyXAu4mq"
   },
   "source": [
    "Reponse: \n",
    "<font color=\"blue\">\n",
    "<br>\n",
    " On trouve, cette fois-ci, 21 449 domaines au lieu de 21435. L'option cut_ga permet de trouver des domaines que l'on n'avait pas détectés la première fois. En effet, cette option utilise le score de bits GA pour définir les seuils d'inclusion et de reporting par séquences et domaines. Or, les seuils GA sont plus fiables pour définir l'appartenance familiale. \n",
    "<font>"
   ]
  },
  {
   "cell_type": "markdown",
   "metadata": {
    "id": "2NuPAzasu4mr"
   },
   "source": [
    "<b>Exercice 3 </b>: <u>Cooccurrence de domaines</u> <br>\n",
    "Le domaine Ribosomal_S27 (PF01599) est très suivant trouvé avec le domaine de l'ubiquitine?  Allez sur le site Pfam, recherchez le domaine PF01599 et cliquez sur \"Domain Organisation\" recherchez le domaine ubiquitin dans la liste des architectures de domaine. Répondre aux question suivantes:<br>\n",
    "<b>3.1</b>:\n",
    "Si ces domaines coexistent, dans combien de séquences cette architecture de domaines est-elle observée? "
   ]
  },
  {
   "cell_type": "markdown",
   "metadata": {
    "id": "VrVyb9onu4mr"
   },
   "source": [
    "Reponse:\n",
    "<font color=\"blue\"><br>\n",
    "Les deux domaines Ribosomal_S27 (PF01599) et le domaine de l'ubiquitine coexistent dans 3 509 protéines. \n",
    "<font>"
   ]
  },
  {
   "cell_type": "markdown",
   "metadata": {
    "id": "GYsm0oYRu4ms"
   },
   "source": [
    "<b>3.2</b>: Vérifions si la séquence W4GKD7 décrite comme protéine ribosomale S27a de l'Ubiquitine-40S a l'architecture du domaine: ubiquitine, Ribosomal_S27. <br>\n",
    "- Téléchargez la séquence de W4GKD7 de <a href=\"http://www.uniprot.org/uniprot/W4GKD7\">Uniprot</a>  et téléchargez le modèle Ribosomal_S27 hmmer à partir du site Web Pfam.\n",
    "- Concattez les modèles ubiquitin.hmm et Ribosomal_S27.hmm, enregistrez le fichier sous Ribosomal_S27_ubiquitin.hmm.\n",
    "- Exécutez hmmsearch avec l'option --cut_ga pour rechercher des domaines dans W4GKD7, utilisez le modèle de fichier Ribosomal_S27_ubiquitin.hmm. Enregistrez la sortie au format tabulaire, utilisez l'option --domtblout pour enregistrer un fichier tabulaire, nommé W4GKD7.domtb\n",
    "- Analyser le fichier W4GKD7.domtb, avez-vous détecté les domaines Ribosomal_S27 et ubiquitin? Quels sont les scores et les e-values?"
   ]
  },
  {
   "cell_type": "markdown",
   "metadata": {
    "id": "iweuKqJlu4ms"
   },
   "source": [
    "Reponse:\n",
    "<font color=\"blue\"> <br> \n",
    "Les scores sont de:\n",
    "<br> -->  360.7 pour le domaine W4GKD7\n",
    "<br> -->  91.2 pour le domaine Ribosomal_S27 <br>\n",
    "<br> Les e-values sont de: \n",
    "<br> -->  3.8e-113  pour le domaine W4GKD7\n",
    "<br> -->  1.5e-30 pour le domaine Ribosomal_S27 <br>\n",
    "<font>\n"
   ]
  },
  {
   "cell_type": "markdown",
   "metadata": {
    "id": "M5bM2uq6u4ms"
   },
   "source": [
    "<b>3.3</b>: Visualisez l'architecture du domaine pour la protéine W4GKD7 en utilisant le programme  <a href=\"http://prosite.expasy.org/cgi-bin/prosite/mydomains/\">myDomains</a>; Remplissez la longueur de la protéine et les données de domaine. Vous pouvez trouver toutes les informations dans le fichier W4GKD7.domtb, choisir la forme et la couleur que vous préférez, inclure l'image dans votre reponse."
   ]
  },
  {
   "cell_type": "markdown",
   "metadata": {
    "id": "FLAeHDpCu4ms"
   },
   "source": [
    "Reponse: <font color=\"blue\"> \n",
    "<br> Le domaine PF00240 se situe à la position 3-74. <br> Le domaine Ribosomal_S27 se situe à la poisiton 102-147.\n",
    "<font>\n",
    "<img src=\"PSImage.png\" alt=\"Drawing\" style=\"width: 300px;\"/>"
   ]
  },
  {
   "cell_type": "markdown",
   "metadata": {
    "id": "2fF49WTMu4ms"
   },
   "source": [
    "<b>Exercice 4 </b>: <u>Domaines du même clan</u><br>\n",
    "Les familles de Pfam ayant des fonctions similaires sont suivant orgnisés dans un clan, c'est le cas des familles ubiquitin et ubiquitin_2 placé dans le clan CL0072.<br>\n",
    "<b>4.1</b>: Combien de membre exists dans le clans CL0072?"
   ]
  },
  {
   "cell_type": "markdown",
   "metadata": {
    "id": "r4aIFY9xu4ms"
   },
   "source": [
    "Reponse:<font color=\"blue\"> <br>\n",
    "Dans le clan CL0072, on compte 79 membres.\n",
    "<font>"
   ]
  },
  {
   "cell_type": "markdown",
   "metadata": {
    "id": "Skp5zOaUu4ms"
   },
   "source": [
    "<b>4.2</b>: Téléchargez le modèle hmm pour le domaine ubiquitin_2 depuis le site de Pfam. Clique sur \"Curation & model\" et sur \"download the raw HMM for this family\". Concatenez les modeles ubiquitin.hmm et ubiquitin_2.hmm and executez hmmsearch avec --cut_ga sur les sequences du fichier Uniprot_ubiquitin.fasta, utilizez l'option --domtblout pour enregistrer un fichier tabulaire. Repondrez aux questions:\n"
   ]
  },
  {
   "cell_type": "markdown",
   "metadata": {},
   "source": [
    "# <font color=\"red\"> questions 4.2 (a) et (b)!!!! "
   ]
  },
  {
   "cell_type": "markdown",
   "metadata": {
    "id": "5YGoZnPRu4ms"
   },
   "source": [
    "<b>a)</b>: Combien de sequences ont plus qu'un hit?"
   ]
  },
  {
   "cell_type": "code",
   "execution_count": 12,
   "metadata": {},
   "outputs": [
    {
     "name": "stdout",
     "output_type": "stream",
     "text": [
      "931\n",
      "152\n",
      "['tr|A0A182G3H1|A0A182G3H1_AEDAL', '-', '1369', 'W4GKD7', '-', '155', '0', '2601.4', '86.8', '1', '18', '5.5e-46', '5.5e-46', '147.6', '0.2', '1', '76', '1', '76', '1', '76', '0.99', 'Uncharacterized', 'protein', 'OS=Aedes', 'albopictus', 'OX=7160', 'PE=4', 'SV=1']\n",
      "{'tr|A0A182G3H1|A0A182G3H1_AEDAL': '18', 'tr|Q59EM9|Q59EM9_HUMAN': '17', 'tr|A0A0V0UP34|A0A0V0UP34_9BILA': '17', 'tr|F7IUE6|F7IUE6_ANOGA': '14', 'tr|Q8MSM5|Q8MSM5_DROME': '14', 'tr|B0W973|B0W973_CULQU': '14', 'tr|A4HFB9|A4HFB9_LEIBR': '14', 'tr|O35080|O35080_CRIGR': '14', 'tr|B4KXU3|B4KXU3_DROMO': '13', 'tr|A4HPM0|A4HPM0_LEIBR': '13', 'tr|A0A0Q9XB42|A0A0Q9XB42_DROMO': '12', 'tr|A0A161N0S0|A0A161N0S0_TRIIF': '12', 'tr|B4HTV7|B4HTV7_DROSE': '12', 'tr|F6H5Z7|F6H5Z7_VITVI': '12', 'tr|Q9XXZ6|Q9XXZ6_BOMMO': '12', 'tr|K7JAJ3|K7JAJ3_NASVI': '12', 'tr|H9IVY4|H9IVY4_BOMMO': '12', 'tr|G0MLK4|G0MLK4_CAEBE': '12', 'tr|E3LYQ5|E3LYQ5_CAERE': '12', 'tr|G0V1P8|G0V1P8_TRYCI': '13', 'tr|A0A0L7REF9|A0A0L7REF9_9HYME': '12', 'tr|O35079|O35079_CRIGR': '12', 'tr|T1FVF6|T1FVF6_HELRO': '11', 'tr|A0A0N5DTJ2|A0A0N5DTJ2_TRIMR': '11', 'tr|B3NFZ3|B3NFZ3_DROER': '11', 'tr|A0A069DWK5|A0A069DWK5_9HEMI': '11', 'tr|A0A0R1DX86|A0A0R1DX86_DROYA': '11', 'tr|B3M7Z7|B3M7Z7_DROAN': '11', 'tr|A0A0V0TBY2|A0A0V0TBY2_9BILA': '12', 'tr|A0A026WRG4|A0A026WRG4_OOCBI': '11', 'tr|E0VZ82|E0VZ82_PEDHC': '11', 'tr|Q4Q165|Q4Q165_LEIMA': '11', 'sp|P0CG71|UBIQ1_CAEEL': '11', 'tr|A0A072UMK2|A0A072UMK2_MEDTR': '11', 'tr|A0A0V0W2E7|A0A0V0W2E7_9BILA': '13', 'tr|A4HU11|A4HU11_LEIIN': '11', 'tr|U6KZM6|U6KZM6_EIMTE': '40'}\n",
      "\n",
      "\n",
      "séquences qui ont plus d'un hit 37\n"
     ]
    }
   ],
   "source": [
    "#input_exo4 = 'Uniprot_ubiquitin.domtb'\n",
    "input_exo4 = 'res.domtb'\n",
    "hits_exo4 = read_domtblout(input_exo4)\n",
    "print(len(hits_exo4)) # 931\n",
    "print(hits_exo4[1][20]) # 152\n",
    "\n",
    "print(hits_exo4[0])\n",
    "\n",
    "target_name=[]\n",
    "for line in hits_exo4:\n",
    "    target_name.append(line[0])\n",
    "    \n",
    "#print(target_name[0:5])\n",
    "\n",
    "Result ={}\n",
    "\n",
    "for i in range(len(target_name)):\n",
    "#     print(\"-------------\",len(target_name))\n",
    "    if target_name[i] in Result:\n",
    "        continue\n",
    "    else:\n",
    "        Result[target_name[i]]=hits_exo4[i][10]\n",
    "print(Result)\n",
    "print(\"\\n\")\n",
    "print(\"séquences qui ont plus d'un hit\",len(Result))"
   ]
  },
  {
   "cell_type": "markdown",
   "metadata": {
    "collapsed": true,
    "id": "5ssugoCFu4mt"
   },
   "source": [
    "Reponse: <font color=\"blue\"> \n",
    "37 séquences ont plusieurs hits.\n",
    "<font>"
   ]
  },
  {
   "cell_type": "markdown",
   "metadata": {
    "id": "IGx0cwmAu4mt"
   },
   "source": [
    "<b>b)</b>: Faite une fonction pour filtrer les meilleurs hits de protéines membre de ubiquitin à partir d'un fichier domtb. \n",
    "Si une séquence a plus qu'un hit dans de positions chevauchantes vous devez choisir le hit avec le meilleur c-evalue. \n",
    "Le début et fin de chaque hit se trouve dans les colonnes 20 et 21 du fichier de sortie de hmmsearch."
   ]
  },
  {
   "cell_type": "code",
   "execution_count": 11,
   "metadata": {
    "id": "b2RdrPsOu4mu",
    "scrolled": true
   },
   "outputs": [],
   "source": [
    "def best_hits(hits, eValue_thresh, overlap_thresh):\n",
    "    \"\"\"\n",
    "    Filtering the best hits\n",
    "    input1 hits: hit table (output of domtb file)\n",
    "    input2 eValue_thresh: E-value Threshold (default 1e-100)\n",
    "    input3 overlap_thresh: overlaping Threshold (default 10)\n",
    "    output1 meilleur_hits: filtered hit table \n",
    "    \"\"\"\n",
    "    meilleur_hits = []\n",
    "    \n",
    "    return meilleur_hits\n",
    "\n",
    "\n",
    "\n",
    "input_fasta = 'Uniprot_ubiquitin.fasta'\n",
    "sequences,seq_names = read_fasta (input_fasta)\n",
    "\n",
    "\n",
    "input_domtblout = 'Uniprot_ubiquitin.domtb'\n",
    "hits_ubiquitin = read_domtblout(input_domtblout)\n",
    "\n",
    "\n",
    "eValue_thresh = 8e-100\n",
    "overlap_thresh = 10\n",
    "\n",
    "meilleur_hits = best_hits(hits_ubiquitin, eValue_thresh, overlap_thresh)"
   ]
  },
  {
   "cell_type": "markdown",
   "metadata": {},
   "source": [
    "# <font color=\"orange\"> ANASTASIA"
   ]
  },
  {
   "cell_type": "code",
   "execution_count": 11,
   "metadata": {},
   "outputs": [
    {
     "name": "stdout",
     "output_type": "stream",
     "text": [
      "-------------------------------\n",
      "key =  tr|A0A182G3H1|A0A182G3H1_AEDAL\n",
      "val =   [('1', '76'), ('77', '152'), ('153', '228'), ('229', '304'), ('305', '380'), ('381', '456'), ('457', '532'), ('533', '608'), ('609', '684'), ('685', '760'), ('761', '836'), ('837', '912'), ('913', '988'), ('989', '1064'), ('1065', '1140'), ('1141', '1216'), ('1217', '1292'), ('1293', '1369'), ('2', '70'), ('77', '146'), ('153', '222'), ('229', '298'), ('305', '374'), ('381', '450'), ('457', '526'), ('533', '602'), ('609', '678'), ('685', '754'), ('761', '830'), ('837', '906'), ('913', '982'), ('989', '1058'), ('1065', '1134'), ('1141', '1210'), ('1217', '1286'), ('1293', '1362')]\n",
      "val[i] est =  ('1293', '1369')\n",
      "val[i+1] est =  ('2', '70')\n",
      "val[i][1] =  1369\n",
      "val[i+1][0] =  2\n",
      "chevauchement\n",
      "-------------------------------\n",
      "\n",
      "\n",
      "-------------------------------\n",
      "key =  tr|Q59EM9|Q59EM9_HUMAN\n",
      "val =   [('17', '92'), ('93', '168'), ('169', '244'), ('245', '320'), ('321', '396'), ('397', '472'), ('473', '548'), ('549', '624'), ('625', '700'), ('701', '776'), ('777', '852'), ('853', '928'), ('929', '1004'), ('1005', '1080'), ('1081', '1156'), ('1157', '1232'), ('1233', '1309'), ('15', '86'), ('93', '162'), ('169', '238'), ('245', '314'), ('321', '390'), ('397', '466'), ('473', '542'), ('549', '618'), ('625', '694'), ('701', '770'), ('777', '846'), ('853', '922'), ('929', '998'), ('1005', '1074'), ('1081', '1150'), ('1157', '1226'), ('1233', '1302')]\n",
      "val[i] est =  ('1233', '1309')\n",
      "val[i+1] est =  ('15', '86')\n",
      "val[i][1] =  1309\n",
      "val[i+1][0] =  15\n",
      "chevauchement\n",
      "-------------------------------\n",
      "\n",
      "\n",
      "-------------------------------\n",
      "key =  tr|A0A0V0UP34|A0A0V0UP34_9BILA\n",
      "val =   [('1', '76'), ('77', '127'), ('129', '204'), ('205', '280'), ('281', '356'), ('357', '432'), ('433', '508'), ('509', '584'), ('585', '660'), ('661', '736'), ('737', '812'), ('813', '888'), ('889', '966'), ('965', '980'), ('975', '1022'), ('1023', '1098'), ('1099', '1177'), ('2', '70'), ('77', '131'), ('128', '198'), ('205', '274'), ('281', '350'), ('357', '426'), ('433', '502'), ('509', '578'), ('585', '654'), ('661', '730'), ('737', '806'), ('813', '882'), ('889', '958'), ('1023', '1092'), ('1099', '1168')]\n",
      "val[i] est =  ('889', '966')\n",
      "val[i+1] est =  ('965', '980')\n",
      "val[i][1] =  966\n",
      "val[i+1][0] =  965\n",
      "chevauchement\n",
      "-------------------------------\n",
      "\n",
      "\n",
      "-------------------------------\n",
      "key =  tr|A0A0V0UP34|A0A0V0UP34_9BILA\n",
      "val =   [('1', '76'), ('77', '127'), ('129', '204'), ('205', '280'), ('281', '356'), ('357', '432'), ('433', '508'), ('509', '584'), ('585', '660'), ('661', '736'), ('737', '812'), ('813', '888'), ('889', '966'), ('965', '980'), ('975', '1022'), ('1023', '1098'), ('1099', '1177'), ('2', '70'), ('77', '131'), ('128', '198'), ('205', '274'), ('281', '350'), ('357', '426'), ('433', '502'), ('509', '578'), ('585', '654'), ('661', '730'), ('737', '806'), ('813', '882'), ('889', '958'), ('1023', '1092'), ('1099', '1168')]\n",
      "val[i] est =  ('965', '980')\n",
      "val[i+1] est =  ('975', '1022')\n",
      "val[i][1] =  980\n",
      "val[i+1][0] =  975\n",
      "chevauchement\n",
      "-------------------------------\n",
      "\n",
      "\n",
      "-------------------------------\n",
      "key =  tr|A0A0V0UP34|A0A0V0UP34_9BILA\n",
      "val =   [('1', '76'), ('77', '127'), ('129', '204'), ('205', '280'), ('281', '356'), ('357', '432'), ('433', '508'), ('509', '584'), ('585', '660'), ('661', '736'), ('737', '812'), ('813', '888'), ('889', '966'), ('965', '980'), ('975', '1022'), ('1023', '1098'), ('1099', '1177'), ('2', '70'), ('77', '131'), ('128', '198'), ('205', '274'), ('281', '350'), ('357', '426'), ('433', '502'), ('509', '578'), ('585', '654'), ('661', '730'), ('737', '806'), ('813', '882'), ('889', '958'), ('1023', '1092'), ('1099', '1168')]\n",
      "val[i] est =  ('1099', '1177')\n",
      "val[i+1] est =  ('2', '70')\n",
      "val[i][1] =  1177\n",
      "val[i+1][0] =  2\n",
      "chevauchement\n",
      "-------------------------------\n",
      "\n",
      "\n",
      "-------------------------------\n",
      "key =  tr|A0A0V0UP34|A0A0V0UP34_9BILA\n",
      "val =   [('1', '76'), ('77', '127'), ('129', '204'), ('205', '280'), ('281', '356'), ('357', '432'), ('433', '508'), ('509', '584'), ('585', '660'), ('661', '736'), ('737', '812'), ('813', '888'), ('889', '966'), ('965', '980'), ('975', '1022'), ('1023', '1098'), ('1099', '1177'), ('2', '70'), ('77', '131'), ('128', '198'), ('205', '274'), ('281', '350'), ('357', '426'), ('433', '502'), ('509', '578'), ('585', '654'), ('661', '730'), ('737', '806'), ('813', '882'), ('889', '958'), ('1023', '1092'), ('1099', '1168')]\n",
      "val[i] est =  ('77', '131')\n",
      "val[i+1] est =  ('128', '198')\n",
      "val[i][1] =  131\n",
      "val[i+1][0] =  128\n",
      "chevauchement\n",
      "-------------------------------\n",
      "\n",
      "\n",
      "-------------------------------\n",
      "key =  tr|F7IUE6|F7IUE6_ANOGA\n",
      "val =   [('1', '76'), ('77', '152'), ('153', '228'), ('229', '304'), ('305', '380'), ('381', '456'), ('457', '532'), ('533', '608'), ('609', '684'), ('685', '760'), ('761', '836'), ('837', '912'), ('913', '988'), ('989', '1065'), ('2', '70'), ('77', '146'), ('153', '222'), ('229', '298'), ('305', '374'), ('381', '450'), ('457', '526'), ('533', '602'), ('609', '678'), ('685', '754'), ('761', '830'), ('837', '906'), ('913', '982'), ('989', '1058')]\n",
      "val[i] est =  ('989', '1065')\n",
      "val[i+1] est =  ('2', '70')\n",
      "val[i][1] =  1065\n",
      "val[i+1][0] =  2\n",
      "chevauchement\n",
      "-------------------------------\n",
      "\n",
      "\n",
      "-------------------------------\n",
      "key =  tr|Q8MSM5|Q8MSM5_DROME\n",
      "val =   [('1', '76'), ('77', '152'), ('153', '228'), ('229', '304'), ('305', '380'), ('381', '456'), ('457', '532'), ('533', '608'), ('609', '684'), ('685', '760'), ('761', '836'), ('837', '912'), ('913', '988'), ('989', '1067'), ('2', '70'), ('77', '146'), ('153', '222'), ('229', '298'), ('305', '374'), ('381', '450'), ('457', '526'), ('533', '602'), ('609', '678'), ('685', '754'), ('761', '830'), ('837', '906'), ('913', '982'), ('989', '1058')]\n",
      "val[i] est =  ('989', '1067')\n",
      "val[i+1] est =  ('2', '70')\n",
      "val[i][1] =  1067\n",
      "val[i+1][0] =  2\n",
      "chevauchement\n",
      "-------------------------------\n",
      "\n",
      "\n",
      "-------------------------------\n",
      "key =  tr|B0W973|B0W973_CULQU\n",
      "val =   [('1', '76'), ('77', '152'), ('153', '228'), ('229', '304'), ('305', '380'), ('381', '456'), ('457', '532'), ('533', '608'), ('609', '684'), ('685', '760'), ('761', '836'), ('837', '912'), ('913', '988'), ('989', '1065'), ('2', '70'), ('77', '146'), ('153', '222'), ('229', '298'), ('305', '374'), ('381', '450'), ('457', '526'), ('533', '602'), ('609', '678'), ('685', '754'), ('761', '830'), ('837', '906'), ('913', '982'), ('989', '1058')]\n",
      "val[i] est =  ('989', '1065')\n",
      "val[i+1] est =  ('2', '70')\n",
      "val[i][1] =  1065\n",
      "val[i+1][0] =  2\n",
      "chevauchement\n",
      "-------------------------------\n",
      "\n",
      "\n",
      "-------------------------------\n",
      "key =  tr|A4HFB9|A4HFB9_LEIBR\n",
      "val =   [('1', '76'), ('77', '152'), ('153', '228'), ('229', '304'), ('305', '380'), ('381', '456'), ('457', '532'), ('533', '608'), ('609', '684'), ('685', '760'), ('761', '836'), ('837', '912'), ('913', '988'), ('989', '1067'), ('2', '71'), ('77', '147'), ('153', '223'), ('229', '299'), ('305', '375'), ('381', '451'), ('457', '527'), ('533', '603'), ('609', '679'), ('685', '755'), ('761', '831'), ('837', '907'), ('913', '983'), ('989', '1058')]\n",
      "val[i] est =  ('989', '1067')\n",
      "val[i+1] est =  ('2', '71')\n",
      "val[i][1] =  1067\n",
      "val[i+1][0] =  2\n",
      "chevauchement\n",
      "-------------------------------\n",
      "\n",
      "\n",
      "-------------------------------\n",
      "key =  tr|O35080|O35080_CRIGR\n",
      "val =   [('1', '76'), ('77', '152'), ('153', '228'), ('229', '304'), ('305', '380'), ('381', '456'), ('457', '532'), ('533', '608'), ('609', '684'), ('685', '760'), ('761', '836'), ('837', '912'), ('913', '988'), ('989', '1020'), ('2', '70'), ('77', '146'), ('153', '222'), ('229', '298'), ('305', '374'), ('381', '450'), ('457', '526'), ('533', '602'), ('609', '678'), ('685', '754'), ('761', '830'), ('837', '906'), ('913', '982')]\n",
      "val[i] est =  ('989', '1020')\n",
      "val[i+1] est =  ('2', '70')\n",
      "val[i][1] =  1020\n",
      "val[i+1][0] =  2\n",
      "chevauchement\n",
      "-------------------------------\n",
      "\n",
      "\n",
      "-------------------------------\n",
      "key =  tr|B4KXU3|B4KXU3_DROMO\n",
      "val =   [('1', '76'), ('77', '152'), ('153', '228'), ('229', '304'), ('305', '380'), ('381', '456'), ('457', '532'), ('533', '608'), ('609', '684'), ('685', '760'), ('761', '836'), ('837', '912'), ('913', '991'), ('2', '70'), ('77', '146'), ('153', '222'), ('229', '298'), ('305', '374'), ('381', '450'), ('457', '526'), ('533', '602'), ('609', '678'), ('685', '754'), ('761', '830'), ('837', '906'), ('913', '982')]\n",
      "val[i] est =  ('913', '991')\n",
      "val[i+1] est =  ('2', '70')\n",
      "val[i][1] =  991\n",
      "val[i+1][0] =  2\n",
      "chevauchement\n",
      "-------------------------------\n",
      "\n",
      "\n",
      "-------------------------------\n",
      "key =  tr|A4HPM0|A4HPM0_LEIBR\n",
      "val =   [('1', '76'), ('77', '152'), ('153', '228'), ('229', '304'), ('305', '380'), ('381', '456'), ('457', '532'), ('533', '608'), ('609', '684'), ('685', '760'), ('761', '836'), ('837', '912'), ('913', '991'), ('2', '71'), ('77', '147'), ('153', '223'), ('229', '299'), ('305', '375'), ('381', '451'), ('457', '527'), ('533', '603'), ('609', '679'), ('685', '755'), ('761', '831'), ('837', '907'), ('913', '982')]\n",
      "val[i] est =  ('913', '991')\n",
      "val[i+1] est =  ('2', '71')\n",
      "val[i][1] =  991\n",
      "val[i+1][0] =  2\n",
      "chevauchement\n",
      "-------------------------------\n",
      "\n",
      "\n",
      "-------------------------------\n",
      "key =  tr|A0A0Q9XB42|A0A0Q9XB42_DROMO\n",
      "val =   [('1', '76'), ('77', '152'), ('153', '228'), ('229', '304'), ('305', '380'), ('381', '456'), ('457', '532'), ('533', '608'), ('609', '684'), ('685', '760'), ('761', '836'), ('837', '915'), ('2', '70'), ('77', '146'), ('153', '222'), ('229', '298'), ('305', '374'), ('381', '450'), ('457', '526'), ('533', '602'), ('609', '678'), ('685', '754'), ('761', '830'), ('837', '906')]\n",
      "val[i] est =  ('837', '915')\n",
      "val[i+1] est =  ('2', '70')\n",
      "val[i][1] =  915\n",
      "val[i+1][0] =  2\n",
      "chevauchement\n",
      "-------------------------------\n",
      "\n",
      "\n",
      "-------------------------------\n",
      "key =  tr|A0A161N0S0|A0A161N0S0_TRIIF\n",
      "val =   [('1', '76'), ('77', '152'), ('153', '228'), ('229', '304'), ('305', '380'), ('381', '456'), ('457', '532'), ('533', '608'), ('609', '684'), ('685', '760'), ('761', '836'), ('837', '913'), ('2', '70'), ('77', '146'), ('153', '222'), ('229', '298'), ('305', '374'), ('381', '450'), ('457', '526'), ('533', '602'), ('609', '678'), ('685', '754'), ('761', '830'), ('837', '906')]\n",
      "val[i] est =  ('837', '913')\n",
      "val[i+1] est =  ('2', '70')\n",
      "val[i][1] =  913\n",
      "val[i+1][0] =  2\n",
      "chevauchement\n",
      "-------------------------------\n",
      "\n",
      "\n",
      "-------------------------------\n",
      "key =  tr|B4HTV7|B4HTV7_DROSE\n",
      "val =   [('1', '76'), ('77', '152'), ('153', '228'), ('229', '304'), ('305', '380'), ('381', '456'), ('457', '532'), ('533', '608'), ('609', '684'), ('685', '760'), ('761', '836'), ('837', '915'), ('2', '70'), ('77', '146'), ('153', '222'), ('229', '298'), ('305', '374'), ('381', '450'), ('457', '526'), ('533', '602'), ('609', '678'), ('685', '754'), ('761', '830'), ('837', '906')]\n",
      "val[i] est =  ('837', '915')\n",
      "val[i+1] est =  ('2', '70')\n",
      "val[i][1] =  915\n",
      "val[i+1][0] =  2\n",
      "chevauchement\n",
      "-------------------------------\n",
      "\n",
      "\n",
      "-------------------------------\n",
      "key =  tr|F6H5Z7|F6H5Z7_VITVI\n",
      "val =   [('14', '89'), ('90', '165'), ('166', '241'), ('242', '317'), ('318', '393'), ('394', '469'), ('470', '560'), ('610', '685'), ('686', '761'), ('762', '837'), ('838', '913'), ('914', '993'), ('13', '83'), ('90', '159'), ('166', '235'), ('242', '311'), ('318', '387'), ('394', '463'), ('470', '539'), ('609', '679'), ('686', '755'), ('762', '831'), ('838', '907'), ('914', '983')]\n",
      "val[i] est =  ('914', '993')\n",
      "val[i+1] est =  ('13', '83')\n",
      "val[i][1] =  993\n",
      "val[i+1][0] =  13\n",
      "chevauchement\n",
      "-------------------------------\n",
      "\n",
      "\n",
      "-------------------------------\n",
      "key =  tr|Q9XXZ6|Q9XXZ6_BOMMO\n",
      "val =   [('1', '76'), ('77', '152'), ('153', '228'), ('229', '304'), ('305', '380'), ('381', '456'), ('457', '532'), ('533', '608'), ('609', '684'), ('685', '760'), ('761', '836'), ('837', '913'), ('2', '70'), ('77', '146'), ('153', '222'), ('229', '298'), ('305', '374'), ('381', '450'), ('457', '526'), ('533', '602'), ('609', '678'), ('685', '754'), ('761', '830'), ('837', '906')]\n",
      "val[i] est =  ('837', '913')\n",
      "val[i+1] est =  ('2', '70')\n",
      "val[i][1] =  913\n",
      "val[i+1][0] =  2\n",
      "chevauchement\n",
      "-------------------------------\n",
      "\n",
      "\n",
      "-------------------------------\n",
      "key =  tr|K7JAJ3|K7JAJ3_NASVI\n",
      "val =   [('1', '76'), ('77', '152'), ('153', '228'), ('229', '304'), ('305', '380'), ('381', '456'), ('457', '532'), ('533', '608'), ('609', '684'), ('685', '760'), ('761', '836'), ('837', '913'), ('2', '70'), ('77', '146'), ('153', '222'), ('229', '298'), ('305', '374'), ('381', '450'), ('457', '526'), ('533', '602'), ('609', '678'), ('685', '754'), ('761', '830'), ('837', '906')]\n",
      "val[i] est =  ('837', '913')\n",
      "val[i+1] est =  ('2', '70')\n",
      "val[i][1] =  913\n",
      "val[i+1][0] =  2\n",
      "chevauchement\n",
      "-------------------------------\n",
      "\n",
      "\n",
      "-------------------------------\n",
      "key =  tr|H9IVY4|H9IVY4_BOMMO\n",
      "val =   [('1', '76'), ('77', '152'), ('153', '228'), ('229', '304'), ('305', '380'), ('381', '456'), ('457', '532'), ('533', '608'), ('609', '684'), ('685', '760'), ('761', '836'), ('837', '913'), ('2', '70'), ('77', '146'), ('153', '222'), ('229', '298'), ('305', '374'), ('381', '450'), ('457', '526'), ('533', '602'), ('609', '678'), ('685', '754'), ('761', '830'), ('837', '906')]\n",
      "val[i] est =  ('837', '913')\n",
      "val[i+1] est =  ('2', '70')\n",
      "val[i][1] =  913\n",
      "val[i+1][0] =  2\n",
      "chevauchement\n",
      "-------------------------------\n",
      "\n",
      "\n",
      "-------------------------------\n",
      "key =  tr|G0MLK4|G0MLK4_CAEBE\n",
      "val =   [('57', '132'), ('133', '208'), ('209', '284'), ('285', '360'), ('361', '436'), ('437', '512'), ('513', '588'), ('589', '664'), ('665', '740'), ('741', '816'), ('817', '892'), ('893', '970'), ('57', '126'), ('133', '202'), ('209', '278'), ('285', '354'), ('361', '430'), ('437', '506'), ('513', '582'), ('589', '658'), ('665', '734'), ('741', '810'), ('817', '886'), ('893', '962')]\n",
      "val[i] est =  ('893', '970')\n",
      "val[i+1] est =  ('57', '126')\n",
      "val[i][1] =  970\n",
      "val[i+1][0] =  57\n",
      "chevauchement\n",
      "-------------------------------\n",
      "\n",
      "\n",
      "-------------------------------\n",
      "key =  tr|E3LYQ5|E3LYQ5_CAERE\n",
      "val =   [('1', '76'), ('77', '152'), ('153', '228'), ('229', '304'), ('305', '380'), ('381', '456'), ('457', '532'), ('533', '614'), ('615', '690'), ('691', '766'), ('767', '842'), ('843', '920'), ('2', '70'), ('77', '146'), ('153', '222'), ('229', '298'), ('305', '374'), ('381', '450'), ('457', '526'), ('533', '608'), ('615', '684'), ('691', '760'), ('767', '836'), ('843', '912')]\n",
      "val[i] est =  ('843', '920')\n",
      "val[i+1] est =  ('2', '70')\n",
      "val[i][1] =  920\n",
      "val[i+1][0] =  2\n",
      "chevauchement\n",
      "-------------------------------\n",
      "\n",
      "\n",
      "-------------------------------\n",
      "key =  tr|G0V1P8|G0V1P8_TRYCI\n",
      "val =   [('1', '76'), ('77', '152'), ('153', '228'), ('229', '304'), ('305', '380'), ('381', '456'), ('457', '532'), ('533', '608'), ('609', '684'), ('685', '760'), ('761', '836'), ('837', '912'), ('913', '960'), ('2', '71'), ('77', '147'), ('153', '223'), ('229', '299'), ('305', '375'), ('381', '451'), ('457', '527'), ('533', '603'), ('609', '679'), ('685', '755'), ('761', '831'), ('837', '907')]\n",
      "val[i] est =  ('913', '960')\n",
      "val[i+1] est =  ('2', '71')\n",
      "val[i][1] =  960\n",
      "val[i+1][0] =  2\n",
      "chevauchement\n",
      "-------------------------------\n",
      "\n",
      "\n",
      "-------------------------------\n",
      "key =  tr|A0A0L7REF9|A0A0L7REF9_9HYME\n",
      "val =   [('1', '76'), ('77', '152'), ('153', '228'), ('229', '304'), ('305', '380'), ('381', '456'), ('457', '532'), ('533', '608'), ('609', '684'), ('685', '760'), ('761', '836'), ('837', '938'), ('2', '70'), ('77', '146'), ('153', '222'), ('229', '298'), ('305', '374'), ('381', '450'), ('457', '526'), ('533', '602'), ('609', '678'), ('685', '754'), ('761', '830'), ('837', '906')]\n",
      "val[i] est =  ('837', '938')\n",
      "val[i+1] est =  ('2', '70')\n",
      "val[i][1] =  938\n",
      "val[i+1][0] =  2\n",
      "chevauchement\n",
      "-------------------------------\n",
      "\n",
      "\n",
      "-------------------------------\n",
      "key =  tr|O35079|O35079_CRIGR\n",
      "val =   [('1', '76'), ('77', '152'), ('153', '228'), ('229', '304'), ('305', '380'), ('381', '456'), ('457', '532'), ('533', '608'), ('609', '684'), ('685', '760'), ('761', '836'), ('837', '869'), ('2', '70'), ('77', '146'), ('153', '222'), ('229', '298'), ('305', '374'), ('381', '450'), ('457', '526'), ('533', '602'), ('609', '678'), ('685', '754'), ('761', '830')]\n",
      "val[i] est =  ('837', '869')\n",
      "val[i+1] est =  ('2', '70')\n",
      "val[i][1] =  869\n",
      "val[i+1][0] =  2\n",
      "chevauchement\n",
      "-------------------------------\n",
      "\n",
      "\n",
      "-------------------------------\n",
      "key =  tr|T1FVF6|T1FVF6_HELRO\n",
      "val =   [('5', '80'), ('81', '156'), ('157', '232'), ('233', '308'), ('309', '384'), ('385', '460'), ('461', '536'), ('537', '612'), ('613', '688'), ('689', '764'), ('765', '841'), ('5', '74'), ('81', '150'), ('157', '226'), ('233', '302'), ('309', '378'), ('385', '454'), ('461', '530'), ('537', '606'), ('613', '682'), ('689', '758'), ('765', '834')]\n",
      "val[i] est =  ('765', '841')\n",
      "val[i+1] est =  ('5', '74')\n",
      "val[i][1] =  841\n",
      "val[i+1][0] =  5\n",
      "chevauchement\n",
      "-------------------------------\n",
      "\n",
      "\n",
      "-------------------------------\n",
      "key =  tr|A0A0N5DTJ2|A0A0N5DTJ2_TRIMR\n",
      "val =   [('1', '76'), ('77', '152'), ('153', '228'), ('229', '304'), ('305', '380'), ('381', '456'), ('457', '532'), ('533', '608'), ('609', '684'), ('685', '760'), ('761', '840'), ('2', '70'), ('77', '146'), ('153', '222'), ('229', '298'), ('305', '374'), ('381', '450'), ('457', '526'), ('533', '602'), ('609', '678'), ('685', '754'), ('761', '830')]\n",
      "val[i] est =  ('761', '840')\n",
      "val[i+1] est =  ('2', '70')\n",
      "val[i][1] =  840\n",
      "val[i+1][0] =  2\n",
      "chevauchement\n",
      "-------------------------------\n",
      "\n",
      "\n",
      "-------------------------------\n",
      "key =  tr|B3NFZ3|B3NFZ3_DROER\n",
      "val =   [('1', '76'), ('77', '152'), ('153', '228'), ('229', '304'), ('305', '380'), ('381', '456'), ('457', '532'), ('533', '608'), ('609', '684'), ('685', '760'), ('761', '839'), ('2', '70'), ('77', '146'), ('153', '222'), ('229', '298'), ('305', '374'), ('381', '450'), ('457', '526'), ('533', '602'), ('609', '678'), ('685', '754'), ('761', '830')]\n",
      "val[i] est =  ('761', '839')\n",
      "val[i+1] est =  ('2', '70')\n",
      "val[i][1] =  839\n",
      "val[i+1][0] =  2\n",
      "chevauchement\n",
      "-------------------------------\n",
      "\n",
      "\n",
      "-------------------------------\n",
      "key =  tr|A0A069DWK5|A0A069DWK5_9HEMI\n",
      "val =   [('1', '76'), ('77', '152'), ('153', '228'), ('229', '304'), ('305', '380'), ('381', '456'), ('457', '532'), ('533', '608'), ('609', '684'), ('685', '760'), ('761', '837'), ('2', '70'), ('77', '146'), ('153', '222'), ('229', '298'), ('305', '374'), ('381', '450'), ('457', '526'), ('533', '602'), ('609', '678'), ('685', '754'), ('761', '830')]\n",
      "val[i] est =  ('761', '837')\n",
      "val[i+1] est =  ('2', '70')\n",
      "val[i][1] =  837\n",
      "val[i+1][0] =  2\n",
      "chevauchement\n",
      "-------------------------------\n",
      "\n",
      "\n",
      "-------------------------------\n",
      "key =  tr|A0A0R1DX86|A0A0R1DX86_DROYA\n",
      "val =   [('1', '76'), ('77', '152'), ('153', '228'), ('229', '304'), ('305', '380'), ('381', '456'), ('457', '532'), ('533', '608'), ('609', '684'), ('685', '760'), ('761', '839'), ('2', '70'), ('77', '146'), ('153', '222'), ('229', '298'), ('305', '374'), ('381', '450'), ('457', '526'), ('533', '602'), ('609', '678'), ('685', '754'), ('761', '830')]\n",
      "val[i] est =  ('761', '839')\n",
      "val[i+1] est =  ('2', '70')\n",
      "val[i][1] =  839\n",
      "val[i+1][0] =  2\n",
      "chevauchement\n",
      "-------------------------------\n",
      "\n",
      "\n",
      "-------------------------------\n",
      "key =  tr|B3M7Z7|B3M7Z7_DROAN\n",
      "val =   [('1', '76'), ('77', '152'), ('153', '228'), ('229', '304'), ('305', '380'), ('381', '456'), ('457', '532'), ('533', '608'), ('609', '684'), ('685', '760'), ('761', '837'), ('2', '70'), ('77', '146'), ('153', '222'), ('229', '298'), ('305', '374'), ('381', '450'), ('457', '526'), ('533', '602'), ('609', '678'), ('685', '754'), ('761', '830')]\n",
      "val[i] est =  ('761', '837')\n",
      "val[i+1] est =  ('2', '70')\n",
      "val[i][1] =  837\n",
      "val[i+1][0] =  2\n",
      "chevauchement\n",
      "-------------------------------\n",
      "\n",
      "\n",
      "-------------------------------\n",
      "key =  tr|A0A0V0TBY2|A0A0V0TBY2_9BILA\n",
      "val =   [('1', '76'), ('77', '152'), ('153', '228'), ('229', '304'), ('305', '380'), ('381', '456'), ('457', '564'), ('583', '656'), ('657', '704'), ('702', '755'), ('756', '831'), ('832', '913'), ('2', '70'), ('77', '146'), ('153', '222'), ('229', '298'), ('305', '374'), ('381', '450'), ('457', '526'), ('584', '650'), ('657', '749'), ('756', '825'), ('832', '901')]\n",
      "val[i] est =  ('657', '704')\n",
      "val[i+1] est =  ('702', '755')\n",
      "val[i][1] =  704\n",
      "val[i+1][0] =  702\n",
      "chevauchement\n",
      "-------------------------------\n",
      "\n",
      "\n",
      "-------------------------------\n",
      "key =  tr|A0A0V0TBY2|A0A0V0TBY2_9BILA\n",
      "val =   [('1', '76'), ('77', '152'), ('153', '228'), ('229', '304'), ('305', '380'), ('381', '456'), ('457', '564'), ('583', '656'), ('657', '704'), ('702', '755'), ('756', '831'), ('832', '913'), ('2', '70'), ('77', '146'), ('153', '222'), ('229', '298'), ('305', '374'), ('381', '450'), ('457', '526'), ('584', '650'), ('657', '749'), ('756', '825'), ('832', '901')]\n",
      "val[i] est =  ('832', '913')\n",
      "val[i+1] est =  ('2', '70')\n",
      "val[i][1] =  913\n",
      "val[i+1][0] =  2\n",
      "chevauchement\n",
      "-------------------------------\n",
      "\n",
      "\n",
      "-------------------------------\n",
      "key =  tr|A0A026WRG4|A0A026WRG4_OOCBI\n",
      "val =   [('1', '76'), ('77', '152'), ('153', '228'), ('229', '304'), ('305', '380'), ('381', '456'), ('457', '532'), ('533', '608'), ('609', '684'), ('685', '760'), ('761', '838'), ('2', '70'), ('77', '146'), ('153', '222'), ('229', '298'), ('305', '374'), ('381', '450'), ('457', '526'), ('533', '602'), ('609', '678'), ('685', '754'), ('761', '830')]\n",
      "val[i] est =  ('761', '838')\n",
      "val[i+1] est =  ('2', '70')\n",
      "val[i][1] =  838\n",
      "val[i+1][0] =  2\n",
      "chevauchement\n",
      "-------------------------------\n",
      "\n",
      "\n",
      "-------------------------------\n",
      "key =  tr|E0VZ82|E0VZ82_PEDHC\n",
      "val =   [('1', '76'), ('77', '152'), ('153', '228'), ('229', '304'), ('305', '380'), ('381', '457'), ('458', '533'), ('534', '609'), ('610', '685'), ('686', '761'), ('762', '841'), ('2', '70'), ('77', '146'), ('153', '222'), ('229', '298'), ('305', '374'), ('381', '450'), ('457', '527'), ('534', '603'), ('610', '679'), ('686', '755'), ('762', '831')]\n",
      "val[i] est =  ('762', '841')\n",
      "val[i+1] est =  ('2', '70')\n",
      "val[i][1] =  841\n",
      "val[i+1][0] =  2\n",
      "chevauchement\n",
      "-------------------------------\n",
      "\n",
      "\n",
      "-------------------------------\n",
      "key =  tr|Q4Q165|Q4Q165_LEIMA\n",
      "val =   [('1', '76'), ('77', '152'), ('153', '228'), ('229', '304'), ('305', '380'), ('381', '456'), ('457', '532'), ('533', '608'), ('609', '684'), ('685', '760'), ('761', '837'), ('2', '71'), ('77', '147'), ('153', '223'), ('229', '299'), ('305', '375'), ('381', '451'), ('457', '527'), ('533', '603'), ('609', '679'), ('685', '755'), ('761', '830')]\n",
      "val[i] est =  ('761', '837')\n",
      "val[i+1] est =  ('2', '71')\n",
      "val[i][1] =  837\n",
      "val[i+1][0] =  2\n",
      "chevauchement\n",
      "-------------------------------\n",
      "\n",
      "\n",
      "-------------------------------\n",
      "key =  sp|P0CG71|UBIQ1_CAEEL\n",
      "val =   [('1', '76'), ('77', '152'), ('153', '228'), ('229', '304'), ('305', '380'), ('381', '456'), ('457', '532'), ('533', '608'), ('609', '684'), ('685', '760'), ('761', '838'), ('2', '70'), ('77', '146'), ('153', '222'), ('229', '298'), ('305', '374'), ('383', '450'), ('457', '526'), ('533', '602'), ('609', '678'), ('685', '754'), ('761', '830')]\n",
      "val[i] est =  ('761', '838')\n",
      "val[i+1] est =  ('2', '70')\n",
      "val[i][1] =  838\n",
      "val[i+1][0] =  2\n",
      "chevauchement\n",
      "-------------------------------\n",
      "\n",
      "\n",
      "-------------------------------\n",
      "key =  tr|A0A072UMK2|A0A072UMK2_MEDTR\n",
      "val =   [('1', '76'), ('77', '152'), ('153', '228'), ('229', '304'), ('305', '380'), ('381', '456'), ('457', '532'), ('533', '608'), ('609', '684'), ('685', '760'), ('761', '837'), ('2', '70'), ('77', '146'), ('153', '222'), ('229', '298'), ('305', '374'), ('381', '450'), ('457', '526'), ('533', '602'), ('609', '678'), ('685', '754'), ('761', '830')]\n",
      "val[i] est =  ('761', '837')\n",
      "val[i+1] est =  ('2', '70')\n",
      "val[i][1] =  837\n",
      "val[i+1][0] =  2\n",
      "chevauchement\n",
      "-------------------------------\n",
      "\n",
      "\n",
      "-------------------------------\n",
      "key =  tr|A0A0V0W2E7|A0A0V0W2E7_9BILA\n",
      "val =   [('1', '27'), ('28', '103'), ('104', '179'), ('180', '255'), ('256', '331'), ('332', '407'), ('408', '500'), ('665', '724'), ('1059', '1134'), ('1135', '1210'), ('1211', '1286'), ('1287', '1362'), ('1363', '1379'), ('28', '97'), ('104', '173'), ('180', '249'), ('256', '325'), ('332', '401'), ('408', '477'), ('665', '721'), ('1058', '1128'), ('1135', '1204'), ('1211', '1280'), ('1287', '1356')]\n",
      "val[i] est =  ('1363', '1379')\n",
      "val[i+1] est =  ('28', '97')\n",
      "val[i][1] =  1379\n",
      "val[i+1][0] =  28\n",
      "chevauchement\n",
      "-------------------------------\n",
      "\n",
      "\n",
      "-------------------------------\n",
      "key =  tr|A4HU11|A4HU11_LEIIN\n",
      "val =   [('4', '54'), ('55', '130'), ('131', '206'), ('207', '282'), ('283', '358'), ('359', '434'), ('435', '510'), ('511', '586'), ('587', '662'), ('663', '738'), ('739', '851'), ('55', '125'), ('131', '201'), ('207', '277'), ('283', '353'), ('359', '429'), ('435', '505'), ('511', '581'), ('587', '657'), ('663', '733'), ('739', '808')]\n",
      "val[i] est =  ('739', '851')\n",
      "val[i+1] est =  ('55', '125')\n",
      "val[i][1] =  851\n",
      "val[i+1][0] =  55\n",
      "chevauchement\n",
      "-------------------------------\n",
      "\n",
      "\n",
      "-------------------------------\n",
      "key =  tr|U6KZM6|U6KZM6_EIMTE\n",
      "val =   [('6', '52'), ('50', '81'), ('74', '110'), ('103', '139'), ('137', '168'), ('166', '197'), ('194', '226'), ('224', '255'), ('248', '284'), ('280', '314'), ('311', '342'), ('339', '371'), ('369', '400'), ('398', '429'), ('427', '458'), ('456', '486'), ('484', '516'), ('514', '545'), ('543', '574'), ('567', '603'), ('601', '632'), ('630', '661'), ('659', '690'), ('688', '719'), ('717', '749'), ('746', '777'), ('775', '806'), ('804', '835'), ('833', '864'), ('862', '894'), ('891', '922'), ('920', '951'), ('948', '980'), ('978', '1009'), ('1007', '1039'), ('1036', '1068'), ('1065', '1096'), ('1094', '1126'), ('1122', '1154'), ('1151', '1189')]\n",
      "val[i] est =  ('6', '52')\n",
      "val[i+1] est =  ('50', '81')\n",
      "val[i][1] =  52\n",
      "val[i+1][0] =  50\n",
      "chevauchement\n",
      "-------------------------------\n",
      "\n",
      "\n",
      "-------------------------------\n",
      "key =  tr|U6KZM6|U6KZM6_EIMTE\n",
      "val =   [('6', '52'), ('50', '81'), ('74', '110'), ('103', '139'), ('137', '168'), ('166', '197'), ('194', '226'), ('224', '255'), ('248', '284'), ('280', '314'), ('311', '342'), ('339', '371'), ('369', '400'), ('398', '429'), ('427', '458'), ('456', '486'), ('484', '516'), ('514', '545'), ('543', '574'), ('567', '603'), ('601', '632'), ('630', '661'), ('659', '690'), ('688', '719'), ('717', '749'), ('746', '777'), ('775', '806'), ('804', '835'), ('833', '864'), ('862', '894'), ('891', '922'), ('920', '951'), ('948', '980'), ('978', '1009'), ('1007', '1039'), ('1036', '1068'), ('1065', '1096'), ('1094', '1126'), ('1122', '1154'), ('1151', '1189')]\n",
      "val[i] est =  ('50', '81')\n",
      "val[i+1] est =  ('74', '110')\n",
      "val[i][1] =  81\n",
      "val[i+1][0] =  74\n",
      "chevauchement\n",
      "-------------------------------\n",
      "\n",
      "\n",
      "-------------------------------\n",
      "key =  tr|U6KZM6|U6KZM6_EIMTE\n",
      "val =   [('6', '52'), ('50', '81'), ('74', '110'), ('103', '139'), ('137', '168'), ('166', '197'), ('194', '226'), ('224', '255'), ('248', '284'), ('280', '314'), ('311', '342'), ('339', '371'), ('369', '400'), ('398', '429'), ('427', '458'), ('456', '486'), ('484', '516'), ('514', '545'), ('543', '574'), ('567', '603'), ('601', '632'), ('630', '661'), ('659', '690'), ('688', '719'), ('717', '749'), ('746', '777'), ('775', '806'), ('804', '835'), ('833', '864'), ('862', '894'), ('891', '922'), ('920', '951'), ('948', '980'), ('978', '1009'), ('1007', '1039'), ('1036', '1068'), ('1065', '1096'), ('1094', '1126'), ('1122', '1154'), ('1151', '1189')]\n",
      "val[i] est =  ('74', '110')\n",
      "val[i+1] est =  ('103', '139')\n",
      "val[i][1] =  110\n",
      "val[i+1][0] =  103\n",
      "chevauchement\n",
      "-------------------------------\n",
      "\n",
      "\n",
      "-------------------------------\n",
      "key =  tr|U6KZM6|U6KZM6_EIMTE\n",
      "val =   [('6', '52'), ('50', '81'), ('74', '110'), ('103', '139'), ('137', '168'), ('166', '197'), ('194', '226'), ('224', '255'), ('248', '284'), ('280', '314'), ('311', '342'), ('339', '371'), ('369', '400'), ('398', '429'), ('427', '458'), ('456', '486'), ('484', '516'), ('514', '545'), ('543', '574'), ('567', '603'), ('601', '632'), ('630', '661'), ('659', '690'), ('688', '719'), ('717', '749'), ('746', '777'), ('775', '806'), ('804', '835'), ('833', '864'), ('862', '894'), ('891', '922'), ('920', '951'), ('948', '980'), ('978', '1009'), ('1007', '1039'), ('1036', '1068'), ('1065', '1096'), ('1094', '1126'), ('1122', '1154'), ('1151', '1189')]\n",
      "val[i] est =  ('103', '139')\n",
      "val[i+1] est =  ('137', '168')\n",
      "val[i][1] =  139\n",
      "val[i+1][0] =  137\n",
      "chevauchement\n",
      "-------------------------------\n",
      "\n",
      "\n",
      "-------------------------------\n",
      "key =  tr|U6KZM6|U6KZM6_EIMTE\n",
      "val =   [('6', '52'), ('50', '81'), ('74', '110'), ('103', '139'), ('137', '168'), ('166', '197'), ('194', '226'), ('224', '255'), ('248', '284'), ('280', '314'), ('311', '342'), ('339', '371'), ('369', '400'), ('398', '429'), ('427', '458'), ('456', '486'), ('484', '516'), ('514', '545'), ('543', '574'), ('567', '603'), ('601', '632'), ('630', '661'), ('659', '690'), ('688', '719'), ('717', '749'), ('746', '777'), ('775', '806'), ('804', '835'), ('833', '864'), ('862', '894'), ('891', '922'), ('920', '951'), ('948', '980'), ('978', '1009'), ('1007', '1039'), ('1036', '1068'), ('1065', '1096'), ('1094', '1126'), ('1122', '1154'), ('1151', '1189')]\n",
      "val[i] est =  ('137', '168')\n",
      "val[i+1] est =  ('166', '197')\n",
      "val[i][1] =  168\n",
      "val[i+1][0] =  166\n",
      "chevauchement\n",
      "-------------------------------\n",
      "\n",
      "\n",
      "-------------------------------\n",
      "key =  tr|U6KZM6|U6KZM6_EIMTE\n",
      "val =   [('6', '52'), ('50', '81'), ('74', '110'), ('103', '139'), ('137', '168'), ('166', '197'), ('194', '226'), ('224', '255'), ('248', '284'), ('280', '314'), ('311', '342'), ('339', '371'), ('369', '400'), ('398', '429'), ('427', '458'), ('456', '486'), ('484', '516'), ('514', '545'), ('543', '574'), ('567', '603'), ('601', '632'), ('630', '661'), ('659', '690'), ('688', '719'), ('717', '749'), ('746', '777'), ('775', '806'), ('804', '835'), ('833', '864'), ('862', '894'), ('891', '922'), ('920', '951'), ('948', '980'), ('978', '1009'), ('1007', '1039'), ('1036', '1068'), ('1065', '1096'), ('1094', '1126'), ('1122', '1154'), ('1151', '1189')]\n",
      "val[i] est =  ('166', '197')\n",
      "val[i+1] est =  ('194', '226')\n",
      "val[i][1] =  197\n",
      "val[i+1][0] =  194\n",
      "chevauchement\n",
      "-------------------------------\n",
      "\n",
      "\n",
      "-------------------------------\n",
      "key =  tr|U6KZM6|U6KZM6_EIMTE\n",
      "val =   [('6', '52'), ('50', '81'), ('74', '110'), ('103', '139'), ('137', '168'), ('166', '197'), ('194', '226'), ('224', '255'), ('248', '284'), ('280', '314'), ('311', '342'), ('339', '371'), ('369', '400'), ('398', '429'), ('427', '458'), ('456', '486'), ('484', '516'), ('514', '545'), ('543', '574'), ('567', '603'), ('601', '632'), ('630', '661'), ('659', '690'), ('688', '719'), ('717', '749'), ('746', '777'), ('775', '806'), ('804', '835'), ('833', '864'), ('862', '894'), ('891', '922'), ('920', '951'), ('948', '980'), ('978', '1009'), ('1007', '1039'), ('1036', '1068'), ('1065', '1096'), ('1094', '1126'), ('1122', '1154'), ('1151', '1189')]\n",
      "val[i] est =  ('194', '226')\n",
      "val[i+1] est =  ('224', '255')\n",
      "val[i][1] =  226\n",
      "val[i+1][0] =  224\n",
      "chevauchement\n",
      "-------------------------------\n",
      "\n",
      "\n",
      "-------------------------------\n",
      "key =  tr|U6KZM6|U6KZM6_EIMTE\n",
      "val =   [('6', '52'), ('50', '81'), ('74', '110'), ('103', '139'), ('137', '168'), ('166', '197'), ('194', '226'), ('224', '255'), ('248', '284'), ('280', '314'), ('311', '342'), ('339', '371'), ('369', '400'), ('398', '429'), ('427', '458'), ('456', '486'), ('484', '516'), ('514', '545'), ('543', '574'), ('567', '603'), ('601', '632'), ('630', '661'), ('659', '690'), ('688', '719'), ('717', '749'), ('746', '777'), ('775', '806'), ('804', '835'), ('833', '864'), ('862', '894'), ('891', '922'), ('920', '951'), ('948', '980'), ('978', '1009'), ('1007', '1039'), ('1036', '1068'), ('1065', '1096'), ('1094', '1126'), ('1122', '1154'), ('1151', '1189')]\n",
      "val[i] est =  ('224', '255')\n",
      "val[i+1] est =  ('248', '284')\n",
      "val[i][1] =  255\n",
      "val[i+1][0] =  248\n",
      "chevauchement\n",
      "-------------------------------\n",
      "\n",
      "\n",
      "-------------------------------\n",
      "key =  tr|U6KZM6|U6KZM6_EIMTE\n",
      "val =   [('6', '52'), ('50', '81'), ('74', '110'), ('103', '139'), ('137', '168'), ('166', '197'), ('194', '226'), ('224', '255'), ('248', '284'), ('280', '314'), ('311', '342'), ('339', '371'), ('369', '400'), ('398', '429'), ('427', '458'), ('456', '486'), ('484', '516'), ('514', '545'), ('543', '574'), ('567', '603'), ('601', '632'), ('630', '661'), ('659', '690'), ('688', '719'), ('717', '749'), ('746', '777'), ('775', '806'), ('804', '835'), ('833', '864'), ('862', '894'), ('891', '922'), ('920', '951'), ('948', '980'), ('978', '1009'), ('1007', '1039'), ('1036', '1068'), ('1065', '1096'), ('1094', '1126'), ('1122', '1154'), ('1151', '1189')]\n",
      "val[i] est =  ('248', '284')\n",
      "val[i+1] est =  ('280', '314')\n",
      "val[i][1] =  284\n",
      "val[i+1][0] =  280\n",
      "chevauchement\n",
      "-------------------------------\n",
      "\n",
      "\n",
      "-------------------------------\n",
      "key =  tr|U6KZM6|U6KZM6_EIMTE\n",
      "val =   [('6', '52'), ('50', '81'), ('74', '110'), ('103', '139'), ('137', '168'), ('166', '197'), ('194', '226'), ('224', '255'), ('248', '284'), ('280', '314'), ('311', '342'), ('339', '371'), ('369', '400'), ('398', '429'), ('427', '458'), ('456', '486'), ('484', '516'), ('514', '545'), ('543', '574'), ('567', '603'), ('601', '632'), ('630', '661'), ('659', '690'), ('688', '719'), ('717', '749'), ('746', '777'), ('775', '806'), ('804', '835'), ('833', '864'), ('862', '894'), ('891', '922'), ('920', '951'), ('948', '980'), ('978', '1009'), ('1007', '1039'), ('1036', '1068'), ('1065', '1096'), ('1094', '1126'), ('1122', '1154'), ('1151', '1189')]\n",
      "val[i] est =  ('280', '314')\n",
      "val[i+1] est =  ('311', '342')\n",
      "val[i][1] =  314\n",
      "val[i+1][0] =  311\n",
      "chevauchement\n",
      "-------------------------------\n",
      "\n",
      "\n",
      "-------------------------------\n",
      "key =  tr|U6KZM6|U6KZM6_EIMTE\n",
      "val =   [('6', '52'), ('50', '81'), ('74', '110'), ('103', '139'), ('137', '168'), ('166', '197'), ('194', '226'), ('224', '255'), ('248', '284'), ('280', '314'), ('311', '342'), ('339', '371'), ('369', '400'), ('398', '429'), ('427', '458'), ('456', '486'), ('484', '516'), ('514', '545'), ('543', '574'), ('567', '603'), ('601', '632'), ('630', '661'), ('659', '690'), ('688', '719'), ('717', '749'), ('746', '777'), ('775', '806'), ('804', '835'), ('833', '864'), ('862', '894'), ('891', '922'), ('920', '951'), ('948', '980'), ('978', '1009'), ('1007', '1039'), ('1036', '1068'), ('1065', '1096'), ('1094', '1126'), ('1122', '1154'), ('1151', '1189')]\n",
      "val[i] est =  ('311', '342')\n",
      "val[i+1] est =  ('339', '371')\n",
      "val[i][1] =  342\n",
      "val[i+1][0] =  339\n",
      "chevauchement\n",
      "-------------------------------\n",
      "\n",
      "\n",
      "-------------------------------\n",
      "key =  tr|U6KZM6|U6KZM6_EIMTE\n",
      "val =   [('6', '52'), ('50', '81'), ('74', '110'), ('103', '139'), ('137', '168'), ('166', '197'), ('194', '226'), ('224', '255'), ('248', '284'), ('280', '314'), ('311', '342'), ('339', '371'), ('369', '400'), ('398', '429'), ('427', '458'), ('456', '486'), ('484', '516'), ('514', '545'), ('543', '574'), ('567', '603'), ('601', '632'), ('630', '661'), ('659', '690'), ('688', '719'), ('717', '749'), ('746', '777'), ('775', '806'), ('804', '835'), ('833', '864'), ('862', '894'), ('891', '922'), ('920', '951'), ('948', '980'), ('978', '1009'), ('1007', '1039'), ('1036', '1068'), ('1065', '1096'), ('1094', '1126'), ('1122', '1154'), ('1151', '1189')]\n",
      "val[i] est =  ('339', '371')\n",
      "val[i+1] est =  ('369', '400')\n",
      "val[i][1] =  371\n",
      "val[i+1][0] =  369\n",
      "chevauchement\n",
      "-------------------------------\n",
      "\n",
      "\n",
      "-------------------------------\n",
      "key =  tr|U6KZM6|U6KZM6_EIMTE\n",
      "val =   [('6', '52'), ('50', '81'), ('74', '110'), ('103', '139'), ('137', '168'), ('166', '197'), ('194', '226'), ('224', '255'), ('248', '284'), ('280', '314'), ('311', '342'), ('339', '371'), ('369', '400'), ('398', '429'), ('427', '458'), ('456', '486'), ('484', '516'), ('514', '545'), ('543', '574'), ('567', '603'), ('601', '632'), ('630', '661'), ('659', '690'), ('688', '719'), ('717', '749'), ('746', '777'), ('775', '806'), ('804', '835'), ('833', '864'), ('862', '894'), ('891', '922'), ('920', '951'), ('948', '980'), ('978', '1009'), ('1007', '1039'), ('1036', '1068'), ('1065', '1096'), ('1094', '1126'), ('1122', '1154'), ('1151', '1189')]\n",
      "val[i] est =  ('369', '400')\n",
      "val[i+1] est =  ('398', '429')\n",
      "val[i][1] =  400\n",
      "val[i+1][0] =  398\n",
      "chevauchement\n",
      "-------------------------------\n",
      "\n",
      "\n",
      "-------------------------------\n",
      "key =  tr|U6KZM6|U6KZM6_EIMTE\n",
      "val =   [('6', '52'), ('50', '81'), ('74', '110'), ('103', '139'), ('137', '168'), ('166', '197'), ('194', '226'), ('224', '255'), ('248', '284'), ('280', '314'), ('311', '342'), ('339', '371'), ('369', '400'), ('398', '429'), ('427', '458'), ('456', '486'), ('484', '516'), ('514', '545'), ('543', '574'), ('567', '603'), ('601', '632'), ('630', '661'), ('659', '690'), ('688', '719'), ('717', '749'), ('746', '777'), ('775', '806'), ('804', '835'), ('833', '864'), ('862', '894'), ('891', '922'), ('920', '951'), ('948', '980'), ('978', '1009'), ('1007', '1039'), ('1036', '1068'), ('1065', '1096'), ('1094', '1126'), ('1122', '1154'), ('1151', '1189')]\n",
      "val[i] est =  ('398', '429')\n",
      "val[i+1] est =  ('427', '458')\n",
      "val[i][1] =  429\n",
      "val[i+1][0] =  427\n",
      "chevauchement\n",
      "-------------------------------\n",
      "\n",
      "\n",
      "-------------------------------\n",
      "key =  tr|U6KZM6|U6KZM6_EIMTE\n",
      "val =   [('6', '52'), ('50', '81'), ('74', '110'), ('103', '139'), ('137', '168'), ('166', '197'), ('194', '226'), ('224', '255'), ('248', '284'), ('280', '314'), ('311', '342'), ('339', '371'), ('369', '400'), ('398', '429'), ('427', '458'), ('456', '486'), ('484', '516'), ('514', '545'), ('543', '574'), ('567', '603'), ('601', '632'), ('630', '661'), ('659', '690'), ('688', '719'), ('717', '749'), ('746', '777'), ('775', '806'), ('804', '835'), ('833', '864'), ('862', '894'), ('891', '922'), ('920', '951'), ('948', '980'), ('978', '1009'), ('1007', '1039'), ('1036', '1068'), ('1065', '1096'), ('1094', '1126'), ('1122', '1154'), ('1151', '1189')]\n",
      "val[i] est =  ('427', '458')\n",
      "val[i+1] est =  ('456', '486')\n",
      "val[i][1] =  458\n",
      "val[i+1][0] =  456\n",
      "chevauchement\n",
      "-------------------------------\n",
      "\n",
      "\n",
      "-------------------------------\n",
      "key =  tr|U6KZM6|U6KZM6_EIMTE\n",
      "val =   [('6', '52'), ('50', '81'), ('74', '110'), ('103', '139'), ('137', '168'), ('166', '197'), ('194', '226'), ('224', '255'), ('248', '284'), ('280', '314'), ('311', '342'), ('339', '371'), ('369', '400'), ('398', '429'), ('427', '458'), ('456', '486'), ('484', '516'), ('514', '545'), ('543', '574'), ('567', '603'), ('601', '632'), ('630', '661'), ('659', '690'), ('688', '719'), ('717', '749'), ('746', '777'), ('775', '806'), ('804', '835'), ('833', '864'), ('862', '894'), ('891', '922'), ('920', '951'), ('948', '980'), ('978', '1009'), ('1007', '1039'), ('1036', '1068'), ('1065', '1096'), ('1094', '1126'), ('1122', '1154'), ('1151', '1189')]\n",
      "val[i] est =  ('456', '486')\n",
      "val[i+1] est =  ('484', '516')\n",
      "val[i][1] =  486\n",
      "val[i+1][0] =  484\n",
      "chevauchement\n",
      "-------------------------------\n",
      "\n",
      "\n",
      "-------------------------------\n",
      "key =  tr|U6KZM6|U6KZM6_EIMTE\n",
      "val =   [('6', '52'), ('50', '81'), ('74', '110'), ('103', '139'), ('137', '168'), ('166', '197'), ('194', '226'), ('224', '255'), ('248', '284'), ('280', '314'), ('311', '342'), ('339', '371'), ('369', '400'), ('398', '429'), ('427', '458'), ('456', '486'), ('484', '516'), ('514', '545'), ('543', '574'), ('567', '603'), ('601', '632'), ('630', '661'), ('659', '690'), ('688', '719'), ('717', '749'), ('746', '777'), ('775', '806'), ('804', '835'), ('833', '864'), ('862', '894'), ('891', '922'), ('920', '951'), ('948', '980'), ('978', '1009'), ('1007', '1039'), ('1036', '1068'), ('1065', '1096'), ('1094', '1126'), ('1122', '1154'), ('1151', '1189')]\n",
      "val[i] est =  ('484', '516')\n",
      "val[i+1] est =  ('514', '545')\n",
      "val[i][1] =  516\n",
      "val[i+1][0] =  514\n",
      "chevauchement\n",
      "-------------------------------\n",
      "\n",
      "\n",
      "-------------------------------\n",
      "key =  tr|U6KZM6|U6KZM6_EIMTE\n",
      "val =   [('6', '52'), ('50', '81'), ('74', '110'), ('103', '139'), ('137', '168'), ('166', '197'), ('194', '226'), ('224', '255'), ('248', '284'), ('280', '314'), ('311', '342'), ('339', '371'), ('369', '400'), ('398', '429'), ('427', '458'), ('456', '486'), ('484', '516'), ('514', '545'), ('543', '574'), ('567', '603'), ('601', '632'), ('630', '661'), ('659', '690'), ('688', '719'), ('717', '749'), ('746', '777'), ('775', '806'), ('804', '835'), ('833', '864'), ('862', '894'), ('891', '922'), ('920', '951'), ('948', '980'), ('978', '1009'), ('1007', '1039'), ('1036', '1068'), ('1065', '1096'), ('1094', '1126'), ('1122', '1154'), ('1151', '1189')]\n",
      "val[i] est =  ('514', '545')\n",
      "val[i+1] est =  ('543', '574')\n",
      "val[i][1] =  545\n",
      "val[i+1][0] =  543\n",
      "chevauchement\n",
      "-------------------------------\n",
      "\n",
      "\n",
      "-------------------------------\n",
      "key =  tr|U6KZM6|U6KZM6_EIMTE\n",
      "val =   [('6', '52'), ('50', '81'), ('74', '110'), ('103', '139'), ('137', '168'), ('166', '197'), ('194', '226'), ('224', '255'), ('248', '284'), ('280', '314'), ('311', '342'), ('339', '371'), ('369', '400'), ('398', '429'), ('427', '458'), ('456', '486'), ('484', '516'), ('514', '545'), ('543', '574'), ('567', '603'), ('601', '632'), ('630', '661'), ('659', '690'), ('688', '719'), ('717', '749'), ('746', '777'), ('775', '806'), ('804', '835'), ('833', '864'), ('862', '894'), ('891', '922'), ('920', '951'), ('948', '980'), ('978', '1009'), ('1007', '1039'), ('1036', '1068'), ('1065', '1096'), ('1094', '1126'), ('1122', '1154'), ('1151', '1189')]\n",
      "val[i] est =  ('543', '574')\n",
      "val[i+1] est =  ('567', '603')\n",
      "val[i][1] =  574\n",
      "val[i+1][0] =  567\n",
      "chevauchement\n",
      "-------------------------------\n",
      "\n",
      "\n",
      "-------------------------------\n",
      "key =  tr|U6KZM6|U6KZM6_EIMTE\n",
      "val =   [('6', '52'), ('50', '81'), ('74', '110'), ('103', '139'), ('137', '168'), ('166', '197'), ('194', '226'), ('224', '255'), ('248', '284'), ('280', '314'), ('311', '342'), ('339', '371'), ('369', '400'), ('398', '429'), ('427', '458'), ('456', '486'), ('484', '516'), ('514', '545'), ('543', '574'), ('567', '603'), ('601', '632'), ('630', '661'), ('659', '690'), ('688', '719'), ('717', '749'), ('746', '777'), ('775', '806'), ('804', '835'), ('833', '864'), ('862', '894'), ('891', '922'), ('920', '951'), ('948', '980'), ('978', '1009'), ('1007', '1039'), ('1036', '1068'), ('1065', '1096'), ('1094', '1126'), ('1122', '1154'), ('1151', '1189')]\n",
      "val[i] est =  ('567', '603')\n",
      "val[i+1] est =  ('601', '632')\n",
      "val[i][1] =  603\n",
      "val[i+1][0] =  601\n",
      "chevauchement\n",
      "-------------------------------\n",
      "\n",
      "\n",
      "-------------------------------\n",
      "key =  tr|U6KZM6|U6KZM6_EIMTE\n",
      "val =   [('6', '52'), ('50', '81'), ('74', '110'), ('103', '139'), ('137', '168'), ('166', '197'), ('194', '226'), ('224', '255'), ('248', '284'), ('280', '314'), ('311', '342'), ('339', '371'), ('369', '400'), ('398', '429'), ('427', '458'), ('456', '486'), ('484', '516'), ('514', '545'), ('543', '574'), ('567', '603'), ('601', '632'), ('630', '661'), ('659', '690'), ('688', '719'), ('717', '749'), ('746', '777'), ('775', '806'), ('804', '835'), ('833', '864'), ('862', '894'), ('891', '922'), ('920', '951'), ('948', '980'), ('978', '1009'), ('1007', '1039'), ('1036', '1068'), ('1065', '1096'), ('1094', '1126'), ('1122', '1154'), ('1151', '1189')]\n",
      "val[i] est =  ('601', '632')\n",
      "val[i+1] est =  ('630', '661')\n",
      "val[i][1] =  632\n",
      "val[i+1][0] =  630\n",
      "chevauchement\n",
      "-------------------------------\n",
      "\n",
      "\n",
      "-------------------------------\n",
      "key =  tr|U6KZM6|U6KZM6_EIMTE\n",
      "val =   [('6', '52'), ('50', '81'), ('74', '110'), ('103', '139'), ('137', '168'), ('166', '197'), ('194', '226'), ('224', '255'), ('248', '284'), ('280', '314'), ('311', '342'), ('339', '371'), ('369', '400'), ('398', '429'), ('427', '458'), ('456', '486'), ('484', '516'), ('514', '545'), ('543', '574'), ('567', '603'), ('601', '632'), ('630', '661'), ('659', '690'), ('688', '719'), ('717', '749'), ('746', '777'), ('775', '806'), ('804', '835'), ('833', '864'), ('862', '894'), ('891', '922'), ('920', '951'), ('948', '980'), ('978', '1009'), ('1007', '1039'), ('1036', '1068'), ('1065', '1096'), ('1094', '1126'), ('1122', '1154'), ('1151', '1189')]\n",
      "val[i] est =  ('630', '661')\n",
      "val[i+1] est =  ('659', '690')\n",
      "val[i][1] =  661\n",
      "val[i+1][0] =  659\n",
      "chevauchement\n",
      "-------------------------------\n",
      "\n",
      "\n",
      "-------------------------------\n",
      "key =  tr|U6KZM6|U6KZM6_EIMTE\n",
      "val =   [('6', '52'), ('50', '81'), ('74', '110'), ('103', '139'), ('137', '168'), ('166', '197'), ('194', '226'), ('224', '255'), ('248', '284'), ('280', '314'), ('311', '342'), ('339', '371'), ('369', '400'), ('398', '429'), ('427', '458'), ('456', '486'), ('484', '516'), ('514', '545'), ('543', '574'), ('567', '603'), ('601', '632'), ('630', '661'), ('659', '690'), ('688', '719'), ('717', '749'), ('746', '777'), ('775', '806'), ('804', '835'), ('833', '864'), ('862', '894'), ('891', '922'), ('920', '951'), ('948', '980'), ('978', '1009'), ('1007', '1039'), ('1036', '1068'), ('1065', '1096'), ('1094', '1126'), ('1122', '1154'), ('1151', '1189')]\n",
      "val[i] est =  ('659', '690')\n",
      "val[i+1] est =  ('688', '719')\n",
      "val[i][1] =  690\n",
      "val[i+1][0] =  688\n",
      "chevauchement\n",
      "-------------------------------\n",
      "\n",
      "\n",
      "-------------------------------\n",
      "key =  tr|U6KZM6|U6KZM6_EIMTE\n",
      "val =   [('6', '52'), ('50', '81'), ('74', '110'), ('103', '139'), ('137', '168'), ('166', '197'), ('194', '226'), ('224', '255'), ('248', '284'), ('280', '314'), ('311', '342'), ('339', '371'), ('369', '400'), ('398', '429'), ('427', '458'), ('456', '486'), ('484', '516'), ('514', '545'), ('543', '574'), ('567', '603'), ('601', '632'), ('630', '661'), ('659', '690'), ('688', '719'), ('717', '749'), ('746', '777'), ('775', '806'), ('804', '835'), ('833', '864'), ('862', '894'), ('891', '922'), ('920', '951'), ('948', '980'), ('978', '1009'), ('1007', '1039'), ('1036', '1068'), ('1065', '1096'), ('1094', '1126'), ('1122', '1154'), ('1151', '1189')]\n",
      "val[i] est =  ('688', '719')\n",
      "val[i+1] est =  ('717', '749')\n",
      "val[i][1] =  719\n",
      "val[i+1][0] =  717\n",
      "chevauchement\n",
      "-------------------------------\n",
      "\n",
      "\n",
      "-------------------------------\n",
      "key =  tr|U6KZM6|U6KZM6_EIMTE\n",
      "val =   [('6', '52'), ('50', '81'), ('74', '110'), ('103', '139'), ('137', '168'), ('166', '197'), ('194', '226'), ('224', '255'), ('248', '284'), ('280', '314'), ('311', '342'), ('339', '371'), ('369', '400'), ('398', '429'), ('427', '458'), ('456', '486'), ('484', '516'), ('514', '545'), ('543', '574'), ('567', '603'), ('601', '632'), ('630', '661'), ('659', '690'), ('688', '719'), ('717', '749'), ('746', '777'), ('775', '806'), ('804', '835'), ('833', '864'), ('862', '894'), ('891', '922'), ('920', '951'), ('948', '980'), ('978', '1009'), ('1007', '1039'), ('1036', '1068'), ('1065', '1096'), ('1094', '1126'), ('1122', '1154'), ('1151', '1189')]\n",
      "val[i] est =  ('717', '749')\n",
      "val[i+1] est =  ('746', '777')\n",
      "val[i][1] =  749\n",
      "val[i+1][0] =  746\n",
      "chevauchement\n",
      "-------------------------------\n",
      "\n",
      "\n",
      "-------------------------------\n",
      "key =  tr|U6KZM6|U6KZM6_EIMTE\n",
      "val =   [('6', '52'), ('50', '81'), ('74', '110'), ('103', '139'), ('137', '168'), ('166', '197'), ('194', '226'), ('224', '255'), ('248', '284'), ('280', '314'), ('311', '342'), ('339', '371'), ('369', '400'), ('398', '429'), ('427', '458'), ('456', '486'), ('484', '516'), ('514', '545'), ('543', '574'), ('567', '603'), ('601', '632'), ('630', '661'), ('659', '690'), ('688', '719'), ('717', '749'), ('746', '777'), ('775', '806'), ('804', '835'), ('833', '864'), ('862', '894'), ('891', '922'), ('920', '951'), ('948', '980'), ('978', '1009'), ('1007', '1039'), ('1036', '1068'), ('1065', '1096'), ('1094', '1126'), ('1122', '1154'), ('1151', '1189')]\n",
      "val[i] est =  ('746', '777')\n",
      "val[i+1] est =  ('775', '806')\n",
      "val[i][1] =  777\n",
      "val[i+1][0] =  775\n",
      "chevauchement\n",
      "-------------------------------\n",
      "\n",
      "\n",
      "-------------------------------\n",
      "key =  tr|U6KZM6|U6KZM6_EIMTE\n",
      "val =   [('6', '52'), ('50', '81'), ('74', '110'), ('103', '139'), ('137', '168'), ('166', '197'), ('194', '226'), ('224', '255'), ('248', '284'), ('280', '314'), ('311', '342'), ('339', '371'), ('369', '400'), ('398', '429'), ('427', '458'), ('456', '486'), ('484', '516'), ('514', '545'), ('543', '574'), ('567', '603'), ('601', '632'), ('630', '661'), ('659', '690'), ('688', '719'), ('717', '749'), ('746', '777'), ('775', '806'), ('804', '835'), ('833', '864'), ('862', '894'), ('891', '922'), ('920', '951'), ('948', '980'), ('978', '1009'), ('1007', '1039'), ('1036', '1068'), ('1065', '1096'), ('1094', '1126'), ('1122', '1154'), ('1151', '1189')]\n",
      "val[i] est =  ('775', '806')\n",
      "val[i+1] est =  ('804', '835')\n",
      "val[i][1] =  806\n",
      "val[i+1][0] =  804\n",
      "chevauchement\n",
      "-------------------------------\n",
      "\n",
      "\n",
      "-------------------------------\n",
      "key =  tr|U6KZM6|U6KZM6_EIMTE\n",
      "val =   [('6', '52'), ('50', '81'), ('74', '110'), ('103', '139'), ('137', '168'), ('166', '197'), ('194', '226'), ('224', '255'), ('248', '284'), ('280', '314'), ('311', '342'), ('339', '371'), ('369', '400'), ('398', '429'), ('427', '458'), ('456', '486'), ('484', '516'), ('514', '545'), ('543', '574'), ('567', '603'), ('601', '632'), ('630', '661'), ('659', '690'), ('688', '719'), ('717', '749'), ('746', '777'), ('775', '806'), ('804', '835'), ('833', '864'), ('862', '894'), ('891', '922'), ('920', '951'), ('948', '980'), ('978', '1009'), ('1007', '1039'), ('1036', '1068'), ('1065', '1096'), ('1094', '1126'), ('1122', '1154'), ('1151', '1189')]\n",
      "val[i] est =  ('804', '835')\n",
      "val[i+1] est =  ('833', '864')\n",
      "val[i][1] =  835\n",
      "val[i+1][0] =  833\n",
      "chevauchement\n",
      "-------------------------------\n",
      "\n",
      "\n",
      "-------------------------------\n",
      "key =  tr|U6KZM6|U6KZM6_EIMTE\n",
      "val =   [('6', '52'), ('50', '81'), ('74', '110'), ('103', '139'), ('137', '168'), ('166', '197'), ('194', '226'), ('224', '255'), ('248', '284'), ('280', '314'), ('311', '342'), ('339', '371'), ('369', '400'), ('398', '429'), ('427', '458'), ('456', '486'), ('484', '516'), ('514', '545'), ('543', '574'), ('567', '603'), ('601', '632'), ('630', '661'), ('659', '690'), ('688', '719'), ('717', '749'), ('746', '777'), ('775', '806'), ('804', '835'), ('833', '864'), ('862', '894'), ('891', '922'), ('920', '951'), ('948', '980'), ('978', '1009'), ('1007', '1039'), ('1036', '1068'), ('1065', '1096'), ('1094', '1126'), ('1122', '1154'), ('1151', '1189')]\n",
      "val[i] est =  ('833', '864')\n",
      "val[i+1] est =  ('862', '894')\n",
      "val[i][1] =  864\n",
      "val[i+1][0] =  862\n",
      "chevauchement\n",
      "-------------------------------\n",
      "\n",
      "\n",
      "-------------------------------\n",
      "key =  tr|U6KZM6|U6KZM6_EIMTE\n",
      "val =   [('6', '52'), ('50', '81'), ('74', '110'), ('103', '139'), ('137', '168'), ('166', '197'), ('194', '226'), ('224', '255'), ('248', '284'), ('280', '314'), ('311', '342'), ('339', '371'), ('369', '400'), ('398', '429'), ('427', '458'), ('456', '486'), ('484', '516'), ('514', '545'), ('543', '574'), ('567', '603'), ('601', '632'), ('630', '661'), ('659', '690'), ('688', '719'), ('717', '749'), ('746', '777'), ('775', '806'), ('804', '835'), ('833', '864'), ('862', '894'), ('891', '922'), ('920', '951'), ('948', '980'), ('978', '1009'), ('1007', '1039'), ('1036', '1068'), ('1065', '1096'), ('1094', '1126'), ('1122', '1154'), ('1151', '1189')]\n",
      "val[i] est =  ('862', '894')\n",
      "val[i+1] est =  ('891', '922')\n",
      "val[i][1] =  894\n",
      "val[i+1][0] =  891\n",
      "chevauchement\n",
      "-------------------------------\n",
      "\n",
      "\n",
      "-------------------------------\n",
      "key =  tr|U6KZM6|U6KZM6_EIMTE\n",
      "val =   [('6', '52'), ('50', '81'), ('74', '110'), ('103', '139'), ('137', '168'), ('166', '197'), ('194', '226'), ('224', '255'), ('248', '284'), ('280', '314'), ('311', '342'), ('339', '371'), ('369', '400'), ('398', '429'), ('427', '458'), ('456', '486'), ('484', '516'), ('514', '545'), ('543', '574'), ('567', '603'), ('601', '632'), ('630', '661'), ('659', '690'), ('688', '719'), ('717', '749'), ('746', '777'), ('775', '806'), ('804', '835'), ('833', '864'), ('862', '894'), ('891', '922'), ('920', '951'), ('948', '980'), ('978', '1009'), ('1007', '1039'), ('1036', '1068'), ('1065', '1096'), ('1094', '1126'), ('1122', '1154'), ('1151', '1189')]\n",
      "val[i] est =  ('891', '922')\n",
      "val[i+1] est =  ('920', '951')\n",
      "val[i][1] =  922\n",
      "val[i+1][0] =  920\n",
      "chevauchement\n",
      "-------------------------------\n",
      "\n",
      "\n",
      "-------------------------------\n",
      "key =  tr|U6KZM6|U6KZM6_EIMTE\n",
      "val =   [('6', '52'), ('50', '81'), ('74', '110'), ('103', '139'), ('137', '168'), ('166', '197'), ('194', '226'), ('224', '255'), ('248', '284'), ('280', '314'), ('311', '342'), ('339', '371'), ('369', '400'), ('398', '429'), ('427', '458'), ('456', '486'), ('484', '516'), ('514', '545'), ('543', '574'), ('567', '603'), ('601', '632'), ('630', '661'), ('659', '690'), ('688', '719'), ('717', '749'), ('746', '777'), ('775', '806'), ('804', '835'), ('833', '864'), ('862', '894'), ('891', '922'), ('920', '951'), ('948', '980'), ('978', '1009'), ('1007', '1039'), ('1036', '1068'), ('1065', '1096'), ('1094', '1126'), ('1122', '1154'), ('1151', '1189')]\n",
      "val[i] est =  ('920', '951')\n",
      "val[i+1] est =  ('948', '980')\n",
      "val[i][1] =  951\n",
      "val[i+1][0] =  948\n",
      "chevauchement\n",
      "-------------------------------\n",
      "\n",
      "\n",
      "-------------------------------\n",
      "key =  tr|U6KZM6|U6KZM6_EIMTE\n",
      "val =   [('6', '52'), ('50', '81'), ('74', '110'), ('103', '139'), ('137', '168'), ('166', '197'), ('194', '226'), ('224', '255'), ('248', '284'), ('280', '314'), ('311', '342'), ('339', '371'), ('369', '400'), ('398', '429'), ('427', '458'), ('456', '486'), ('484', '516'), ('514', '545'), ('543', '574'), ('567', '603'), ('601', '632'), ('630', '661'), ('659', '690'), ('688', '719'), ('717', '749'), ('746', '777'), ('775', '806'), ('804', '835'), ('833', '864'), ('862', '894'), ('891', '922'), ('920', '951'), ('948', '980'), ('978', '1009'), ('1007', '1039'), ('1036', '1068'), ('1065', '1096'), ('1094', '1126'), ('1122', '1154'), ('1151', '1189')]\n",
      "val[i] est =  ('948', '980')\n",
      "val[i+1] est =  ('978', '1009')\n",
      "val[i][1] =  980\n",
      "val[i+1][0] =  978\n",
      "chevauchement\n",
      "-------------------------------\n",
      "\n",
      "\n",
      "-------------------------------\n",
      "key =  tr|U6KZM6|U6KZM6_EIMTE\n",
      "val =   [('6', '52'), ('50', '81'), ('74', '110'), ('103', '139'), ('137', '168'), ('166', '197'), ('194', '226'), ('224', '255'), ('248', '284'), ('280', '314'), ('311', '342'), ('339', '371'), ('369', '400'), ('398', '429'), ('427', '458'), ('456', '486'), ('484', '516'), ('514', '545'), ('543', '574'), ('567', '603'), ('601', '632'), ('630', '661'), ('659', '690'), ('688', '719'), ('717', '749'), ('746', '777'), ('775', '806'), ('804', '835'), ('833', '864'), ('862', '894'), ('891', '922'), ('920', '951'), ('948', '980'), ('978', '1009'), ('1007', '1039'), ('1036', '1068'), ('1065', '1096'), ('1094', '1126'), ('1122', '1154'), ('1151', '1189')]\n",
      "val[i] est =  ('978', '1009')\n",
      "val[i+1] est =  ('1007', '1039')\n",
      "val[i][1] =  1009\n",
      "val[i+1][0] =  1007\n",
      "chevauchement\n",
      "-------------------------------\n",
      "\n",
      "\n",
      "-------------------------------\n",
      "key =  tr|U6KZM6|U6KZM6_EIMTE\n",
      "val =   [('6', '52'), ('50', '81'), ('74', '110'), ('103', '139'), ('137', '168'), ('166', '197'), ('194', '226'), ('224', '255'), ('248', '284'), ('280', '314'), ('311', '342'), ('339', '371'), ('369', '400'), ('398', '429'), ('427', '458'), ('456', '486'), ('484', '516'), ('514', '545'), ('543', '574'), ('567', '603'), ('601', '632'), ('630', '661'), ('659', '690'), ('688', '719'), ('717', '749'), ('746', '777'), ('775', '806'), ('804', '835'), ('833', '864'), ('862', '894'), ('891', '922'), ('920', '951'), ('948', '980'), ('978', '1009'), ('1007', '1039'), ('1036', '1068'), ('1065', '1096'), ('1094', '1126'), ('1122', '1154'), ('1151', '1189')]\n",
      "val[i] est =  ('1007', '1039')\n",
      "val[i+1] est =  ('1036', '1068')\n",
      "val[i][1] =  1039\n",
      "val[i+1][0] =  1036\n",
      "chevauchement\n",
      "-------------------------------\n",
      "\n",
      "\n",
      "-------------------------------\n",
      "key =  tr|U6KZM6|U6KZM6_EIMTE\n",
      "val =   [('6', '52'), ('50', '81'), ('74', '110'), ('103', '139'), ('137', '168'), ('166', '197'), ('194', '226'), ('224', '255'), ('248', '284'), ('280', '314'), ('311', '342'), ('339', '371'), ('369', '400'), ('398', '429'), ('427', '458'), ('456', '486'), ('484', '516'), ('514', '545'), ('543', '574'), ('567', '603'), ('601', '632'), ('630', '661'), ('659', '690'), ('688', '719'), ('717', '749'), ('746', '777'), ('775', '806'), ('804', '835'), ('833', '864'), ('862', '894'), ('891', '922'), ('920', '951'), ('948', '980'), ('978', '1009'), ('1007', '1039'), ('1036', '1068'), ('1065', '1096'), ('1094', '1126'), ('1122', '1154'), ('1151', '1189')]\n",
      "val[i] est =  ('1036', '1068')\n",
      "val[i+1] est =  ('1065', '1096')\n",
      "val[i][1] =  1068\n",
      "val[i+1][0] =  1065\n",
      "chevauchement\n",
      "-------------------------------\n",
      "\n",
      "\n",
      "-------------------------------\n",
      "key =  tr|U6KZM6|U6KZM6_EIMTE\n",
      "val =   [('6', '52'), ('50', '81'), ('74', '110'), ('103', '139'), ('137', '168'), ('166', '197'), ('194', '226'), ('224', '255'), ('248', '284'), ('280', '314'), ('311', '342'), ('339', '371'), ('369', '400'), ('398', '429'), ('427', '458'), ('456', '486'), ('484', '516'), ('514', '545'), ('543', '574'), ('567', '603'), ('601', '632'), ('630', '661'), ('659', '690'), ('688', '719'), ('717', '749'), ('746', '777'), ('775', '806'), ('804', '835'), ('833', '864'), ('862', '894'), ('891', '922'), ('920', '951'), ('948', '980'), ('978', '1009'), ('1007', '1039'), ('1036', '1068'), ('1065', '1096'), ('1094', '1126'), ('1122', '1154'), ('1151', '1189')]\n",
      "val[i] est =  ('1065', '1096')\n",
      "val[i+1] est =  ('1094', '1126')\n",
      "val[i][1] =  1096\n",
      "val[i+1][0] =  1094\n",
      "chevauchement\n",
      "-------------------------------\n",
      "\n",
      "\n",
      "-------------------------------\n",
      "key =  tr|U6KZM6|U6KZM6_EIMTE\n",
      "val =   [('6', '52'), ('50', '81'), ('74', '110'), ('103', '139'), ('137', '168'), ('166', '197'), ('194', '226'), ('224', '255'), ('248', '284'), ('280', '314'), ('311', '342'), ('339', '371'), ('369', '400'), ('398', '429'), ('427', '458'), ('456', '486'), ('484', '516'), ('514', '545'), ('543', '574'), ('567', '603'), ('601', '632'), ('630', '661'), ('659', '690'), ('688', '719'), ('717', '749'), ('746', '777'), ('775', '806'), ('804', '835'), ('833', '864'), ('862', '894'), ('891', '922'), ('920', '951'), ('948', '980'), ('978', '1009'), ('1007', '1039'), ('1036', '1068'), ('1065', '1096'), ('1094', '1126'), ('1122', '1154'), ('1151', '1189')]\n",
      "val[i] est =  ('1094', '1126')\n",
      "val[i+1] est =  ('1122', '1154')\n",
      "val[i][1] =  1126\n",
      "val[i+1][0] =  1122\n",
      "chevauchement\n",
      "-------------------------------\n",
      "\n",
      "\n",
      "-------------------------------\n",
      "key =  tr|U6KZM6|U6KZM6_EIMTE\n",
      "val =   [('6', '52'), ('50', '81'), ('74', '110'), ('103', '139'), ('137', '168'), ('166', '197'), ('194', '226'), ('224', '255'), ('248', '284'), ('280', '314'), ('311', '342'), ('339', '371'), ('369', '400'), ('398', '429'), ('427', '458'), ('456', '486'), ('484', '516'), ('514', '545'), ('543', '574'), ('567', '603'), ('601', '632'), ('630', '661'), ('659', '690'), ('688', '719'), ('717', '749'), ('746', '777'), ('775', '806'), ('804', '835'), ('833', '864'), ('862', '894'), ('891', '922'), ('920', '951'), ('948', '980'), ('978', '1009'), ('1007', '1039'), ('1036', '1068'), ('1065', '1096'), ('1094', '1126'), ('1122', '1154'), ('1151', '1189')]\n",
      "val[i] est =  ('1122', '1154')\n",
      "val[i+1] est =  ('1151', '1189')\n",
      "val[i][1] =  1154\n",
      "val[i+1][0] =  1151\n",
      "chevauchement\n",
      "-------------------------------\n",
      "\n",
      "\n"
     ]
    }
   ],
   "source": [
    "input_exo4 = 'res.domtb'\n",
    "hits_exo4 = read_domtblout(input_exo4)\n",
    "hits_dico={}\n",
    "\n",
    "for e in hits_exo4:\n",
    "    if e[0] not in hits_dico:\n",
    "        hits_dico[e[0]]=[(e[11],(e[19],e[20]))]\n",
    "    else:\n",
    "        hits_dico[e[0]].append((e[11],(e[19],e[20])))\n",
    "#print(hits_dico)\n",
    "\n",
    "dico_res={}\n",
    "res_l={}\n",
    "for key,val in hits_dico.items():\n",
    "    \n",
    "    for e in val:\n",
    "        \n",
    "        ev,pos=e\n",
    "        \n",
    "        if key not in res_l:\n",
    "            res_l[key]=[pos]\n",
    "        else:\n",
    "            res_l[key].append(pos)\n",
    "        \n",
    "        \n",
    "#print(res_l)\n",
    "for key,val in res_l.items():\n",
    "#     print(val[0])\n",
    "#     print(val[0][0])\n",
    "    for i in range(len(val)-1):\n",
    "        if int(val[i][1])> int(val[i+1][0]):\n",
    "            print(\"-------------------------------\")\n",
    "            print(\"key = \",key)\n",
    "            print(\"val =  \", val)\n",
    "            print(\"val[i] est = \",val[i])\n",
    "            print(\"val[i+1] est = \",val[i+1])\n",
    "            print(\"val[i][1] = \",val[i][1])\n",
    "            print(\"val[i+1][0] = \",val[i+1][0])\n",
    "            print(\"chevauchement\")\n",
    "            print(\"-------------------------------\")\n",
    "            print(\"\\n\")"
   ]
  },
  {
   "cell_type": "code",
   "execution_count": null,
   "metadata": {},
   "outputs": [],
   "source": [
    "input_exo4 = 'res.domtb'\n",
    "hits_exo4 = read_domtblout(input_exo4)\n",
    "\n",
    "for i range hits_exo4:\n",
    "    if hits_exo4[i-1][0]==hits_exo4[i][0]"
   ]
  },
  {
   "cell_type": "code",
   "execution_count": null,
   "metadata": {},
   "outputs": [],
   "source": []
  }
 ],
 "metadata": {
  "colab": {
   "collapsed_sections": [],
   "name": "TME8_corrige.ipynb",
   "provenance": []
  },
  "kernelspec": {
   "display_name": "Python 3 (ipykernel)",
   "language": "python",
   "name": "python3"
  },
  "language_info": {
   "codemirror_mode": {
    "name": "ipython",
    "version": 3
   },
   "file_extension": ".py",
   "mimetype": "text/x-python",
   "name": "python",
   "nbconvert_exporter": "python",
   "pygments_lexer": "ipython3",
   "version": "3.10.6"
  }
 },
 "nbformat": 4,
 "nbformat_minor": 1
}
