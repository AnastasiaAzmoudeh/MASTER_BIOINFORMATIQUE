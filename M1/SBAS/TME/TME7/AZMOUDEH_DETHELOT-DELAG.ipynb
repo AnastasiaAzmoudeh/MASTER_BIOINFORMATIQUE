{
 "cells": [
  {
   "cell_type": "markdown",
   "metadata": {
    "id": "aLNONidXu4mV"
   },
   "source": [
    "<h1><b>Statistique en Bioinformatique : </b> TME7 </h1>\n",
    "<br>\n",
    "L’objectif de ce TME est: \n",
    "<br>\n",
    "<ul>\n",
    "<li> Construire un modèle d'une famille proteique avec HMM profil. Ce modèle facilite la reconnaissance des membres de la famille, en particulier les protéines les plus distantes (point de vue évolutif). </li> \n",
    "</ul>\n",
    "<br>\n",
    "<div class=\"alert alert-warning\" role=\"alert\" style=\"margin: 10px\">\n",
    "<p><b>Soumission</b></p>\n",
    "<ul>\n",
    "<li>Renomer le fichier TME7.ipynb pour NomEtudiant1_NomEtudiant2.ipynb </li>\n",
    "<li>Soumettre via moodle </li>\n",
    "</div>\n",
    "</div>\n"
   ]
  },
  {
   "cell_type": "markdown",
   "metadata": {
    "id": "l-l24NAzu4mY"
   },
   "source": [
    "Nom etudiant 1 :\n",
    "<br> Anastasia AZMOUDEH\n",
    "Nom etudiant 2 :\n",
    "<br> Késia DETHELOT-DELAG "
   ]
  },
  {
   "cell_type": "markdown",
   "metadata": {
    "id": "YM6uvdqFu4mY"
   },
   "source": [
    "---\n",
    "<h3> Preparation => Installer HMMer 2.3.2 </h3>\n",
    "\n",
    "---\n",
    "\n",
    "Nous allons travailler avec deux versions du logiciel HMMer: 2.3.2 et 3. Installez les deux versions dans deux répertoires différents. Tout d'abord, nous allons considérer la version 2.3.2<br><br>\n",
    "\n",
    "<h4>1- Installer la version 2.3.2</h4><br>\n",
    "Télécharger HMMer <a href=\"http://eddylab.org/software/hmmer/2.3/hmmer-2.3.tar.gz\">version 2.3.2</a> <br>\n",
    "Lisez les instructions et installez-le dans votre espace personnel. <br><br>\n",
    "\n",
    "<font face=\"monospace\">tar -xzf hmmer-2.3.tar.gz</font><br>\n",
    "<font face=\"monospace\">cd hmmer-2.3</font><br>\n",
    "<font face=\"monospace\">./configure --prefix=/home/yourUser/yourDirectory/hmmer-2.3</font><br>\n",
    "<font face=\"monospace\">make</font><br>\n",
    "\n",
    "<font color=\"red\"> Remplacez yourUser/yourDirectory par vos coordonnées personnels.</font>\n",
    "\n",
    "<h4>2 - Dans le terminal modifier le fichier .bashrc</h4> \n",
    "\n",
    "<font face=\"monospace\">cd \\$HOME </font><br>\n",
    "<font face=\"monospace\">gedit .bashrc </font><br>\n",
    "Ajouter la ligne suivante à votre fichier <font face=\"monospace\">.bashrc</font><br>\n",
    "<font face=\"monospace\">export PATH=/home/yourUser/yourDirectory/hmmer-2.3/src:${PATH}</font><br>\n",
    "\n",
    "<font color=\"red\"> Remplacez <font face=\"monospace\">yourUser/yourDirectory</font> par votre coordonnée personnelle.</font><br>\n",
    "Sauvergardez le fichier et taper dans le terminal <br>\n",
    "\n",
    "<font face=\"monospace\">cd $HOME</font><br>\n",
    "<font face=\"monospace\">source .bashrc </font><br>\n",
    "\n",
    "\n"
   ]
  },
  {
   "cell_type": "markdown",
   "metadata": {
    "id": "zK6Mo1Zvu4ma"
   },
   "source": [
    "<b>Exercice 1 </b>: <u>Zinc finger Pfam domain</u> <br>\n",
    "<b>1.1</b>: Construire le modèle HMMer pour le domaine Pfam Zinc finger, numéro d'accès PF00096. Pour cela, téléchargez l'alignement seed au format Stockholm depuis le site web de <a href=\"http://pfam.xfam.org/family/PF00096#tabview=tab3\">Pfam</a>. Construire le modèle HMMer avec les paramètres par défaut, enregistrer avec le nom PF00096.hmm"
   ]
  },
  {
   "cell_type": "markdown",
   "metadata": {
    "id": "-sl1IdsAu4mb"
   },
   "source": [
    "<b>1.2</b>: Utilisez le programme HMMeditor pour visualiser le modele PF00096.hmm et répondre aux questions.<br>\n",
    "<b>a)</b>: Combien d'états Match observez-vous?"
   ]
  },
  {
   "cell_type": "markdown",
   "metadata": {
    "id": "ZZFXpCDqu4mb"
   },
   "source": [
    "Reponse: \n",
    "<font color=\"blue\">\n",
    " On observe 26 états de Match.\n",
    "</font>"
   ]
  },
  {
   "cell_type": "markdown",
   "metadata": {
    "id": "yaw2lyjju4mb"
   },
   "source": [
    "<b>b)</b>: Pourquoi les états M3, M8, M12, M18, M21 et M26 ont une bordure en gras?"
   ]
  },
  {
   "cell_type": "markdown",
   "metadata": {
    "id": "j9uO9NlPu4mc"
   },
   "source": [
    "Reponse:\n",
    "<font color=\"blue\">\n",
    "A ces états, on observe une forte conservation pour un acide aminé donné.\n",
    "</font>\n",
    "\n",
    "\n"
   ]
  },
  {
   "cell_type": "markdown",
   "metadata": {
    "id": "r7zvcpICu4md"
   },
   "source": [
    "<b>c)</b>: Quelle est la probabilité de transition M5-> I5? "
   ]
  },
  {
   "cell_type": "markdown",
   "metadata": {
    "id": "yCIP2gsdu4me"
   },
   "source": [
    "Reponse:\n",
    "<font color=\"blue\">\n",
    "La probabilité est de 0.06.\n",
    "</font>"
   ]
  },
  {
   "cell_type": "markdown",
   "metadata": {
    "id": "tSQDkNTEu4me"
   },
   "source": [
    "<b>d)</b>: Quel est l'acide aminé le plus fréquent dans l'état I5?\n",
    "\n"
   ]
  },
  {
   "cell_type": "markdown",
   "metadata": {
    "id": "qpUrOJBPu4mf"
   },
   "source": [
    "Reponse: \n",
    "<font color=\"blue\">\n",
    "Les acides aminés les plus fréquents à I5 sont G (glycine) et S (sérine)  avec une probabilité de 0.09 chacun. \n",
    "</font>"
   ]
  },
  {
   "cell_type": "markdown",
   "metadata": {
    "id": "1ETNrrkLu4mf"
   },
   "source": [
    "<b>1.3</b>: Télécharger la séquence X6NX52 à <a href=\"http://www.uniprot.org/uniprot/X6NX52\">Uniprot</a>. Utilisez le programme <font face=\"monospace\">hmmsearch</font> pour localiser les domaines  Zinc finger dans la séquence X6NX52. Combien de domaines obtenez-vous? Comparez vos résultats avec les résultats de  <a href=\"http://pfam.xfam.org/protein/X6NX52_RETFI\">Pfam</a>. Avez-vous trouvé les mêmes domaines dans les mêmes positions? Expliquez votre réponse."
   ]
  },
  {
   "cell_type": "markdown",
   "metadata": {},
   "source": [
    "Reponse: \n",
    "<font color=\"blue\"><br>\n",
    "Avec le programme hmmsearch, on trouve 4 domaines aux positions 74-97, 101-125, 143-166 et 221-244. <br>\n",
    "Avec Pfam, on ne trouve que le domaine à la position 221-241, il est raccouci de 3 acides aminés par rapport aux résultats de hmmersearch. <br>\n",
    "Ces différences s'expliquent par le fait que la recherche avec hmmersearch est plus permissive, donc on détecte plus de domaines. \n",
    "    \n",
    "<font>"
   ]
  },
  {
   "cell_type": "markdown",
   "metadata": {
    "id": "ZkYeNgB_u4mg"
   },
   "source": [
    "<b>1.4</b>: Enregistrer la séquence du premier domaine, positions 74-97, dans un format fasta avec le nom de fichier dom1.fasta, supprimer les gaps de la séquence avant de l'enregistrer. Chargez le fichier dom1.fasta dans le programme HMMeditor et cliquez sur \"Align Path\". Qu'observez-vous? "
   ]
  },
  {
   "cell_type": "markdown",
   "metadata": {
    "id": "QeteLoAKu4mh"
   },
   "source": [
    "Reponse: \n",
    "<font color=\"blue\"> <br> On observe le chemin des états.\n",
    "    \n",
    "\n",
    "</font>\n",
    "\n",
    "\n"
   ]
  },
  {
   "cell_type": "markdown",
   "metadata": {
    "id": "I1KHtPi0u4mi"
   },
   "source": [
    "<b>1.5</b>: Modifiez le fichier dom1.fasta et ajouter le mot RWV après le mot TFR. Rechargez le fichier dans le programme HMMeditor et clique sur \"Align Path\". Qu'observez vous?"
   ]
  },
  {
   "cell_type": "markdown",
   "metadata": {
    "id": "V6VrEgKxu4mj"
   },
   "source": [
    "Reponse:<font color=\"blue\"><br>\n",
    "En ajoutant le mot RWW, on constate qu'on passe par état I (Insert) supplémentaire par rapport au HMM de la question 1.4\n",
    "Ce résultat est logique car on a ajouté un mot de 3 par rapport à la séquence question 1.4 .\n",
    "</font>\n"
   ]
  },
  {
   "cell_type": "markdown",
   "metadata": {
    "id": "5XTAXu6mu4mj"
   },
   "source": [
    "---\n",
    "<h3> Preparation => Installer HMMer 3 </h3>\n",
    "\n",
    "---\n",
    "\n",
    "Télécharger HMMer <a href=\"http://eddylab.org/software/hmmer3/3.1b2/hmmer-3.1b2.tar.gz\">version 3</a> <br>\n",
    "Lisez les instructions et installez-le dans votre espace personnel. <br>\n",
    "\n",
    "<font face=\"monospace\">tar -xzf hmmer-3.1b2.tar.gz</font><br>\n",
    "<font face=\"monospace\">cd hmmer-3.1b2</font><br>\n",
    "<font face=\"monospace\">./configure --prefix=/home/yourUser/yourDirectory/hmmer-3.1b2</font><br>\n",
    "<font face=\"monospace\">make</font><br>\n",
    "\n",
    "<font color=\"red\"> Remplacer yourUser/yourDirectory avec votre donnée personnelle.</font>\n",
    "\n",
    "<h4>-Dans le terminal modifier le fichier .bashrc</h4>\n",
    "\n",
    "<font face=\"monospace\">cd \\$HOME </font><br>\n",
    "<font face=\"monospace\">gedit .bashrc </font><br>\n",
    "Mettre en commentaire le export de hmmer-2.3 (utiliser # au début de la ligne) et ajouter la ligne suivante à votre fichier .bashrc<br>\n",
    "<font face=\"monospace\">export PATH=$PATH:/home/yourUser/yourDirectory/hmmer-3.1b2/src;</font>\n",
    "<font color=\"red\"> Remplacer yourUser/yourDirectory avec votre donnée personnelle.</font>\n",
    "Sauvegarder le fichier .bashrc et dans le terminal taper<br>\n",
    "<font face=\"monospace\">source .bashrc </font><br>"
   ]
  },
  {
   "cell_type": "markdown",
   "metadata": {
    "id": "gIm0giimu4mj"
   },
   "source": [
    "<b>Exercice 2 </b>: <u>Ubiquitin domain Pfam domain</u> <br>\n",
    "<b>2.1</b>: Construire le modèle HMMer pour le domaine Ubiquitin Pfam, accession number PF00240. Pour cela, téléchargez l'alignement seed au format Stockholm depuis le site web de  <a href=\"http://pfam.xfam.org/family/PF00240#tabview=tab3\">Pfam</a>. Construire le modèle hmmer avec les paramètres par défaut, enregistrer sous le nom PF00240.hmm. Combien d'états Match observez-vous?\n"
   ]
  },
  {
   "cell_type": "markdown",
   "metadata": {
    "id": "BTctd4qUu4mk"
   },
   "source": [
    "Reponse: \n",
    "<font color=\"blue\">\n",
    "<br> L'architecture comporte 72 élements. On sait que l'architecture définit le nombre de match, on observe donc 72 match.  \n",
    "\n",
    "</font>\n"
   ]
  },
  {
   "cell_type": "markdown",
   "metadata": {
    "id": "OFKOH34au4mk"
   },
   "source": [
    "<b>2.2</b>:\n",
    "Téléchargez toutes les séquences avec le domaine ubiquitin du site Pfam. Clique sur l'alignement, sur Format an alignment, sélectionnez Full, Format FASTA,  Gaps : No gaps unaligned. Enregistrez le fichier sous le nom PF00240_full.fasta. Combien de séquences observez-vous dans le fichier PF00240_full.fasta?"
   ]
  },
  {
   "cell_type": "code",
   "execution_count": 1,
   "metadata": {
    "scrolled": true
   },
   "outputs": [
    {
     "name": "stdout",
     "output_type": "stream",
     "text": [
      "21402\n"
     ]
    }
   ],
   "source": [
    "#Read the fasta file\n",
    "def read_fasta (input_f):\n",
    "    \"\"\"\n",
    "    Read a fasta file\n",
    "    input1 input_f: fasta file name\n",
    "    output1 arr_seqs: a two dimension array containing SeqID and amino acide sequence\n",
    "    \"\"\"\n",
    "    arr_seqs = []\n",
    "    \n",
    "    names = [] # contient les noms des séquences du fichier FASTA\n",
    "    sequences = [] # contient les séquences présentes dans le fichier FASTA\n",
    "    \n",
    "    f = open(input_f)\n",
    "    une_seq = []\n",
    "    \n",
    "    for lines in f.readlines():\n",
    "        \n",
    "        if lines[0]== \">\":\n",
    "            sequences.append(une_seq) \n",
    "            une_seq = []\n",
    "            if lines[-1]==\"\\n\": \n",
    "                names.append(lines[1:-1])\n",
    "            else: \n",
    "                names.append(lines[1:])\n",
    "                \n",
    "        else:\n",
    "            if lines[-1]==\"\\n\": \n",
    "                une_seq.append(lines[:-1])\n",
    "            else: \n",
    "                une_seq.append(lines)\n",
    "            \n",
    "\n",
    "    sequences.append(une_seq)\n",
    "    sequences = sequences[1:] # pour supprimer la première liste qui est vide\n",
    "    \n",
    "    nvlles_seq = []\n",
    "    for liste in sequences: \n",
    "        longueur = len(liste)\n",
    "        liste = [''.join(liste[:longueur])] # pour qu'une même séquence écrite sur 2 lignes du fichier FASTA soit dans un seul item de la liste \n",
    "#         print(liste)\n",
    "        nvlles_seq.append(liste)\n",
    "    \n",
    "    \n",
    "\n",
    "    arr_seqs.append(nvlles_seq) \n",
    "    arr_seqs.append(names)\n",
    "    \n",
    "    return arr_seqs \n",
    "\n",
    "\n",
    "\n",
    "input_PF00240_full = 'PF00240_full.fasta'\n",
    "sequences_PF00240_full, names_PF00240_full = read_fasta (input_PF00240_full)\n",
    "\n",
    "print(len(sequences_PF00240_full))\n",
    "\n"
   ]
  },
  {
   "cell_type": "markdown",
   "metadata": {
    "id": "poZl4kXEu4mm"
   },
   "source": [
    "Reponse: <font color=\"blue\"> <br>\n",
    "Dans le fichier PF00240_full.fasta, on observe 21 402 séquences. \n",
    "</font>"
   ]
  },
  {
   "cell_type": "markdown",
   "metadata": {
    "id": "-IZk_GPeu4mm"
   },
   "source": [
    "<b>2.3</b>:\n",
    "Utilisez hmmsearch (default parameters) pour détecter les domaines ubiquitin dans le fichier PF00240_full.fasta. Utilisez l'option --domtblout pour enregistrer un fichier tabulaire, donnez le nom PF00240.domtb, répondre aux questions suivantes:"
   ]
  },
  {
   "cell_type": "code",
   "execution_count": 2,
   "metadata": {
    "id": "TRh42fFWu4mn"
   },
   "outputs": [
    {
     "name": "stdout",
     "output_type": "stream",
     "text": [
      "['R0KPY3_NOSB1/3-74', '-', '72', 'PF00240', '-', '72', '5.2e-36', '122.4', '0.5', '1', '1', '5.7e-36', '5.7e-36', '122.3', '0.5', '1', '72', '1', '72', '1', '72', '0.99', '-']\n"
     ]
    }
   ],
   "source": [
    "#Read the domtblout file\n",
    "def read_domtblout(input_f):\n",
    "    \"\"\"\n",
    "    load the results of domtblout file\n",
    "    input1 input_f: domtblout file name\n",
    "    output hits: a matrix containg hit information\n",
    "    \"\"\"\n",
    "   \n",
    "    hits = []\n",
    "    f=open(input_f)\n",
    "    for lines in f.readlines():\n",
    "        \n",
    "        if lines[0]=='#':\n",
    "            continue\n",
    "            \n",
    "        else:\n",
    "            hits.append(list(lines.split()))\n",
    "            \n",
    "    return hits \n",
    "\n",
    "input_domtblout = 'PF00240bis.domtb'\n",
    "hits_PF00240 = read_domtblout(input_domtblout)\n",
    "print (hits_PF00240[0])\n",
    "#['R0KPY3_NOSB1/3-74', '-', '72', 'PF00240', '-', '72', '5.2e-36', '122.4', '0.5', '1', '1', '5.7e-36', '5.7e-36', '122.3', '0.5', '1', '72', '1', '72', '1', '72', '0.99', '-\\n']"
   ]
  },
  {
   "cell_type": "markdown",
   "metadata": {
    "id": "qq4-WmIRu4mn"
   },
   "source": [
    "<b>a)</b>: Combien de domaines observez-vous dans le fichier PF00240.domtb? Comparez le nombre de domaines détectés avec le nombre attendu (question 2.2)"
   ]
  },
  {
   "cell_type": "code",
   "execution_count": 3,
   "metadata": {
    "id": "MOkYjsEou4mn"
   },
   "outputs": [
    {
     "data": {
      "text/plain": [
       "21435"
      ]
     },
     "execution_count": 3,
     "metadata": {},
     "output_type": "execute_result"
    }
   ],
   "source": [
    "#Some code if necessary\n",
    "len(hits_PF00240)"
   ]
  },
  {
   "cell_type": "markdown",
   "metadata": {
    "id": "coY9m7Y0u4mn"
   },
   "source": [
    "Reponse: \n",
    "<font color=\"blue\"> <br>\n",
    "Dans le fichier PF00240.domtb, on détecte 21 435 domaines. D'après la question 2.2, on s'attendait à 21 402 domaines. On a donc détecté 33 domaines en plus que les domaines attendus. On conjecture  que l'option domtblout permet de détecter plus précisément les doamines. \n",
    "</font>"
   ]
  },
  {
   "cell_type": "markdown",
   "metadata": {
    "id": "gMMWiN5ju4mo"
   },
   "source": [
    "<b>b)</b>: Quelle est le c-evaleus et les scores du meilleur et du pire hit?"
   ]
  },
  {
   "cell_type": "markdown",
   "metadata": {
    "id": "pAAWZzqOu4mo"
   },
   "source": [
    "Reponse:\n",
    "<font color=\"blue\"><br>\n",
    "La c-Evalue du pire hit est 5.2e-05.\n",
    "<br> La c-Evalue du pire meilleur est 5.7e-36.\n",
    "\n",
    "</font>"
   ]
  },
  {
   "cell_type": "code",
   "execution_count": 4,
   "metadata": {},
   "outputs": [
    {
     "name": "stdout",
     "output_type": "stream",
     "text": [
      "c-Evalue du pire hit est : 5.2e-05\n",
      "c-Evalue du pire meilleur est : 5.7e-36\n"
     ]
    }
   ],
   "source": [
    "import numpy as np\n",
    "Hits = np.asarray(hits_PF00240) # on transforme en np.array pour ensuite pouvoir sélectionner une colonne\n",
    "\n",
    "Evalues = Hits[:,6] # on sélectionne la colonne des e-values\n",
    "\n",
    "Evalues=Evalues.astype(float) # on s'assure que tous les chiffres soient des float et pas des strings pour les comparer ultérieurement\n",
    "# print(Evalues)\n",
    "\n",
    "mini=min(Evalues)\n",
    "maxi=max(Evalues)\n",
    "\n",
    "# print(\"MIN = \",min(Evalues))\n",
    "# print(\"MAX = \",max(Evalues))\n",
    "\n",
    "# print(\"Np.where\")\n",
    "# print(np.where(Evalues==maxi))\n",
    "# print(np.where(Evalues==mini))\n",
    "\n",
    "ind_maxi=np.where(Evalues==maxi)\n",
    "# print(ind_maxi[0][0])\n",
    "ind_worst = ind_maxi[0][0]\n",
    "print(\"c-Evalue du pire hit est :\",hits_PF00240[ind_worst][11])\n",
    "\n",
    "ind_mini=np.where(Evalues==mini)\n",
    "ind_best=ind_mini[0][0]\n",
    "print(\"c-Evalue du pire meilleur est :\",hits_PF00240[ind_best][11])"
   ]
  },
  {
   "cell_type": "markdown",
   "metadata": {
    "id": "iGu_Jub_u4mp"
   },
   "source": [
    "<b>c)</b>: Exécutez à nouveau hmmsearch et définissez le domain e-value à 1e-5. Combien de domaines observez-vous? Comparez le nombre de domaines détectés avec l'attendu (question 2.2) et obtenu dans la question a. Justifiez votre réponse."
   ]
  },
  {
   "cell_type": "code",
   "execution_count": 5,
   "metadata": {
    "id": "mo9j41fuu4mp"
   },
   "outputs": [
    {
     "data": {
      "text/plain": [
       "21340"
      ]
     },
     "execution_count": 5,
     "metadata": {},
     "output_type": "execute_result"
    }
   ],
   "source": [
    "#Some code if necessary\n",
    "input_domE = 'PF00240eval.domtb'\n",
    "hitsEval_PF00240 = read_domtblout(input_domE)\n",
    "len(hitsEval_PF00240)"
   ]
  },
  {
   "cell_type": "markdown",
   "metadata": {
    "id": "y0knOGJru4mp"
   },
   "source": [
    "Reponse:\n",
    "<font color=\"blue\"> <br>\n",
    "Cette fois-ci, on trouve 21 340 domaines avec un threshold e-value de 1e-5, c'est 95 domaines de moins que sans threshold (question a). En utilisant un threshold, on ne retient pas toutes les données. La quantité de domaines trouvés correspond toujours à un peu plus de la moitié des domaines attendus. \n",
    "\n",
    "<font>\n"
   ]
  },
  {
   "cell_type": "markdown",
   "metadata": {
    "id": "ZQ0XEFhfu4mq"
   },
   "source": [
    "<b>d)</b>:\n",
    "Téléchargez le modèle hmm pour le domaine ubiquitin depuis le site de Pfam. Clique sur \"Curation & model\" et sur \"download the raw HMM for this family\". Exécutez à nouveau hmmsearch avec l'option --cut_ga. Comparez le nombre de domaines détectés avec les questions précédentes. Qu'est-ce que cut_ga fait?"
   ]
  },
  {
   "cell_type": "code",
   "execution_count": 6,
   "metadata": {
    "id": "tJKkpKfXu4mq"
   },
   "outputs": [
    {
     "name": "stdout",
     "output_type": "stream",
     "text": [
      "21449\n"
     ]
    }
   ],
   "source": [
    "input_cutga = 'PF00240cutga.domtb'\n",
    "hitscutga_PF00240 = read_domtblout(input_cutga)\n",
    "print(len(hitscutga_PF00240)) # 21 449\n",
    "\n",
    "# input_cutgab = 'PF00240cutgabis.domtb' # document téléchargé en ligne  \n",
    "# hitscutgab_PF00240 = read_domtblout(input_cutgab)\n",
    "# print(len(hitscutgab_PF00240)) # 21 332\n",
    "\n",
    "#--cut_ga : use profile's GA gathering cutoffs to set all thresholding\n"
   ]
  },
  {
   "cell_type": "markdown",
   "metadata": {
    "id": "owZ8vyXAu4mq"
   },
   "source": [
    "Reponse: \n",
    "<font color=\"blue\">\n",
    "<br>\n",
    " On trouve, cette fois-ci, 21 449 domaines au lieu de 21435. L'option cut_ga permet de trouver des domaines que l'on n'avait pas détectés la première fois. En effet, cette option utilise le score de bits GA pour définir les seuils d'inclusion et de reporting par séquences et domaines. Or, les seuils GA sont plus fiables pour définir l'appartenance familiale. \n",
    "<font>"
   ]
  },
  {
   "cell_type": "markdown",
   "metadata": {
    "id": "2NuPAzasu4mr"
   },
   "source": [
    "<b>Exercice 3 </b>: <u>Cooccurrence de domaines</u> <br>\n",
    "Le domaine Ribosomal_S27 (PF01599) est très suivant trouvé avec le domaine de l'ubiquitine?  Allez sur le site Pfam, recherchez le domaine PF01599 et cliquez sur \"Domain Organisation\" recherchez le domaine ubiquitin dans la liste des architectures de domaine. Répondre aux question suivantes:<br>\n",
    "<b>3.1</b>:\n",
    "Si ces domaines coexistent, dans combien de séquences cette architecture de domaines est-elle observée? "
   ]
  },
  {
   "cell_type": "markdown",
   "metadata": {
    "id": "VrVyb9onu4mr"
   },
   "source": [
    "Reponse:\n",
    "<font color=\"blue\"><br>\n",
    "Les deux domaines Ribosomal_S27 (PF01599) et le domaine de l'ubiquitine coexistent dans 3 509 protéines. \n",
    "<font>"
   ]
  },
  {
   "cell_type": "markdown",
   "metadata": {
    "id": "GYsm0oYRu4ms"
   },
   "source": [
    "<b>3.2</b>: Vérifions si la séquence W4GKD7 décrite comme protéine ribosomale S27a de l'Ubiquitine-40S a l'architecture du domaine: ubiquitine, Ribosomal_S27. <br>\n",
    "- Téléchargez la séquence de W4GKD7 de <a href=\"http://www.uniprot.org/uniprot/W4GKD7\">Uniprot</a>  et téléchargez le modèle Ribosomal_S27 hmmer à partir du site Web Pfam.\n",
    "- Concattez les modèles ubiquitin.hmm et Ribosomal_S27.hmm, enregistrez le fichier sous Ribosomal_S27_ubiquitin.hmm.\n",
    "- Exécutez hmmsearch avec l'option --cut_ga pour rechercher des domaines dans W4GKD7, utilisez le modèle de fichier Ribosomal_S27_ubiquitin.hmm. Enregistrez la sortie au format tabulaire, utilisez l'option --domtblout pour enregistrer un fichier tabulaire, nommé W4GKD7.domtb\n",
    "- Analyser le fichier W4GKD7.domtb, avez-vous détecté les domaines Ribosomal_S27 et ubiquitin? Quels sont les scores et les e-values?"
   ]
  },
  {
   "cell_type": "markdown",
   "metadata": {
    "id": "iweuKqJlu4ms"
   },
   "source": [
    "Reponse:\n",
    "<font color=\"blue\"> <br> \n",
    "Les scores sont de:\n",
    "<br> -->  360.7 pour le domaine W4GKD7\n",
    "<br> -->  91.2 pour le domaine Ribosomal_S27 <br>\n",
    "<br> Les e-values sont de: \n",
    "<br> -->  3.8e-113  pour le domaine W4GKD7\n",
    "<br> -->  1.5e-30 pour le domaine Ribosomal_S27 <br>\n",
    "<font>\n"
   ]
  },
  {
   "cell_type": "markdown",
   "metadata": {
    "id": "M5bM2uq6u4ms"
   },
   "source": [
    "<b>3.3</b>: Visualisez l'architecture du domaine pour la protéine W4GKD7 en utilisant le programme  <a href=\"http://prosite.expasy.org/cgi-bin/prosite/mydomains/\">myDomains</a>; Remplissez la longueur de la protéine et les données de domaine. Vous pouvez trouver toutes les informations dans le fichier W4GKD7.domtb, choisir la forme et la couleur que vous préférez, inclure l'image dans votre reponse."
   ]
  },
  {
   "cell_type": "markdown",
   "metadata": {
    "id": "FLAeHDpCu4ms"
   },
   "source": [
    "Reponse: <font color=\"blue\"> \n",
    "<br> Le domaine PF00240 se situe à la position 3-74. <br> Le domaine Ribosomal_S27 se situe à la poisiton 102-147.\n",
    "<font>\n",
    "<img src=\"PSImage.png\" alt=\"Drawing\" style=\"width: 300px;\"/>"
   ]
  },
  {
   "cell_type": "markdown",
   "metadata": {
    "id": "2fF49WTMu4ms"
   },
   "source": [
    "<b>Exercice 4 </b>: <u>Domaines du même clan</u><br>\n",
    "Les familles de Pfam ayant des fonctions similaires sont suivant orgnisés dans un clan, c'est le cas des familles ubiquitin et ubiquitin_2 placé dans le clan CL0072.<br>\n",
    "<b>4.1</b>: Combien de membre exists dans le clans CL0072?"
   ]
  },
  {
   "cell_type": "markdown",
   "metadata": {
    "id": "r4aIFY9xu4ms"
   },
   "source": [
    "Reponse:<font color=\"blue\"> <br>\n",
    "Dans le clan CL0072, on compte 79 membres.\n",
    "<font>"
   ]
  },
  {
   "cell_type": "markdown",
   "metadata": {
    "id": "Skp5zOaUu4ms"
   },
   "source": [
    "<b>4.2</b>: Téléchargez le modèle hmm pour le domaine ubiquitin_2 depuis le site de Pfam. Clique sur \"Curation & model\" et sur \"download the raw HMM for this family\". Concatenez les modeles ubiquitin.hmm et ubiquitin_2.hmm and executez hmmsearch avec --cut_ga sur les sequences du fichier Uniprot_ubiquitin.fasta, utilizez l'option --domtblout pour enregistrer un fichier tabulaire. Repondrez aux questions:\n"
   ]
  },
  {
   "cell_type": "markdown",
   "metadata": {
    "id": "5YGoZnPRu4ms"
   },
   "source": [
    "<b>a)</b>: Combien de sequences ont plus qu'un hit?"
   ]
  },
  {
   "cell_type": "code",
   "execution_count": 7,
   "metadata": {
    "scrolled": false
   },
   "outputs": [
    {
     "name": "stdout",
     "output_type": "stream",
     "text": [
      "Réponse : 37 séquences contiennent plusieurs hits\n"
     ]
    }
   ],
   "source": [
    "# une séquence a plusieurs hits si son nom apparait plusieurs fois dans la \n",
    "# colonne target name du fichier Uniprot_ubiquitin.domtb\n",
    "\n",
    "# fichier = 'res.domtb'\n",
    "fichier = 'Uniprot_ubiquitin.domtb'\n",
    "lecture = read_domtblout(fichier)\n",
    "# print(lecture[0])\n",
    "\n",
    "\n",
    "liste_noms = [] # colonne target name du fichier Uniprot_ubiquitin.domtb \n",
    "\n",
    "for i in range (len(lecture)): \n",
    "    liste_noms.append(lecture[i][0]) \n",
    "\n",
    "#print(noms)\n",
    "# print(len(noms))\n",
    "\n",
    "\n",
    "plusieurs = [] # liste contenant les séquences avec plusieurs hits\n",
    "for i in  (liste_noms): \n",
    "    nb = liste_noms.count(i)\n",
    "    \n",
    "    if nb > 1:\n",
    "        if i not in plusieurs: \n",
    "            plusieurs.append(i)\n",
    "        else: \n",
    "            continue\n",
    "\n",
    "        \n",
    "            \n",
    "print(\"Réponse :\",len(plusieurs), \"séquences contiennent plusieurs hits\")\n",
    "# print(plusieurs)\n"
   ]
  },
  {
   "cell_type": "markdown",
   "metadata": {
    "collapsed": true,
    "id": "5ssugoCFu4mt"
   },
   "source": [
    "Reponse: <font color=\"blue\"> \n",
    "37 séquences ont plusieurs hits.\n",
    "<font>"
   ]
  },
  {
   "cell_type": "markdown",
   "metadata": {
    "id": "IGx0cwmAu4mt"
   },
   "source": [
    "<b>b)</b>: Faite une fonction pour filtrer les meilleurs hits de protéines membre de ubiquitin à partir d'un fichier domtb. \n",
    "Si une séquence a plus qu'un hit dans de positions chevauchantes vous devez choisir le hit avec le meilleur c-evalue. \n",
    "Le début et fin de chaque hit se trouve dans les colonnes 20 et 21 du fichier de sortie de hmmsearch."
   ]
  },
  {
   "cell_type": "code",
   "execution_count": 14,
   "metadata": {
    "scrolled": true
   },
   "outputs": [],
   "source": [
    "input_exo4 = 'Uniprot_ubiquitin.domtb'\n",
    "hits_exo4 = read_domtblout(input_exo4)"
   ]
  },
  {
   "cell_type": "code",
   "execution_count": 22,
   "metadata": {},
   "outputs": [
    {
     "name": "stdout",
     "output_type": "stream",
     "text": [
      "Remarque: Il faut supprimer les hits suivants\n",
      " {'tr|A0A0V0UP34|A0A0V0UP34_9BILA-1182-W4GKD7': [13, 13], 'tr|A0A0V0TBY2|A0A0V0TBY2_9BILA-919-W4GKD7': [8], 'tr|U6KZM6|U6KZM6_EIMTE-1189-W4GKD7': [1, 1, 2, 4, 4, 5, 7, 7, 9, 10, 10, 12, 12, 13, 15, 15, 17, 17, 18, 20, 20, 21, 22, 23, 25, 25, 26, 28, 28, 30, 30, 31, 33, 33, 34, 36, 36, 38, 38], 'tr|A0A0V0UP34|A0A0V0UP34_9BILA-1182-Ubiquitin_2': [1]} \n",
      "\n",
      "MEILLEUR_HITS\n",
      " {'tr|A0A0V0UP34|A0A0V0UP34_9BILA-1182-W4GKD7': [12, 14], 'tr|A0A0V0TBY2|A0A0V0TBY2_9BILA-919-W4GKD7': [9], 'tr|U6KZM6|U6KZM6_EIMTE-1189-W4GKD7': [0, 2, 3, 3, 5, 6, 6, 8, 8, 9, 11, 11, 13, 14, 14, 16, 16, 18, 19, 19, 21, 22, 23, 24, 24, 26, 27, 27, 29, 29, 31, 32, 32, 34, 35, 35, 37, 37, 39], 'tr|A0A0V0UP34|A0A0V0UP34_9BILA-1182-Ubiquitin_2': [2]}\n"
     ]
    }
   ],
   "source": [
    "def best_hits(hits, eValue_thresh, overlap_thresh):\n",
    "    \"\"\"\n",
    "    Filtering the best hits\n",
    "    input1 hits: hit table (output of domtb file)\n",
    "    input2 eValue_thresh: E-value Threshold (default 1e-100)\n",
    "    input3 overlap_thresh: overlaping Threshold (default 10)\n",
    "    output1 meilleur_hits: filtered hit table \n",
    "    \"\"\"\n",
    "    meilleur_hits = {}\n",
    "    hits_a_supp ={}\n",
    "    hits_dico={}\n",
    "    \n",
    "    for e in hits_exo4:\n",
    "        if e[0]+\"-\"+e[2]+\"-\"+e[3] not in hits_dico:\n",
    "            hits_dico[e[0]+\"-\"+e[2]+\"-\"+e[3] ]=[(e[11],(e[19],e[20]))]\n",
    "        else:\n",
    "            hits_dico[e[0]+\"-\"+e[2]+\"-\"+e[3]].append((e[11],(e[19],e[20])))\n",
    "\n",
    "    dico_res={}\n",
    "    res_l={}\n",
    "    for key,val in hits_dico.items():\n",
    "        \n",
    "        for e in val:\n",
    "            ev,pos=e\n",
    "            \n",
    "            if key not in res_l:\n",
    "                res_l[key]=[pos]\n",
    "            else:\n",
    "                res_l[key].append(pos)\n",
    "                \n",
    "    dicoch={}\n",
    "    for key,val in res_l.items():\n",
    "        \n",
    "        for i in range(1,len(val)):\n",
    "            if int(val[i-1][1])> int(val[i][0]) or int(val[i-1][0]) > int(val[i][0]):\n",
    "                \n",
    "                if key not in dicoch:\n",
    "                    dicoch[key]=[(i-1,i)]\n",
    "                else:\n",
    "                    dicoch[key].append((i-1,i))\n",
    "                    \n",
    "#    print(\"DICO CHEVAUCHEMENT \",dicoch)\n",
    "    for key,val in dicoch.items():\n",
    "#         print(\"POUR LA SEQ \",key)\n",
    "        for e in val:\n",
    "            i,j=e\n",
    "#             print(\"les chevauchements sont sur les sous séquences numéros \")\n",
    "#             print(\"i = \",i)\n",
    "#             print(\"j = \",j)\n",
    "#             print(\"pour i \",hits_dico[key][i])\n",
    "#             print(\"pour j\",hits_dico[key][j])\n",
    "            evli,posi=hits_dico[key][i]\n",
    "            evlj,posj=hits_dico[key][j]\n",
    "            if float(evli) < float(evlj):\n",
    "                #print(\"La c-evalue de i \",i,\" (\",evli,\") est meilleure que celle de j \",j,\"(\", evlj, \")\")\n",
    "                if key not in meilleur_hits:\n",
    "                    meilleur_hits[key]=[i]\n",
    "                    hits_a_supp[key]=[j]\n",
    "                else:\n",
    "                    meilleur_hits[key].append(i)\n",
    "                    hits_a_supp[key].append(j)\n",
    "                \n",
    "            else:\n",
    "                #print(\"la c-evalue de j\",j,\"(\",evlj,\") est meilleure que celle de i\",i,\"(\",evli,\")\" )\n",
    "                if key not in meilleur_hits:\n",
    "                    meilleur_hits[key]=[j]\n",
    "                    hits_a_supp[key]=[i]\n",
    "                else:\n",
    "                    meilleur_hits[key].append(j)\n",
    "                    hits_a_supp[key].append(i)\n",
    "    \n",
    "    print(\"Remarque: Il faut supprimer les hits suivants\\n\", hits_a_supp, '\\n')\n",
    "                                     \n",
    "    return meilleur_hits\n",
    "\n",
    "                                     \n",
    "input_fasta = 'Uniprot_ubiquitin.fasta'\n",
    "sequences,seq_names = read_fasta (input_fasta)\n",
    "\n",
    "input_domtblout = 'Uniprot_ubiquitin.domtb'\n",
    "hits_ubiquitin = read_domtblout(input_domtblout)\n",
    "\n",
    "eValue_thresh = 8e-100\n",
    "overlap_thresh = 10\n",
    "\n",
    "meilleur_hits = best_hits(hits_ubiquitin, eValue_thresh, overlap_thresh)\n",
    "print(\"MEILLEUR_HITS\\n\",meilleur_hits)"
   ]
  },
  {
   "cell_type": "code",
   "execution_count": null,
   "metadata": {},
   "outputs": [],
   "source": []
  }
 ],
 "metadata": {
  "colab": {
   "collapsed_sections": [],
   "name": "TME8_corrige.ipynb",
   "provenance": []
  },
  "kernelspec": {
   "display_name": "Python 3 (ipykernel)",
   "language": "python",
   "name": "python3"
  },
  "language_info": {
   "codemirror_mode": {
    "name": "ipython",
    "version": 3
   },
   "file_extension": ".py",
   "mimetype": "text/x-python",
   "name": "python",
   "nbconvert_exporter": "python",
   "pygments_lexer": "ipython3",
   "version": "3.9.12"
  }
 },
 "nbformat": 4,
 "nbformat_minor": 1
}
