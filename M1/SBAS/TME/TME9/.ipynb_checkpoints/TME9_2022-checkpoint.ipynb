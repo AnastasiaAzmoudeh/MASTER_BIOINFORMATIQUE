{
 "cells": [
  {
   "cell_type": "markdown",
   "metadata": {
    "id": "AMKZ5QVoBmjJ"
   },
   "source": [
    "<h1><b>Statistique en Bioinformatique : </b> TME9 </h1><br>\n",
    "\n",
    "L’objectif de ce TME est l'implementation de la méthode Expectation-Maximisation pour la recherche de motifs.\n",
    "\n",
    "<div class=\"alert alert-warning\" role=\"alert\" style=\"margin: 10px\">\n",
    "<div class=\"alert alert-warning\" role=\"alert\" style=\"margin: 10px\">\n",
    "<p><b>Soumission</b></p>\n",
    "<ul>\n",
    "<li>Renomer le fichier TME9.ipynb pour NomEtudiant1_NomEtudiant2.ipynb </li>\n",
    "<li>Soumettre via moodle </li>\n",
    "</div>"
   ]
  },
  {
   "cell_type": "markdown",
   "metadata": {
    "id": "r_qH1CG7BmjM"
   },
   "source": [
    "<H1>Expectation-Maximisation Motif</H1>\n",
    "<br>\n",
    "La méthode EM (Expectation-Maximisation) permet de détecter des motifs dans un ensemble de séquences ADN ou protéiques reliées, non alignées. En particulier, étant donné un groupe de séquences de longueur $L$, dont on sait qu'elles partagent un motif commun de longueur $w$, l’algorithme EM:\n",
    "- infère un modèle $(\\Theta,Z)$ pour le motif;\n",
    "- localise l’occurrence du motif dans chaque séquence.\n",
    "\n",
    "$\\Theta$ representé la matrice des poids-positions $p_{c,k}$ du motif (où $c \\in \\{A,C,G,T\\}$ ou $c \\in \\{A,C,D,...,W\\}$  et $k \\in \\{0 \\dots w\\}$), $p_{c,0}$  est le vecteur de probabilités du modèle nul ou \"background\".\n",
    "$Ζ$ est la matrice des variables cachées, qui donnent les positions initiales du motif: \n",
    "- $Z_{i,j} = 1$, si le motif commence en position $j$ de la séquence $i$,\n",
    "- $Z_{i,j} = 0$, sinon. \n",
    "\n",
    "L’algorithme affine les paramètres du modèle de manière itérative par espérance-maximisation. Chaque itération $t$ se compose de deux étapes:\n",
    "- (E) Calcul des valeurs attendues $Ζ^{(t)}$ de $Ζ$, étant donnés $\\Theta^{(t-1)}$\n",
    "- (M) Estimation de  $\\Theta^{(t)}$  à partir de  $Ζ^{(t)}$"
   ]
  },
  {
   "cell_type": "markdown",
   "metadata": {
    "id": "uSue1iYeBmjO"
   },
   "source": [
    "1\\. Implémentez une fonction `read_training_file` pour lire le fichier d'entré qui contient un ensemble de séquences ADN non alignées. Pour simplifier nous allons utiliser les données vu en cours du fichier `toyEx.txt`."
   ]
  },
  {
   "cell_type": "code",
   "execution_count": 1,
   "metadata": {
    "id": "aWQrgN0iBmjP"
   },
   "outputs": [
    {
     "name": "stdout",
     "output_type": "stream",
     "text": [
      "['GTCAGG', 'GAGAGT', 'ACGGAG', 'CCAGTC']\n"
     ]
    }
   ],
   "source": [
    "import numpy as np\n",
    "import matplotlib.pyplot as plt\n",
    "\n",
    "nts = ['A', 'C', 'G', 'T']\n",
    "\n",
    "w = 3\n",
    "input_f = \"toyEx.txt\"\n",
    "\n",
    "def read_training_file(input_f):\n",
    "    \"\"\"\n",
    "    Read a file with no-aligned sequences\n",
    "    input input_f : file name\n",
    "    output seqs : list of sequences\n",
    "    \"\"\"\n",
    "    seqs = []\n",
    "    \n",
    "    f = open(input_f)\n",
    "    for lines in f.readlines():\n",
    "        seqs.append(lines[:-1])\n",
    "   \n",
    "    return seqs\n",
    "\n",
    "seqs = read_training_file(input_f)\n",
    "print (seqs) #['GTCAGG', 'GAGAGT', 'ACGGAG', 'CCAGTC']"
   ]
  },
  {
   "cell_type": "markdown",
   "metadata": {
    "id": "XIHpbbKwBmjQ"
   },
   "source": [
    "2\\. Implémentez une fonction `initialiseP` pour initialiser la matrice poids-position $p_{c,k}$. On considère le modèle nul par défaut $p_0 = (0.25, 0.25, 0.25, 0.25)$. Pour initialiser $p^{(t)}$, on prend généralement un motif au hasard dans une sequence, et on fixe à $0.5$ les poids du nucleotide correspondant et à $\\frac{1-0.5}{3}$ les trois autres. "
   ]
  },
  {
   "cell_type": "code",
   "execution_count": 2,
   "metadata": {
    "id": "_zIZdJouBmjR"
   },
   "outputs": [],
   "source": [
    "# def initialiseP(seqs, w, alph):\n",
    "#     \"\"\"\n",
    "#     Initialise pc,k\n",
    "#     input seqs : list of sequences\n",
    "#     input w : motif length\n",
    "#     input alph : alphabet (nucleotides or amino acids)\n",
    "#     output P: position probability matrix\n",
    "#     \"\"\"\n",
    "#     q=len(alph)\n",
    "#     P = np.zeros((q, w+1))\n",
    "    \n",
    "#     for j in range (q): \n",
    "#         P[j][0]= 0.25\n",
    "        \n",
    "#     print(w)\n",
    "    \n",
    "#     alea1 =np.random.randint(len(seqs))\n",
    "#     random_seq = seqs[alea1]\n",
    "# #     print(\"random_seq\", random_seq)\n",
    "#     alea2 = np.random.randint(0,(len(random_seq)-w))\n",
    "#     motif = random_seq[alea2:(alea2+w)]\n",
    "# #     print(\"motif\",motif)\n",
    "    \n",
    "    \n",
    "#     for i in range(1,len(motif)):\n",
    "#         print(\"i\", i)\n",
    "#         indice = alph.index(motif[i])\n",
    "#         print(\"indice\", indice)\n",
    "#         P[indice][i] = 0.5\n",
    "        \n",
    "#         for j in  range (len(motif)+1): \n",
    "#             if j != indice: \n",
    "#                 P[j][i] = (1 - 0.5)/3\n",
    "# #         if motif[i]==alpha\n",
    "    \n",
    "\n",
    "    \n",
    "   \n",
    "   \n",
    "#     return P\n",
    "\n",
    "# #test\n",
    "# p = initialiseP(seqs, w, nts)\n",
    "# print (p)\n",
    "# print(nts)\n",
    "# print(np.random.randint(0,4))"
   ]
  },
  {
   "cell_type": "code",
   "execution_count": 3,
   "metadata": {},
   "outputs": [
    {
     "name": "stdout",
     "output_type": "stream",
     "text": [
      "[[0.25       0.16666667 0.5        0.16666667]\n",
      " [0.25       0.5        0.16666667 0.16666667]\n",
      " [0.25       0.16666667 0.16666667 0.5       ]\n",
      " [0.25       0.16666667 0.16666667 0.16666667]]\n"
     ]
    }
   ],
   "source": [
    "def initialiseP(seqs, w, alph):\n",
    "    \"\"\"\n",
    "    Initialise pc,k\n",
    "    input seqs : list of sequences\n",
    "    input w : motif length\n",
    "    input alph : alphabet (nucleotides or amino acids)\n",
    "    output P: position probability matrix\n",
    "    \"\"\"\n",
    "    q=len(alph)\n",
    "    P = np.zeros((q, w+1))\n",
    "    \n",
    "    for j in range (q): \n",
    "        P[j][0]= 0.25\n",
    "        \n",
    "#     print(w)\n",
    "    \n",
    "    alea1 =np.random.randint(len(seqs))\n",
    "    random_seq = seqs[alea1]\n",
    "#     print(\"random_seq\", random_seq)\n",
    "    alea2 = np.random.randint(0,(len(random_seq)-w))\n",
    "    motif = random_seq[alea2:(alea2+w)]\n",
    "#     print(\"motif\",motif)\n",
    "    \n",
    "    liste_indice =[]\n",
    "    for i in range(len(motif)):\n",
    "#         print(\"MOTIF[i]\",motif[i])\n",
    "        indice = alph.index(motif[i])\n",
    "        \n",
    "#         print(\"indice dans boucle\",indice)\n",
    "        liste_indice.append(indice)\n",
    "        \n",
    "    for j in range(len(liste_indice)):\n",
    "           \n",
    "        P[liste_indice[j]][j+1]=0.5\n",
    "    \n",
    "        \n",
    "    for i in range(1,w+1):\n",
    "        for j in range(q):\n",
    "            if P[j][i]==0.5:\n",
    "                continue\n",
    "            else:\n",
    "                P[j][i]=((1-0.5)/3)\n",
    "\n",
    "   \n",
    "    return P\n",
    "\n",
    "#test\n",
    "p = initialiseP(seqs, w, nts)\n",
    "print (p)\n",
    "# print(nts)\n",
    "# print(np.random.randint(0,4))"
   ]
  },
  {
   "cell_type": "markdown",
   "metadata": {
    "id": "rMqgrzYRBmjS"
   },
   "source": [
    "3\\. Implémenter une fonction `initialiseZ` pour initialiser la matrice $Z$ à uns. Rappelez-vous que la dimension de $Z$ est $nbSeq \\times (lenSeq -w +1)$, où $nbSeq$ est le nombre de sequences et $lenSeq$ est la taille/longueur des sequences."
   ]
  },
  {
   "cell_type": "code",
   "execution_count": 4,
   "metadata": {},
   "outputs": [],
   "source": [
    "# import re\n",
    "\n",
    "# IND = []\n",
    "# ici = ['GTCAGG', 'GAGAGT', 'ACGGAG', 'CCAGTC']\n",
    "# for i in range (len(ici)): \n",
    "#     string = ici[i]\n",
    "#     char = \"GGA\"\n",
    "#     indices = [i.start() for i in re.finditer(char, string)]\n",
    "#     IND.append(indices)\n",
    "# print(indices)\n",
    "# print(IND)\n",
    "\n",
    "# for i in range (len(IND)): \n",
    "#     if IND[i]== []: \n",
    "#         print('vide')\n",
    "#     else: \n",
    "#         print(IND[i],\"trouvé !!!\")\n",
    "        \n"
   ]
  },
  {
   "cell_type": "code",
   "execution_count": 5,
   "metadata": {},
   "outputs": [
    {
     "name": "stdout",
     "output_type": "stream",
     "text": [
      "GTC\n",
      "CTG\n"
     ]
    }
   ],
   "source": [
    "import re\n",
    "\n",
    "IND = []\n",
    "ici = ['GTCAGG', 'GAGAGT', 'ACGGAG', 'CCAGTC']\n",
    "# char = \"GGA\"\n",
    "char = \"GTC\"\n",
    "print(char)\n",
    "\n",
    "\n",
    "longueur =len(char)\n",
    "inverse=char[longueur::-1] \n",
    "print(inverse)\n",
    "\n",
    "# indices = string.index(str(char))\n",
    "# IND.append(indices)\n",
    "# print(indices)\n",
    "# print(IND)\n",
    "\n",
    "# for i in range (len(IND)): \n",
    "#     if IND[i]== []: \n",
    "#         print('vide')\n",
    "#     else: \n",
    "#         print(IND[i],\"trouvé !!!\")\n",
    "        "
   ]
  },
  {
   "cell_type": "code",
   "execution_count": 6,
   "metadata": {
    "id": "mghUiiW4BmjT"
   },
   "outputs": [],
   "source": [
    "# def initialiseZ(seqs, w):\n",
    "#     \"\"\"\n",
    "#     Initialise Z\n",
    "#     input seqs : list of sequences\n",
    "#     input w : motif length\n",
    "#     output Z :  matrix of motif start positions\n",
    "#     \"\"\"\n",
    "    \n",
    "#     Z = np.zeros((len(seqs), len(seqs[0])-w+1))\n",
    "    \n",
    "#     alea1 =np.random.randint(len(seqs))\n",
    "#     random_seq = seqs[alea1]\n",
    "#     print(\"random_seq\", random_seq)\n",
    "    \n",
    "#     alea2 = np.random.randint(0,(len(random_seq)-w))\n",
    "#     motif = random_seq[alea2:(alea2+w)]\n",
    "#     print(\"motif\",motif)\n",
    "    \n",
    "    \n",
    "#     print(\"seqs -->\",seqs)\n",
    "    \n",
    "    \n",
    "#     curseur = 0\n",
    "#     for seq in seqs: \n",
    "#         print(\"\\n====================> ON TRAVAILLE AVEC\", seq)\n",
    "#         if motif in seq: \n",
    "#             print(seq)\n",
    "#             ou = seq.index(motif)\n",
    "#             print(seq.index(motif))\n",
    "#             Z[curseur][ou] += 1\n",
    "#         else: \n",
    "#             print(motif, \"pas dans\" ,seq)            \n",
    "#         curseur +=1   \n",
    "            \n",
    "#     return Z\n",
    "\n",
    "# Z = initialiseZ(seqs, w) # matrix of motif start positions\n",
    "# print(Z)\n"
   ]
  },
  {
   "cell_type": "code",
   "execution_count": 7,
   "metadata": {},
   "outputs": [
    {
     "name": "stdout",
     "output_type": "stream",
     "text": [
      "[[0. 0. 1. 0.]\n",
      " [0. 1. 0. 0.]\n",
      " [0. 1. 0. 0.]\n",
      " [1. 0. 0. 0.]]\n"
     ]
    }
   ],
   "source": [
    "# ANASTASIA \n",
    "\n",
    "def initialiseZ(seqs, w):\n",
    "    \"\"\"\n",
    "    Initialise Z\n",
    "    input seqs : list of sequences\n",
    "    input w : motif length\n",
    "    output Z :  matrix of motif start positions\n",
    "    \"\"\"\n",
    "    \n",
    "#     Z = []\n",
    "    Z = np.zeros((len(seqs), len(seqs[0])-w+1))\n",
    "    l=[]\n",
    "    for i in range(len(seqs)):\n",
    "        r=np.random.randint(0,len(seqs[0])-w+1)\n",
    "        l.append(r)\n",
    "#     print(l)\n",
    "    \n",
    "    for i in range(len(Z)):\n",
    "        Z[i][l[i]]=1\n",
    "   \n",
    "    return Z\n",
    "\n",
    "Z = initialiseZ(seqs, w)\n",
    "print(Z)\n"
   ]
  },
  {
   "cell_type": "code",
   "execution_count": 8,
   "metadata": {},
   "outputs": [
    {
     "name": "stdout",
     "output_type": "stream",
     "text": [
      "['A', 'C', 'G', 'T']\n"
     ]
    }
   ],
   "source": [
    "print(nts)"
   ]
  },
  {
   "cell_type": "code",
   "execution_count": 9,
   "metadata": {},
   "outputs": [
    {
     "name": "stdout",
     "output_type": "stream",
     "text": [
      "[[0.25       0.16666667 0.5        0.16666667]\n",
      " [0.25       0.5        0.16666667 0.16666667]\n",
      " [0.25       0.16666667 0.16666667 0.5       ]\n",
      " [0.25       0.16666667 0.16666667 0.16666667]]\n"
     ]
    }
   ],
   "source": [
    "print(p) # petit p !!!! "
   ]
  },
  {
   "cell_type": "markdown",
   "metadata": {
    "id": "fbSoL4ywBmjU"
   },
   "source": [
    "4\\. Écrivez une fonction `E_step` pour le pas Expectation qui estime $Z$ à partir de  $p_{c,k}$. \n",
    "Écrivez aussi une fonction `normaliseZ` pour normaliser $Z$."
   ]
  },
  {
   "cell_type": "code",
   "execution_count": 10,
   "metadata": {
    "id": "9oa3r0j3BmjV"
   },
   "outputs": [
    {
     "name": "stdout",
     "output_type": "stream",
     "text": [
      "[[7.23379630e-05 7.23379630e-05 1.95312500e-03 2.17013889e-04]\n",
      " [6.51041667e-04 7.23379630e-05 6.51041667e-04 7.23379630e-05]\n",
      " [2.17013889e-04 6.51041667e-04 7.23379630e-05 6.51041667e-04]\n",
      " [2.17013889e-04 1.95312500e-03 7.23379630e-05 7.23379630e-05]]\n",
      "[[0.03125    0.03125    0.84375    0.09375   ]\n",
      " [0.45       0.05       0.45       0.05      ]\n",
      " [0.13636364 0.40909091 0.04545455 0.40909091]\n",
      " [0.09375    0.84375    0.03125    0.03125   ]]\n"
     ]
    }
   ],
   "source": [
    "def E_step(seqs, P, Z, w, alph):\n",
    "    \"\"\"\n",
    "    Implement Expectation step\n",
    "    input seqs : list of sequences\n",
    "    input P : position probability matrix\n",
    "    input Z :  matrix of motif start positions\n",
    "    input w : motif length\n",
    "    input alph : alphabet (nucleotides or amino acids)\n",
    "    output Z :  matrix of motif start positions\n",
    "    \"\"\"\n",
    "    \n",
    "    Z = initialiseZ(seqs, w)\n",
    "#     print(\"Z dans la focntion\\n \", Z, \"\\n\")\n",
    "    \n",
    "\n",
    "    \n",
    "    seq_nb = -1 # pour indiquer quelle séquence on traite\n",
    "#     print(\"valeur i --> len(seqs[0])-w+1) =\", len(seqs[0])-w+1)\n",
    "    for seq in seqs: \n",
    "        seq_nb+=1\n",
    "#         print(\"\\n\\nON TRAVAILL AVEC LA SEQUENCE : \",seq)\n",
    "        for i in range (len(seqs[0])-w+1): # la position du motif \n",
    "#             print(\"--------------------------------------------------\")\n",
    "#             print(\"i=\", i)\n",
    "            val = 1 \n",
    "            for j in range(len(seq)):\n",
    "#                 print(seq[j], j)\n",
    "                lettre = alph.index(seq[j])\n",
    "                if j>= i and j<=i+2: \n",
    "#                     print(\"motif et j =\", j, \"j-i =\", j-i, \"multiplier par\", P[lettre][(j-i)+1]) # le motif dure de j à j-i, longueur du motif = w ntd\n",
    "                    val = val * P[lettre][(j-i)+1]\n",
    "                else: \n",
    "#                     print(\"modele nul, on multiplie par\", P[lettre][0])\n",
    "                    val = val * (P[lettre][0])\n",
    "                Z[seq_nb][i]=val\n",
    "#                 print(\"Z intermédiare !!!!!!!!!!!!!!!!!!!!!!!!!!!!!!!!!!!!!\\n\",Z,\"\\n\")\n",
    "                    \n",
    "    \n",
    "            \n",
    "            \n",
    "            \n",
    "    \n",
    "    \n",
    "    return Z\n",
    "\n",
    "def normaliseZ(z):\n",
    "    \"\"\"\n",
    "    Normalise Z matrix\n",
    "    input Z : unnormalised matrix\n",
    "    output Zn : normalised matrix\n",
    "    \"\"\"\n",
    "    return np.array([row/sum(row) for row in z])\n",
    "\n",
    "Z = E_step(seqs, p, Z, w, nts)\n",
    "print(Z)\n",
    "z_norm = normaliseZ(Z)\n",
    "print(z_norm)"
   ]
  },
  {
   "cell_type": "code",
   "execution_count": 11,
   "metadata": {
    "scrolled": true
   },
   "outputs": [
    {
     "name": "stdout",
     "output_type": "stream",
     "text": [
      "[[7.23379630e-05 7.23379630e-05 1.95312500e-03 2.17013889e-04]\n",
      " [6.51041667e-04 7.23379630e-05 6.51041667e-04 7.23379630e-05]\n",
      " [2.17013889e-04 6.51041667e-04 7.23379630e-05 6.51041667e-04]\n",
      " [2.17013889e-04 1.95312500e-03 7.23379630e-05 7.23379630e-05]]\n"
     ]
    }
   ],
   "source": [
    "print(Z)"
   ]
  },
  {
   "cell_type": "code",
   "execution_count": 12,
   "metadata": {
    "scrolled": true
   },
   "outputs": [
    {
     "name": "stdout",
     "output_type": "stream",
     "text": [
      "[[0.03125    0.03125    0.84375    0.09375   ]\n",
      " [0.45       0.05       0.45       0.05      ]\n",
      " [0.13636364 0.40909091 0.04545455 0.40909091]\n",
      " [0.09375    0.84375    0.03125    0.03125   ]]\n"
     ]
    }
   ],
   "source": [
    "print(z_norm)"
   ]
  },
  {
   "cell_type": "code",
   "execution_count": 13,
   "metadata": {},
   "outputs": [
    {
     "name": "stdout",
     "output_type": "stream",
     "text": [
      "1.0\n",
      "1.0\n",
      "1.0\n",
      "1.0\n"
     ]
    }
   ],
   "source": [
    "for i in range(4): \n",
    "    print(np.sum(z_norm[i]))"
   ]
  },
  {
   "cell_type": "markdown",
   "metadata": {
    "id": "odh27oHwBmjV"
   },
   "source": [
    "5\\. Implémentez une fonction `M_step` pour le pas Maximisation qui estime $p_{c,k}$ à partir de $Z$. \n",
    "Utilisez les \"pseudocounts\" pour éviter les probabilités ègales à zero."
   ]
  },
  {
   "cell_type": "code",
   "execution_count": 14,
   "metadata": {
    "id": "VleAgdFtBmjW",
    "scrolled": true
   },
   "outputs": [
    {
     "name": "stdout",
     "output_type": "stream",
     "text": [
      "totalN \n",
      " [ 6.  5. 10.  3.]\n"
     ]
    }
   ],
   "source": [
    "def totalNumberofCH(seqs,alph):\n",
    "\n",
    "    q = len(alph)\n",
    "    totalN = np.zeros((q))\n",
    "    for i in range(q):\n",
    "        e = alph[i]\n",
    "        for seq in seqs:\n",
    "            for s in seq:\n",
    "                if(s == e):\n",
    "                    totalN[i]+=1\n",
    "    return totalN\n",
    "                    \n",
    "# def M_step(seqs, Z, w, alph):\n",
    "#     \"\"\"\n",
    "#     Implement Expectation step\n",
    "#     input seqs : list of sequences\n",
    "#     input Z :  matrix of motif start positions\n",
    "#     input w : motif length\n",
    "#     input alph : alphabet (nucleotides or amino acids)\n",
    "#     output P : position probability matrix\n",
    "#     \"\"\"\n",
    "\n",
    "# #     P = []\n",
    "#     P = np.zeros((len(alph), len(seqs[0])-w+1))\n",
    "    \n",
    "#     for i in range(len(seqs[0])-w+1): # parcourir les colonnes\n",
    "#         print(\"==========================colonne i =\",i,\"==================================\")\n",
    "#         for j in range(len(alph)): # parocurir les lignes\n",
    "#             if i==0: \n",
    "#                 P[j][i] = 0.25\n",
    "                \n",
    "#             else: \n",
    "#                 print(\" j =\", j,)\n",
    "#                 print(\"==> on veut regarder\", alph[j], \" en \",i, \"ème posiiton\")\n",
    "#                 for seq in seqs: \n",
    "#                     print(\"ON TRAVAILLE AVEC LA SEQUENCE : \",seq)\n",
    "#                     for ntd in seq: \n",
    "#                         print(ntd)\n",
    "#                         if ntd == alph[j]: \n",
    "#                             print(\" ntd == alph[j] pour j =\", j, \"possible? \")\n",
    "#                 print(\"\")\n",
    "                \n",
    "                \n",
    "    \n",
    "    \n",
    "    \n",
    "    return P\n",
    "\n",
    "# compte le nb  TOTAL de A,C,G,T dans les 4 seqs confondues\n",
    "totalN = totalNumberofCH(seqs, nts)\n",
    "print(\"totalN \\n\",totalN)\n",
    "\n",
    "# P = M_step(seqs, z_norm, w, nts)\n",
    "# print(P)"
   ]
  },
  {
   "cell_type": "code",
   "execution_count": 19,
   "metadata": {
    "scrolled": true
   },
   "outputs": [
    {
     "name": "stdout",
     "output_type": "stream",
     "text": [
      "[[0.25       0.29034091 0.29034091 0.17784091]\n",
      " [0.25       0.53196023 0.32102273 0.21875   ]\n",
      " [0.25       0.46647727 0.46647727 0.68877841]\n",
      " [0.25       0.0234375  0.03125    0.0203125 ]]\n"
     ]
    }
   ],
   "source": [
    "# ANASTASIA \n",
    "\n",
    "# def totalNumberofCH(seqs,alph):\n",
    "\n",
    "#     q = len(alph)\n",
    "#     totalN = np.zeros((q))\n",
    "#     for i in range(q):\n",
    "#         e = alph[i]\n",
    "#         for seq in seqs:\n",
    "#             for s in seq:\n",
    "#                 if(s == e):\n",
    "#                     totalN[i]+=1\n",
    "#     return totalN\n",
    "\n",
    "def M_step(seqs, Z, w, alph):\n",
    "    \"\"\"\n",
    "    Implement Expectation step\n",
    "    input seqs : list of sequences\n",
    "    input Z :  matrix of motif start positions\n",
    "    input w : motif length\n",
    "    input alph : alphabet (nucleotides or amino acids)\n",
    "    output P : position probability matrix\n",
    "    \"\"\"\n",
    "    dico={}\n",
    "    \n",
    "    for seq in seqs:\n",
    "        for i in range(len(seq)-w+1):\n",
    "            if seq not in dico:\n",
    "                dico[seq]=[seq[i:i+w]]\n",
    "            else:\n",
    "                dico[seq].append(seq[i:i+w])\n",
    "\n",
    "    P = []\n",
    "#     print(dico)\n",
    "    dicopos={}\n",
    "    \n",
    "    for key,val in dico.items():\n",
    "        for v in val:\n",
    "            for i in range(len(v)):\n",
    "                if v[i]=='A':\n",
    "                    nt='A'\n",
    "                if v[i]=='C':\n",
    "                    nt='C'\n",
    "                if v[i]=='G':\n",
    "                    nt='G'\n",
    "                if v[i]=='T':\n",
    "                    nt='T'\n",
    "\n",
    "                if(v[i],i) not in dicopos:\n",
    "                    dicopos[(v[i],i)]=[(v,key)]\n",
    "                else:\n",
    "                    dicopos[(v[i],i)].append((v,key))\n",
    "       \n",
    "#     print(\"dicopos \",dicopos)\n",
    "    dicoPup={}\n",
    "    for key,val in dicopos.items():\n",
    "        nt,pos=key\n",
    "        for v in val:\n",
    "            m,seq=v\n",
    "            idnt=alph.index(nt)\n",
    "            iseq=seqs.index(seq)\n",
    "            if key not in dicoPup:\n",
    "                dicoPup[key]=Z[iseq][idnt]\n",
    "            else:\n",
    "                dicoPup[key]+=Z[iseq][idnt]\n",
    "                \n",
    "#     print(\"DICO P UP\",dicoPup)\n",
    "    \n",
    "    som=0\n",
    "    for i in range(len(seqs)):\n",
    "        for j in range(len(seqs[0])-w+1):\n",
    "            som+=Z[i][j]\n",
    "    \n",
    "    dicoFinal={}\n",
    "    for key,val in dicoPup.items():\n",
    "        dicoFinal[key]=(val/som)\n",
    "        \n",
    "#     print(\"DICOFINAL\",dicoFinal)\n",
    "    P=initialiseP(seqs, w, nts)\n",
    "    for k,v in dicoFinal.items():\n",
    "        nt,pos=k\n",
    "        idnt=alph.index(nt)\n",
    "        P[idnt][pos+1]=v\n",
    "        \n",
    "    \n",
    "        \n",
    "        \n",
    "    \n",
    "    return P\n",
    "\n",
    "\n",
    "P = M_step(seqs, z_norm, w, nts)\n",
    "print(P)"
   ]
  },
  {
   "cell_type": "code",
   "execution_count": 20,
   "metadata": {
    "scrolled": false
   },
   "outputs": [
    {
     "name": "stdout",
     "output_type": "stream",
     "text": [
      "[[0.25       0.29034091 0.29034091 0.17784091]\n",
      " [0.25       0.53196023 0.32102273 0.21875   ]\n",
      " [0.25       0.46647727 0.46647727 0.68877841]\n",
      " [0.25       0.0234375  0.03125    0.0203125 ]]\n"
     ]
    }
   ],
   "source": [
    "print(P)"
   ]
  },
  {
   "cell_type": "code",
   "execution_count": 21,
   "metadata": {},
   "outputs": [
    {
     "name": "stdout",
     "output_type": "stream",
     "text": [
      "1.17261904\n"
     ]
    }
   ],
   "source": [
    "print(0.3266369+ 0.3578869 +0.44122024 +0.046875)"
   ]
  },
  {
   "cell_type": "code",
   "execution_count": 22,
   "metadata": {},
   "outputs": [
    {
     "name": "stdout",
     "output_type": "stream",
     "text": [
      "[[0.25       0.29034091 0.29034091 0.17784091]\n",
      " [0.25       0.53196023 0.32102273 0.21875   ]\n",
      " [0.25       0.46647727 0.46647727 0.68877841]\n",
      " [0.25       0.0234375  0.03125    0.0203125 ]]\n",
      "4 4\n",
      "[1.0, 1.312215909090909, 1.109090909090909, 1.1056818181818182]\n",
      "\n",
      "P_copied = P normalisée \n",
      " [[0.25       0.22126001 0.26178279 0.16084275]\n",
      " [0.25       0.40539078 0.28944672 0.19784173]\n",
      " [0.25       0.3554882  0.42059426 0.6229445 ]\n",
      " [0.25       0.01786101 0.02817623 0.01837102]]\n",
      "[1.0, 1.0000000000000002, 1.0, 1.0]\n"
     ]
    }
   ],
   "source": [
    "# pour normaliser P selon les colonnes \n",
    "\n",
    "import copy \n",
    "P_copied = copy.copy(P)\n",
    "print(P_copied)\n",
    "\n",
    "ligne, colonne = P_copied.shape\n",
    "print(ligne, colonne)\n",
    "\n",
    "SOMME = []\n",
    "for c in range (colonne):\n",
    "    somme = np.sum(P_copied[:,c])\n",
    "    SOMME.append(somme)\n",
    "print(SOMME)\n",
    "\n",
    "\n",
    "\n",
    "\n",
    "for c in range (colonne):\n",
    "    somme = np.sum(P_copied[:,c])\n",
    "    for l in range(ligne): \n",
    "        P_copied[l][c] = P_copied[l][c] / somme \n",
    "    \n",
    "print(\"\\nP_copied = P normalisée \\n\",P_copied)\n",
    "SOMME = []\n",
    "for c in range (colonne):\n",
    "    somme = np.sum(P_copied[:,c])\n",
    "    SOMME.append(somme)\n",
    "print(SOMME)\n",
    "\n",
    "        \n",
    "        "
   ]
  },
  {
   "cell_type": "markdown",
   "metadata": {
    "id": "37ciA9qLBmjY"
   },
   "source": [
    "6\\. Écrivez une fonction `likelihood` qui calcule la log-vraisemblance de l'ensemble des sequences."
   ]
  },
  {
   "cell_type": "code",
   "execution_count": 23,
   "metadata": {},
   "outputs": [
    {
     "name": "stdout",
     "output_type": "stream",
     "text": [
      "['GTCAGG', 'GAGAGT', 'ACGGAG', 'CCAGTC']\n"
     ]
    }
   ],
   "source": [
    "print(seqs)"
   ]
  },
  {
   "cell_type": "code",
   "execution_count": 24,
   "metadata": {
    "colab": {
     "base_uri": "https://localhost:8080/"
    },
    "id": "jUMUQUwZBmjY",
    "outputId": "b679b7aa-6b80-496d-d6be-c6342913321d",
    "scrolled": true
   },
   "outputs": [
    {
     "name": "stdout",
     "output_type": "stream",
     "text": [
      "0.00390625\n",
      "Likelihood =  5.31477930569835e-13\n",
      "Llikelihood =  -28.263114720907367\n",
      "-28.263114720907367\n"
     ]
    }
   ],
   "source": [
    "def likelihood(seqs, Z, P, w, alph):\n",
    "    \"\"\"\n",
    "    Implement log likelihood function of P\n",
    "    input seqs : list of sequences\n",
    "    input Z :  matrix of motif start positions\n",
    "    input p : position probability matrix\n",
    "    input w : motif length\n",
    "    input alph : alphabet (nucleotides or amino acids)\n",
    "    output lLikelihood : log likelihood of P \n",
    "\n",
    "    \"\"\"\n",
    "    M = len(seqs)\n",
    "    L = len(seqs[0])\n",
    "    \n",
    "    Likelihood =( L - w + 1)**(-M)\n",
    "    print(Likelihood)\n",
    "    ligne, colonne = Z.shape\n",
    "    \n",
    "    \n",
    "    new_Z = E_step(seqs, P, Z, w, alph)\n",
    "#     print(new_Z)\n",
    "    new_Z_norm = normaliseZ(new_Z) \n",
    "#     print(new_Z_norm)\n",
    "    \n",
    "    for i in range (ligne): \n",
    "# #         print(\" np.sum(new_Z[i]) ====>\",  np.sum(new_Z[i]))\n",
    "# #         print(\" (new_Z[i]) ====>\",  (new_Z[i]))\n",
    "        Likelihood =Likelihood * np.sum(new_Z[i])\n",
    "        \n",
    "#         print(\" np.sum(new_Z_norm[i]) ====>\",  np.sum(new_Z_norm[i]))\n",
    "#         Likelihood = Likelihood * np.sum(new_Z_norm[i])\n",
    "\n",
    "            \n",
    "            \n",
    "#     lLikelihood = np.log((L-w+1)**-M)\n",
    "    \n",
    "    lLikelihood = np.log(Likelihood)\n",
    "#     lLikelihood = (Likelihood)\n",
    "    \n",
    "    print (\"Likelihood = \", Likelihood)\n",
    "    print(\"Llikelihood = \", lLikelihood)\n",
    "#     re = np.exp(lLikelihood) # pour revenir à Likilihood \n",
    "#     print(re)\n",
    "\n",
    "    \n",
    "      \n",
    "    return lLikelihood\n",
    "\n",
    "logvraisemblance = likelihood(seqs, Z, P, w, nts)\n",
    "print(logvraisemblance)"
   ]
  },
  {
   "cell_type": "code",
   "execution_count": 25,
   "metadata": {},
   "outputs": [],
   "source": [
    "# def likelihood(seqs, Z, P, w, alph):\n",
    "#     \"\"\"\n",
    "#     Implement log likelihood function of P\n",
    "#     input seqs : list of sequences\n",
    "#     input Z :  matrix of motif start positions\n",
    "#     input p : position probability matrix\n",
    "#     input w : motif length\n",
    "#     input alph : alphabet (nucleotides or amino acids)\n",
    "#     output lLikelihood : log likelihood of P \n",
    "\n",
    "#     \"\"\"\n",
    "#     M = len(seqs)\n",
    "#     L = len(seqs[0])\n",
    "     \n",
    "#     lLikelihood = \n",
    "    \n",
    "#     print(\"Llikelihood = \", lLikelihood)\n",
    "\n",
    "    \n",
    "      \n",
    "#     return lLikelihood\n",
    "\n",
    "# logvraisemblance = likelihood(seqs, Z, P, w, nts)\n",
    "# print(logvraisemblance)"
   ]
  },
  {
   "cell_type": "code",
   "execution_count": 26,
   "metadata": {},
   "outputs": [],
   "source": [
    "# # si on prend Z NORMALISE (out)\n",
    "\n",
    "# P\n",
    "# [[0.25       0.38712798 0.38712798 0.34546131]\n",
    "#  [0.25       0.28258929 0.25915179 0.18415179]\n",
    "#  [0.25       0.29471726 0.29471726 0.42328869]\n",
    "#  [0.25       0.01785714 0.02566964 0.04947917]]\n",
    "#  np.sum(new_Z_norm[i]) ====> 1.0\n",
    "#  np.sum(new_Z_norm[i]) ====> 1.0\n",
    "#  np.sum(new_Z_norm[i]) ====> 0.9999999999999999\n",
    "#  np.sum(new_Z_norm[i]) ====> 1.0\n",
    "# -5.545177444479562"
   ]
  },
  {
   "cell_type": "code",
   "execution_count": 27,
   "metadata": {},
   "outputs": [],
   "source": [
    "# # si on prendre Z PAS normalisé (out)\n",
    "\n",
    "# P\n",
    "# [[0.25       0.38712798 0.38712798 0.34546131]\n",
    "#  [0.25       0.28258929 0.25915179 0.18415179]\n",
    "#  [0.25       0.29471726 0.29471726 0.42328869]\n",
    "#  [0.25       0.01785714 0.02566964 0.04947917]]\n",
    "#  np.sum(new_Z[i]) ====> 0.001524895107729391\n",
    "#  np.sum(new_Z[i]) ====> 0.002213263527992516\n",
    "#  np.sum(new_Z[i]) ====> 0.002437814382410838\n",
    "#  np.sum(new_Z[i]) ====> 0.0012288246552664348\n",
    "# -30.86264475807634"
   ]
  },
  {
   "cell_type": "code",
   "execution_count": 28,
   "metadata": {},
   "outputs": [
    {
     "name": "stdout",
     "output_type": "stream",
     "text": [
      "[[0.25       0.29034091 0.29034091 0.17784091]\n",
      " [0.25       0.53196023 0.32102273 0.21875   ]\n",
      " [0.25       0.46647727 0.46647727 0.68877841]\n",
      " [0.25       0.0234375  0.03125    0.0203125 ]]\n",
      "==========================> 0.25 <class 'numpy.float64'>\n",
      "sup\n",
      "==========================> 0.2903409090909091 <class 'numpy.float64'>\n",
      "sup\n",
      "==========================> 0.2903409090909091 <class 'numpy.float64'>\n",
      "sup\n",
      "==========================> 0.1778409090909091 <class 'numpy.float64'>\n",
      "sup\n",
      "4\n",
      "==========================> 0.25 <class 'numpy.float64'>\n",
      "sup\n",
      "==========================> 0.5319602272727273 <class 'numpy.float64'>\n",
      "sup\n",
      "==========================> 0.3210227272727273 <class 'numpy.float64'>\n",
      "sup\n",
      "==========================> 0.21875 <class 'numpy.float64'>\n",
      "sup\n",
      "8\n",
      "==========================> 0.25 <class 'numpy.float64'>\n",
      "sup\n",
      "==========================> 0.4664772727272727 <class 'numpy.float64'>\n",
      "sup\n",
      "==========================> 0.4664772727272727 <class 'numpy.float64'>\n",
      "sup\n",
      "==========================> 0.6887784090909091 <class 'numpy.float64'>\n",
      "sup\n",
      "12\n",
      "==========================> 0.25 <class 'numpy.float64'>\n",
      "sup\n",
      "==========================> 0.0234375 <class 'numpy.float64'>\n",
      "sup\n",
      "==========================> 0.03125 <class 'numpy.float64'>\n",
      "sup\n",
      "==========================> 0.0203125 <class 'numpy.float64'>\n",
      "sup\n",
      "16\n",
      "FINI\n"
     ]
    }
   ],
   "source": [
    "sup = 0 \n",
    "inf = 0\n",
    "cpt = 0\n",
    "\n",
    "print(P)\n",
    "\n",
    "for p in P:\n",
    "    for pp in p: \n",
    "        cpt += 1\n",
    "        print(\"==========================>\",pp, type(pp))\n",
    "        if pp > 1e-5: \n",
    "            print(\"sup\")\n",
    "            sup += 1\n",
    "        else: \n",
    "            print(\"inf\")\n",
    "            inf += 1\n",
    "    print(sup)\n",
    "    \n",
    "if sup == cpt: \n",
    "    print(\"FINI\")"
   ]
  },
  {
   "cell_type": "markdown",
   "metadata": {
    "id": "LFOgaK9eBmjZ"
   },
   "source": [
    "7\\. Implémentez l'algorithme Expectation-Maximisation. Vous calculerez la valeur de la log-vraisemblance totale du modèle à chaque iteration et l'algorithme prendra fin lorsque $\\Delta \\log \\text{Pr}(D | \\Theta) < \\varepsilon$. Utilisez $\\varepsilon = 1e-4$. Votre implementation devra renvoyer les paramètres du modele ($p$ et la log-likelihood associé), ainsi bien que la liste des meilleures positions du motif dans chaque sequence (matrice $Z$). Faites attention à utiliser $Z$ non-normalisé afin de trouver la log-vraisemblance!"
   ]
  },
  {
   "cell_type": "code",
   "execution_count": 29,
   "metadata": {},
   "outputs": [
    {
     "name": "stdout",
     "output_type": "stream",
     "text": [
      "The two matrices are equal.\n"
     ]
    }
   ],
   "source": [
    "A = np.asarray([[1,2,3],[4,5,6]])\n",
    "B = np.asarray([[1,2,3],[4,5,6]])\n",
    "\n",
    "\n",
    "\n",
    "if np.array_equal(A, B):\n",
    "    print(\"The two matrices are equal.\")\n",
    "else:\n",
    "    print(\"The two matrices are not equal.\")\n",
    "    \n",
    "    \n",
    "    "
   ]
  },
  {
   "cell_type": "code",
   "execution_count": 30,
   "metadata": {},
   "outputs": [
    {
     "name": "stdout",
     "output_type": "stream",
     "text": [
      "The two matrices are equal with threshold.\n"
     ]
    }
   ],
   "source": [
    "matrix1 = np.asarray([[1.0000000001, 2], [3, 4]])\n",
    "matrix2 = np.asarray([[1, 2], [3, 4]])\n",
    "\n",
    "threshold = 0.0001  # au hasard \n",
    "\n",
    "# Compare the two matrices for equality with threshold\n",
    "comparison = np.abs(matrix1 - matrix2) <= threshold\n",
    "if np.all(comparison):\n",
    "    print(\"The two matrices are equal with threshold.\")\n",
    "else:\n",
    "    print(\"The two matrices are not equal with threshold.\")\n",
    "    "
   ]
  },
  {
   "cell_type": "code",
   "execution_count": 31,
   "metadata": {
    "id": "-ZXGq1_3Bmja"
   },
   "outputs": [
    {
     "name": "stdout",
     "output_type": "stream",
     "text": [
      "0.00390625\n",
      "Likelihood =  1.8621714978882093e-14\n",
      "Llikelihood =  -31.614448023174084\n",
      "0.0001\n",
      "1.8621714978882068e-14\n",
      "The two matrices are not equal with threshold.\n",
      "Z\n",
      " [[1.88815414e-05 3.14692357e-05 7.00977225e-04 4.67318150e-04]\n",
      " [4.67318150e-04 8.30787822e-04 4.67318150e-04 5.19242389e-05]\n",
      " [5.84147687e-04 2.54900809e-04 3.02104662e-04 4.67318150e-04]\n",
      " [5.66446242e-04 7.00977225e-04 5.19242389e-05 1.88815414e-05]]\n",
      "P\n",
      " [[0.25       0.35169965 0.35169965 0.27358801]\n",
      " [0.25       0.28220133 0.16503386 0.12242751]\n",
      " [0.25       0.38306266 0.38306266 0.55072654]\n",
      " [0.25       0.07811164 0.08126767 0.0118351 ]]\n",
      "0.00390625\n",
      "Likelihood =  8.879324224853547e-14\n",
      "Llikelihood =  -30.052465848613156\n",
      "The two matrices are not equal with threshold.\n",
      "Z\n",
      " [[5.95506730e-05 5.51068928e-05 8.54057334e-04 1.15930522e-03]\n",
      " [1.15930522e-03 5.75915597e-04 1.15930522e-03 2.49134361e-05]\n",
      " [4.99460370e-04 9.30218363e-04 6.27273185e-04 1.15930522e-03]\n",
      " [1.99089886e-04 8.54057334e-04 2.49134361e-05 5.95506730e-05]]\n",
      "P\n",
      " [[0.25       0.32726348 0.32726348 0.20395056]\n",
      " [0.25       0.28649568 0.19565136 0.09670594]\n",
      " [0.25       0.47356369 0.47356369 0.63112978]\n",
      " [0.25       0.12331292 0.1296472  0.00898427]]\n",
      "0.00390625\n",
      "Likelihood =  1.8772283880270796e-13\n",
      "Llikelihood =  -29.30380978156148\n",
      "The two matrices are not equal with threshold.\n",
      "Z\n",
      " [[9.27715268e-05 7.68840729e-05 9.24600942e-04 1.52832121e-03]\n",
      " [1.52832121e-03 4.93879360e-04 1.52832121e-03 2.17559958e-05]\n",
      " [6.31421128e-04 1.33793550e-03 7.14663696e-04 1.52832121e-03]\n",
      " [1.78626497e-04 9.24600942e-04 2.17559958e-05 9.27715268e-05]]\n",
      "P\n",
      " [[0.25       0.34060025 0.34060025 0.20913122]\n",
      " [0.25       0.2807772  0.2012413  0.0861496 ]\n",
      " [0.25       0.46729885 0.46729885 0.60831145]\n",
      " [0.25       0.13146903 0.13944941 0.00985187]]\n",
      "0.00390625\n",
      "Likelihood =  1.800777667313411e-13\n",
      "Llikelihood =  -29.34538759992542\n",
      "The two matrices are not equal with threshold.\n",
      "Z\n",
      " [[8.77171916e-05 8.64528841e-05 9.08976832e-04 1.51281455e-03]\n",
      " [1.51281455e-03 5.20090079e-04 1.51281455e-03 2.45006949e-05]\n",
      " [6.51490523e-04 1.24710369e-03 7.13556426e-04 1.51281455e-03]\n",
      " [1.84636624e-04 9.08976832e-04 2.45006949e-05 8.77171916e-05]]\n",
      "P\n",
      " [[0.25       0.34352275 0.34352275 0.21193908]\n",
      " [0.25       0.2741164  0.19505416 0.08658186]\n",
      " [0.25       0.46849003 0.46849003 0.60961696]\n",
      " [0.25       0.13158367 0.13921326 0.00976064]]\n",
      "0.00390625\n",
      "Likelihood =  1.8021157552824115e-13\n",
      "Llikelihood =  -29.344644814683907\n",
      "The two matrices are not equal with threshold.\n",
      "Z\n",
      " [[8.82323566e-05 8.49940044e-05 8.96948687e-04 1.53296741e-03]\n",
      " [1.53296741e-03 5.32950556e-04 1.53296741e-03 2.45445045e-05]\n",
      " [6.38245554e-04 1.22324218e-03 7.26828199e-04 1.53296741e-03]\n",
      " [1.77060351e-04 8.96948687e-04 2.45445045e-05 8.82323566e-05]]\n",
      "P\n",
      " [[0.25       0.34413493 0.34413493 0.21123376]\n",
      " [0.25       0.26894061 0.19117931 0.08512988]\n",
      " [0.25       0.47171682 0.47171682 0.61249075]\n",
      " [0.25       0.13290117 0.14055051 0.00977723]]\n",
      "0.00390625\n",
      "Likelihood =  1.806153637960589e-13\n",
      "Llikelihood =  -29.34240668669308\n",
      "The two matrices are not equal with threshold.\n",
      "Z\n",
      " [[8.81892912e-05 8.38596541e-05 8.85736836e-04 1.55356589e-03]\n",
      " [1.55356589e-03 5.35788595e-04 1.55356589e-03 2.47996779e-05]\n",
      " [6.29635518e-04 1.21410797e-03 7.34422658e-04 1.55356589e-03]\n",
      " [1.69699529e-04 8.85736836e-04 2.47996779e-05 8.81892912e-05]]\n",
      "P\n",
      " [[0.25       0.34498463 0.34498463 0.2108163 ]\n",
      " [0.25       0.26508166 0.18858807 0.08373584]\n",
      " [0.25       0.47382374 0.47382374 0.6137432 ]\n",
      " [0.25       0.13416834 0.1417845  0.0097579 ]]\n",
      "0.00390625\n",
      "Likelihood =  1.8042260371999418e-13\n",
      "Llikelihood =  -29.343474497348602\n",
      "The two matrices are not equal with threshold.\n",
      "Z\n",
      " [[8.78975921e-05 8.33467091e-05 8.76972865e-04 1.56755680e-03]\n",
      " [1.56755680e-03 5.38444294e-04 1.56755680e-03 2.49225797e-05]\n",
      " [6.23908187e-04 1.20449005e-03 7.39533482e-04 1.56755680e-03]\n",
      " [1.64671374e-04 8.76972865e-04 2.49225797e-05 8.78975921e-05]]\n",
      "P\n",
      " [[0.25       0.3457014  0.3457014  0.21061619]\n",
      " [0.25       0.26212755 0.18655386 0.08275615]\n",
      " [0.25       0.47535138 0.47535138 0.61465485]\n",
      " [0.25       0.13508521 0.14265984 0.00972235]]\n",
      "0.00390625\n",
      "Likelihood =  1.8024814125480868e-13\n",
      "Llikelihood =  -29.34444193083869\n",
      "The two matrices are not equal with threshold.\n",
      "Z\n",
      " [[8.76873258e-05 8.29323199e-05 8.70292327e-04 1.57821890e-03]\n",
      " [1.57821890e-03 5.40788790e-04 1.57821890e-03 2.49635993e-05]\n",
      " [6.19379332e-04 1.19668205e-03 7.43603287e-04 1.57821890e-03]\n",
      " [1.60926914e-04 8.70292327e-04 2.49635993e-05 8.76873258e-05]]\n",
      "P\n",
      " [[0.25       0.34624499 0.34624499 0.21046173]\n",
      " [0.25       0.2598451  0.18496884 0.0820114 ]\n",
      " [0.25       0.47654346 0.47654346 0.61539619]\n",
      " [0.25       0.13578325 0.1433275  0.00969201]]\n",
      "0.00390625\n",
      "Likelihood =  1.801187144773317e-13\n",
      "Llikelihood =  -29.34516023653736\n",
      "The two matrices are not equal with threshold.\n",
      "Z\n",
      " [[8.75238254e-05 8.25919950e-05 8.65113024e-04 1.58657584e-03]\n",
      " [1.58657584e-03 5.42599237e-04 1.58657584e-03 2.49873250e-05]\n",
      " [6.15824410e-04 1.19067126e-03 7.46789496e-04 1.58657584e-03]\n",
      " [1.58054286e-04 8.65113024e-04 2.49873250e-05 8.75238254e-05]]\n",
      "P\n",
      " [[0.25       0.3466683  0.3466683  0.21034207]\n",
      " [0.25       0.25807424 0.18373957 0.08143137]\n",
      " [0.25       0.47746964 0.47746964 0.61597206]\n",
      " [0.25       0.13632623 0.14384669 0.0096675 ]]\n",
      "0.00390625\n",
      "Likelihood =  1.8000912556251769e-13\n",
      "Llikelihood =  -29.34576884773601\n",
      "The two matrices are not equal with threshold.\n",
      "Z\n",
      " [[8.73891316e-05 8.23243449e-05 8.61072711e-04 1.59309225e-03]\n",
      " [1.59309225e-03 5.44008972e-04 1.59309225e-03 2.50031112e-05]\n",
      " [6.13052778e-04 1.18596388e-03 7.49268886e-04 1.59309225e-03]\n",
      " [1.55845238e-04 8.61072711e-04 2.50031112e-05 8.73891316e-05]]\n",
      "P\n",
      " [[0.25       0.34700033 0.34700033 0.21025144]\n",
      " [0.25       0.2566948  0.18278148 0.08097994]\n",
      " [0.25       0.47818982 0.47818982 0.61641938]\n",
      " [0.25       0.1367489  0.14425026 0.0096476 ]]\n",
      "0.00390625\n",
      "Likelihood =  1.7991740069897637e-13\n",
      "Llikelihood =  -29.34627853434611\n",
      "The two matrices are not equal with threshold.\n",
      "Z\n",
      " [[8.72799311e-05 8.21135867e-05 8.57913066e-04 1.59818309e-03]\n",
      " [1.59818309e-03 5.45116360e-04 1.59818309e-03 2.50132137e-05]\n",
      " [6.10883499e-04 1.18226196e-03 7.51207045e-04 1.59818309e-03]\n",
      " [1.54137484e-04 8.57913066e-04 2.50132137e-05 8.72799311e-05]]\n",
      "P\n",
      " [[0.25       0.34726083 0.34726083 0.21018204]\n",
      " [0.25       0.2556168  0.18203218 0.08062763]\n",
      " [0.25       0.47875215 0.47875215 0.61676903]\n",
      " [0.25       0.13707879 0.14456493 0.00963157]]\n",
      "0.00390625\n",
      "Likelihood =  1.7984221049441501e-13\n",
      "Llikelihood =  -29.34669653683064\n",
      "The two matrices are not equal with threshold.\n",
      "Z\n",
      " [[8.71921994e-05 8.19471935e-05 8.55436506e-04 1.60217195e-03]\n",
      " [1.60217195e-03 5.45986842e-04 1.60217195e-03 2.50197836e-05]\n",
      " [6.09181308e-04 1.17935000e-03 7.52726332e-04 1.60217195e-03]\n",
      " [1.52810504e-04 8.55436506e-04 2.50197836e-05 8.71921994e-05]]\n",
      "P\n",
      " [[0.25       0.34746549 0.34746549 0.21012847]\n",
      " [0.25       0.25477229 0.18144489 0.08035186]\n",
      " [0.25       0.47919245 0.47919245 0.61704301]\n",
      " [0.25       0.13733703 0.14481108 0.00961873]]\n",
      "0.00390625\n",
      "Likelihood =  1.7978112903018135e-13\n",
      "Llikelihood =  -29.34703623371962\n",
      "The two matrices are not equal with threshold.\n",
      "Z\n",
      " [[8.71219703e-05 8.18158213e-05 8.53491761e-04 1.60530334e-03]\n",
      " [1.60530334e-03 5.46671667e-04 1.60530334e-03 2.50241551e-05]\n",
      " [6.07843645e-04 1.17705733e-03 7.53919280e-04 1.60530334e-03]\n",
      " [1.51775561e-04 8.53491761e-04 2.50241551e-05 8.71219703e-05]]\n",
      "P\n",
      " [[0.25       0.3476265  0.3476265  0.2100869 ]\n",
      " [0.25       0.25410944 0.18098375 0.08013552]\n",
      " [0.25       0.47953788 0.47953788 0.61725806]\n",
      " [0.25       0.13753959 0.14500405 0.00960848]]\n",
      "0.00390625\n",
      "Likelihood =  1.7973181447236233e-13\n",
      "Llikelihood =  -29.347310574652372\n",
      "The two matrices are not equal with threshold.\n",
      "Z\n",
      " [[8.70659165e-05 8.17120905e-05 8.51962466e-04 1.60776509e-03]\n",
      " [1.60776509e-03 5.47210980e-04 1.60776509e-03 2.50271114e-05]\n",
      " [6.06791163e-04 1.17525068e-03 7.54857288e-04 1.60776509e-03]\n",
      " [1.50966078e-04 8.51962466e-04 2.50271114e-05 8.70659165e-05]]\n",
      "P\n",
      " [[0.25       0.34775329 0.34775329 0.21005453]\n",
      " [0.25       0.25358838 0.18062115 0.07996555]\n",
      " [0.25       0.47980933 0.47980933 0.61742712]\n",
      " [0.25       0.13769875 0.14515561 0.00960033]]\n",
      "0.00390625\n",
      "Likelihood =  1.7969219511120584e-13\n",
      "Llikelihood =  -29.347531034945842\n",
      "The two matrices are not equal with threshold.\n",
      "Z\n",
      " [[8.70212801e-05 8.16301686e-05 8.50758546e-04 1.60970263e-03]\n",
      " [1.60970263e-03 5.47636030e-04 1.60970263e-03 2.50291425e-05]\n",
      " [6.05962248e-04 1.17382610e-03 7.55595663e-04 1.60970263e-03]\n",
      " [1.50331515e-04 8.50758546e-04 2.50291425e-05 8.70212801e-05]]\n",
      "P\n",
      " [[0.25       0.34785321 0.34785321 0.21002924]\n",
      " [0.25       0.25317831 0.18033572 0.07983183]\n",
      " [0.25       0.48002289 0.48002289 0.61756016]\n",
      " [0.25       0.13782397 0.14527479 0.00959384]]\n",
      "0.00390625\n",
      "Likelihood =  1.7966048255881333e-13\n",
      "Llikelihood =  -29.347707533157465\n",
      "The two matrices are not equal with threshold.\n",
      "Z\n",
      " [[8.69857960e-05 8.15654594e-05 8.49809956e-04 1.61122898e-03]\n",
      " [1.61122898e-03 5.47971228e-04 1.61122898e-03 2.50305606e-05]\n",
      " [6.05308909e-04 1.17270223e-03 7.56177400e-04 1.61122898e-03]\n",
      " [1.49833196e-04 8.49809956e-04 2.50305606e-05 8.69857960e-05]]\n",
      "P\n",
      " [[0.25       0.34793201 0.34793201 0.21000943]\n",
      " [0.25       0.25285529 0.18011084 0.07972653]\n",
      " [0.25       0.48019109 0.48019109 0.61766497]\n",
      " [0.25       0.13792257 0.14536863 0.0095887 ]]\n",
      "0.00390625\n",
      "Likelihood =  1.7963516982826216e-13\n",
      "Llikelihood =  -29.347848435116198\n",
      "The two matrices are not equal with threshold.\n",
      "Z\n",
      " [[8.69576238e-05 8.15143397e-05 8.49062037e-04 1.61243225e-03]\n",
      " [1.61243225e-03 5.48235695e-04 1.61243225e-03 2.50315662e-05]\n",
      " [6.04793646e-04 1.17181523e-03 7.56636044e-04 1.61243225e-03]\n",
      " [1.49441327e-04 8.49062037e-04 2.50315662e-05 8.69576238e-05]]\n",
      "P\n",
      " [[0.25       0.34799417 0.34799417 0.20999389]\n",
      " [0.25       0.25260065 0.17993354 0.07964353]\n",
      " [0.25       0.48032366 0.48032366 0.61774759]\n",
      " [0.25       0.13800028 0.14544257 0.00958461]]\n",
      "0.00390625\n",
      "Likelihood =  1.796150087404751e-13\n",
      "Llikelihood =  -29.347960674936864\n",
      "The two matrices are not equal with threshold.\n",
      "Z\n",
      " [[8.69352787e-05 8.14739510e-05 8.48472024e-04 1.61338136e-03]\n",
      " [1.61338136e-03 5.48444437e-04 1.61338136e-03 2.50322898e-05]\n",
      " [6.04387085e-04 1.17111496e-03 7.56997836e-04 1.61338136e-03]\n",
      " [1.49132833e-04 8.48472024e-04 2.50322898e-05 8.69352787e-05]]\n",
      "P\n",
      " [[0.25       0.34804324 0.34804324 0.20998167]\n",
      " [0.25       0.25239981 0.17979368 0.07957808]\n",
      " [0.25       0.4804282  0.4804282  0.61781276]\n",
      " [0.25       0.13806157 0.14550086 0.00958138]]\n",
      "0.00390625\n",
      "Likelihood =  1.7959897745074857e-13\n",
      "Llikelihood =  -29.34804993254015\n",
      "The two matrices are not equal with threshold.\n",
      "Z\n",
      " [[8.69175688e-05 8.14420378e-05 8.48006385e-04 1.61413033e-03]\n",
      " [1.61413033e-03 5.48609244e-04 1.61413033e-03 2.50328176e-05]\n",
      " [6.04066174e-04 1.17056197e-03 7.57283352e-04 1.61413033e-03]\n",
      " [1.48889767e-04 8.48006385e-04 2.50328176e-05 8.69175688e-05]]\n",
      "P\n",
      " [[0.25       0.34808198 0.34808198 0.20997206]\n",
      " [0.25       0.25224132 0.1796833  0.07952645]\n",
      " [0.25       0.48051069 0.48051069 0.61786418]\n",
      " [0.25       0.13810992 0.14554685 0.00957882]]\n",
      "0.00390625\n",
      "Likelihood =  1.7958624640517933e-13\n",
      "Llikelihood =  -29.34812082101066\n",
      "The two matrices are not equal with threshold.\n",
      "Z\n",
      " [[8.69035408e-05 8.14168197e-05 8.47638779e-04 1.61472157e-03]\n",
      " [1.61472157e-03 5.48739395e-04 1.61472157e-03 2.50332075e-05]\n",
      " [6.03812794e-04 1.17012519e-03 7.57508748e-04 1.61472157e-03]\n",
      " [1.48698123e-04 8.47638779e-04 2.50332075e-05 8.69035408e-05]]\n",
      "P\n",
      " [[0.25       0.34811258 0.34811258 0.20996449]\n",
      " [0.25       0.25211621 0.17959617 0.07948569]\n",
      " [0.25       0.4805758  0.4805758  0.61790478]\n",
      " [0.25       0.13814809 0.14558315 0.00957679]]\n",
      "0.00390625\n",
      "Likelihood =  1.795761463346617e-13\n",
      "Llikelihood =  -29.34817706337191\n",
      "The two matrices are not equal with threshold.\n",
      "Z\n",
      " [[8.68924342e-05 8.13968909e-05 8.47348493e-04 1.61518843e-03]\n",
      " [1.61518843e-03 5.48842198e-04 1.61518843e-03 2.50334986e-05]\n",
      " [6.03612687e-04 1.16978015e-03 7.57686731e-04 1.61518843e-03]\n",
      " [1.48546942e-04 8.47348493e-04 2.50334986e-05 8.68924342e-05]]\n",
      "P\n",
      " [[0.25       0.34813674 0.34813674 0.20995852]\n",
      " [0.25       0.25201742 0.17952736 0.07945351]\n",
      " [0.25       0.48062721 0.48062721 0.61793683]\n",
      " [0.25       0.13817822 0.1456118  0.00957518]]\n",
      "0.00390625\n",
      "Likelihood =  1.795681397985801e-13\n",
      "Llikelihood =  -29.348221650109846\n",
      "The two matrices are equal with threshold.\n",
      "The two matrices are equal with threshold.\n",
      "The two matrices are equal with threshold.\n",
      "The two matrices are equal with threshold.\n",
      "The two matrices are equal with threshold.\n",
      "The two matrices are equal with threshold.\n",
      "The two matrices are equal with threshold.\n",
      "The two matrices are equal with threshold.\n",
      "The two matrices are equal with threshold.\n",
      "The two matrices are equal with threshold.\n",
      "The two matrices are equal with threshold.\n",
      "The two matrices are equal with threshold.\n",
      "The two matrices are equal with threshold.\n",
      "The two matrices are equal with threshold.\n",
      "The two matrices are equal with threshold.\n",
      "The two matrices are equal with threshold.\n",
      "The two matrices are equal with threshold.\n",
      "The two matrices are equal with threshold.\n",
      "The two matrices are equal with threshold.\n",
      "The two matrices are equal with threshold.\n",
      "The two matrices are equal with threshold.\n",
      "The two matrices are equal with threshold.\n",
      "The two matrices are equal with threshold.\n",
      "The two matrices are equal with threshold.\n",
      "The two matrices are equal with threshold.\n",
      "The two matrices are equal with threshold.\n",
      "The two matrices are equal with threshold.\n",
      "The two matrices are equal with threshold.\n",
      "The two matrices are equal with threshold.\n",
      "[[0.25       0.34813674 0.34813674 0.20995852]\n",
      " [0.25       0.25201742 0.17952736 0.07945351]\n",
      " [0.25       0.48062721 0.48062721 0.61793683]\n",
      " [0.25       0.13817822 0.1456118  0.00957518]]\n",
      "\n",
      "\n",
      "\n",
      "\n",
      "\n",
      "\n",
      "[-31.614448023174084, -30.052465848613156, -29.30380978156148, -29.34538759992542, -29.344644814683907, -29.34240668669308, -29.343474497348602, -29.34444193083869, -29.34516023653736, -29.34576884773601, -29.34627853434611, -29.34669653683064, -29.34703623371962, -29.347310574652372, -29.347531034945842, -29.347707533157465, -29.347848435116198, -29.347960674936864, -29.34804993254015, -29.34812082101066, -29.34817706337191, -29.348221650109846]\n",
      "\n",
      "\n",
      "\n",
      "\n",
      "\n",
      "\n",
      "[[8.68924342e-05 8.13968909e-05 8.47348493e-04 1.61518843e-03]\n",
      " [1.61518843e-03 5.48842198e-04 1.61518843e-03 2.50334986e-05]\n",
      " [6.03612687e-04 1.16978015e-03 7.57686731e-04 1.61518843e-03]\n",
      " [1.48546942e-04 8.47348493e-04 2.50334986e-05 8.68924342e-05]]\n",
      "\n",
      "\n",
      "\n",
      "\n",
      "\n",
      "\n",
      "[]\n",
      "\n",
      "\n",
      "\n",
      "\n",
      "\n",
      "\n",
      "Les paramètres du modele:\n",
      "p:\n",
      " [[0.25       0.34813674 0.34813674 0.20995852]\n",
      " [0.25       0.25201742 0.17952736 0.07945351]\n",
      " [0.25       0.48062721 0.48062721 0.61793683]\n",
      " [0.25       0.13817822 0.1456118  0.00957518]]\n",
      "\n",
      "\n",
      "log-vraisemblance associé: -29.348221650109846\n",
      "\n",
      "\n",
      "Z:\n",
      " [[8.68924342e-05 8.13968909e-05 8.47348493e-04 1.61518843e-03]\n",
      " [1.61518843e-03 5.48842198e-04 1.61518843e-03 2.50334986e-05]\n",
      " [6.03612687e-04 1.16978015e-03 7.57686731e-04 1.61518843e-03]\n",
      " [1.48546942e-04 8.47348493e-04 2.50334986e-05 8.68924342e-05]]\n",
      "\n",
      "Les motifs:\n"
     ]
    },
    {
     "ename": "IndexError",
     "evalue": "list index out of range",
     "output_type": "error",
     "traceback": [
      "\u001b[1;31m---------------------------------------------------------------------------\u001b[0m",
      "\u001b[1;31mIndexError\u001b[0m                                Traceback (most recent call last)",
      "Input \u001b[1;32mIn [31]\u001b[0m, in \u001b[0;36m<cell line: 107>\u001b[1;34m()\u001b[0m\n\u001b[0;32m    105\u001b[0m \u001b[38;5;28mprint\u001b[39m(EMResults[\u001b[38;5;241m3\u001b[39m])\n\u001b[0;32m    106\u001b[0m \u001b[38;5;28mprint\u001b[39m(\u001b[38;5;124m\"\u001b[39m\u001b[38;5;130;01m\\n\u001b[39;00m\u001b[38;5;130;01m\\n\u001b[39;00m\u001b[38;5;130;01m\\n\u001b[39;00m\u001b[38;5;130;01m\\n\u001b[39;00m\u001b[38;5;130;01m\\n\u001b[39;00m\u001b[38;5;124m\"\u001b[39m)\n\u001b[1;32m--> 107\u001b[0m \u001b[43manalyse_results\u001b[49m\u001b[43m(\u001b[49m\u001b[43mEMResults\u001b[49m\u001b[43m,\u001b[49m\u001b[43mseqs\u001b[49m\u001b[43m)\u001b[49m\n",
      "Input \u001b[1;32mIn [31]\u001b[0m, in \u001b[0;36manalyse_results\u001b[1;34m(results, seqs)\u001b[0m\n\u001b[0;32m     88\u001b[0m \u001b[38;5;28mprint\u001b[39m(\u001b[38;5;124m'\u001b[39m\u001b[38;5;130;01m\\n\u001b[39;00m\u001b[38;5;124mLes motifs:\u001b[39m\u001b[38;5;124m'\u001b[39m)\n\u001b[0;32m     89\u001b[0m \u001b[38;5;28;01mfor\u001b[39;00m i \u001b[38;5;129;01min\u001b[39;00m \u001b[38;5;28mrange\u001b[39m(\u001b[38;5;28mlen\u001b[39m(seqs)):\n\u001b[1;32m---> 90\u001b[0m     \u001b[38;5;28mprint\u001b[39m(\u001b[38;5;124m'\u001b[39m\u001b[38;5;124mseq\u001b[39m\u001b[38;5;124m'\u001b[39m\u001b[38;5;241m+\u001b[39m\u001b[38;5;28mstr\u001b[39m(i\u001b[38;5;241m+\u001b[39m\u001b[38;5;241m1\u001b[39m)\u001b[38;5;241m+\u001b[39m\u001b[38;5;124m'\u001b[39m\u001b[38;5;124m: \u001b[39m\u001b[38;5;124m'\u001b[39m\u001b[38;5;241m+\u001b[39m \u001b[38;5;28mstr\u001b[39m(\u001b[43mresults\u001b[49m\u001b[43m[\u001b[49m\u001b[38;5;241;43m3\u001b[39;49m\u001b[43m]\u001b[49m\u001b[43m[\u001b[49m\u001b[43mi\u001b[49m\u001b[43m]\u001b[49m\u001b[38;5;241m+\u001b[39m\u001b[38;5;241m1\u001b[39m) \u001b[38;5;241m+\u001b[39m \u001b[38;5;124m'\u001b[39m\u001b[38;5;124m  \u001b[39m\u001b[38;5;124m'\u001b[39m \u001b[38;5;241m+\u001b[39m seqs[i][results[\u001b[38;5;241m3\u001b[39m][i]:results[\u001b[38;5;241m3\u001b[39m][i]\u001b[38;5;241m+\u001b[39mw])\n\u001b[0;32m     92\u001b[0m plt\u001b[38;5;241m.\u001b[39mplot(results[\u001b[38;5;241m1\u001b[39m])\n\u001b[0;32m     93\u001b[0m plt\u001b[38;5;241m.\u001b[39mxlabel(\u001b[38;5;124m'\u001b[39m\u001b[38;5;124mIteration\u001b[39m\u001b[38;5;124m'\u001b[39m)\n",
      "\u001b[1;31mIndexError\u001b[0m: list index out of range"
     ]
    }
   ],
   "source": [
    "def ExpectationMaximisation(seqs, w, alph, eps):\n",
    "    \"\"\"\n",
    "    Implement Expectation Maximisation algorithm\n",
    "    input seqs : list of sequences\n",
    "    input w : motif length\n",
    "    input alph : alphabet (nucleotides or amino acids)\n",
    "    input eps : threahold \n",
    "    output P : position probability matrix\n",
    "    output Z :  matrix of motif start positions\n",
    "    output lLikelihood : log likelihood of P \n",
    "    output pos_motif : positions of motifs in seqs\n",
    "    \"\"\"\n",
    "    P = initialiseP(seqs, w, alph)\n",
    "    Z = initialiseZ(seqs, w)\n",
    "    \n",
    "    lLikelihood = []\n",
    "    pos_motif = []\n",
    "    P_avant = P \n",
    "    \n",
    "    Z =  E_step(seqs, P, Z, w, alph)\n",
    "    P = M_step(seqs, Z, w, alph)\n",
    "    LL = likelihood(seqs, Z, P, w, alph) #LogLikelihood\n",
    "    lLikelihood.append(LL)\n",
    "    L = np.exp(LL) # likelihood\n",
    "    \n",
    "    print(eps)\n",
    "    print(L)\n",
    "    if L > eps: \n",
    "        print(\"okooooooo\")\n",
    "        \n",
    "\n",
    " \n",
    "#     while L > eps or P_avant == P :\n",
    "# #         print(\"entrée\")\n",
    "#         P_avant = P\n",
    "#         Z =  E_step(seqs, P, Z, w, alph)\n",
    "#         P = M_step(seqs, Z, w, alph)\n",
    "#         LL = likelihood(seqs, Z, P, w, alph) #LogLikelihood\n",
    "#         lLikelihood.append(LL)\n",
    "#         L = np.exp(LL) # likelihood\n",
    "    \n",
    "       \n",
    "          \n",
    "#     for i in range (50):\n",
    "#         print(\"================================\", i)\n",
    "#         if L < eps: \n",
    "#             P_avant = P\n",
    "#             Z =  E_step(seqs, P, Z, w, alph)\n",
    "#             print(\"Z\\n\",Z)\n",
    "#             P = M_step(seqs, Z, w, alph)\n",
    "#             print(\"P\\n\", P)\n",
    "#             LL = likelihood(seqs, Z, P, w, alph) #LogLikelihood\n",
    "#             lLikelihood.append(LL)\n",
    "#             L = np.exp(LL) # likelihood\n",
    "#         else: \n",
    "#             continue\n",
    "\n",
    "\n",
    "    for i in range (50): \n",
    "        threshold = eps\n",
    "        # Compare the two matrices for equality with threshold\n",
    "        comparison = np.abs(P_avant - P) <= threshold\n",
    "        if np.all(comparison):\n",
    "            print(\"The two matrices are equal with threshold.\")\n",
    "            continue\n",
    "        else:\n",
    "            print(\"The two matrices are not equal with threshold.\")\n",
    "            P_avant = P\n",
    "            Z =  E_step(seqs, P, Z, w, alph)\n",
    "            print(\"Z\\n\",Z)\n",
    "            P = M_step(seqs, Z, w, alph)\n",
    "            print(\"P\\n\", P)\n",
    "            LL = likelihood(seqs, Z, P, w, alph) #LogLikelihood\n",
    "            lLikelihood.append(LL)\n",
    "            L = np.exp(LL) # likelihood\n",
    "    \n",
    "    \n",
    "\n",
    "    return (P, lLikelihood, Z, pos_motif)\n",
    "\n",
    "def analyse_results(results, seqs):\n",
    "    print('Les paramètres du modele:')\n",
    "    print('p:\\n',results[0])\n",
    "    print('\\n')\n",
    "    print('log-vraisemblance associé:',results[1][-1])\n",
    "    print('\\n')\n",
    "    print('Z:\\n',results[2])\n",
    "    print('\\nLes motifs:')\n",
    "    for i in range(len(seqs)):\n",
    "        print('seq'+str(i+1)+': '+ str(results[3][i]+1) + '  ' + seqs[i][results[3][i]:results[3][i]+w])\n",
    "\n",
    "    plt.plot(results[1])\n",
    "    plt.xlabel('Iteration')\n",
    "    plt.ylabel('Log-vraisemblance')\n",
    "    plt.show()\n",
    "\n",
    "eps = 10**-4\n",
    "EMResults = ExpectationMaximisation(seqs, w, nts, eps)\n",
    "print(EMResults[0])\n",
    "print(\"\\n\\n\\n\\n\\n\")\n",
    "print(EMResults[1])\n",
    "print(\"\\n\\n\\n\\n\\n\")\n",
    "print(EMResults[2])\n",
    "print(\"\\n\\n\\n\\n\\n\")\n",
    "print(EMResults[3])\n",
    "print(\"\\n\\n\\n\\n\\n\")\n",
    "analyse_results(EMResults,seqs)"
   ]
  },
  {
   "cell_type": "markdown",
   "metadata": {
    "id": "MZsOsS8yBmjb"
   },
   "source": [
    "8\\. Qu'est-ce que vous observez en exécutant l'algorithme EM plusieurs fois? Justifiez votre réponse."
   ]
  },
  {
   "cell_type": "markdown",
   "metadata": {
    "id": "HgXXj3dcBmjb"
   },
   "source": [
    "Reponse:\n",
    "\n",
    "<font color=\"blue\">\n",
    "En exécutant l'algorithme EM plusieurs fois, on remarque qu'il y a convergence de la matrice P.\n",
    "</font>"
   ]
  },
  {
   "cell_type": "markdown",
   "metadata": {
    "id": "WThFDcG5Bmjb"
   },
   "source": [
    "9\\. Pour éviter le problème identifié au point précedent, écrivez une fonction `EM_iteratif` qui exécute l'algorithme `EM` $N$ fois ($N=10$) et qui prend les paramètres associés à la meilleure log-vraisemblance. Trouvez-vous les bons motifs?"
   ]
  },
  {
   "cell_type": "code",
   "execution_count": 32,
   "metadata": {
    "id": "hiMm-jSkBmjc"
   },
   "outputs": [
    {
     "ename": "NameError",
     "evalue": "name 'lLikelihood' is not defined",
     "output_type": "error",
     "traceback": [
      "\u001b[1;31m---------------------------------------------------------------------------\u001b[0m",
      "\u001b[1;31mNameError\u001b[0m                                 Traceback (most recent call last)",
      "Input \u001b[1;32mIn [32]\u001b[0m, in \u001b[0;36m<cell line: 18>\u001b[1;34m()\u001b[0m\n\u001b[0;32m     16\u001b[0m eps \u001b[38;5;241m=\u001b[39m \u001b[38;5;241m10\u001b[39m\u001b[38;5;241m*\u001b[39m\u001b[38;5;241m*\u001b[39m\u001b[38;5;241m-\u001b[39m\u001b[38;5;241m4\u001b[39m\n\u001b[0;32m     17\u001b[0m N\u001b[38;5;241m=\u001b[39m\u001b[38;5;241m10\u001b[39m\n\u001b[1;32m---> 18\u001b[0m meilleurEM \u001b[38;5;241m=\u001b[39m \u001b[43mEM_iteratif\u001b[49m\u001b[43m(\u001b[49m\u001b[43mN\u001b[49m\u001b[43m,\u001b[49m\u001b[43m \u001b[49m\u001b[43mseqs\u001b[49m\u001b[43m,\u001b[49m\u001b[43m \u001b[49m\u001b[43mw\u001b[49m\u001b[43m,\u001b[49m\u001b[43m \u001b[49m\u001b[43mnts\u001b[49m\u001b[43m,\u001b[49m\u001b[43m \u001b[49m\u001b[43meps\u001b[49m\u001b[43m)\u001b[49m\n\u001b[0;32m     19\u001b[0m analyse_results(meilleurEM,seqs)\n",
      "Input \u001b[1;32mIn [32]\u001b[0m, in \u001b[0;36mEM_iteratif\u001b[1;34m(N, seqs, w, alph, eps)\u001b[0m\n\u001b[0;32m      1\u001b[0m \u001b[38;5;28;01mdef\u001b[39;00m \u001b[38;5;21mEM_iteratif\u001b[39m(N, seqs, w, alph, eps):\n\u001b[0;32m      2\u001b[0m     \u001b[38;5;124;03m\"\"\"\u001b[39;00m\n\u001b[0;32m      3\u001b[0m \u001b[38;5;124;03m    Implement a iterative version of Expectation Maximisation algorithm\u001b[39;00m\n\u001b[0;32m      4\u001b[0m \u001b[38;5;124;03m    input N : number of iterations\u001b[39;00m\n\u001b[1;32m   (...)\u001b[0m\n\u001b[0;32m      8\u001b[0m \u001b[38;5;124;03m    output bestModel : the parameter of the best model\u001b[39;00m\n\u001b[0;32m      9\u001b[0m \u001b[38;5;124;03m    \"\"\"\u001b[39;00m\n\u001b[1;32m---> 11\u001b[0m     bestModel \u001b[38;5;241m=\u001b[39m P, Z, \u001b[43mlLikelihood\u001b[49m, pos_motif\n\u001b[0;32m     13\u001b[0m     \u001b[38;5;28;01mreturn\u001b[39;00m bestModel\n",
      "\u001b[1;31mNameError\u001b[0m: name 'lLikelihood' is not defined"
     ]
    }
   ],
   "source": [
    "def EM_iteratif(N, seqs, w, alph, eps):\n",
    "    \"\"\"\n",
    "    Implement a iterative version of Expectation Maximisation algorithm\n",
    "    input N : number of iterations\n",
    "    input seqs : list of sequences\n",
    "    input w : motif length\n",
    "    input eps : threahold \n",
    "    output bestModel : the parameter of the best model\n",
    "    \"\"\"\n",
    "  \n",
    "    bestModel = P, Z, lLikelihood, pos_motif\n",
    " \n",
    "    return bestModel\n",
    "\n",
    "\n",
    "eps = 10**-4\n",
    "N=10\n",
    "meilleurEM = EM_iteratif(N, seqs, w, nts, eps)\n",
    "analyse_results(meilleurEM,seqs)"
   ]
  },
  {
   "cell_type": "markdown",
   "metadata": {
    "id": "us2JZ9SRBmjc"
   },
   "source": [
    "10\\. Appliquez votre algorithme `EM` à l'ensemble des séquence du fichier `trainingSequences.txt` en utilisant $w=10$. "
   ]
  },
  {
   "cell_type": "code",
   "execution_count": 78,
   "metadata": {
    "id": "9yc5bUMIBmjd"
   },
   "outputs": [
    {
     "name": "stdout",
     "output_type": "stream",
     "text": [
      "['ACAACCATATATAGTAGCCACTGAAT', 'CCACCCCATATATAGTACGGGTGGTG', 'CCATAAATAGAGCAGACTGTCGCTGT', 'GTAAACATAAAACCCCATAAATAGGA', 'TTCAAGAAACTGCCATAAATAGCGAT', 'TAGAGGTTTTTGTGCCATAAATAGGT', 'CCCCATAAATAGGAATATCGGCCTGA', 'TTGCCATTAAATTATACCATATATGG', 'TATCAACAACGATAACCCATATATGG', 'TTTCCAAATATAGAAGGTGTGGAAAG', 'TCCAAATATAGTAAAATCGAGTCGAT', 'GACTGGGGCCCAAATATAGCATGTTC', 'ATCATTAGCTTTTACTCCATAAATGG', 'ATTCTTTTGCCATAAATGGTAACTCG', 'CCATAAATGGCAAGTCTGTCGAATAA', 'CCCATAAATGGCAGGGTATTAGCACG', 'CCAAAAATAGTGTGTCGTAACAGCTT', 'CCAAAAATAGGGGAATGGAAGTGGGG', 'CCAAAAATAGGCCAGAGTTTACAACG', 'CCAAAAATAGTTAAATAATATACATT', 'CTACACCTTCCAAAAATAGTATATCT', 'TTGCCAAATATGGGGTTAGAGTGTTC', 'GTCTTTACCAAAAATGGTGATCCTGT', 'TTGCCAAAAATGGAGCGTTTACCAAT', 'ATCCACCATTTATAGATTCAGGAGGC', 'GCATAAGAGAACATTCCATTTATAGG', 'TCAACCCCATTTATAGCCACGTCAGT', 'CATCCATTAATAGTAGCCTAATGGCG', 'GGAGTAGGCCCATTAATAGTATCTTT', 'CCATTAATAGACAAAATCGACTCAAG', 'CCAATTATAGAAAGTGGCTGGTCGTC', 'AACTATTATTTCTCACCCATTAATGG', 'ATGCTTTACCAATAATAGAGCTGCAA', 'GGTCAGTTAGATCCAATTATGGAATG', 'GCATTCCAAAATTAGTAACGATATCT', 'CCTCCTTTCCAAAATTAGTTGAGAAG', 'CTTTGCCAAAATTAGCTATTTCTGAC', 'ACGCATGCACCACATATAGTAACGTG', 'AGCGCCCCATTTTTAGGGTTTAAGCT', 'CCATTTTTAGTAATTTACAACGCCGC', 'CCATTTTTAGTATGGAAGCCGTGAGT', 'AAATTACCATAAGTGGTAATACACAC', 'CAATTACTATATATAGCGTGTTTGTC', 'CCATACATGGAATGTACCGAAACACT', 'CCGAAAGTACTATAAATAGTAATCCA', 'GTTTTCGCCTTTCTATAAATAGTACC', 'GGTACCTAATATAGTAATCAGCTCTG', 'TCTTTAATTACTTGCCTAATATAGCT', 'GGATGCATCCCTAATATAGTTAATAA', 'ATCTTTACCAAAACTAGTTAATTCGA', 'TGCTAAATATAGAACATCTCCAAATA', 'CCTTCTAACTAAATATAGAAGTGATA', 'ATTACCATAAACAGAAATCAGTGGAT', 'CCTAAAAATAGATCGAATGTGTGCTC', 'TACTAAAAATAGATCATGAGCTACGA', 'TAGTCACTTGACCATACCTAAAATGG', 'ATCAACAGTCTACAATCCTAAAATGG', 'CAAACATTCCAGATTTAGAATGGTTA', 'ACTTCTTTCCTTTTATAGCTGAGTGC', 'CCGCTAAGCCTTGTCCTTTTATAGCA', 'TGCCCAAAAAAAGAAAGTTGTCAGAC', 'CCCAAATAAGGTAAAGCTCTCTGGAC', 'AACCACACACCCAGAATTAGTAAGCG', 'TTCATTTAAGACTTTACCATTTCTGG', 'TGCGATGGAATAGTACTAAATTTAGG', 'TGCGGAAGAGGGTTCCCGATATAGAT', 'TCCCAAAAATACTCATATGTCGGGCT', 'CCATATTGGGTAAAGATTGCTTTTTA', 'TAGTGGTTAACTACCCGTTTTTAGTA', 'CCAATTTATAGTTCACTTTCGTGATG', 'TACTCGCTTTTCTTACTAAAAGTAGA', 'TACTAAAAGTAGTAGTTTGTCTGCAT', 'CCATTTTAAGGAATTTACGATCTAGT', 'TCCCATTTTAAGACCAACTTCTCATT', 'GATCCAGTAGATTCCATTTATGTACG', 'CCTGTAAATAGTAACAAGGTGCATCG', 'CGATCAATATGTTACCATTTTGGGGT', 'GAGCGAGACCTTCCCAATAATTAGTA', 'AAGTGACTATATTACTCAAAATAGAA', 'TTACCAAATTGCCAATTTAGGCTAAA', 'TTACCAAATTGCCAATTTAGGCTAAA', 'GAAGATACCTAATACGGAAATTTTCC', 'GCAGACTTGCTATATTAAGCTAATAT', 'CGCTTTCTTACTATAAATGTTTACTA', 'GGTTCAAGATTTTTCCTTTTATGTAC', 'TTTATAGTGTCCCTTTTTCGGTAAGT', 'ATCCTACGATGCTTTCTAAAAGAAGG', 'CCCTAGCAATTTTTTACTATATTTGT', 'GGAAGAATTTACTATAATTGTACATG', 'CTCTAATGGCCTTACTACTTAAAGCA', 'GCCGAGTCCGGAATTTCCGAAAAATG', 'ATTTATTTTCCTAAAGTGTAACTAAC', 'GACCTGTATCCTTTTCTACTTTTGTC', 'ATATGCCCCTCACAAGTTACCAATTA', 'AAAATGGTTTAATTTCTCGGGACAGG', 'CTCAGTGCACACAGACATTCCAAATA', 'GATTAGGATTCGTTTGTTTCCAAATA']\n"
     ]
    },
    {
     "ename": "NameError",
     "evalue": "name 'EM_iteratif' is not defined",
     "output_type": "error",
     "traceback": [
      "\u001b[1;31m---------------------------------------------------------------------------\u001b[0m",
      "\u001b[1;31mNameError\u001b[0m                                 Traceback (most recent call last)",
      "Input \u001b[1;32mIn [78]\u001b[0m, in \u001b[0;36m<cell line: 7>\u001b[1;34m()\u001b[0m\n\u001b[0;32m      5\u001b[0m eps \u001b[38;5;241m=\u001b[39m \u001b[38;5;241m10\u001b[39m\u001b[38;5;241m*\u001b[39m\u001b[38;5;241m*\u001b[39m\u001b[38;5;241m-\u001b[39m\u001b[38;5;241m4\u001b[39m\n\u001b[0;32m      6\u001b[0m N\u001b[38;5;241m=\u001b[39m\u001b[38;5;241m10\u001b[39m\n\u001b[1;32m----> 7\u001b[0m meilleurEM \u001b[38;5;241m=\u001b[39m \u001b[43mEM_iteratif\u001b[49m(N, seqs_train, w, nts, eps)\n\u001b[0;32m      8\u001b[0m analyse_results(meilleurEM,seqs_train)\n",
      "\u001b[1;31mNameError\u001b[0m: name 'EM_iteratif' is not defined"
     ]
    }
   ],
   "source": [
    "w= 10\n",
    "input_f = \"trainingSequences.txt\"\n",
    "seqs_train = read_training_file(input_f)\n",
    "print (seqs_train)\n",
    "eps = 10**-4\n",
    "N=10\n",
    "meilleurEM = EM_iteratif(N, seqs_train, w, nts, eps)\n",
    "analyse_results(meilleurEM,seqs_train)"
   ]
  },
  {
   "cell_type": "markdown",
   "metadata": {
    "id": "r3ddFiW2Bmjd"
   },
   "source": [
    "11\\. Construire un LOGO pour le motif prédit avec le service <i>WebLogo</i>. Pour cela, identifiez le motif dans chaque séquence, utiliser <i>ClustalOmega</i> pour les aligner et puis <i>WebLogo</i> pour générer le LOGO. Ajouter le LOGO à votre réponse."
   ]
  },
  {
   "cell_type": "code",
   "execution_count": 79,
   "metadata": {
    "id": "sR5YLgIZBmjd"
   },
   "outputs": [
    {
     "ename": "NameError",
     "evalue": "name 'meilleurEM' is not defined",
     "output_type": "error",
     "traceback": [
      "\u001b[1;31m---------------------------------------------------------------------------\u001b[0m",
      "\u001b[1;31mNameError\u001b[0m                                 Traceback (most recent call last)",
      "Input \u001b[1;32mIn [79]\u001b[0m, in \u001b[0;36m<cell line: 2>\u001b[1;34m()\u001b[0m\n\u001b[0;32m      2\u001b[0m \u001b[38;5;28;01mfor\u001b[39;00m i \u001b[38;5;129;01min\u001b[39;00m \u001b[38;5;28mrange\u001b[39m(\u001b[38;5;28mlen\u001b[39m(seqs_train)):\n\u001b[0;32m      3\u001b[0m     fhandler\u001b[38;5;241m.\u001b[39mwrite(\u001b[38;5;124m'\u001b[39m\u001b[38;5;124m>motif\u001b[39m\u001b[38;5;124m'\u001b[39m\u001b[38;5;241m+\u001b[39m\u001b[38;5;28mstr\u001b[39m(i\u001b[38;5;241m+\u001b[39m\u001b[38;5;241m1\u001b[39m)\u001b[38;5;241m+\u001b[39m\u001b[38;5;124m'\u001b[39m\u001b[38;5;130;01m\\n\u001b[39;00m\u001b[38;5;124m'\u001b[39m)\n\u001b[1;32m----> 4\u001b[0m     fhandler\u001b[38;5;241m.\u001b[39mwrite(seqs_train[i][\u001b[43mmeilleurEM\u001b[49m[\u001b[38;5;241m3\u001b[39m][i]:meilleurEM[\u001b[38;5;241m3\u001b[39m][i]\u001b[38;5;241m+\u001b[39mw])\n\u001b[0;32m      5\u001b[0m     fhandler\u001b[38;5;241m.\u001b[39mwrite(\u001b[38;5;124m'\u001b[39m\u001b[38;5;130;01m\\n\u001b[39;00m\u001b[38;5;124m'\u001b[39m)\n\u001b[0;32m      6\u001b[0m fhandler\u001b[38;5;241m.\u001b[39mclose()\n",
      "\u001b[1;31mNameError\u001b[0m: name 'meilleurEM' is not defined"
     ]
    }
   ],
   "source": [
    "fhandler = open('motifs.txt','w')\n",
    "for i in range(len(seqs_train)):\n",
    "    fhandler.write('>motif'+str(i+1)+'\\n')\n",
    "    fhandler.write(seqs_train[i][meilleurEM[3][i]:meilleurEM[3][i]+w])\n",
    "    fhandler.write('\\n')\n",
    "fhandler.close()"
   ]
  },
  {
   "cell_type": "markdown",
   "metadata": {
    "id": "0lu09z4zBmje"
   },
   "source": []
  },
  {
   "cell_type": "markdown",
   "metadata": {
    "id": "YfmV6fjVBmje"
   },
   "source": [
    "12\\. Comparez les motifs trouvés par votre programme avec les motifs du fichier `testingSequences.txt`, où les vrais motifs sont montrés en lettre majuscule. Quelle est la performance de votre programme? "
   ]
  },
  {
   "cell_type": "code",
   "execution_count": 80,
   "metadata": {
    "id": "jh36eh-vBmje"
   },
   "outputs": [],
   "source": [
    "import re\n",
    "\n",
    "motifs_extracted = []\n",
    "motifs_real = []\n",
    "\n",
    "\n",
    "input_f = \"testingSequences.txt\"\n"
   ]
  },
  {
   "cell_type": "code",
   "execution_count": null,
   "metadata": {},
   "outputs": [],
   "source": []
  }
 ],
 "metadata": {
  "colab": {
   "collapsed_sections": [],
   "name": "TME9_2022.ipynb",
   "provenance": []
  },
  "kernelspec": {
   "display_name": "Python 3 (ipykernel)",
   "language": "python",
   "name": "python3"
  },
  "language_info": {
   "codemirror_mode": {
    "name": "ipython",
    "version": 3
   },
   "file_extension": ".py",
   "mimetype": "text/x-python",
   "name": "python",
   "nbconvert_exporter": "python",
   "pygments_lexer": "ipython3",
   "version": "3.10.6"
  }
 },
 "nbformat": 4,
 "nbformat_minor": 1
}
