{
 "cells": [
  {
   "cell_type": "markdown",
   "metadata": {
    "id": "AMKZ5QVoBmjJ"
   },
   "source": [
    "<h1><b>Statistique en Bioinformatique : </b> TME9 </h1><br>\n",
    "\n",
    "L’objectif de ce TME est l'implementation de la méthode Expectation-Maximisation pour la recherche de motifs.\n",
    "\n",
    "<div class=\"alert alert-warning\" role=\"alert\" style=\"margin: 10px\">\n",
    "<div class=\"alert alert-warning\" role=\"alert\" style=\"margin: 10px\">\n",
    "<p><b>Soumission</b></p>\n",
    "<ul>\n",
    "<li>Renomer le fichier TME9.ipynb pour NomEtudiant1_NomEtudiant2.ipynb </li>\n",
    "<li>Soumettre via moodle </li>\n",
    "</div>"
   ]
  },
  {
   "cell_type": "markdown",
   "metadata": {
    "id": "r_qH1CG7BmjM"
   },
   "source": [
    "<H1>Expectation-Maximisation Motif</H1>\n",
    "<br>\n",
    "La méthode EM (Expectation-Maximisation) permet de détecter des motifs dans un ensemble de séquences ADN ou protéiques reliées, non alignées. En particulier, étant donné un groupe de séquences de longueur $L$, dont on sait qu'elles partagent un motif commun de longueur $w$, l’algorithme EM:\n",
    "- infère un modèle $(\\Theta,Z)$ pour le motif;\n",
    "- localise l’occurrence du motif dans chaque séquence.\n",
    "\n",
    "$\\Theta$ representé la matrice des poids-positions $p_{c,k}$ du motif (où $c \\in \\{A,C,G,T\\}$ ou $c \\in \\{A,C,D,...,W\\}$  et $k \\in \\{0 \\dots w\\}$), $p_{c,0}$  est le vecteur de probabilités du modèle nul ou \"background\".\n",
    "$Ζ$ est la matrice des variables cachées, qui donnent les positions initiales du motif: \n",
    "- $Z_{i,j} = 1$, si le motif commence en position $j$ de la séquence $i$,\n",
    "- $Z_{i,j} = 0$, sinon. \n",
    "\n",
    "L’algorithme affine les paramètres du modèle de manière itérative par espérance-maximisation. Chaque itération $t$ se compose de deux étapes:\n",
    "- (E) Calcul des valeurs attendues $Ζ^{(t)}$ de $Ζ$, étant donnés $\\Theta^{(t-1)}$\n",
    "- (M) Estimation de  $\\Theta^{(t)}$  à partir de  $Ζ^{(t)}$"
   ]
  },
  {
   "cell_type": "markdown",
   "metadata": {
    "id": "uSue1iYeBmjO"
   },
   "source": [
    "1\\. Implémentez une fonction `read_training_file` pour lire le fichier d'entré qui contient un ensemble de séquences ADN non alignées. Pour simplifier nous allons utiliser les données vu en cours du fichier `toyEx.txt`."
   ]
  },
  {
   "cell_type": "code",
   "execution_count": 82,
   "metadata": {
    "id": "aWQrgN0iBmjP"
   },
   "outputs": [
    {
     "name": "stdout",
     "output_type": "stream",
     "text": [
      "['GTCAGG', 'GAGAGT', 'ACGGAG', 'CCAGTC']\n"
     ]
    }
   ],
   "source": [
    "import numpy as np\n",
    "import matplotlib.pyplot as plt\n",
    "\n",
    "nts = ['A', 'C', 'G', 'T']\n",
    "\n",
    "w = 3\n",
    "input_f = \"toyEx.txt\"\n",
    "\n",
    "def read_training_file(input_f):\n",
    "    \"\"\"\n",
    "    Read a file with no-aligned sequences\n",
    "    input input_f : file name\n",
    "    output seqs : list of sequences\n",
    "    \"\"\"\n",
    "    seqs = []\n",
    "    \n",
    "    f = open(input_f)\n",
    "    for lines in f.readlines():\n",
    "        seqs.append(lines[:-1])\n",
    "   \n",
    "    return seqs\n",
    "\n",
    "seqs = read_training_file(input_f)\n",
    "print (seqs) #['GTCAGG', 'GAGAGT', 'ACGGAG', 'CCAGTC']"
   ]
  },
  {
   "cell_type": "markdown",
   "metadata": {
    "id": "XIHpbbKwBmjQ"
   },
   "source": [
    "2\\. Implémentez une fonction `initialiseP` pour initialiser la matrice poids-position $p_{c,k}$. On considère le modèle nul par défaut $p_0 = (0.25, 0.25, 0.25, 0.25)$. Pour initialiser $p^{(t)}$, on prend généralement un motif au hasard dans une sequence, et on fixe à $0.5$ les poids du nucleotide correspondant et à $\\frac{1-0.5}{3}$ les trois autres. "
   ]
  },
  {
   "cell_type": "code",
   "execution_count": 83,
   "metadata": {
    "id": "_zIZdJouBmjR"
   },
   "outputs": [],
   "source": [
    "# def initialiseP(seqs, w, alph):\n",
    "#     \"\"\"\n",
    "#     Initialise pc,k\n",
    "#     input seqs : list of sequences\n",
    "#     input w : motif length\n",
    "#     input alph : alphabet (nucleotides or amino acids)\n",
    "#     output P: position probability matrix\n",
    "#     \"\"\"\n",
    "#     q=len(alph)\n",
    "#     P = np.zeros((q, w+1))\n",
    "    \n",
    "#     for j in range (q): \n",
    "#         P[j][0]= 0.25\n",
    "        \n",
    "#     print(w)\n",
    "    \n",
    "#     alea1 =np.random.randint(len(seqs))\n",
    "#     random_seq = seqs[alea1]\n",
    "# #     print(\"random_seq\", random_seq)\n",
    "#     alea2 = np.random.randint(0,(len(random_seq)-w))\n",
    "#     motif = random_seq[alea2:(alea2+w)]\n",
    "# #     print(\"motif\",motif)\n",
    "    \n",
    "    \n",
    "#     for i in range(1,len(motif)):\n",
    "#         print(\"i\", i)\n",
    "#         indice = alph.index(motif[i])\n",
    "#         print(\"indice\", indice)\n",
    "#         P[indice][i] = 0.5\n",
    "        \n",
    "#         for j in  range (len(motif)+1): \n",
    "#             if j != indice: \n",
    "#                 P[j][i] = (1 - 0.5)/3\n",
    "# #         if motif[i]==alpha\n",
    "    \n",
    "\n",
    "    \n",
    "   \n",
    "   \n",
    "#     return P\n",
    "\n",
    "# #test\n",
    "# p = initialiseP(seqs, w, nts)\n",
    "# print (p)\n",
    "# print(nts)\n",
    "# print(np.random.randint(0,4))"
   ]
  },
  {
   "cell_type": "code",
   "execution_count": 84,
   "metadata": {},
   "outputs": [
    {
     "name": "stdout",
     "output_type": "stream",
     "text": [
      "[[0.25       0.16666667 0.16666667 0.16666667]\n",
      " [0.25       0.16666667 0.16666667 0.5       ]\n",
      " [0.25       0.5        0.16666667 0.16666667]\n",
      " [0.25       0.16666667 0.5        0.16666667]]\n"
     ]
    }
   ],
   "source": [
    "def initialiseP(seqs, w, alph):\n",
    "    \"\"\"\n",
    "    Initialise pc,k\n",
    "    input seqs : list of sequences\n",
    "    input w : motif length\n",
    "    input alph : alphabet (nucleotides or amino acids)\n",
    "    output P: position probability matrix\n",
    "    \"\"\"\n",
    "    q=len(alph)\n",
    "    P = np.zeros((q, w+1))\n",
    "    \n",
    "    for j in range (q): \n",
    "        P[j][0]= 0.25\n",
    "        \n",
    "#     print(w)\n",
    "    \n",
    "    alea1 =np.random.randint(len(seqs))\n",
    "    random_seq = seqs[alea1]\n",
    "#     print(\"random_seq\", random_seq)\n",
    "    alea2 = np.random.randint(0,(len(random_seq)-w))\n",
    "    motif = random_seq[alea2:(alea2+w)]\n",
    "#     print(\"motif\",motif)\n",
    "    \n",
    "    liste_indice =[]\n",
    "    for i in range(len(motif)):\n",
    "#         print(\"MOTIF[i]\",motif[i])\n",
    "        indice = alph.index(motif[i])\n",
    "        \n",
    "#         print(\"indice dans boucle\",indice)\n",
    "        liste_indice.append(indice)\n",
    "        \n",
    "    for j in range(len(liste_indice)):\n",
    "           \n",
    "        P[liste_indice[j]][j+1]=0.5\n",
    "    \n",
    "        \n",
    "    for i in range(1,w+1):\n",
    "        for j in range(q):\n",
    "            if P[j][i]==0.5:\n",
    "                continue\n",
    "            else:\n",
    "                P[j][i]=((1-0.5)/3)\n",
    "\n",
    "   \n",
    "    return P\n",
    "\n",
    "#test\n",
    "p = initialiseP(seqs, w, nts)\n",
    "print (p)\n",
    "# print(nts)\n",
    "# print(np.random.randint(0,4))"
   ]
  },
  {
   "cell_type": "markdown",
   "metadata": {
    "id": "rMqgrzYRBmjS"
   },
   "source": [
    "3\\. Implémenter une fonction `initialiseZ` pour initialiser la matrice $Z$ à uns. Rappelez-vous que la dimension de $Z$ est $nbSeq \\times (lenSeq -w +1)$, où $nbSeq$ est le nombre de sequences et $lenSeq$ est la taille/longueur des sequences."
   ]
  },
  {
   "cell_type": "code",
   "execution_count": 85,
   "metadata": {},
   "outputs": [],
   "source": [
    "# import re\n",
    "\n",
    "# IND = []\n",
    "# ici = ['GTCAGG', 'GAGAGT', 'ACGGAG', 'CCAGTC']\n",
    "# for i in range (len(ici)): \n",
    "#     string = ici[i]\n",
    "#     char = \"GGA\"\n",
    "#     indices = [i.start() for i in re.finditer(char, string)]\n",
    "#     IND.append(indices)\n",
    "# print(indices)\n",
    "# print(IND)\n",
    "\n",
    "# for i in range (len(IND)): \n",
    "#     if IND[i]== []: \n",
    "#         print('vide')\n",
    "#     else: \n",
    "#         print(IND[i],\"trouvé !!!\")\n",
    "        \n"
   ]
  },
  {
   "cell_type": "code",
   "execution_count": 86,
   "metadata": {},
   "outputs": [
    {
     "name": "stdout",
     "output_type": "stream",
     "text": [
      "GTC\n",
      "CTG\n"
     ]
    }
   ],
   "source": [
    "import re\n",
    "\n",
    "IND = []\n",
    "ici = ['GTCAGG', 'GAGAGT', 'ACGGAG', 'CCAGTC']\n",
    "# char = \"GGA\"\n",
    "char = \"GTC\"\n",
    "print(char)\n",
    "\n",
    "\n",
    "longueur =len(char)\n",
    "inverse=char[longueur::-1] \n",
    "print(inverse)\n",
    "\n",
    "# indices = string.index(str(char))\n",
    "# IND.append(indices)\n",
    "# print(indices)\n",
    "# print(IND)\n",
    "\n",
    "# for i in range (len(IND)): \n",
    "#     if IND[i]== []: \n",
    "#         print('vide')\n",
    "#     else: \n",
    "#         print(IND[i],\"trouvé !!!\")\n",
    "        "
   ]
  },
  {
   "cell_type": "code",
   "execution_count": 87,
   "metadata": {
    "id": "mghUiiW4BmjT"
   },
   "outputs": [],
   "source": [
    "# def initialiseZ(seqs, w):\n",
    "#     \"\"\"\n",
    "#     Initialise Z\n",
    "#     input seqs : list of sequences\n",
    "#     input w : motif length\n",
    "#     output Z :  matrix of motif start positions\n",
    "#     \"\"\"\n",
    "    \n",
    "#     Z = np.zeros((len(seqs), len(seqs[0])-w+1))\n",
    "    \n",
    "#     alea1 =np.random.randint(len(seqs))\n",
    "#     random_seq = seqs[alea1]\n",
    "#     print(\"random_seq\", random_seq)\n",
    "    \n",
    "#     alea2 = np.random.randint(0,(len(random_seq)-w))\n",
    "#     motif = random_seq[alea2:(alea2+w)]\n",
    "#     print(\"motif\",motif)\n",
    "    \n",
    "    \n",
    "#     print(\"seqs -->\",seqs)\n",
    "    \n",
    "    \n",
    "#     curseur = 0\n",
    "#     for seq in seqs: \n",
    "#         print(\"\\n====================> ON TRAVAILLE AVEC\", seq)\n",
    "#         if motif in seq: \n",
    "#             print(seq)\n",
    "#             ou = seq.index(motif)\n",
    "#             print(seq.index(motif))\n",
    "#             Z[curseur][ou] += 1\n",
    "#         else: \n",
    "#             print(motif, \"pas dans\" ,seq)            \n",
    "#         curseur +=1   \n",
    "            \n",
    "#     return Z\n",
    "\n",
    "# Z = initialiseZ(seqs, w) # matrix of motif start positions\n",
    "# print(Z)\n"
   ]
  },
  {
   "cell_type": "code",
   "execution_count": 88,
   "metadata": {},
   "outputs": [
    {
     "name": "stdout",
     "output_type": "stream",
     "text": [
      "[[0. 0. 0. 1.]\n",
      " [0. 0. 1. 0.]\n",
      " [0. 0. 1. 0.]\n",
      " [1. 0. 0. 0.]]\n"
     ]
    }
   ],
   "source": [
    "# ANASTASIA \n",
    "\n",
    "def initialiseZ(seqs, w):\n",
    "    \"\"\"\n",
    "    Initialise Z\n",
    "    input seqs : list of sequences\n",
    "    input w : motif length\n",
    "    output Z :  matrix of motif start positions\n",
    "    \"\"\"\n",
    "    \n",
    "#     Z = []\n",
    "    Z = np.zeros((len(seqs), len(seqs[0])-w+1))\n",
    "    l=[]\n",
    "    for i in range(len(seqs)):\n",
    "        r=np.random.randint(0,len(seqs[0])-w+1)\n",
    "        l.append(r)\n",
    "#     print(l)\n",
    "    \n",
    "    for i in range(len(Z)):\n",
    "        Z[i][l[i]]=1\n",
    "   \n",
    "    return Z\n",
    "\n",
    "Z = initialiseZ(seqs, w)\n",
    "print(Z)\n"
   ]
  },
  {
   "cell_type": "code",
   "execution_count": 89,
   "metadata": {},
   "outputs": [
    {
     "name": "stdout",
     "output_type": "stream",
     "text": [
      "['A', 'C', 'G', 'T']\n"
     ]
    }
   ],
   "source": [
    "print(nts)"
   ]
  },
  {
   "cell_type": "code",
   "execution_count": 90,
   "metadata": {},
   "outputs": [
    {
     "name": "stdout",
     "output_type": "stream",
     "text": [
      "[[0.25       0.16666667 0.16666667 0.16666667]\n",
      " [0.25       0.16666667 0.16666667 0.5       ]\n",
      " [0.25       0.5        0.16666667 0.16666667]\n",
      " [0.25       0.16666667 0.5        0.16666667]]\n"
     ]
    }
   ],
   "source": [
    "print(p) # petit p !!!! "
   ]
  },
  {
   "cell_type": "markdown",
   "metadata": {
    "id": "fbSoL4ywBmjU"
   },
   "source": [
    "4\\. Écrivez une fonction `E_step` pour le pas Expectation qui estime $Z$ à partir de  $p_{c,k}$. \n",
    "Écrivez aussi une fonction `normaliseZ` pour normaliser $Z$."
   ]
  },
  {
   "cell_type": "code",
   "execution_count": 10,
   "metadata": {
    "id": "9oa3r0j3BmjV"
   },
   "outputs": [
    {
     "name": "stdout",
     "output_type": "stream",
     "text": [
      "[[7.23379630e-05 1.95312500e-03 7.23379630e-05 7.23379630e-05]\n",
      " [7.23379630e-05 2.17013889e-04 7.23379630e-05 7.23379630e-05]\n",
      " [2.17013889e-04 7.23379630e-05 2.17013889e-04 7.23379630e-05]\n",
      " [6.51041667e-04 7.23379630e-05 7.23379630e-05 7.23379630e-05]]\n",
      "[[0.03333333 0.9        0.03333333 0.03333333]\n",
      " [0.16666667 0.5        0.16666667 0.16666667]\n",
      " [0.375      0.125      0.375      0.125     ]\n",
      " [0.75       0.08333333 0.08333333 0.08333333]]\n"
     ]
    }
   ],
   "source": [
    "def E_step(seqs, P, Z, w, alph):\n",
    "    \"\"\"\n",
    "    Implement Expectation step\n",
    "    input seqs : list of sequences\n",
    "    input P : position probability matrix\n",
    "    input Z :  matrix of motif start positions\n",
    "    input w : motif length\n",
    "    input alph : alphabet (nucleotides or amino acids)\n",
    "    output Z :  matrix of motif start positions\n",
    "    \"\"\"\n",
    "    \n",
    "    Z = initialiseZ(seqs, w)\n",
    "#     print(\"Z dans la focntion\\n \", Z, \"\\n\")\n",
    "    \n",
    "\n",
    "    \n",
    "    seq_nb = -1 # pour indiquer quelle séquence on traite\n",
    "#     print(\"valeur i --> len(seqs[0])-w+1) =\", len(seqs[0])-w+1)\n",
    "    for seq in seqs: \n",
    "        seq_nb+=1\n",
    "#         print(\"\\n\\nON TRAVAILL AVEC LA SEQUENCE : \",seq)\n",
    "        for i in range (len(seqs[0])-w+1): # la position du motif \n",
    "#             print(\"--------------------------------------------------\")\n",
    "#             print(\"i=\", i)\n",
    "            val = 1 \n",
    "            for j in range(len(seq)):\n",
    "#                 print(seq[j], j)\n",
    "                lettre = alph.index(seq[j])\n",
    "                if j>= i and j<=i+2: \n",
    "#                     print(\"motif et j =\", j, \"j-i =\", j-i, \"multiplier par\", P[lettre][(j-i)+1]) # le motif dure de j à j-i, longueur du motif = w ntd\n",
    "                    val = val * P[lettre][(j-i)+1]\n",
    "                else: \n",
    "#                     print(\"modele nul, on multiplie par\", P[lettre][0])\n",
    "                    val = val * (P[lettre][0])\n",
    "                Z[seq_nb][i]=val\n",
    "#                 print(\"Z intermédiare !!!!!!!!!!!!!!!!!!!!!!!!!!!!!!!!!!!!!\\n\",Z,\"\\n\")\n",
    "                    \n",
    "    \n",
    "            \n",
    "            \n",
    "            \n",
    "    \n",
    "    \n",
    "    return Z\n",
    "\n",
    "def normaliseZ(z):\n",
    "    \"\"\"\n",
    "    Normalise Z matrix\n",
    "    input Z : unnormalised matrix\n",
    "    output Zn : normalised matrix\n",
    "    \"\"\"\n",
    "    return np.array([row/sum(row) for row in z])\n",
    "\n",
    "Z = E_step(seqs, p, Z, w, nts)\n",
    "print(Z)\n",
    "z_norm = normaliseZ(Z)\n",
    "print(z_norm)"
   ]
  },
  {
   "cell_type": "code",
   "execution_count": 11,
   "metadata": {
    "scrolled": true
   },
   "outputs": [
    {
     "name": "stdout",
     "output_type": "stream",
     "text": [
      "[[7.23379630e-05 1.95312500e-03 7.23379630e-05 7.23379630e-05]\n",
      " [7.23379630e-05 2.17013889e-04 7.23379630e-05 7.23379630e-05]\n",
      " [2.17013889e-04 7.23379630e-05 2.17013889e-04 7.23379630e-05]\n",
      " [6.51041667e-04 7.23379630e-05 7.23379630e-05 7.23379630e-05]]\n"
     ]
    }
   ],
   "source": [
    "print(Z)"
   ]
  },
  {
   "cell_type": "code",
   "execution_count": 12,
   "metadata": {
    "scrolled": true
   },
   "outputs": [
    {
     "name": "stdout",
     "output_type": "stream",
     "text": [
      "[[0.03333333 0.9        0.03333333 0.03333333]\n",
      " [0.16666667 0.5        0.16666667 0.16666667]\n",
      " [0.375      0.125      0.375      0.125     ]\n",
      " [0.75       0.08333333 0.08333333 0.08333333]]\n"
     ]
    }
   ],
   "source": [
    "print(z_norm)"
   ]
  },
  {
   "cell_type": "code",
   "execution_count": 13,
   "metadata": {},
   "outputs": [
    {
     "name": "stdout",
     "output_type": "stream",
     "text": [
      "1.0000000000000002\n",
      "0.9999999999999999\n",
      "1.0\n",
      "1.0\n"
     ]
    }
   ],
   "source": [
    "for i in range(4): \n",
    "    print(np.sum(z_norm[i]))"
   ]
  },
  {
   "cell_type": "markdown",
   "metadata": {
    "id": "odh27oHwBmjV"
   },
   "source": [
    "5\\. Implémentez une fonction `M_step` pour le pas Maximisation qui estime $p_{c,k}$ à partir de $Z$. \n",
    "Utilisez les \"pseudocounts\" pour éviter les probabilités ègales à zero."
   ]
  },
  {
   "cell_type": "code",
   "execution_count": 14,
   "metadata": {
    "id": "VleAgdFtBmjW",
    "scrolled": true
   },
   "outputs": [
    {
     "name": "stdout",
     "output_type": "stream",
     "text": [
      "totalN \n",
      " [ 6.  5. 10.  3.]\n"
     ]
    }
   ],
   "source": [
    "def totalNumberofCH(seqs,alph):\n",
    "\n",
    "    q = len(alph)\n",
    "    totalN = np.zeros((q))\n",
    "    for i in range(q):\n",
    "        e = alph[i]\n",
    "        for seq in seqs:\n",
    "            for s in seq:\n",
    "                if(s == e):\n",
    "                    totalN[i]+=1\n",
    "    return totalN\n",
    "                    \n",
    "# def M_step(seqs, Z, w, alph):\n",
    "#     \"\"\"\n",
    "#     Implement Expectation step\n",
    "#     input seqs : list of sequences\n",
    "#     input Z :  matrix of motif start positions\n",
    "#     input w : motif length\n",
    "#     input alph : alphabet (nucleotides or amino acids)\n",
    "#     output P : position probability matrix\n",
    "#     \"\"\"\n",
    "\n",
    "# #     P = []\n",
    "#     P = np.zeros((len(alph), len(seqs[0])-w+1))\n",
    "    \n",
    "#     for i in range(len(seqs[0])-w+1): # parcourir les colonnes\n",
    "#         print(\"==========================colonne i =\",i,\"==================================\")\n",
    "#         for j in range(len(alph)): # parocurir les lignes\n",
    "#             if i==0: \n",
    "#                 P[j][i] = 0.25\n",
    "                \n",
    "#             else: \n",
    "#                 print(\" j =\", j,)\n",
    "#                 print(\"==> on veut regarder\", alph[j], \" en \",i, \"ème posiiton\")\n",
    "#                 for seq in seqs: \n",
    "#                     print(\"ON TRAVAILLE AVEC LA SEQUENCE : \",seq)\n",
    "#                     for ntd in seq: \n",
    "#                         print(ntd)\n",
    "#                         if ntd == alph[j]: \n",
    "#                             print(\" ntd == alph[j] pour j =\", j, \"possible? \")\n",
    "#                 print(\"\")\n",
    "                \n",
    "                \n",
    "    \n",
    "    \n",
    "    \n",
    "    return P\n",
    "\n",
    "# compte le nb  TOTAL de A,C,G,T dans les 4 seqs confondues\n",
    "totalN = totalNumberofCH(seqs, nts)\n",
    "print(\"totalN \\n\",totalN)\n",
    "\n",
    "# P = M_step(seqs, z_norm, w, nts)\n",
    "# print(P)"
   ]
  },
  {
   "cell_type": "code",
   "execution_count": 15,
   "metadata": {
    "scrolled": true
   },
   "outputs": [
    {
     "name": "stdout",
     "output_type": "stream",
     "text": [
      "[[0.25       0.37291667 0.37291667 0.33125   ]\n",
      " [0.25       0.29791667 0.27708333 0.24583333]\n",
      " [0.25       0.3        0.3        0.40208333]\n",
      " [0.25       0.00833333 0.02916667 0.0625    ]]\n"
     ]
    }
   ],
   "source": [
    "# ANASTASIA \n",
    "\n",
    "# def totalNumberofCH(seqs,alph):\n",
    "\n",
    "#     q = len(alph)\n",
    "#     totalN = np.zeros((q))\n",
    "#     for i in range(q):\n",
    "#         e = alph[i]\n",
    "#         for seq in seqs:\n",
    "#             for s in seq:\n",
    "#                 if(s == e):\n",
    "#                     totalN[i]+=1\n",
    "#     return totalN\n",
    "\n",
    "def M_step(seqs, Z, w, alph):\n",
    "    \"\"\"\n",
    "    Implement Expectation step\n",
    "    input seqs : list of sequences\n",
    "    input Z :  matrix of motif start positions\n",
    "    input w : motif length\n",
    "    input alph : alphabet (nucleotides or amino acids)\n",
    "    output P : position probability matrix\n",
    "    \"\"\"\n",
    "    dico={}\n",
    "    \n",
    "    for seq in seqs:\n",
    "        for i in range(len(seq)-w+1):\n",
    "            if seq not in dico:\n",
    "                dico[seq]=[seq[i:i+w]]\n",
    "            else:\n",
    "                dico[seq].append(seq[i:i+w])\n",
    "\n",
    "    P = []\n",
    "#     print(dico)\n",
    "    dicopos={}\n",
    "    \n",
    "    for key,val in dico.items():\n",
    "        for v in val:\n",
    "            for i in range(len(v)):\n",
    "                if v[i]=='A':\n",
    "                    nt='A'\n",
    "                if v[i]=='C':\n",
    "                    nt='C'\n",
    "                if v[i]=='G':\n",
    "                    nt='G'\n",
    "                if v[i]=='T':\n",
    "                    nt='T'\n",
    "\n",
    "                if(v[i],i) not in dicopos:\n",
    "                    dicopos[(v[i],i)]=[(v,key)]\n",
    "                else:\n",
    "                    dicopos[(v[i],i)].append((v,key))\n",
    "       \n",
    "#     print(\"dicopos \",dicopos)\n",
    "    dicoPup={}\n",
    "    for key,val in dicopos.items():\n",
    "        nt,pos=key\n",
    "        for v in val:\n",
    "            m,seq=v\n",
    "            idnt=alph.index(nt)\n",
    "            iseq=seqs.index(seq)\n",
    "            if key not in dicoPup:\n",
    "                dicoPup[key]=Z[iseq][idnt]\n",
    "            else:\n",
    "                dicoPup[key]+=Z[iseq][idnt]\n",
    "                \n",
    "#     print(\"DICO P UP\",dicoPup)\n",
    "    \n",
    "    som=0\n",
    "    for i in range(len(seqs)):\n",
    "        for j in range(len(seqs[0])-w+1):\n",
    "            som+=Z[i][j]\n",
    "    \n",
    "    dicoFinal={}\n",
    "    for key,val in dicoPup.items():\n",
    "        dicoFinal[key]=(val/som)\n",
    "        \n",
    "#     print(\"DICOFINAL\",dicoFinal)\n",
    "    P=initialiseP(seqs, w, nts)\n",
    "    for k,v in dicoFinal.items():\n",
    "        nt,pos=k\n",
    "        idnt=alph.index(nt)\n",
    "        P[idnt][pos+1]=v\n",
    "        \n",
    "    \n",
    "        \n",
    "        \n",
    "    \n",
    "    return P\n",
    "\n",
    "\n",
    "P = M_step(seqs, z_norm, w, nts)\n",
    "print(P)"
   ]
  },
  {
   "cell_type": "code",
   "execution_count": 16,
   "metadata": {
    "scrolled": false
   },
   "outputs": [
    {
     "name": "stdout",
     "output_type": "stream",
     "text": [
      "[[0.25       0.37291667 0.37291667 0.33125   ]\n",
      " [0.25       0.29791667 0.27708333 0.24583333]\n",
      " [0.25       0.3        0.3        0.40208333]\n",
      " [0.25       0.00833333 0.02916667 0.0625    ]]\n"
     ]
    }
   ],
   "source": [
    "print(P)"
   ]
  },
  {
   "cell_type": "code",
   "execution_count": 17,
   "metadata": {},
   "outputs": [
    {
     "name": "stdout",
     "output_type": "stream",
     "text": [
      "1.17261904\n"
     ]
    }
   ],
   "source": [
    "print(0.3266369+ 0.3578869 +0.44122024 +0.046875)"
   ]
  },
  {
   "cell_type": "code",
   "execution_count": 18,
   "metadata": {},
   "outputs": [
    {
     "name": "stdout",
     "output_type": "stream",
     "text": [
      "[[0.25       0.37291667 0.37291667 0.33125   ]\n",
      " [0.25       0.29791667 0.27708333 0.24583333]\n",
      " [0.25       0.3        0.3        0.40208333]\n",
      " [0.25       0.00833333 0.02916667 0.0625    ]]\n",
      "4 4\n",
      "[1.0, 0.9791666666666664, 0.9791666666666665, 1.0416666666666665]\n",
      "\n",
      "P_copied = P normalisée \n",
      " [[0.25       0.38085106 0.38085106 0.318     ]\n",
      " [0.25       0.30425532 0.28297872 0.236     ]\n",
      " [0.25       0.30638298 0.30638298 0.386     ]\n",
      " [0.25       0.00851064 0.02978723 0.06      ]]\n",
      "[1.0, 1.0, 1.0, 1.0]\n"
     ]
    }
   ],
   "source": [
    "# pour normaliser P selon les colonnes \n",
    "\n",
    "import copy \n",
    "P_copied = copy.copy(P)\n",
    "print(P_copied)\n",
    "\n",
    "ligne, colonne = P_copied.shape\n",
    "print(ligne, colonne)\n",
    "\n",
    "SOMME = []\n",
    "for c in range (colonne):\n",
    "    somme = np.sum(P_copied[:,c])\n",
    "    SOMME.append(somme)\n",
    "print(SOMME)\n",
    "\n",
    "\n",
    "\n",
    "\n",
    "for c in range (colonne):\n",
    "    somme = np.sum(P_copied[:,c])\n",
    "    for l in range(ligne): \n",
    "        P_copied[l][c] = P_copied[l][c] / somme \n",
    "    \n",
    "print(\"\\nP_copied = P normalisée \\n\",P_copied)\n",
    "SOMME = []\n",
    "for c in range (colonne):\n",
    "    somme = np.sum(P_copied[:,c])\n",
    "    SOMME.append(somme)\n",
    "print(SOMME)\n",
    "\n",
    "        \n",
    "        "
   ]
  },
  {
   "cell_type": "markdown",
   "metadata": {
    "id": "37ciA9qLBmjY"
   },
   "source": [
    "6\\. Écrivez une fonction `likelihood` qui calcule la log-vraisemblance de l'ensemble des sequences."
   ]
  },
  {
   "cell_type": "code",
   "execution_count": 19,
   "metadata": {},
   "outputs": [
    {
     "name": "stdout",
     "output_type": "stream",
     "text": [
      "['GTCAGG', 'GAGAGT', 'ACGGAG', 'CCAGTC']\n"
     ]
    }
   ],
   "source": [
    "print(seqs)"
   ]
  },
  {
   "cell_type": "code",
   "execution_count": 49,
   "metadata": {
    "colab": {
     "base_uri": "https://localhost:8080/"
    },
    "id": "jUMUQUwZBmjY",
    "outputId": "b679b7aa-6b80-496d-d6be-c6342913321d",
    "scrolled": true
   },
   "outputs": [
    {
     "name": "stdout",
     "output_type": "stream",
     "text": [
      "0.00390625\n",
      "Likelihood =  3.569752257333432e-14\n",
      "Llikelihood =  -30.963695104238006\n",
      "-30.963695104238006\n"
     ]
    }
   ],
   "source": [
    "def likelihood(seqs, Z, P, w, alph):\n",
    "    \"\"\"\n",
    "    Implement log likelihood function of P\n",
    "    input seqs : list of sequences\n",
    "    input Z :  matrix of motif start positions\n",
    "    input p : position probability matrix\n",
    "    input w : motif length\n",
    "    input alph : alphabet (nucleotides or amino acids)\n",
    "    output lLikelihood : log likelihood of P \n",
    "\n",
    "    \"\"\"\n",
    "    M = len(seqs)\n",
    "    L = len(seqs[0])\n",
    "    \n",
    "    Likelihood =( L - w + 1)**(-M)\n",
    "    print(Likelihood)\n",
    "    ligne, colonne = Z.shape\n",
    "    \n",
    "    \n",
    "    new_Z = E_step(seqs, P, Z, w, alph)\n",
    "#     print(new_Z)\n",
    "    new_Z_norm = normaliseZ(new_Z) \n",
    "#     print(new_Z_norm)\n",
    "    \n",
    "    for i in range (ligne): \n",
    "# #         print(\" np.sum(new_Z[i]) ====>\",  np.sum(new_Z[i]))\n",
    "# #         print(\" (new_Z[i]) ====>\",  (new_Z[i]))\n",
    "        Likelihood =Likelihood * np.sum(new_Z[i])\n",
    "        \n",
    "#         print(\" np.sum(new_Z_norm[i]) ====>\",  np.sum(new_Z_norm[i]))\n",
    "#         Likelihood = Likelihood * np.sum(new_Z_norm[i])\n",
    "\n",
    "            \n",
    "            \n",
    "#     lLikelihood = np.log((L-w+1)**-M)\n",
    "    \n",
    "    lLikelihood = np.log(Likelihood)\n",
    "#     lLikelihood = (Likelihood)\n",
    "    \n",
    "    print (\"Likelihood = \", Likelihood)\n",
    "    print(\"Llikelihood = \", lLikelihood)\n",
    "#     re = np.exp(lLikelihood) # pour revenir à Likilihood \n",
    "#     print(re)\n",
    "\n",
    "    \n",
    "      \n",
    "    return lLikelihood\n",
    "\n",
    "logvraisemblance = likelihood(seqs, Z, P, w, nts)\n",
    "print(logvraisemblance)"
   ]
  },
  {
   "cell_type": "code",
   "execution_count": 50,
   "metadata": {},
   "outputs": [],
   "source": [
    "# def likelihood(seqs, Z, P, w, alph):\n",
    "#     \"\"\"\n",
    "#     Implement log likelihood function of P\n",
    "#     input seqs : list of sequences\n",
    "#     input Z :  matrix of motif start positions\n",
    "#     input p : position probability matrix\n",
    "#     input w : motif length\n",
    "#     input alph : alphabet (nucleotides or amino acids)\n",
    "#     output lLikelihood : log likelihood of P \n",
    "\n",
    "#     \"\"\"\n",
    "#     M = len(seqs)\n",
    "#     L = len(seqs[0])\n",
    "     \n",
    "#     lLikelihood = \n",
    "    \n",
    "#     print(\"Llikelihood = \", lLikelihood)\n",
    "\n",
    "    \n",
    "      \n",
    "#     return lLikelihood\n",
    "\n",
    "# logvraisemblance = likelihood(seqs, Z, P, w, nts)\n",
    "# print(logvraisemblance)"
   ]
  },
  {
   "cell_type": "code",
   "execution_count": 51,
   "metadata": {},
   "outputs": [],
   "source": [
    "# # si on prend Z NORMALISE (out)\n",
    "\n",
    "# P\n",
    "# [[0.25       0.38712798 0.38712798 0.34546131]\n",
    "#  [0.25       0.28258929 0.25915179 0.18415179]\n",
    "#  [0.25       0.29471726 0.29471726 0.42328869]\n",
    "#  [0.25       0.01785714 0.02566964 0.04947917]]\n",
    "#  np.sum(new_Z_norm[i]) ====> 1.0\n",
    "#  np.sum(new_Z_norm[i]) ====> 1.0\n",
    "#  np.sum(new_Z_norm[i]) ====> 0.9999999999999999\n",
    "#  np.sum(new_Z_norm[i]) ====> 1.0\n",
    "# -5.545177444479562"
   ]
  },
  {
   "cell_type": "code",
   "execution_count": 52,
   "metadata": {},
   "outputs": [],
   "source": [
    "# # si on prendre Z PAS normalisé (out)\n",
    "\n",
    "# P\n",
    "# [[0.25       0.38712798 0.38712798 0.34546131]\n",
    "#  [0.25       0.28258929 0.25915179 0.18415179]\n",
    "#  [0.25       0.29471726 0.29471726 0.42328869]\n",
    "#  [0.25       0.01785714 0.02566964 0.04947917]]\n",
    "#  np.sum(new_Z[i]) ====> 0.001524895107729391\n",
    "#  np.sum(new_Z[i]) ====> 0.002213263527992516\n",
    "#  np.sum(new_Z[i]) ====> 0.002437814382410838\n",
    "#  np.sum(new_Z[i]) ====> 0.0012288246552664348\n",
    "# -30.86264475807634"
   ]
  },
  {
   "cell_type": "code",
   "execution_count": 53,
   "metadata": {},
   "outputs": [
    {
     "name": "stdout",
     "output_type": "stream",
     "text": [
      "[[0.25       0.37291667 0.37291667 0.33125   ]\n",
      " [0.25       0.29791667 0.27708333 0.24583333]\n",
      " [0.25       0.3        0.3        0.40208333]\n",
      " [0.25       0.00833333 0.02916667 0.0625    ]]\n",
      "==========================> 0.25 <class 'numpy.float64'>\n",
      "sup\n",
      "==========================> 0.3729166666666666 <class 'numpy.float64'>\n",
      "sup\n",
      "==========================> 0.3729166666666666 <class 'numpy.float64'>\n",
      "sup\n",
      "==========================> 0.33124999999999993 <class 'numpy.float64'>\n",
      "sup\n",
      "4\n",
      "==========================> 0.25 <class 'numpy.float64'>\n",
      "sup\n",
      "==========================> 0.2979166666666666 <class 'numpy.float64'>\n",
      "sup\n",
      "==========================> 0.2770833333333333 <class 'numpy.float64'>\n",
      "sup\n",
      "==========================> 0.24583333333333332 <class 'numpy.float64'>\n",
      "sup\n",
      "8\n",
      "==========================> 0.25 <class 'numpy.float64'>\n",
      "sup\n",
      "==========================> 0.29999999999999993 <class 'numpy.float64'>\n",
      "sup\n",
      "==========================> 0.29999999999999993 <class 'numpy.float64'>\n",
      "sup\n",
      "==========================> 0.4020833333333332 <class 'numpy.float64'>\n",
      "sup\n",
      "12\n",
      "==========================> 0.25 <class 'numpy.float64'>\n",
      "sup\n",
      "==========================> 0.008333333333333333 <class 'numpy.float64'>\n",
      "sup\n",
      "==========================> 0.02916666666666666 <class 'numpy.float64'>\n",
      "sup\n",
      "==========================> 0.062499999999999986 <class 'numpy.float64'>\n",
      "sup\n",
      "16\n",
      "FINI\n"
     ]
    }
   ],
   "source": [
    "sup = 0 \n",
    "inf = 0\n",
    "cpt = 0\n",
    "\n",
    "print(P)\n",
    "\n",
    "for p in P:\n",
    "    for pp in p: \n",
    "        cpt += 1\n",
    "        print(\"==========================>\",pp, type(pp))\n",
    "        if pp > 1e-5: \n",
    "            print(\"sup\")\n",
    "            sup += 1\n",
    "        else: \n",
    "            print(\"inf\")\n",
    "            inf += 1\n",
    "    print(sup)\n",
    "    \n",
    "if sup == cpt: \n",
    "    print(\"FINI\")"
   ]
  },
  {
   "cell_type": "markdown",
   "metadata": {
    "id": "LFOgaK9eBmjZ"
   },
   "source": [
    "7\\. Implémentez l'algorithme Expectation-Maximisation. Vous calculerez la valeur de la log-vraisemblance totale du modèle à chaque iteration et l'algorithme prendra fin lorsque $\\Delta \\log \\text{Pr}(D | \\Theta) < \\varepsilon$. Utilisez $\\varepsilon = 1e-4$. Votre implementation devra renvoyer les paramètres du modele ($p$ et la log-likelihood associé), ainsi bien que la liste des meilleures positions du motif dans chaque sequence (matrice $Z$). Faites attention à utiliser $Z$ non-normalisé afin de trouver la log-vraisemblance!"
   ]
  },
  {
   "cell_type": "code",
   "execution_count": 67,
   "metadata": {},
   "outputs": [
    {
     "name": "stdout",
     "output_type": "stream",
     "text": [
      "The two matrices are equal.\n"
     ]
    }
   ],
   "source": [
    "A = np.asarray([[1,2,3],[4,5,6]])\n",
    "B = np.asarray([[1,2,3],[4,5,6]])\n",
    "\n",
    "\n",
    "\n",
    "if np.array_equal(A, B):\n",
    "    print(\"The two matrices are equal.\")\n",
    "else:\n",
    "    print(\"The two matrices are not equal.\")\n",
    "    \n",
    "    \n",
    "    "
   ]
  },
  {
   "cell_type": "code",
   "execution_count": 75,
   "metadata": {},
   "outputs": [
    {
     "name": "stdout",
     "output_type": "stream",
     "text": [
      "The two matrices are equal with threshold.\n"
     ]
    }
   ],
   "source": [
    "matrix1 = np.asarray([[1.0000000001, 2], [3, 4]])\n",
    "matrix2 = np.asarray([[1, 2], [3, 4]])\n",
    "\n",
    "threshold = 0.0001  # au hasard \n",
    "\n",
    "# Compare the two matrices for equality with threshold\n",
    "comparison = np.abs(matrix1 - matrix2) <= threshold\n",
    "if np.all(comparison):\n",
    "    print(\"The two matrices are equal with threshold.\")\n",
    "else:\n",
    "    print(\"The two matrices are not equal with threshold.\")\n",
    "    "
   ]
  },
  {
   "cell_type": "code",
   "execution_count": 77,
   "metadata": {
    "id": "-ZXGq1_3Bmja"
   },
   "outputs": [
    {
     "name": "stdout",
     "output_type": "stream",
     "text": [
      "0.00390625\n",
      "Likelihood =  6.0883237536228386e-15\n",
      "Llikelihood =  -32.73240359678647\n",
      "0.0001\n",
      "6.088323753622834e-15\n",
      "The two matrices are not equal with threshold.\n",
      "Z\n",
      " [[6.32693554e-05 8.77862306e-05 5.67526118e-04 2.96100583e-04]\n",
      " [2.96100583e-04 8.22501620e-05 2.96100583e-04 3.29000648e-05]\n",
      " [4.56488399e-04 1.04774052e-03 1.51846453e-04 2.96100583e-04]\n",
      " [4.48685178e-04 5.67526118e-04 3.29000648e-05 6.32693554e-05]]\n",
      "P\n",
      " [[0.25       0.32604505 0.32604505 0.26418461]\n",
      " [0.25       0.4743625  0.35579666 0.13690588]\n",
      " [0.25       0.31260671 0.31260671 0.46289585]\n",
      " [0.25       0.06186044 0.07507848 0.02009142]]\n",
      "0.00390625\n",
      "Likelihood =  8.705960774609827e-14\n",
      "Llikelihood =  -30.072183364354938\n",
      "The two matrices are not equal with threshold.\n",
      "Z\n",
      " [[5.02060314e-05 9.08536573e-05 1.11864242e-03 7.37189638e-04]\n",
      " [7.37189638e-04 4.20729971e-04 7.37189638e-04 3.19968090e-05]\n",
      " [8.39040257e-04 1.07253621e-03 4.03389073e-04 7.37189638e-04]\n",
      " [6.96690305e-04 1.11864242e-03 3.19968090e-05 5.02060314e-05]]\n",
      "P\n",
      " [[0.25       0.34487529 0.34487529 0.26179939]\n",
      " [0.25       0.38323124 0.2571684  0.13630139]\n",
      " [0.25       0.38673846 0.38673846 0.55826031]\n",
      " [0.25       0.0830759  0.08873375 0.00926366]]\n",
      "0.00390625\n",
      "Likelihood =  1.7717014387721456e-13\n",
      "Llikelihood =  -29.36166585921302\n",
      "The two matrices are not equal with threshold.\n",
      "Z\n",
      " [[7.30847075e-05 8.73939356e-05 1.15286847e-03 1.16341918e-03]\n",
      " [1.16341918e-03 5.45592123e-04 1.16341918e-03 1.93055468e-05]\n",
      " [7.73635618e-04 1.29281105e-03 6.11819596e-04 1.16341918e-03]\n",
      " [4.03150465e-04 1.15286847e-03 1.93055468e-05 7.30847075e-05]]\n",
      "P\n",
      " [[0.25       0.32938962 0.32938962 0.22224694]\n",
      " [0.25       0.33944919 0.23327815 0.1142194 ]\n",
      " [0.25       0.43492282 0.43492282 0.59743811]\n",
      " [0.25       0.10714268 0.11387326 0.00850849]]\n",
      "0.00390625\n",
      "Likelihood =  1.8585321315727863e-13\n",
      "Llikelihood =  -29.313819209335016\n",
      "The two matrices are not equal with threshold.\n",
      "Z\n",
      " [[8.83881120e-05 8.67945381e-05 1.04375276e-03 1.33731911e-03]\n",
      " [1.33731911e-03 4.97482633e-04 1.33731911e-03 1.90455965e-05]\n",
      " [7.17293558e-04 1.37816087e-03 6.56871174e-04 1.33731911e-03]\n",
      " [2.74982253e-04 1.04375276e-03 1.90455965e-05 8.83881120e-05]]\n",
      "P\n",
      " [[0.25       0.33341241 0.33341241 0.21467928]\n",
      " [0.25       0.31540327 0.22273426 0.10037501]\n",
      " [0.25       0.44846611 0.44846611 0.59945506]\n",
      " [0.25       0.11873313 0.12658062 0.00953844]]\n",
      "0.00390625\n",
      "Likelihood =  1.8160340551054933e-13\n",
      "Llikelihood =  -29.336951176107927\n",
      "The two matrices are not equal with threshold.\n",
      "Z\n",
      " [[8.90312552e-05 8.87092899e-05 9.84973635e-04 1.40051592e-03]\n",
      " [1.40051592e-03 5.01558444e-04 1.40051592e-03 2.22848063e-05]\n",
      " [6.95577363e-04 1.32486758e-03 6.74635846e-04 1.40051592e-03]\n",
      " [2.35647784e-04 9.84973635e-04 2.22848063e-05 8.90312552e-05]]\n",
      "P\n",
      " [[0.25       0.33769972 0.33769972 0.21393155]\n",
      " [0.25       0.29901308 0.21196774 0.09488487]\n",
      " [0.25       0.45579059 0.45579059 0.6024557 ]\n",
      " [0.25       0.12376816 0.13163615 0.00983736]]\n",
      "0.00390625\n",
      "Likelihood =  1.807489635453207e-13\n",
      "Llikelihood =  -29.341667268077348\n",
      "The two matrices are not equal with threshold.\n",
      "Z\n",
      " [[8.89523641e-05 8.76947498e-05 9.50530431e-04 1.44890930e-03]\n",
      " [1.44890930e-03 5.14506575e-04 1.44890930e-03 2.36589146e-05]\n",
      " [6.73822662e-04 1.28292327e-03 6.94425382e-04 1.44890930e-03]\n",
      " [2.11862856e-04 9.50530431e-04 2.36589146e-05 8.89523641e-05]]\n",
      "P\n",
      " [[0.25       0.34007231 0.34007231 0.21283165]\n",
      " [0.25       0.28731308 0.20383917 0.09117511]\n",
      " [0.25       0.46199935 0.46199935 0.60645647]\n",
      " [0.25       0.12724066 0.1350523  0.00988932]]\n",
      "0.00390625\n",
      "Likelihood =  1.8093731938558733e-13\n",
      "Llikelihood =  -29.34062572535824\n",
      "The two matrices are not equal with threshold.\n",
      "Z\n",
      " [[8.88872906e-05 8.62521239e-05 9.25862145e-04 1.48878607e-03]\n",
      " [1.48878607e-03 5.22479031e-04 1.48878607e-03 2.42772380e-05]\n",
      " [6.56868709e-04 1.25781399e-03 7.09804842e-04 1.48878607e-03]\n",
      " [1.94759777e-04 9.25862145e-04 2.42772380e-05 8.88872906e-05]]\n",
      "P\n",
      " [[0.25       0.3418574  0.3418574  0.21195921]\n",
      " [0.25       0.27883617 0.19805369 0.08830806]\n",
      " [0.25       0.46655955 0.46655955 0.60927327]\n",
      " [0.25       0.12989819 0.13765371 0.00987373]]\n",
      "0.00390625\n",
      "Likelihood =  1.8086128847277728e-13\n",
      "Llikelihood =  -29.34104601947921\n",
      "The two matrices are not equal with threshold.\n",
      "Z\n",
      " [[8.86166611e-05 8.52036849e-05 9.07457392e-04 1.51839312e-03]\n",
      " [1.51839312e-03 5.28231625e-04 1.51839312e-03 2.46066923e-05]\n",
      " [6.44555154e-04 1.23847812e-03 7.20919038e-04 1.51839312e-03]\n",
      " [1.82896068e-04 9.07457392e-04 2.46066923e-05 8.86166611e-05]]\n",
      "P\n",
      " [[0.25       0.3432722  0.3432722  0.2114125 ]\n",
      " [0.25       0.27256077 0.19375571 0.08620428]\n",
      " [0.25       0.46987287 0.46987287 0.6112837 ]\n",
      " [0.25       0.1318597  0.13955531 0.0098325 ]]\n",
      "0.00390625\n",
      "Likelihood =  1.8069293771824213e-13\n",
      "Llikelihood =  -29.341977280985823\n",
      "The two matrices are not equal with threshold.\n",
      "Z\n",
      " [[8.83233654e-05 8.43951107e-05 8.93644574e-04 1.54057146e-03]\n",
      " [1.54057146e-03 5.32806734e-04 1.54057146e-03 2.47800910e-05]\n",
      " [6.35266553e-04 1.22322559e-03 7.29308779e-04 1.54057146e-03]\n",
      " [1.74449030e-04 8.93644574e-04 2.47800910e-05 8.83233654e-05]]\n",
      "P\n",
      " [[0.25       0.34436187 0.34436187 0.21103947]\n",
      " [0.25       0.2678362  0.19049942 0.08464041]\n",
      " [0.25       0.4723561  0.4723561  0.6128079 ]\n",
      " [0.25       0.1333224  0.14096598 0.00978807]]\n",
      "0.00390625\n",
      "Likelihood =  1.805212087580849e-13\n",
      "Llikelihood =  -29.34292812399555\n",
      "The two matrices are not equal with threshold.\n",
      "Z\n",
      " [[8.80605938e-05 8.37491640e-05 8.83138275e-04 1.55750327e-03]\n",
      " [1.55750327e-03 5.36374720e-04 1.55750327e-03 2.48772147e-05]\n",
      " [6.28135136e-04 1.21138776e-03 7.35737301e-04 1.55750327e-03]\n",
      " [1.68246732e-04 8.83138275e-04 2.48772147e-05 8.80605938e-05]]\n",
      "P\n",
      " [[0.25       0.34520278 0.34520278 0.21077065]\n",
      " [0.25       0.26423851 0.18801256 0.08345455]\n",
      " [0.25       0.4742442  0.4742442  0.61397354]\n",
      " [0.25       0.13443213 0.14203287 0.00974795]]\n",
      "0.00390625\n",
      "Likelihood =  1.8035928863040604e-13\n",
      "Llikelihood =  -29.34382548553055\n",
      "The two matrices are not equal with threshold.\n",
      "Z\n",
      " [[8.78336557e-05 8.32377073e-05 8.75064517e-04 1.57052913e-03]\n",
      " [1.57052913e-03 5.39146103e-04 1.57052913e-03 2.49350256e-05]\n",
      " [6.22631131e-04 1.20217536e-03 7.40686141e-04 1.57052913e-03]\n",
      " [1.63611239e-04 8.75064517e-04 2.49350256e-05 8.78336557e-05]]\n",
      "P\n",
      " [[0.25       0.34585586 0.34585586 0.21057354]\n",
      " [0.25       0.2614757  0.18609934 0.08254629]\n",
      " [0.25       0.47569139 0.47569139 0.61486901]\n",
      " [0.25       0.13528233 0.14284815 0.00971367]]\n",
      "0.00390625\n",
      "Likelihood =  1.8021403878106788e-13\n",
      "Llikelihood =  -29.344631146105822\n",
      "The two matrices are not equal with threshold.\n",
      "Z\n",
      " [[8.76430514e-05 8.28342048e-05 8.68818579e-04 1.58060396e-03]\n",
      " [1.58060396e-03 5.41307754e-04 1.58060396e-03 2.49703153e-05]\n",
      " [6.18361730e-04 1.19497619e-03 7.44516624e-04 1.58060396e-03]\n",
      " [1.60103185e-04 8.68818579e-04 2.49703153e-05 8.76430514e-05]]\n",
      "P\n",
      " [[0.25       0.34636488 0.34636488 0.21042677]\n",
      " [0.25       0.25934026 0.18461847 0.08184585]\n",
      " [0.25       0.47680822 0.47680822 0.61556134]\n",
      " [0.25       0.13593811 0.14347575 0.00968519]]\n",
      "0.00390625\n",
      "Likelihood =  1.8008879310778334e-13\n",
      "Llikelihood =  -29.345326370607236\n",
      "The two matrices are not equal with threshold.\n",
      "Z\n",
      " [[8.74860780e-05 8.25158512e-05 8.63963010e-04 1.58843317e-03]\n",
      " [1.58843317e-03 5.42998467e-04 1.58843317e-03 2.49922702e-05]\n",
      " [6.15035744e-04 1.18933728e-03 7.47495332e-04 1.58843317e-03]\n",
      " [1.57422244e-04 8.63963010e-04 2.49922702e-05 8.74860780e-05]]\n",
      "P\n",
      " [[0.25       0.34676271 0.34676271 0.21031602]\n",
      " [0.25       0.25768154 0.18346697 0.0813027 ]\n",
      " [0.25       0.47767473 0.47767473 0.61609928]\n",
      " [0.25       0.13644668 0.14396175 0.00966191]]\n",
      "0.00390625\n",
      "Likelihood =  1.7998346294416018e-13\n",
      "Llikelihood =  -29.345911420773458\n",
      "The two matrices are not equal with threshold.\n",
      "Z\n",
      " [[8.73583374e-05 8.22646513e-05 8.60174216e-04 1.59453983e-03]\n",
      " [1.59453983e-03 5.44323441e-04 1.59453983e-03 2.50061962e-05]\n",
      " [6.12436410e-04 1.18491256e-03 7.49819827e-04 1.59453983e-03]\n",
      " [1.55357991e-04 8.60174216e-04 2.50061962e-05 8.73583374e-05]]\n",
      "P\n",
      " [[0.25       0.34707435 0.34707435 0.2102316 ]\n",
      " [0.25       0.25638821 0.18256842 0.08087971]\n",
      " [0.25       0.47834977 0.47834977 0.61651879]\n",
      " [0.25       0.13684275 0.1443398  0.00964308]]\n",
      "0.00390625\n",
      "Likelihood =  1.7989632170565897e-13\n",
      "Llikelihood =  -29.34639570049086\n",
      "The two matrices are not equal with threshold.\n",
      "Z\n",
      " [[8.72551984e-05 8.20664162e-05 8.57209391e-04 1.59931655e-03]\n",
      " [1.59931655e-03 5.45363557e-04 1.59931655e-03 2.50151886e-05]\n",
      " [6.10399989e-04 1.18143537e-03 7.51638749e-04 1.59931655e-03]\n",
      " [1.53759422e-04 8.57209391e-04 2.50151886e-05 8.72551984e-05]]\n",
      "P\n",
      " [[0.25       0.34731894 0.34731894 0.21016675]\n",
      " [0.25       0.2553768  0.1818653  0.08054924]\n",
      " [0.25       0.4788773  0.4788773  0.61684689]\n",
      " [0.25       0.13715219 0.14463492 0.00962794]]\n",
      "0.00390625\n",
      "Likelihood =  1.798250527617043e-13\n",
      "Llikelihood =  -29.346791945751473\n",
      "The two matrices are not equal with threshold.\n",
      "Z\n",
      " [[8.71723781e-05 8.19099465e-05 8.54884248e-04 1.60306129e-03]\n",
      " [1.60306129e-03 5.46181201e-04 1.60306129e-03 2.50210941e-05]\n",
      " [6.08801524e-04 1.17869950e-03 7.53065118e-04 1.60306129e-03]\n",
      " [1.52515970e-04 8.54884248e-04 2.50210941e-05 8.71723781e-05]]\n",
      "P\n",
      " [[0.25       0.34751119 0.34751119 0.21011662]\n",
      " [0.25       0.25458403 0.18131393 0.0802904 ]\n",
      " [0.25       0.47929057 0.47929057 0.61710409]\n",
      " [0.25       0.13739457 0.14486591 0.00961584]]\n",
      "0.00390625\n",
      "Likelihood =  1.7976724632619548e-13\n",
      "Llikelihood =  -29.347113456730174\n",
      "The two matrices are not equal with threshold.\n",
      "Z\n",
      " [[8.71061331e-05 8.17864152e-05 8.53057670e-04 1.60600217e-03]\n",
      " [1.60600217e-03 5.46824679e-04 1.60600217e-03 2.50250373e-05]\n",
      " [6.07544951e-04 1.17654485e-03 7.54185542e-04 1.60600217e-03]\n",
      " [1.51545399e-04 8.53057670e-04 2.50250373e-05 8.71061331e-05]]\n",
      "P\n",
      " [[0.25       0.34766247 0.34766247 0.21007769]\n",
      " [0.25       0.25396152 0.18088082 0.08008727]\n",
      " [0.25       0.47961495 0.47961495 0.61730605]\n",
      " [0.25       0.13758478 0.14504709 0.00960618]]\n",
      "0.00390625\n",
      "Likelihood =  1.7972064372689878e-13\n",
      "Llikelihood =  -29.347372728882853\n",
      "The two matrices are not equal with threshold.\n",
      "Z\n",
      " [[8.70532962e-05 8.16888685e-05 8.51620852e-04 1.60831491e-03]\n",
      " [1.60831491e-03 5.47331546e-04 1.60831491e-03 2.50277141e-05]\n",
      " [6.06555989e-04 1.17484666e-03 7.55066809e-04 1.60831491e-03]\n",
      " [1.50785779e-04 8.51620852e-04 2.50277141e-05 8.70532962e-05]]\n",
      "P\n",
      " [[0.25       0.34778163 0.34778163 0.21004734]\n",
      " [0.25       0.25347201 0.18054015 0.0799276 ]\n",
      " [0.25       0.47986994 0.47986994 0.61746487]\n",
      " [0.25       0.13773429 0.14518944 0.00959849]]\n",
      "0.00390625\n",
      "Likelihood =  1.7968324352214315e-13\n",
      "Llikelihood =  -29.34758085242418\n",
      "The two matrices are not equal with threshold.\n",
      "Z\n",
      " [[8.70112423e-05 8.16118266e-05 8.50489455e-04 1.61013565e-03]\n",
      " [1.61013565e-03 5.47731092e-04 1.61013565e-03 2.50295611e-05]\n",
      " [6.05776932e-04 1.17350742e-03 7.55760691e-04 1.61013565e-03]\n",
      " [1.50190006e-04 8.50489455e-04 2.50295611e-05 8.70112423e-05]]\n",
      "P\n",
      " [[0.25       0.34787556 0.34787556 0.21002361]\n",
      " [0.25       0.25308667 0.18027192 0.07980195]\n",
      " [0.25       0.48007061 0.48007061 0.6175899 ]\n",
      " [0.25       0.13785194 0.14530142 0.00959239]]\n",
      "0.00390625\n",
      "Likelihood =  1.7965333121914474e-13\n",
      "Llikelihood =  -29.347747338694546\n",
      "The two matrices are not equal with threshold.\n",
      "Z\n",
      " [[8.69778234e-05 8.15509701e-05 8.49597835e-04 1.61157026e-03]\n",
      " [1.61157026e-03 5.48046219e-04 1.61157026e-03 2.50308559e-05]\n",
      " [6.05162785e-04 1.17245075e-03 7.56307480e-04 1.61157026e-03]\n",
      " [1.49721965e-04 8.49597835e-04 2.50308559e-05 8.69778234e-05]]\n",
      "P\n",
      " [[0.25       0.34794963 0.34794963 0.21000502]\n",
      " [0.25       0.25278307 0.18006055 0.07970299]\n",
      " [0.25       0.48022869 0.48022869 0.61768841]\n",
      " [0.25       0.13794461 0.1453896  0.00958754]]\n",
      "0.00390625\n",
      "Likelihood =  1.7962947009018944e-13\n",
      "Llikelihood =  -29.34788016514159\n",
      "The two matrices are not equal with threshold.\n",
      "Z\n",
      " [[8.69512983e-05 8.15028923e-05 8.48894729e-04 1.61270140e-03]\n",
      " [1.61270140e-03 5.48294878e-04 1.61270140e-03 2.50317776e-05]\n",
      " [6.04678366e-04 1.17161671e-03 7.56738637e-04 1.61270140e-03]\n",
      " [1.49353791e-04 8.48894729e-04 2.50317776e-05 8.69512983e-05]]\n",
      "P\n",
      " [[0.25       0.34800809 0.34800809 0.20999042]\n",
      " [0.25       0.2525437  0.17989388 0.07962497]\n",
      " [0.25       0.4803533  0.4803533  0.61776607]\n",
      " [0.25       0.13801766 0.1454591  0.0095837 ]]\n",
      "0.00390625\n",
      "Likelihood =  1.7961047417665494e-13\n",
      "Llikelihood =  -29.347985921273974\n",
      "The two matrices are not equal with threshold.\n",
      "Z\n",
      " [[8.69302642e-05 8.14649061e-05 8.48340002e-04 1.61359373e-03]\n",
      " [1.61359373e-03 5.48491158e-04 1.61359373e-03 2.50324433e-05]\n",
      " [6.04296102e-04 1.17095820e-03 7.57078789e-04 1.61359373e-03]\n",
      " [1.49063881e-04 8.48340002e-04 2.50324433e-05 8.69302642e-05]]\n",
      "P\n",
      " [[0.25       0.34805422 0.34805422 0.20997895]\n",
      " [0.25       0.25235487 0.17976238 0.07956344]\n",
      " [0.25       0.48045159 0.48045159 0.61782734]\n",
      " [0.25       0.13807528 0.1455139  0.00958065]]\n",
      "0.00390625\n",
      "Likelihood =  1.795953749273334e-13\n",
      "Llikelihood =  -29.348069991449158\n",
      "The two matrices are not equal with threshold.\n",
      "Z\n",
      " [[8.69135960e-05 8.14348906e-05 8.47902169e-04 1.61429795e-03]\n",
      " [1.61429795e-03 5.48646138e-04 1.61429795e-03 2.50329305e-05]\n",
      " [6.03994343e-04 1.17043816e-03 7.57347252e-04 1.61429795e-03]\n",
      " [1.48835414e-04 8.47902169e-04 2.50329305e-05 8.69135960e-05]]\n",
      "P\n",
      " [[0.25       0.34809066 0.34809066 0.20996991]\n",
      " [0.25       0.25220585 0.1796586  0.07951489]\n",
      " [0.25       0.48052915 0.48052915 0.61787569]\n",
      " [0.25       0.13812074 0.14555714 0.00957824]]\n",
      "0.00390625\n",
      "Likelihood =  1.7958338747091808e-13\n",
      "Llikelihood =  -29.348136740698695\n",
      "The two matrices are not equal with threshold.\n",
      "Z\n",
      " [[8.69003949e-05 8.14111717e-05 8.47556490e-04 1.61485392e-03]\n",
      " [1.61485392e-03 5.48768535e-04 1.61485392e-03 2.50332915e-05]\n",
      " [6.03756070e-04 1.17002739e-03 7.57559202e-04 1.61485392e-03]\n",
      " [1.48655253e-04 8.47556490e-04 2.50332915e-05 8.69003949e-05]]\n",
      "P\n",
      " [[0.25       0.34811943 0.34811943 0.2099628 ]\n",
      " [0.25       0.2520882  0.17957666 0.07947656]\n",
      " [0.25       0.48059038 0.48059038 0.61791386]\n",
      " [0.25       0.13815663 0.14559127 0.00957633]]\n",
      "0.00390625\n",
      "Likelihood =  1.7957387943866722e-13\n",
      "Llikelihood =  -29.348189687043536\n",
      "The two matrices are not equal with threshold.\n",
      "Z\n",
      " [[8.68899441e-05 8.13924274e-05 8.47283502e-04 1.61529294e-03]\n",
      " [1.61529294e-03 5.48865217e-04 1.61529294e-03 2.50335618e-05]\n",
      " [6.03567884e-04 1.16970289e-03 7.57726578e-04 1.61529294e-03]\n",
      " [1.48513113e-04 8.47283502e-04 2.50335618e-05 8.68899441e-05]]\n",
      "P\n",
      " [[0.25       0.34814215 0.34814215 0.20995719]\n",
      " [0.25       0.25199531 0.17951196 0.0794463 ]\n",
      " [0.25       0.48063872 0.48063872 0.61794401]\n",
      " [0.25       0.13818496 0.14561822 0.00957482]]\n",
      "0.00390625\n",
      "Likelihood =  1.7956634353729308e-13\n",
      "Llikelihood =  -29.34823165338923\n",
      "The two matrices are equal with threshold.\n",
      "The two matrices are equal with threshold.\n",
      "The two matrices are equal with threshold.\n",
      "The two matrices are equal with threshold.\n",
      "The two matrices are equal with threshold.\n",
      "The two matrices are equal with threshold.\n",
      "The two matrices are equal with threshold.\n",
      "The two matrices are equal with threshold.\n",
      "The two matrices are equal with threshold.\n",
      "The two matrices are equal with threshold.\n",
      "The two matrices are equal with threshold.\n",
      "The two matrices are equal with threshold.\n",
      "The two matrices are equal with threshold.\n",
      "The two matrices are equal with threshold.\n",
      "The two matrices are equal with threshold.\n",
      "The two matrices are equal with threshold.\n",
      "The two matrices are equal with threshold.\n",
      "The two matrices are equal with threshold.\n",
      "The two matrices are equal with threshold.\n",
      "The two matrices are equal with threshold.\n",
      "The two matrices are equal with threshold.\n",
      "The two matrices are equal with threshold.\n",
      "The two matrices are equal with threshold.\n",
      "The two matrices are equal with threshold.\n",
      "The two matrices are equal with threshold.\n",
      "[[0.25       0.34814215 0.34814215 0.20995719]\n",
      " [0.25       0.25199531 0.17951196 0.0794463 ]\n",
      " [0.25       0.48063872 0.48063872 0.61794401]\n",
      " [0.25       0.13818496 0.14561822 0.00957482]]\n",
      "\n",
      "\n",
      "\n",
      "\n",
      "\n",
      "\n",
      "[-32.73240359678647, -30.072183364354938, -29.36166585921302, -29.313819209335016, -29.336951176107927, -29.341667268077348, -29.34062572535824, -29.34104601947921, -29.341977280985823, -29.34292812399555, -29.34382548553055, -29.344631146105822, -29.345326370607236, -29.345911420773458, -29.34639570049086, -29.346791945751473, -29.347113456730174, -29.347372728882853, -29.34758085242418, -29.347747338694546, -29.34788016514159, -29.347985921273974, -29.348069991449158, -29.348136740698695, -29.348189687043536, -29.34823165338923]\n",
      "\n",
      "\n",
      "\n",
      "\n",
      "\n",
      "\n",
      "[[8.68899441e-05 8.13924274e-05 8.47283502e-04 1.61529294e-03]\n",
      " [1.61529294e-03 5.48865217e-04 1.61529294e-03 2.50335618e-05]\n",
      " [6.03567884e-04 1.16970289e-03 7.57726578e-04 1.61529294e-03]\n",
      " [1.48513113e-04 8.47283502e-04 2.50335618e-05 8.68899441e-05]]\n",
      "\n",
      "\n",
      "\n",
      "\n",
      "\n",
      "\n",
      "[]\n",
      "\n",
      "\n",
      "\n",
      "\n",
      "\n",
      "\n",
      "Les paramètres du modele:\n",
      "p:\n",
      " [[0.25       0.34814215 0.34814215 0.20995719]\n",
      " [0.25       0.25199531 0.17951196 0.0794463 ]\n",
      " [0.25       0.48063872 0.48063872 0.61794401]\n",
      " [0.25       0.13818496 0.14561822 0.00957482]]\n",
      "\n",
      "\n",
      "log-vraisemblance associé: -29.34823165338923\n",
      "\n",
      "\n",
      "Z:\n",
      " [[8.68899441e-05 8.13924274e-05 8.47283502e-04 1.61529294e-03]\n",
      " [1.61529294e-03 5.48865217e-04 1.61529294e-03 2.50335618e-05]\n",
      " [6.03567884e-04 1.16970289e-03 7.57726578e-04 1.61529294e-03]\n",
      " [1.48513113e-04 8.47283502e-04 2.50335618e-05 8.68899441e-05]]\n",
      "\n",
      "Les motifs:\n"
     ]
    },
    {
     "ename": "IndexError",
     "evalue": "list index out of range",
     "output_type": "error",
     "traceback": [
      "\u001b[1;31m---------------------------------------------------------------------------\u001b[0m",
      "\u001b[1;31mIndexError\u001b[0m                                Traceback (most recent call last)",
      "Input \u001b[1;32mIn [77]\u001b[0m, in \u001b[0;36m<cell line: 107>\u001b[1;34m()\u001b[0m\n\u001b[0;32m    105\u001b[0m \u001b[38;5;28mprint\u001b[39m(EMResults[\u001b[38;5;241m3\u001b[39m])\n\u001b[0;32m    106\u001b[0m \u001b[38;5;28mprint\u001b[39m(\u001b[38;5;124m\"\u001b[39m\u001b[38;5;130;01m\\n\u001b[39;00m\u001b[38;5;130;01m\\n\u001b[39;00m\u001b[38;5;130;01m\\n\u001b[39;00m\u001b[38;5;130;01m\\n\u001b[39;00m\u001b[38;5;130;01m\\n\u001b[39;00m\u001b[38;5;124m\"\u001b[39m)\n\u001b[1;32m--> 107\u001b[0m \u001b[43manalyse_results\u001b[49m\u001b[43m(\u001b[49m\u001b[43mEMResults\u001b[49m\u001b[43m,\u001b[49m\u001b[43mseqs\u001b[49m\u001b[43m)\u001b[49m\n",
      "Input \u001b[1;32mIn [77]\u001b[0m, in \u001b[0;36manalyse_results\u001b[1;34m(results, seqs)\u001b[0m\n\u001b[0;32m     88\u001b[0m \u001b[38;5;28mprint\u001b[39m(\u001b[38;5;124m'\u001b[39m\u001b[38;5;130;01m\\n\u001b[39;00m\u001b[38;5;124mLes motifs:\u001b[39m\u001b[38;5;124m'\u001b[39m)\n\u001b[0;32m     89\u001b[0m \u001b[38;5;28;01mfor\u001b[39;00m i \u001b[38;5;129;01min\u001b[39;00m \u001b[38;5;28mrange\u001b[39m(\u001b[38;5;28mlen\u001b[39m(seqs)):\n\u001b[1;32m---> 90\u001b[0m     \u001b[38;5;28mprint\u001b[39m(\u001b[38;5;124m'\u001b[39m\u001b[38;5;124mseq\u001b[39m\u001b[38;5;124m'\u001b[39m\u001b[38;5;241m+\u001b[39m\u001b[38;5;28mstr\u001b[39m(i\u001b[38;5;241m+\u001b[39m\u001b[38;5;241m1\u001b[39m)\u001b[38;5;241m+\u001b[39m\u001b[38;5;124m'\u001b[39m\u001b[38;5;124m: \u001b[39m\u001b[38;5;124m'\u001b[39m\u001b[38;5;241m+\u001b[39m \u001b[38;5;28mstr\u001b[39m(\u001b[43mresults\u001b[49m\u001b[43m[\u001b[49m\u001b[38;5;241;43m3\u001b[39;49m\u001b[43m]\u001b[49m\u001b[43m[\u001b[49m\u001b[43mi\u001b[49m\u001b[43m]\u001b[49m\u001b[38;5;241m+\u001b[39m\u001b[38;5;241m1\u001b[39m) \u001b[38;5;241m+\u001b[39m \u001b[38;5;124m'\u001b[39m\u001b[38;5;124m  \u001b[39m\u001b[38;5;124m'\u001b[39m \u001b[38;5;241m+\u001b[39m seqs[i][results[\u001b[38;5;241m3\u001b[39m][i]:results[\u001b[38;5;241m3\u001b[39m][i]\u001b[38;5;241m+\u001b[39mw])\n\u001b[0;32m     92\u001b[0m plt\u001b[38;5;241m.\u001b[39mplot(results[\u001b[38;5;241m1\u001b[39m])\n\u001b[0;32m     93\u001b[0m plt\u001b[38;5;241m.\u001b[39mxlabel(\u001b[38;5;124m'\u001b[39m\u001b[38;5;124mIteration\u001b[39m\u001b[38;5;124m'\u001b[39m)\n",
      "\u001b[1;31mIndexError\u001b[0m: list index out of range"
     ]
    }
   ],
   "source": [
    "def ExpectationMaximisation(seqs, w, alph, eps):\n",
    "    \"\"\"\n",
    "    Implement Expectation Maximisation algorithm\n",
    "    input seqs : list of sequences\n",
    "    input w : motif length\n",
    "    input alph : alphabet (nucleotides or amino acids)\n",
    "    input eps : threahold \n",
    "    output P : position probability matrix\n",
    "    output Z :  matrix of motif start positions\n",
    "    output lLikelihood : log likelihood of P \n",
    "    output pos_motif : positions of motifs in seqs\n",
    "    \"\"\"\n",
    "    P = initialiseP(seqs, w, alph)\n",
    "    Z = initialiseZ(seqs, w)\n",
    "    \n",
    "    lLikelihood = []\n",
    "    pos_motif = []\n",
    "    P_avant = P \n",
    "    \n",
    "    Z =  E_step(seqs, P, Z, w, alph)\n",
    "    P = M_step(seqs, Z, w, alph)\n",
    "    LL = likelihood(seqs, Z, P, w, alph) #LogLikelihood\n",
    "    lLikelihood.append(LL)\n",
    "    L = np.exp(LL) # likelihood\n",
    "    \n",
    "    print(eps)\n",
    "    print(L)\n",
    "    if L > eps: \n",
    "        print(\"okooooooo\")\n",
    "        \n",
    "\n",
    " \n",
    "#     while L > eps or P_avant == P :\n",
    "# #         print(\"entrée\")\n",
    "#         P_avant = P\n",
    "#         Z =  E_step(seqs, P, Z, w, alph)\n",
    "#         P = M_step(seqs, Z, w, alph)\n",
    "#         LL = likelihood(seqs, Z, P, w, alph) #LogLikelihood\n",
    "#         lLikelihood.append(LL)\n",
    "#         L = np.exp(LL) # likelihood\n",
    "    \n",
    "       \n",
    "          \n",
    "#     for i in range (50):\n",
    "#         print(\"================================\", i)\n",
    "#         if L < eps: \n",
    "#             P_avant = P\n",
    "#             Z =  E_step(seqs, P, Z, w, alph)\n",
    "#             print(\"Z\\n\",Z)\n",
    "#             P = M_step(seqs, Z, w, alph)\n",
    "#             print(\"P\\n\", P)\n",
    "#             LL = likelihood(seqs, Z, P, w, alph) #LogLikelihood\n",
    "#             lLikelihood.append(LL)\n",
    "#             L = np.exp(LL) # likelihood\n",
    "#         else: \n",
    "#             continue\n",
    "\n",
    "\n",
    "    for i in range (50): \n",
    "        threshold = eps\n",
    "        # Compare the two matrices for equality with threshold\n",
    "        comparison = np.abs(P_avant - P) <= threshold\n",
    "        if np.all(comparison):\n",
    "            print(\"The two matrices are equal with threshold.\")\n",
    "            continue\n",
    "        else:\n",
    "            print(\"The two matrices are not equal with threshold.\")\n",
    "            P_avant = P\n",
    "            Z =  E_step(seqs, P, Z, w, alph)\n",
    "            print(\"Z\\n\",Z)\n",
    "            P = M_step(seqs, Z, w, alph)\n",
    "            print(\"P\\n\", P)\n",
    "            LL = likelihood(seqs, Z, P, w, alph) #LogLikelihood\n",
    "            lLikelihood.append(LL)\n",
    "            L = np.exp(LL) # likelihood\n",
    "    \n",
    "    \n",
    "\n",
    "    return (P, lLikelihood, Z, pos_motif)\n",
    "\n",
    "def analyse_results(results, seqs):\n",
    "    print('Les paramètres du modele:')\n",
    "    print('p:\\n',results[0])\n",
    "    print('\\n')\n",
    "    print('log-vraisemblance associé:',results[1][-1])\n",
    "    print('\\n')\n",
    "    print('Z:\\n',results[2])\n",
    "    print('\\nLes motifs:')\n",
    "    for i in range(len(seqs)):\n",
    "        print('seq'+str(i+1)+': '+ str(results[3][i]+1) + '  ' + seqs[i][results[3][i]:results[3][i]+w])\n",
    "\n",
    "    plt.plot(results[1])\n",
    "    plt.xlabel('Iteration')\n",
    "    plt.ylabel('Log-vraisemblance')\n",
    "    plt.show()\n",
    "\n",
    "eps = 10**-4\n",
    "EMResults = ExpectationMaximisation(seqs, w, nts, eps)\n",
    "print(EMResults[0])\n",
    "print(\"\\n\\n\\n\\n\\n\")\n",
    "print(EMResults[1])\n",
    "print(\"\\n\\n\\n\\n\\n\")\n",
    "print(EMResults[2])\n",
    "print(\"\\n\\n\\n\\n\\n\")\n",
    "print(EMResults[3])\n",
    "print(\"\\n\\n\\n\\n\\n\")\n",
    "analyse_results(EMResults,seqs)"
   ]
  },
  {
   "cell_type": "markdown",
   "metadata": {
    "id": "MZsOsS8yBmjb"
   },
   "source": [
    "8\\. Qu'est-ce que vous observez en exécutant l'algorithme EM plusieurs fois? Justifiez votre réponse."
   ]
  },
  {
   "cell_type": "markdown",
   "metadata": {
    "id": "HgXXj3dcBmjb"
   },
   "source": [
    "Reponse:\n",
    "\n",
    "<font color=\"blue\">\n",
    "En exécutant l'algorithme EM plusieurs fois, on remarque qu'il y a convergence de la matrice P.\n",
    "</font>"
   ]
  },
  {
   "cell_type": "markdown",
   "metadata": {
    "id": "WThFDcG5Bmjb"
   },
   "source": [
    "9\\. Pour éviter le problème identifié au point précedent, écrivez une fonction `EM_iteratif` qui exécute l'algorithme `EM` $N$ fois ($N=10$) et qui prend les paramètres associés à la meilleure log-vraisemblance. Trouvez-vous les bons motifs?"
   ]
  },
  {
   "cell_type": "code",
   "execution_count": null,
   "metadata": {
    "id": "hiMm-jSkBmjc"
   },
   "outputs": [],
   "source": [
    "def EM_iteratif(N, seqs, w, alph, eps):\n",
    "    \"\"\"\n",
    "    Implement a iterative version of Expectation Maximisation algorithm\n",
    "    input N : number of iterations\n",
    "    input seqs : list of sequences\n",
    "    input w : motif length\n",
    "    input eps : threahold \n",
    "    output bestModel : the parameter of the best model\n",
    "    \"\"\"\n",
    "  \n",
    "    bestModel = P, Z, lLikelihood, pos_motif\n",
    " \n",
    "    return bestModel\n",
    "\n",
    "\n",
    "eps = 10**-4\n",
    "N=10\n",
    "meilleurEM = EM_iteratif(N, seqs, w, nts, eps)\n",
    "analyse_results(meilleurEM,seqs)"
   ]
  },
  {
   "cell_type": "markdown",
   "metadata": {
    "id": "us2JZ9SRBmjc"
   },
   "source": [
    "10\\. Appliquez votre algorithme `EM` à l'ensemble des séquence du fichier `trainingSequences.txt` en utilisant $w=10$. "
   ]
  },
  {
   "cell_type": "code",
   "execution_count": 78,
   "metadata": {
    "id": "9yc5bUMIBmjd"
   },
   "outputs": [
    {
     "name": "stdout",
     "output_type": "stream",
     "text": [
      "['ACAACCATATATAGTAGCCACTGAAT', 'CCACCCCATATATAGTACGGGTGGTG', 'CCATAAATAGAGCAGACTGTCGCTGT', 'GTAAACATAAAACCCCATAAATAGGA', 'TTCAAGAAACTGCCATAAATAGCGAT', 'TAGAGGTTTTTGTGCCATAAATAGGT', 'CCCCATAAATAGGAATATCGGCCTGA', 'TTGCCATTAAATTATACCATATATGG', 'TATCAACAACGATAACCCATATATGG', 'TTTCCAAATATAGAAGGTGTGGAAAG', 'TCCAAATATAGTAAAATCGAGTCGAT', 'GACTGGGGCCCAAATATAGCATGTTC', 'ATCATTAGCTTTTACTCCATAAATGG', 'ATTCTTTTGCCATAAATGGTAACTCG', 'CCATAAATGGCAAGTCTGTCGAATAA', 'CCCATAAATGGCAGGGTATTAGCACG', 'CCAAAAATAGTGTGTCGTAACAGCTT', 'CCAAAAATAGGGGAATGGAAGTGGGG', 'CCAAAAATAGGCCAGAGTTTACAACG', 'CCAAAAATAGTTAAATAATATACATT', 'CTACACCTTCCAAAAATAGTATATCT', 'TTGCCAAATATGGGGTTAGAGTGTTC', 'GTCTTTACCAAAAATGGTGATCCTGT', 'TTGCCAAAAATGGAGCGTTTACCAAT', 'ATCCACCATTTATAGATTCAGGAGGC', 'GCATAAGAGAACATTCCATTTATAGG', 'TCAACCCCATTTATAGCCACGTCAGT', 'CATCCATTAATAGTAGCCTAATGGCG', 'GGAGTAGGCCCATTAATAGTATCTTT', 'CCATTAATAGACAAAATCGACTCAAG', 'CCAATTATAGAAAGTGGCTGGTCGTC', 'AACTATTATTTCTCACCCATTAATGG', 'ATGCTTTACCAATAATAGAGCTGCAA', 'GGTCAGTTAGATCCAATTATGGAATG', 'GCATTCCAAAATTAGTAACGATATCT', 'CCTCCTTTCCAAAATTAGTTGAGAAG', 'CTTTGCCAAAATTAGCTATTTCTGAC', 'ACGCATGCACCACATATAGTAACGTG', 'AGCGCCCCATTTTTAGGGTTTAAGCT', 'CCATTTTTAGTAATTTACAACGCCGC', 'CCATTTTTAGTATGGAAGCCGTGAGT', 'AAATTACCATAAGTGGTAATACACAC', 'CAATTACTATATATAGCGTGTTTGTC', 'CCATACATGGAATGTACCGAAACACT', 'CCGAAAGTACTATAAATAGTAATCCA', 'GTTTTCGCCTTTCTATAAATAGTACC', 'GGTACCTAATATAGTAATCAGCTCTG', 'TCTTTAATTACTTGCCTAATATAGCT', 'GGATGCATCCCTAATATAGTTAATAA', 'ATCTTTACCAAAACTAGTTAATTCGA', 'TGCTAAATATAGAACATCTCCAAATA', 'CCTTCTAACTAAATATAGAAGTGATA', 'ATTACCATAAACAGAAATCAGTGGAT', 'CCTAAAAATAGATCGAATGTGTGCTC', 'TACTAAAAATAGATCATGAGCTACGA', 'TAGTCACTTGACCATACCTAAAATGG', 'ATCAACAGTCTACAATCCTAAAATGG', 'CAAACATTCCAGATTTAGAATGGTTA', 'ACTTCTTTCCTTTTATAGCTGAGTGC', 'CCGCTAAGCCTTGTCCTTTTATAGCA', 'TGCCCAAAAAAAGAAAGTTGTCAGAC', 'CCCAAATAAGGTAAAGCTCTCTGGAC', 'AACCACACACCCAGAATTAGTAAGCG', 'TTCATTTAAGACTTTACCATTTCTGG', 'TGCGATGGAATAGTACTAAATTTAGG', 'TGCGGAAGAGGGTTCCCGATATAGAT', 'TCCCAAAAATACTCATATGTCGGGCT', 'CCATATTGGGTAAAGATTGCTTTTTA', 'TAGTGGTTAACTACCCGTTTTTAGTA', 'CCAATTTATAGTTCACTTTCGTGATG', 'TACTCGCTTTTCTTACTAAAAGTAGA', 'TACTAAAAGTAGTAGTTTGTCTGCAT', 'CCATTTTAAGGAATTTACGATCTAGT', 'TCCCATTTTAAGACCAACTTCTCATT', 'GATCCAGTAGATTCCATTTATGTACG', 'CCTGTAAATAGTAACAAGGTGCATCG', 'CGATCAATATGTTACCATTTTGGGGT', 'GAGCGAGACCTTCCCAATAATTAGTA', 'AAGTGACTATATTACTCAAAATAGAA', 'TTACCAAATTGCCAATTTAGGCTAAA', 'TTACCAAATTGCCAATTTAGGCTAAA', 'GAAGATACCTAATACGGAAATTTTCC', 'GCAGACTTGCTATATTAAGCTAATAT', 'CGCTTTCTTACTATAAATGTTTACTA', 'GGTTCAAGATTTTTCCTTTTATGTAC', 'TTTATAGTGTCCCTTTTTCGGTAAGT', 'ATCCTACGATGCTTTCTAAAAGAAGG', 'CCCTAGCAATTTTTTACTATATTTGT', 'GGAAGAATTTACTATAATTGTACATG', 'CTCTAATGGCCTTACTACTTAAAGCA', 'GCCGAGTCCGGAATTTCCGAAAAATG', 'ATTTATTTTCCTAAAGTGTAACTAAC', 'GACCTGTATCCTTTTCTACTTTTGTC', 'ATATGCCCCTCACAAGTTACCAATTA', 'AAAATGGTTTAATTTCTCGGGACAGG', 'CTCAGTGCACACAGACATTCCAAATA', 'GATTAGGATTCGTTTGTTTCCAAATA']\n"
     ]
    },
    {
     "ename": "NameError",
     "evalue": "name 'EM_iteratif' is not defined",
     "output_type": "error",
     "traceback": [
      "\u001b[1;31m---------------------------------------------------------------------------\u001b[0m",
      "\u001b[1;31mNameError\u001b[0m                                 Traceback (most recent call last)",
      "Input \u001b[1;32mIn [78]\u001b[0m, in \u001b[0;36m<cell line: 7>\u001b[1;34m()\u001b[0m\n\u001b[0;32m      5\u001b[0m eps \u001b[38;5;241m=\u001b[39m \u001b[38;5;241m10\u001b[39m\u001b[38;5;241m*\u001b[39m\u001b[38;5;241m*\u001b[39m\u001b[38;5;241m-\u001b[39m\u001b[38;5;241m4\u001b[39m\n\u001b[0;32m      6\u001b[0m N\u001b[38;5;241m=\u001b[39m\u001b[38;5;241m10\u001b[39m\n\u001b[1;32m----> 7\u001b[0m meilleurEM \u001b[38;5;241m=\u001b[39m \u001b[43mEM_iteratif\u001b[49m(N, seqs_train, w, nts, eps)\n\u001b[0;32m      8\u001b[0m analyse_results(meilleurEM,seqs_train)\n",
      "\u001b[1;31mNameError\u001b[0m: name 'EM_iteratif' is not defined"
     ]
    }
   ],
   "source": [
    "w= 10\n",
    "input_f = \"trainingSequences.txt\"\n",
    "seqs_train = read_training_file(input_f)\n",
    "print (seqs_train)\n",
    "eps = 10**-4\n",
    "N=10\n",
    "meilleurEM = EM_iteratif(N, seqs_train, w, nts, eps)\n",
    "analyse_results(meilleurEM,seqs_train)"
   ]
  },
  {
   "cell_type": "markdown",
   "metadata": {
    "id": "r3ddFiW2Bmjd"
   },
   "source": [
    "11\\. Construire un LOGO pour le motif prédit avec le service <i>WebLogo</i>. Pour cela, identifiez le motif dans chaque séquence, utiliser <i>ClustalOmega</i> pour les aligner et puis <i>WebLogo</i> pour générer le LOGO. Ajouter le LOGO à votre réponse."
   ]
  },
  {
   "cell_type": "code",
   "execution_count": 79,
   "metadata": {
    "id": "sR5YLgIZBmjd"
   },
   "outputs": [
    {
     "ename": "NameError",
     "evalue": "name 'meilleurEM' is not defined",
     "output_type": "error",
     "traceback": [
      "\u001b[1;31m---------------------------------------------------------------------------\u001b[0m",
      "\u001b[1;31mNameError\u001b[0m                                 Traceback (most recent call last)",
      "Input \u001b[1;32mIn [79]\u001b[0m, in \u001b[0;36m<cell line: 2>\u001b[1;34m()\u001b[0m\n\u001b[0;32m      2\u001b[0m \u001b[38;5;28;01mfor\u001b[39;00m i \u001b[38;5;129;01min\u001b[39;00m \u001b[38;5;28mrange\u001b[39m(\u001b[38;5;28mlen\u001b[39m(seqs_train)):\n\u001b[0;32m      3\u001b[0m     fhandler\u001b[38;5;241m.\u001b[39mwrite(\u001b[38;5;124m'\u001b[39m\u001b[38;5;124m>motif\u001b[39m\u001b[38;5;124m'\u001b[39m\u001b[38;5;241m+\u001b[39m\u001b[38;5;28mstr\u001b[39m(i\u001b[38;5;241m+\u001b[39m\u001b[38;5;241m1\u001b[39m)\u001b[38;5;241m+\u001b[39m\u001b[38;5;124m'\u001b[39m\u001b[38;5;130;01m\\n\u001b[39;00m\u001b[38;5;124m'\u001b[39m)\n\u001b[1;32m----> 4\u001b[0m     fhandler\u001b[38;5;241m.\u001b[39mwrite(seqs_train[i][\u001b[43mmeilleurEM\u001b[49m[\u001b[38;5;241m3\u001b[39m][i]:meilleurEM[\u001b[38;5;241m3\u001b[39m][i]\u001b[38;5;241m+\u001b[39mw])\n\u001b[0;32m      5\u001b[0m     fhandler\u001b[38;5;241m.\u001b[39mwrite(\u001b[38;5;124m'\u001b[39m\u001b[38;5;130;01m\\n\u001b[39;00m\u001b[38;5;124m'\u001b[39m)\n\u001b[0;32m      6\u001b[0m fhandler\u001b[38;5;241m.\u001b[39mclose()\n",
      "\u001b[1;31mNameError\u001b[0m: name 'meilleurEM' is not defined"
     ]
    }
   ],
   "source": [
    "fhandler = open('motifs.txt','w')\n",
    "for i in range(len(seqs_train)):\n",
    "    fhandler.write('>motif'+str(i+1)+'\\n')\n",
    "    fhandler.write(seqs_train[i][meilleurEM[3][i]:meilleurEM[3][i]+w])\n",
    "    fhandler.write('\\n')\n",
    "fhandler.close()"
   ]
  },
  {
   "cell_type": "markdown",
   "metadata": {
    "id": "0lu09z4zBmje"
   },
   "source": []
  },
  {
   "cell_type": "markdown",
   "metadata": {
    "id": "YfmV6fjVBmje"
   },
   "source": [
    "12\\. Comparez les motifs trouvés par votre programme avec les motifs du fichier `testingSequences.txt`, où les vrais motifs sont montrés en lettre majuscule. Quelle est la performance de votre programme? "
   ]
  },
  {
   "cell_type": "code",
   "execution_count": 80,
   "metadata": {
    "id": "jh36eh-vBmje"
   },
   "outputs": [],
   "source": [
    "import re\n",
    "\n",
    "motifs_extracted = []\n",
    "motifs_real = []\n",
    "\n",
    "\n",
    "input_f = \"testingSequences.txt\"\n"
   ]
  },
  {
   "cell_type": "code",
   "execution_count": null,
   "metadata": {},
   "outputs": [],
   "source": []
  }
 ],
 "metadata": {
  "colab": {
   "collapsed_sections": [],
   "name": "TME9_2022.ipynb",
   "provenance": []
  },
  "kernelspec": {
   "display_name": "Python 3 (ipykernel)",
   "language": "python",
   "name": "python3"
  },
  "language_info": {
   "codemirror_mode": {
    "name": "ipython",
    "version": 3
   },
   "file_extension": ".py",
   "mimetype": "text/x-python",
   "name": "python",
   "nbconvert_exporter": "python",
   "pygments_lexer": "ipython3",
   "version": "3.9.12"
  }
 },
 "nbformat": 4,
 "nbformat_minor": 1
}
