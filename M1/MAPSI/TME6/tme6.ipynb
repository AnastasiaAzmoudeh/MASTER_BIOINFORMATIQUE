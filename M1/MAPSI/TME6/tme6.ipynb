{
 "cells": [
  {
   "cell_type": "markdown",
   "metadata": {},
   "source": [
    "# TME 6 : Chaînes de Markov"
   ]
  },
  {
   "cell_type": "code",
   "execution_count": 1,
   "metadata": {
    "execution": {
     "iopub.execute_input": "2023-10-20T17:49:02.393627Z",
     "iopub.status.busy": "2023-10-20T17:49:02.393281Z",
     "iopub.status.idle": "2023-10-20T17:49:02.752533Z",
     "shell.execute_reply": "2023-10-20T17:49:02.751904Z",
     "shell.execute_reply.started": "2023-10-20T17:49:02.393596Z"
    }
   },
   "outputs": [],
   "source": [
    "%load_ext autoreload\n",
    "%autoreload 2\n",
    "    \n",
    "import numpy as np\n",
    "import matplotlib.pyplot as plt\n",
    "\n",
    "import utils\n",
    "import tme6"
   ]
  },
  {
   "cell_type": "code",
   "execution_count": 2,
   "metadata": {},
   "outputs": [],
   "source": [
    "import warnings\n",
    "warnings.filterwarnings('ignore')"
   ]
  },
  {
   "cell_type": "code",
   "execution_count": 3,
   "metadata": {
    "execution": {
     "iopub.execute_input": "2023-10-20T17:49:02.753759Z",
     "iopub.status.busy": "2023-10-20T17:49:02.753576Z",
     "iopub.status.idle": "2023-10-20T17:49:02.762960Z",
     "shell.execute_reply": "2023-10-20T17:49:02.762394Z",
     "shell.execute_reply.started": "2023-10-20T17:49:02.753748Z"
    }
   },
   "outputs": [],
   "source": [
    "X,Y=utils.read_data('res/lettres.pkl')\n",
    "Y=np.array(Y)"
   ]
  },
  {
   "cell_type": "markdown",
   "metadata": {},
   "source": [
    "Les données sont dans un format original: X et Y sont des listes, un élement de X est une lettre représentée en fait par une série d'angles (exprimés en degrés). Un exemple: "
   ]
  },
  {
   "cell_type": "code",
   "execution_count": 4,
   "metadata": {
    "execution": {
     "iopub.execute_input": "2023-10-20T17:49:02.763598Z",
     "iopub.status.busy": "2023-10-20T17:49:02.763469Z",
     "iopub.status.idle": "2023-10-20T17:49:02.786915Z",
     "shell.execute_reply": "2023-10-20T17:49:02.786264Z",
     "shell.execute_reply.started": "2023-10-20T17:49:02.763588Z"
    }
   },
   "outputs": [
    {
     "name": "stdout",
     "output_type": "stream",
     "text": [
      "X[0]=array([ 36.214493, 347.719116, 322.088898, 312.230957, 314.851013,\n",
      "       315.487213, 313.556702, 326.534973, 141.288971, 167.606689,\n",
      "       199.321594, 217.911087, 226.443298, 235.002472, 252.354492,\n",
      "       270.045654, 291.665161, 350.934723,  17.892815,  20.281025,\n",
      "        28.207161,  43.883423,  53.459026])\n",
      "Y[0]='a'\n"
     ]
    }
   ],
   "source": [
    "print(f\"{X[0]=}\\n{Y[0]=}\")"
   ]
  },
  {
   "cell_type": "markdown",
   "metadata": {},
   "source": [
    "Lors de l'acquisition, un stylo intelligent a pris des mesures régulièrement dans le temps: chaque période correspond à un segment de droite et le stylo a calculé l'angle entre deux segments consécutifs... C'est l'information qui vous est fournie.\n",
    "\n",
    "Pour afficher une lettre, il faut reconstruire la trajectoire enregistrée... C'est ce que fait la méthode `utils.draw_letter(array,titre)` : "
   ]
  },
  {
   "cell_type": "code",
   "execution_count": 5,
   "metadata": {
    "execution": {
     "iopub.execute_input": "2023-10-20T17:49:02.788305Z",
     "iopub.status.busy": "2023-10-20T17:49:02.787944Z",
     "iopub.status.idle": "2023-10-20T17:49:03.020127Z",
     "shell.execute_reply": "2023-10-20T17:49:03.019590Z",
     "shell.execute_reply.started": "2023-10-20T17:49:02.788289Z"
    }
   },
   "outputs": [
    {
     "data": {
      "image/png": "[encoded data removed]",
      "text/plain": [
       "<Figure size 200x200 with 1 Axes>"
      ]
     },
     "metadata": {},
     "output_type": "display_data"
    },
    {
     "data": {
      "image/png": "[encoded data removed]",
      "text/plain": [
       "<Figure size 200x200 with 1 Axes>"
      ]
     },
     "metadata": {},
     "output_type": "display_data"
    }
   ],
   "source": [
    "utils.draw_char(X[0],f\"exemple de '{Y[0]}'\")\n",
    "utils.draw_char(X[50],f\"exemple de '{Y[50]}'\")"
   ]
  },
  {
   "cell_type": "markdown",
   "metadata": {},
   "source": [
    "##  Apprentissage d'un modèle CM (max de vraisemblance)\n",
    "### 1. Discrétisation\n",
    "\n",
    "**1 état = 1 angle**\n",
    "\n",
    "Il est nécessaire de regrouper les angles en un nombre fini d'états (par exemple 20)\n",
    "- définir un `intervalle = 360 / n_etats`\n",
    "- discrétiser tous les signaux à l'aide de la formule `np.floor(x / intervalle)`\n",
    "\n",
    "Donner dams `tme6.py` le code de la méthode `discretise(x, d)` qui prend la liste des signaux et retourne une liste de signaux discrétisés."
   ]
  },
  {
   "cell_type": "code",
   "execution_count": 6,
   "metadata": {
    "execution": {
     "iopub.execute_input": "2023-10-20T17:49:03.021108Z",
     "iopub.status.busy": "2023-10-20T17:49:03.020781Z",
     "iopub.status.idle": "2023-10-20T17:49:03.029792Z",
     "shell.execute_reply": "2023-10-20T17:49:03.029445Z",
     "shell.execute_reply.started": "2023-10-20T17:49:03.021093Z"
    }
   },
   "outputs": [
    {
     "name": "stdout",
     "output_type": "stream",
     "text": [
      "Xd[0]=array([0., 2., 2., 2., 2., 2., 2., 2., 1., 1., 1., 1., 1., 1., 2., 2., 2.,\n",
      "       2., 0., 0., 0., 0., 0.])\n"
     ]
    }
   ],
   "source": [
    "Xd=tme6.discretise(X, 3)\n",
    "print(f\"{Xd[0]=}\")"
   ]
  },
  {
   "cell_type": "markdown",
   "metadata": {},
   "source": [
    "### 2. Regrouper les indices des signaux par classe (pour faciliter l'apprentissage)"
   ]
  },
  {
   "cell_type": "markdown",
   "metadata": {},
   "source": [
    "Cette méthode produit simplement un dictionnaire du type {lettre:np.array()}: Chaque np.array de clé c regroupe les indices de signaux correspondant à la classe c"
   ]
  },
  {
   "cell_type": "code",
   "execution_count": 7,
   "metadata": {
    "execution": {
     "iopub.execute_input": "2023-10-20T17:49:03.030434Z",
     "iopub.status.busy": "2023-10-20T17:49:03.030304Z",
     "iopub.status.idle": "2023-10-20T17:49:03.056111Z",
     "shell.execute_reply": "2023-10-20T17:49:03.055314Z",
     "shell.execute_reply.started": "2023-10-20T17:49:03.030422Z"
    },
    "scrolled": true
   },
   "outputs": [
    {
     "data": {
      "text/plain": [
       "{'a': array([ 0,  1,  2,  3,  4,  5,  6,  7,  8,  9, 10], dtype=int64),\n",
       " 'b': array([11, 12, 13, 14, 15, 16, 17, 18, 19, 20, 21], dtype=int64),\n",
       " 'c': array([22, 23, 24, 25, 26, 27, 28, 29, 30, 31, 32], dtype=int64),\n",
       " 'd': array([33, 34, 35, 36, 37, 38, 39, 40, 41, 42, 43], dtype=int64),\n",
       " 'e': array([44, 45, 46, 47, 48, 49, 50, 51, 52, 53, 54], dtype=int64),\n",
       " 'f': array([55, 56, 57, 58, 59, 60, 61, 62, 63, 64, 65], dtype=int64),\n",
       " 'g': array([66, 67, 68, 69, 70, 71, 72, 73, 74, 75, 76], dtype=int64),\n",
       " 'h': array([77, 78, 79, 80, 81, 82, 83, 84, 85, 86, 87], dtype=int64),\n",
       " 'i': array([88, 89, 90, 91, 92, 93, 94, 95, 96, 97], dtype=int64),\n",
       " 'j': array([ 98,  99, 100, 101, 102, 103, 104, 105, 106, 107], dtype=int64),\n",
       " 'k': array([108, 109, 110, 111, 112, 113, 114, 115, 116, 117], dtype=int64),\n",
       " 'l': array([118, 119, 120, 121, 122, 123, 124, 125, 126, 127], dtype=int64),\n",
       " 'm': array([128, 129, 130, 131, 132, 133, 134, 135, 136, 137], dtype=int64),\n",
       " 'n': array([138, 139, 140, 141, 142, 143, 144, 145, 146, 147], dtype=int64),\n",
       " 'o': array([148, 149, 150, 151, 152, 153, 154, 155, 156, 157], dtype=int64),\n",
       " 'p': array([158, 159, 160, 161, 162, 163, 164, 165, 166, 167], dtype=int64),\n",
       " 'q': array([168, 169, 170, 171, 172, 173, 174, 175, 176, 177], dtype=int64),\n",
       " 'r': array([178, 179, 180, 181, 182, 183, 184, 185, 186, 187], dtype=int64),\n",
       " 's': array([188, 189, 190, 191, 192, 193, 194, 195, 196, 197], dtype=int64),\n",
       " 't': array([198, 199, 200, 201, 202, 203, 204, 205, 206, 207], dtype=int64),\n",
       " 'u': array([208, 209, 210, 211, 212, 213, 214, 215, 216, 217], dtype=int64),\n",
       " 'v': array([218, 219, 220, 221, 222, 223, 224, 225, 226, 227], dtype=int64),\n",
       " 'w': array([228, 229, 230, 231, 232, 233, 234, 235, 236, 237], dtype=int64),\n",
       " 'x': array([238, 239, 240, 241, 242, 243, 244, 245, 246, 247], dtype=int64),\n",
       " 'y': array([248, 249, 250, 251, 252, 253, 254, 255, 256, 257], dtype=int64),\n",
       " 'z': array([258, 259, 260, 261, 262, 263, 264, 265, 266, 267], dtype=int64)}"
      ]
     },
     "execution_count": 7,
     "metadata": {},
     "output_type": "execute_result"
    }
   ],
   "source": [
    "groups=tme6.groupByLabel(Y)\n",
    "groups"
   ]
  },
  {
   "cell_type": "markdown",
   "metadata": {},
   "source": [
    "### 3. Apprendre les modèles CM\n",
    "\n",
    "Soit {$X$} la liste des signaux correspondant à une classe {$C$} et {$d$} le nombre d'états. Donner le code de la fonction `learnMarkovModel(X, d)` qui discrétise {$X$} retourne un tuple contenant Pi et A.\n",
    "\n",
    "Rappel:\n",
    "- Initialisation de \n",
    "```python\n",
    " A = np.zeros((d, d))\n",
    " Pi = np.zeros(d)```\n",
    "- Parcours de tous les signaux et incréments de A et Pi\n",
    "- Normalisation (un peu réfléchie pour éviter les divisions par 0)\n",
    "```python\n",
    "A = A / np.maximum(A.sum(1).reshape(d, 1), 1) # normalisation\n",
    "Pi = Pi / Pi.sum()```\n",
    "\n",
    "**Note** : la solution proposée pour gérer le cas des lignes entièrement à 0 est naïve et n'est pas totalement satisfaisante. Comprendre pourquoi. On proposera une solution améliorée plus loin dans le TME. "
   ]
  },
  {
   "cell_type": "code",
   "execution_count": 8,
   "metadata": {
    "execution": {
     "iopub.execute_input": "2023-10-20T17:49:03.060758Z",
     "iopub.status.busy": "2023-10-20T17:49:03.059884Z",
     "iopub.status.idle": "2023-10-20T17:49:03.078556Z",
     "shell.execute_reply": "2023-10-20T17:49:03.077676Z",
     "shell.execute_reply.started": "2023-10-20T17:49:03.060724Z"
    }
   },
   "outputs": [
    {
     "name": "stdout",
     "output_type": "stream",
     "text": [
      "Pi_a=array([0.36363636, 0.        , 0.63636364])\n",
      "A_a=array([[0.84444444, 0.06666667, 0.08888889],\n",
      "       [0.        , 0.83333333, 0.16666667],\n",
      "       [0.11382114, 0.06504065, 0.82113821]])\n",
      "\n",
      "Pi_q=array([0.2, 0.8, 0. ])\n",
      "A_q=array([[0.61290323, 0.12903226, 0.25806452],\n",
      "       [0.        , 0.64705882, 0.35294118],\n",
      "       [0.10416667, 0.        , 0.89583333]])\n"
     ]
    }
   ],
   "source": [
    "\n",
    "Pi_a,A_a=tme6.learnMarkovModel([X[i] for i in groups['a']],3)\n",
    "\n",
    "print(f\"{Pi_a=}\\n{A_a=}\")\n",
    "\n",
    "print()\n",
    "\n",
    "Pi_q,A_q=tme6.learnMarkovModel([X[i] for i in groups['q']],3)\n",
    "print(f\"{Pi_q=}\\n{A_q=}\")"
   ]
  },
  {
   "cell_type": "markdown",
   "metadata": {},
   "source": [
    "### 4. Stocker les modèles dans un dictionnaire\n",
    "\n",
    "Pour un usage ultérieur plus facile, on stocke tous les modèles dans un dictionnaire `lettre:(Pi,A)`. Écrire la fonction `learn_all_MarkovModels(X,Y,d)` qui construit ce dictionnaire avec une discrétisation en d classes. \n",
    "\n",
    "Remarque : cette fonction discrétise les données, groupes les données par classe et applique l'apprentissage de la chaîne de Markov sur chaque classe"
   ]
  },
  {
   "cell_type": "code",
   "execution_count": 9,
   "metadata": {
    "execution": {
     "iopub.execute_input": "2023-10-20T17:49:03.079610Z",
     "iopub.status.busy": "2023-10-20T17:49:03.079418Z",
     "iopub.status.idle": "2023-10-20T17:49:03.096677Z",
     "shell.execute_reply": "2023-10-20T17:49:03.096260Z",
     "shell.execute_reply.started": "2023-10-20T17:49:03.079593Z"
    },
    "scrolled": true
   },
   "outputs": [
    {
     "name": "stdout",
     "output_type": "stream",
     "text": [
      "models['a']=(array([0.36363636, 0.        , 0.63636364]), array([[0.84444444, 0.06666667, 0.08888889],\n",
      "       [0.        , 0.83333333, 0.16666667],\n",
      "       [0.11382114, 0.06504065, 0.82113821]]))\n",
      "\n",
      "models['q']=(array([0.2, 0.8, 0. ]), array([[0.61290323, 0.12903226, 0.25806452],\n",
      "       [0.        , 0.64705882, 0.35294118],\n",
      "       [0.10416667, 0.        , 0.89583333]]))\n"
     ]
    }
   ],
   "source": [
    "models=tme6.learn_all_MarkovModels(X,Y,3)\n",
    "\n",
    "print(f\"{models['a']=}\\n\\n{models['q']=}\")"
   ]
  },
  {
   "cell_type": "markdown",
   "metadata": {},
   "source": [
    "## Stationnarité des CM apprises"
   ]
  },
  {
   "cell_type": "markdown",
   "metadata": {},
   "source": [
    "### 5. Stationnarité par plusieurs méthodes"
   ]
  },
  {
   "cell_type": "markdown",
   "metadata": {},
   "source": [
    "Pour calculer la loi stationnaire (en supposant l'ergodicité), on propose 3 méthodes:\n",
    "\n",
    "1- on considère la fréquence de chacun des états dans la base discrétisées (mauvaise méthode).\n",
    "\n",
    "2- on considère la marche aléatoire (par échantillonnage) comme amenant en un certain nombre ($N$) d'étapes à une approximation de la loi stationnaire\n",
    "\n",
    "3- on calcul le point fixe de l'équation $P=A.P$ "
   ]
  },
  {
   "cell_type": "markdown",
   "metadata": {
    "execution": {
     "iopub.execute_input": "2023-10-20T14:08:00.356235Z",
     "iopub.status.busy": "2023-10-20T14:08:00.355759Z",
     "iopub.status.idle": "2023-10-20T14:08:00.377390Z",
     "shell.execute_reply": "2023-10-20T14:08:00.375601Z",
     "shell.execute_reply.started": "2023-10-20T14:08:00.356199Z"
    }
   },
   "source": [
    "#### 5.1 Écrire `stationary_distribution_freq(Xd,d)` qui utilise la (mauvaise) première méthode"
   ]
  },
  {
   "cell_type": "code",
   "execution_count": 19,
   "metadata": {
    "execution": {
     "iopub.execute_input": "2023-10-20T17:49:03.097451Z",
     "iopub.status.busy": "2023-10-20T17:49:03.097297Z",
     "iopub.status.idle": "2023-10-20T17:49:03.111712Z",
     "shell.execute_reply": "2023-10-20T17:49:03.111287Z",
     "shell.execute_reply.started": "2023-10-20T17:49:03.097438Z"
    },
    "scrolled": true
   },
   "outputs": [
    {
     "data": {
      "text/plain": [
       "array([0.22857143, 0.26938776, 0.50204082])"
      ]
     },
     "execution_count": 19,
     "metadata": {},
     "output_type": "execute_result"
    }
   ],
   "source": [
    "tme6.stationary_distribution_freq([Xd[i] for i in groups['a']],3)"
   ]
  },
  {
   "cell_type": "markdown",
   "metadata": {},
   "source": [
    "#### 5.2 Écrire `stationary_distribution_sampling(pi,A,N)` qui utilise la marche aléatoire en N étapes "
   ]
  },
  {
   "cell_type": "code",
   "execution_count": 20,
   "metadata": {
    "execution": {
     "iopub.execute_input": "2023-10-20T17:49:03.112482Z",
     "iopub.status.busy": "2023-10-20T17:49:03.112330Z",
     "iopub.status.idle": "2023-10-20T17:49:23.434979Z",
     "shell.execute_reply": "2023-10-20T17:49:23.434154Z",
     "shell.execute_reply.started": "2023-10-20T17:49:03.112469Z"
    }
   },
   "outputs": [
    {
     "ename": "TypeError",
     "evalue": "stationary_distribution_sampling() got multiple values for argument 'N'",
     "output_type": "error",
     "traceback": [
      "\u001b[1;31m---------------------------------------------------------------------------\u001b[0m",
      "\u001b[1;31mTypeError\u001b[0m                                 Traceback (most recent call last)",
      "Input \u001b[1;32mIn [20]\u001b[0m, in \u001b[0;36m<cell line: 1>\u001b[1;34m()\u001b[0m\n\u001b[1;32m----> 1\u001b[0m \u001b[43mget_ipython\u001b[49m\u001b[43m(\u001b[49m\u001b[43m)\u001b[49m\u001b[38;5;241;43m.\u001b[39;49m\u001b[43mrun_cell_magic\u001b[49m\u001b[43m(\u001b[49m\u001b[38;5;124;43m'\u001b[39;49m\u001b[38;5;124;43mtimeit\u001b[39;49m\u001b[38;5;124;43m'\u001b[39;49m\u001b[43m,\u001b[49m\u001b[43m \u001b[49m\u001b[38;5;124;43m'\u001b[39;49m\u001b[38;5;124;43m-n 2\u001b[39;49m\u001b[38;5;124;43m'\u001b[39;49m\u001b[43m,\u001b[49m\u001b[43m \u001b[49m\u001b[38;5;124;43m\"\u001b[39;49m\u001b[38;5;124;43mprint(tme6.stationary_distribution_sampling(*models[\u001b[39;49m\u001b[38;5;124;43m'\u001b[39;49m\u001b[38;5;124;43ma\u001b[39;49m\u001b[38;5;124;43m'\u001b[39;49m\u001b[38;5;124;43m],N=100000))\u001b[39;49m\u001b[38;5;130;43;01m\\n\u001b[39;49;00m\u001b[38;5;124;43m\"\u001b[39;49m\u001b[43m)\u001b[49m\n",
      "File \u001b[1;32mC:\\Python\\Python310\\lib\\site-packages\\IPython\\core\\interactiveshell.py:2358\u001b[0m, in \u001b[0;36mInteractiveShell.run_cell_magic\u001b[1;34m(self, magic_name, line, cell)\u001b[0m\n\u001b[0;32m   2356\u001b[0m \u001b[38;5;28;01mwith\u001b[39;00m \u001b[38;5;28mself\u001b[39m\u001b[38;5;241m.\u001b[39mbuiltin_trap:\n\u001b[0;32m   2357\u001b[0m     args \u001b[38;5;241m=\u001b[39m (magic_arg_s, cell)\n\u001b[1;32m-> 2358\u001b[0m     result \u001b[38;5;241m=\u001b[39m fn(\u001b[38;5;241m*\u001b[39margs, \u001b[38;5;241m*\u001b[39m\u001b[38;5;241m*\u001b[39mkwargs)\n\u001b[0;32m   2359\u001b[0m \u001b[38;5;28;01mreturn\u001b[39;00m result\n",
      "File \u001b[1;32mC:\\Python\\Python310\\lib\\site-packages\\IPython\\core\\magics\\execution.py:1166\u001b[0m, in \u001b[0;36mExecutionMagics.timeit\u001b[1;34m(self, line, cell, local_ns)\u001b[0m\n\u001b[0;32m   1163\u001b[0m         \u001b[38;5;28;01mif\u001b[39;00m time_number \u001b[38;5;241m>\u001b[39m\u001b[38;5;241m=\u001b[39m \u001b[38;5;241m0.2\u001b[39m:\n\u001b[0;32m   1164\u001b[0m             \u001b[38;5;28;01mbreak\u001b[39;00m\n\u001b[1;32m-> 1166\u001b[0m all_runs \u001b[38;5;241m=\u001b[39m \u001b[43mtimer\u001b[49m\u001b[38;5;241;43m.\u001b[39;49m\u001b[43mrepeat\u001b[49m\u001b[43m(\u001b[49m\u001b[43mrepeat\u001b[49m\u001b[43m,\u001b[49m\u001b[43m \u001b[49m\u001b[43mnumber\u001b[49m\u001b[43m)\u001b[49m\n\u001b[0;32m   1167\u001b[0m best \u001b[38;5;241m=\u001b[39m \u001b[38;5;28mmin\u001b[39m(all_runs) \u001b[38;5;241m/\u001b[39m number\n\u001b[0;32m   1168\u001b[0m worst \u001b[38;5;241m=\u001b[39m \u001b[38;5;28mmax\u001b[39m(all_runs) \u001b[38;5;241m/\u001b[39m number\n",
      "File \u001b[1;32mC:\\Python\\Python310\\lib\\timeit.py:206\u001b[0m, in \u001b[0;36mTimer.repeat\u001b[1;34m(self, repeat, number)\u001b[0m\n\u001b[0;32m    204\u001b[0m r \u001b[38;5;241m=\u001b[39m []\n\u001b[0;32m    205\u001b[0m \u001b[38;5;28;01mfor\u001b[39;00m i \u001b[38;5;129;01min\u001b[39;00m \u001b[38;5;28mrange\u001b[39m(repeat):\n\u001b[1;32m--> 206\u001b[0m     t \u001b[38;5;241m=\u001b[39m \u001b[38;5;28;43mself\u001b[39;49m\u001b[38;5;241;43m.\u001b[39;49m\u001b[43mtimeit\u001b[49m\u001b[43m(\u001b[49m\u001b[43mnumber\u001b[49m\u001b[43m)\u001b[49m\n\u001b[0;32m    207\u001b[0m     r\u001b[38;5;241m.\u001b[39mappend(t)\n\u001b[0;32m    208\u001b[0m \u001b[38;5;28;01mreturn\u001b[39;00m r\n",
      "File \u001b[1;32mC:\\Python\\Python310\\lib\\site-packages\\IPython\\core\\magics\\execution.py:156\u001b[0m, in \u001b[0;36mTimer.timeit\u001b[1;34m(self, number)\u001b[0m\n\u001b[0;32m    154\u001b[0m gc\u001b[38;5;241m.\u001b[39mdisable()\n\u001b[0;32m    155\u001b[0m \u001b[38;5;28;01mtry\u001b[39;00m:\n\u001b[1;32m--> 156\u001b[0m     timing \u001b[38;5;241m=\u001b[39m \u001b[38;5;28;43mself\u001b[39;49m\u001b[38;5;241;43m.\u001b[39;49m\u001b[43minner\u001b[49m\u001b[43m(\u001b[49m\u001b[43mit\u001b[49m\u001b[43m,\u001b[49m\u001b[43m \u001b[49m\u001b[38;5;28;43mself\u001b[39;49m\u001b[38;5;241;43m.\u001b[39;49m\u001b[43mtimer\u001b[49m\u001b[43m)\u001b[49m\n\u001b[0;32m    157\u001b[0m \u001b[38;5;28;01mfinally\u001b[39;00m:\n\u001b[0;32m    158\u001b[0m     \u001b[38;5;28;01mif\u001b[39;00m gcold:\n",
      "File \u001b[1;32m<magic-timeit>:1\u001b[0m, in \u001b[0;36minner\u001b[1;34m(_it, _timer)\u001b[0m\n",
      "\u001b[1;31mTypeError\u001b[0m: stationary_distribution_sampling() got multiple values for argument 'N'"
     ]
    }
   ],
   "source": [
    "%%timeit -n 2\n",
    "print(tme6.stationary_distribution_sampling(*models['a'],N=100000))"
   ]
  },
  {
   "cell_type": "markdown",
   "metadata": {},
   "source": [
    "#### 5.3 Écrire `stationary_distribution_fixed_point(A,epsilon)` qui calcule (à epsilon) le point fixe de A\n",
    "\n",
    "PS- on utilisera l'erreur quadratique entre 2 vecteurs pour le test de convergence : `np.square(np.subtract(A, B)).mean()`"
   ]
  },
  {
   "cell_type": "code",
   "execution_count": 93,
   "metadata": {
    "execution": {
     "iopub.execute_input": "2023-10-20T17:49:23.436966Z",
     "iopub.status.busy": "2023-10-20T17:49:23.436586Z",
     "iopub.status.idle": "2023-10-20T17:49:23.470663Z",
     "shell.execute_reply": "2023-10-20T17:49:23.469851Z",
     "shell.execute_reply.started": "2023-10-20T17:49:23.436936Z"
    }
   },
   "outputs": [
    {
     "name": "stdout",
     "output_type": "stream",
     "text": [
      "[0.30307308 0.28281524 0.41411167]\n",
      "[0.30307308 0.28281524 0.41411167]\n",
      "[0.30307308 0.28281524 0.41411167]\n",
      "[0.30307308 0.28281524 0.41411167]\n",
      "[0.30307308 0.28281524 0.41411167]\n",
      "[0.30307308 0.28281524 0.41411167]\n",
      "[0.30307308 0.28281524 0.41411167]\n",
      "[0.30307308 0.28281524 0.41411167]\n",
      "[0.30307308 0.28281524 0.41411167]\n",
      "[0.30307308 0.28281524 0.41411167]\n",
      "[0.30307308 0.28281524 0.41411167]\n",
      "[0.30307308 0.28281524 0.41411167]\n",
      "[0.30307308 0.28281524 0.41411167]\n",
      "[0.30307308 0.28281524 0.41411167]\n",
      "413 µs ± 59.1 µs per loop (mean ± std. dev. of 7 runs, 2 loops each)\n"
     ]
    }
   ],
   "source": [
    "%%timeit -n 2\n",
    "print(tme6.stationary_distribution_fixed_point(models['a'][1],epsilon=1e-10))"
   ]
  },
  {
   "cell_type": "markdown",
   "metadata": {},
   "source": [
    "#### 5.4 Écrire `stationary_distribution_fixed_point_VP(A,epsilon)` qui calcule le point fixe de A en calculant le vecteur propre associé à la valeur propre 1 de $\\boldsymbol{A}^T$\n"
   ]
  },
  {
   "cell_type": "code",
   "execution_count": 10,
   "metadata": {},
   "outputs": [
    {
     "name": "stdout",
     "output_type": "stream",
     "text": [
      "[array([0.3030303 , 0.28282828, 0.41414141])]\n"
     ]
    }
   ],
   "source": [
    "#print(tme6.stationary_distribution_fixed_point_VP(models['a'][1]))\n",
    "print(tme6.stationary_distribution_fixed_point_VP(models['a']))"
   ]
  },
  {
   "cell_type": "markdown",
   "metadata": {},
   "source": [
    "##  Inférence :  classificartion de séquences (affectation dans les classes sur critère MV)\n",
    "### 1. (log)Vraisemblance d'une séquence dans un modèle\n",
    "\n",
    "Donner le code de la méthode `logL_Sequence(s,Pi,A)` qui retourne la log-vraisemblance (likelihood) d'une séquence `s` sachant le modèle {$\\lambda=\\{Pi,A\\}$} "
   ]
  },
  {
   "cell_type": "code",
   "execution_count": 23,
   "metadata": {
    "execution": {
     "iopub.execute_input": "2023-10-20T17:49:23.471915Z",
     "iopub.status.busy": "2023-10-20T17:49:23.471651Z",
     "iopub.status.idle": "2023-10-20T17:49:23.505312Z",
     "shell.execute_reply": "2023-10-20T17:49:23.504496Z",
     "shell.execute_reply.started": "2023-10-20T17:49:23.471894Z"
    },
    "scrolled": true
   },
   "outputs": [
    {
     "data": {
      "text/plain": [
       "{'a': -13.491085999932636,\n",
       " 'b': -inf,\n",
       " 'c': -inf,\n",
       " 'd': -inf,\n",
       " 'e': -inf,\n",
       " 'f': -inf,\n",
       " 'g': -inf,\n",
       " 'h': -inf,\n",
       " 'i': -inf,\n",
       " 'j': -inf,\n",
       " 'k': -inf,\n",
       " 'l': -inf,\n",
       " 'm': -inf,\n",
       " 'n': -inf,\n",
       " 'o': -inf,\n",
       " 'p': -inf,\n",
       " 'q': -inf,\n",
       " 'r': -inf,\n",
       " 's': -inf,\n",
       " 't': -inf,\n",
       " 'u': -inf,\n",
       " 'v': -inf,\n",
       " 'w': -inf,\n",
       " 'x': -inf,\n",
       " 'y': -inf,\n",
       " 'z': -12.482856781808646}"
      ]
     },
     "execution_count": 23,
     "metadata": {},
     "output_type": "execute_result"
    }
   ],
   "source": [
    "{k:tme6.logL_Sequence(Xd[0],*models[k]) for k in models}"
   ]
  },
  {
   "cell_type": "markdown",
   "metadata": {},
   "source": [
    "- Le signal Xd[0] est-il bien classé ?\n",
    "- D'où viennent tous les `-inf` ? "
   ]
  },
  {
   "cell_type": "markdown",
   "metadata": {},
   "source": [
    "### 2. Application de la méthode précédente pour tous les signaux et tous les modèles de lettres\n",
    "\n",
    "L'application se fait en une ligne de code si vous avez respecté les spécifications précédentes : "
   ]
  },
  {
   "cell_type": "code",
   "execution_count": 26,
   "metadata": {
    "execution": {
     "iopub.execute_input": "2023-10-20T17:49:23.506672Z",
     "iopub.status.busy": "2023-10-20T17:49:23.506372Z",
     "iopub.status.idle": "2023-10-20T17:49:23.718676Z",
     "shell.execute_reply": "2023-10-20T17:49:23.717643Z",
     "shell.execute_reply.started": "2023-10-20T17:49:23.506647Z"
    }
   },
   "outputs": [
    {
     "name": "stdout",
     "output_type": "stream",
     "text": [
      "[[-13.491086   -10.38325849 -10.70816592 ... -18.3696345  -13.74527613\n",
      "  -20.59178751]\n",
      " [        -inf         -inf         -inf ...         -inf         -inf\n",
      "          -inf]\n",
      " [        -inf         -inf         -inf ...         -inf         -inf\n",
      "          -inf]\n",
      " ...\n",
      " [        -inf         -inf         -inf ...         -inf         -inf\n",
      "          -inf]\n",
      " [        -inf         -inf         -inf ...         -inf         -inf\n",
      "          -inf]\n",
      " [-12.48285678         -inf         -inf ... -14.76870842 -11.9972425\n",
      "  -17.91075189]]\n"
     ]
    }
   ],
   "source": [
    "ll = tme6.compute_all_ll(Xd,models,Y)\n",
    "print(ll)"
   ]
  },
  {
   "cell_type": "markdown",
   "metadata": {},
   "source": [
    "### 3. Évaluation des performances\n",
    "\n",
    "Pour l'évaluation, nous proposons l'approche suivante: compter le nombre de fois où la classe prédit par max de vraisemblance est la même que la 'vraie' classe et rendre ce décompte sous forme de pourcentage."
   ]
  },
  {
   "cell_type": "code",
   "execution_count": 30,
   "metadata": {
    "execution": {
     "iopub.execute_input": "2023-10-20T17:49:23.720725Z",
     "iopub.status.busy": "2023-10-20T17:49:23.720028Z",
     "iopub.status.idle": "2023-10-20T17:49:24.022345Z",
     "shell.execute_reply": "2023-10-20T17:49:24.021630Z",
     "shell.execute_reply.started": "2023-10-20T17:49:23.720694Z"
    }
   },
   "outputs": [
    {
     "name": "stdout",
     "output_type": "stream",
     "text": [
      "0.6902985074626866\n",
      "0.914179104477612\n"
     ]
    }
   ],
   "source": [
    "print(tme6.accuracy(ll,Y))\n",
    "print(tme6.accuracy(tme6.compute_all_ll(tme6.discretise(X, 20),\n",
    "                                    tme6.learn_all_MarkovModels(X,Y,20),Y),\n",
    "                    Y))"
   ]
  },
  {
   "cell_type": "markdown",
   "metadata": {},
   "source": [
    "**INDICE DE PERFORMANCE :** 91% de bonne classification avec 20 états, 69% avec 3 états"
   ]
  },
  {
   "cell_type": "markdown",
   "metadata": {},
   "source": [
    "Si vous êtes prêt à attendre un peu, vous pouvez augmenter la valeur de max"
   ]
  },
  {
   "cell_type": "code",
   "execution_count": 32,
   "metadata": {
    "execution": {
     "iopub.execute_input": "2023-10-20T17:49:24.024207Z",
     "iopub.status.busy": "2023-10-20T17:49:24.023553Z",
     "iopub.status.idle": "2023-10-20T17:49:27.929175Z",
     "shell.execute_reply": "2023-10-20T17:49:27.928212Z",
     "shell.execute_reply.started": "2023-10-20T17:49:24.024172Z"
    },
    "scrolled": true
   },
   "outputs": [
    {
     "data": {
      "text/plain": [
       "[<matplotlib.lines.Line2D at 0x17c479f55a0>]"
      ]
     },
     "execution_count": 32,
     "metadata": {},
     "output_type": "execute_result"
    },
    {
     "data": {
      "image/png": "[encoded data removed]",
      "text/plain": [
       "<Figure size 640x480 with 1 Axes>"
      ]
     },
     "metadata": {},
     "output_type": "display_data"
    }
   ],
   "source": [
    "max=50\n",
    "plt.plot(range(3,max),[tme6.accuracy(tme6.compute_all_ll(tme6.discretise(X, k),\n",
    "                                    tme6.learn_all_MarkovModels(X,Y,k),Y),\n",
    "                    Y) for k in range(3,max)])"
   ]
  },
  {
   "cell_type": "markdown",
   "metadata": {},
   "source": [
    "## Biais d'évaluation, notion de sur-apprentissage\n",
    "\n",
    "Dans le protocole précédent, nous avons triché:\n",
    "- les données servent d'abord à apprendre les modèles...\n",
    "- puis nous nous servons des mêmes données pour tester les modèles ! Les performances sont forcément bonnes ! \n",
    "\n",
    "Afin de palier le problème, nous allons diviser en deux la base de données: une partie servira à l'apprentissage des modèles, l'autre à leur évaluation. Pour effectuer la division, nous fournissons le code suivant: "
   ]
  },
  {
   "cell_type": "code",
   "execution_count": 33,
   "metadata": {},
   "outputs": [],
   "source": [
    "# exemple d'utilisation\n",
    "X_train, X_test, ytrain, ytest = utils.separeTrainTest(X, Y, 0.8)"
   ]
  },
  {
   "cell_type": "markdown",
   "metadata": {},
   "source": [
    "## Questions importantes\n",
    "- Ré-utiliser les fonctions précédemment définies pour apprendre des modèles et les évaluer sans biais.\n",
    "- Calculer et analyser les résultats obtenus en apprentissage et en test\n",
    "- Etudier l'évolution des performances en fonction de la discrétisation"
   ]
  },
  {
   "cell_type": "code",
   "execution_count": 35,
   "metadata": {},
   "outputs": [
    {
     "name": "stdout",
     "output_type": "stream",
     "text": [
      "Score en apprentissage: scoreApp=0.9375\n",
      "Score en test: scoreTest=0.2833333333333333\n"
     ]
    }
   ],
   "source": [
    "d=20\n",
    "learn_models=tme6.learn_all_MarkovModels(X_train,ytrain,d)\n",
    "#print(f\"{learn_models['a']=}\")\n",
    "#print(f\"{learn_models['q']=}\")\n",
    "#print(\"-----------------------\")\n",
    "\n",
    "Xd_train=tme6.discretise(X_train,d)\n",
    "Xd_test=tme6.discretise(X_test,d)\n",
    "\n",
    "llApp=tme6.compute_all_ll(Xd_train,learn_models, Y)\n",
    "llTest=tme6.compute_all_ll(Xd_test,learn_models, Y)\n",
    "\n",
    "scoreApp=tme6.accuracy(llApp,ytrain)\n",
    "scoreTest=tme6.accuracy(llTest,ytest)\n",
    "\n",
    "print(f\"Score en apprentissage: {scoreApp=}\")\n",
    "print(f\"Score en test: {scoreTest=}\")"
   ]
  },
  {
   "cell_type": "markdown",
   "metadata": {},
   "source": [
    "## Lutter contre le sur-apprentissage\n",
    "Cette base de données met en lumière le phénomène de sur-apprentissage : il y a peu de données et dès que le nombre d'états augmente, il y a trop peu d'exemple pour estimer correctement les matrices {$A, \\pi$}. De nombreuses cases sont donc à 0, voire des lignes entières (d'où la sécurisation du code pour la normalisation des matrices stochastiques).\n",
    "\n",
    "Ces 0 sont particulièrement discriminants: considérant la classe {$c$}, ils permettent d'éliminer de cette classe tout signal présentant cette caractéristique. Cette règle est trop forte compte tenu de la taille de la base d'apprentissage. Nous proposons une astuce pour palier cette faiblesse : lors du comptage, initialiser les matrices {$A, \\pi$} avec ones au lieu de zeros . On fait semblant d'avoir observer une transition de chaque type avant même le début du comptage.\n",
    "\n",
    "Comparer les performances en test."
   ]
  },
  {
   "cell_type": "code",
   "execution_count": 101,
   "metadata": {
    "scrolled": true
   },
   "outputs": [
    {
     "name": "stdout",
     "output_type": "stream",
     "text": [
      "Score en apprentissage : scoreApp=0.9375\n",
      "Score en test : scoreTest=0.2833333333333333\n",
      "Score en apprentissage : scoreApp=0.8413461538461539\n",
      "Score en test : scoreTest=0.6666666666666666\n"
     ]
    }
   ],
   "source": [
    "d=20\n",
    "\n",
    "learn_models=tme6.learn_all_MarkovModels(X_train,ytrain,d)\n",
    "\n",
    "Xd_train=tme6.discretise(X_train,d)\n",
    "Xd_test=tme6.discretise(X_test,d)\n",
    "\n",
    "llApp=tme6.compute_all_ll(Xd_train,learn_models, Y)\n",
    "llTest=tme6.compute_all_ll(Xd_test,learn_models, Y)\n",
    "\n",
    "scoreApp=tme6.accuracy(llApp,ytrain)\n",
    "scoreTest=tme6.accuracy(llTest,ytest)\n",
    "\n",
    "print(f\"Score en apprentissage : {scoreApp=}\")\n",
    "print(f\"Score en test : {scoreTest=}\")\n",
    "\n",
    "\n",
    "learn_models=tme6.learn_all_MarkovModels_Laplace(X_train,ytrain,d)\n",
    "\n",
    "\n",
    "llApp=tme6.compute_all_ll(Xd_train,learn_models)\n",
    "llTest=tme6.compute_all_ll(Xd_test,learn_models)\n",
    "\n",
    "scoreApp=tme6.accuracy(llApp,ytrain)\n",
    "scoreTest=tme6.accuracy(llTest,ytest)\n",
    "\n",
    "print(f\"Score en apprentissage : {scoreApp=}\")\n",
    "print(f\"Score en test : {scoreTest=}\")\n"
   ]
  },
  {
   "cell_type": "markdown",
   "metadata": {},
   "source": [
    "### Accuracy en train/test avec modèle régularisé "
   ]
  },
  {
   "cell_type": "code",
   "execution_count": 36,
   "metadata": {
    "execution": {
     "iopub.execute_input": "2023-10-20T17:49:28.668612Z",
     "iopub.status.busy": "2023-10-20T17:49:28.668475Z",
     "iopub.status.idle": "2023-10-20T17:49:54.376444Z",
     "shell.execute_reply": "2023-10-20T17:49:54.375808Z",
     "shell.execute_reply.started": "2023-10-20T17:49:28.668601Z"
    },
    "scrolled": true
   },
   "outputs": [
    {
     "ename": "AttributeError",
     "evalue": "module 'tme6' has no attribute 'learn_all_MarkovModels_Laplace'",
     "output_type": "error",
     "traceback": [
      "\u001b[1;31m---------------------------------------------------------------------------\u001b[0m",
      "\u001b[1;31mAttributeError\u001b[0m                            Traceback (most recent call last)",
      "Input \u001b[1;32mIn [36]\u001b[0m, in \u001b[0;36m<cell line: 4>\u001b[1;34m()\u001b[0m\n\u001b[0;32m      1\u001b[0m \u001b[38;5;28mmin\u001b[39m\u001b[38;5;241m=\u001b[39m\u001b[38;5;241m3\u001b[39m\n\u001b[0;32m      2\u001b[0m \u001b[38;5;28mmax\u001b[39m\u001b[38;5;241m=\u001b[39m\u001b[38;5;241m50\u001b[39m\n\u001b[1;32m----> 4\u001b[0m acc_reg_train \u001b[38;5;241m=\u001b[39m [tme6\u001b[38;5;241m.\u001b[39maccuracy(tme6\u001b[38;5;241m.\u001b[39mcompute_all_ll(tme6\u001b[38;5;241m.\u001b[39mdiscretise(X_train,k),\n\u001b[0;32m      5\u001b[0m                     tme6\u001b[38;5;241m.\u001b[39mlearn_all_MarkovModels_Laplace(X_train,ytrain,k),Y),ytrain) \n\u001b[0;32m      6\u001b[0m                          \u001b[38;5;28;01mfor\u001b[39;00m k \u001b[38;5;129;01min\u001b[39;00m \u001b[38;5;28mrange\u001b[39m(\u001b[38;5;28mmin\u001b[39m,\u001b[38;5;28mmax\u001b[39m)]\n\u001b[0;32m      8\u001b[0m acc_reg_test \u001b[38;5;241m=\u001b[39m [tme6\u001b[38;5;241m.\u001b[39maccuracy(tme6\u001b[38;5;241m.\u001b[39mcompute_all_ll(tme6\u001b[38;5;241m.\u001b[39mdiscretise(X_test,k),\n\u001b[0;32m      9\u001b[0m                     tme6\u001b[38;5;241m.\u001b[39mlearn_all_MarkovModels_Laplace(X_train,ytrain,k),Y),ytest) \n\u001b[0;32m     10\u001b[0m                         \u001b[38;5;28;01mfor\u001b[39;00m k \u001b[38;5;129;01min\u001b[39;00m \u001b[38;5;28mrange\u001b[39m(\u001b[38;5;28mmin\u001b[39m,\u001b[38;5;28mmax\u001b[39m)]\n\u001b[0;32m     12\u001b[0m plt\u001b[38;5;241m.\u001b[39mplot(\u001b[38;5;28mrange\u001b[39m(\u001b[38;5;241m3\u001b[39m,\u001b[38;5;28mmax\u001b[39m),acc_reg_train)\n",
      "Input \u001b[1;32mIn [36]\u001b[0m, in \u001b[0;36m<listcomp>\u001b[1;34m(.0)\u001b[0m\n\u001b[0;32m      1\u001b[0m \u001b[38;5;28mmin\u001b[39m\u001b[38;5;241m=\u001b[39m\u001b[38;5;241m3\u001b[39m\n\u001b[0;32m      2\u001b[0m \u001b[38;5;28mmax\u001b[39m\u001b[38;5;241m=\u001b[39m\u001b[38;5;241m50\u001b[39m\n\u001b[0;32m      4\u001b[0m acc_reg_train \u001b[38;5;241m=\u001b[39m [tme6\u001b[38;5;241m.\u001b[39maccuracy(tme6\u001b[38;5;241m.\u001b[39mcompute_all_ll(tme6\u001b[38;5;241m.\u001b[39mdiscretise(X_train,k),\n\u001b[1;32m----> 5\u001b[0m                     \u001b[43mtme6\u001b[49m\u001b[38;5;241;43m.\u001b[39;49m\u001b[43mlearn_all_MarkovModels_Laplace\u001b[49m(X_train,ytrain,k),Y),ytrain) \n\u001b[0;32m      6\u001b[0m                          \u001b[38;5;28;01mfor\u001b[39;00m k \u001b[38;5;129;01min\u001b[39;00m \u001b[38;5;28mrange\u001b[39m(\u001b[38;5;28mmin\u001b[39m,\u001b[38;5;28mmax\u001b[39m)]\n\u001b[0;32m      8\u001b[0m acc_reg_test \u001b[38;5;241m=\u001b[39m [tme6\u001b[38;5;241m.\u001b[39maccuracy(tme6\u001b[38;5;241m.\u001b[39mcompute_all_ll(tme6\u001b[38;5;241m.\u001b[39mdiscretise(X_test,k),\n\u001b[0;32m      9\u001b[0m                     tme6\u001b[38;5;241m.\u001b[39mlearn_all_MarkovModels_Laplace(X_train,ytrain,k),Y),ytest) \n\u001b[0;32m     10\u001b[0m                         \u001b[38;5;28;01mfor\u001b[39;00m k \u001b[38;5;129;01min\u001b[39;00m \u001b[38;5;28mrange\u001b[39m(\u001b[38;5;28mmin\u001b[39m,\u001b[38;5;28mmax\u001b[39m)]\n\u001b[0;32m     12\u001b[0m plt\u001b[38;5;241m.\u001b[39mplot(\u001b[38;5;28mrange\u001b[39m(\u001b[38;5;241m3\u001b[39m,\u001b[38;5;28mmax\u001b[39m),acc_reg_train)\n",
      "\u001b[1;31mAttributeError\u001b[0m: module 'tme6' has no attribute 'learn_all_MarkovModels_Laplace'"
     ]
    }
   ],
   "source": [
    "min=3\n",
    "max=50\n",
    "\n",
    "acc_reg_train = [tme6.accuracy(tme6.compute_all_ll(tme6.discretise(X_train,k),\n",
    "                    tme6.learn_all_MarkovModels_Laplace(X_train,ytrain,k),Y),ytrain) \n",
    "                         for k in range(min,max)]\n",
    "\n",
    "acc_reg_test = [tme6.accuracy(tme6.compute_all_ll(tme6.discretise(X_test,k),\n",
    "                    tme6.learn_all_MarkovModels_Laplace(X_train,ytrain,k),Y),ytest) \n",
    "                        for k in range(min,max)]\n",
    "\n",
    "plt.plot(range(3,max),acc_reg_train)\n",
    "plt.plot(range(3,max),acc_reg_test)\n",
    "plt.legend([\"Acc Train\", \"Acc Test\"]) "
   ]
  },
  {
   "cell_type": "markdown",
   "metadata": {},
   "source": [
    "### Accuracy en train/test avec modèle non régularisé "
   ]
  },
  {
   "cell_type": "code",
   "execution_count": 37,
   "metadata": {
    "execution": {
     "iopub.execute_input": "2023-10-20T17:49:28.668612Z",
     "iopub.status.busy": "2023-10-20T17:49:28.668475Z",
     "iopub.status.idle": "2023-10-20T17:49:54.376444Z",
     "shell.execute_reply": "2023-10-20T17:49:54.375808Z",
     "shell.execute_reply.started": "2023-10-20T17:49:28.668601Z"
    },
    "scrolled": true
   },
   "outputs": [
    {
     "data": {
      "text/plain": [
       "<matplotlib.legend.Legend at 0x17c47add060>"
      ]
     },
     "execution_count": 37,
     "metadata": {},
     "output_type": "execute_result"
    },
    {
     "data": {
      "image/png": "[encoded data removed]",
      "text/plain": [
       "<Figure size 640x480 with 1 Axes>"
      ]
     },
     "metadata": {},
     "output_type": "display_data"
    }
   ],
   "source": [
    "acc_unreg_train = [tme6.accuracy(tme6.compute_all_ll(tme6.discretise(X_train,k),\n",
    "                    tme6.learn_all_MarkovModels(X_train,ytrain,k),Y),ytrain) \n",
    "                         for k in range(min,max)]\n",
    "\n",
    "acc_unreg_test = [tme6.accuracy(tme6.compute_all_ll(tme6.discretise(X_test,k),\n",
    "                    tme6.learn_all_MarkovModels(X_train,ytrain,k),Y),ytest) \n",
    "                        for k in range(min,max)]\n",
    "\n",
    "plt.plot(range(3,max),acc_unreg_train)\n",
    "plt.plot(range(3,max),acc_unreg_test)\n",
    "plt.legend([\"Acc Train\", \"Acc Test\"]) "
   ]
  },
  {
   "cell_type": "markdown",
   "metadata": {},
   "source": [
    "# Partie optionnelle\n",
    "## Evaluation qualitative\n",
    "\n",
    "Nous nous demandons maintenant où se trouvent les erreurs que nous avons commises...\n",
    "\n",
    "Calcul de la matrice de confusion: pour chaque échantillon de test, nous avons une prédiction (issue du modèle) et une vérité terrain (la vraie étiquette). En posant Nc le nombre de classes, la matrice de confusion est une matrice (Nc x Nc) où nous comptons le nombre d'échantillon de test dans chaque catégorie :\n",
    "\n",
    "- Initialisation à 0 : "
   ]
  },
  {
   "cell_type": "markdown",
   "metadata": {},
   "source": [
    "- Pour chaque échantillon, incrément de la case (prediction, vérité)"
   ]
  },
  {
   "cell_type": "markdown",
   "metadata": {},
   "source": [
    "- Tracé de la matrice : "
   ]
  },
  {
   "cell_type": "code",
   "execution_count": 105,
   "metadata": {
    "execution": {
     "iopub.execute_input": "2023-10-20T17:49:54.378239Z",
     "iopub.status.busy": "2023-10-20T17:49:54.378095Z",
     "iopub.status.idle": "2023-10-20T17:49:55.236107Z",
     "shell.execute_reply": "2023-10-20T17:49:55.235368Z",
     "shell.execute_reply.started": "2023-10-20T17:49:54.378228Z"
    }
   },
   "outputs": [
    {
     "name": "stdout",
     "output_type": "stream",
     "text": [
      "accuracy apprentissage = 84.13461538461539\n",
      "accuracy test = 66.66666666666666\n"
     ]
    },
    {
     "data": {
      "image/png": "[encoded data removed]",
      "text/plain": [
       "<Figure size 432x288 with 2 Axes>"
      ]
     },
     "metadata": {
      "needs_background": "light"
     },
     "output_type": "display_data"
    },
    {
     "data": {
      "image/png": "[encoded data removed]",
      "text/plain": [
       "<Figure size 432x288 with 2 Axes>"
      ]
     },
     "metadata": {
      "needs_background": "light"
     },
     "output_type": "display_data"
    }
   ],
   "source": [
    "d=20 \n",
    "X_train, X_test, ytrain, ytest = utils.separeTrainTest(X, Y, 0.8)\n",
    "\n",
    "learn_models=tme6.learn_all_MarkovModels_Laplace(X_train,ytrain,d)\n",
    "Xd_train=tme6.discretise(X_train,d)\n",
    "llApp=tme6.compute_all_ll(Xd_train,learn_models)\n",
    "Xd_test=tme6.discretise(X_test,d)\n",
    "llTest=tme6.compute_all_ll(Xd_test,learn_models)\n",
    "\n",
    "tme6.confusion_matrix(llApp,ytrain,\"apprentissage\")\n",
    "tme6.confusion_matrix(llTest,ytest,\"test\")"
   ]
  }
 ],
 "metadata": {
  "kernelspec": {
   "display_name": "Python 3 (ipykernel)",
   "language": "python",
   "name": "python3"
  },
  "language_info": {
   "codemirror_mode": {
    "name": "ipython",
    "version": 3
   },
   "file_extension": ".py",
   "mimetype": "text/x-python",
   "name": "python",
   "nbconvert_exporter": "python",
   "pygments_lexer": "ipython3",
   "version": "3.10.6"
  }
 },
 "nbformat": 4,
 "nbformat_minor": 4
}
